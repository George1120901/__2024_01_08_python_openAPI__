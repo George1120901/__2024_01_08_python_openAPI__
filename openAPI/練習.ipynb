{
 "cells": [
  {
   "cell_type": "markdown",
   "metadata": {},
   "source": [
    "### pico板\n",
    "每10秒,儲存一次\n",
    "\n",
    "### fast_api\n",
    "多一個節點->https://xxxxxxxxxxx/temperature/xxxxxx\n",
    "\n",
    "### redis\n",
    "儲存一個key的名稱 board:temp\n",
    "交程式和錄影檔"
   ]
  },
  {
   "cell_type": "code",
   "execution_count": null,
   "metadata": {},
   "outputs": [],
   "source": [
    "# pico板 -每10秒,傳送訊息一次\n",
    "\n",
    "from tools import connect, reconnect\n",
    "from machine import ADC, Pin, Timer\n",
    "import time\n",
    "import urequests\n",
    "\n",
    "connect()\n",
    "adc = ADC(4)\n",
    "conversion_factor = 3.3/65535\n",
    "\n",
    "def aboard_temp(temp):\n",
    "    reading_v = adc.read_u16() * conversion_factor\n",
    "    celsius = round(27 - (reading_v-0.706) / 0.001721,2)\n",
    "    url_str = f'https: // webServer-xxxx.onrender.com/temperature/{celsius}'\n",
    "    try:\n",
    "        response = urequests.get(url_str)\n",
    "    except:\n",
    "        print(\"ap出現問題\")\n",
    "        reconnect()\n",
    "    else:\n",
    "        if response.status_code == 200:\n",
    "            print(\"傳送訊息成功\")\n",
    "        else:\n",
    "            print(\"傳送失敗(make服務出問題)\")\n",
    "        response.close()\n",
    "\n",
    "\n",
    "tim10 = Timer()\n",
    "tim10.init(period=10*1000, callback=aboard_temp)\n"
   ]
  },
  {
   "cell_type": "code",
   "execution_count": 1,
   "metadata": {},
   "outputs": [],
   "source": [
    "# fast_api - 多一個節點 -> https: // xxxxxxxxxxx/temperature/xxxxxx\n",
    "# redis - 儲存一個key的名稱 board: temp\n",
    "\n",
    "from typing import Union\n",
    "from fastapi import FastAPI\n",
    "import redis\n",
    "import os\n",
    "from dotenv import load_dotenv\n",
    "\n",
    "celsius=27\n",
    "load_dotenv()\n",
    "redis_conn = redis.Redis.from_url(os.environ.get('REDIS_HOST_PASSWORD'))\n",
    "redis_conn.set('board:temp', celsius)\n",
    "\n",
    "app = FastAPI()\n",
    "\n",
    "@app.get(\"/\")\n",
    "def read_root():\n",
    "    return {\"pico_w\": \"temperture\"}\n",
    "\n",
    "\n",
    "@app.get(\"/temperature/{celsius}\")\n",
    "def counter(c: int):\n",
    "    celsius = redis_conn.get('board:temp')\n",
    "    return {\"temperature\": celsius}\n",
    "\n",
    "\n",
    "@app.get(\"/counter/{c}\")\n",
    "def counter(c: int):\n",
    "    counter = redis_conn.incr('test:increment', c)\n",
    "    return {\"Counter\": counter}\n"
   ]
  },
  {
   "cell_type": "code",
   "execution_count": null,
   "metadata": {},
   "outputs": [],
   "source": [
    "# 接收pico_w傳來的資料(溫度、時間)\n",
    "@app.get(\"/temperature/{celsius}/{time}\")\n",
    "def save_temperature(celsius: float, time: str):\n",
    "    redis_conn.set('board:temperature', celsius)\n",
    "    redis_conn.set('board:time', time)\n",
    "    return 'Save successfully'\n",
    "\n",
    "# 顯示溫度頁\n",
    "\n",
    "\n",
    "@app.get(\"/temperature\")\n",
    "def read_temperature():\n",
    "    celsius = redis_conn.get('board:temperature')\n",
    "    time = redis_conn.get('board:time')\n",
    "    return {\"溫度\": celsius, \"時間\": time}\n"
   ]
  }
 ],
 "metadata": {
  "kernelspec": {
   "display_name": "Python 3.8.10 ('.venv': venv)",
   "language": "python",
   "name": "python3"
  },
  "language_info": {
   "codemirror_mode": {
    "name": "ipython",
    "version": 3
   },
   "file_extension": ".py",
   "mimetype": "text/x-python",
   "name": "python",
   "nbconvert_exporter": "python",
   "pygments_lexer": "ipython3",
   "version": "3.8.10"
  },
  "orig_nbformat": 4,
  "vscode": {
   "interpreter": {
    "hash": "348e2552ca3b8fc1ef208e683df93b6ec92e0b9659b9f3e8410328bb0de714ed"
   }
  }
 },
 "nbformat": 4,
 "nbformat_minor": 2
}
