{
 "cells": [
  {
   "cell_type": "code",
   "execution_count": null,
   "metadata": {},
   "outputs": [],
   "source": [
    "#請將以下程式碼,增加:\n",
    "#您還要繼續計算嗎?[按q跳出程式]\n",
    "\n",
    "while True:\n",
    "\n",
    "try:\n",
    "    height = float(input('請輸入身高(公分):'))\n",
    "    print('您的身高:', height, '公分')\n",
    "    weight = float(input('請輸入體重(公斤):'))\n",
    "    print('您的體重:', weight, '公斤')\n",
    "    BMI = weight / (height/100)**2\n",
    "\n",
    "    print('您的BMI值:', BMI)\n",
    "    \n",
    "    if(BMI >= 18.5 and BMI < 24):\n",
    "        print(\"體重正常\")\n",
    "\n",
    "    else:\n",
    "        print(\"體重須注意\")\n",
    "        \n",
    "        if(BMI < 18.5):\n",
    "            print(\"體重過輕\")\n",
    "\n",
    "        elif(BMI >= 24 and BMI < 27):\n",
    "            print(\"體重過重\")\n",
    "\n",
    "        elif(BMI >= 27 and BMI < 30):\n",
    "            print(\"輕度肥胖\")\n",
    "\n",
    "        elif(BMI >= 30 and BMI < 35):\n",
    "            print(\"中度肥胖\")\n",
    "\n",
    "        else:\n",
    "            print(\"重度肥胖\")\n",
    "\n",
    "except:\n",
    "    print(\"輸入錯誤! 請輸入數字!!!\")"
   ]
  },
  {
   "cell_type": "code",
   "execution_count": null,
   "metadata": {},
   "outputs": [],
   "source": [
    "## 練習\n",
    "# 請將以下程式碼,增加:\n",
    "# 您還要繼續計算嗎?[按q跳出程式]\n",
    "\n",
    "while True:\n",
    "\n",
    "try:\n",
    "    height = float(input('請輸入身高(公分):'))\n",
    "    print('您的身高:', height, '公分')\n",
    "    weight = float(input('請輸入體重(公斤):'))\n",
    "    print('您的體重:', weight, '公斤')\n",
    "    BMI = weight / (height/100)**2\n",
    "\n",
    "    print('您的BMI值:', BMI)\n",
    "\n",
    "    if (BMI >= 18.5 and BMI < 24):\n",
    "        print(\"體重正常\")\n",
    "\n",
    "    else:\n",
    "        print(\"體重須注意\")\n",
    "\n",
    "        if (BMI < 18.5):\n",
    "            print(\"體重過輕\")\n",
    "\n",
    "        elif (BMI >= 24 and BMI < 27):\n",
    "            print(\"體重過重\")\n",
    "\n",
    "        elif (BMI >= 27 and BMI < 30):\n",
    "            print(\"輕度肥胖\")\n",
    "\n",
    "        elif (BMI >= 30 and BMI < 35):\n",
    "            print(\"中度肥胖\")\n",
    "\n",
    "        else:\n",
    "            print(\"重度肥胖\")\n",
    "\n",
    "except:\n",
    "    print(\"輸入錯誤! 請輸入數字!!!\")\n"
   ]
  }
 ],
 "metadata": {
  "kernelspec": {
   "display_name": "Python 3.8.10 ('venv': venv)",
   "language": "python",
   "name": "python3"
  },
  "language_info": {
   "name": "python",
   "version": "3.8.10"
  },
  "vscode": {
   "interpreter": {
    "hash": "e7aeb1bf89b76dcc6b5231ffd94f8c0123236e64ff9828208f30653ececef0a8"
   }
  }
 },
 "nbformat": 4,
 "nbformat_minor": 2
}
