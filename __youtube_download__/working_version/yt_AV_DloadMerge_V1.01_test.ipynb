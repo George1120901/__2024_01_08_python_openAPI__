{
 "cells": [
  {
   "cell_type": "markdown",
   "metadata": {},
   "source": [
    "V1.0之測試版"
   ]
  },
  {
   "cell_type": "markdown",
   "metadata": {},
   "source": [
    "#### 原由 : 下載Youtube影片\n",
    "base : ytDloadMergeV0.3.ipynb --> ~2024.06.20止\n",
    "Pytube：Youtube影片下載"
   ]
  },
  {
   "cell_type": "code",
   "execution_count": 1,
   "metadata": {},
   "outputs": [
    {
     "name": "stdout",
     "output_type": "stream",
     "text": [
      "2023_11_20_下午\n",
      "11420\n",
      "徐國堂\n",
      "https://www.youtube.com/channel/UCKd_tuM8M79b1GAwAlTi9ZA\n",
      "https://i.ytimg.com/vi/CFoPy2Q7IwQ/hq720.jpg?sqp=-oaymwEmCIAKENAF8quKqQMa8AEB-AH-CYAC0AWKAgwIABABGFsgWShlMA8=&rs=AOn4CLD53b04ee4b5MTK5nrQ04GgKBdJTA\n",
      "45\n",
      "[<Stream: itag=\"18\" mime_type=\"video/mp4\" res=\"360p\" fps=\"30fps\" vcodec=\"avc1.42001E\" acodec=\"mp4a.40.2\" progressive=\"True\" type=\"video\">, <Stream: itag=\"22\" mime_type=\"video/mp4\" res=\"720p\" fps=\"30fps\" vcodec=\"avc1.64001F\" acodec=\"mp4a.40.2\" progressive=\"True\" type=\"video\">, <Stream: itag=\"137\" mime_type=\"video/mp4\" res=\"1080p\" fps=\"30fps\" vcodec=\"avc1.640028\" progressive=\"False\" type=\"video\">, <Stream: itag=\"136\" mime_type=\"video/mp4\" res=\"720p\" fps=\"30fps\" vcodec=\"avc1.64001f\" progressive=\"False\" type=\"video\">, <Stream: itag=\"134\" mime_type=\"video/mp4\" res=\"360p\" fps=\"30fps\" vcodec=\"avc1.4d401e\" progressive=\"False\" type=\"video\">, <Stream: itag=\"160\" mime_type=\"video/mp4\" res=\"144p\" fps=\"30fps\" vcodec=\"avc1.4d400c\" progressive=\"False\" type=\"video\">, <Stream: itag=\"139\" mime_type=\"audio/mp4\" abr=\"48kbps\" acodec=\"mp4a.40.5\" progressive=\"False\" type=\"audio\">, <Stream: itag=\"140\" mime_type=\"audio/mp4\" abr=\"128kbps\" acodec=\"mp4a.40.2\" progressive=\"False\" type=\"audio\">, <Stream: itag=\"251\" mime_type=\"audio/webm\" abr=\"160kbps\" acodec=\"opus\" progressive=\"False\" type=\"audio\">]\n",
      "9\n",
      "<Stream: itag=\"18\" mime_type=\"video/mp4\" res=\"360p\" fps=\"30fps\" vcodec=\"avc1.42001E\" acodec=\"mp4a.40.2\" progressive=\"True\" type=\"video\">\n",
      "<Stream: itag=\"22\" mime_type=\"video/mp4\" res=\"720p\" fps=\"30fps\" vcodec=\"avc1.64001F\" acodec=\"mp4a.40.2\" progressive=\"True\" type=\"video\">\n",
      "<Stream: itag=\"137\" mime_type=\"video/mp4\" res=\"1080p\" fps=\"30fps\" vcodec=\"avc1.640028\" progressive=\"False\" type=\"video\">\n",
      "<Stream: itag=\"136\" mime_type=\"video/mp4\" res=\"720p\" fps=\"30fps\" vcodec=\"avc1.64001f\" progressive=\"False\" type=\"video\">\n",
      "<Stream: itag=\"134\" mime_type=\"video/mp4\" res=\"360p\" fps=\"30fps\" vcodec=\"avc1.4d401e\" progressive=\"False\" type=\"video\">\n",
      "<Stream: itag=\"160\" mime_type=\"video/mp4\" res=\"144p\" fps=\"30fps\" vcodec=\"avc1.4d400c\" progressive=\"False\" type=\"video\">\n",
      "<Stream: itag=\"139\" mime_type=\"audio/mp4\" abr=\"48kbps\" acodec=\"mp4a.40.5\" progressive=\"False\" type=\"audio\">\n",
      "<Stream: itag=\"140\" mime_type=\"audio/mp4\" abr=\"128kbps\" acodec=\"mp4a.40.2\" progressive=\"False\" type=\"audio\">\n",
      "<Stream: itag=\"251\" mime_type=\"audio/webm\" abr=\"160kbps\" acodec=\"opus\" progressive=\"False\" type=\"audio\">\n"
     ]
    }
   ],
   "source": [
    "# 使用模組\n",
    "from pytube import YouTube\n",
    "\n",
    "url='https://youtube.com/live/CFoPy2Q7IwQ'\n",
    "yt = YouTube(url)  # # 2023_11_20_下午\n",
    "\n",
    "# 影片格式分析\n",
    "print(yt.title)           # 影片標題\n",
    "print(yt.length)          # 影片長度 ( 秒 )\n",
    "print(yt.author)          # 影片作者\n",
    "print(yt.channel_url)     # 影片作者頻道網址\n",
    "print(yt.thumbnail_url)   # 影片縮圖網址\n",
    "print(yt.views)           # 影片觀看數\n",
    "\n",
    "# 分析\n",
    "print(yt.streams)  # 影片支援哪些畫質\n",
    "# print(yt.streams.all())  # all()-->useless\n",
    "print(len(yt.streams))\n",
    "\n",
    "for st in yt.streams:\n",
    "  print(st)\n"
   ]
  },
  {
   "cell_type": "markdown",
   "metadata": {},
   "source": [
    "===============================================================\n",
    "+++++++++++++++++++++++++++++++++++++++++++++++++++++++++++++++\n",
    "年齡限制視頻-->需要進行身份驗證\n",
    "\n",
    "pass"
   ]
  },
  {
   "cell_type": "code",
   "execution_count": 2,
   "metadata": {},
   "outputs": [
    {
     "ename": "RegexMatchError",
     "evalue": "regex_search: could not find match for (?:v=|\\/)([0-9A-Za-z_-]{11}).*",
     "output_type": "error",
     "traceback": [
      "\u001b[1;31m---------------------------------------------------------------------------\u001b[0m",
      "\u001b[1;31mRegexMatchError\u001b[0m                           Traceback (most recent call last)",
      "Cell \u001b[1;32mIn[2], line 5\u001b[0m\n\u001b[0;32m      2\u001b[0m \u001b[38;5;28;01mfrom\u001b[39;00m \u001b[38;5;21;01mpytube\u001b[39;00m \u001b[38;5;28;01mimport\u001b[39;00m YouTube\n\u001b[0;32m      4\u001b[0m url\u001b[38;5;241m=\u001b[39m\u001b[38;5;124m'\u001b[39m\u001b[38;5;124mhttps://www.youtube.com/watch?v=xtLoaMfinb\u001b[39m\u001b[38;5;124m'\u001b[39m\n\u001b[1;32m----> 5\u001b[0m yt \u001b[38;5;241m=\u001b[39m \u001b[43mYouTube\u001b[49m\u001b[43m(\u001b[49m\u001b[43murl\u001b[49m\u001b[43m)\u001b[49m  \u001b[38;5;66;03m# # 2023_11_20_下午\u001b[39;00m\n\u001b[0;32m      7\u001b[0m \u001b[38;5;66;03m# 影片格式分析\u001b[39;00m\n\u001b[0;32m      8\u001b[0m \u001b[38;5;28mprint\u001b[39m(yt\u001b[38;5;241m.\u001b[39mtitle)           \u001b[38;5;66;03m# 影片標題\u001b[39;00m\n",
      "File \u001b[1;32mc:\\Users\\Lu\\Documents\\GitHub\\__2024_01_08_python_openAPI__\\__youtube_download__\\yt.venv\\lib\\site-packages\\pytube\\__main__.py:71\u001b[0m, in \u001b[0;36mYouTube.__init__\u001b[1;34m(self, url, on_progress_callback, on_complete_callback, proxies, use_oauth, allow_oauth_cache)\u001b[0m\n\u001b[0;32m     68\u001b[0m \u001b[38;5;28mself\u001b[39m\u001b[38;5;241m.\u001b[39m_metadata: Optional[YouTubeMetadata] \u001b[38;5;241m=\u001b[39m \u001b[38;5;28;01mNone\u001b[39;00m\n\u001b[0;32m     70\u001b[0m \u001b[38;5;66;03m# video_id part of /watch?v=<video_id>\u001b[39;00m\n\u001b[1;32m---> 71\u001b[0m \u001b[38;5;28mself\u001b[39m\u001b[38;5;241m.\u001b[39mvideo_id \u001b[38;5;241m=\u001b[39m \u001b[43mextract\u001b[49m\u001b[38;5;241;43m.\u001b[39;49m\u001b[43mvideo_id\u001b[49m\u001b[43m(\u001b[49m\u001b[43murl\u001b[49m\u001b[43m)\u001b[49m\n\u001b[0;32m     73\u001b[0m \u001b[38;5;28mself\u001b[39m\u001b[38;5;241m.\u001b[39mwatch_url \u001b[38;5;241m=\u001b[39m \u001b[38;5;124mf\u001b[39m\u001b[38;5;124m\"\u001b[39m\u001b[38;5;124mhttps://youtube.com/watch?v=\u001b[39m\u001b[38;5;132;01m{\u001b[39;00m\u001b[38;5;28mself\u001b[39m\u001b[38;5;241m.\u001b[39mvideo_id\u001b[38;5;132;01m}\u001b[39;00m\u001b[38;5;124m\"\u001b[39m\n\u001b[0;32m     74\u001b[0m \u001b[38;5;28mself\u001b[39m\u001b[38;5;241m.\u001b[39membed_url \u001b[38;5;241m=\u001b[39m \u001b[38;5;124mf\u001b[39m\u001b[38;5;124m\"\u001b[39m\u001b[38;5;124mhttps://www.youtube.com/embed/\u001b[39m\u001b[38;5;132;01m{\u001b[39;00m\u001b[38;5;28mself\u001b[39m\u001b[38;5;241m.\u001b[39mvideo_id\u001b[38;5;132;01m}\u001b[39;00m\u001b[38;5;124m\"\u001b[39m\n",
      "File \u001b[1;32mc:\\Users\\Lu\\Documents\\GitHub\\__2024_01_08_python_openAPI__\\__youtube_download__\\yt.venv\\lib\\site-packages\\pytube\\extract.py:133\u001b[0m, in \u001b[0;36mvideo_id\u001b[1;34m(url)\u001b[0m\n\u001b[0;32m    118\u001b[0m \u001b[38;5;28;01mdef\u001b[39;00m \u001b[38;5;21mvideo_id\u001b[39m(url: \u001b[38;5;28mstr\u001b[39m) \u001b[38;5;241m-\u001b[39m\u001b[38;5;241m>\u001b[39m \u001b[38;5;28mstr\u001b[39m:\n\u001b[0;32m    119\u001b[0m \u001b[38;5;250m    \u001b[39m\u001b[38;5;124;03m\"\"\"Extract the ``video_id`` from a YouTube url.\u001b[39;00m\n\u001b[0;32m    120\u001b[0m \n\u001b[0;32m    121\u001b[0m \u001b[38;5;124;03m    This function supports the following patterns:\u001b[39;00m\n\u001b[1;32m   (...)\u001b[0m\n\u001b[0;32m    131\u001b[0m \u001b[38;5;124;03m        YouTube video id.\u001b[39;00m\n\u001b[0;32m    132\u001b[0m \u001b[38;5;124;03m    \"\"\"\u001b[39;00m\n\u001b[1;32m--> 133\u001b[0m     \u001b[38;5;28;01mreturn\u001b[39;00m \u001b[43mregex_search\u001b[49m\u001b[43m(\u001b[49m\u001b[38;5;124;43mr\u001b[39;49m\u001b[38;5;124;43m\"\u001b[39;49m\u001b[38;5;124;43m(?:v=|\u001b[39;49m\u001b[38;5;124;43m\\\u001b[39;49m\u001b[38;5;124;43m/)([0-9A-Za-z_-]\u001b[39;49m\u001b[38;5;132;43;01m{11}\u001b[39;49;00m\u001b[38;5;124;43m).*\u001b[39;49m\u001b[38;5;124;43m\"\u001b[39;49m\u001b[43m,\u001b[49m\u001b[43m \u001b[49m\u001b[43murl\u001b[49m\u001b[43m,\u001b[49m\u001b[43m \u001b[49m\u001b[43mgroup\u001b[49m\u001b[38;5;241;43m=\u001b[39;49m\u001b[38;5;241;43m1\u001b[39;49m\u001b[43m)\u001b[49m\n",
      "File \u001b[1;32mc:\\Users\\Lu\\Documents\\GitHub\\__2024_01_08_python_openAPI__\\__youtube_download__\\yt.venv\\lib\\site-packages\\pytube\\helpers.py:129\u001b[0m, in \u001b[0;36mregex_search\u001b[1;34m(pattern, string, group)\u001b[0m\n\u001b[0;32m    127\u001b[0m results \u001b[38;5;241m=\u001b[39m regex\u001b[38;5;241m.\u001b[39msearch(string)\n\u001b[0;32m    128\u001b[0m \u001b[38;5;28;01mif\u001b[39;00m \u001b[38;5;129;01mnot\u001b[39;00m results:\n\u001b[1;32m--> 129\u001b[0m     \u001b[38;5;28;01mraise\u001b[39;00m RegexMatchError(caller\u001b[38;5;241m=\u001b[39m\u001b[38;5;124m\"\u001b[39m\u001b[38;5;124mregex_search\u001b[39m\u001b[38;5;124m\"\u001b[39m, pattern\u001b[38;5;241m=\u001b[39mpattern)\n\u001b[0;32m    131\u001b[0m logger\u001b[38;5;241m.\u001b[39mdebug(\u001b[38;5;124m\"\u001b[39m\u001b[38;5;124mmatched regex search: \u001b[39m\u001b[38;5;132;01m%s\u001b[39;00m\u001b[38;5;124m\"\u001b[39m, pattern)\n\u001b[0;32m    133\u001b[0m \u001b[38;5;28;01mreturn\u001b[39;00m results\u001b[38;5;241m.\u001b[39mgroup(group)\n",
      "\u001b[1;31mRegexMatchError\u001b[0m: regex_search: could not find match for (?:v=|\\/)([0-9A-Za-z_-]{11}).*"
     ]
    }
   ],
   "source": [
    "# 使用模組\n",
    "from pytube import YouTube\n",
    "\n",
    "url='https://www.youtube.com/watch?v=xtLoaMfinb'\n",
    "yt = YouTube(url)  # # 2023_11_20_下午\n",
    "\n",
    "# 影片格式分析\n",
    "print(yt.title)           # 影片標題\n",
    "print(yt.length)          # 影片長度 ( 秒 )\n",
    "print(yt.author)          # 影片作者\n",
    "print(yt.channel_url)     # 影片作者頻道網址\n",
    "print(yt.thumbnail_url)   # 影片縮圖網址\n",
    "print(yt.views)           # 影片觀看數\n",
    "\n",
    "# 分析\n",
    "print(yt.streams)  # 影片支援哪些畫質\n",
    "# print(yt.streams.all())  # all()-->useless\n",
    "print(len(yt.streams))\n",
    "\n",
    "for st in yt.streams:\n",
    "  print(st)\n"
   ]
  },
  {
   "cell_type": "code",
   "execution_count": 1,
   "metadata": {},
   "outputs": [
    {
     "name": "stdout",
     "output_type": "stream",
     "text": [
      "標題: Tchaikovsky - The Nutcracker, Ballet in two acts | Mariinsky Theatre (HD 1080p)\n",
      "長度(s): 6210\n",
      "作者: EuroArtsChannel\n",
      "網址: https://www.youtube.com/channel/UCt7SG8q4GUDMLfbkViwkWLQ\n",
      "縮圖網址: https://i.ytimg.com/vi/xtLoaMfinbU/hq720.jpg\n",
      "觀看數: 19062323\n"
     ]
    },
    {
     "ename": "AgeRestrictedError",
     "evalue": "xtLoaMfinbU is age restricted, and can't be accessed without logging in.",
     "output_type": "error",
     "traceback": [
      "\u001b[1;31m---------------------------------------------------------------------------\u001b[0m",
      "\u001b[1;31mAgeRestrictedError\u001b[0m                        Traceback (most recent call last)",
      "Cell \u001b[1;32mIn[1], line 17\u001b[0m\n\u001b[0;32m     14\u001b[0m \u001b[38;5;28mprint\u001b[39m(\u001b[38;5;124mf\u001b[39m\u001b[38;5;124m'\u001b[39m\u001b[38;5;124m觀看數: \u001b[39m\u001b[38;5;132;01m{\u001b[39;00myt\u001b[38;5;241m.\u001b[39mviews\u001b[38;5;132;01m}\u001b[39;00m\u001b[38;5;124m'\u001b[39m)            \u001b[38;5;66;03m# 影片觀看數\u001b[39;00m\n\u001b[0;32m     16\u001b[0m \u001b[38;5;66;03m# 分析\u001b[39;00m\n\u001b[1;32m---> 17\u001b[0m \u001b[38;5;28mprint\u001b[39m(\u001b[38;5;124mf\u001b[39m\u001b[38;5;124m'\u001b[39m\u001b[38;5;124m支援畫質:\u001b[39m\u001b[38;5;132;01m{\u001b[39;00m\u001b[43myt\u001b[49m\u001b[38;5;241;43m.\u001b[39;49m\u001b[43mstreams\u001b[49m\u001b[38;5;132;01m}\u001b[39;00m\u001b[38;5;124m'\u001b[39m)  \u001b[38;5;66;03m# 影片支援哪些畫質\u001b[39;00m\n\u001b[0;32m     18\u001b[0m \u001b[38;5;66;03m# print(yt.streams.all())  # all()-->useless\u001b[39;00m\n\u001b[0;32m     19\u001b[0m \u001b[38;5;28mprint\u001b[39m(\u001b[38;5;124m'\u001b[39m\u001b[38;5;124m影片支援畫質數: \u001b[39m\u001b[38;5;124m'\u001b[39m,\u001b[38;5;28mlen\u001b[39m(yt\u001b[38;5;241m.\u001b[39mstreams))\n",
      "File \u001b[1;32mc:\\Users\\Lu\\Documents\\GitHub\\__2024_01_08_python_openAPI__\\__youtube_download__\\yt.venv\\lib\\site-packages\\pytube\\__main__.py:296\u001b[0m, in \u001b[0;36mYouTube.streams\u001b[1;34m(self)\u001b[0m\n\u001b[0;32m    291\u001b[0m \u001b[38;5;250m\u001b[39m\u001b[38;5;124;03m\"\"\"Interface to query both adaptive (DASH) and progressive streams.\u001b[39;00m\n\u001b[0;32m    292\u001b[0m \n\u001b[0;32m    293\u001b[0m \u001b[38;5;124;03m:rtype: :class:`StreamQuery <StreamQuery>`.\u001b[39;00m\n\u001b[0;32m    294\u001b[0m \u001b[38;5;124;03m\"\"\"\u001b[39;00m\n\u001b[0;32m    295\u001b[0m \u001b[38;5;28mself\u001b[39m\u001b[38;5;241m.\u001b[39mcheck_availability()\n\u001b[1;32m--> 296\u001b[0m \u001b[38;5;28;01mreturn\u001b[39;00m StreamQuery(\u001b[38;5;28;43mself\u001b[39;49m\u001b[38;5;241;43m.\u001b[39;49m\u001b[43mfmt_streams\u001b[49m)\n",
      "File \u001b[1;32mc:\\Users\\Lu\\Documents\\GitHub\\__2024_01_08_python_openAPI__\\__youtube_download__\\yt.venv\\lib\\site-packages\\pytube\\__main__.py:176\u001b[0m, in \u001b[0;36mYouTube.fmt_streams\u001b[1;34m(self)\u001b[0m\n\u001b[0;32m    172\u001b[0m     \u001b[38;5;28;01mreturn\u001b[39;00m \u001b[38;5;28mself\u001b[39m\u001b[38;5;241m.\u001b[39m_fmt_streams\n\u001b[0;32m    174\u001b[0m \u001b[38;5;28mself\u001b[39m\u001b[38;5;241m.\u001b[39m_fmt_streams \u001b[38;5;241m=\u001b[39m []\n\u001b[1;32m--> 176\u001b[0m stream_manifest \u001b[38;5;241m=\u001b[39m extract\u001b[38;5;241m.\u001b[39mapply_descrambler(\u001b[38;5;28;43mself\u001b[39;49m\u001b[38;5;241;43m.\u001b[39;49m\u001b[43mstreaming_data\u001b[49m)\n\u001b[0;32m    178\u001b[0m \u001b[38;5;66;03m# If the cached js doesn't work, try fetching a new js file\u001b[39;00m\n\u001b[0;32m    179\u001b[0m \u001b[38;5;66;03m# https://github.com/pytube/pytube/issues/1054\u001b[39;00m\n\u001b[0;32m    180\u001b[0m \u001b[38;5;28;01mtry\u001b[39;00m:\n",
      "File \u001b[1;32mc:\\Users\\Lu\\Documents\\GitHub\\__2024_01_08_python_openAPI__\\__youtube_download__\\yt.venv\\lib\\site-packages\\pytube\\__main__.py:160\u001b[0m, in \u001b[0;36mYouTube.streaming_data\u001b[1;34m(self)\u001b[0m\n\u001b[0;32m    158\u001b[0m     \u001b[38;5;28;01mreturn\u001b[39;00m \u001b[38;5;28mself\u001b[39m\u001b[38;5;241m.\u001b[39mvid_info[\u001b[38;5;124m'\u001b[39m\u001b[38;5;124mstreamingData\u001b[39m\u001b[38;5;124m'\u001b[39m]\n\u001b[0;32m    159\u001b[0m \u001b[38;5;28;01melse\u001b[39;00m:\n\u001b[1;32m--> 160\u001b[0m     \u001b[38;5;28;43mself\u001b[39;49m\u001b[38;5;241;43m.\u001b[39;49m\u001b[43mbypass_age_gate\u001b[49m\u001b[43m(\u001b[49m\u001b[43m)\u001b[49m\n\u001b[0;32m    161\u001b[0m     \u001b[38;5;28;01mreturn\u001b[39;00m \u001b[38;5;28mself\u001b[39m\u001b[38;5;241m.\u001b[39mvid_info[\u001b[38;5;124m'\u001b[39m\u001b[38;5;124mstreamingData\u001b[39m\u001b[38;5;124m'\u001b[39m]\n",
      "File \u001b[1;32mc:\\Users\\Lu\\Documents\\GitHub\\__2024_01_08_python_openAPI__\\__youtube_download__\\yt.venv\\lib\\site-packages\\pytube\\__main__.py:264\u001b[0m, in \u001b[0;36mYouTube.bypass_age_gate\u001b[1;34m(self)\u001b[0m\n\u001b[0;32m    261\u001b[0m \u001b[38;5;66;03m# If we still can't access the video, raise an exception\u001b[39;00m\n\u001b[0;32m    262\u001b[0m \u001b[38;5;66;03m# (tier 3 age restriction)\u001b[39;00m\n\u001b[0;32m    263\u001b[0m \u001b[38;5;28;01mif\u001b[39;00m playability_status \u001b[38;5;241m==\u001b[39m \u001b[38;5;124m'\u001b[39m\u001b[38;5;124mUNPLAYABLE\u001b[39m\u001b[38;5;124m'\u001b[39m:\n\u001b[1;32m--> 264\u001b[0m     \u001b[38;5;28;01mraise\u001b[39;00m exceptions\u001b[38;5;241m.\u001b[39mAgeRestrictedError(\u001b[38;5;28mself\u001b[39m\u001b[38;5;241m.\u001b[39mvideo_id)\n\u001b[0;32m    266\u001b[0m \u001b[38;5;28mself\u001b[39m\u001b[38;5;241m.\u001b[39m_vid_info \u001b[38;5;241m=\u001b[39m innertube_response\n",
      "\u001b[1;31mAgeRestrictedError\u001b[0m: xtLoaMfinbU is age restricted, and can't be accessed without logging in."
     ]
    }
   ],
   "source": [
    "# 使用模組\n",
    "from pytube import YouTube\n",
    "\n",
    "url='https://www.youtube.com/watch?v=xtLoaMfinbU'   # Tchaikovsky - The Nutcracker, Ballet in two acts | Mariinsky Theatre (HD 1080p)\n",
    "#柴可夫斯基 - 胡桃鉗，兩幕芭蕾舞 |馬林斯基劇院（高清 1080p）\n",
    "yt = YouTube(url)\n",
    "\n",
    "# 影片格式分析\n",
    "print(f'標題: {yt.title}')              # 影片標題\n",
    "print(f'長度(s): {yt.length}')          # 影片長度 ( 秒 )\n",
    "print(f'作者: {yt.author}')             # 影片作者\n",
    "print(f'網址: {yt.channel_url}')        # 影片作者頻道網址\n",
    "print(f'縮圖網址: {yt.thumbnail_url}')  # 影片縮圖網址\n",
    "print(f'觀看數: {yt.views}')            # 影片觀看數\n",
    "\n",
    "# 分析\n",
    "print(f'支援畫質:{yt.streams}')  # 影片支援哪些畫質\n",
    "# print(yt.streams.all())  # all()-->useless\n",
    "print('影片支援畫質數: ',len(yt.streams))\n",
    "\n",
    "for st in yt.streams:\n",
    "  print(st)\n"
   ]
  },
  {
   "cell_type": "markdown",
   "metadata": {},
   "source": []
  },
  {
   "cell_type": "markdown",
   "metadata": {},
   "source": [
    "pass\n",
    "年齡限制視頻-->需要進行身份驗證\n",
    "++++++++++  ~ End ~ +++++++++++++++++\n",
    "================================================================="
   ]
  },
  {
   "cell_type": "markdown",
   "metadata": {},
   "source": [
    "+++++++++++++++++++++++++++++++++++++++++++++++++++++++++++++++++++\n",
    "####  可成功完成 vedio+audio 之 merage\n",
    " ((基本式樣)+(ubprocess.TimeoutExpired檢查)+(增加執行內容信息))\n",
    " + 如果嘗試用 UTF-8 解碼失敗，使用 CP950 解碼\n"
   ]
  },
  {
   "cell_type": "code",
   "execution_count": 7,
   "metadata": {},
   "outputs": [
    {
     "name": "stdout",
     "output_type": "stream",
     "text": [
      "標題:  2023_11_10_早上\n",
      "長度 ( 秒 ):  11430\n",
      "作者:  徐國堂\n",
      "作者頻道網址:  https://www.youtube.com/channel/UCKd_tuM8M79b1GAwAlTi9ZA\n",
      "縮圖網址:  https://i.ytimg.com/vi/lRY9hvVHfFE/hq720.jpg?sqp=-oaymwEmCIAKENAF8quKqQMa8AEB-AH-CYAC0AWKAgwIABABGGUgZShlMA8=&rs=AOn4CLACy_JWV-WYQ8YufCqYpAie6b8ZSg\n",
      "觀看數:  22\n",
      "9\n",
      "<Stream: itag=\"18\" mime_type=\"video/mp4\" res=\"360p\" fps=\"30fps\" vcodec=\"avc1.42001E\" acodec=\"mp4a.40.2\" progressive=\"True\" type=\"video\">\n",
      "<Stream: itag=\"22\" mime_type=\"video/mp4\" res=\"720p\" fps=\"30fps\" vcodec=\"avc1.64001F\" acodec=\"mp4a.40.2\" progressive=\"True\" type=\"video\">\n",
      "<Stream: itag=\"137\" mime_type=\"video/mp4\" res=\"1080p\" fps=\"30fps\" vcodec=\"avc1.640028\" progressive=\"False\" type=\"video\">\n",
      "<Stream: itag=\"136\" mime_type=\"video/mp4\" res=\"720p\" fps=\"30fps\" vcodec=\"avc1.64001f\" progressive=\"False\" type=\"video\">\n",
      "<Stream: itag=\"134\" mime_type=\"video/mp4\" res=\"360p\" fps=\"30fps\" vcodec=\"avc1.4d401e\" progressive=\"False\" type=\"video\">\n",
      "<Stream: itag=\"160\" mime_type=\"video/mp4\" res=\"144p\" fps=\"30fps\" vcodec=\"avc1.4d400c\" progressive=\"False\" type=\"video\">\n",
      "<Stream: itag=\"139\" mime_type=\"audio/mp4\" abr=\"48kbps\" acodec=\"mp4a.40.5\" progressive=\"False\" type=\"audio\">\n",
      "<Stream: itag=\"140\" mime_type=\"audio/mp4\" abr=\"128kbps\" acodec=\"mp4a.40.2\" progressive=\"False\" type=\"audio\">\n",
      "<Stream: itag=\"251\" mime_type=\"audio/webm\" abr=\"160kbps\" acodec=\"opus\" progressive=\"False\" type=\"audio\">\n",
      "media格式分析完成\n",
      "downdloading of video & audio .....\n",
      "python_2023_11_10_早上_itag(137)完成\n",
      "python_2023_11_10_早上_itag(140)完成\n",
      "downdload完成\n",
      "執行命令: ffmpeg -i C:/Users/Lu/Documents/youtube/python_2023_11_10_早上_itag(137).mp4 -i C:/Users/Lu/Documents/youtube/python_2023_11_10_早上_itag(140).mp4 -c copy -map 0:v -map 1:a C:/Users/Lu/Documents/youtube/python_2023_11_10_早上_itag(merge).mp4\n",
      "合併成功！輸出文件位於: C:/Users/Lu/Documents/youtube/python_2023_11_10_早上_itag(merge).mp4\n",
      "影像&音訊檔案刪除成功,合併完成！\n"
     ]
    }
   ],
   "source": [
    "# V0.4.0 -->完成 (2024.06.15止-->final)\n",
    "from pytube import YouTube\n",
    "import subprocess\n",
    "import os\n",
    "\n",
    "def media_contents(url):\n",
    "    # 影片格式分析\n",
    "    print('標題: ',yt.title)                 # 影片標題\n",
    "    print('長度 ( 秒 ): ',yt.length)         # 影片長度 ( 秒 )\n",
    "    print('作者: ',yt.author)                # 影片作者\n",
    "    print('作者頻道網址: ',yt.channel_url)   # 影片作者頻道網址\n",
    "    print('縮圖網址: ',yt.thumbnail_url)     # 影片縮圖網址\n",
    "    print('觀看數: ',yt.views)               # 影片觀看數\n",
    "\n",
    "    # 分析\n",
    "    #print(yt.streams)  # 影片支援哪些畫質\n",
    "    print('stream數: ',len(yt.streams))\n",
    "\n",
    "    for st in yt.streams:\n",
    "        print(st)\n",
    "    print('media格式分析完成')\n",
    "\n",
    "\n",
    "def download_video_and_audio(url,itag_Vedio,itag_Audio):\n",
    "    print('downdloading of video & audio .....')\n",
    "    itag_List = [itag_Vedio,itag_Audio]\n",
    "    for i in itag_List:\n",
    "        stream = yt.streams.get_by_itag(i)\n",
    "        stream.download(output_path='C:/Users/Lu/Documents/youtube',filename=f'python_{yt.title}_itag({i}).mp4', skip_existing=True, max_retries=0)\n",
    "        print(f'python_{yt.title}_itag({i})完成')\n",
    "    print('downdload完成')\n",
    "\n",
    "\n",
    "def merge_video_and_audio(video_path, audio_path, output_path):\n",
    "    command = [\n",
    "        'ffmpeg',\n",
    "        '-i', video_path,\n",
    "        '-i', audio_path,\n",
    "        '-c', 'copy',\n",
    "        '-map', '0:v',\n",
    "        '-map', '1:a',\n",
    "        output_path\n",
    "    ]\n",
    "    \n",
    "    try:\n",
    "        print(\"執行merge命令:\", ' '.join(command))  # 增加執行內容訊息\n",
    "        result = subprocess.run(command, check=True, stdout=subprocess.PIPE, stderr=subprocess.PIPE, text=True, encoding='utf-8',timeout=60)\n",
    "        print(\"合併成功！輸出文件位於:\", output_path)\n",
    "    except subprocess.CalledProcessError as e:\n",
    "        print(\"ffmpeg合併過程中發生錯誤:\", e)\n",
    "        if e.stderr:\n",
    "            try:\n",
    "                # 嘗試用 UTF-8 解碼\n",
    "                print(\"ffmpeg命令輸出:\", e.stderr)\n",
    "            except UnicodeDecodeError:\n",
    "                # 如果失敗，使用 CP950 解碼\n",
    "                print(\"ffmpeg命令輸出:\", e.stderr.decode(encoding='cp950', errors='ignore'))\n",
    "        else:\n",
    "            print(\"無法獲取 ffmpeg 錯誤輸出。\")\n",
    "    except subprocess.TimeoutExpired as e:\n",
    "        print(\"命令執行超時:\", e)\n",
    "\n",
    "\n",
    "#url = input(\"Enter the url of media : \")   \n",
    "url='https://youtube.com/live/lRY9hvVHfFE'    #ex. 2023_11_10_上午\n",
    "yt = YouTube(url) \n",
    "itag_Audio = 140\n",
    "itag_Vedio = 137 \n",
    "media_contents(url)\n",
    "download_video_and_audio(url,itag_Vedio,itag_Audio)\n",
    "merge_video_and_audio(f'C:/Users/Lu/Documents/youtube/python_{yt.title}_itag({itag_Vedio}).mp4', f'C:/Users/Lu/Documents/youtube/python_{yt.title}_itag({itag_Audio}).mp4', f'C:/Users/Lu/Documents/youtube/python_{yt.title}_itag(merge).mp4')\n",
    "\n",
    "os.remove(f'C:/Users/Lu/Documents/youtube/python_{yt.title}_itag({itag_Vedio}).mp4')\n",
    "os.remove(f'C:/Users/Lu/Documents/youtube/python_{yt.title}_itag({itag_Audio}).mp4')\n",
    "print('合併成功！影像&音訊檔案刪除完成')\n",
    "\n",
    "#<2023_11_10_上午> media 長度 03:10:30 容量大小731,905KB 處理耗時10m 6.4s"
   ]
  },
  {
   "cell_type": "markdown",
   "metadata": {},
   "source": [
    "========================================================================================\n",
    "##### 以下為get_audio_only相關\n"
   ]
  },
  {
   "cell_type": "code",
   "execution_count": 27,
   "metadata": {},
   "outputs": [
    {
     "name": "stdout",
     "output_type": "stream",
     "text": [
      "全名 :  The Best \"Chopin\" Classical Piano Music｜Relaxing Studying Music\n",
      "The Best _Chopin_ Classical Piano Music｜Relaxing Studying Music\n",
      "簡稱 :  The Best _Chopin_ Classical Piano Music\n",
      "downdload < The Best \"Chopin\" Classical Piano Music｜Relaxing Studying Music > 完成\n"
     ]
    }
   ],
   "source": [
    "# V0.6 --> 2024.06.19 final\n",
    "# from V0.42 for test_3.1 for window file formate \n",
    "\n",
    "from pytube import YouTube\n",
    "import re\n",
    "\n",
    "#url = input(\"Enter the url of media : \")   \n",
    "url = 'https://www.youtube.com/watch?v=VBNUwMd_eF4&t=4029s'  # 曲目:蕭邦 一定要聽的鋼琴古典樂 ｜放鬆音樂 讀書 專注 The Best \"Chopin\" Classical Piano Music｜Relaxing Studying Music\n",
    "yt = YouTube(url)   \n",
    "\n",
    "#yt_titles = yt.title\n",
    "print('全名 : ',yt.title)\n",
    "list=['/',':','\"','<','>','\\?','\\*']\n",
    "yt_titles = yt.title\n",
    "for i in list:\n",
    "    yt_title = re.sub(f'{i}','_',yt_titles)\n",
    "    yt_titles = yt_title\n",
    "    # print(i)\n",
    "print(yt_titles)\n",
    "\n",
    "yt_title = re.search(r'[A-Za-z0-9_ ]+',yt_titles).group()\n",
    "# print(yt_titles)\n",
    "print('簡稱 : ',yt_title)\n",
    "\n",
    "yt_audio = yt.streams.filter(abr='128kbps').first()\n",
    "\n",
    "yt_audio.download(output_path='C:/Users/Lu/Documents/youtube',filename=f'yt_audio_{yt_title}.mp4', skip_existing=True, max_retries=0)   #執行ok\n",
    "\n",
    "print(f'downdload < {yt.title} > 完成')"
   ]
  }
 ],
 "metadata": {
  "kernelspec": {
   "display_name": "yt.venv",
   "language": "python",
   "name": "python3"
  },
  "language_info": {
   "codemirror_mode": {
    "name": "ipython",
    "version": 3
   },
   "file_extension": ".py",
   "mimetype": "text/x-python",
   "name": "python",
   "nbconvert_exporter": "python",
   "pygments_lexer": "ipython3",
   "version": "3.10.8"
  }
 },
 "nbformat": 4,
 "nbformat_minor": 2
}
