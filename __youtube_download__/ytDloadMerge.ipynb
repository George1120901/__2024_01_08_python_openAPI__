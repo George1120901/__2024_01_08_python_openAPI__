{
 "cells": [
  {
   "cell_type": "markdown",
   "metadata": {},
   "source": [
    "## 下載Youtube影片\n",
    "Pytube：Youtube影片下載"
   ]
  },
  {
   "cell_type": "code",
   "execution_count": 4,
   "metadata": {},
   "outputs": [
    {
     "name": "stdout",
     "output_type": "stream",
     "text": [
      "2023_11_29_下午\n",
      "10295\n",
      "徐國堂\n",
      "https://www.youtube.com/channel/UCKd_tuM8M79b1GAwAlTi9ZA\n",
      "https://i.ytimg.com/vi/LIRCOYR1t3c/hq720.jpg?sqp=-oaymwEmCIAKENAF8quKqQMa8AEB-AH-CYAC0AWKAgwIABABGFwgWihlMA8=&rs=AOn4CLDw0qthnmbRLkjFLj6mnq6fkjGp8w\n",
      "24\n"
     ]
    },
    {
     "name": "stderr",
     "output_type": "stream",
     "text": [
      "C:\\Users\\Lu\\AppData\\Local\\Temp\\ipykernel_11036\\3070584527.py:17: DeprecationWarning: Call to deprecated function all (This object can be treated as a list, all() is useless).\n",
      "  print(yt.streams.all())  # 影片支援哪些畫質\n"
     ]
    },
    {
     "name": "stdout",
     "output_type": "stream",
     "text": [
      "[<Stream: itag=\"18\" mime_type=\"video/mp4\" res=\"360p\" fps=\"30fps\" vcodec=\"avc1.42001E\" acodec=\"mp4a.40.2\" progressive=\"True\" type=\"video\">, <Stream: itag=\"22\" mime_type=\"video/mp4\" res=\"720p\" fps=\"30fps\" vcodec=\"avc1.64001F\" acodec=\"mp4a.40.2\" progressive=\"True\" type=\"video\">, <Stream: itag=\"137\" mime_type=\"video/mp4\" res=\"1080p\" fps=\"30fps\" vcodec=\"avc1.640028\" progressive=\"False\" type=\"video\">, <Stream: itag=\"136\" mime_type=\"video/mp4\" res=\"720p\" fps=\"30fps\" vcodec=\"avc1.64001f\" progressive=\"False\" type=\"video\">, <Stream: itag=\"134\" mime_type=\"video/mp4\" res=\"360p\" fps=\"30fps\" vcodec=\"avc1.4d401e\" progressive=\"False\" type=\"video\">, <Stream: itag=\"160\" mime_type=\"video/mp4\" res=\"144p\" fps=\"30fps\" vcodec=\"avc1.4d400c\" progressive=\"False\" type=\"video\">, <Stream: itag=\"139\" mime_type=\"audio/mp4\" abr=\"48kbps\" acodec=\"mp4a.40.5\" progressive=\"False\" type=\"audio\">, <Stream: itag=\"140\" mime_type=\"audio/mp4\" abr=\"128kbps\" acodec=\"mp4a.40.2\" progressive=\"False\" type=\"audio\">, <Stream: itag=\"251\" mime_type=\"audio/webm\" abr=\"160kbps\" acodec=\"opus\" progressive=\"False\" type=\"audio\">]\n",
      "9\n",
      "<Stream: itag=\"18\" mime_type=\"video/mp4\" res=\"360p\" fps=\"30fps\" vcodec=\"avc1.42001E\" acodec=\"mp4a.40.2\" progressive=\"True\" type=\"video\">\n",
      "<Stream: itag=\"22\" mime_type=\"video/mp4\" res=\"720p\" fps=\"30fps\" vcodec=\"avc1.64001F\" acodec=\"mp4a.40.2\" progressive=\"True\" type=\"video\">\n",
      "<Stream: itag=\"137\" mime_type=\"video/mp4\" res=\"1080p\" fps=\"30fps\" vcodec=\"avc1.640028\" progressive=\"False\" type=\"video\">\n",
      "<Stream: itag=\"136\" mime_type=\"video/mp4\" res=\"720p\" fps=\"30fps\" vcodec=\"avc1.64001f\" progressive=\"False\" type=\"video\">\n",
      "<Stream: itag=\"134\" mime_type=\"video/mp4\" res=\"360p\" fps=\"30fps\" vcodec=\"avc1.4d401e\" progressive=\"False\" type=\"video\">\n",
      "<Stream: itag=\"160\" mime_type=\"video/mp4\" res=\"144p\" fps=\"30fps\" vcodec=\"avc1.4d400c\" progressive=\"False\" type=\"video\">\n",
      "<Stream: itag=\"139\" mime_type=\"audio/mp4\" abr=\"48kbps\" acodec=\"mp4a.40.5\" progressive=\"False\" type=\"audio\">\n",
      "<Stream: itag=\"140\" mime_type=\"audio/mp4\" abr=\"128kbps\" acodec=\"mp4a.40.2\" progressive=\"False\" type=\"audio\">\n",
      "<Stream: itag=\"251\" mime_type=\"audio/webm\" abr=\"160kbps\" acodec=\"opus\" progressive=\"False\" type=\"audio\">\n",
      "audio downdload完成\n",
      "vedio downdload完成\n",
      "downdload完成\n"
     ]
    }
   ],
   "source": [
    "# for 1080P -聲音&影像 分別下載 _ ok\n",
    "# 使用模組\n",
    "from pytube import YouTube\n",
    "\n",
    "yt = YouTube('https://youtube.com/live/LIRCOYR1t3c')\n",
    "\n",
    "# 影片格式分析\n",
    "print(yt.title)           # 影片標題\n",
    "print(yt.length)          # 影片長度 ( 秒 )\n",
    "print(yt.author)          # 影片作者\n",
    "print(yt.channel_url)     # 影片作者頻道網址\n",
    "print(yt.thumbnail_url)   # 影片縮圖網址\n",
    "print(yt.views)           # 影片觀看數\n",
    "\n",
    "# 分析\n",
    "# print(yt.streams)\n",
    "print(yt.streams.all())  # 影片支援哪些畫質\n",
    "print(len(yt.streams))\n",
    "\n",
    "for st in yt.streams:\n",
    "  print(st)\n",
    "\n",
    "# 下載影片\n",
    "filter = yt.streams.filter\n",
    "yt_audio = filter(type=\"audio\").first()  # audio 音訊取樣率(預設)為22KHz\n",
    "yt_audio.download(output_path='C:/Users/Lu/Documents/youtube',filename='python_231129pm_A.mp4')\n",
    "print('audio downdload完成')\n",
    "\n",
    "yt_video= filter(type=\"video\", resolution=\"1080p\").first()  # vedio為1080p\n",
    "yt_video.download(output_path='C:/Users/Lu/Documents/youtube',filename='python_231129pm_V.mp4')\n",
    "print('vedio downdload完成')\n",
    "\n",
    "yt.streams.filter().get_highest_resolution().download(output_path='C:/Users/Lu/Documents/youtube',filename='python_23129pm.mp4')    # vedio 為720p\n",
    "print('720p mp4 downdload完成')"
   ]
  },
  {
   "cell_type": "code",
   "execution_count": 6,
   "metadata": {},
   "outputs": [
    {
     "name": "stdout",
     "output_type": "stream",
     "text": [
      "2023_11_29_下午\n",
      "python_231129pm_itag(140)完成\n",
      "python_231129pm_itag(137)完成\n",
      "downdload完成\n"
     ]
    }
   ],
   "source": [
    "# 測試:\n",
    "\n",
    "\n",
    "from pytube import YouTube\n",
    "\n",
    "yt = YouTube('https://youtube.com/live/LIRCOYR1t3c')   # Ex.2023_11_29_下午\n",
    "print(yt.title)           # 影片標題\n",
    "\n",
    "# 用itag分別下載聲音&影像  _ ok\n",
    "## audio(itag=140) 音訊取樣率44KHz\n",
    "## vedio(itag=137) 為1080p\n",
    "itag_Audio = 140\n",
    "itag_Vedio = 137\n",
    "itag_List = [itag_Audio,itag_Vedio]\n",
    "for i in itag_List:\n",
    "    stream = yt.streams.get_by_itag(i)\n",
    "    stream.download(output_path='C:/Users/Lu/Documents/youtube',filename=f'python_23129pm_itag({i}).mp4', skip_existing=True, max_retries=0)\n",
    "    print(f'python_231129pm_itag({i})完成')\n",
    "# 確認錯誤:# UnicodeDecodeError: 'cp950' codec can't decode byte 0xe6 in position 2253: illegal multibyte sequence\n",
    "# -->手動修改檔案名(不含中文-multibyte sequence):filename=f'python_23129pm_itag({i})\n",
    "\n",
    "print('downdload完成')"
   ]
  },
  {
   "cell_type": "code",
   "execution_count": 7,
   "metadata": {},
   "outputs": [
    {
     "name": "stdout",
     "output_type": "stream",
     "text": [
      "python_2023_11_29_下午_itag(140)完成\n",
      "python_2023_11_29_下午_itag(137)完成\n",
      "downdload完成\n"
     ]
    }
   ],
   "source": [
    "# 用itag分別下載聲音&影像  _ ok\n",
    "## audio(itag=140) 音訊取樣率44KHz\n",
    "## vedio(itag=137) 為1080p\n",
    "## 使用 yt.title 為檔名\n",
    "from pytube import YouTube\n",
    "\n",
    "yt = YouTube('https://youtube.com/live/LIRCOYR1t3c')   # Ex.2023_11_29_下午\n",
    "\n",
    "yt_title=yt.title\n",
    "itag_Audio = 140\n",
    "itag_Vedio = 137\n",
    "itag_List = [itag_Audio,itag_Vedio]\n",
    "for i in itag_List:\n",
    "    stream = yt.streams.get_by_itag(i)\n",
    "    stream.download(output_path='C:/Users/Lu/Documents/youtube',filename=f'python_{yt_title}_itag({i}).mp4', skip_existing=True, max_retries=0)\n",
    "    print(f'python_{yt_title}_itag({i})完成')\n",
    "print('downdload完成')"
   ]
  },
  {
   "cell_type": "code",
   "execution_count": 9,
   "metadata": {},
   "outputs": [
    {
     "name": "stdout",
     "output_type": "stream",
     "text": [
      "合併成功！輸出文件位於: C:/Users/Lu/Documents/youtube/python_2023_11_29_下午_itag.mp4\n"
     ]
    }
   ],
   "source": [
    "#  可成功完成 vedio+audio 之 merage\n",
    "# UnicodeDecodeError: 'cp950' codec can't decode byte 0xe6 in position 2253: illegal multibyte sequence修正\n",
    "# 在 subprocess.run 中加入 encoding='utf-8' 參數。\n",
    "import subprocess\n",
    "\n",
    "def merge_video_and_audio(video_path, audio_path, output_path):\n",
    "    command = [\n",
    "        'ffmpeg',\n",
    "        '-i', video_path,\n",
    "        '-i', audio_path,\n",
    "        '-c', 'copy',\n",
    "        '-map', '0:v',\n",
    "        '-map', '1:a',\n",
    "        output_path\n",
    "    ]\n",
    "    \n",
    "    try:\n",
    "        result = subprocess.run(command, check=True, stdout=subprocess.PIPE, stderr=subprocess.PIPE, text=True, encoding='utf-8')\n",
    "        print(\"合併成功！輸出文件位於:\", output_path)\n",
    "    except subprocess.CalledProcessError as e:\n",
    "        print(\"ffmpeg合併過程中發生錯誤:\", e)\n",
    "        if e.stderr:\n",
    "            print(\"ffmpeg命令輸出:\", e.stderr)\n",
    "        else:\n",
    "            print(\"無法獲取 ffmpeg 錯誤輸出。\")\n",
    "\n",
    "merge_video_and_audio(f'C:/Users/Lu/Documents/youtube/python_{yt_title}_itag({itag_Vedio}).mp4', f'C:/Users/Lu/Documents/youtube/python_{yt_title}_itag({itag_Audio}).mp4', f'C:/Users/Lu/Documents/youtube/python_{yt_title}_itag.mp4')"
   ]
  },
  {
   "cell_type": "markdown",
   "metadata": {},
   "source": [
    "++++++++++++++++++++++++++++++++++++++++++++++++++++++++++++++++++++\n",
    "以下為測試程式"
   ]
  },
  {
   "cell_type": "code",
   "execution_count": 6,
   "metadata": {},
   "outputs": [
    {
     "name": "stdout",
     "output_type": "stream",
     "text": [
      "合併成功！輸出文件位於: C:/Users/Lu/Documents/youtube/python_2023_12_29_AM_itag.mp4\n"
     ]
    }
   ],
   "source": [
    "#  可成功完成 vedio+audio 之 merage\n",
    "import subprocess\n",
    "\n",
    "def merge_video_and_audio(video_path, audio_path, output_path):\n",
    "    command = [\n",
    "        'ffmpeg',\n",
    "        '-i', video_path,\n",
    "        '-i', audio_path,\n",
    "        '-c', 'copy',\n",
    "        '-map', '0:v',\n",
    "        '-map', '1:a',\n",
    "        output_path\n",
    "    ]\n",
    "    \n",
    "    try:\n",
    "        result = subprocess.run(command, check=True, stdout=subprocess.PIPE, stderr=subprocess.PIPE, text=True)\n",
    "        print(\"合併成功！輸出文件位於:\", output_path)\n",
    "    except subprocess.CalledProcessError as e:\n",
    "        print(\"ffmpeg合併過程中發生錯誤:\", e)\n",
    "        if e.stderr:\n",
    "            print(\"ffmpeg命令輸出:\", e.stderr)\n",
    "        else:\n",
    "            print(\"無法獲取 ffmpeg 錯誤輸出。\")\n",
    "\n",
    "# merge_video_and_audio(f'C:/Users/Lu/Documents/youtube/python_{yt_title}_itag({itag_Vedio}).mp4', f'C:/Users/Lu/Documents/youtube/python_{yt_title}_itag({itag_Audio}).mp4', f'C:/Users/Lu/Documents/youtube/python_{yt_title}_itag.mp4')\n",
    "\n",
    "merge_video_and_audio('C:/Users/Lu/Documents/youtube/python_2023_12_29_AM_itag(137).mp4','C:/Users/Lu/Documents/youtube/python_2023_12_29_AM_itag(140).mp4',  'C:/Users/Lu/Documents/youtube/python_2023_12_29_AM_itag.mp4')"
   ]
  },
  {
   "cell_type": "markdown",
   "metadata": {},
   "source": [
    "+++++++++++++++++++++++++++++++++++++++++++++++++++++++++++++++++++"
   ]
  },
  {
   "cell_type": "code",
   "execution_count": 13,
   "metadata": {},
   "outputs": [
    {
     "name": "stderr",
     "output_type": "stream",
     "text": [
      "Exception in thread Thread-46 (_readerthread):\n",
      "Traceback (most recent call last):\n",
      "  File \"C:\\python3.10.8\\lib\\threading.py\", line 1016, in _bootstrap_inner\n",
      "    self.run()\n",
      "  File \"c:\\Users\\Lu\\Documents\\GitHub\\__2024_01_08_python_openAPI__\\__youtube_download__\\yt.venv\\lib\\site-packages\\ipykernel\\ipkernel.py\", line 761, in run_closure\n",
      "    _threading_Thread_run(self)\n",
      "  File \"C:\\python3.10.8\\lib\\threading.py\", line 953, in run\n",
      "    self._target(*self._args, **self._kwargs)\n",
      "  File \"C:\\python3.10.8\\lib\\subprocess.py\", line 1499, in _readerthread\n",
      "    buffer.append(fh.read())\n",
      "UnicodeDecodeError: 'cp950' codec can't decode byte 0xe6 in position 2253: illegal multibyte sequence\n"
     ]
    },
    {
     "name": "stdout",
     "output_type": "stream",
     "text": [
      "C:/Users/Lu/Documents/youtube/python_2023_12_29_早上_itag(140).mp4\n",
      "ffmpeg合併過程中發生錯誤: Command '['ffmpeg', '-i', 'C:/Users/Lu/Documents/youtube/python_2023_12_29_早上_itag(140).mp4', '-i', 'C:/Users/Lu/Documents/youtube/python_2023_12_29_早上_itag(140).mp4', '-c', 'copy', '-map', '0:v', '-map', '1:a', 'C:/Users/Lu/Documents/youtube/python_2023_12_29_早上_itag.mp4']' returned non-zero exit status 4294967274.\n",
      "無法獲取 ffmpeg 錯誤輸出。\n"
     ]
    }
   ],
   "source": [
    "#  vedio+audio 之 merage -- XXXXX\n",
    "import subprocess\n",
    "\n",
    "def merge_video_and_audio(video_path, audio_path, output_path):\n",
    "    command = [\n",
    "        'ffmpeg',\n",
    "        '-i', video_path,\n",
    "        '-i', audio_path,\n",
    "        '-c', 'copy',\n",
    "        '-map', '0:v',\n",
    "        '-map', '1:a',\n",
    "        output_path\n",
    "    ]\n",
    "    \n",
    "    try:\n",
    "        result = subprocess.run(command, check=True, stdout=subprocess.PIPE, stderr=subprocess.PIPE, text=True)\n",
    "        print(\"合併成功！輸出文件位於:\", output_path)\n",
    "    except subprocess.CalledProcessError as e:\n",
    "        print(\"ffmpeg合併過程中發生錯誤:\", e)\n",
    "        if e.stderr:\n",
    "            print(\"ffmpeg命令輸出:\", e.stderr)\n",
    "        else:\n",
    "            print(\"無法獲取 ffmpeg 錯誤輸出。\")\n",
    "\n",
    "print(f'C:/Users/Lu/Documents/youtube/python_{yt_title}_itag({itag_Audio}).mp4')\n",
    "merge_video_and_audio(f'C:/Users/Lu/Documents/youtube/python_{yt_title}_itag({itag_Vedio}).mp4', f'C:/Users/Lu/Documents/youtube/python_{yt_title}_itag({itag_Audio}).mp4', f'C:/Users/Lu/Documents/youtube/python_{yt_title}_itag.mp4')"
   ]
  },
  {
   "cell_type": "code",
   "execution_count": 2,
   "metadata": {},
   "outputs": [
    {
     "name": "stdout",
     "output_type": "stream",
     "text": [
      "合併成功！輸出文件位於: C:/Users/Lu/Documents/youtube/python_2023_12_29_早上.mp4\n"
     ]
    }
   ],
   "source": [
    "# UnicodeDecodeError: 'cp950' codec can't decode byte 0xe6 in position 2253: illegal multibyte sequence修正\n",
    "# 在 subprocess.run 中加入 encoding='utf-8' 參數。\n",
    "import subprocess\n",
    "\n",
    "def merge_video_and_audio(video_path, audio_path, output_path):\n",
    "    command = [\n",
    "        'ffmpeg',\n",
    "        '-i', video_path,\n",
    "        '-i', audio_path,\n",
    "        '-c', 'copy',\n",
    "        '-map', '0:v',\n",
    "        '-map', '1:a',\n",
    "        output_path\n",
    "    ]\n",
    "    \n",
    "    try:\n",
    "        result = subprocess.run(command, check=True, stdout=subprocess.PIPE, stderr=subprocess.PIPE, text=True, encoding='utf-8')\n",
    "        print(\"合併成功！輸出文件位於:\", output_path)\n",
    "    except subprocess.CalledProcessError as e:\n",
    "        print(\"ffmpeg合併過程中發生錯誤:\", e)\n",
    "        if e.stderr:\n",
    "            print(\"ffmpeg命令輸出:\", e.stderr)\n",
    "        else:\n",
    "            print(\"無法獲取 ffmpeg 錯誤輸出。\")\n",
    "\n",
    "merge_video_and_audio(\"C:/Users/Lu/Documents/youtube/python_2023_12_29_早上_itag(137).mp4\", \"C:/Users/Lu/Documents/youtube/python_2023_12_29_早上_itag(140).mp4\", \"C:/Users/Lu/Documents/youtube/python_2023_12_29_早上.mp4\")\n",
    "\n"
   ]
  },
  {
   "cell_type": "markdown",
   "metadata": {},
   "source": [
    "from chatGPT\n",
    "\n",
    "#### Question:\n",
    "merge_video_and_audio(\"C:/Users/Lu/Documents/youtube/python_影像V.mp4\", \"C:/Users/Lu/Documents/youtube/python_音訊A.mp4\", \"C:/Users/Lu/Documents/youtube/python_231212影音.mp4\")\n",
    "會產生錯誤UnicodeDecodeError: 'cp950' codec can't decode byte 0xe6 in position 2253: illegal multibyte sequence,如何修正?\n",
    "\n",
    "#### Answer:\n",
    "這個錯誤是因為在 Windows 平台上，subprocess.run 的 stderr 使用了系統默認的編碼（如 cp950），而 ffmpeg 的錯誤輸出中包含了無法用 cp950 編碼的字元。\n",
    "\n",
    "解決方法有幾種："
   ]
  },
  {
   "cell_type": "markdown",
   "metadata": {},
   "source": [
    "#### 方法一：指定輸出的編碼\n",
    "在捕獲輸出時指定合適的編碼，如 UTF-8。可以在 subprocess.run 中加入 encoding='utf-8' 參數。"
   ]
  },
  {
   "cell_type": "code",
   "execution_count": 1,
   "metadata": {},
   "outputs": [
    {
     "name": "stdout",
     "output_type": "stream",
     "text": [
      "合併成功！輸出文件位於: C:/Users/Lu/Documents/youtube/python_231212影音.mp4\n"
     ]
    }
   ],
   "source": [
    "# 方法一：指定輸出的編碼\n",
    "import subprocess\n",
    "\n",
    "def merge_video_and_audio(video_path, audio_path, output_path):\n",
    "    command = [\n",
    "        'ffmpeg',\n",
    "        '-i', video_path,\n",
    "        '-i', audio_path,\n",
    "        '-c', 'copy',\n",
    "        '-map', '0:v',\n",
    "        '-map', '1:a',\n",
    "        output_path\n",
    "    ]\n",
    "    \n",
    "    try:\n",
    "        result = subprocess.run(command, check=True, stdout=subprocess.PIPE, stderr=subprocess.PIPE, text=True, encoding='utf-8')\n",
    "        print(\"合併成功！輸出文件位於:\", output_path)\n",
    "    except subprocess.CalledProcessError as e:\n",
    "        print(\"ffmpeg合併過程中發生錯誤:\", e)\n",
    "        if e.stderr:\n",
    "            print(\"ffmpeg命令輸出:\", e.stderr)\n",
    "        else:\n",
    "            print(\"無法獲取 ffmpeg 錯誤輸出。\")\n",
    "\n",
    "merge_video_and_audio(\"C:/Users/Lu/Documents/youtube/python_影像V.mp4\", \"C:/Users/Lu/Documents/youtube/python_音訊A.mp4\", \"C:/Users/Lu/Documents/youtube/python_231212影音.mp4\")\n"
   ]
  },
  {
   "cell_type": "markdown",
   "metadata": {},
   "source": [
    "#### 方法二：手動解碼輸出  xxxx-->無法完成\n",
    "如果 encoding='utf-8' 不能解決問題，可以手動解碼輸出："
   ]
  },
  {
   "cell_type": "code",
   "execution_count": 2,
   "metadata": {},
   "outputs": [],
   "source": [
    "# 方法二：手動解碼輸出  xxxx-->程式一直執行,無法完成\n",
    "import subprocess\n",
    "\n",
    "def merge_video_and_audio(video_path, audio_path, output_path):\n",
    "    command = [\n",
    "        'ffmpeg',\n",
    "        '-i', video_path,\n",
    "        '-i', audio_path,\n",
    "        '-c', 'copy',\n",
    "        '-map', '0:v',\n",
    "        '-map', '1:a',\n",
    "        output_path\n",
    "    ]\n",
    "    \n",
    "    try:\n",
    "        result = subprocess.run(command, check=True, stdout=subprocess.PIPE, stderr=subprocess.PIPE, text=True)\n",
    "\n",
    "        print(\"合併成功！輸出文件位於:\", output_path)\n",
    "    except subprocess.CalledProcessError as e:\n",
    "        print(\"ffmpeg合併過程中發生錯誤:\", e)\n",
    "        if e.stderr:\n",
    "            try:\n",
    "                # 嘗試用 UTF-8 解碼\n",
    "                print(\"ffmpeg命令輸出:\", e.stderr.decode('utf-8'))\n",
    "            except UnicodeDecodeError:\n",
    "                # 如果失敗，使用 CP950 解碼\n",
    "                print(\"ffmpeg命令輸出:\", e.stderr.decode('cp950', errors='ignore'))\n",
    "        else:\n",
    "            print(\"無法獲取 ffmpeg 錯誤輸出。\")\n",
    "\n",
    "merge_video_and_audio(\"C:/Users/Lu/Documents/youtube/python_影像V.mp4\", \"C:/Users/Lu/Documents/youtube/python_音訊A.mp4\", \"C:/Users/Lu/Documents/youtube/python_231212影音.mp4\")\n"
   ]
  },
  {
   "cell_type": "markdown",
   "metadata": {},
   "source": [
    "#### 方法三：忽略解碼錯誤   xxxx-->無法完成\n",
    "如果你不需要精確的錯誤輸出，可以選擇忽略無法解碼的字元："
   ]
  },
  {
   "cell_type": "code",
   "execution_count": 1,
   "metadata": {},
   "outputs": [],
   "source": [
    "# 方法三：忽略解碼錯誤   xxxx-->程式一直執行,無法完成\n",
    "import subprocess\n",
    "\n",
    "def merge_video_and_audio(video_path, audio_path, output_path):\n",
    "    command = [\n",
    "        'ffmpeg',\n",
    "        '-i', video_path,\n",
    "        '-i', audio_path,\n",
    "        '-c', 'copy',\n",
    "        '-map', '0:v',\n",
    "        '-map', '1:a',\n",
    "        output_path\n",
    "    ]\n",
    "    \n",
    "    try:\n",
    "        result = subprocess.run(command, check=True, stdout=subprocess.PIPE, stderr=subprocess.PIPE, text=True, errors='ignore')\n",
    "        print(\"合併成功！輸出文件位於:\", output_path)\n",
    "    except subprocess.CalledProcessError as e:\n",
    "        print(\"ffmpeg合併過程中發生錯誤:\", e)\n",
    "        if e.stderr:\n",
    "            print(\"ffmpeg命令輸出:\", e.stderr)\n",
    "        else:\n",
    "            print(\"無法獲取 ffmpeg 錯誤輸出。\")\n",
    "\n",
    "merge_video_and_audio(\"C:/Users/Lu/Documents/youtube/python_影像V.mp4\", \"C:/Users/Lu/Documents/youtube/python_音訊A.mp4\", \"C:/Users/Lu/Documents/youtube/python_231212影音.mp4\")\n"
   ]
  },
  {
   "cell_type": "markdown",
   "metadata": {},
   "source": [
    "#### 方法二：手動解碼輸出  xxxx-->程式一直執行,無法完成\n",
    "\n",
    "##### Question: 方法二：程式一直執行無法完成，也無訊息，為什麼？\n",
    "##### Answer:\n",
    "你的程式可能因為 ffmpeg 命令未正確執行或是因為某些原因導致命令執行時間過長而卡住。你可以採取以下步驟來排查和解決這個問題：\n",
    "\n",
    "1.確認 ffmpeg 是否正確安裝：在命令提示字元（CMD）中輸入 ffmpeg -version，查看是否顯示 ffmpeg 的版本信息。如果顯示錯誤，則說明 ffmpeg 未正確安裝或未添加到系統的 PATH 環境變量中。\n",
    "\n",
    "2.調試命令：在 Python 程式中加入一些調試信息，確認命令是否正確生成並且正在執行。\n",
    "\n",
    "3.超時設置：給 subprocess.run 添加超時參數，以避免命令長時間卡住。\n",
    "\n",
    "4.檢查文件路徑：確認 video_path 和 audio_path 是否正確，文件是否存在。\n",
    "\n",
    "這裡是改進後的程式：\n",
    ">>>//\n",
    "\n",
    ">>>//\n",
    "\n",
    "這個程式中加入了以下改進：\n",
    "1.命令調試信息：在執行命令前打印出命令行，方便調試。\n",
    "2.超時參數：設置了超時時間為300秒（5分鐘），防止命令長時間卡住。\n",
    "3.直接打印錯誤輸出：簡化了錯誤輸出的打印，避免解碼錯誤。\n",
    "運行這個程式後，可以根據打印的命令行手動在命令提示字元中執行，以檢查問題所在。"
   ]
  },
  {
   "cell_type": "code",
   "execution_count": 1,
   "metadata": {},
   "outputs": [
    {
     "name": "stdout",
     "output_type": "stream",
     "text": [
      "執行命令: ffmpeg -i C:/Users/Lu/Documents/youtube/python_影像V.mp4 -i C:/Users/Lu/Documents/youtube/python_音訊A.mp4 -c copy -map 0:v -map 1:a C:/Users/Lu/Documents/youtube/python_231212影音.mp4\n"
     ]
    },
    {
     "name": "stderr",
     "output_type": "stream",
     "text": [
      "Exception in thread Thread-6 (_readerthread):\n",
      "Traceback (most recent call last):\n",
      "  File \"C:\\python3.10.8\\lib\\threading.py\", line 1016, in _bootstrap_inner\n",
      "    self.run()\n",
      "  File \"c:\\Users\\Lu\\Documents\\GitHub\\__2024_01_08_python_openAPI__\\__youtube_download__\\yt.venv\\lib\\site-packages\\ipykernel\\ipkernel.py\", line 761, in run_closure\n",
      "    _threading_Thread_run(self)\n",
      "  File \"C:\\python3.10.8\\lib\\threading.py\", line 953, in run\n",
      "    self._target(*self._args, **self._kwargs)\n",
      "  File \"C:\\python3.10.8\\lib\\subprocess.py\", line 1499, in _readerthread\n",
      "    buffer.append(fh.read())\n",
      "UnicodeDecodeError: 'cp950' codec can't decode byte 0x83 in position 2197: illegal multibyte sequence\n"
     ]
    },
    {
     "name": "stdout",
     "output_type": "stream",
     "text": [
      "合併成功！輸出文件位於: C:/Users/Lu/Documents/youtube/python_231212影音.mp4\n"
     ]
    }
   ],
   "source": [
    "import subprocess\n",
    "\n",
    "def merge_video_and_audio(video_path, audio_path, output_path):\n",
    "    command = [\n",
    "        'ffmpeg',\n",
    "        '-i', video_path,\n",
    "        '-i', audio_path,\n",
    "        '-c', 'copy',\n",
    "        '-map', '0:v',\n",
    "        '-map', '1:a',\n",
    "        output_path\n",
    "    ]\n",
    "    \n",
    "    try:\n",
    "        print(\"執行命令:\", ' '.join(command))  # 添加調試信息\n",
    "        result = subprocess.run(command, check=True, stdout=subprocess.PIPE, stderr=subprocess.PIPE, text=True, timeout=300)\n",
    "        print(\"合併成功！輸出文件位於:\", output_path)\n",
    "    except subprocess.CalledProcessError as e:\n",
    "        print(\"ffmpeg合併過程中發生錯誤:\", e)\n",
    "        if e.stderr:\n",
    "            try:\n",
    "                # 嘗試用 UTF-8 解碼\n",
    "                print(\"ffmpeg命令輸出:\", e.stderr)\n",
    "            except UnicodeDecodeError:\n",
    "                # 如果失敗，使用 CP950 解碼\n",
    "                print(\"ffmpeg命令輸出:\", e.stderr.decode('cp950', errors='ignore'))\n",
    "        else:\n",
    "            print(\"無法獲取 ffmpeg 錯誤輸出。\")\n",
    "    except subprocess.TimeoutExpired as e:\n",
    "        print(\"命令執行超時:\", e)\n",
    "\n",
    "merge_video_and_audio(\"C:/Users/Lu/Documents/youtube/python_影像V.mp4\", \"C:/Users/Lu/Documents/youtube/python_音訊A.mp4\", \"C:/Users/Lu/Documents/youtube/python_231212影音.mp4\")\n"
   ]
  }
 ],
 "metadata": {
  "kernelspec": {
   "display_name": "yt.venv",
   "language": "python",
   "name": "python3"
  },
  "language_info": {
   "codemirror_mode": {
    "name": "ipython",
    "version": 3
   },
   "file_extension": ".py",
   "mimetype": "text/x-python",
   "name": "python",
   "nbconvert_exporter": "python",
   "pygments_lexer": "ipython3",
   "version": "3.10.8"
  }
 },
 "nbformat": 4,
 "nbformat_minor": 2
}
