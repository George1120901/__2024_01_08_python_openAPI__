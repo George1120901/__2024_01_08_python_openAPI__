{
 "cells": [
  {
   "cell_type": "markdown",
   "metadata": {},
   "source": [
    "#### download\n",
    " vedio & audio"
   ]
  },
  {
   "cell_type": "code",
   "execution_count": 3,
   "metadata": {},
   "outputs": [
    {
     "name": "stdout",
     "output_type": "stream",
     "text": [
      "2023_12_19_早上\n",
      "12520\n",
      "徐國堂\n",
      "https://www.youtube.com/channel/UCKd_tuM8M79b1GAwAlTi9ZA\n",
      "https://i.ytimg.com/vi/n7eicT5seJc/hq720.jpg?sqp=-oaymwEmCIAKENAF8quKqQMa8AEB-AH-CYAC0AWKAgwIABABGGUgZShlMA8=&rs=AOn4CLB69NjKytlHJzRujSZD1iPDWFuM8Q\n",
      "15\n"
     ]
    },
    {
     "name": "stderr",
     "output_type": "stream",
     "text": [
      "C:\\Users\\Lu\\AppData\\Local\\Temp\\ipykernel_14628\\1075465962.py:14: DeprecationWarning: Call to deprecated function all (This object can be treated as a list, all() is useless).\n",
      "  print(yt.streams.all())  # 影片支援哪些畫質\n"
     ]
    },
    {
     "name": "stdout",
     "output_type": "stream",
     "text": [
      "[<Stream: itag=\"18\" mime_type=\"video/mp4\" res=\"360p\" fps=\"30fps\" vcodec=\"avc1.42001E\" acodec=\"mp4a.40.2\" progressive=\"True\" type=\"video\">, <Stream: itag=\"22\" mime_type=\"video/mp4\" res=\"720p\" fps=\"30fps\" vcodec=\"avc1.64001F\" acodec=\"mp4a.40.2\" progressive=\"True\" type=\"video\">, <Stream: itag=\"137\" mime_type=\"video/mp4\" res=\"1080p\" fps=\"30fps\" vcodec=\"avc1.640028\" progressive=\"False\" type=\"video\">, <Stream: itag=\"136\" mime_type=\"video/mp4\" res=\"720p\" fps=\"30fps\" vcodec=\"avc1.4d401f\" progressive=\"False\" type=\"video\">, <Stream: itag=\"134\" mime_type=\"video/mp4\" res=\"360p\" fps=\"30fps\" vcodec=\"avc1.4d401e\" progressive=\"False\" type=\"video\">, <Stream: itag=\"160\" mime_type=\"video/mp4\" res=\"144p\" fps=\"30fps\" vcodec=\"avc1.4d400c\" progressive=\"False\" type=\"video\">, <Stream: itag=\"139\" mime_type=\"audio/mp4\" abr=\"48kbps\" acodec=\"mp4a.40.5\" progressive=\"False\" type=\"audio\">, <Stream: itag=\"140\" mime_type=\"audio/mp4\" abr=\"128kbps\" acodec=\"mp4a.40.2\" progressive=\"False\" type=\"audio\">, <Stream: itag=\"251\" mime_type=\"audio/webm\" abr=\"160kbps\" acodec=\"opus\" progressive=\"False\" type=\"audio\">]\n",
      "9\n",
      "<Stream: itag=\"18\" mime_type=\"video/mp4\" res=\"360p\" fps=\"30fps\" vcodec=\"avc1.42001E\" acodec=\"mp4a.40.2\" progressive=\"True\" type=\"video\">\n",
      "<Stream: itag=\"22\" mime_type=\"video/mp4\" res=\"720p\" fps=\"30fps\" vcodec=\"avc1.64001F\" acodec=\"mp4a.40.2\" progressive=\"True\" type=\"video\">\n",
      "<Stream: itag=\"137\" mime_type=\"video/mp4\" res=\"1080p\" fps=\"30fps\" vcodec=\"avc1.640028\" progressive=\"False\" type=\"video\">\n",
      "<Stream: itag=\"136\" mime_type=\"video/mp4\" res=\"720p\" fps=\"30fps\" vcodec=\"avc1.4d401f\" progressive=\"False\" type=\"video\">\n",
      "<Stream: itag=\"134\" mime_type=\"video/mp4\" res=\"360p\" fps=\"30fps\" vcodec=\"avc1.4d401e\" progressive=\"False\" type=\"video\">\n",
      "<Stream: itag=\"160\" mime_type=\"video/mp4\" res=\"144p\" fps=\"30fps\" vcodec=\"avc1.4d400c\" progressive=\"False\" type=\"video\">\n",
      "<Stream: itag=\"139\" mime_type=\"audio/mp4\" abr=\"48kbps\" acodec=\"mp4a.40.5\" progressive=\"False\" type=\"audio\">\n",
      "<Stream: itag=\"140\" mime_type=\"audio/mp4\" abr=\"128kbps\" acodec=\"mp4a.40.2\" progressive=\"False\" type=\"audio\">\n",
      "<Stream: itag=\"251\" mime_type=\"audio/webm\" abr=\"160kbps\" acodec=\"opus\" progressive=\"False\" type=\"audio\">\n",
      "downdload完成\n"
     ]
    }
   ],
   "source": [
    "# 使用模組\n",
    "from pytube import YouTube\n",
    "yt = YouTube('https://youtube.com/live/n7eicT5seJc')   # Ex.2023_12_19_上午\n",
    "\n",
    "# 影片格式分析\n",
    "print(yt.title)           # 影片標題\n",
    "print(yt.length)          # 影片長度 ( 秒 )\n",
    "print(yt.author)          # 影片作者\n",
    "print(yt.channel_url)     # 影片作者頻道網址\n",
    "print(yt.thumbnail_url)   # 影片縮圖網址\n",
    "print(yt.views)           # 影片觀看數\n",
    "# 分析\n",
    "# print(yt.streams)\n",
    "print(yt.streams.all())  # 影片支援哪些畫質\n",
    "print(len(yt.streams))\n",
    "for st in yt.streams:\n",
    "  print(st)\n",
    "\n",
    "# 下載第1個影片\n",
    "yt.streams.filter().get_highest_resolution().download(output_path='C:/Users/Lu/Documents/youtube',filename='python_231219am.mp4')\n",
    "\n",
    "#yt.streams.filter().get_by_resolution('1080p').download(output_path='C:/Users/User/Documents/youtube', filename='python_230911P-1.mp4')\n",
    "# 下載 1080p 的影片畫質\n",
    "print('downdload完成')\n"
   ]
  },
  {
   "cell_type": "code",
   "execution_count": 2,
   "metadata": {},
   "outputs": [
    {
     "data": {
      "text/plain": [
       "'C:/Users/Lu/Documents/youtube\\\\python_231219am_itag_audio.mp4'"
      ]
     },
     "execution_count": 2,
     "metadata": {},
     "output_type": "execute_result"
    }
   ],
   "source": [
    "from pytube import YouTube\n",
    "\n",
    "yt = YouTube('https://youtube.com/live/n7eicT5seJc')   # Ex.2023_12_19_上午\n",
    "\n",
    "ITAG = 140\n",
    "\n",
    "stream = yt.streams.get_by_itag(ITAG)\n",
    "stream.download(output_path='C:/Users/Lu/Documents/youtube',filename='python_231219am_itag_audio.mp4', skip_existing=True, max_retries=0)"
   ]
  },
  {
   "cell_type": "markdown",
   "metadata": {},
   "source": [
    "#### merge \n",
    "vedio & audio"
   ]
  },
  {
   "cell_type": "code",
   "execution_count": 3,
   "metadata": {},
   "outputs": [
    {
     "ename": "AttributeError",
     "evalue": "'FilterableStream' object has no attribute 'input'",
     "output_type": "error",
     "traceback": [
      "\u001b[1;31m---------------------------------------------------------------------------\u001b[0m",
      "\u001b[1;31mAttributeError\u001b[0m                            Traceback (most recent call last)",
      "Cell \u001b[1;32mIn[3], line 8\u001b[0m\n\u001b[0;32m      4\u001b[0m     ffmpeg\u001b[38;5;241m.\u001b[39minput(video_path)\u001b[38;5;241m.\u001b[39minput(audio_path)\u001b[38;5;241m.\u001b[39moutput(output_path, codec\u001b[38;5;241m=\u001b[39m\u001b[38;5;124m\"\u001b[39m\u001b[38;5;124mcopy\u001b[39m\u001b[38;5;124m\"\u001b[39m, \u001b[38;5;28mmap\u001b[39m\u001b[38;5;241m=\u001b[39m\u001b[38;5;124m\"\u001b[39m\u001b[38;5;124m0:v\u001b[39m\u001b[38;5;124m\"\u001b[39m, map_audio\u001b[38;5;241m=\u001b[39m\u001b[38;5;124m\"\u001b[39m\u001b[38;5;124m0:a\u001b[39m\u001b[38;5;124m\"\u001b[39m)\u001b[38;5;241m.\u001b[39mrun()\n\u001b[0;32m      6\u001b[0m \u001b[38;5;66;03m# 使用例子\u001b[39;00m\n\u001b[0;32m      7\u001b[0m \u001b[38;5;66;03m#merge_video_and_audio(\"C:\\Users\\Lu\\Documents\\youtube\\python_231212V.mp4\",\"C:\\Users\\Lu\\Documents\\youtube\\python_231212A.mp4\", \"C:\\Users\\Lu\\Documents\\youtube\\python_231212All.mp4\")\u001b[39;00m\n\u001b[1;32m----> 8\u001b[0m \u001b[43mmerge_video_and_audio\u001b[49m\u001b[43m(\u001b[49m\u001b[38;5;124;43m\"\u001b[39;49m\u001b[38;5;124;43mC:/Users/Lu/Documents/youtube/python_231212V.mp4\u001b[39;49m\u001b[38;5;124;43m\"\u001b[39;49m\u001b[43m,\u001b[49m\u001b[38;5;124;43m\"\u001b[39;49m\u001b[38;5;124;43mC:/Users/Lu/Documents/youtube/python_231212A.mp4\u001b[39;49m\u001b[38;5;124;43m\"\u001b[39;49m\u001b[43m,\u001b[49m\u001b[43m \u001b[49m\u001b[38;5;124;43m\"\u001b[39;49m\u001b[38;5;124;43mC:/Users/Lu/Documents/youtube/python_231212All.mp4\u001b[39;49m\u001b[38;5;124;43m\"\u001b[39;49m\u001b[43m)\u001b[49m\n",
      "Cell \u001b[1;32mIn[3], line 4\u001b[0m, in \u001b[0;36mmerge_video_and_audio\u001b[1;34m(video_path, audio_path, output_path)\u001b[0m\n\u001b[0;32m      3\u001b[0m \u001b[38;5;28;01mdef\u001b[39;00m \u001b[38;5;21mmerge_video_and_audio\u001b[39m(video_path, audio_path, output_path):\n\u001b[1;32m----> 4\u001b[0m     \u001b[43mffmpeg\u001b[49m\u001b[38;5;241;43m.\u001b[39;49m\u001b[43minput\u001b[49m\u001b[43m(\u001b[49m\u001b[43mvideo_path\u001b[49m\u001b[43m)\u001b[49m\u001b[38;5;241;43m.\u001b[39;49m\u001b[43minput\u001b[49m(audio_path)\u001b[38;5;241m.\u001b[39moutput(output_path, codec\u001b[38;5;241m=\u001b[39m\u001b[38;5;124m\"\u001b[39m\u001b[38;5;124mcopy\u001b[39m\u001b[38;5;124m\"\u001b[39m, \u001b[38;5;28mmap\u001b[39m\u001b[38;5;241m=\u001b[39m\u001b[38;5;124m\"\u001b[39m\u001b[38;5;124m0:v\u001b[39m\u001b[38;5;124m\"\u001b[39m, map_audio\u001b[38;5;241m=\u001b[39m\u001b[38;5;124m\"\u001b[39m\u001b[38;5;124m0:a\u001b[39m\u001b[38;5;124m\"\u001b[39m)\u001b[38;5;241m.\u001b[39mrun()\n",
      "\u001b[1;31mAttributeError\u001b[0m: 'FilterableStream' object has no attribute 'input'"
     ]
    }
   ],
   "source": [
    "import ffmpeg\n",
    "\n",
    "def merge_video_and_audio(video_path, audio_path, output_path):\n",
    "    ffmpeg.input(video_path).input(audio_path).output(output_path, codec=\"copy\", map=\"0:v\", map_audio=\"0:a\").run()\n",
    "\n",
    "# 使用例子\n",
    "#merge_video_and_audio(\"C:\\Users\\Lu\\Documents\\youtube\\python_231212V.mp4\",\"C:\\Users\\Lu\\Documents\\youtube\\python_231212A.mp4\", \"C:\\Users\\Lu\\Documents\\youtube\\python_231212All.mp4\")\n",
    "merge_video_and_audio(\"C:/Users/Lu/Documents/youtube/python_231212V.mp4\",\"C:/Users/Lu/Documents/youtube/python_231212A.mp4\", \"C:/Users/Lu/Documents/youtube/python_231212All.mp4\")"
   ]
  },
  {
   "cell_type": "code",
   "execution_count": 13,
   "metadata": {},
   "outputs": [],
   "source": [
    "import ffmpeg\n",
    "\n",
    "def merge_video_and_audio(video_path, audio_path, output_path):\n",
    "    video = ffmpeg.input(video_path)\n",
    "    audio = ffmpeg.input(audio_path)\n",
    "    ffmpeg.output(video, audio, output_path, codec=\"copy\", map=\"0:v\", map_audio=\"1:a\").run()\n",
    "    \n",
    "    merge_video_and_audio(\"C:/Users/Lu/Documents/youtube/python_231212V.mp4\",\"C:/Users/Lu/Documents/youtube/python_231212A.mp4\", \"C:/Users/Lu/Documents/youtube/python_231212All.mp4\")"
   ]
  },
  {
   "cell_type": "code",
   "execution_count": 12,
   "metadata": {},
   "outputs": [
    {
     "ename": "Error",
     "evalue": "ffmpeg error (see stderr output for detail)",
     "output_type": "error",
     "traceback": [
      "\u001b[1;31m---------------------------------------------------------------------------\u001b[0m",
      "\u001b[1;31mError\u001b[0m                                     Traceback (most recent call last)",
      "Cell \u001b[1;32mIn[12], line 8\u001b[0m\n\u001b[0;32m      5\u001b[0m     audio \u001b[38;5;241m=\u001b[39m ffmpeg\u001b[38;5;241m.\u001b[39minput(audio_path)\n\u001b[0;32m      6\u001b[0m     ffmpeg\u001b[38;5;241m.\u001b[39moutput(video, audio, output_path, codec\u001b[38;5;241m=\u001b[39m\u001b[38;5;124m\"\u001b[39m\u001b[38;5;124mcopy\u001b[39m\u001b[38;5;124m\"\u001b[39m, \u001b[38;5;28mmap\u001b[39m\u001b[38;5;241m=\u001b[39m\u001b[38;5;124m\"\u001b[39m\u001b[38;5;124m0:v\u001b[39m\u001b[38;5;124m\"\u001b[39m, map_audio\u001b[38;5;241m=\u001b[39m\u001b[38;5;124m\"\u001b[39m\u001b[38;5;124m1:a\u001b[39m\u001b[38;5;124m\"\u001b[39m)\u001b[38;5;241m.\u001b[39mrun()\n\u001b[1;32m----> 8\u001b[0m \u001b[43mmerge_video_and_audio\u001b[49m\u001b[43m(\u001b[49m\u001b[38;5;124;43m\"\u001b[39;49m\u001b[38;5;124;43mC:/Users/Lu/Documents/youtube/python_231212V.mp4\u001b[39;49m\u001b[38;5;124;43m\"\u001b[39;49m\u001b[43m,\u001b[49m\u001b[38;5;124;43m\"\u001b[39;49m\u001b[38;5;124;43mC:/Users/Lu/Documents/youtube/python_231212A.mp4\u001b[39;49m\u001b[38;5;124;43m\"\u001b[39;49m\u001b[43m,\u001b[49m\u001b[43m \u001b[49m\u001b[38;5;124;43m\"\u001b[39;49m\u001b[38;5;124;43mC:/Users/Lu/Documents/youtube/python_231212All.mp4\u001b[39;49m\u001b[38;5;124;43m\"\u001b[39;49m\u001b[43m)\u001b[49m\n",
      "Cell \u001b[1;32mIn[12], line 6\u001b[0m, in \u001b[0;36mmerge_video_and_audio\u001b[1;34m(video_path, audio_path, output_path)\u001b[0m\n\u001b[0;32m      4\u001b[0m video \u001b[38;5;241m=\u001b[39m ffmpeg\u001b[38;5;241m.\u001b[39minput(video_path)\n\u001b[0;32m      5\u001b[0m audio \u001b[38;5;241m=\u001b[39m ffmpeg\u001b[38;5;241m.\u001b[39minput(audio_path)\n\u001b[1;32m----> 6\u001b[0m \u001b[43mffmpeg\u001b[49m\u001b[38;5;241;43m.\u001b[39;49m\u001b[43moutput\u001b[49m\u001b[43m(\u001b[49m\u001b[43mvideo\u001b[49m\u001b[43m,\u001b[49m\u001b[43m \u001b[49m\u001b[43maudio\u001b[49m\u001b[43m,\u001b[49m\u001b[43m \u001b[49m\u001b[43moutput_path\u001b[49m\u001b[43m,\u001b[49m\u001b[43m \u001b[49m\u001b[43mcodec\u001b[49m\u001b[38;5;241;43m=\u001b[39;49m\u001b[38;5;124;43m\"\u001b[39;49m\u001b[38;5;124;43mcopy\u001b[39;49m\u001b[38;5;124;43m\"\u001b[39;49m\u001b[43m,\u001b[49m\u001b[43m \u001b[49m\u001b[38;5;28;43mmap\u001b[39;49m\u001b[38;5;241;43m=\u001b[39;49m\u001b[38;5;124;43m\"\u001b[39;49m\u001b[38;5;124;43m0:v\u001b[39;49m\u001b[38;5;124;43m\"\u001b[39;49m\u001b[43m,\u001b[49m\u001b[43m \u001b[49m\u001b[43mmap_audio\u001b[49m\u001b[38;5;241;43m=\u001b[39;49m\u001b[38;5;124;43m\"\u001b[39;49m\u001b[38;5;124;43m1:a\u001b[39;49m\u001b[38;5;124;43m\"\u001b[39;49m\u001b[43m)\u001b[49m\u001b[38;5;241;43m.\u001b[39;49m\u001b[43mrun\u001b[49m\u001b[43m(\u001b[49m\u001b[43m)\u001b[49m\n",
      "File \u001b[1;32mc:\\Users\\Lu\\Documents\\GitHub\\__2024_01_08_python_openAPI__\\__youtube_download__\\yt.venv\\lib\\site-packages\\ffmpeg\\_run.py:325\u001b[0m, in \u001b[0;36mrun\u001b[1;34m(stream_spec, cmd, capture_stdout, capture_stderr, input, quiet, overwrite_output)\u001b[0m\n\u001b[0;32m    323\u001b[0m retcode \u001b[38;5;241m=\u001b[39m process\u001b[38;5;241m.\u001b[39mpoll()\n\u001b[0;32m    324\u001b[0m \u001b[38;5;28;01mif\u001b[39;00m retcode:\n\u001b[1;32m--> 325\u001b[0m     \u001b[38;5;28;01mraise\u001b[39;00m Error(\u001b[38;5;124m'\u001b[39m\u001b[38;5;124mffmpeg\u001b[39m\u001b[38;5;124m'\u001b[39m, out, err)\n\u001b[0;32m    326\u001b[0m \u001b[38;5;28;01mreturn\u001b[39;00m out, err\n",
      "\u001b[1;31mError\u001b[0m: ffmpeg error (see stderr output for detail)"
     ]
    }
   ],
   "source": [
    "import ffmpeg\n",
    "\n",
    "def merge_video_and_audio(video_path, audio_path, output_path):\n",
    "    video = ffmpeg.input(video_path)\n",
    "    audio = ffmpeg.input(audio_path)\n",
    "    ffmpeg.output(video, audio, output_path, codec=\"copy\", map=\"0:v\", map_audio=\"1:a\").run()\n",
    "    \n",
    "merge_video_and_audio(\"C:/Users/Lu/Documents/youtube/python_231212V.mp4\",\"C:/Users/Lu/Documents/youtube/python_231212A.mp4\", \"C:/Users/Lu/Documents/youtube/python_231212All.mp4\")\n"
   ]
  },
  {
   "cell_type": "code",
   "execution_count": 6,
   "metadata": {},
   "outputs": [
    {
     "ename": "SyntaxError",
     "evalue": "keyword argument repeated: map (4025161218.py, line 7)",
     "output_type": "error",
     "traceback": [
      "\u001b[1;36m  Cell \u001b[1;32mIn[6], line 7\u001b[1;36m\u001b[0m\n\u001b[1;33m    output = ffmpeg.output(video, audio, output_path, vcodec='copy', acodec='copy', map='0:v', map='1:a')\u001b[0m\n\u001b[1;37m                                                                                               ^\u001b[0m\n\u001b[1;31mSyntaxError\u001b[0m\u001b[1;31m:\u001b[0m keyword argument repeated: map\n"
     ]
    }
   ],
   "source": [
    "import ffmpeg\n",
    "\n",
    "def merge_video_and_audio(video_path, audio_path, output_path):\n",
    "    try:\n",
    "        video = ffmpeg.input(video_path)\n",
    "        audio = ffmpeg.input(audio_path)\n",
    "        output = ffmpeg.output(video, audio, output_path, vcodec='copy', acodec='copy', map='0:v', map='1:a')\n",
    "        ffmpeg.run(output, overwrite_output=True)\n",
    "        print(\"合併成功！輸出文件位於:\", output_path)\n",
    "    except ffmpeg.Error as e:\n",
    "        print(\"ffmpeg合併過程中發生錯誤:\", e)\n",
    "        print(\"ffmpeg命令輸出:\", e.stderr.decode('utf8'))\n",
    "    \n",
    "merge_video_and_audio(\"C:/Users/Lu/Documents/youtube/python_231212V.mp4\",\"C:/Users/Lu/Documents/youtube/python_231212A.mp4\", \"C:/Users/Lu/Documents/youtube/python_231212All.mp4\")"
   ]
  },
  {
   "cell_type": "code",
   "execution_count": 7,
   "metadata": {},
   "outputs": [
    {
     "name": "stdout",
     "output_type": "stream",
     "text": [
      "ffmpeg合併過程中發生錯誤: ffmpeg error (see stderr output for detail)\n"
     ]
    },
    {
     "ename": "AttributeError",
     "evalue": "'NoneType' object has no attribute 'decode'",
     "output_type": "error",
     "traceback": [
      "\u001b[1;31m---------------------------------------------------------------------------\u001b[0m",
      "\u001b[1;31mError\u001b[0m                                     Traceback (most recent call last)",
      "Cell \u001b[1;32mIn[7], line 8\u001b[0m, in \u001b[0;36mmerge_video_and_audio\u001b[1;34m(video_path, audio_path, output_path)\u001b[0m\n\u001b[0;32m      7\u001b[0m output \u001b[38;5;241m=\u001b[39m ffmpeg\u001b[38;5;241m.\u001b[39moutput(video, audio, output_path, vcodec\u001b[38;5;241m=\u001b[39m\u001b[38;5;124m'\u001b[39m\u001b[38;5;124mcopy\u001b[39m\u001b[38;5;124m'\u001b[39m, acodec\u001b[38;5;241m=\u001b[39m\u001b[38;5;124m'\u001b[39m\u001b[38;5;124mcopy\u001b[39m\u001b[38;5;124m'\u001b[39m,\u001b[38;5;28mmap\u001b[39m\u001b[38;5;241m=\u001b[39m[\u001b[38;5;124m'\u001b[39m\u001b[38;5;124m0:v\u001b[39m\u001b[38;5;124m'\u001b[39m, \u001b[38;5;124m'\u001b[39m\u001b[38;5;124m1:a\u001b[39m\u001b[38;5;124m'\u001b[39m])\n\u001b[1;32m----> 8\u001b[0m \u001b[43mffmpeg\u001b[49m\u001b[38;5;241;43m.\u001b[39;49m\u001b[43mrun\u001b[49m\u001b[43m(\u001b[49m\u001b[43moutput\u001b[49m\u001b[43m,\u001b[49m\u001b[43m \u001b[49m\u001b[43moverwrite_output\u001b[49m\u001b[38;5;241;43m=\u001b[39;49m\u001b[38;5;28;43;01mTrue\u001b[39;49;00m\u001b[43m)\u001b[49m\n\u001b[0;32m      9\u001b[0m \u001b[38;5;28mprint\u001b[39m(\u001b[38;5;124m\"\u001b[39m\u001b[38;5;124m合併成功！輸出文件位於:\u001b[39m\u001b[38;5;124m\"\u001b[39m, output_path)\n",
      "File \u001b[1;32mc:\\Users\\Lu\\Documents\\GitHub\\__2024_01_08_python_openAPI__\\__youtube_download__\\yt.venv\\lib\\site-packages\\ffmpeg\\_run.py:325\u001b[0m, in \u001b[0;36mrun\u001b[1;34m(stream_spec, cmd, capture_stdout, capture_stderr, input, quiet, overwrite_output)\u001b[0m\n\u001b[0;32m    324\u001b[0m \u001b[38;5;28;01mif\u001b[39;00m retcode:\n\u001b[1;32m--> 325\u001b[0m     \u001b[38;5;28;01mraise\u001b[39;00m Error(\u001b[38;5;124m'\u001b[39m\u001b[38;5;124mffmpeg\u001b[39m\u001b[38;5;124m'\u001b[39m, out, err)\n\u001b[0;32m    326\u001b[0m \u001b[38;5;28;01mreturn\u001b[39;00m out, err\n",
      "\u001b[1;31mError\u001b[0m: ffmpeg error (see stderr output for detail)",
      "\nDuring handling of the above exception, another exception occurred:\n",
      "\u001b[1;31mAttributeError\u001b[0m                            Traceback (most recent call last)",
      "Cell \u001b[1;32mIn[7], line 14\u001b[0m\n\u001b[0;32m     11\u001b[0m         \u001b[38;5;28mprint\u001b[39m(\u001b[38;5;124m\"\u001b[39m\u001b[38;5;124mffmpeg合併過程中發生錯誤:\u001b[39m\u001b[38;5;124m\"\u001b[39m, e)\n\u001b[0;32m     12\u001b[0m         \u001b[38;5;28mprint\u001b[39m(\u001b[38;5;124m\"\u001b[39m\u001b[38;5;124mffmpeg命令輸出:\u001b[39m\u001b[38;5;124m\"\u001b[39m, e\u001b[38;5;241m.\u001b[39mstderr\u001b[38;5;241m.\u001b[39mdecode(\u001b[38;5;124m'\u001b[39m\u001b[38;5;124mutf8\u001b[39m\u001b[38;5;124m'\u001b[39m))\n\u001b[1;32m---> 14\u001b[0m \u001b[43mmerge_video_and_audio\u001b[49m\u001b[43m(\u001b[49m\u001b[38;5;124;43m\"\u001b[39;49m\u001b[38;5;124;43mC:/Users/Lu/Documents/youtube/python_231212V.mp4\u001b[39;49m\u001b[38;5;124;43m\"\u001b[39;49m\u001b[43m,\u001b[49m\u001b[38;5;124;43m\"\u001b[39;49m\u001b[38;5;124;43mC:/Users/Lu/Documents/youtube/python_231212A.mp4\u001b[39;49m\u001b[38;5;124;43m\"\u001b[39;49m\u001b[43m,\u001b[49m\u001b[43m \u001b[49m\u001b[38;5;124;43m\"\u001b[39;49m\u001b[38;5;124;43mC:/Users/Lu/Documents/youtube/python_231212All.mp4\u001b[39;49m\u001b[38;5;124;43m\"\u001b[39;49m\u001b[43m)\u001b[49m\n",
      "Cell \u001b[1;32mIn[7], line 12\u001b[0m, in \u001b[0;36mmerge_video_and_audio\u001b[1;34m(video_path, audio_path, output_path)\u001b[0m\n\u001b[0;32m     10\u001b[0m \u001b[38;5;28;01mexcept\u001b[39;00m ffmpeg\u001b[38;5;241m.\u001b[39mError \u001b[38;5;28;01mas\u001b[39;00m e:\n\u001b[0;32m     11\u001b[0m     \u001b[38;5;28mprint\u001b[39m(\u001b[38;5;124m\"\u001b[39m\u001b[38;5;124mffmpeg合併過程中發生錯誤:\u001b[39m\u001b[38;5;124m\"\u001b[39m, e)\n\u001b[1;32m---> 12\u001b[0m     \u001b[38;5;28mprint\u001b[39m(\u001b[38;5;124m\"\u001b[39m\u001b[38;5;124mffmpeg命令輸出:\u001b[39m\u001b[38;5;124m\"\u001b[39m, \u001b[43me\u001b[49m\u001b[38;5;241;43m.\u001b[39;49m\u001b[43mstderr\u001b[49m\u001b[38;5;241;43m.\u001b[39;49m\u001b[43mdecode\u001b[49m(\u001b[38;5;124m'\u001b[39m\u001b[38;5;124mutf8\u001b[39m\u001b[38;5;124m'\u001b[39m))\n",
      "\u001b[1;31mAttributeError\u001b[0m: 'NoneType' object has no attribute 'decode'"
     ]
    }
   ],
   "source": [
    "import ffmpeg\n",
    "\n",
    "def merge_video_and_audio(video_path, audio_path, output_path):\n",
    "    try:\n",
    "        video = ffmpeg.input(video_path)\n",
    "        audio = ffmpeg.input(audio_path)\n",
    "        # 使用列表來傳遞多個map參數\n",
    "        output = ffmpeg.output(video, audio, output_path, vcodec='copy', acodec='copy',map=['0:v', '1:a'])\n",
    "        ffmpeg.run(output, overwrite_output=True)\n",
    "        print(\"合併成功！輸出文件位於:\", output_path)\n",
    "    except ffmpeg.Error as e:\n",
    "        print(\"ffmpeg合併過程中發生錯誤:\", e)\n",
    "        print(\"ffmpeg命令輸出:\", e.stderr.decode('utf8'))\n",
    "    \n",
    "merge_video_and_audio(\"C:/Users/Lu/Documents/youtube/python_231212V.mp4\",\"C:/Users/Lu/Documents/youtube/python_231212A.mp4\", \"C:/Users/Lu/Documents/youtube/python_231212All.mp4\")"
   ]
  },
  {
   "cell_type": "code",
   "execution_count": 8,
   "metadata": {},
   "outputs": [
    {
     "name": "stdout",
     "output_type": "stream",
     "text": [
      "ffmpeg合併過程中發生錯誤: ffmpeg error (see stderr output for detail)\n",
      "無法獲取 ffmpeg 錯誤輸出。\n"
     ]
    }
   ],
   "source": [
    "import ffmpeg\n",
    "\n",
    "def merge_video_and_audio(video_path, audio_path, output_path):\n",
    "    try:\n",
    "        video = ffmpeg.input(video_path)\n",
    "        audio = ffmpeg.input(audio_path)\n",
    "        # 使用列表來傳遞多個 map 參數\n",
    "        output = ffmpeg.output(video, audio, output_path, vcodec='copy', acodec='copy', map=['0:v', '1:a'])\n",
    "        ffmpeg.run(output, overwrite_output=True)\n",
    "        print(\"合併成功！輸出文件位於:\", output_path)\n",
    "    except ffmpeg.Error as e:\n",
    "        print(\"ffmpeg合併過程中發生錯誤:\", e)\n",
    "        # 檢查 stderr 是否為 None\n",
    "        if e.stderr:\n",
    "            print(\"ffmpeg命令輸出:\", e.stderr.decode('utf8'))\n",
    "        else:\n",
    "            print(\"無法獲取 ffmpeg 錯誤輸出。\")\n",
    "\n",
    "merge_video_and_audio(\"C:/Users/Lu/Documents/youtube/python_231212V.mp4\", \"C:/Users/Lu/Documents/youtube/python_231212A.mp4\", \"C:/Users/Lu/Documents/youtube/python_231212All.mp4\")\n"
   ]
  },
  {
   "cell_type": "code",
   "execution_count": 9,
   "metadata": {},
   "outputs": [
    {
     "ename": "SyntaxError",
     "evalue": "invalid syntax (2760299165.py, line 1)",
     "output_type": "error",
     "traceback": [
      "\u001b[1;36m  Cell \u001b[1;32mIn[9], line 1\u001b[1;36m\u001b[0m\n\u001b[1;33m    ffmpeg -i \"C:/Users/Lu/Documents/youtube/python_231212V.mp4\" -i \"C:/Users/Lu/Documents/youtube/python_231212A.mp4\" -c copy -map 0:v -map 1:a \"C:/Users/Lu/Documents/youtube/python_231212All.mp4\"\u001b[0m\n\u001b[1;37m              ^\u001b[0m\n\u001b[1;31mSyntaxError\u001b[0m\u001b[1;31m:\u001b[0m invalid syntax\n"
     ]
    }
   ],
   "source": [
    "ffmpeg -i \"C:/Users/Lu/Documents/youtube/python_231212V.mp4\" -i \"C:/Users/Lu/Documents/youtube/python_231212A.mp4\" -c copy -map 0:v -map 1:a \"C:/Users/Lu/Documents/youtube/python_231212All.mp4\"\n"
   ]
  },
  {
   "cell_type": "code",
   "execution_count": 10,
   "metadata": {},
   "outputs": [
    {
     "ename": "SyntaxError",
     "evalue": "invalid syntax (2760299165.py, line 1)",
     "output_type": "error",
     "traceback": [
      "\u001b[1;36m  Cell \u001b[1;32mIn[10], line 1\u001b[1;36m\u001b[0m\n\u001b[1;33m    ffmpeg -i \"C:/Users/Lu/Documents/youtube/python_231212V.mp4\" -i \"C:/Users/Lu/Documents/youtube/python_231212A.mp4\" -c copy -map 0:v -map 1:a \"C:/Users/Lu/Documents/youtube/python_231212All.mp4\"\u001b[0m\n\u001b[1;37m              ^\u001b[0m\n\u001b[1;31mSyntaxError\u001b[0m\u001b[1;31m:\u001b[0m invalid syntax\n"
     ]
    }
   ],
   "source": [
    "ffmpeg -i \"C:/Users/Lu/Documents/youtube/python_231212V.mp4\" -i \"C:/Users/Lu/Documents/youtube/python_231212A.mp4\" -c copy -map 0:v -map 1:a \"C:/Users/Lu/Documents/youtube/python_231212All.mp4\"\n"
   ]
  },
  {
   "cell_type": "code",
   "execution_count": 11,
   "metadata": {},
   "outputs": [
    {
     "name": "stdout",
     "output_type": "stream",
     "text": [
      "合併成功！輸出文件位於: C:/Users/Lu/Documents/youtube/python_231212All.mp4\n"
     ]
    }
   ],
   "source": [
    "import subprocess\n",
    "\n",
    "def merge_video_and_audio(video_path, audio_path, output_path):\n",
    "    command = [\n",
    "        'ffmpeg',\n",
    "        '-i', video_path,\n",
    "        '-i', audio_path,\n",
    "        '-c', 'copy',\n",
    "        '-map', '0:v',\n",
    "        '-map', '1:a',\n",
    "        output_path\n",
    "    ]\n",
    "    \n",
    "    try:\n",
    "        result = subprocess.run(command, check=True, stdout=subprocess.PIPE, stderr=subprocess.PIPE, text=True)\n",
    "        print(\"合併成功！輸出文件位於:\", output_path)\n",
    "    except subprocess.CalledProcessError as e:\n",
    "        print(\"ffmpeg合併過程中發生錯誤:\", e)\n",
    "        if e.stderr:\n",
    "            print(\"ffmpeg命令輸出:\", e.stderr)\n",
    "        else:\n",
    "            print(\"無法獲取 ffmpeg 錯誤輸出。\")\n",
    "\n",
    "merge_video_and_audio(\"C:/Users/Lu/Documents/youtube/python_231212V.mp4\", \"C:/Users/Lu/Documents/youtube/python_231212A.mp4\", \"C:/Users/Lu/Documents/youtube/python_231212All.mp4\")\n"
   ]
  },
  {
   "cell_type": "code",
   "execution_count": 16,
   "metadata": {},
   "outputs": [
    {
     "name": "stdout",
     "output_type": "stream",
     "text": [
      "ffmpeg合併過程中發生錯誤: ffmpeg error (see stderr output for detail)\n",
      "ffmpeg命令輸出: ffmpeg version 6.1.1-full_build-www.gyan.dev Copyright (c) 2000-2023 the FFmpeg developers\n",
      "  built with gcc 12.2.0 (Rev10, Built by MSYS2 project)\n",
      "  configuration: --enable-gpl --enable-version3 --enable-static --pkg-config=pkgconf --disable-w32threads --disable-autodetect --enable-fontconfig --enable-iconv --enable-gnutls --enable-libxml2 --enable-gmp --enable-bzlib --enable-lzma --enable-libsnappy --enable-zlib --enable-librist --enable-libsrt --enable-libssh --enable-libzmq --enable-avisynth --enable-libbluray --enable-libcaca --enable-sdl2 --enable-libaribb24 --enable-libaribcaption --enable-libdav1d --enable-libdavs2 --enable-libuavs3d --enable-libzvbi --enable-librav1e --enable-libsvtav1 --enable-libwebp --enable-libx264 --enable-libx265 --enable-libxavs2 --enable-libxvid --enable-libaom --enable-libjxl --enable-libopenjpeg --enable-libvpx --enable-mediafoundation --enable-libass --enable-frei0r --enable-libfreetype --enable-libfribidi --enable-libharfbuzz --enable-liblensfun --enable-libvidstab --enable-libvmaf --enable-libzimg --enable-amf --enable-cuda-llvm --enable-cuvid --enable-ffnvcodec --enable-nvdec --enable-nvenc --enable-dxva2 --enable-d3d11va --enable-libvpl --enable-libshaderc --enable-vulkan --enable-libplacebo --enable-opencl --enable-libcdio --enable-libgme --enable-libmodplug --enable-libopenmpt --enable-libopencore-amrwb --enable-libmp3lame --enable-libshine --enable-libtheora --enable-libtwolame --enable-libvo-amrwbenc --enable-libcodec2 --enable-libilbc --enable-libgsm --enable-libopencore-amrnb --enable-libopus --enable-libspeex --enable-libvorbis --enable-ladspa --enable-libbs2b --enable-libflite --enable-libmysofa --enable-librubberband --enable-libsoxr --enable-chromaprint\n",
      "  libavutil      58. 29.100 / 58. 29.100\n",
      "  libavcodec     60. 31.102 / 60. 31.102\n",
      "  libavformat    60. 16.100 / 60. 16.100\n",
      "  libavdevice    60.  3.100 / 60.  3.100\n",
      "  libavfilter     9. 12.100 /  9. 12.100\n",
      "  libswscale      7.  5.100 /  7.  5.100\n",
      "  libswresample   4. 12.100 /  4. 12.100\n",
      "  libpostproc    57.  3.100 / 57.  3.100\n",
      "Input #0, mov,mp4,m4a,3gp,3g2,mj2, from 'C:/Users/Lu/Documents/youtube/python_231212V.mp4':\n",
      "  Metadata:\n",
      "    major_brand     : dash\n",
      "    minor_version   : 0\n",
      "    compatible_brands: iso6avc1mp41\n",
      "    creation_time   : 2023-12-11T16:02:40.000000Z\n",
      "  Duration: 02:59:55.00, start: 0.000000, bitrate: 453 kb/s\n",
      "  Stream #0:0[0x1](und): Video: h264 (High) (avc1 / 0x31637661), yuv420p(tv, bt709, progressive), 1920x1080 [SAR 1:1 DAR 16:9], 0 kb/s, 30 fps, 30 tbr, 15360 tbn (default)\n",
      "    Metadata:\n",
      "      creation_time   : 2023-12-11T16:02:40.000000Z\n",
      "      handler_name    : ISO Media file produced by Google Inc.\n",
      "      vendor_id       : [0][0][0][0]\n",
      "Input #1, mov,mp4,m4a,3gp,3g2,mj2, from 'C:/Users/Lu/Documents/youtube/python_231212A.mp4':\n",
      "  Metadata:\n",
      "    major_brand     : dash\n",
      "    minor_version   : 0\n",
      "    compatible_brands: iso6mp41\n",
      "    creation_time   : 2023-12-11T16:02:40.000000Z\n",
      "  Duration: 02:59:55.14, start: 0.000000, bitrate: 48 kb/s\n",
      "  Stream #1:0[0x1](eng): Audio: aac (HE-AAC) (mp4a / 0x6134706D), 44100 Hz, stereo, fltp, 0 kb/s (default)\n",
      "    Metadata:\n",
      "      creation_time   : 2023-12-11T16:02:40.000000Z\n",
      "      handler_name    : ISO Media file produced by Google Inc.\n",
      "      vendor_id       : [0][0][0][0]\n",
      "Specifying a sync stream is deprecated and has no effect\n",
      "[out#0/mp4 @ 000002013ceeae00] Output with label '0:v' does not exist in any defined filter graph, or was already used elsewhere.\n",
      "Error opening output file C:/Users/Lu/Documents/youtube/python_231212All.mp4.\n",
      "Error opening output files: Invalid argument\n",
      "\n"
     ]
    }
   ],
   "source": [
    "import ffmpeg\n",
    "\n",
    "def merge_video_and_audio(video_path, audio_path, output_path):\n",
    "    try:\n",
    "        video = ffmpeg.input(video_path)\n",
    "        audio = ffmpeg.input(audio_path)\n",
    "        # 使用列表來傳遞多個 map 參數\n",
    "        output = ffmpeg.output(video, audio, output_path, vcodec='copy', acodec='copy', map=['0:v', '1:a'])\n",
    "        # 使用 capture_stdout 和 capture_stderr 捕獲詳細信息\n",
    "        ffmpeg.run(output, overwrite_output=True, capture_stdout=True, capture_stderr=True)\n",
    "        print(\"合併成功！輸出文件位於:\", output_path)\n",
    "    except ffmpeg.Error as e:\n",
    "        print(\"ffmpeg合併過程中發生錯誤:\", e)\n",
    "        # 檢查 stderr 是否為 None\n",
    "        if e.stderr:\n",
    "            print(\"ffmpeg命令輸出:\", e.stderr.decode('utf8'))\n",
    "        else:\n",
    "            print(\"無法獲取 ffmpeg 錯誤輸出。\")\n",
    "\n",
    "merge_video_and_audio(\"C:/Users/Lu/Documents/youtube/python_231212V.mp4\", \"C:/Users/Lu/Documents/youtube/python_231212A.mp4\", \"C:/Users/Lu/Documents/youtube/python_231212All.mp4\")"
   ]
  },
  {
   "cell_type": "code",
   "execution_count": 15,
   "metadata": {},
   "outputs": [
    {
     "name": "stdout",
     "output_type": "stream",
     "text": [
      "ffmpeg合併過程中發生錯誤: ffmpeg error (see stderr output for detail)\n",
      "ffmpeg命令輸出: ffmpeg version 6.1.1-full_build-www.gyan.dev Copyright (c) 2000-2023 the FFmpeg developers\n",
      "  built with gcc 12.2.0 (Rev10, Built by MSYS2 project)\n",
      "  configuration: --enable-gpl --enable-version3 --enable-static --pkg-config=pkgconf --disable-w32threads --disable-autodetect --enable-fontconfig --enable-iconv --enable-gnutls --enable-libxml2 --enable-gmp --enable-bzlib --enable-lzma --enable-libsnappy --enable-zlib --enable-librist --enable-libsrt --enable-libssh --enable-libzmq --enable-avisynth --enable-libbluray --enable-libcaca --enable-sdl2 --enable-libaribb24 --enable-libaribcaption --enable-libdav1d --enable-libdavs2 --enable-libuavs3d --enable-libzvbi --enable-librav1e --enable-libsvtav1 --enable-libwebp --enable-libx264 --enable-libx265 --enable-libxavs2 --enable-libxvid --enable-libaom --enable-libjxl --enable-libopenjpeg --enable-libvpx --enable-mediafoundation --enable-libass --enable-frei0r --enable-libfreetype --enable-libfribidi --enable-libharfbuzz --enable-liblensfun --enable-libvidstab --enable-libvmaf --enable-libzimg --enable-amf --enable-cuda-llvm --enable-cuvid --enable-ffnvcodec --enable-nvdec --enable-nvenc --enable-dxva2 --enable-d3d11va --enable-libvpl --enable-libshaderc --enable-vulkan --enable-libplacebo --enable-opencl --enable-libcdio --enable-libgme --enable-libmodplug --enable-libopenmpt --enable-libopencore-amrwb --enable-libmp3lame --enable-libshine --enable-libtheora --enable-libtwolame --enable-libvo-amrwbenc --enable-libcodec2 --enable-libilbc --enable-libgsm --enable-libopencore-amrnb --enable-libopus --enable-libspeex --enable-libvorbis --enable-ladspa --enable-libbs2b --enable-libflite --enable-libmysofa --enable-librubberband --enable-libsoxr --enable-chromaprint\n",
      "  libavutil      58. 29.100 / 58. 29.100\n",
      "  libavcodec     60. 31.102 / 60. 31.102\n",
      "  libavformat    60. 16.100 / 60. 16.100\n",
      "  libavdevice    60.  3.100 / 60.  3.100\n",
      "  libavfilter     9. 12.100 /  9. 12.100\n",
      "  libswscale      7.  5.100 /  7.  5.100\n",
      "  libswresample   4. 12.100 /  4. 12.100\n",
      "  libpostproc    57.  3.100 / 57.  3.100\n",
      "Input #0, mov,mp4,m4a,3gp,3g2,mj2, from 'C:/Users/Lu/Documents/youtube/python_231212V.mp4':\n",
      "  Metadata:\n",
      "    major_brand     : dash\n",
      "    minor_version   : 0\n",
      "    compatible_brands: iso6avc1mp41\n",
      "    creation_time   : 2023-12-11T16:02:40.000000Z\n",
      "  Duration: 02:59:55.00, start: 0.000000, bitrate: 453 kb/s\n",
      "  Stream #0:0[0x1](und): Video: h264 (High) (avc1 / 0x31637661), yuv420p(tv, bt709, progressive), 1920x1080 [SAR 1:1 DAR 16:9], 0 kb/s, 30 fps, 30 tbr, 15360 tbn (default)\n",
      "    Metadata:\n",
      "      creation_time   : 2023-12-11T16:02:40.000000Z\n",
      "      handler_name    : ISO Media file produced by Google Inc.\n",
      "      vendor_id       : [0][0][0][0]\n",
      "Input #1, mov,mp4,m4a,3gp,3g2,mj2, from 'C:/Users/Lu/Documents/youtube/python_231212A.mp4':\n",
      "  Metadata:\n",
      "    major_brand     : dash\n",
      "    minor_version   : 0\n",
      "    compatible_brands: iso6mp41\n",
      "    creation_time   : 2023-12-11T16:02:40.000000Z\n",
      "  Duration: 02:59:55.14, start: 0.000000, bitrate: 48 kb/s\n",
      "  Stream #1:0[0x1](eng): Audio: aac (HE-AAC) (mp4a / 0x6134706D), 44100 Hz, stereo, fltp, 0 kb/s (default)\n",
      "    Metadata:\n",
      "      creation_time   : 2023-12-11T16:02:40.000000Z\n",
      "      handler_name    : ISO Media file produced by Google Inc.\n",
      "      vendor_id       : [0][0][0][0]\n",
      "Specifying a sync stream is deprecated and has no effect\n",
      "[out#0/mp4 @ 000001b0c0ffa140] Output with label '0:v' does not exist in any defined filter graph, or was already used elsewhere.\n",
      "Error opening output file C:/Users/Lu/Documents/youtube/python_231212All.mp4.\n",
      "Error opening output files: Invalid argument\n",
      "\n"
     ]
    }
   ],
   "source": [
    "# ffmpeg命令輸出: ffmpeg version 6.1.1-full_build\n",
    "import ffmpeg\n",
    "\n",
    "def merge_video_and_audio(video_path, audio_path, output_path):\n",
    "    try:\n",
    "        video = ffmpeg.input(video_path)\n",
    "        audio = ffmpeg.input(audio_path)\n",
    "        # 使用列表來傳遞多個 map 參數\n",
    "        output = ffmpeg.output(video, audio, output_path, vcodec='copy', acodec='copy', **{'map': ['0:v', '1:a']})\n",
    "        # 使用 capture_stdout 和 capture_stderr 捕獲詳細信息\n",
    "        ffmpeg.run(output, overwrite_output=True, capture_stdout=True, capture_stderr=True)\n",
    "        print(\"合併成功！輸出文件位於:\", output_path)\n",
    "    except ffmpeg.Error as e:\n",
    "        print(\"ffmpeg合併過程中發生錯誤:\", e)\n",
    "        # 檢查 stderr 是否為 None\n",
    "        if e.stderr:\n",
    "            print(\"ffmpeg命令輸出:\", e.stderr.decode('utf8'))\n",
    "        else:\n",
    "            print(\"無法獲取 ffmpeg 錯誤輸出。\")\n",
    "\n",
    "merge_video_and_audio(\"C:/Users/Lu/Documents/youtube/python_231212V.mp4\", \"C:/Users/Lu/Documents/youtube/python_231212A.mp4\", \"C:/Users/Lu/Documents/youtube/python_231212All.mp4\")\n"
   ]
  },
  {
   "cell_type": "code",
   "execution_count": 19,
   "metadata": {},
   "outputs": [
    {
     "name": "stdout",
     "output_type": "stream",
     "text": [
      "ffmpeg合併過程中發生錯誤: ffmpeg error (see stderr output for detail)\n",
      "ffmpeg命令輸出: ffmpeg version 7.0.1-full_build-www.gyan.dev Copyright (c) 2000-2024 the FFmpeg developers\n",
      "  built with gcc 13.2.0 (Rev5, Built by MSYS2 project)\n",
      "  configuration: --enable-gpl --enable-version3 --enable-static --disable-w32threads --disable-autodetect --enable-fontconfig --enable-iconv --enable-gnutls --enable-libxml2 --enable-gmp --enable-bzlib --enable-lzma --enable-libsnappy --enable-zlib --enable-librist --enable-libsrt --enable-libssh --enable-libzmq --enable-avisynth --enable-libbluray --enable-libcaca --enable-sdl2 --enable-libaribb24 --enable-libaribcaption --enable-libdav1d --enable-libdavs2 --enable-libuavs3d --enable-libxevd --enable-libzvbi --enable-librav1e --enable-libsvtav1 --enable-libwebp --enable-libx264 --enable-libx265 --enable-libxavs2 --enable-libxeve --enable-libxvid --enable-libaom --enable-libjxl --enable-libopenjpeg --enable-libvpx --enable-mediafoundation --enable-libass --enable-frei0r --enable-libfreetype --enable-libfribidi --enable-libharfbuzz --enable-liblensfun --enable-libvidstab --enable-libvmaf --enable-libzimg --enable-amf --enable-cuda-llvm --enable-cuvid --enable-dxva2 --enable-d3d11va --enable-d3d12va --enable-ffnvcodec --enable-libvpl --enable-nvdec --enable-nvenc --enable-vaapi --enable-libshaderc --enable-vulkan --enable-libplacebo --enable-opencl --enable-libcdio --enable-libgme --enable-libmodplug --enable-libopenmpt --enable-libopencore-amrwb --enable-libmp3lame --enable-libshine --enable-libtheora --enable-libtwolame --enable-libvo-amrwbenc --enable-libcodec2 --enable-libilbc --enable-libgsm --enable-libopencore-amrnb --enable-libopus --enable-libspeex --enable-libvorbis --enable-ladspa --enable-libbs2b --enable-libflite --enable-libmysofa --enable-librubberband --enable-libsoxr --enable-chromaprint\n",
      "  libavutil      59.  8.100 / 59.  8.100\n",
      "  libavcodec     61.  3.100 / 61.  3.100\n",
      "  libavformat    61.  1.100 / 61.  1.100\n",
      "  libavdevice    61.  1.100 / 61.  1.100\n",
      "  libavfilter    10.  1.100 / 10.  1.100\n",
      "  libswscale      8.  1.100 /  8.  1.100\n",
      "  libswresample   5.  1.100 /  5.  1.100\n",
      "  libpostproc    58.  1.100 / 58.  1.100\n",
      "Input #0, mov,mp4,m4a,3gp,3g2,mj2, from 'C:/Users/Lu/Documents/youtube/python_231212V.mp4':\n",
      "  Metadata:\n",
      "    major_brand     : dash\n",
      "    minor_version   : 0\n",
      "    compatible_brands: iso6avc1mp41\n",
      "    creation_time   : 2023-12-11T16:02:40.000000Z\n",
      "  Duration: 02:59:55.00, start: 0.000000, bitrate: 453 kb/s\n",
      "  Stream #0:0[0x1](und): Video: h264 (High) (avc1 / 0x31637661), yuv420p(tv, bt709, progressive), 1920x1080 [SAR 1:1 DAR 16:9], 0 kb/s, 30 fps, 30 tbr, 15360 tbn (default)\n",
      "      Metadata:\n",
      "        creation_time   : 2023-12-11T16:02:40.000000Z\n",
      "        handler_name    : ISO Media file produced by Google Inc.\n",
      "        vendor_id       : [0][0][0][0]\n",
      "Input #1, mov,mp4,m4a,3gp,3g2,mj2, from 'C:/Users/Lu/Documents/youtube/python_231212A.mp4':\n",
      "  Metadata:\n",
      "    major_brand     : dash\n",
      "    minor_version   : 0\n",
      "    compatible_brands: iso6mp41\n",
      "    creation_time   : 2023-12-11T16:02:40.000000Z\n",
      "  Duration: 02:59:55.14, start: 0.000000, bitrate: 48 kb/s\n",
      "  Stream #1:0[0x1](eng): Audio: aac (HE-AAC) (mp4a / 0x6134706D), 44100 Hz, stereo, fltp, 0 kb/s (default)\n",
      "      Metadata:\n",
      "        creation_time   : 2023-12-11T16:02:40.000000Z\n",
      "        handler_name    : ISO Media file produced by Google Inc.\n",
      "        vendor_id       : [0][0][0][0]\n",
      "[out#0/mp4 @ 000001fa1fa94f00] Output with label '0:v, 1:a' does not exist in any defined filter graph, or was already used elsewhere.\n",
      "Error opening output file C:/Users/Lu/Documents/youtube/python_231212All.mp4.\n",
      "Error opening output files: Invalid argument\n",
      "\n"
     ]
    }
   ],
   "source": [
    "# ffmpeg命令輸出: ffmpeg version ˙7.0.1-full_build\n",
    "import ffmpeg\n",
    "\n",
    "def merge_video_and_audio(video_path, audio_path, output_path):\n",
    "    try:\n",
    "        video = ffmpeg.input(video_path)\n",
    "        audio = ffmpeg.input(audio_path)\n",
    "        # 使用列表來傳遞多個 map 參數\n",
    "        output = ffmpeg.output(video, audio, output_path, vcodec='copy', acodec='copy', **{'map': ['0:v', '1:a']})\n",
    "        # 使用 capture_stdout 和 capture_stderr 捕獲詳細信息\n",
    "        ffmpeg.run(output, overwrite_output=True, capture_stdout=True, capture_stderr=True)\n",
    "        print(\"合併成功！輸出文件位於:\", output_path)\n",
    "    except ffmpeg.Error as e:\n",
    "        print(\"ffmpeg合併過程中發生錯誤:\", e)\n",
    "        # 檢查 stderr 是否為 None\n",
    "        if e.stderr:\n",
    "            print(\"ffmpeg命令輸出:\", e.stderr.decode('utf8'))\n",
    "        else:\n",
    "            print(\"無法獲取 ffmpeg 錯誤輸出。\")\n",
    "\n",
    "merge_video_and_audio(\"C:/Users/Lu/Documents/youtube/python_231212V.mp4\", \"C:/Users/Lu/Documents/youtube/python_231212A.mp4\", \"C:/Users/Lu/Documents/youtube/python_231212All.mp4\")\n"
   ]
  },
  {
   "cell_type": "markdown",
   "metadata": {},
   "source": [
    "^^^^^^^^^^^\n",
    "++++++++++++++++\n",
    "pass"
   ]
  },
  {
   "cell_type": "code",
   "execution_count": 8,
   "metadata": {},
   "outputs": [
    {
     "ename": "Error",
     "evalue": "ffmpeg error (see stderr output for detail)",
     "output_type": "error",
     "traceback": [
      "\u001b[1;31m---------------------------------------------------------------------------\u001b[0m",
      "\u001b[1;31mError\u001b[0m                                     Traceback (most recent call last)",
      "Cell \u001b[1;32mIn[8], line 38\u001b[0m\n\u001b[0;32m     36\u001b[0m \u001b[38;5;66;03m# 合併 video 和 audio\u001b[39;00m\n\u001b[0;32m     37\u001b[0m output_video_path \u001b[38;5;241m=\u001b[39m \u001b[38;5;124mf\u001b[39m\u001b[38;5;124m\"\u001b[39m\u001b[38;5;132;01m{\u001b[39;00moutput_directory\u001b[38;5;132;01m}\u001b[39;00m\u001b[38;5;124m/merged_video.mp4\u001b[39m\u001b[38;5;124m\"\u001b[39m\n\u001b[1;32m---> 38\u001b[0m \u001b[43mmerge_video_and_audio\u001b[49m\u001b[43m(\u001b[49m\u001b[43mvideo_path\u001b[49m\u001b[43m,\u001b[49m\u001b[43m \u001b[49m\u001b[43maudio_path\u001b[49m\u001b[43m,\u001b[49m\u001b[43m \u001b[49m\u001b[43moutput_video_path\u001b[49m\u001b[43m)\u001b[49m\n\u001b[0;32m     40\u001b[0m \u001b[38;5;28mprint\u001b[39m(\u001b[38;5;124m\"\u001b[39m\u001b[38;5;124m下載並合併完成！\u001b[39m\u001b[38;5;124m\"\u001b[39m)\n",
      "Cell \u001b[1;32mIn[8], line 24\u001b[0m, in \u001b[0;36mmerge_video_and_audio\u001b[1;34m(video_path, audio_path, output_path)\u001b[0m\n\u001b[0;32m     21\u001b[0m \u001b[38;5;28;01mdef\u001b[39;00m \u001b[38;5;21mmerge_video_and_audio\u001b[39m(video_path, audio_path, output_path):\n\u001b[0;32m     22\u001b[0m     \u001b[38;5;66;03m# 使用 ffmpeg 將 video 和 audio 合併\u001b[39;00m\n\u001b[0;32m     23\u001b[0m     \u001b[43mffmpeg\u001b[49m\u001b[38;5;241;43m.\u001b[39;49m\u001b[43minput\u001b[49m\u001b[43m(\u001b[49m\u001b[43mvideo_path\u001b[49m\u001b[43m)\u001b[49m\u001b[38;5;241;43m.\u001b[39;49m\u001b[43moutput\u001b[49m\u001b[43m(\u001b[49m\n\u001b[1;32m---> 24\u001b[0m \u001b[43m        \u001b[49m\u001b[43moutput_path\u001b[49m\u001b[43m,\u001b[49m\u001b[43m \u001b[49m\u001b[43mcodec\u001b[49m\u001b[38;5;241;43m=\u001b[39;49m\u001b[38;5;124;43m\"\u001b[39;49m\u001b[38;5;124;43mcopy\u001b[39;49m\u001b[38;5;124;43m\"\u001b[39;49m\u001b[43m,\u001b[49m\u001b[43m \u001b[49m\u001b[38;5;28;43mmap\u001b[39;49m\u001b[38;5;241;43m=\u001b[39;49m\u001b[38;5;124;43m\"\u001b[39;49m\u001b[38;5;124;43m0:v\u001b[39;49m\u001b[38;5;124;43m\"\u001b[39;49m\u001b[43m,\u001b[49m\u001b[43m \u001b[49m\u001b[43mmap_audio\u001b[49m\u001b[38;5;241;43m=\u001b[39;49m\u001b[38;5;124;43m\"\u001b[39;49m\u001b[38;5;124;43m1:a\u001b[39;49m\u001b[38;5;124;43m\"\u001b[39;49m\u001b[43m)\u001b[49m\u001b[38;5;241;43m.\u001b[39;49m\u001b[43mrun\u001b[49m\u001b[43m(\u001b[49m\u001b[43m)\u001b[49m\n",
      "File \u001b[1;32mc:\\Users\\Lu\\Documents\\GitHub\\__2024_01_08_python_openAPI__\\__youtube_download__\\yt.venv\\lib\\site-packages\\ffmpeg\\_run.py:325\u001b[0m, in \u001b[0;36mrun\u001b[1;34m(stream_spec, cmd, capture_stdout, capture_stderr, input, quiet, overwrite_output)\u001b[0m\n\u001b[0;32m    323\u001b[0m retcode \u001b[38;5;241m=\u001b[39m process\u001b[38;5;241m.\u001b[39mpoll()\n\u001b[0;32m    324\u001b[0m \u001b[38;5;28;01mif\u001b[39;00m retcode:\n\u001b[1;32m--> 325\u001b[0m     \u001b[38;5;28;01mraise\u001b[39;00m Error(\u001b[38;5;124m'\u001b[39m\u001b[38;5;124mffmpeg\u001b[39m\u001b[38;5;124m'\u001b[39m, out, err)\n\u001b[0;32m    326\u001b[0m \u001b[38;5;28;01mreturn\u001b[39;00m out, err\n",
      "\u001b[1;31mError\u001b[0m: ffmpeg error (see stderr output for detail)"
     ]
    }
   ],
   "source": [
    "# chatGPT\n",
    "from pytube import YouTube\n",
    "import ffmpeg\n",
    "\n",
    "\n",
    "def download_video_and_audio(url, output_path):\n",
    "    # 創建 YouTube 對象\n",
    "    yt = YouTube(url)\n",
    "\n",
    "    # 獲取 1080p 的 video 和 audio streams\n",
    "    video_stream = yt.streams.filter(res=\"1080p\", file_extension=\"mp4\").first()\n",
    "    audio_stream = yt.streams.filter(only_audio=True).first()\n",
    "\n",
    "    # 下載 video 和 audio\n",
    "    video_path = video_stream.download(output_path=output_path)\n",
    "    audio_path = audio_stream.download(output_path=output_path)\n",
    "\n",
    "    return video_path, audio_path\n",
    "\n",
    "\n",
    "def merge_video_and_audio(video_path, audio_path, output_path):\n",
    "    # 使用 ffmpeg 將 video 和 audio 合併\n",
    "    ffmpeg.input(video_path).output(\n",
    "        output_path, codec=\"copy\", map=\"0:v\", map_audio=\"1:a\").run()\n",
    "\n",
    "\n",
    "if __name__ == \"__main__\":\n",
    "    # YouTube 視頻的 URL\n",
    "    url = \"https://youtube.com/live/n7eicT5seJc\"\n",
    "    #yt = YouTube('https://youtube.com/live/n7eicT5seJc')   # Ex.2023_12_19_上午\n",
    "    output_directory ='C:/Users/Lu/Documents/youtube'\n",
    "\n",
    "    # 下載 video 和 audio\n",
    "    video_path, audio_path = download_video_and_audio(url, output_directory)\n",
    "\n",
    "    # 合併 video 和 audio\n",
    "    output_video_path = f\"{output_directory}/merged_video.mp4\"\n",
    "    merge_video_and_audio(video_path, audio_path, output_video_path)\n",
    "\n",
    "    print(\"下載並合併完成！\")"
   ]
  }
 ],
 "metadata": {
  "kernelspec": {
   "display_name": "yt.venv",
   "language": "python",
   "name": "python3"
  },
  "language_info": {
   "codemirror_mode": {
    "name": "ipython",
    "version": 3
   },
   "file_extension": ".py",
   "mimetype": "text/x-python",
   "name": "python",
   "nbconvert_exporter": "python",
   "pygments_lexer": "ipython3",
   "version": "3.10.8"
  }
 },
 "nbformat": 4,
 "nbformat_minor": 2
}
