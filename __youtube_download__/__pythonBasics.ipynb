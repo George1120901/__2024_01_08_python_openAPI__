{
 "cells": [
  {
   "cell_type": "markdown",
   "metadata": {},
   "source": [
    "### Python\n",
    "#### Basics\n",
    "[參考網址](https://www3.ntu.edu.sg/home/ehchua/programming/webprogramming/Python1_Basics.html#re)www3.ntu.edu.sg  \n",
    "<文中前言建議>在學習Python/JavaScript/Perl/PHP等腳本語言之前，先學習傳統的通用程式語言（例如C/C++/Java），因為它們比具有許多奇特功能的傳統語言結構更少。??????  "
   ]
  },
  {
   "cell_type": "markdown",
   "metadata": {},
   "source": [
    "### **介紹**  \n",
    "Python 是由荷蘭人 吉多·範·羅森 (Guido van Rossum) 於 1991年左右創建的，Python是個開源專案。母站點是[www.python.org](www.python.org)。  \n",
    "\n",
    "#### **Python的主要特點是：**  \n",
    "* Python 是一種簡單直覺的語言， Python 腳本易於閱讀和理解。  \n",
    "* Python（像 Perl）具有表現力，一行Python程式碼可以完成傳統通用語言（例如C/C++/Java）中的多行程式碼。\n",
    "* Python 是免費且開源的，它是跨平台的，可以在 Windows、Linux/Unix 和 macOS 上運行。  \n",
    "* Python 非常適合快速應用程式開發(RAD - rapid application development)。與其他通用語言（例如 C/C++/Java）相比，使用 Python 編寫應用程式的時間要短得多。 Python 可用於編寫小型應用程式和快速原型，但它也可以很好地擴展以開發大型專案。  \n",
    "Python 是一種動態類型的腳本語言。與大多數腳本語言（例如 Perl、JavaScript）一樣，Python 將類型與物件而不是變數相關聯。也就是說，變數可以被賦予任何類型的值，列表（陣列）可以包含不同類型的物件。  \n",
    "Python 提供自動記憶體管理。您不需要在程式中分配和釋放記憶體。  \n",
    "Python 提供進階資料類型，例如動態數組和字典（或關聯數組）。  \n",
    "Python 是物件導向的。  \n",
    "Python 不是一種完全編譯的語言。它被編譯成內部字節碼，然後被解釋。因此，Python 的速度不如 C/C++ 等完全編譯語言。  \n",
    "Python 附帶了大量的函式庫，包括圖形使用者介面 (GUI) 工具包、Web 程式庫、網路等。  \n",
    "Python有3個版本：  \n",
    "\n",
    "Python 1：初始版本。  \n",
    "Python 2：2000 年發布，具有許多新功能，例如垃圾收集器和對 Unicode 的支援。  \n",
    "Python 3（Python 3000 或 py3k）：2008 年發布的重大升級。  \n",
    "Python 2 還是 Python 3？  \n",
    "目前，並行支援兩個版本的 Python：版本 2 和版本 3。發生這種情況是因為當 Guido Van Rossum（Python 的創建者）決定對 Python 2 進行重大更改時，他發現新的變更將與現有程式碼不相容。他決定啟動一個名為 Python 3 的新版本，但繼續維護舊的 Python 2，而不會引入新功能。 Python 3.0 於 2008 年發布，Python 2.7 於 2010 年發布。  \n",
    "\n",
    "再次注意，PYTHON 2 和 PYTHON 3 不相容！您需要決定使用 Python 2 還是 Python 3。  \n",
    "\n",
    "若要檢查 Python 的版本，請發出以下命令：\n",
    "\n",
    "$ Python --版本\n",
    "文件\n",
    "Python 文件和語言參考在線提供 @ https://docs.python.org。"
   ]
  }
 ],
 "metadata": {
  "kernelspec": {
   "display_name": "yt.venv",
   "language": "python",
   "name": "python3"
  },
  "language_info": {
   "name": "python",
   "version": "3.10.8"
  }
 },
 "nbformat": 4,
 "nbformat_minor": 2
}
