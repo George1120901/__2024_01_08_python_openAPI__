{
 "cells": [
  {
   "cell_type": "markdown",
   "metadata": {},
   "source": [
    "### Python\n",
    "#### Basics\n",
    "[參考網址](https://www3.ntu.edu.sg/home/ehchua/programming/webprogramming/Python1_Basics.html#re)www3.ntu.edu.sg  \n",
    "<文中前言建議>在學習Python/JavaScript/Perl/PHP等腳本語言之前，先學習傳統的通用程式語言（例如C/C++/Java），因為它們比具有許多奇特功能的傳統語言結構更少。??????  "
   ]
  },
  {
   "cell_type": "markdown",
   "metadata": {},
   "source": [
    "### **介紹**  \n",
    "Python 是由荷蘭人 吉多·範·羅森 (Guido van Rossum) 於 1991年左右創建的，Python是個開源專案。母站點是[www.python.org](www.python.org)。  \n",
    "\n",
    "#### **Python的主要特點是：**  \n",
    "* Python 是一種簡單直覺的語言， Python 腳本易於閱讀和理解。  \n",
    "* Python（像 Perl）具有表現力，一行Python程式碼可以完成傳統通用語言（例如C/C++/Java）中的多行程式碼。\n",
    "* Python 是免費且開源的，它是跨平台的，可以在 Windows、Linux/Unix 和 macOS 上運行。  \n",
    "* Python 非常適合快速應用程式開發(RAD - rapid application development)。與其他通用語言（例如 C/C++/Java）相比，使用 Python 編寫應用程式的時間要短得多。 Python 可用於編寫小型應用程式和快速原型，但它也可以很好地擴展以開發大型專案。  \n",
    "* Python 是一種動態類型的腳本語言。與大多數腳本語言（例如 Perl、JavaScript）一樣，Python 將相關聯類型為物件而不是變數。也就是說，變數可以被賦予任何類型的值，列表（陣列）可以包含不同類型的物件。  \n",
    "* Python 提供自動記憶體管理。您不需要在程式中分配和釋放記憶體。  \n",
    "* Python 提供進階資料類型，例如動態陣列(dynamic array)和字典(dictionary) （或關聯陣列）。  \n",
    "* Python 是物件導向的。  \n",
    "* Python 不是一種完全編譯的語言。它被編譯成內部字節碼，然後被解譯。因此，Python 的速度不如 C/C++ 等完全編譯語言。  \n",
    "* Python 附帶了大量的函式庫，包括圖形使用者介面 (GUI) 工具包、Web 程式庫、網路等。  \n",
    "\n",
    "**Python有3個版本：**  \n",
    "* Python 1：初始版本。  \n",
    "* Python 2：2000 年發布，具有許多新功能，例如垃圾收集器和對 Unicode 的支援。  \n",
    "* ython 3（Python 3000 或 py3k）：2008 年發布的重大升級。 Python 3 不向下相容 Python 2 。   \n",
    "\n",
    "**Python 2 還是 Python 3？**\n",
    "* 目前，Python並行支援 version 2 和version 3 的兩個版本，遺憾的是存在不相容的情況。  \n",
    "* 發生這種情況是因為當 Guido Van Rossum（Python 的創建者）決定對 Python 2 進行重大更改時，他發現新的變更將與現有程式碼不相容。他決定啟動一個名為 Python 3 的新版本，但繼續維護舊的 Python 2，而不會引入新功能。 * Python 3.0 於 2008 年發布，Python 2.7 於 2010 年發布。  \n",
    "\n",
    "**再次注意，PYTHON 2 和 PYTHON 3 不相容！您需要決定使用 Python 2 還是 Python 3。**   \n",
    "使用 Python 3 啟動新專案。僅使用 Python 2 來維護遺留專案。\n",
    "\n",
    "若要檢查 Python 的版本，請發出以下命令：  \n",
    "\n",
    "`$ Python --version`  \n",
    "\n",
    "**文件**\n",
    "Python 文件和語言在線上提供參考 @[https://docs.python.org](https://docs.python.org)。"
   ]
  },
  {
   "cell_type": "markdown",
   "metadata": {},
   "source": [
    "### **Python 基本語法**\n",
    "#### **行末尾的宣告**  \n",
    "Python 註解以井號 (#) 開頭，一直到目前行末尾 (EOL)。 Python 解釋器會忽略註釋，但它們對於為其他人（以及自己日後的）閱讀您的程式提供解釋和文件至關重要。自由地使用評論。\n",
    "\n",
    "Python 中沒有多行註解？ （C/C++/Java 透過 . 支援多行註解`/* ... */`。）\n",
    "\n",
    "#### **聲明**\n",
    "Python 語句由換行符號分隔。語句不能跨越行邊界，但下列情況除外：\n",
    "\n",
    "1. ()括號、方括號[]和大括號中的表達式{}可以跨越多行。\n",
    "2. 行尾的反斜線 ( \\ ) 表示繼續下一行。這是一條舊規則，不推薦，因為它容易出錯。  \n",
    "\n",
    "與 C/C++/C#/Java 不同，您無需在 Python 語句末尾放置分號 ( ; )。但您可以將多個語句放在一行上，並以分號 ( ; ) 分隔。例如，  \n",
    "\n",
    "```\n",
    "# One Python statement in one line, terminated by a newline.\n",
    "# There is no semicolon at the end of a statement.\n",
    ">>> x = 1     # Assign 1 to variable x\n",
    ">>> print(x)  # Print the value of the variable x\n",
    "1\n",
    ">>> x + 1\n",
    "2\n",
    ">>> y = x / 2\n",
    ">>> y\n",
    "0.5\n",
    "\n",
    "# You can place multiple statements in one line, separated by semicolon.\n",
    ">>> print(x); print(x+1); print(x+2)  # No ending semicolon\n",
    "1\n",
    "2\n",
    "3\n",
    "\n",
    "# An expression in brackets [] (i.e., list) can span multiple lines\n",
    ">>> x = [1,\n",
    "         22,\n",
    "         333]  # Re-assign a list denoted as [v1, v2, ...] to variable x\n",
    ">>> x\n",
    "[1, 22, 333]\n",
    "\n",
    "# An expression in braces {} (i.e., associative array) can also span multiple lines\n",
    ">>> x = {'name':'Peter',\n",
    "         'gender':'male',\n",
    "         'age':21\n",
    "        }   # Re-assign a dictionary denoted as {k1:v1, k2:v2,...} to variable x\n",
    ">>> x\n",
    "{'name': 'Peter', 'gender': 'male', 'age': 21}\n",
    "\n",
    "# An expression in parentheses () can also span multiple lines\n",
    "# You can break a long expression into several lines by enclosing it with parentheses ()\n",
    ">>> x =(1 +\n",
    "        2\n",
    "        + 3\n",
    "        -\n",
    "        4)\n",
    ">>> x\n",
    "2\n",
    "\n",
    "# You can break a long string into several lines with parentheses () too\n",
    ">>> s = ('testing '   # No commas\n",
    "         'hello, '\n",
    "         'world!')\n",
    ">>> s\n",
    "'testing hello, world!'\n",
    "```"
   ]
  },
  {
   "cell_type": "code",
   "execution_count": 1,
   "metadata": {},
   "outputs": [
    {
     "name": "stdout",
     "output_type": "stream",
     "text": [
      "1\n",
      "2\n"
     ]
    },
    {
     "data": {
      "text/plain": [
       "0.5"
      ]
     },
     "execution_count": 1,
     "metadata": {},
     "output_type": "execute_result"
    }
   ],
   "source": [
    "# 一行中包含一個 Python 語句，以換行符號結束。\n",
    "# 語句末尾沒有分號。\n",
    "x = 1         # 將 1 賦給變數 x\n",
    "print(x)      # 列印變數 x 的值\n",
    "\n",
    "print(x + 1)  # 列印變數 x + 1 的值\n",
    "\n",
    "y = x / 2     # 將 x / 2 賦給變數y\n",
    "y             # 列印變數 y 的值"
   ]
  },
  {
   "cell_type": "code",
   "execution_count": 2,
   "metadata": {},
   "outputs": [
    {
     "name": "stdout",
     "output_type": "stream",
     "text": [
      "1\n",
      "2\n",
      "3\n"
     ]
    }
   ],
   "source": [
    "# 您可以將多個語句放在一行中，並用分號分隔。\n",
    "x = 1         # 將 1 賦給變數 x\n",
    "print(x); print(x+1); print(x+2)  # 沒有結束分號"
   ]
  },
  {
   "cell_type": "code",
   "execution_count": 3,
   "metadata": {},
   "outputs": [
    {
     "name": "stdout",
     "output_type": "stream",
     "text": [
      "1\n"
     ]
    },
    {
     "data": {
      "text/plain": [
       "[1, 22, 333]"
      ]
     },
     "execution_count": 3,
     "metadata": {},
     "output_type": "execute_result"
    }
   ],
   "source": [
    "# 方括號 [] 中的表達式（即列表）可以跨越多行\n",
    "x = 1         # 將 1 賦給變數 x\n",
    "print(x)      # 列印變數 x 的值\n",
    "\n",
    "x = [1,\n",
    "    22,\n",
    "    333]  # 將表示為 [v1, v2, ...] 的清單重新指派給變數 x\n",
    "x"
   ]
  },
  {
   "cell_type": "code",
   "execution_count": 4,
   "metadata": {},
   "outputs": [
    {
     "name": "stdout",
     "output_type": "stream",
     "text": [
      "1\n"
     ]
    },
    {
     "data": {
      "text/plain": [
       "{'name': 'Peter', 'gender': 'male', 'age': 21}"
      ]
     },
     "execution_count": 4,
     "metadata": {},
     "output_type": "execute_result"
    }
   ],
   "source": [
    "# 大括號 {} 中的表達式（即關聯數組）也可以跨越多行\n",
    "x = 1         # 將 1 賦給變數 x\n",
    "print(x)      # 列印變數 x 的值\n",
    "\n",
    "x = {'name':'Peter',\n",
    "    'gender':'male',\n",
    "    'age':21\n",
    "    }   # 將表示為 {k1:v1, k2:v2,...} 的字典重新指派給變數 x\n",
    "x"
   ]
  },
  {
   "cell_type": "code",
   "execution_count": 5,
   "metadata": {},
   "outputs": [
    {
     "name": "stdout",
     "output_type": "stream",
     "text": [
      "1\n"
     ]
    },
    {
     "data": {
      "text/plain": [
       "2"
      ]
     },
     "execution_count": 5,
     "metadata": {},
     "output_type": "execute_result"
    }
   ],
   "source": [
    "# 括號 () 中的表達式也可以跨越多行\n",
    "# 您可以用括號 () 將長表達式分成幾行\n",
    "x = 1         # 將 1 賦給變數 x\n",
    "print(x)      # 列印變數 x 的值\n",
    "\n",
    "x =(1 +\n",
    "        2\n",
    "        + 3\n",
    "        -\n",
    "        4)\n",
    "x"
   ]
  },
  {
   "cell_type": "code",
   "execution_count": 6,
   "metadata": {},
   "outputs": [
    {
     "data": {
      "text/plain": [
       "'testing hello, world!'"
      ]
     },
     "execution_count": 6,
     "metadata": {},
     "output_type": "execute_result"
    }
   ],
   "source": [
    "# 您也可以使用括號 () 將長字串分成幾行\n",
    "s = ('testing '   # 沒有逗號\n",
    "    'hello, '\n",
    "    'world!')\n",
    "s"
   ]
  },
  {
   "cell_type": "markdown",
   "metadata": {},
   "source": [
    "#### **區塊、縮排和複合語句** (Block, Indentation and Compound Statements)  \n",
    "**區塊是作為一個單元執行的一組語句**\n",
    "* 與 C/C++/C#/Java 使用大括號{}對主體區塊中的語句進行分組不同，Python 對主體區塊使用縮排。\n",
    "* 換句話說，縮排在 Python 中具有重要的語法意義 - 主體區塊必須正確縮排。這是一個很好的語法，可以強制您正確縮排塊以便於理解！\n",
    "\n",
    "**複合語句：**\n",
    "* 如條件語句 (if-else)、迴圈語句 (while, for) 和函數定義語句 (def)，\n",
    "* 以標題行開頭，以冒號 ( : ) 結尾；接下來是縮排的正文區塊，如下所示：\n",
    "\n",
    "```\n",
    "header_1 :           # 標頭以冒號結束\n",
    "    statement_1_1    # 主體區塊縮排（建議使用4個空格）\n",
    "    statement_1_2\n",
    "    .....\n",
    "header_2 :\n",
    "    statement_2_1\n",
    "    statement_2_2\n",
    "    .....\n",
    "\n",
    "# 可以將正文區塊放在同一行，用分號 (;) 分隔語句\n",
    "# 不建議這樣做。\n",
    "header_1: statement_1_1\n",
    "header_2: statement_2_1; statement_2_2; ......\n",
    "```\n",
    "\n",
    "Python 沒有指定要使用多少縮排，但、相同的主體區塊(the SAME body block)的所有語句，必須從右邊距相同的距離開始。您可以使用空格或製表符進行縮進，但不能在同一正文區塊中混合使用它們。建議每個縮排對準(level)使用 4 個空格。\n",
    "\n",
    "如果您來自 C/C++/C#/Java，則尾隨冒號 ( : ) 和正文縮排可能是 Python 中最奇怪的功能。 Python強加嚴格的縮排規則來迫使程式設計師編寫可讀的程式碼！"
   ]
  },
  {
   "cell_type": "code",
   "execution_count": 1,
   "metadata": {},
   "outputs": [
    {
     "name": "stdout",
     "output_type": "stream",
     "text": [
      "x is zero\n",
      "x is zero\n",
      "5050\n",
      "5050\n"
     ]
    }
   ],
   "source": [
    "# 使用例(For examples)\n",
    "\n",
    "# if-else\n",
    "x = 0\n",
    "if x == 0:\n",
    "    print('x is zero')\n",
    "else:\n",
    "    print('x is not zero')\n",
    "\n",
    "# or, in the same line  # 不建議\n",
    "if x == 0: print('x is zero')\n",
    "else: print('x is not zero')\n",
    "\n",
    "# while-loop sum from 1 to 100\n",
    "sum = 0\n",
    "number = 1\n",
    "while number <= 100:\n",
    "    sum += number\n",
    "    number += 1\n",
    "print(sum)\n",
    "\n",
    "# or, in the same line\n",
    "while number <= 100: sum += number; number += 1   # 不建議\n",
    "\n",
    "# Define the function sum_1_to_n()\n",
    "def sum_1_to_n(n):\n",
    "    \"\"\"Sum from 1 to the given n\"\"\"\n",
    "    sum = 0;            # Python 主體區塊縮排語句末尾放置分號 ( ; ),縮排時可不放置分號(建議)\n",
    "    i = 0;\n",
    "    while (i <= n):\n",
    "        sum += i\n",
    "        i += 1\n",
    "    return sum\n",
    "\n",
    "print(sum_1_to_n(100))  # 呼叫函數(Invoke function)"
   ]
  },
  {
   "cell_type": "code",
   "execution_count": 12,
   "metadata": {},
   "outputs": [
    {
     "name": "stdout",
     "output_type": "stream",
     "text": [
      "x is zero\n",
      "y is not zero\n",
      "while-loop縮排語句：sum =  5050\n",
      "while-loop同行語句：sum =  5050\n",
      "(5050, 100)\n",
      "1275 --> 1到50\n"
     ]
    }
   ],
   "source": [
    "# 使用例(For examples)+應用\n",
    "\n",
    "# if-else\n",
    "x = 0\n",
    "if x == 0:\n",
    "    print('x is zero')\n",
    "else:\n",
    "    print('x is not zero')\n",
    "\n",
    "# or, in the same line\n",
    "y = 1\n",
    "if y == 0: print('y is zero')\n",
    "else: print('y is not zero')\n",
    "\n",
    "# while-loop sum from 1 to 100\n",
    "sum = 0\n",
    "number = 1\n",
    "while number <= 100:\n",
    "    sum += number\n",
    "    number += 1\n",
    "print('while-loop縮排語句：sum = ',sum)\n",
    "\n",
    "# or, in the same line\n",
    "while number <= 100: sum += number; number += 1\n",
    "print('while-loop同行語句：sum = ',sum)\n",
    "\n",
    "# Define the function sum_1_to_n()\n",
    "def sum_1_to_n(n):   # Sum from 1 to the given n\n",
    "    sum = 0\n",
    "    i = 0\n",
    "    while i <= n:\n",
    "        sum += i\n",
    "        i += 1\n",
    "    return sum,n\n",
    "\n",
    "print(sum_1_to_n(100))  # 呼叫函數(Invoke function)\n",
    "print(f'{sum_1_to_n(50)[0]} --> 1到{sum_1_to_n(50)[1]}')"
   ]
  }
 ],
 "metadata": {
  "kernelspec": {
   "display_name": "yt.venv",
   "language": "python",
   "name": "python3"
  },
  "language_info": {
   "codemirror_mode": {
    "name": "ipython",
    "version": 3
   },
   "file_extension": ".py",
   "mimetype": "text/x-python",
   "name": "python",
   "nbconvert_exporter": "python",
   "pygments_lexer": "ipython3",
   "version": "3.10.8"
  }
 },
 "nbformat": 4,
 "nbformat_minor": 2
}
