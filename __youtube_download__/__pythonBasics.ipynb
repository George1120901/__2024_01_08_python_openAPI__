{
 "cells": [
  {
   "cell_type": "markdown",
   "metadata": {},
   "source": [
    "### Python\n",
    "#### Basics\n",
    "[參考網址](https://www3.ntu.edu.sg/home/ehchua/programming/webprogramming/Python1_Basics.html#re)www3.ntu.edu.sg"
   ]
  }
 ],
 "metadata": {
  "language_info": {
   "name": "python"
  }
 },
 "nbformat": 4,
 "nbformat_minor": 2
}
