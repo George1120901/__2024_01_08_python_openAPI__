{
 "cells": [
  {
   "cell_type": "code",
   "execution_count": null,
   "metadata": {},
   "outputs": [],
   "source": [
    "# 可成功完成 vedio+audio 之 merage\n",
    "import subprocess\n",
    "\n",
    "def merge_video_and_audio(video_path, audio_path, output_path):\n",
    "    command = [\n",
    "        'ffmpeg',\n",
    "        '-i', video_path,\n",
    "        '-i', audio_path,\n",
    "        '-c', 'copy',\n",
    "        '-map', '0:v',\n",
    "        '-map', '1:a',\n",
    "        output_path\n",
    "    ]\n",
    "    \n",
    "    try:\n",
    "        result = subprocess.run(command, check=True, stdout=subprocess.PIPE, stderr=subprocess.PIPE, text=True)\n",
    "        print(\"合併成功！輸出文件位於:\", output_path)\n",
    "    except subprocess.CalledProcessError as e:\n",
    "        print(\"ffmpeg合併過程中發生錯誤:\", e)\n",
    "        if e.stderr:\n",
    "            print(\"ffmpeg命令輸出:\", e.stderr)\n",
    "        else:\n",
    "            print(\"無法獲取 ffmpeg 錯誤輸出。\")\n",
    "\n",
    "merge_video_and_audio(\"C:/Users/Lu/Documents/youtube/python_231212V.mp4\", \"C:/Users/Lu/Documents/youtube/python_231212A.mp4\", \"C:/Users/Lu/Documents/youtube/python_231212All.mp4\")"
   ]
  }
 ],
 "metadata": {
  "kernelspec": {
   "display_name": "yt.venv",
   "language": "python",
   "name": "python3"
  },
  "language_info": {
   "name": "python",
   "version": "3.10.8"
  }
 },
 "nbformat": 4,
 "nbformat_minor": 2
}
