{
 "cells": [
  {
   "cell_type": "code",
   "execution_count": null,
   "metadata": {},
   "outputs": [],
   "source": [
    "# 可成功完成 vedio+audio 之 merage\n",
    "import subprocess\n",
    "\n",
    "def merge_video_and_audio(video_path, audio_path, output_path):\n",
    "    command = [\n",
    "        'ffmpeg',\n",
    "        '-i', video_path,\n",
    "        '-i', audio_path,\n",
    "        '-c', 'copy',\n",
    "        '-map', '0:v',\n",
    "        '-map', '1:a',\n",
    "        output_path\n",
    "    ]\n",
    "    \n",
    "    try:\n",
    "        result = subprocess.run(command, check=True, stdout=subprocess.PIPE, stderr=subprocess.PIPE, text=True)\n",
    "        print(\"合併成功！輸出文件位於:\", output_path)\n",
    "    except subprocess.CalledProcessError as e:\n",
    "        print(\"ffmpeg合併過程中發生錯誤:\", e)\n",
    "        if e.stderr:\n",
    "            print(\"ffmpeg命令輸出:\", e.stderr)\n",
    "        else:\n",
    "            print(\"無法獲取 ffmpeg 錯誤輸出。\")\n",
    "\n",
    "merge_video_and_audio(\"C:/Users/Lu/Documents/youtube/python_231212V.mp4\", \"C:/Users/Lu/Documents/youtube/python_231212A.mp4\", \"C:/Users/Lu/Documents/youtube/python_231212All.mp4\")"
   ]
  },
  {
   "cell_type": "markdown",
   "metadata": {},
   "source": [
    "#### subprocess.run\n",
    "subprocess.run 是 Python subprocess 模組中的一個函數，用於執行外部命令並等待命令完成。以下是 subprocess.run 中的語法和各個參數的解釋：\n",
    "\n",
    "python\n",
    "程式碼:\n",
    "result = subprocess.run(command, check=True, stdout=subprocess.PIPE, stderr=subprocess.PIPE, text=True)\n",
    "\n",
    "##### 各個參數的解釋\n",
    "\n",
    "command:\n",
    "\n",
    "這是一個列表，包含要執行的命令和它的參數。例如：\n",
    "python\n",
    "複製程式碼\n",
    "command = ['ffmpeg', '-i', video_path, '-i', audio_path, '-c', 'copy', '-map', '0:v', '-map', '1:a', output_path]\n",
    "列表的第一個元素是命令（例如 ffmpeg），後續元素是該命令的參數。\n",
    "check=True:\n",
    "\n",
    "如果設置為 True，則在命令返回非零退出狀態時會引發 subprocess.CalledProcessError 異常。\n",
    "如果設置為 False，則即使命令失敗也不會引發異常。\n",
    "stdout=subprocess.PIPE:\n",
    "\n",
    "將子進程的標準輸出（stdout）捕獲到一個管道中，可以通過 result.stdout 獲取輸出內容。\n",
    "如果不設置這個參數，子進程的輸出會直接顯示在父進程的標準輸出中。\n",
    "stderr=subprocess.PIPE:\n",
    "\n",
    "將子進程的標準錯誤（stderr）捕獲到一個管道中，可以通過 result.stderr 獲取錯誤內容。\n",
    "如果不設置這個參數，子進程的錯誤會直接顯示在父進程的標準錯誤中。\n",
    "text=True:\n",
    "\n",
    "如果設置為 True，則標準輸出和標準錯誤的內容會被解碼為字符串（默認使用系統的編碼，如 UTF-8）。\n",
    "如果設置為 False（默認值），則標準輸出和標準錯誤的內容會是字節（bytes）對象。\n",
    "返回值\n",
    "subprocess.run 返回一個 CompletedProcess 對象，該對象包含以下屬性：\n",
    "\n",
    "args：執行的命令和參數列表。\n",
    "returncode：命令的退出狀態碼。\n",
    "stdout：標準輸出的內容（如果 stdout=subprocess.PIPE）。\n",
    "stderr：標準錯誤的內容（如果 stderr=subprocess.PIPE）。"
   ]
  }
 ],
 "metadata": {
  "kernelspec": {
   "display_name": "yt.venv",
   "language": "python",
   "name": "python3"
  },
  "language_info": {
   "name": "python",
   "version": "3.10.8"
  }
 },
 "nbformat": 4,
 "nbformat_minor": 2
}
