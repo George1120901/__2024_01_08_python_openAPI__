{
 "cells": [
  {
   "cell_type": "markdown",
   "metadata": {},
   "source": [
    "下載Youtube影片\n",
    "Pytube：Youtube影片下載"
   ]
  },
  {
   "cell_type": "code",
   "execution_count": 1,
   "metadata": {},
   "outputs": [
    {
     "name": "stdout",
     "output_type": "stream",
     "text": [
      "Requirement already satisfied: pytube in c:\\python3108\\lib\\site-packages (15.0.0)\n"
     ]
    },
    {
     "name": "stderr",
     "output_type": "stream",
     "text": [
      "\n",
      "[notice] A new release of pip is available: 23.2.1 -> 23.3.1\n",
      "[notice] To update, run: python.exe -m pip install --upgrade pip\n"
     ]
    }
   ],
   "source": [
    "# 安裝\n",
    "!pip install pytube"
   ]
  },
  {
   "cell_type": "code",
   "execution_count": 1,
   "metadata": {},
   "outputs": [
    {
     "name": "stdout",
     "output_type": "stream",
     "text": [
      "2023_12_11_早上\n",
      "10795\n",
      "徐國堂\n",
      "https://www.youtube.com/channel/UCKd_tuM8M79b1GAwAlTi9ZA\n",
      "https://i.ytimg.com/vi/kUxvKwN0_wk/hq720.jpg?sqp=-oaymwEmCIAKENAF8quKqQMa8AEB-AH-CYAC0AWKAgwIABABGGUgZShlMA8=&rs=AOn4CLDmO4Ck_wUhwMzDdmOIRj9wRh1A4A\n",
      "7\n"
     ]
    },
    {
     "name": "stderr",
     "output_type": "stream",
     "text": [
      "C:\\Users\\User\\AppData\\Local\\Temp\\ipykernel_14544\\214424383.py:39: DeprecationWarning: Call to deprecated function all (This object can be treated as a list, all() is useless).\n",
      "  print(yt.streams.all())  # 影片支援哪些畫質\n"
     ]
    },
    {
     "name": "stdout",
     "output_type": "stream",
     "text": [
      "[<Stream: itag=\"17\" mime_type=\"video/3gpp\" res=\"144p\" fps=\"8fps\" vcodec=\"mp4v.20.3\" acodec=\"mp4a.40.2\" progressive=\"True\" type=\"video\">, <Stream: itag=\"18\" mime_type=\"video/mp4\" res=\"360p\" fps=\"30fps\" vcodec=\"avc1.42001E\" acodec=\"mp4a.40.2\" progressive=\"True\" type=\"video\">, <Stream: itag=\"22\" mime_type=\"video/mp4\" res=\"720p\" fps=\"30fps\" vcodec=\"avc1.64001F\" acodec=\"mp4a.40.2\" progressive=\"True\" type=\"video\">, <Stream: itag=\"137\" mime_type=\"video/mp4\" res=\"1080p\" fps=\"30fps\" vcodec=\"avc1.640028\" progressive=\"False\" type=\"video\">, <Stream: itag=\"136\" mime_type=\"video/mp4\" res=\"720p\" fps=\"30fps\" vcodec=\"avc1.64001f\" progressive=\"False\" type=\"video\">, <Stream: itag=\"134\" mime_type=\"video/mp4\" res=\"360p\" fps=\"30fps\" vcodec=\"avc1.4d401e\" progressive=\"False\" type=\"video\">, <Stream: itag=\"160\" mime_type=\"video/mp4\" res=\"144p\" fps=\"30fps\" vcodec=\"avc1.4d400c\" progressive=\"False\" type=\"video\">, <Stream: itag=\"139\" mime_type=\"audio/mp4\" abr=\"48kbps\" acodec=\"mp4a.40.5\" progressive=\"False\" type=\"audio\">, <Stream: itag=\"140\" mime_type=\"audio/mp4\" abr=\"128kbps\" acodec=\"mp4a.40.2\" progressive=\"False\" type=\"audio\">, <Stream: itag=\"251\" mime_type=\"audio/webm\" abr=\"160kbps\" acodec=\"opus\" progressive=\"False\" type=\"audio\">]\n",
      "10\n",
      "<Stream: itag=\"17\" mime_type=\"video/3gpp\" res=\"144p\" fps=\"8fps\" vcodec=\"mp4v.20.3\" acodec=\"mp4a.40.2\" progressive=\"True\" type=\"video\">\n",
      "<Stream: itag=\"18\" mime_type=\"video/mp4\" res=\"360p\" fps=\"30fps\" vcodec=\"avc1.42001E\" acodec=\"mp4a.40.2\" progressive=\"True\" type=\"video\">\n",
      "<Stream: itag=\"22\" mime_type=\"video/mp4\" res=\"720p\" fps=\"30fps\" vcodec=\"avc1.64001F\" acodec=\"mp4a.40.2\" progressive=\"True\" type=\"video\">\n",
      "<Stream: itag=\"137\" mime_type=\"video/mp4\" res=\"1080p\" fps=\"30fps\" vcodec=\"avc1.640028\" progressive=\"False\" type=\"video\">\n",
      "<Stream: itag=\"136\" mime_type=\"video/mp4\" res=\"720p\" fps=\"30fps\" vcodec=\"avc1.64001f\" progressive=\"False\" type=\"video\">\n",
      "<Stream: itag=\"134\" mime_type=\"video/mp4\" res=\"360p\" fps=\"30fps\" vcodec=\"avc1.4d401e\" progressive=\"False\" type=\"video\">\n",
      "<Stream: itag=\"160\" mime_type=\"video/mp4\" res=\"144p\" fps=\"30fps\" vcodec=\"avc1.4d400c\" progressive=\"False\" type=\"video\">\n",
      "<Stream: itag=\"139\" mime_type=\"audio/mp4\" abr=\"48kbps\" acodec=\"mp4a.40.5\" progressive=\"False\" type=\"audio\">\n",
      "<Stream: itag=\"140\" mime_type=\"audio/mp4\" abr=\"128kbps\" acodec=\"mp4a.40.2\" progressive=\"False\" type=\"audio\">\n",
      "<Stream: itag=\"251\" mime_type=\"audio/webm\" abr=\"160kbps\" acodec=\"opus\" progressive=\"False\" type=\"audio\">\n",
      "downdload完成\n"
     ]
    }
   ],
   "source": [
    "# for 1080P -沒有聲音\n",
    "# 使用模組\n",
    "from pytube import YouTube\n",
    "\n",
    "yt = YouTube('https://youtube.com/live/kUxvKwN0_wk')\n",
    "\n",
    "# 影片格式分析\n",
    "print(yt.title)           # 影片標題\n",
    "print(yt.length)          # 影片長度 ( 秒 )\n",
    "print(yt.author)          # 影片作者\n",
    "print(yt.channel_url)     # 影片作者頻道網址\n",
    "print(yt.thumbnail_url)   # 影片縮圖網址\n",
    "print(yt.views)           # 影片觀看數\n",
    "\n",
    "# 分析\n",
    "# print(yt.streams)\n",
    "print(yt.streams.all())  # 影片支援哪些畫質\n",
    "print(len(yt.streams))\n",
    "\n",
    "for st in yt.streams:\n",
    "\n",
    "  print(st)\n",
    "\n",
    "# 下載影片\n",
    "filter = yt.streams.filter\n",
    "target_audio = filter(type=\"audio\").first()\n",
    "target_audio.download(output_path='C:/Users/User/Documents/youtube',filename='python_231212A.mp4')\n",
    "\n",
    "target_video= filter(type=\"video\", resolution=\"1080p\").first()\n",
    "target_video.download(output_path='C:/Users/User/Documents/youtube',filename='python_231212V.mp4')\n",
    "#target.download(output_path='C:/Users/User/Documents/youtube',filename='python_231212A.mp4')\n",
    "\n",
    "target_video=\n",
    "# merge video+audio\n",
    "cmd = f'ffmpeg -i {target_video} -i {target_audio} -map 0:v -map 1:a -c copy -y {target_video}'\n",
    "\n",
    "#yt.streams.filter().get_highest_resolution().download(output_path='C:/Users/User/Documents/youtube', filename='python_231212P-1.mp4')\n",
    "\n",
    "print('downdload完成')"
   ]
  },
  {
   "cell_type": "code",
   "execution_count": 5,
   "metadata": {},
   "outputs": [
    {
     "name": "stdout",
     "output_type": "stream",
     "text": [
      "2023_12_19_早上\n",
      "12520\n",
      "徐國堂\n",
      "https://www.youtube.com/channel/UCKd_tuM8M79b1GAwAlTi9ZA\n",
      "https://i.ytimg.com/vi/n7eicT5seJc/hq720.jpg?sqp=-oaymwEmCIAKENAF8quKqQMa8AEB-AH-CYAC0AWKAgwIABABGGUgZShlMA8=&rs=AOn4CLB69NjKytlHJzRujSZD1iPDWFuM8Q\n",
      "8\n"
     ]
    },
    {
     "name": "stderr",
     "output_type": "stream",
     "text": [
      "C:\\Users\\User\\AppData\\Local\\Temp\\ipykernel_14544\\3481634105.py:15: DeprecationWarning: Call to deprecated function all (This object can be treated as a list, all() is useless).\n",
      "  print(yt.streams.all())  # 影片支援哪些畫質\n"
     ]
    },
    {
     "name": "stdout",
     "output_type": "stream",
     "text": [
      "[<Stream: itag=\"17\" mime_type=\"video/3gpp\" res=\"144p\" fps=\"8fps\" vcodec=\"mp4v.20.3\" acodec=\"mp4a.40.2\" progressive=\"True\" type=\"video\">, <Stream: itag=\"18\" mime_type=\"video/mp4\" res=\"360p\" fps=\"30fps\" vcodec=\"avc1.42001E\" acodec=\"mp4a.40.2\" progressive=\"True\" type=\"video\">, <Stream: itag=\"22\" mime_type=\"video/mp4\" res=\"720p\" fps=\"30fps\" vcodec=\"avc1.64001F\" acodec=\"mp4a.40.2\" progressive=\"True\" type=\"video\">, <Stream: itag=\"137\" mime_type=\"video/mp4\" res=\"1080p\" fps=\"30fps\" vcodec=\"avc1.640028\" progressive=\"False\" type=\"video\">, <Stream: itag=\"136\" mime_type=\"video/mp4\" res=\"720p\" fps=\"30fps\" vcodec=\"avc1.4d401f\" progressive=\"False\" type=\"video\">, <Stream: itag=\"134\" mime_type=\"video/mp4\" res=\"360p\" fps=\"30fps\" vcodec=\"avc1.4d401e\" progressive=\"False\" type=\"video\">, <Stream: itag=\"160\" mime_type=\"video/mp4\" res=\"144p\" fps=\"30fps\" vcodec=\"avc1.4d400c\" progressive=\"False\" type=\"video\">, <Stream: itag=\"139\" mime_type=\"audio/mp4\" abr=\"48kbps\" acodec=\"mp4a.40.5\" progressive=\"False\" type=\"audio\">, <Stream: itag=\"140\" mime_type=\"audio/mp4\" abr=\"128kbps\" acodec=\"mp4a.40.2\" progressive=\"False\" type=\"audio\">, <Stream: itag=\"251\" mime_type=\"audio/webm\" abr=\"160kbps\" acodec=\"opus\" progressive=\"False\" type=\"audio\">]\n",
      "10\n",
      "<Stream: itag=\"17\" mime_type=\"video/3gpp\" res=\"144p\" fps=\"8fps\" vcodec=\"mp4v.20.3\" acodec=\"mp4a.40.2\" progressive=\"True\" type=\"video\">\n",
      "<Stream: itag=\"18\" mime_type=\"video/mp4\" res=\"360p\" fps=\"30fps\" vcodec=\"avc1.42001E\" acodec=\"mp4a.40.2\" progressive=\"True\" type=\"video\">\n",
      "<Stream: itag=\"22\" mime_type=\"video/mp4\" res=\"720p\" fps=\"30fps\" vcodec=\"avc1.64001F\" acodec=\"mp4a.40.2\" progressive=\"True\" type=\"video\">\n",
      "<Stream: itag=\"137\" mime_type=\"video/mp4\" res=\"1080p\" fps=\"30fps\" vcodec=\"avc1.640028\" progressive=\"False\" type=\"video\">\n",
      "<Stream: itag=\"136\" mime_type=\"video/mp4\" res=\"720p\" fps=\"30fps\" vcodec=\"avc1.4d401f\" progressive=\"False\" type=\"video\">\n",
      "<Stream: itag=\"134\" mime_type=\"video/mp4\" res=\"360p\" fps=\"30fps\" vcodec=\"avc1.4d401e\" progressive=\"False\" type=\"video\">\n",
      "<Stream: itag=\"160\" mime_type=\"video/mp4\" res=\"144p\" fps=\"30fps\" vcodec=\"avc1.4d400c\" progressive=\"False\" type=\"video\">\n",
      "<Stream: itag=\"139\" mime_type=\"audio/mp4\" abr=\"48kbps\" acodec=\"mp4a.40.5\" progressive=\"False\" type=\"audio\">\n",
      "<Stream: itag=\"140\" mime_type=\"audio/mp4\" abr=\"128kbps\" acodec=\"mp4a.40.2\" progressive=\"False\" type=\"audio\">\n",
      "<Stream: itag=\"251\" mime_type=\"audio/webm\" abr=\"160kbps\" acodec=\"opus\" progressive=\"False\" type=\"audio\">\n",
      "downdload完成\n"
     ]
    }
   ],
   "source": [
    "# 使用模組\n",
    "from pytube import YouTube\n",
    "# yt = YouTube('https://www.youtube.com/watch?v=27ob2G3GUCQ')\n",
    "yt = YouTube('https://youtube.com/live/n7eicT5seJc')\n",
    "\n",
    "# 影片格式分析\n",
    "print(yt.title)           # 影片標題\n",
    "print(yt.length)          # 影片長度 ( 秒 )\n",
    "print(yt.author)          # 影片作者\n",
    "print(yt.channel_url)     # 影片作者頻道網址\n",
    "print(yt.thumbnail_url)   # 影片縮圖網址\n",
    "print(yt.views)           # 影片觀看數\n",
    "# 分析\n",
    "# print(yt.streams)\n",
    "print(yt.streams.all())  # 影片支援哪些畫質\n",
    "print(len(yt.streams))\n",
    "for st in yt.streams:\n",
    "  print(st)\n",
    "\n",
    "# 下載第1個影片\n",
    "yt.streams.filter().get_highest_resolution().download(output_path='C:/Users/User/Documents/youtube',filename='python_231219A.mp4')\n",
    "#yt.streams.get_by_itag(137).download(output_path='C:/Users/User/Documents/youtube', filename='python_230920P.mp4')\n",
    "#yt.streams.filter().get_by_resolution('1080p').download(output_path='C:/Users/User/Documents/youtube', filename='python_230911P-1.mp4')\n",
    "# yt.streams.filter().get_by_resolution('360p').download(filename='oxxostudio_360p.mp4')\n",
    "# 下載 480p 的影片畫質\n",
    "print('downdload完成')\n",
    "#yt.streams[0].download('python')"
   ]
  },
  {
   "cell_type": "markdown",
   "metadata": {},
   "source": [
    "下載 Youtube 影片為\n"
   ]
  },
  {
   "cell_type": "markdown",
   "metadata": {},
   "source": [
    "Test file"
   ]
  },
  {
   "cell_type": "code",
   "execution_count": 3,
   "metadata": {},
   "outputs": [
    {
     "name": "stdout",
     "output_type": "stream",
     "text": [
      "10\n",
      "<Stream: itag=\"17\" mime_type=\"video/3gpp\" res=\"144p\" fps=\"8fps\" vcodec=\"mp4v.20.3\" acodec=\"mp4a.40.2\" progressive=\"True\" type=\"video\">\n",
      "<Stream: itag=\"18\" mime_type=\"video/mp4\" res=\"360p\" fps=\"30fps\" vcodec=\"avc1.42001E\" acodec=\"mp4a.40.2\" progressive=\"True\" type=\"video\">\n",
      "<Stream: itag=\"22\" mime_type=\"video/mp4\" res=\"720p\" fps=\"30fps\" vcodec=\"avc1.64001F\" acodec=\"mp4a.40.2\" progressive=\"True\" type=\"video\">\n",
      "<Stream: itag=\"137\" mime_type=\"video/mp4\" res=\"1080p\" fps=\"30fps\" vcodec=\"avc1.640028\" progressive=\"False\" type=\"video\">\n",
      "<Stream: itag=\"136\" mime_type=\"video/mp4\" res=\"720p\" fps=\"30fps\" vcodec=\"avc1.64001f\" progressive=\"False\" type=\"video\">\n",
      "<Stream: itag=\"134\" mime_type=\"video/mp4\" res=\"360p\" fps=\"30fps\" vcodec=\"avc1.4d401e\" progressive=\"False\" type=\"video\">\n",
      "<Stream: itag=\"160\" mime_type=\"video/mp4\" res=\"144p\" fps=\"30fps\" vcodec=\"avc1.4d400c\" progressive=\"False\" type=\"video\">\n",
      "<Stream: itag=\"139\" mime_type=\"audio/mp4\" abr=\"48kbps\" acodec=\"mp4a.40.5\" progressive=\"False\" type=\"audio\">\n",
      "<Stream: itag=\"140\" mime_type=\"audio/mp4\" abr=\"128kbps\" acodec=\"mp4a.40.2\" progressive=\"False\" type=\"audio\">\n",
      "<Stream: itag=\"251\" mime_type=\"audio/webm\" abr=\"160kbps\" acodec=\"opus\" progressive=\"False\" type=\"audio\">\n",
      "========================\n"
     ]
    },
    {
     "data": {
      "text/plain": [
       "'C:/Users/User/Documents/youtube\\\\python_2311206A-1.mp4'"
      ]
     },
     "execution_count": 3,
     "metadata": {},
     "output_type": "execute_result"
    }
   ],
   "source": [
    "from pytube import YouTube\n",
    "\n",
    "yt = YouTube('https://youtube.com/live/EQPFUM9ONCQ')\n",
    "#yt.streams\n",
    "print(len(yt.streams))\n",
    "for st in yt.streams:\n",
    "  print(st)\n",
    "print(\"========================\")\n",
    "#print(yt.streams)\n",
    "yt.streams.filter(adaptive=True)\n",
    "\n",
    "stream = yt.streams.get_by_itag(ITAG)\n",
    "#stream.download(output_path='C:/Users/User/Documents/youtube', filename='python_2311206A-1.mp4')\n"
   ]
  },
  {
   "cell_type": "code",
   "execution_count": null,
   "metadata": {},
   "outputs": [],
   "source": [
    "from pytube import YouTube\n",
    "YouTube('https://youtu.be/2lAe1cqCOXo').streams.first().download()\n",
    "yt = YouTube('http://youtube.com/watch?v=2lAe1cqCOXo')\n",
    "yt.streams.filter(progressive=True, file_extension='mp4').order_by('resolution').desc().first().download()\n",
    "\n",
    "# 僅查詢MP4格式的串流：\n",
    "yt.streams.filter(file_extension='mp4')\n",
    "\n",
    "# 下載串流\n",
    "stream = yt.streams.get_by_itag(22)\n",
    "stream.download(output_path='C:/Users/User/Documents/youtube', filename='python_2311122P.mp4')"
   ]
  },
  {
   "cell_type": "code",
   "execution_count": null,
   "metadata": {},
   "outputs": [],
   "source": []
  },
  {
   "cell_type": "markdown",
   "metadata": {},
   "source": [
    "## 下載 Youtube 影片為 mp3 \n",
    "### 使用 get_audio_only() 方法，能單獨取出 Youtube 的音軌儲存為 mp3 檔案 ( 預設為 mp4，存檔時改檔名為 mp3 就會變成 mp3 )"
   ]
  },
  {
   "cell_type": "code",
   "execution_count": null,
   "metadata": {},
   "outputs": [],
   "source": [
    "from pytube import YouTube\n",
    "yt = YouTube('https://www.youtube.com/watch?v=R93ce4FZGbc')\n",
    "print('download...')\n",
    "yt.streams.filter().get_audio_only().download(filename='oxxostudio.mp3')\n",
    "# 儲存為 mp3\n",
    "print('ok!')"
   ]
  },
  {
   "cell_type": "markdown",
   "metadata": {},
   "source": [
    "# https://github.com/pytube/pytube/issues/1799"
   ]
  },
  {
   "cell_type": "code",
   "execution_count": 2,
   "metadata": {},
   "outputs": [
    {
     "data": {
      "text/plain": [
       "'C:/Users/User/Documents/youtube\\\\python_2311206A.mp4'"
      ]
     },
     "execution_count": 2,
     "metadata": {},
     "output_type": "execute_result"
    }
   ],
   "source": [
    "from pytube import YouTube\n",
    "\n",
    "\n",
    "youtube_episode_id = 'EQPFUM9ONCQ'   # long\n",
    "\n",
    "yt = YouTube(f'https://www.youtube.com/watch?v={youtube_episode_id}')\n",
    "\n",
    "ITAG = 22\n",
    "\n",
    "stream = yt.streams.get_by_itag(ITAG)\n",
    "stream.download(output_path='C:/Users/User/Documents/youtube',filename='python_2311206A.mp4', skip_existing=True, max_retries=0)"
   ]
  },
  {
   "cell_type": "code",
   "execution_count": null,
   "metadata": {},
   "outputs": [],
   "source": [
    "# ORIGINAL\n",
    "from pytube import YouTube\n",
    "\n",
    "\n",
    "youtube_episode_id = 'MEmU-VGM62M'   # long\n",
    "\n",
    "yt = YouTube(f'https://www.youtube.com/watch?v={youtube_episode_id}')\n",
    "\n",
    "ITAG = 22\n",
    "\n",
    "stream = yt.streams.get_by_itag(ITAG)\n",
    "stream.download(output_path='cache',\n",
    "                filename=f'{youtube_episode_id}.mp4', skip_existing=True, max_retries=0)"
   ]
  },
  {
   "cell_type": "markdown",
   "metadata": {},
   "source": [
    "## 參考網站\n",
    "### https://swf.com.tw/?p=1402"
   ]
  },
  {
   "cell_type": "code",
   "execution_count": null,
   "metadata": {},
   "outputs": [],
   "source": [
    "# 原檔案(未修改)\n",
    "import argparse\n",
    "import os\n",
    "import platform\n",
    "from pytube import YouTube\n",
    "import subprocess\n",
    "\n",
    "args = {}\n",
    "fileobj = {}\n",
    "download_count = 1\n",
    "\n",
    "\n",
    "def pyTube_folder():\n",
    "    sys = platform.system()\n",
    "    home = os.path.expanduser('~')\n",
    "\n",
    "    if sys == 'Windows':\n",
    "        folder = os.path.join(home, 'Videos', 'PyTube')\n",
    "    elif sys == 'Darwin':\n",
    "        folder = os.path.join(home, 'Movies', 'PyTube')\n",
    "\n",
    "    if not os.path.isdir(folder):  # 若'PyTube'資料夾不存在…\n",
    "        os.mkdir(folder)        # 則新增資料夾\n",
    "\n",
    "    return folder\n",
    "\n",
    "\n",
    "def onProgress(stream, chunk, remains):\n",
    "    total = stream.filesize\n",
    "    percent = (total-remains) / total * 100\n",
    "    print('下載中… {:05.2f}%'.format(percent), end='\\r')\n",
    "\n",
    "# 列舉可用的解析度\n",
    "\n",
    "\n",
    "def video_res(yt):\n",
    "    res_set = set()\n",
    "    video_list = yt.streams.filter(type=\"video\")\n",
    "    for v in video_list:\n",
    "        res_set.add(v.resolution)\n",
    "\n",
    "    # 傳回解析度表列，例如：['720p', '480p', '360p', '240p', '144p']\n",
    "    return sorted(res_set, reverse=True, key=lambda s: int(s[:-1]))\n",
    "\n",
    "\n",
    "def download_media(args):\n",
    "    try:\n",
    "        yt = YouTube(args.url, on_progress_callback=onProgress,\n",
    "                     on_complete_callback=onComplete)\n",
    "    except:\n",
    "        print('下載影片時發生錯誤，請確認網路連線和YouTube網址無誤。')\n",
    "        return\n",
    "\n",
    "    filter = yt.streams.filter\n",
    "\n",
    "    if args.a:  # 只下載聲音\n",
    "        target = filter(type=\"audio\").first()\n",
    "    elif args.fhd:\n",
    "        target = filter(type=\"video\", resolution=\"1080p\").first()\n",
    "    elif args.hd:\n",
    "        target = filter(type=\"video\", resolution=\"720p\").first()\n",
    "    elif args.sd:\n",
    "        target = filter(type=\"video\", resolution=\"480p\").first()\n",
    "    else:\n",
    "        target = filter(type=\"video\").first()\n",
    "\n",
    "    if target is None:\n",
    "        print('沒有您指定的解析度，可用的解析度如下：')\n",
    "        res_list = video_res(yt)\n",
    "\n",
    "        for i, res in enumerate(res_list):\n",
    "            print('{}) {}'.format(i+1, res))\n",
    "\n",
    "        val = input('請選擇（預設{}）：'.format(res_list[0]))\n",
    "\n",
    "        try:\n",
    "            res = res_list[int(val)-1]\n",
    "        except:\n",
    "            res = res_list[0]\n",
    "\n",
    "        print('您選擇的是 {} 。'.format(res))\n",
    "        target = filter(type=\"video\", resolution=res).first()\n",
    "\n",
    "    # 開始下載\n",
    "    target.download(output_path=pyTube_folder())\n",
    "\n",
    "\n",
    "def check_media(filename):\n",
    "    # r = subprocess.Popen([\"ffprobe\", filename],\n",
    "    #                      stdout=subprocess.PIPE, stderr=subprocess.STDOUT)\n",
    "    # out, err = r.communicate()\n",
    "    # 上面的敘述可改寫成：\n",
    "    # out = subprocess.check_output([\"ffprobe\", filename])\n",
    "    # 或者：\n",
    "    out = subprocess.run([\"ffprobe\", filename],\n",
    "                         stdout=subprocess.PIPE, stderr=subprocess.STDOUT)\n",
    "    if (out.stdout.decode('utf-8').rfind('Audio') == -1):\n",
    "        return -1  # 沒有聲音\n",
    "    else:\n",
    "        return 1\n",
    "\n",
    "\n",
    "def merge_media():\n",
    "    temp_video = os.path.join(fileobj['dir'], 'temp_video.mp4')\n",
    "    temp_audio = os.path.join(fileobj['dir'], 'temp_audio.mp4')\n",
    "    temp_output = os.path.join(fileobj['dir'], 'output.mp4')\n",
    "\n",
    "    cmd = f'ffmpeg -i {temp_video} -i {temp_audio} \\\n",
    "        -map 0:v -map 1:a -c copy -y {temp_output}'\n",
    "    try:\n",
    "        subprocess.run(cmd, shell=True)\n",
    "        # 視訊檔重新命名\n",
    "        os.rename(temp_output, os.path.join(fileobj['dir'], fileobj['name']))\n",
    "        os.remove(temp_audio)\n",
    "        os.remove(temp_video)\n",
    "        print('視訊和聲音合併完成')\n",
    "    except:\n",
    "        print('視訊和聲音合併失敗')\n",
    "\n",
    "\n",
    "def onComplete(stream, file_path):\n",
    "    global download_count, fileobj\n",
    "    fileobj['name'] = os.path.basename(file_path)\n",
    "    fileobj['dir'] = os.path.dirname(file_path)\n",
    "    print('\\r')\n",
    "\n",
    "    if download_count == 1:\n",
    "        if check_media(file_path) == -1:\n",
    "            print('此影片沒有聲音')\n",
    "            download_count += 1\n",
    "            try:\n",
    "                # 視訊檔重新命名\n",
    "                os.rename(file_path, os.path.join(\n",
    "                    fileobj['dir'], 'temp_video.mp4'))\n",
    "            except:\n",
    "                print('視訊檔重新命名失敗')\n",
    "                return\n",
    "\n",
    "            print('準備下載聲音檔')\n",
    "            vars(args)['a'] = True  # 設定成a參數\n",
    "            download_media(args)    # 下載聲音\n",
    "        else:\n",
    "            print('此影片有聲音，下載完畢！')\n",
    "    else:\n",
    "        try:\n",
    "            # 聲音檔重新命名\n",
    "            os.rename(file_path, os.path.join(\n",
    "                fileobj['dir'], 'temp_audio.mp4'))\n",
    "        except:\n",
    "            print(\"聲音檔重新命名失敗\")\n",
    "        # 合併聲音檔\n",
    "        merge_media()\n",
    "\n",
    "\n",
    "def main():\n",
    "    global args\n",
    "    parser = argparse.ArgumentParser()\n",
    "    parser.add_argument(\"url\", help=\"指定YouTube視訊網址\")\n",
    "    parser.add_argument(\"-sd\", action=\"store_true\", help=\"選擇普通（480P）畫質\")\n",
    "    parser.add_argument(\"-hd\", action=\"store_true\", help=\"選擇HD（720P）畫質\")\n",
    "    parser.add_argument(\"-fhd\", action=\"store_true\", help=\"選擇Full HD（1080P）畫質\")\n",
    "    parser.add_argument(\"-a\", action=\"store_true\", help=\"僅下載聲音\")\n",
    "\n",
    "    args = parser.parse_args()\n",
    "    download_media(args)\n",
    "\n",
    "\n",
    "if __name__ == '__main__':\n",
    "    main()"
   ]
  },
  {
   "cell_type": "markdown",
   "metadata": {},
   "source": [
    "## Q:如何在pytube下載的1080P影像檔及聲音檔,用ffmpeg將影像檔及聲音檔merge起來?\n",
    "\n",
    "## ChatGPT A:"
   ]
  },
  {
   "cell_type": "code",
   "execution_count": null,
   "metadata": {},
   "outputs": [],
   "source": [
    "from pytube import YouTube\n",
    "\n",
    "# 創建 YouTube 對象\n",
    "#yt = YouTube(url)\n",
    "yt = YouTube(f'https://www.youtube.com/watch?v=n7eicT5seJc')\n",
    "\n",
    "# 獲取 1080p 的 video 和 audio streams:\n",
    "# video_stream = yt.streams.filter(res=\"1080p\", file_extension=\"mp4\").first()\n",
    "\n",
    "video_stream = yt.streams.filter(type=\"video\", resolution=\"1080p\").first()\n",
    "#audio_stream = yt.streams.filter(only_audio=True).first()\n",
    "video_stream.download(output_path='C:/youtube/vedio')\n",
    "#audio_stream.download(output_path='C:/youtube/audio')\n",
    "\n",
    "ffmpeg.input('C:/youtube/vedio/2023_12_19_早上.mp4').input('C:/youtube/audio/2023_12_19_早上.mp4').output('C: / youtube ', codec=\"copy\", map=\"0:v\", map_audio=\"0:a\").run()\n",
    "# stream.download(output_path='C:/Users/User/Documents/youtube', filename='python_2311206A.mp4', skip_existing=True, max_retries=0)\n"
   ]
  },
  {
   "cell_type": "code",
   "execution_count": 1,
   "metadata": {},
   "outputs": [
    {
     "name": "stdout",
     "output_type": "stream",
     "text": [
      "Name: ffmpeg-pythonNote: you may need to restart the kernel to use updated packages.\n",
      "\n",
      "Version: 0.2.0\n",
      "Summary: Python bindings for FFmpeg - with complex filtering support\n",
      "Home-page: https://github.com/kkroening/ffmpeg-python\n",
      "Author: Karl Kroening\n",
      "Author-email: karlk@kralnet.us\n",
      "License: UNKNOWN\n",
      "Location: c:\\users\\sa3\\documents\\github\\__11209python_school__\\venv\\lib\\site-packages\n",
      "Requires: future\n",
      "Required-by: \n"
     ]
    }
   ],
   "source": [
    "pip show ffmpeg-python\n"
   ]
  },
  {
   "cell_type": "code",
   "execution_count": 12,
   "metadata": {},
   "outputs": [
    {
     "ename": "AttributeError",
     "evalue": "module 'ffmpeg' has no attribute 'input'",
     "output_type": "error",
     "traceback": [
      "\u001b[1;31m---------------------------------------------------------------------------\u001b[0m",
      "\u001b[1;31mAttributeError\u001b[0m                            Traceback (most recent call last)",
      "Cell \u001b[1;32mIn[12], line 3\u001b[0m\n\u001b[0;32m      1\u001b[0m \u001b[38;5;28;01mimport\u001b[39;00m \u001b[38;5;21;01mffmpeg\u001b[39;00m\n\u001b[1;32m----> 3\u001b[0m \u001b[43mffmpeg\u001b[49m\u001b[38;5;241;43m.\u001b[39;49m\u001b[43minput\u001b[49m(\u001b[38;5;124m'\u001b[39m\u001b[38;5;124mC:/youtube/vedio/2023_12_19_早上.mp4\u001b[39m\u001b[38;5;124m'\u001b[39m)\u001b[38;5;241m.\u001b[39minput(\u001b[38;5;124m'\u001b[39m\u001b[38;5;124mC:/youtube/audio/2023_12_19_早上.mp4\u001b[39m\u001b[38;5;124m'\u001b[39m)\u001b[38;5;241m.\u001b[39moutput(\u001b[38;5;124m\"\u001b[39m\u001b[38;5;124mC: / youtube \u001b[39m\u001b[38;5;124m\"\u001b[39m, codec\u001b[38;5;241m=\u001b[39m\u001b[38;5;124m\"\u001b[39m\u001b[38;5;124mcopy\u001b[39m\u001b[38;5;124m\"\u001b[39m, \u001b[38;5;28mmap\u001b[39m\u001b[38;5;241m=\u001b[39m\u001b[38;5;124m\"\u001b[39m\u001b[38;5;124m0:v\u001b[39m\u001b[38;5;124m\"\u001b[39m, map_audio\u001b[38;5;241m=\u001b[39m\u001b[38;5;124m\"\u001b[39m\u001b[38;5;124m0:a\u001b[39m\u001b[38;5;124m\"\u001b[39m)\u001b[38;5;241m.\u001b[39mrun()\n",
      "\u001b[1;31mAttributeError\u001b[0m: module 'ffmpeg' has no attribute 'input'"
     ]
    }
   ],
   "source": [
    "import ffmpeg\n",
    "\n",
    "ffmpeg.input('C:/youtube/vedio/2023_12_19_早上.mp4').input('C:/youtube/audio/2023_12_19_早上.mp4').output(\"C: / youtube \", codec=\"copy\", map=\"0:v\", map_audio=\"0:a\").run()\n"
   ]
  },
  {
   "cell_type": "code",
   "execution_count": 14,
   "metadata": {},
   "outputs": [
    {
     "ename": "AttributeError",
     "evalue": "module 'ffmpeg' has no attribute 'input'",
     "output_type": "error",
     "traceback": [
      "\u001b[1;31m---------------------------------------------------------------------------\u001b[0m",
      "\u001b[1;31mAttributeError\u001b[0m                            Traceback (most recent call last)",
      "Cell \u001b[1;32mIn[14], line 10\u001b[0m\n\u001b[0;32m      5\u001b[0m     ffmpeg\u001b[38;5;241m.\u001b[39minput(video_path)\u001b[38;5;241m.\u001b[39minput(audio_path)\u001b[38;5;241m.\u001b[39moutput(\n\u001b[0;32m      6\u001b[0m         output_path, codec\u001b[38;5;241m=\u001b[39m\u001b[38;5;124m\"\u001b[39m\u001b[38;5;124mcopy\u001b[39m\u001b[38;5;124m\"\u001b[39m, \u001b[38;5;28mmap\u001b[39m\u001b[38;5;241m=\u001b[39m\u001b[38;5;124m\"\u001b[39m\u001b[38;5;124m0:v\u001b[39m\u001b[38;5;124m\"\u001b[39m, map_audio\u001b[38;5;241m=\u001b[39m\u001b[38;5;124m\"\u001b[39m\u001b[38;5;124m0:a\u001b[39m\u001b[38;5;124m\"\u001b[39m)\u001b[38;5;241m.\u001b[39mrun()\n\u001b[0;32m      9\u001b[0m \u001b[38;5;66;03m# 使用例子\u001b[39;00m\n\u001b[1;32m---> 10\u001b[0m \u001b[43mmerge_video_and_audio\u001b[49m\u001b[43m(\u001b[49m\u001b[38;5;124;43m\"\u001b[39;49m\u001b[38;5;124;43mC:/youtube/vedio/2023_12_19_早上.mp4\u001b[39;49m\u001b[38;5;124;43m\"\u001b[39;49m\u001b[43m,\u001b[49m\u001b[38;5;124;43m\"\u001b[39;49m\u001b[38;5;124;43mC:/youtube/audio/2023_12_19_早上.mp4\u001b[39;49m\u001b[38;5;124;43m\"\u001b[39;49m\u001b[43m,\u001b[49m\u001b[43m \u001b[49m\u001b[38;5;124;43m\"\u001b[39;49m\u001b[38;5;124;43mC:/youtube/merged_video.mp4\u001b[39;49m\u001b[38;5;124;43m\"\u001b[39;49m\u001b[43m)\u001b[49m\n",
      "Cell \u001b[1;32mIn[14], line 5\u001b[0m, in \u001b[0;36mmerge_video_and_audio\u001b[1;34m(video_path, audio_path, output_path)\u001b[0m\n\u001b[0;32m      4\u001b[0m \u001b[38;5;28;01mdef\u001b[39;00m \u001b[38;5;21mmerge_video_and_audio\u001b[39m(video_path, audio_path, output_path):\n\u001b[1;32m----> 5\u001b[0m     \u001b[43mffmpeg\u001b[49m\u001b[38;5;241;43m.\u001b[39;49m\u001b[43minput\u001b[49m(video_path)\u001b[38;5;241m.\u001b[39minput(audio_path)\u001b[38;5;241m.\u001b[39moutput(\n\u001b[0;32m      6\u001b[0m         output_path, codec\u001b[38;5;241m=\u001b[39m\u001b[38;5;124m\"\u001b[39m\u001b[38;5;124mcopy\u001b[39m\u001b[38;5;124m\"\u001b[39m, \u001b[38;5;28mmap\u001b[39m\u001b[38;5;241m=\u001b[39m\u001b[38;5;124m\"\u001b[39m\u001b[38;5;124m0:v\u001b[39m\u001b[38;5;124m\"\u001b[39m, map_audio\u001b[38;5;241m=\u001b[39m\u001b[38;5;124m\"\u001b[39m\u001b[38;5;124m0:a\u001b[39m\u001b[38;5;124m\"\u001b[39m)\u001b[38;5;241m.\u001b[39mrun()\n",
      "\u001b[1;31mAttributeError\u001b[0m: module 'ffmpeg' has no attribute 'input'"
     ]
    }
   ],
   "source": [
    "import ffmpeg\n",
    "\n",
    "\n",
    "def merge_video_and_audio(video_path, audio_path, output_path):\n",
    "    ffmpeg.input(video_path).input(audio_path).output(\n",
    "        output_path, codec=\"copy\", map=\"0:v\", map_audio=\"0:a\").run()\n",
    "\n",
    "\n",
    "# 使用例子\n",
    "merge_video_and_audio(\"C:/youtube/vedio/2023_12_19_早上.mp4\",\"C:/youtube/audio/2023_12_19_早上.mp4\", \"C:/youtube/merged_video.mp4\")\n"
   ]
  },
  {
   "cell_type": "code",
   "execution_count": 1,
   "metadata": {},
   "outputs": [
    {
     "ename": "FileNotFoundError",
     "evalue": "[WinError 2] 系統找不到指定的檔案。",
     "output_type": "error",
     "traceback": [
      "\u001b[1;31m---------------------------------------------------------------------------\u001b[0m",
      "\u001b[1;31mFileNotFoundError\u001b[0m                         Traceback (most recent call last)",
      "Cell \u001b[1;32mIn[1], line 37\u001b[0m\n\u001b[0;32m     35\u001b[0m \u001b[38;5;66;03m# 合併 video 和 audio\u001b[39;00m\n\u001b[0;32m     36\u001b[0m output_video_path \u001b[38;5;241m=\u001b[39m \u001b[38;5;124mf\u001b[39m\u001b[38;5;124m\"\u001b[39m\u001b[38;5;132;01m{\u001b[39;00moutput_directory\u001b[38;5;132;01m}\u001b[39;00m\u001b[38;5;124m/merged_video.mp4\u001b[39m\u001b[38;5;124m\"\u001b[39m\n\u001b[1;32m---> 37\u001b[0m \u001b[43mmerge_video_and_audio\u001b[49m\u001b[43m(\u001b[49m\u001b[43mvideo_path\u001b[49m\u001b[43m,\u001b[49m\u001b[43m \u001b[49m\u001b[43maudio_path\u001b[49m\u001b[43m,\u001b[49m\u001b[43m \u001b[49m\u001b[43moutput_video_path\u001b[49m\u001b[43m)\u001b[49m\n\u001b[0;32m     39\u001b[0m \u001b[38;5;28mprint\u001b[39m(\u001b[38;5;124m\"\u001b[39m\u001b[38;5;124m下載並合併完成！\u001b[39m\u001b[38;5;124m\"\u001b[39m)\n",
      "Cell \u001b[1;32mIn[1], line 24\u001b[0m, in \u001b[0;36mmerge_video_and_audio\u001b[1;34m(video_path, audio_path, output_path)\u001b[0m\n\u001b[0;32m     22\u001b[0m \u001b[38;5;28;01mdef\u001b[39;00m \u001b[38;5;21mmerge_video_and_audio\u001b[39m(video_path, audio_path, output_path):\n\u001b[0;32m     23\u001b[0m     \u001b[38;5;66;03m# 使用 ffmpeg 將 video 和 audio 合併\u001b[39;00m\n\u001b[1;32m---> 24\u001b[0m     \u001b[43mffmpeg\u001b[49m\u001b[38;5;241;43m.\u001b[39;49m\u001b[43minput\u001b[49m\u001b[43m(\u001b[49m\u001b[43mvideo_path\u001b[49m\u001b[43m)\u001b[49m\u001b[38;5;241;43m.\u001b[39;49m\u001b[43moutput\u001b[49m\u001b[43m(\u001b[49m\u001b[43moutput_path\u001b[49m\u001b[43m,\u001b[49m\u001b[43m \u001b[49m\u001b[43mcodec\u001b[49m\u001b[38;5;241;43m=\u001b[39;49m\u001b[38;5;124;43m\"\u001b[39;49m\u001b[38;5;124;43mcopy\u001b[39;49m\u001b[38;5;124;43m\"\u001b[39;49m\u001b[43m,\u001b[49m\u001b[43m \u001b[49m\u001b[38;5;28;43mmap\u001b[39;49m\u001b[38;5;241;43m=\u001b[39;49m\u001b[38;5;124;43m\"\u001b[39;49m\u001b[38;5;124;43m0:v\u001b[39;49m\u001b[38;5;124;43m\"\u001b[39;49m\u001b[43m,\u001b[49m\u001b[43m \u001b[49m\u001b[43mmap_audio\u001b[49m\u001b[38;5;241;43m=\u001b[39;49m\u001b[38;5;124;43m\"\u001b[39;49m\u001b[38;5;124;43m1:a\u001b[39;49m\u001b[38;5;124;43m\"\u001b[39;49m\u001b[43m)\u001b[49m\u001b[38;5;241;43m.\u001b[39;49m\u001b[43mrun\u001b[49m\u001b[43m(\u001b[49m\u001b[43m)\u001b[49m\n",
      "File \u001b[1;32mc:\\Users\\User\\Documents\\GitHub\\__11209python_school__\\venv\\lib\\site-packages\\ffmpeg\\_run.py:313\u001b[0m, in \u001b[0;36mrun\u001b[1;34m(stream_spec, cmd, capture_stdout, capture_stderr, input, quiet, overwrite_output)\u001b[0m\n\u001b[0;32m    289\u001b[0m \u001b[38;5;129m@output_operator\u001b[39m()\n\u001b[0;32m    290\u001b[0m \u001b[38;5;28;01mdef\u001b[39;00m \u001b[38;5;21mrun\u001b[39m(\n\u001b[0;32m    291\u001b[0m     stream_spec,\n\u001b[1;32m   (...)\u001b[0m\n\u001b[0;32m    297\u001b[0m     overwrite_output\u001b[38;5;241m=\u001b[39m\u001b[38;5;28;01mFalse\u001b[39;00m,\n\u001b[0;32m    298\u001b[0m ):\n\u001b[0;32m    299\u001b[0m \u001b[38;5;250m    \u001b[39m\u001b[38;5;124;03m\"\"\"Invoke ffmpeg for the supplied node graph.\u001b[39;00m\n\u001b[0;32m    300\u001b[0m \n\u001b[0;32m    301\u001b[0m \u001b[38;5;124;03m    Args:\u001b[39;00m\n\u001b[1;32m   (...)\u001b[0m\n\u001b[0;32m    311\u001b[0m \u001b[38;5;124;03m    Returns: (out, err) tuple containing captured stdout and stderr data.\u001b[39;00m\n\u001b[0;32m    312\u001b[0m \u001b[38;5;124;03m    \"\"\"\u001b[39;00m\n\u001b[1;32m--> 313\u001b[0m     process \u001b[38;5;241m=\u001b[39m \u001b[43mrun_async\u001b[49m\u001b[43m(\u001b[49m\n\u001b[0;32m    314\u001b[0m \u001b[43m        \u001b[49m\u001b[43mstream_spec\u001b[49m\u001b[43m,\u001b[49m\n\u001b[0;32m    315\u001b[0m \u001b[43m        \u001b[49m\u001b[43mcmd\u001b[49m\u001b[43m,\u001b[49m\n\u001b[0;32m    316\u001b[0m \u001b[43m        \u001b[49m\u001b[43mpipe_stdin\u001b[49m\u001b[38;5;241;43m=\u001b[39;49m\u001b[38;5;28;43minput\u001b[39;49m\u001b[43m \u001b[49m\u001b[38;5;129;43;01mis\u001b[39;49;00m\u001b[43m \u001b[49m\u001b[38;5;129;43;01mnot\u001b[39;49;00m\u001b[43m \u001b[49m\u001b[38;5;28;43;01mNone\u001b[39;49;00m\u001b[43m,\u001b[49m\n\u001b[0;32m    317\u001b[0m \u001b[43m        \u001b[49m\u001b[43mpipe_stdout\u001b[49m\u001b[38;5;241;43m=\u001b[39;49m\u001b[43mcapture_stdout\u001b[49m\u001b[43m,\u001b[49m\n\u001b[0;32m    318\u001b[0m \u001b[43m        \u001b[49m\u001b[43mpipe_stderr\u001b[49m\u001b[38;5;241;43m=\u001b[39;49m\u001b[43mcapture_stderr\u001b[49m\u001b[43m,\u001b[49m\n\u001b[0;32m    319\u001b[0m \u001b[43m        \u001b[49m\u001b[43mquiet\u001b[49m\u001b[38;5;241;43m=\u001b[39;49m\u001b[43mquiet\u001b[49m\u001b[43m,\u001b[49m\n\u001b[0;32m    320\u001b[0m \u001b[43m        \u001b[49m\u001b[43moverwrite_output\u001b[49m\u001b[38;5;241;43m=\u001b[39;49m\u001b[43moverwrite_output\u001b[49m\u001b[43m,\u001b[49m\n\u001b[0;32m    321\u001b[0m \u001b[43m    \u001b[49m\u001b[43m)\u001b[49m\n\u001b[0;32m    322\u001b[0m     out, err \u001b[38;5;241m=\u001b[39m process\u001b[38;5;241m.\u001b[39mcommunicate(\u001b[38;5;28minput\u001b[39m)\n\u001b[0;32m    323\u001b[0m     retcode \u001b[38;5;241m=\u001b[39m process\u001b[38;5;241m.\u001b[39mpoll()\n",
      "File \u001b[1;32mc:\\Users\\User\\Documents\\GitHub\\__11209python_school__\\venv\\lib\\site-packages\\ffmpeg\\_run.py:284\u001b[0m, in \u001b[0;36mrun_async\u001b[1;34m(stream_spec, cmd, pipe_stdin, pipe_stdout, pipe_stderr, quiet, overwrite_output)\u001b[0m\n\u001b[0;32m    282\u001b[0m stdout_stream \u001b[38;5;241m=\u001b[39m subprocess\u001b[38;5;241m.\u001b[39mPIPE \u001b[38;5;28;01mif\u001b[39;00m pipe_stdout \u001b[38;5;129;01mor\u001b[39;00m quiet \u001b[38;5;28;01melse\u001b[39;00m \u001b[38;5;28;01mNone\u001b[39;00m\n\u001b[0;32m    283\u001b[0m stderr_stream \u001b[38;5;241m=\u001b[39m subprocess\u001b[38;5;241m.\u001b[39mPIPE \u001b[38;5;28;01mif\u001b[39;00m pipe_stderr \u001b[38;5;129;01mor\u001b[39;00m quiet \u001b[38;5;28;01melse\u001b[39;00m \u001b[38;5;28;01mNone\u001b[39;00m\n\u001b[1;32m--> 284\u001b[0m \u001b[38;5;28;01mreturn\u001b[39;00m \u001b[43msubprocess\u001b[49m\u001b[38;5;241;43m.\u001b[39;49m\u001b[43mPopen\u001b[49m\u001b[43m(\u001b[49m\n\u001b[0;32m    285\u001b[0m \u001b[43m    \u001b[49m\u001b[43margs\u001b[49m\u001b[43m,\u001b[49m\u001b[43m \u001b[49m\u001b[43mstdin\u001b[49m\u001b[38;5;241;43m=\u001b[39;49m\u001b[43mstdin_stream\u001b[49m\u001b[43m,\u001b[49m\u001b[43m \u001b[49m\u001b[43mstdout\u001b[49m\u001b[38;5;241;43m=\u001b[39;49m\u001b[43mstdout_stream\u001b[49m\u001b[43m,\u001b[49m\u001b[43m \u001b[49m\u001b[43mstderr\u001b[49m\u001b[38;5;241;43m=\u001b[39;49m\u001b[43mstderr_stream\u001b[49m\n\u001b[0;32m    286\u001b[0m \u001b[43m\u001b[49m\u001b[43m)\u001b[49m\n",
      "File \u001b[1;32mC:\\Python3108\\lib\\subprocess.py:971\u001b[0m, in \u001b[0;36mPopen.__init__\u001b[1;34m(self, args, bufsize, executable, stdin, stdout, stderr, preexec_fn, close_fds, shell, cwd, env, universal_newlines, startupinfo, creationflags, restore_signals, start_new_session, pass_fds, user, group, extra_groups, encoding, errors, text, umask, pipesize)\u001b[0m\n\u001b[0;32m    967\u001b[0m         \u001b[38;5;28;01mif\u001b[39;00m \u001b[38;5;28mself\u001b[39m\u001b[38;5;241m.\u001b[39mtext_mode:\n\u001b[0;32m    968\u001b[0m             \u001b[38;5;28mself\u001b[39m\u001b[38;5;241m.\u001b[39mstderr \u001b[38;5;241m=\u001b[39m io\u001b[38;5;241m.\u001b[39mTextIOWrapper(\u001b[38;5;28mself\u001b[39m\u001b[38;5;241m.\u001b[39mstderr,\n\u001b[0;32m    969\u001b[0m                     encoding\u001b[38;5;241m=\u001b[39mencoding, errors\u001b[38;5;241m=\u001b[39merrors)\n\u001b[1;32m--> 971\u001b[0m     \u001b[38;5;28;43mself\u001b[39;49m\u001b[38;5;241;43m.\u001b[39;49m\u001b[43m_execute_child\u001b[49m\u001b[43m(\u001b[49m\u001b[43margs\u001b[49m\u001b[43m,\u001b[49m\u001b[43m \u001b[49m\u001b[43mexecutable\u001b[49m\u001b[43m,\u001b[49m\u001b[43m \u001b[49m\u001b[43mpreexec_fn\u001b[49m\u001b[43m,\u001b[49m\u001b[43m \u001b[49m\u001b[43mclose_fds\u001b[49m\u001b[43m,\u001b[49m\n\u001b[0;32m    972\u001b[0m \u001b[43m                        \u001b[49m\u001b[43mpass_fds\u001b[49m\u001b[43m,\u001b[49m\u001b[43m \u001b[49m\u001b[43mcwd\u001b[49m\u001b[43m,\u001b[49m\u001b[43m \u001b[49m\u001b[43menv\u001b[49m\u001b[43m,\u001b[49m\n\u001b[0;32m    973\u001b[0m \u001b[43m                        \u001b[49m\u001b[43mstartupinfo\u001b[49m\u001b[43m,\u001b[49m\u001b[43m \u001b[49m\u001b[43mcreationflags\u001b[49m\u001b[43m,\u001b[49m\u001b[43m \u001b[49m\u001b[43mshell\u001b[49m\u001b[43m,\u001b[49m\n\u001b[0;32m    974\u001b[0m \u001b[43m                        \u001b[49m\u001b[43mp2cread\u001b[49m\u001b[43m,\u001b[49m\u001b[43m \u001b[49m\u001b[43mp2cwrite\u001b[49m\u001b[43m,\u001b[49m\n\u001b[0;32m    975\u001b[0m \u001b[43m                        \u001b[49m\u001b[43mc2pread\u001b[49m\u001b[43m,\u001b[49m\u001b[43m \u001b[49m\u001b[43mc2pwrite\u001b[49m\u001b[43m,\u001b[49m\n\u001b[0;32m    976\u001b[0m \u001b[43m                        \u001b[49m\u001b[43merrread\u001b[49m\u001b[43m,\u001b[49m\u001b[43m \u001b[49m\u001b[43merrwrite\u001b[49m\u001b[43m,\u001b[49m\n\u001b[0;32m    977\u001b[0m \u001b[43m                        \u001b[49m\u001b[43mrestore_signals\u001b[49m\u001b[43m,\u001b[49m\n\u001b[0;32m    978\u001b[0m \u001b[43m                        \u001b[49m\u001b[43mgid\u001b[49m\u001b[43m,\u001b[49m\u001b[43m \u001b[49m\u001b[43mgids\u001b[49m\u001b[43m,\u001b[49m\u001b[43m \u001b[49m\u001b[43muid\u001b[49m\u001b[43m,\u001b[49m\u001b[43m \u001b[49m\u001b[43mumask\u001b[49m\u001b[43m,\u001b[49m\n\u001b[0;32m    979\u001b[0m \u001b[43m                        \u001b[49m\u001b[43mstart_new_session\u001b[49m\u001b[43m)\u001b[49m\n\u001b[0;32m    980\u001b[0m \u001b[38;5;28;01mexcept\u001b[39;00m:\n\u001b[0;32m    981\u001b[0m     \u001b[38;5;66;03m# Cleanup if the child failed starting.\u001b[39;00m\n\u001b[0;32m    982\u001b[0m     \u001b[38;5;28;01mfor\u001b[39;00m f \u001b[38;5;129;01min\u001b[39;00m \u001b[38;5;28mfilter\u001b[39m(\u001b[38;5;28;01mNone\u001b[39;00m, (\u001b[38;5;28mself\u001b[39m\u001b[38;5;241m.\u001b[39mstdin, \u001b[38;5;28mself\u001b[39m\u001b[38;5;241m.\u001b[39mstdout, \u001b[38;5;28mself\u001b[39m\u001b[38;5;241m.\u001b[39mstderr)):\n",
      "File \u001b[1;32mC:\\Python3108\\lib\\subprocess.py:1440\u001b[0m, in \u001b[0;36mPopen._execute_child\u001b[1;34m(self, args, executable, preexec_fn, close_fds, pass_fds, cwd, env, startupinfo, creationflags, shell, p2cread, p2cwrite, c2pread, c2pwrite, errread, errwrite, unused_restore_signals, unused_gid, unused_gids, unused_uid, unused_umask, unused_start_new_session)\u001b[0m\n\u001b[0;32m   1438\u001b[0m \u001b[38;5;66;03m# Start the process\u001b[39;00m\n\u001b[0;32m   1439\u001b[0m \u001b[38;5;28;01mtry\u001b[39;00m:\n\u001b[1;32m-> 1440\u001b[0m     hp, ht, pid, tid \u001b[38;5;241m=\u001b[39m \u001b[43m_winapi\u001b[49m\u001b[38;5;241;43m.\u001b[39;49m\u001b[43mCreateProcess\u001b[49m\u001b[43m(\u001b[49m\u001b[43mexecutable\u001b[49m\u001b[43m,\u001b[49m\u001b[43m \u001b[49m\u001b[43margs\u001b[49m\u001b[43m,\u001b[49m\n\u001b[0;32m   1441\u001b[0m \u001b[43m                             \u001b[49m\u001b[38;5;66;43;03m# no special security\u001b[39;49;00m\n\u001b[0;32m   1442\u001b[0m \u001b[43m                             \u001b[49m\u001b[38;5;28;43;01mNone\u001b[39;49;00m\u001b[43m,\u001b[49m\u001b[43m \u001b[49m\u001b[38;5;28;43;01mNone\u001b[39;49;00m\u001b[43m,\u001b[49m\n\u001b[0;32m   1443\u001b[0m \u001b[43m                             \u001b[49m\u001b[38;5;28;43mint\u001b[39;49m\u001b[43m(\u001b[49m\u001b[38;5;129;43;01mnot\u001b[39;49;00m\u001b[43m \u001b[49m\u001b[43mclose_fds\u001b[49m\u001b[43m)\u001b[49m\u001b[43m,\u001b[49m\n\u001b[0;32m   1444\u001b[0m \u001b[43m                             \u001b[49m\u001b[43mcreationflags\u001b[49m\u001b[43m,\u001b[49m\n\u001b[0;32m   1445\u001b[0m \u001b[43m                             \u001b[49m\u001b[43menv\u001b[49m\u001b[43m,\u001b[49m\n\u001b[0;32m   1446\u001b[0m \u001b[43m                             \u001b[49m\u001b[43mcwd\u001b[49m\u001b[43m,\u001b[49m\n\u001b[0;32m   1447\u001b[0m \u001b[43m                             \u001b[49m\u001b[43mstartupinfo\u001b[49m\u001b[43m)\u001b[49m\n\u001b[0;32m   1448\u001b[0m \u001b[38;5;28;01mfinally\u001b[39;00m:\n\u001b[0;32m   1449\u001b[0m     \u001b[38;5;66;03m# Child is launched. Close the parent's copy of those pipe\u001b[39;00m\n\u001b[0;32m   1450\u001b[0m     \u001b[38;5;66;03m# handles that only the child should have open.  You need\u001b[39;00m\n\u001b[1;32m   (...)\u001b[0m\n\u001b[0;32m   1453\u001b[0m     \u001b[38;5;66;03m# pipe will not close when the child process exits and the\u001b[39;00m\n\u001b[0;32m   1454\u001b[0m     \u001b[38;5;66;03m# ReadFile will hang.\u001b[39;00m\n\u001b[0;32m   1455\u001b[0m     \u001b[38;5;28mself\u001b[39m\u001b[38;5;241m.\u001b[39m_close_pipe_fds(p2cread, p2cwrite,\n\u001b[0;32m   1456\u001b[0m                          c2pread, c2pwrite,\n\u001b[0;32m   1457\u001b[0m                          errread, errwrite)\n",
      "\u001b[1;31mFileNotFoundError\u001b[0m: [WinError 2] 系統找不到指定的檔案。"
     ]
    }
   ],
   "source": [
    "# from chatGPT\n",
    "from pytube import YouTube\n",
    "import ffmpeg\n",
    "\n",
    "\n",
    "def download_video_and_audio(url, output_path):\n",
    "    # 創建 YouTube 對象\n",
    "    yt = YouTube(url)\n",
    "\n",
    "    # 獲取 1080p 的 video 和 audio streams:\n",
    "    # video_stream = yt.streams.filter(res=\"1080p\", file_extension=\"mp4\").first()\n",
    "    video_stream = yt.streams.filter(type=\"video\", resolution=\"1080p\").first()\n",
    "    audio_stream = yt.streams.filter(only_audio=True).first()\n",
    "\n",
    "    # 下載 video 和 audio\n",
    "    \n",
    "    video_path = video_stream.download(output_path='C:/youtube/vedio/')\n",
    "    audio_path = audio_stream.download(output_path='C:/youtube/audio/')\n",
    "\n",
    "    return video_path, audio_path\n",
    "\n",
    "\n",
    "def merge_video_and_audio(video_path, audio_path, output_path):\n",
    "    # 使用 ffmpeg 將 video 和 audio 合併\n",
    "    #ffmpeg.input(video_path).output(output_path, codec=\"copy\", map=\"0:v\", map_audio=\"1:a\").run()\n",
    "    ffmpeg.input(video_path).input(audio_path).output(\n",
    "        'C:/youtube', codec=\"copy\", map=\"0:v\", map_audio=\"0:a\").run()\n",
    "\n",
    "if __name__ == \"__main__\":\n",
    "    # YouTube 視頻的 URL\n",
    "    url = \"https://www.youtube.com/watch?v=n7eicT5seJc\"\n",
    "    #output_directory = \"C:/Users/User/Documents/youtube\"\n",
    "    output_directory = \"C:/youtube\"\n",
    "\n",
    "    # 下載 video 和 audio\n",
    "    video_path, audio_path = download_video_and_audio(url, output_directory)\n",
    "\n",
    "    # 合併 video 和 audio\n",
    "    output_video_path = f\"{output_directory}/merged_video.mp4\"\n",
    "    merge_video_and_audio(video_path, audio_path, output_video_path)\n",
    "\n",
    "    print(\"下載並合併完成！\")"
   ]
  },
  {
   "cell_type": "code",
   "execution_count": null,
   "metadata": {},
   "outputs": [],
   "source": [
    "# chatGPT\n",
    "from pytube import YouTube\n",
    "import ffmpeg\n",
    "\n",
    "\n",
    "def download_video_and_audio(url, output_path):\n",
    "    # 創建 YouTube 對象\n",
    "    yt = YouTube(url)\n",
    "\n",
    "    # 獲取 1080p 的 video 和 audio streams\n",
    "    video_stream = yt.streams.filter(res=\"1080p\", file_extension=\"mp4\").first()\n",
    "    audio_stream = yt.streams.filter(only_audio=True).first()\n",
    "\n",
    "    # 下載 video 和 audio\n",
    "    video_path = video_stream.download(output_path=output_path)\n",
    "    audio_path = audio_stream.download(output_path=output_path)\n",
    "\n",
    "    return video_path, audio_path\n",
    "\n",
    "\n",
    "def merge_video_and_audio(video_path, audio_path, output_path):\n",
    "    # 使用 ffmpeg 將 video 和 audio 合併\n",
    "    ffmpeg.input(video_path).output(\n",
    "        output_path, codec=\"copy\", map=\"0:v\", map_audio=\"1:a\").run()\n",
    "\n",
    "\n",
    "if __name__ == \"__main__\":\n",
    "    # YouTube 視頻的 URL\n",
    "    url = \"https://www.youtube.com/watch?v=your_video_id\"\n",
    "    output_directory = \"your_output_directory\"\n",
    "\n",
    "    # 下載 video 和 audio\n",
    "    video_path, audio_path = download_video_and_audio(url, output_directory)\n",
    "\n",
    "    # 合併 video 和 audio\n",
    "    output_video_path = f\"{output_directory}/merged_video.mp4\"\n",
    "    merge_video_and_audio(video_path, audio_path, output_video_path)\n",
    "\n",
    "    print(\"下載並合併完成！\")"
   ]
  }
 ],
 "metadata": {
  "kernelspec": {
   "display_name": "Python 3.8.10 ('venv': venv)",
   "language": "python",
   "name": "python3"
  },
  "language_info": {
   "codemirror_mode": {
    "name": "ipython",
    "version": 3
   },
   "file_extension": ".py",
   "mimetype": "text/x-python",
   "name": "python",
   "nbconvert_exporter": "python",
   "pygments_lexer": "ipython3",
   "version": "3.8.10"
  },
  "vscode": {
   "interpreter": {
    "hash": "23d4822c165d308299e135e33dc6a918208cf948574a2912c04be7f51ea0e419"
   }
  }
 },
 "nbformat": 4,
 "nbformat_minor": 2
}
