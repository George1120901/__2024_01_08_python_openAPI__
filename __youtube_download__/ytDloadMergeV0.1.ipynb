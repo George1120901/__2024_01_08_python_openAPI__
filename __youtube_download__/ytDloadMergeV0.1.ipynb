{
 "cells": [
  {
   "cell_type": "markdown",
   "metadata": {},
   "source": [
    "### 下載Youtube影片\n",
    "Pytube：Youtube影片下載"
   ]
  },
  {
   "cell_type": "code",
   "execution_count": 7,
   "metadata": {},
   "outputs": [
    {
     "name": "stdout",
     "output_type": "stream",
     "text": [
      "2023_11_22_早上\n",
      "11165\n",
      "徐國堂\n",
      "https://www.youtube.com/channel/UCKd_tuM8M79b1GAwAlTi9ZA\n",
      "https://i.ytimg.com/vi/z7OxK07nlFk/hq720.jpg?sqp=-oaymwEmCIAKENAF8quKqQMa8AEB-AH-CYAC0AWKAgwIABABGFogYihlMA8=&rs=AOn4CLDQaHlkKvTBP-30EwG0FtAGiMDnLA\n",
      "25\n",
      "[<Stream: itag=\"18\" mime_type=\"video/mp4\" res=\"360p\" fps=\"30fps\" vcodec=\"avc1.42001E\" acodec=\"mp4a.40.2\" progressive=\"True\" type=\"video\">, <Stream: itag=\"22\" mime_type=\"video/mp4\" res=\"720p\" fps=\"30fps\" vcodec=\"avc1.64001F\" acodec=\"mp4a.40.2\" progressive=\"True\" type=\"video\">, <Stream: itag=\"137\" mime_type=\"video/mp4\" res=\"1080p\" fps=\"30fps\" vcodec=\"avc1.640028\" progressive=\"False\" type=\"video\">, <Stream: itag=\"136\" mime_type=\"video/mp4\" res=\"720p\" fps=\"30fps\" vcodec=\"avc1.64001f\" progressive=\"False\" type=\"video\">, <Stream: itag=\"134\" mime_type=\"video/mp4\" res=\"360p\" fps=\"30fps\" vcodec=\"avc1.4d401e\" progressive=\"False\" type=\"video\">, <Stream: itag=\"160\" mime_type=\"video/mp4\" res=\"144p\" fps=\"30fps\" vcodec=\"avc1.4d400c\" progressive=\"False\" type=\"video\">, <Stream: itag=\"139\" mime_type=\"audio/mp4\" abr=\"48kbps\" acodec=\"mp4a.40.5\" progressive=\"False\" type=\"audio\">, <Stream: itag=\"140\" mime_type=\"audio/mp4\" abr=\"128kbps\" acodec=\"mp4a.40.2\" progressive=\"False\" type=\"audio\">, <Stream: itag=\"251\" mime_type=\"audio/webm\" abr=\"160kbps\" acodec=\"opus\" progressive=\"False\" type=\"audio\">]\n",
      "9\n",
      "<Stream: itag=\"18\" mime_type=\"video/mp4\" res=\"360p\" fps=\"30fps\" vcodec=\"avc1.42001E\" acodec=\"mp4a.40.2\" progressive=\"True\" type=\"video\">\n",
      "<Stream: itag=\"22\" mime_type=\"video/mp4\" res=\"720p\" fps=\"30fps\" vcodec=\"avc1.64001F\" acodec=\"mp4a.40.2\" progressive=\"True\" type=\"video\">\n",
      "<Stream: itag=\"137\" mime_type=\"video/mp4\" res=\"1080p\" fps=\"30fps\" vcodec=\"avc1.640028\" progressive=\"False\" type=\"video\">\n",
      "<Stream: itag=\"136\" mime_type=\"video/mp4\" res=\"720p\" fps=\"30fps\" vcodec=\"avc1.64001f\" progressive=\"False\" type=\"video\">\n",
      "<Stream: itag=\"134\" mime_type=\"video/mp4\" res=\"360p\" fps=\"30fps\" vcodec=\"avc1.4d401e\" progressive=\"False\" type=\"video\">\n",
      "<Stream: itag=\"160\" mime_type=\"video/mp4\" res=\"144p\" fps=\"30fps\" vcodec=\"avc1.4d400c\" progressive=\"False\" type=\"video\">\n",
      "<Stream: itag=\"139\" mime_type=\"audio/mp4\" abr=\"48kbps\" acodec=\"mp4a.40.5\" progressive=\"False\" type=\"audio\">\n",
      "<Stream: itag=\"140\" mime_type=\"audio/mp4\" abr=\"128kbps\" acodec=\"mp4a.40.2\" progressive=\"False\" type=\"audio\">\n",
      "<Stream: itag=\"251\" mime_type=\"audio/webm\" abr=\"160kbps\" acodec=\"opus\" progressive=\"False\" type=\"audio\">\n"
     ]
    }
   ],
   "source": [
    "# 使用模組\n",
    "from pytube import YouTube\n",
    "\n",
    "url='https://youtube.com/live/z7OxK07nlFk'\n",
    "yt = YouTube(url)  # # 2023_11_22_上午\n",
    "\n",
    "# 影片格式分析\n",
    "print(yt.title)           # 影片標題\n",
    "print(yt.length)          # 影片長度 ( 秒 )\n",
    "print(yt.author)          # 影片作者\n",
    "print(yt.channel_url)     # 影片作者頻道網址\n",
    "print(yt.thumbnail_url)   # 影片縮圖網址\n",
    "print(yt.views)           # 影片觀看數\n",
    "\n",
    "# 分析\n",
    "print(yt.streams)  # 影片支援哪些畫質\n",
    "# print(yt.streams.all())  # all()-->useless\n",
    "print(len(yt.streams))\n",
    "\n",
    "for st in yt.streams:\n",
    "  print(st)\n"
   ]
  },
  {
   "cell_type": "code",
   "execution_count": 8,
   "metadata": {},
   "outputs": [
    {
     "name": "stdout",
     "output_type": "stream",
     "text": [
      "python_2023_11_22_早上_itag(140)完成\n",
      "python_2023_11_22_早上_itag(137)完成\n",
      "downdload完成\n"
     ]
    }
   ],
   "source": [
    "# 用itag分別下載聲音&影像  _ ok\n",
    "## audio(itag=140) 音訊取樣率44KHz\n",
    "## vedio(itag=137) 為1080p\n",
    "## 使用 yt.title 為檔名\n",
    "from pytube import YouTube\n",
    "\n",
    "#yt = YouTube('https://youtube.com/live/z7OxK07nlFk')   # Ex.2023_11_29_下午\n",
    "yt = YouTube(url) \n",
    "\n",
    "yt_title=yt.title\n",
    "itag_Audio = 140\n",
    "itag_Vedio = 137\n",
    "itag_List = [itag_Audio,itag_Vedio]\n",
    "for i in itag_List:\n",
    "    stream = yt.streams.get_by_itag(i)\n",
    "    stream.download(output_path='C:/Users/Lu/Documents/youtube',filename=f'python_{yt_title}_itag({i}).mp4', skip_existing=True, max_retries=0)\n",
    "    print(f'python_{yt_title}_itag({i})完成')\n",
    "print('downdload完成')"
   ]
  },
  {
   "cell_type": "code",
   "execution_count": 9,
   "metadata": {},
   "outputs": [
    {
     "name": "stdout",
     "output_type": "stream",
     "text": [
      "合併成功！輸出文件位於: C:/Users/Lu/Documents/youtube/python_2023_11_22_早上_itag.mp4\n"
     ]
    }
   ],
   "source": [
    "#  可成功完成 vedio+audio 之 merage\n",
    "\n",
    "import subprocess\n",
    "\n",
    "def merge_video_and_audio(video_path, audio_path, output_path):\n",
    "    command = [\n",
    "        'ffmpeg',\n",
    "        '-i', video_path,\n",
    "        '-i', audio_path,\n",
    "        '-c', 'copy',\n",
    "        '-map', '0:v',\n",
    "        '-map', '1:a',\n",
    "        output_path\n",
    "    ]\n",
    "    \n",
    "    try:\n",
    "        result = subprocess.run(command, check=True, stdout=subprocess.PIPE, stderr=subprocess.PIPE, text=True, encoding='utf-8')\n",
    "        print(\"合併成功！輸出文件位於:\", output_path)\n",
    "    except subprocess.CalledProcessError as e:\n",
    "        print(\"ffmpeg合併過程中發生錯誤:\", e)\n",
    "        if e.stderr:\n",
    "            print(\"ffmpeg命令輸出:\", e.stderr)\n",
    "        else:\n",
    "            print(\"無法獲取 ffmpeg 錯誤輸出。\")\n",
    "\n",
    "merge_video_and_audio(f'C:/Users/Lu/Documents/youtube/python_{yt_title}_itag({itag_Vedio}).mp4', f'C:/Users/Lu/Documents/youtube/python_{yt_title}_itag({itag_Audio}).mp4', f'C:/Users/Lu/Documents/youtube/python_{yt_title}_itag.mp4')"
   ]
  }
 ],
 "metadata": {
  "kernelspec": {
   "display_name": "yt.venv",
   "language": "python",
   "name": "python3"
  },
  "language_info": {
   "codemirror_mode": {
    "name": "ipython",
    "version": 3
   },
   "file_extension": ".py",
   "mimetype": "text/x-python",
   "name": "python",
   "nbconvert_exporter": "python",
   "pygments_lexer": "ipython3",
   "version": "3.10.8"
  }
 },
 "nbformat": 4,
 "nbformat_minor": 2
}
