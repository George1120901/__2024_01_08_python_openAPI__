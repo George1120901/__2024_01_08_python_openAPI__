{
 "cells": [
  {
   "cell_type": "code",
   "execution_count": 1,
   "metadata": {},
   "outputs": [
    {
     "name": "stdout",
     "output_type": "stream",
     "text": [
      "傳統函數處理\n",
      "100\n",
      "匿名函數處理\n",
      "100\n"
     ]
    }
   ],
   "source": [
    "#lam-1.py\n",
    "#傳統函數 \n",
    "def f(x, y, z):\n",
    "\treturn x + y + z \n",
    "print(\"傳統函數處理\") \n",
    "print(f(20, 30, 50)) \n",
    "\n",
    "#匿名函數\n",
    "f = lambda x, y, z: x + y + z \n",
    "print(\"匿名函數處理\") \n",
    "print(f(20, 30, 50))"
   ]
  },
  {
   "cell_type": "code",
   "execution_count": 2,
   "metadata": {},
   "outputs": [
    {
     "name": "stdout",
     "output_type": "stream",
     "text": [
      "匿名函數當作參數傳入-1\n",
      "Wolfgang Amadeus Mozart\n",
      "匿名函數當作參數傳入-2\n",
      "Wolf Amadeus Mozart\n"
     ]
    }
   ],
   "source": [
    "#lam-2.py\n",
    "#匿名函數當作參數傳入 - 1\n",
    "print(\"匿名函數當作參數傳入-1\")\n",
    "mz = (lambda a , b  , c  : a + b + c) \n",
    "print(mz('Wolfgang', ' Amadeus',' Mozart')) \n",
    "\n",
    "#lam-2.py\n",
    "\n",
    "#匿名函數當作參數傳入-2\n",
    "print(\"匿名函數當作參數傳入-2\")\n",
    "mz = (lambda a = 'Wolfgangus', b = ' Theophilus', c = ' Mozart': a + b + c) \n",
    "print(mz('Wolf', ' Amadeus')) "
   ]
  },
  {
   "cell_type": "code",
   "execution_count": 3,
   "metadata": {},
   "outputs": [
    {
     "name": "stdout",
     "output_type": "stream",
     "text": [
      "<class 'list'>\n",
      "<class 'function'>\n",
      "9\n",
      "<class 'function'>\n",
      "27\n",
      "<class 'function'>\n",
      "81\n",
      "100\n"
     ]
    }
   ],
   "source": [
    "try1 = [lambda x: x ** 2, lambda x: x ** 3,lambda x: x ** 4] \n",
    "print(try1.__class__) \n",
    "for f in try1:\n",
    "\tprint(f.__class__)\n",
    "\tprint(f(3))\n",
    " \n",
    " #try1[0] 是try 此list第一個位址值 lambda x: x ** 2\n",
    "print(try1[0](10))"
   ]
  },
  {
   "cell_type": "code",
   "execution_count": 4,
   "metadata": {},
   "outputs": [
    {
     "name": "stdout",
     "output_type": "stream",
     "text": [
      "一般函數處理\n",
      "<class 'function'>\n",
      "9\n",
      "<class 'function'>\n",
      "27\n",
      "<class 'function'>\n",
      "81\n",
      "9\n"
     ]
    }
   ],
   "source": [
    "#lam-3a.py \n",
    "#<class 'function'>\n",
    "\n",
    "print(\"一般函數處理\") \n",
    "def f1(x):\n",
    "\treturn x ** 2 \n",
    "\n",
    "def f2(x):\n",
    "\treturn x ** 3 \n",
    "\n",
    "def f3(x):\n",
    "\treturn x ** 4 \n",
    "\n",
    "try2 = [f1, f2, f3] \n",
    "\n",
    "for ff in try2:\n",
    "\tprint(ff.__class__)\n",
    "\tprint(ff(3)) \n",
    "\n",
    "print(try2[0](3))"
   ]
  },
  {
   "cell_type": "code",
   "execution_count": 6,
   "metadata": {},
   "outputs": [
    {
     "name": "stdout",
     "output_type": "stream",
     "text": [
      "匿名函數可用於條件分析表達上\n",
      "980\n",
      "980\n"
     ]
    }
   ],
   "source": [
    "#lam-4.py\n",
    "\n",
    "print(\"匿名函數可用於條件分析表達上\") \n",
    "findmin=(lambda x, y: x if x < y else y)\n",
    "print(findmin(10*99, 10*98))  \n",
    "print(findmin(10*98, 10*99))"
   ]
  },
  {
   "cell_type": "code",
   "execution_count": 11,
   "metadata": {},
   "outputs": [
    {
     "name": "stdout",
     "output_type": "stream",
     "text": [
      "score= 55  , level_point= 5\n"
     ]
    },
    {
     "ename": "TypeError",
     "evalue": "'NoneType' object is not callable",
     "output_type": "error",
     "traceback": [
      "\u001b[1;31m---------------------------------------------------------------------------\u001b[0m",
      "\u001b[1;31mTypeError\u001b[0m                                 Traceback (most recent call last)",
      "Cell \u001b[1;32mIn[11], line 7\u001b[0m\n\u001b[0;32m      5\u001b[0m level \u001b[38;5;241m=\u001b[39m score \u001b[38;5;241m/\u001b[39m\u001b[38;5;241m/\u001b[39m \u001b[38;5;241m10\u001b[39m\n\u001b[0;32m      6\u001b[0m \u001b[38;5;28mprint\u001b[39m(\u001b[38;5;124m'\u001b[39m\u001b[38;5;124mscore=\u001b[39m\u001b[38;5;124m'\u001b[39m,score,\u001b[38;5;124m'\u001b[39m\u001b[38;5;124m , level_point=\u001b[39m\u001b[38;5;124m'\u001b[39m,level)\n\u001b[1;32m----> 7\u001b[0m \u001b[43m{\u001b[49m\n\u001b[0;32m      8\u001b[0m \u001b[38;5;241;43m10\u001b[39;49m\u001b[43m \u001b[49m\u001b[43m:\u001b[49m\u001b[43m \u001b[49m\u001b[38;5;28;43;01mlambda\u001b[39;49;00m\u001b[43m:\u001b[49m\u001b[43m \u001b[49m\u001b[38;5;28;43mprint\u001b[39;49m\u001b[43m(\u001b[49m\u001b[38;5;124;43m'\u001b[39;49m\u001b[38;5;124;43mPerfect\u001b[39;49m\u001b[38;5;124;43m'\u001b[39;49m\u001b[43m)\u001b[49m\u001b[43m,\u001b[49m\n\u001b[0;32m      9\u001b[0m \u001b[38;5;241;43m9\u001b[39;49m\u001b[43m \u001b[49m\u001b[43m:\u001b[49m\u001b[43m \u001b[49m\u001b[38;5;28;43;01mlambda\u001b[39;49;00m\u001b[43m:\u001b[49m\u001b[43m \u001b[49m\u001b[38;5;28;43mprint\u001b[39;49m\u001b[43m(\u001b[49m\u001b[38;5;124;43m'\u001b[39;49m\u001b[38;5;124;43mA\u001b[39;49m\u001b[38;5;124;43m'\u001b[39;49m\u001b[43m)\u001b[49m\u001b[43m,\u001b[49m\n\u001b[0;32m     10\u001b[0m \u001b[38;5;241;43m8\u001b[39;49m\u001b[43m \u001b[49m\u001b[43m:\u001b[49m\u001b[43m \u001b[49m\u001b[38;5;28;43;01mlambda\u001b[39;49;00m\u001b[43m:\u001b[49m\u001b[43m \u001b[49m\u001b[38;5;28;43mprint\u001b[39;49m\u001b[43m(\u001b[49m\u001b[38;5;124;43m'\u001b[39;49m\u001b[38;5;124;43mB\u001b[39;49m\u001b[38;5;124;43m'\u001b[39;49m\u001b[43m)\u001b[49m\u001b[43m,\u001b[49m\n\u001b[0;32m     11\u001b[0m \u001b[38;5;241;43m7\u001b[39;49m\u001b[43m \u001b[49m\u001b[43m:\u001b[49m\u001b[43m \u001b[49m\u001b[38;5;28;43;01mlambda\u001b[39;49;00m\u001b[43m:\u001b[49m\u001b[43m \u001b[49m\u001b[38;5;28;43mprint\u001b[39;49m\u001b[43m(\u001b[49m\u001b[38;5;124;43m'\u001b[39;49m\u001b[38;5;124;43mC\u001b[39;49m\u001b[38;5;124;43m'\u001b[39;49m\u001b[43m)\u001b[49m\u001b[43m,\u001b[49m\n\u001b[0;32m     12\u001b[0m \u001b[38;5;241;43m6\u001b[39;49m\u001b[43m \u001b[49m\u001b[43m:\u001b[49m\u001b[43m \u001b[49m\u001b[38;5;28;43;01mlambda\u001b[39;49;00m\u001b[43m:\u001b[49m\u001b[43m \u001b[49m\u001b[38;5;28;43mprint\u001b[39;49m\u001b[43m(\u001b[49m\u001b[38;5;124;43m'\u001b[39;49m\u001b[38;5;124;43mD\u001b[39;49m\u001b[38;5;124;43m'\u001b[39;49m\u001b[43m)\u001b[49m\u001b[43m \u001b[49m\u001b[43m}\u001b[49m\u001b[38;5;241;43m.\u001b[39;49m\u001b[43mget\u001b[49m\u001b[43m(\u001b[49m\u001b[43mlevel\u001b[49m\u001b[43m)\u001b[49m\u001b[43m(\u001b[49m\u001b[43m)\u001b[49m\n",
      "\u001b[1;31mTypeError\u001b[0m: 'NoneType' object is not callable"
     ]
    }
   ],
   "source": [
    "# lam-5.py\n",
    "\n",
    "#搭配字典，設計出分組挑選的流程 \n",
    "score = int(input('please input:')) \n",
    "level = score // 10\n",
    "print('score=',score,' , level_point=',level)\n",
    "{\n",
    "10 : lambda: print('Perfect'),\n",
    "9 : lambda: print('A'),\n",
    "8 : lambda: print('B'),\n",
    "7 : lambda: print('C'),\n",
    "6 : lambda: print('D') }.get(level)()\n"
   ]
  }
 ],
 "metadata": {
  "kernelspec": {
   "display_name": "yt.venv",
   "language": "python",
   "name": "yt.venv"
  },
  "language_info": {
   "codemirror_mode": {
    "name": "ipython",
    "version": 3
   },
   "file_extension": ".py",
   "mimetype": "text/x-python",
   "name": "python",
   "nbconvert_exporter": "python",
   "pygments_lexer": "ipython3",
   "version": "3.10.8"
  }
 },
 "nbformat": 4,
 "nbformat_minor": 2
}
