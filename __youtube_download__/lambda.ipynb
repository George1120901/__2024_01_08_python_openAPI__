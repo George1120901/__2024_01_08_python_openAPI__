{
 "cells": [
  {
   "cell_type": "markdown",
   "metadata": {},
   "source": [
    "##匿名函數\n",
    "不需要定義函數名稱的，只需要用運算式或表達分析語法。\n",
    "Python 使用 lambda 語法定義匿名函數。\n",
    "匿名函數是一個表達式/計算式，並不是一個執行流程區塊。\n",
    "匿名函數可以出現在一般函數不允許的地方，例如像 list 內部或函數 呼叫參數的位置。\n",
    "\n",
    "##匿名函數說明\n",
    "匿名函數會自動返回計算式結果，一般函數必須進行規劃設計才能返回。\n",
    "匿名函數用於一個計算式的處理，而一般函數可以做更多複雜的事情。\n",
    "匿名函數語法:\n",
    "lambda 參數: 運算式,資料來源\n",
    "參數-可能是多個值\n",
    "資料來源-於第一個之後的都是資料來源，這裏得對應資料輸入"
   ]
  },
  {
   "cell_type": "markdown",
   "metadata": {},
   "source": [
    "匿名函數lambda"
   ]
  },
  {
   "cell_type": "code",
   "execution_count": 1,
   "metadata": {},
   "outputs": [
    {
     "name": "stdout",
     "output_type": "stream",
     "text": [
      "傳統函數處理\n",
      "100\n",
      "匿名函數處理\n",
      "100\n"
     ]
    }
   ],
   "source": [
    "#lam-1.py\n",
    "#傳統函數 \n",
    "def f(x, y, z):\n",
    "\treturn x + y + z \n",
    "print(\"傳統函數處理\") \n",
    "print(f(20, 30, 50)) \n",
    "\n",
    "#匿名函數\n",
    "f = lambda x, y, z: x + y + z \n",
    "print(\"匿名函數處理\") \n",
    "print(f(20, 30, 50))"
   ]
  },
  {
   "cell_type": "code",
   "execution_count": 2,
   "metadata": {},
   "outputs": [
    {
     "name": "stdout",
     "output_type": "stream",
     "text": [
      "匿名函數當作參數傳入-1\n",
      "Wolfgang Amadeus Mozart\n",
      "匿名函數當作參數傳入-2\n",
      "Wolf Amadeus Mozart\n"
     ]
    }
   ],
   "source": [
    "#lam-2.py\n",
    "#匿名函數當作參數傳入 - 1\n",
    "print(\"匿名函數當作參數傳入-1\")\n",
    "mz = (lambda a , b  , c  : a + b + c) \n",
    "print(mz('Wolfgang', ' Amadeus',' Mozart')) \n",
    "\n",
    "#lam-2.py\n",
    "\n",
    "#匿名函數當作參數傳入-2\n",
    "print(\"匿名函數當作參數傳入-2\")\n",
    "mz = (lambda a = 'Wolfgangus', b = ' Theophilus', c = ' Mozart': a + b + c) \n",
    "print(mz('Wolf', ' Amadeus')) "
   ]
  },
  {
   "cell_type": "code",
   "execution_count": 3,
   "metadata": {},
   "outputs": [
    {
     "name": "stdout",
     "output_type": "stream",
     "text": [
      "<class 'list'>\n",
      "<class 'function'>\n",
      "9\n",
      "<class 'function'>\n",
      "27\n",
      "<class 'function'>\n",
      "81\n",
      "100\n"
     ]
    }
   ],
   "source": [
    "try1 = [lambda x: x ** 2, lambda x: x ** 3,lambda x: x ** 4] \n",
    "print(try1.__class__) \n",
    "for f in try1:\n",
    "\tprint(f.__class__)\n",
    "\tprint(f(3))\n",
    " \n",
    " #try1[0] 是try 此list第一個位址值 lambda x: x ** 2\n",
    "print(try1[0](10))"
   ]
  },
  {
   "cell_type": "code",
   "execution_count": 4,
   "metadata": {},
   "outputs": [
    {
     "name": "stdout",
     "output_type": "stream",
     "text": [
      "一般函數處理\n",
      "<class 'function'>\n",
      "9\n",
      "<class 'function'>\n",
      "27\n",
      "<class 'function'>\n",
      "81\n",
      "9\n"
     ]
    }
   ],
   "source": [
    "#lam-3a.py \n",
    "#<class 'function'>\n",
    "\n",
    "print(\"一般函數處理\") \n",
    "def f1(x):\n",
    "\treturn x ** 2 \n",
    "\n",
    "def f2(x):\n",
    "\treturn x ** 3 \n",
    "\n",
    "def f3(x):\n",
    "\treturn x ** 4 \n",
    "\n",
    "try2 = [f1, f2, f3] \n",
    "\n",
    "for ff in try2:\n",
    "\tprint(ff.__class__)\n",
    "\tprint(ff(3)) \n",
    "\n",
    "print(try2[0](3))"
   ]
  },
  {
   "cell_type": "code",
   "execution_count": 6,
   "metadata": {},
   "outputs": [
    {
     "name": "stdout",
     "output_type": "stream",
     "text": [
      "匿名函數可用於條件分析表達上\n",
      "980\n",
      "980\n"
     ]
    }
   ],
   "source": [
    "#lam-4.py\n",
    "\n",
    "print(\"匿名函數可用於條件分析表達上\") \n",
    "findmin=(lambda x, y: x if x < y else y)\n",
    "print(findmin(10*99, 10*98))  \n",
    "print(findmin(10*98, 10*99))"
   ]
  },
  {
   "cell_type": "code",
   "execution_count": 11,
   "metadata": {},
   "outputs": [
    {
     "name": "stdout",
     "output_type": "stream",
     "text": [
      "score= 66  , level_point= 6\n",
      "D\n"
     ]
    }
   ],
   "source": [
    "# lam-5.py\n",
    "\n",
    "#搭配字典，設計出分組挑選的流程 \n",
    "score = int(input('please input:')) \n",
    "level = score // 10\n",
    "print('score=',score,' , level_point=',level)\n",
    "{\n",
    "10 : lambda: print('Perfect'),\n",
    "9 : lambda: print('A'),\n",
    "8 : lambda: print('B'),\n",
    "7 : lambda: print('C'),\n",
    "6 : lambda: print('D') }.get(level)()\n"
   ]
  },
  {
   "cell_type": "code",
   "execution_count": 14,
   "metadata": {},
   "outputs": [
    {
     "name": "stdout",
     "output_type": "stream",
     "text": [
      "執行edit_story(stairs, enliven)\n",
      "Thud!\n",
      "Meow!\n",
      "Thud!\n",
      "Hiss!\n",
      "執行edit_story(stairs, lambda word: word.capitalize() + '!')\n",
      "Thud!\n",
      "Meow!\n",
      "Thud!\n",
      "Hiss!\n"
     ]
    }
   ],
   "source": [
    "# Anonymous Functions(匿名函式): the lambda() Function\n",
    "def edit_story(words, func):\n",
    "\tfor word in words:\n",
    "\t\tprint(func(word))\n",
    "\n",
    "stairs = ['thud', 'meow', 'thud', 'hiss']\n",
    "\n",
    "\n",
    "def enliven(word): # give that prose more punch \n",
    "\treturn word.capitalize() + '!'\n",
    "\n",
    "print('執行edit_story(stairs, enliven)')\t\n",
    "edit_story(stairs, enliven) \n",
    "\n",
    "print(\"執行edit_story(stairs, lambda word: word.capitalize() + '!')\")\n",
    "edit_story(stairs, lambda word: word.capitalize() + '!') \n"
   ]
  },
  {
   "cell_type": "markdown",
   "metadata": {},
   "source": [
    "##map 與 filter\n",
    "用法:map(function, sequence)\n",
    "將複合性資料逐一取出項目再傳入到 function 操作，最後以 list 作為回傳值。\n",
    "filter( ) 函數用於過濾 list，過濾掉不符合條件的元素，返回由符合條件元素組 成的新 list。\n",
    "filter 接收兩個參數，第一個為函數，第二個為 list，list 的每個元素作為參數 傳遞給函數進行分析，然後返回 True 或 False，最後將返回 True 的元素放 到新list中。"
   ]
  },
  {
   "cell_type": "code",
   "execution_count": 2,
   "metadata": {},
   "outputs": [
    {
     "name": "stdout",
     "output_type": "stream",
     "text": [
      "[2, 4, 6, 8, 10]\n",
      "[2, 4, 6, 8, 10]\n",
      "[1, 2, 3, 4, 5, 1, 2, 3, 4, 5]\n"
     ]
    }
   ],
   "source": [
    "#map-1.py\n",
    "\n",
    "def multiply2(x): \n",
    "\treturn x * 2\n",
    "\t\n",
    "a = map(multiply2, [1, 2, 3, 4, 5])\n",
    "list1=list(a)\n",
    "print(list1)\n",
    "\n",
    "a = map(lambda x : x*2, [1, 2, 3, 4, 5])\n",
    "list2 = list(a)\n",
    "print(list2)\n",
    "\n",
    "b =[ 1, 2, 3, 4, 5] \n",
    "c = b*2 \n",
    "print(c) "
   ]
  },
  {
   "cell_type": "code",
   "execution_count": 5,
   "metadata": {},
   "outputs": [
    {
     "name": "stdout",
     "output_type": "stream",
     "text": [
      "[1, 4, 9, 16, 25]\n"
     ]
    }
   ],
   "source": [
    "a = map(lambda x : x**2, [1, 2, 3, 4, 5])\n",
    "list2 = list(a)\n",
    "print(list2)"
   ]
  },
  {
   "cell_type": "code",
   "execution_count": 16,
   "metadata": {},
   "outputs": [
    {
     "name": "stdout",
     "output_type": "stream",
     "text": [
      "<class 'list'>\n",
      "['python', 'java']\n",
      "[100, 80]\n",
      "[True, False]\n",
      "[11, 22, 33, 44]\n"
     ]
    }
   ],
   "source": [
    "#map-2.py\n",
    "\n",
    "dict1 = [{'name': 'python', 'points': 10},{'name': 'java','points': 8}] \n",
    "\n",
    "print(type(dict1))\n",
    "list3=map(lambda x : x['name'], dict1)\n",
    "print(list(list3))\n",
    "\n",
    "list4=map(lambda x : x['points']*10, dict1) \n",
    "print(list(list4))\n",
    "\n",
    "list5=map(lambda x : x['name'] == \"python\", dict1) \n",
    "print(list(list5))\n",
    "\n",
    "list6a = [1, 2, 3, 4]\n",
    "list6b = [10, 20, 30, 40]\n",
    "list6=map(lambda x, y: x + y, list6a, list6b) \n",
    "print(list(list6))"
   ]
  }
 ],
 "metadata": {
  "kernelspec": {
   "display_name": "Python 3",
   "language": "python",
   "name": "python3"
  },
  "language_info": {
   "codemirror_mode": {
    "name": "ipython",
    "version": 3
   },
   "file_extension": ".py",
   "mimetype": "text/x-python",
   "name": "python",
   "nbconvert_exporter": "python",
   "pygments_lexer": "ipython3",
   "version": "3.10.8"
  }
 },
 "nbformat": 4,
 "nbformat_minor": 2
}
