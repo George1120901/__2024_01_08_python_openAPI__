{
 "cells": [
  {
   "cell_type": "markdown",
   "metadata": {},
   "source": [
    "### [探討源由]\n",
    "<參考>\n",
    "[1 分鐘搞懂 Python 迴圈控制：break、continue、pass]\n",
    "https://medium.com/@chiayinchen/1-分鐘搞懂-python-迴圈控制-break-continue-pass-be290cd1f9d8\n",
    "\n",
    "<regularExpression>https://steam.oxxostudio.tw/category/python/library/re.html\n",
    "加號+代表前面的字元必須至少出現一次。（1次或多次）。\n",
    "問號?代表前面的字元最多只可以出現一次。（0次或1次）。\n",
    "星號*代表前面的字元可以不出現，也可以出現一次或者多次。\n",
    "字元 /  :將下一個字元標記為一個特殊字元"
   ]
  },
  {
   "cell_type": "markdown",
   "metadata": {},
   "source": [
    " Note：\n",
    " 利用 break 告訴迴圈當 email 字串中包含 email_out 列表 (List) 中的關鍵字時，要強制結束迴圈。"
   ]
  },
  {
   "cell_type": "code",
   "execution_count": 1,
   "metadata": {},
   "outputs": [
    {
     "name": "stdout",
     "output_type": "stream",
     "text": [
      "carol@gmail.com 為個人信箱\n",
      "Support@gmail.com 中包含 support 關鍵字，因此判斷為官方信箱\n"
     ]
    }
   ],
   "source": [
    "import re\n",
    "# 定義函數\n",
    "def detect_email(email):\n",
    "    email_out = ['hello','contact','sales','support','business','info']\n",
    "    for e_out in email_out:\n",
    "        pattern = re.compile('.*' + e_out + '.*')\n",
    "        r = re.match(pattern, email.lower())\n",
    "        if r is not None:\n",
    "            print('{} 中包含 {} 關鍵字，因此判斷為官方信箱'.format(email, e_out))\n",
    "            break\n",
    "    else:\n",
    "        print('{} 為個人信箱'.format(email))\n",
    "        \n",
    "# 呼叫函數\n",
    "detect_email('carol@gmail.com')\n",
    "detect_email('Support@gmail.com')"
   ]
  },
  {
   "cell_type": "markdown",
   "metadata": {},
   "source": [
    "## [探討]\n",
    "### print('{} 中包含 {} 關鍵字，因此判斷為官方信箱'.format(email, e_out))"
   ]
  },
  {
   "cell_type": "markdown",
   "metadata": {},
   "source": [
    "<ref> https://www.runoob.com/python/att-string-format.html\n",
    "### Python format 格式化函数\n",
    "Python2.6 开始，新增了一种格式化字符串的函数 str.format()，它增强了字符串格式化的功能。\n",
    "基本语法是通过 {} 和 : 来代替以前的 % 。\n",
    "format 函数可以接受不限个参数，位置可以不按顺序。\n",
    "\n",
    "### 實例1\n",
    ">>>\"{} {}\".format(\"hello\", \"world\")    # 不设置指定位置，按默认顺序\n",
    "'hello world'\n",
    " \n",
    ">>> \"{0} {1}\".format(\"hello\", \"world\")  # 设置指定位置\n",
    "'hello world'\n",
    " \n",
    ">>> \"{1} {0} {1}\".format(\"hello\", \"world\")  # 设置指定位置\n",
    "'world hello world'\n",
    "\n",
    "### 實例2\n",
    "#!/usr/bin/python\n",
    "#! -*- coding: UTF-8 -*-\n",
    "print(\"网站名：{name}, 地址 {url}\".format(name=\"菜鸟教程\", url=\"www.runoob.com\"))\n",
    "##### 通过字典设置参数\n",
    "site = {\"name\": \"菜鸟教程\", \"url\": \"www.runoob.com\"}\n",
    "print(\"网站名：{name}, 地址 {url}\".format(**site))\n",
    "##### 通过列表索引设置参数\n",
    "my_list = ['菜鸟教程', 'www.runoob.com']\n",
    "print(\"网站名：{0[0]}, 地址 {0[1]}\".format(my_list))  # \"0\" 是必须的"
   ]
  },
  {
   "cell_type": "code",
   "execution_count": 3,
   "metadata": {},
   "outputs": [
    {
     "name": "stdout",
     "output_type": "stream",
     "text": [
      "网站名：1, 地址 ['菜鸟教程', 'www.runoob.com']\n"
     ]
    }
   ],
   "source": [
    "my_list = ['菜鳥教程', 'www.runoob.com']\n",
    "print(\"網站名：{}, 地址 {}\".format(1,my_list)) "
   ]
  },
  {
   "cell_type": "code",
   "execution_count": 2,
   "metadata": {},
   "outputs": [
    {
     "name": "stdout",
     "output_type": "stream",
     "text": [
      "value 為: 6\n"
     ]
    }
   ],
   "source": [
    "#### 實例3\n",
    "#!/usr/bin/python\n",
    "# -*- coding: UTF-8 -*-\n",
    " \n",
    "class AssignValue(object):\n",
    "    def __init__(self, value):\n",
    "        self.value = value\n",
    "my_value = AssignValue(6)\n",
    "print('value 為: {0.value}'.format(my_value))  # \"0\" 是可选的"
   ]
  },
  {
   "cell_type": "markdown",
   "metadata": {},
   "source": [
    "## 數位格式化\n",
    "下表展示了 str.format() 格式化數字的多種方法：\n",
    "\n",
    "^, <, > 分別是居中、左對齊、右對齊，後面帶寬度， : 號後面帶填充的字符，只能是一個字符，不指定則默認是用空格填充。\n",
    "\n",
    "+ 表示在正數前顯示 +，負數前顯示 -； （空格）表示在正數前加空格\n",
    "\n",
    "b、d、o、x 分別是二進制、十進制、八進制、十六進制。"
   ]
  },
  {
   "cell_type": "code",
   "execution_count": 3,
   "metadata": {},
   "outputs": [
    {
     "name": "stdout",
     "output_type": "stream",
     "text": [
      "3.14\n"
     ]
    }
   ],
   "source": [
    "print(\"{:.2f}\".format(3.1415926))"
   ]
  },
  {
   "cell_type": "markdown",
   "metadata": {},
   "source": [
    "<ref> https://zoejoyuliao.medium.com/%E6%AF%94%E8%BC%83-python-%E7%9A%84%E6%A0%BC%E5%BC%8F%E5%8C%96%E5%AD%97%E4%B8%B2-formatting-str-format-f-string-6d28487ba1d2\n",
    "## 較 Python 的格式化字串 — %-formatting、str.format()、 f-string\n",
    "一、%-formatting\n",
    "最早 Python 的格式化字串（format string）是用與 C 語言類似的 %-formatting，透過% 運算符號，將在元組（tuple）中的一組變量依照指定的格式化方式輸出。如 %s（字串）、 %d（十進位整數）、 %f（浮點數）：\n",
    "但這種輸出方式並不適合有很多變量的情況，容易搞錯也不易讀\n",
    "\n",
    "二、str.format()\n",
    "2008 發布的 Python 2.6 開始有新的格式化字符函數 str.format()，透過 {} 和 format 來代替 %運算符號，如我們可以將上面例子的：\n",
    "有沒有比之前容易讀一點呢:)？但是，這也會導致接變量後 format 會變長\n",
    "\n",
    "三、f-string\n",
    "2016 發布的 Python 3.6 新增 f-string，可以解決 %-formatting 變量不易閱讀以及 str.format() 接變量後變超長的問題，如上面自介的例子：\n",
    "覺得 f-string 有沒有比較容易閱讀呢:)？而且 f-string 執行速度比 str.format()、%s 還快呢！但要注意的是 f-string 不能像 %-string、str.format() 一樣，可以先將 template 賦值給變量再格式化輸出"
   ]
  },
  {
   "cell_type": "code",
   "execution_count": 10,
   "metadata": {},
   "outputs": [
    {
     "name": "stdout",
     "output_type": "stream",
     "text": [
      "George says: 2/3 is 0.667\n"
     ]
    },
    {
     "data": {
      "text/plain": [
       "'I am George Dr.. Luffy'"
      ]
     },
     "execution_count": 10,
     "metadata": {},
     "output_type": "execute_result"
    }
   ],
   "source": [
    "# 一、%-formatting\n",
    "\n",
    "print(\"%s says: %d/%d is %.3f\" %(\"George\",2,3,2/3))\n",
    "\n",
    "#完全不知道 %s 個別代表是什麼意思，需要配合參數才能知道用途：\n",
    "\"I am %s %s. %s\" %(\"George\",\"Dr.\",\"Luffy\")"
   ]
  },
  {
   "cell_type": "code",
   "execution_count": 11,
   "metadata": {},
   "outputs": [
    {
     "data": {
      "text/plain": [
       "'I am George Dr.. Luffy'"
      ]
     },
     "execution_count": 11,
     "metadata": {},
     "output_type": "execute_result"
    }
   ],
   "source": [
    "# 二、str.format()\n",
    "s = 'I am {first_name} {middle_name} {last_name}'\n",
    "s.format(first_name='George', middle_name='Dr.', last_name='Luffy')"
   ]
  },
  {
   "cell_type": "code",
   "execution_count": 14,
   "metadata": {},
   "outputs": [
    {
     "data": {
      "text/plain": [
       "'I am George Dr. Luffy'"
      ]
     },
     "execution_count": 14,
     "metadata": {},
     "output_type": "execute_result"
    }
   ],
   "source": [
    "# variables\n",
    "first_name = \"George\"\n",
    "middle_name = \"Dr.\"\n",
    "last_name = \"Luffy\"\n",
    "# str.format()\n",
    "\"I am {first_name} {middle_name} {last_name}\".format(\n",
    "     first_name=first_name,\n",
    "     middle_name=middle_name,\n",
    "     last_name=last_name\n",
    ")\n",
    "# Output: \"I am Monkey D. Luffy\""
   ]
  },
  {
   "cell_type": "code",
   "execution_count": 15,
   "metadata": {},
   "outputs": [
    {
     "data": {
      "text/plain": [
       "'I am George Dr. Luffy'"
      ]
     },
     "execution_count": 15,
     "metadata": {},
     "output_type": "execute_result"
    }
   ],
   "source": [
    "# 三、f-string\n",
    "# variables\n",
    "first_name = \"George\"\n",
    "middle_name = \"Dr.\"\n",
    "last_name = \"Luffy\"\n",
    "# f-string\n",
    "f\"I am {first_name} {middle_name} {last_name}\""
   ]
  }
 ],
 "metadata": {
  "kernelspec": {
   "display_name": "yt.venv",
   "language": "python",
   "name": "python3"
  },
  "language_info": {
   "codemirror_mode": {
    "name": "ipython",
    "version": 3
   },
   "file_extension": ".py",
   "mimetype": "text/x-python",
   "name": "python",
   "nbconvert_exporter": "python",
   "pygments_lexer": "ipython3",
   "version": "3.10.8"
  }
 },
 "nbformat": 4,
 "nbformat_minor": 2
}
