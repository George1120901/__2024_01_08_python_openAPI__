{
 "cells": [
  {
   "cell_type": "markdown",
   "metadata": {},
   "source": [
    "#### 原由 : 下載Youtube影片\n",
    "base : ytDloadMergeV0.3.ipynb --> ~2024.06.20止\n",
    "Pytube：Youtube影片下載"
   ]
  },
  {
   "cell_type": "code",
   "execution_count": 1,
   "metadata": {},
   "outputs": [
    {
     "name": "stdout",
     "output_type": "stream",
     "text": [
      "2023_11_20_下午\n",
      "11420\n",
      "徐國堂\n",
      "https://www.youtube.com/channel/UCKd_tuM8M79b1GAwAlTi9ZA\n",
      "https://i.ytimg.com/vi/CFoPy2Q7IwQ/hq720.jpg?sqp=-oaymwEmCIAKENAF8quKqQMa8AEB-AH-CYAC0AWKAgwIABABGFsgWShlMA8=&rs=AOn4CLD53b04ee4b5MTK5nrQ04GgKBdJTA\n",
      "45\n",
      "[<Stream: itag=\"18\" mime_type=\"video/mp4\" res=\"360p\" fps=\"30fps\" vcodec=\"avc1.42001E\" acodec=\"mp4a.40.2\" progressive=\"True\" type=\"video\">, <Stream: itag=\"22\" mime_type=\"video/mp4\" res=\"720p\" fps=\"30fps\" vcodec=\"avc1.64001F\" acodec=\"mp4a.40.2\" progressive=\"True\" type=\"video\">, <Stream: itag=\"137\" mime_type=\"video/mp4\" res=\"1080p\" fps=\"30fps\" vcodec=\"avc1.640028\" progressive=\"False\" type=\"video\">, <Stream: itag=\"136\" mime_type=\"video/mp4\" res=\"720p\" fps=\"30fps\" vcodec=\"avc1.64001f\" progressive=\"False\" type=\"video\">, <Stream: itag=\"134\" mime_type=\"video/mp4\" res=\"360p\" fps=\"30fps\" vcodec=\"avc1.4d401e\" progressive=\"False\" type=\"video\">, <Stream: itag=\"160\" mime_type=\"video/mp4\" res=\"144p\" fps=\"30fps\" vcodec=\"avc1.4d400c\" progressive=\"False\" type=\"video\">, <Stream: itag=\"139\" mime_type=\"audio/mp4\" abr=\"48kbps\" acodec=\"mp4a.40.5\" progressive=\"False\" type=\"audio\">, <Stream: itag=\"140\" mime_type=\"audio/mp4\" abr=\"128kbps\" acodec=\"mp4a.40.2\" progressive=\"False\" type=\"audio\">, <Stream: itag=\"251\" mime_type=\"audio/webm\" abr=\"160kbps\" acodec=\"opus\" progressive=\"False\" type=\"audio\">]\n",
      "9\n",
      "<Stream: itag=\"18\" mime_type=\"video/mp4\" res=\"360p\" fps=\"30fps\" vcodec=\"avc1.42001E\" acodec=\"mp4a.40.2\" progressive=\"True\" type=\"video\">\n",
      "<Stream: itag=\"22\" mime_type=\"video/mp4\" res=\"720p\" fps=\"30fps\" vcodec=\"avc1.64001F\" acodec=\"mp4a.40.2\" progressive=\"True\" type=\"video\">\n",
      "<Stream: itag=\"137\" mime_type=\"video/mp4\" res=\"1080p\" fps=\"30fps\" vcodec=\"avc1.640028\" progressive=\"False\" type=\"video\">\n",
      "<Stream: itag=\"136\" mime_type=\"video/mp4\" res=\"720p\" fps=\"30fps\" vcodec=\"avc1.64001f\" progressive=\"False\" type=\"video\">\n",
      "<Stream: itag=\"134\" mime_type=\"video/mp4\" res=\"360p\" fps=\"30fps\" vcodec=\"avc1.4d401e\" progressive=\"False\" type=\"video\">\n",
      "<Stream: itag=\"160\" mime_type=\"video/mp4\" res=\"144p\" fps=\"30fps\" vcodec=\"avc1.4d400c\" progressive=\"False\" type=\"video\">\n",
      "<Stream: itag=\"139\" mime_type=\"audio/mp4\" abr=\"48kbps\" acodec=\"mp4a.40.5\" progressive=\"False\" type=\"audio\">\n",
      "<Stream: itag=\"140\" mime_type=\"audio/mp4\" abr=\"128kbps\" acodec=\"mp4a.40.2\" progressive=\"False\" type=\"audio\">\n",
      "<Stream: itag=\"251\" mime_type=\"audio/webm\" abr=\"160kbps\" acodec=\"opus\" progressive=\"False\" type=\"audio\">\n"
     ]
    }
   ],
   "source": [
    "# 使用模組\n",
    "from pytube import YouTube\n",
    "\n",
    "url='https://youtube.com/live/CFoPy2Q7IwQ'\n",
    "yt = YouTube(url)  # # 2023_11_20_下午\n",
    "\n",
    "# 影片格式分析\n",
    "print(yt.title)           # 影片標題\n",
    "print(yt.length)          # 影片長度 ( 秒 )\n",
    "print(yt.author)          # 影片作者\n",
    "print(yt.channel_url)     # 影片作者頻道網址\n",
    "print(yt.thumbnail_url)   # 影片縮圖網址\n",
    "print(yt.views)           # 影片觀看數\n",
    "\n",
    "# 分析\n",
    "print(yt.streams)  # 影片支援哪些畫質\n",
    "# print(yt.streams.all())  # all()-->useless\n",
    "print(len(yt.streams))\n",
    "\n",
    "for st in yt.streams:\n",
    "  print(st)\n"
   ]
  },
  {
   "cell_type": "code",
   "execution_count": null,
   "metadata": {},
   "outputs": [],
   "source": [
    "# 使用模組\n",
    "from pytube import YouTube\n",
    "\n",
    "url='https://youtube.com/live/o6HQepxxDlo'   # 2023_11_10_下午\n",
    "yt = YouTube(url)\n",
    "\n",
    "# 影片格式分析\n",
    "print(f'標題: {yt.title}')              # 影片標題\n",
    "print(f'長度(s): {yt.length}')          # 影片長度 ( 秒 )\n",
    "print(f'作者: {yt.author}')             # 影片作者\n",
    "print(f'網址: {yt.channel_url}')        # 影片作者頻道網址\n",
    "print(f'縮圖網址: {yt.thumbnail_url}')  # 影片縮圖網址\n",
    "print(f'觀看數: {yt.views}')            # 影片觀看數\n",
    "\n",
    "# 分析\n",
    "print(f'支援畫質:{yt.streams}')  # 影片支援哪些畫質\n",
    "# print(yt.streams.all())  # all()-->useless\n",
    "print('影片支援畫質數: ',len(yt.streams))\n",
    "\n",
    "for st in yt.streams:\n",
    "  print(st)\n"
   ]
  },
  {
   "cell_type": "markdown",
   "metadata": {},
   "source": [
    "+++++++++++++++++++++++++++++++++++++++++++++++++++++++++++++++++++++++++++++++\n",
    "####  可成功完成 vedio+audio 之 merage\n",
    " ((基本式樣)+(ubprocess.TimeoutExpired檢查)+(增加執行內容信息))\n",
    " + 如果嘗試用 UTF-8 解碼失敗，使用 CP950 解碼\n"
   ]
  },
  {
   "cell_type": "code",
   "execution_count": 7,
   "metadata": {},
   "outputs": [
    {
     "name": "stdout",
     "output_type": "stream",
     "text": [
      "標題:  2023_11_10_早上\n",
      "長度 ( 秒 ):  11430\n",
      "作者:  徐國堂\n",
      "作者頻道網址:  https://www.youtube.com/channel/UCKd_tuM8M79b1GAwAlTi9ZA\n",
      "縮圖網址:  https://i.ytimg.com/vi/lRY9hvVHfFE/hq720.jpg?sqp=-oaymwEmCIAKENAF8quKqQMa8AEB-AH-CYAC0AWKAgwIABABGGUgZShlMA8=&rs=AOn4CLACy_JWV-WYQ8YufCqYpAie6b8ZSg\n",
      "觀看數:  22\n",
      "9\n",
      "<Stream: itag=\"18\" mime_type=\"video/mp4\" res=\"360p\" fps=\"30fps\" vcodec=\"avc1.42001E\" acodec=\"mp4a.40.2\" progressive=\"True\" type=\"video\">\n",
      "<Stream: itag=\"22\" mime_type=\"video/mp4\" res=\"720p\" fps=\"30fps\" vcodec=\"avc1.64001F\" acodec=\"mp4a.40.2\" progressive=\"True\" type=\"video\">\n",
      "<Stream: itag=\"137\" mime_type=\"video/mp4\" res=\"1080p\" fps=\"30fps\" vcodec=\"avc1.640028\" progressive=\"False\" type=\"video\">\n",
      "<Stream: itag=\"136\" mime_type=\"video/mp4\" res=\"720p\" fps=\"30fps\" vcodec=\"avc1.64001f\" progressive=\"False\" type=\"video\">\n",
      "<Stream: itag=\"134\" mime_type=\"video/mp4\" res=\"360p\" fps=\"30fps\" vcodec=\"avc1.4d401e\" progressive=\"False\" type=\"video\">\n",
      "<Stream: itag=\"160\" mime_type=\"video/mp4\" res=\"144p\" fps=\"30fps\" vcodec=\"avc1.4d400c\" progressive=\"False\" type=\"video\">\n",
      "<Stream: itag=\"139\" mime_type=\"audio/mp4\" abr=\"48kbps\" acodec=\"mp4a.40.5\" progressive=\"False\" type=\"audio\">\n",
      "<Stream: itag=\"140\" mime_type=\"audio/mp4\" abr=\"128kbps\" acodec=\"mp4a.40.2\" progressive=\"False\" type=\"audio\">\n",
      "<Stream: itag=\"251\" mime_type=\"audio/webm\" abr=\"160kbps\" acodec=\"opus\" progressive=\"False\" type=\"audio\">\n",
      "media格式分析完成\n",
      "downdloading of video & audio .....\n",
      "python_2023_11_10_早上_itag(137)完成\n",
      "python_2023_11_10_早上_itag(140)完成\n",
      "downdload完成\n",
      "執行命令: ffmpeg -i C:/Users/Lu/Documents/youtube/python_2023_11_10_早上_itag(137).mp4 -i C:/Users/Lu/Documents/youtube/python_2023_11_10_早上_itag(140).mp4 -c copy -map 0:v -map 1:a C:/Users/Lu/Documents/youtube/python_2023_11_10_早上_itag(merge).mp4\n",
      "合併成功！輸出文件位於: C:/Users/Lu/Documents/youtube/python_2023_11_10_早上_itag(merge).mp4\n",
      "影像&音訊檔案刪除成功,合併完成！\n"
     ]
    }
   ],
   "source": [
    "# V0.4.0 -->完成 (2024.06.15止-->final)\n",
    "from pytube import YouTube\n",
    "import subprocess\n",
    "import os\n",
    "\n",
    "def media_contents(url):\n",
    "    # 影片格式分析\n",
    "    print('標題: ',yt.title)                 # 影片標題\n",
    "    print('長度 ( 秒 ): ',yt.length)         # 影片長度 ( 秒 )\n",
    "    print('作者: ',yt.author)                # 影片作者\n",
    "    print('作者頻道網址: ',yt.channel_url)   # 影片作者頻道網址\n",
    "    print('縮圖網址: ',yt.thumbnail_url)     # 影片縮圖網址\n",
    "    print('觀看數: ',yt.views)               # 影片觀看數\n",
    "\n",
    "    # 分析\n",
    "    #print(yt.streams)  # 影片支援哪些畫質\n",
    "    print('stream數: ',len(yt.streams))\n",
    "\n",
    "    for st in yt.streams:\n",
    "        print(st)\n",
    "    print('media格式分析完成')\n",
    "\n",
    "\n",
    "def download_video_and_audio(url,itag_Vedio,itag_Audio):\n",
    "    print('downdloading of video & audio .....')\n",
    "    itag_List = [itag_Vedio,itag_Audio]\n",
    "    for i in itag_List:\n",
    "        stream = yt.streams.get_by_itag(i)\n",
    "        stream.download(output_path='C:/Users/Lu/Documents/youtube',filename=f'python_{yt.title}_itag({i}).mp4', skip_existing=True, max_retries=0)\n",
    "        print(f'python_{yt.title}_itag({i})完成')\n",
    "    print('downdload完成')\n",
    "\n",
    "\n",
    "def merge_video_and_audio(video_path, audio_path, output_path):\n",
    "    command = [\n",
    "        'ffmpeg',\n",
    "        '-i', video_path,\n",
    "        '-i', audio_path,\n",
    "        '-c', 'copy',\n",
    "        '-map', '0:v',\n",
    "        '-map', '1:a',\n",
    "        output_path\n",
    "    ]\n",
    "    \n",
    "    try:\n",
    "        print(\"執行merge命令:\", ' '.join(command))  # 增加執行內容訊息\n",
    "        result = subprocess.run(command, check=True, stdout=subprocess.PIPE, stderr=subprocess.PIPE, text=True, encoding='utf-8',timeout=60)\n",
    "        print(\"合併成功！輸出文件位於:\", output_path)\n",
    "    except subprocess.CalledProcessError as e:\n",
    "        print(\"ffmpeg合併過程中發生錯誤:\", e)\n",
    "        if e.stderr:\n",
    "            try:\n",
    "                # 嘗試用 UTF-8 解碼\n",
    "                print(\"ffmpeg命令輸出:\", e.stderr)\n",
    "            except UnicodeDecodeError:\n",
    "                # 如果失敗，使用 CP950 解碼\n",
    "                print(\"ffmpeg命令輸出:\", e.stderr.decode(encoding='cp950', errors='ignore'))\n",
    "        else:\n",
    "            print(\"無法獲取 ffmpeg 錯誤輸出。\")\n",
    "    except subprocess.TimeoutExpired as e:\n",
    "        print(\"命令執行超時:\", e)\n",
    "\n",
    "\n",
    "#url = input(\"Enter the url of media : \")   \n",
    "url='https://youtube.com/live/lRY9hvVHfFE'    #ex. 2023_11_10_上午\n",
    "yt = YouTube(url) \n",
    "itag_Audio = 140\n",
    "itag_Vedio = 137 \n",
    "media_contents(url)\n",
    "download_video_and_audio(url,itag_Vedio,itag_Audio)\n",
    "merge_video_and_audio(f'C:/Users/Lu/Documents/youtube/python_{yt.title}_itag({itag_Vedio}).mp4', f'C:/Users/Lu/Documents/youtube/python_{yt.title}_itag({itag_Audio}).mp4', f'C:/Users/Lu/Documents/youtube/python_{yt.title}_itag(merge).mp4')\n",
    "\n",
    "os.remove(f'C:/Users/Lu/Documents/youtube/python_{yt.title}_itag({itag_Vedio}).mp4')\n",
    "os.remove(f'C:/Users/Lu/Documents/youtube/python_{yt.title}_itag({itag_Audio}).mp4')\n",
    "print('合併成功！影像&音訊檔案刪除完成')\n",
    "\n",
    "#<2023_11_10_上午> media 長度 03:10:30 容量大小731,905KB 處理耗時10m 6.4s"
   ]
  },
  {
   "cell_type": "markdown",
   "metadata": {},
   "source": [
    "========================================================================================\n",
    "##### 以下為get_audio_only相關\n"
   ]
  },
  {
   "cell_type": "code",
   "execution_count": 27,
   "metadata": {},
   "outputs": [
    {
     "name": "stdout",
     "output_type": "stream",
     "text": [
      "全名 :  The Best \"Chopin\" Classical Piano Music｜Relaxing Studying Music\n",
      "The Best _Chopin_ Classical Piano Music｜Relaxing Studying Music\n",
      "簡稱 :  The Best _Chopin_ Classical Piano Music\n",
      "downdload < The Best \"Chopin\" Classical Piano Music｜Relaxing Studying Music > 完成\n"
     ]
    }
   ],
   "source": [
    "# V0.6 --> 2024.06.19 final\n",
    "# from V0.42 for test_3.1 for window file formate \n",
    "\n",
    "from pytube import YouTube\n",
    "import re\n",
    "\n",
    "#url = input(\"Enter the url of media : \")   \n",
    "url = 'https://www.youtube.com/watch?v=VBNUwMd_eF4&t=4029s'  # 曲目:蕭邦 一定要聽的鋼琴古典樂 ｜放鬆音樂 讀書 專注 The Best \"Chopin\" Classical Piano Music｜Relaxing Studying Music\n",
    "yt = YouTube(url)   \n",
    "\n",
    "#yt_titles = yt.title\n",
    "print('全名 : ',yt.title)\n",
    "list=['/',':','\"','<','>','\\?','\\*']\n",
    "yt_titles = yt.title\n",
    "for i in list:\n",
    "    yt_title = re.sub(f'{i}','_',yt_titles)\n",
    "    yt_titles = yt_title\n",
    "    # print(i)\n",
    "print(yt_titles)\n",
    "\n",
    "yt_title = re.search(r'[A-Za-z0-9_ ]+',yt_titles).group()\n",
    "# print(yt_titles)\n",
    "print('簡稱 : ',yt_title)\n",
    "\n",
    "yt_audio = yt.streams.filter(abr='128kbps').first()\n",
    "\n",
    "yt_audio.download(output_path='C:/Users/Lu/Documents/youtube',filename=f'yt_audio_{yt_title}.mp4', skip_existing=True, max_retries=0)   #執行ok\n",
    "\n",
    "print(f'downdload < {yt.title} > 完成')"
   ]
  }
 ],
 "metadata": {
  "kernelspec": {
   "display_name": "yt.venv",
   "language": "python",
   "name": "python3"
  },
  "language_info": {
   "codemirror_mode": {
    "name": "ipython",
    "version": 3
   },
   "file_extension": ".py",
   "mimetype": "text/x-python",
   "name": "python",
   "nbconvert_exporter": "python",
   "pygments_lexer": "ipython3",
   "version": "3.10.8"
  }
 },
 "nbformat": 4,
 "nbformat_minor": 2
}
