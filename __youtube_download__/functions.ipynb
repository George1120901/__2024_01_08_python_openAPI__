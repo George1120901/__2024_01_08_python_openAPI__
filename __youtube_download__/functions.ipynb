{
 "cells": [
  {
   "cell_type": "markdown",
   "metadata": {},
   "source": [
    "# 函式和Comprehension"
   ]
  },
  {
   "cell_type": "markdown",
   "metadata": {},
   "source": [
    "### 函式和Comprehension\n",
    "1.自訂函數名稱與內容的安排:\n",
    "  函數區塊以 def 開始，後接函數名稱和括號 ( )\n",
    "  括號 ( ) 接上冒號後下一行縮排就是函數的內容\n",
    "2.不支援多個同名的自訂函數:\n",
    "  如果有同名的自訂函數則支援最後一個函數。\n",
    "3.若對函數操作有任何疑問:\n",
    "  可用 help(函數名稱) 取得說明文件。\n",
    "4.自訂函數接收資料:\n",
    "  傳入函數的參數放在 ( ) 內。\n",
    "  可以接收多個，以逗點隔開。\n",
    "  接收參數可以是變數，也可以是 list。\n",
    "  函數若設定接收參數，呼叫函數時一定要給參數。\n",
    "  接收參數可設定為不固定數量。\n",
    "  若不接收則為空白。\n",
    "5.自訂函數傳回資料:\n",
    "  若要傳回資料，則請於函數最後一行執行 return()語法\n",
    "  return( ) 可以傳回一個運算式或者資料\n",
    "  函數結束時不一定要傳回資料\n",
    "  不傳回資料方式:\n",
    "    ＃ return( ) 內沒有資料\n",
    "    ＃ 省略 return( )\n",
    "    ＃ 寫成 return"
   ]
  },
  {
   "cell_type": "code",
   "execution_count": 18,
   "metadata": {},
   "outputs": [],
   "source": [
    "### 自訂函數沒有參數也沒有傳回值"
   ]
  },
  {
   "cell_type": "code",
   "execution_count": 19,
   "metadata": {},
   "outputs": [
    {
     "name": "stdout",
     "output_type": "stream",
     "text": [
      "呼叫函式\n"
     ]
    },
    {
     "data": {
      "text/plain": [
       "()"
      ]
     },
     "execution_count": 19,
     "metadata": {},
     "output_type": "execute_result"
    }
   ],
   "source": [
    "def func_sum():\n",
    "\tprint(\"呼叫函式\")\n",
    "\treturn()\n",
    "\n",
    "func_sum()"
   ]
  },
  {
   "cell_type": "code",
   "execution_count": 20,
   "metadata": {},
   "outputs": [],
   "source": [
    "def do_nothing(): \n",
    "    pass\n",
    "\n",
    "do_nothing() \n"
   ]
  },
  {
   "cell_type": "code",
   "execution_count": 21,
   "metadata": {},
   "outputs": [
    {
     "name": "stdout",
     "output_type": "stream",
     "text": [
      "quack\n"
     ]
    }
   ],
   "source": [
    "\n",
    "def make_a_sound():\n",
    "\tprint('quack')\n",
    "\t\t\n",
    "make_a_sound()\n",
    "# quack\n"
   ]
  },
  {
   "cell_type": "code",
   "execution_count": 22,
   "metadata": {},
   "outputs": [
    {
     "name": "stdout",
     "output_type": "stream",
     "text": [
      "B\n",
      "A\n",
      "C\n"
     ]
    }
   ],
   "source": [
    "# Question: 請問執行後的結果哪一個是對的?(選擇題)\n",
    "def func_sum( ):\n",
    "\tprint(\"A\") \n",
    "\treturn( )\n",
    "\t\n",
    "print(\"B\") \n",
    "func_sum( ) \n",
    "print(\"C\")\n",
    "\n",
    "#(1) A,B,C\n",
    "#(2) B,A,C\n",
    "#(3) C,B,A"
   ]
  },
  {
   "cell_type": "code",
   "execution_count": 23,
   "metadata": {},
   "outputs": [
    {
     "name": "stdout",
     "output_type": "stream",
     "text": [
      "歡迎光臨\n"
     ]
    }
   ],
   "source": [
    "# Homework:\n",
    "'''\n",
    "#============================================================================\n",
    "# Name        : function1.py\n",
    "#定義函式，顯示「歡迎光臨」。\n",
    "#============================================================================\n",
    "'''\n",
    "\n",
    "def sayHello():\n",
    "    print(\"歡迎光臨\")\n",
    "\n",
    "# if __name__ == '__main__':\n",
    "sayHello()"
   ]
  },
  {
   "cell_type": "markdown",
   "metadata": {},
   "source": [
    "### 自訂函數有接收沒傳回"
   ]
  },
  {
   "cell_type": "code",
   "execution_count": 24,
   "metadata": {},
   "outputs": [],
   "source": [
    "def func_sum(a, b):\n",
    "\tc = a + b\n",
    "#\tprint(c)\n",
    "#\treturn(c)\n",
    "\n",
    "func_sum(3, 5)"
   ]
  },
  {
   "cell_type": "code",
   "execution_count": 25,
   "metadata": {},
   "outputs": [
    {
     "data": {
      "text/plain": [
       "()"
      ]
     },
     "execution_count": 25,
     "metadata": {},
     "output_type": "execute_result"
    }
   ],
   "source": [
    "def func_sum(a, b):\n",
    "\tc = a + b\n",
    "#\tprint(c)\n",
    "\treturn()\n",
    "\n",
    "func_sum(3, 5)"
   ]
  },
  {
   "cell_type": "code",
   "execution_count": 26,
   "metadata": {},
   "outputs": [
    {
     "name": "stdout",
     "output_type": "stream",
     "text": [
      "8\n"
     ]
    }
   ],
   "source": [
    "def func_sum(a, b):\n",
    "\tc = a + b\n",
    "\tprint(c)\n",
    "#\treturn(c)\n",
    "\n",
    "func_sum(3, 5)"
   ]
  },
  {
   "cell_type": "code",
   "execution_count": 14,
   "metadata": {},
   "outputs": [
    {
     "data": {
      "text/plain": [
       "8"
      ]
     },
     "execution_count": 14,
     "metadata": {},
     "output_type": "execute_result"
    }
   ],
   "source": [
    "def func_sum(a, b):\n",
    "\tc = a + b\n",
    "#\tprint(c)\n",
    "\treturn(c)\n",
    "\n",
    "func_sum(3, 5)"
   ]
  },
  {
   "cell_type": "code",
   "execution_count": 28,
   "metadata": {},
   "outputs": [
    {
     "name": "stdout",
     "output_type": "stream",
     "text": [
      "1\n",
      "7\n",
      "2\n"
     ]
    }
   ],
   "source": [
    "# Question:請問執行後的結果哪一個是對的?(選擇題)\n",
    "def func_sum(a, b): \n",
    "\tc=a+b\n",
    "\tprint(c)\n",
    "\treturn( ) \n",
    "\t\n",
    "print(\"1\") \n",
    "func_sum(3, 4) \n",
    "print(\"2\")\n",
    "\n",
    "#(1) 1,7,2\n",
    "#(2) 1,3,4,2\n",
    "#(3) 3,4,1,2\n",
    "#(4) 7,1,2"
   ]
  },
  {
   "cell_type": "code",
   "execution_count": 29,
   "metadata": {},
   "outputs": [
    {
     "name": "stdout",
     "output_type": "stream",
     "text": [
      "1\n"
     ]
    },
    {
     "ename": "TypeError",
     "evalue": "func_sum() missing 2 required positional arguments: 'a' and 'b'",
     "output_type": "error",
     "traceback": [
      "\u001b[1;31m---------------------------------------------------------------------------\u001b[0m",
      "\u001b[1;31mTypeError\u001b[0m                                 Traceback (most recent call last)",
      "Cell \u001b[1;32mIn[29], line 8\u001b[0m\n\u001b[0;32m      5\u001b[0m \t\u001b[38;5;28;01mreturn\u001b[39;00m( ) \n\u001b[0;32m      7\u001b[0m \u001b[38;5;28mprint\u001b[39m(\u001b[38;5;124m\"\u001b[39m\u001b[38;5;124m1\u001b[39m\u001b[38;5;124m\"\u001b[39m) \n\u001b[1;32m----> 8\u001b[0m \u001b[43mfunc_sum\u001b[49m\u001b[43m(\u001b[49m\u001b[43m \u001b[49m\u001b[43m)\u001b[49m \n\u001b[0;32m      9\u001b[0m \u001b[38;5;28mprint\u001b[39m(\u001b[38;5;124m\"\u001b[39m\u001b[38;5;124m2\u001b[39m\u001b[38;5;124m\"\u001b[39m)\n\u001b[0;32m     11\u001b[0m \u001b[38;5;66;03m#(1) 1,0,2\u001b[39;00m\n\u001b[0;32m     12\u001b[0m \u001b[38;5;66;03m#(2) 1,2\u001b[39;00m\n\u001b[0;32m     13\u001b[0m \u001b[38;5;66;03m#(3) 0,1,2\u001b[39;00m\n\u001b[0;32m     14\u001b[0m \u001b[38;5;66;03m#(4) 錯誤\u001b[39;00m\n",
      "\u001b[1;31mTypeError\u001b[0m: func_sum() missing 2 required positional arguments: 'a' and 'b'"
     ]
    }
   ],
   "source": [
    "# Question:請問執行後的結果哪一個是對的?(選擇題)\n",
    "def func_sum(a, b): \n",
    "\tc=a+b\n",
    "\tprint(c)\n",
    "\treturn( ) \n",
    "\t\n",
    "print(\"1\") \n",
    "func_sum( ) \n",
    "print(\"2\")\n",
    "\n",
    "#(1) 1,0,2\n",
    "#(2) 1,2\n",
    "#(3) 0,1,2\n",
    "#(4) 錯誤"
   ]
  },
  {
   "cell_type": "code",
   "execution_count": null,
   "metadata": {},
   "outputs": [],
   "source": [
    "### 自訂函數有接收有傳回"
   ]
  },
  {
   "cell_type": "code",
   "execution_count": 31,
   "metadata": {},
   "outputs": [
    {
     "data": {
      "text/plain": [
       "25"
      ]
     },
     "execution_count": 31,
     "metadata": {},
     "output_type": "execute_result"
    }
   ],
   "source": [
    "def func_sum(a, b):\n",
    "\tc = a + b\n",
    "\treturn(c)\n",
    "\t\n",
    "z = func_sum(10, 15)\n",
    "z"
   ]
  },
  {
   "cell_type": "code",
   "execution_count": 41,
   "metadata": {},
   "outputs": [
    {
     "name": "stdout",
     "output_type": "stream",
     "text": [
      "Wonderful!\n",
      "nice jobs ~ nice jobs\n",
      "I've never heard of the color blue.\n"
     ]
    }
   ],
   "source": [
    "\n",
    "def agree(): \n",
    "\treturn True \n",
    "\n",
    "if agree():\n",
    "\tprint('Wonderful!')\n",
    "else:\n",
    "\tprint('That was unexpected.')\n",
    "\n",
    "# Wonderful!\n",
    "\n",
    "def echo(anything):\n",
    "\treturn anything + ' ~ ' + anything \n",
    "#a=echo('nice jobs')\n",
    "#print(a)\n",
    "print(echo('nice jobs'))\n",
    "#'nice jobs ~ nice jobs'\n",
    "\n",
    "def commentary(color):\n",
    "\tif color == 'red':\n",
    "\t\treturn \"It's a tomato.\"\n",
    "\telif color == \"green\":\n",
    "\t\treturn \"It's a green pepper.\"\n",
    "\telif color == 'bee purple':\n",
    "\t\treturn \"I don't know what it is, but only bees can see it.\"\n",
    "\telse:\n",
    "\t\treturn \"I've never heard of the color \" + color + \".\"\n",
    "\n",
    "comment = commentary('blue')\n",
    "print(comment)\n",
    "# I've never heard of the color blue."
   ]
  },
  {
   "cell_type": "code",
   "execution_count": 43,
   "metadata": {},
   "outputs": [
    {
     "data": {
      "text/plain": [
       "'nice jobs ~ nice jobs'"
      ]
     },
     "execution_count": 43,
     "metadata": {},
     "output_type": "execute_result"
    }
   ],
   "source": [
    "def echo(anything):\n",
    "\treturn anything + ' ~ ' + anything \n",
    "\n",
    "echo('nice jobs')\n",
    "#print(echo('nice jobs'))"
   ]
  },
  {
   "cell_type": "code",
   "execution_count": 35,
   "metadata": {},
   "outputs": [
    {
     "name": "stdout",
     "output_type": "stream",
     "text": [
      "100\n"
     ]
    }
   ],
   "source": [
    "#操作範例:請動手操作，並留意輸出結果\n",
    "\n",
    "def fun_sum(a,b):\n",
    "    c=a+b\n",
    "    return(c)\n",
    "\n",
    "fun=fun_sum(45,55)\n",
    "print(fun)"
   ]
  },
  {
   "cell_type": "code",
   "execution_count": 37,
   "metadata": {},
   "outputs": [
    {
     "name": "stdout",
     "output_type": "stream",
     "text": [
      "100\n"
     ]
    }
   ],
   "source": [
    "def fun_sum(a,b):\n",
    "    c=a+b\n",
    "    return(c)\n",
    "\n",
    "print(fun_sum(45,55))"
   ]
  },
  {
   "cell_type": "code",
   "execution_count": 44,
   "metadata": {},
   "outputs": [
    {
     "name": "stdout",
     "output_type": "stream",
     "text": [
      "1\n",
      "2\n",
      "11\n"
     ]
    }
   ],
   "source": [
    "#請問執行後的結果哪一個是對的?(選擇題)\n",
    "def func_sum(a, b): \n",
    "\tc = a + b * 2 \n",
    "\treturn (c)\n",
    "\t\n",
    "print(\"1\")\n",
    "z = func_sum(3, 4) \n",
    "print(\"2\")\n",
    "print(z)\n",
    "\n",
    "\n",
    "#(1) 1,7,2\n",
    "#(2) 1,11,2\n",
    "#(3) 1,2,11\n",
    "#(4) 1,2,7"
   ]
  },
  {
   "cell_type": "markdown",
   "metadata": {},
   "source": [
    "#Name        : function2.py\n",
    "#輸入攝氏溫度，求華氏溫度\n",
    "#使用function\n",
    "#=============================\n",
    "\n",
    "攝氏10度轉華氏溫度=50\n",
    "#==========================\n",
    "請輸入攝氏溫度:19\n",
    "華氏溫度=66.2\n",
    "\n",
    "#==============================="
   ]
  },
  {
   "cell_type": "code",
   "execution_count": 53,
   "metadata": {},
   "outputs": [
    {
     "name": "stdout",
     "output_type": "stream",
     "text": [
      "華氏溫度 50 度   = 攝氏溫度 10 度\n"
     ]
    }
   ],
   "source": [
    "# Homework_1:輸入華氏溫度，求攝氏溫度\n",
    "def celsius (fah):\n",
    "    c_tmp=int((fah-32)*5/9)\n",
    "    return(c_tmp)\n",
    "\n",
    "#f_tmp=int(input('Please input Fah_temperature:'))\n",
    "#celsius(f_tmp)\n",
    "f_tmp=int(input('請輸入華氏溫度:'))\n",
    "print('華氏溫度',f_tmp,'度   = 攝氏溫度',celsius(f_tmp),'度')"
   ]
  },
  {
   "cell_type": "code",
   "execution_count": 60,
   "metadata": {},
   "outputs": [
    {
     "name": "stdout",
     "output_type": "stream",
     "text": [
      "攝氏溫度 19 度   = 華氏溫度 66.2 度\n"
     ]
    }
   ],
   "source": [
    "# Homework_2:輸入攝氏溫度，求華氏溫度\n",
    "def fahrenheit(cel):\n",
    "    f_tmp=(cel*9/5)+32\n",
    "    return(f_tmp)\n",
    "\n",
    "cel_tmp=int(input('請輸入攝氏溫度:'))\n",
    "print('攝氏溫度',cel_tmp,'度   = 華氏溫度',fahrenheit(cel_tmp),'度')"
   ]
  },
  {
   "cell_type": "code",
   "execution_count": 63,
   "metadata": {},
   "outputs": [
    {
     "name": "stdout",
     "output_type": "stream",
     "text": [
      "1=攝氏轉華氏  2=華氏轉攝氏\n"
     ]
    }
   ],
   "source": [
    "# Homework_3:溫度換算\n",
    "def celsius (fah):\n",
    "    c_tmp=int((fah-32)*5/9)\n",
    "    return(c_tmp)\n",
    "\n",
    "def fahrenheit(cel):\n",
    "    f_tmp=(cel*9/5)+32\n",
    "    return(f_tmp)\n",
    "\n",
    "tran_tmp=int(input('1=攝氏轉華氏  2=華氏轉攝氏'))\n",
    "if tran_tmp==1 :\n",
    "    f_tmp=int(input('請輸入華氏溫度:'))\n",
    "    print('華氏溫度',f_tmp,'度   = 攝氏溫度',celsius(f_tmp),'度')\n",
    "elif tran_tmp==2:\n",
    "    cel_tmp=int(input('請輸入攝氏溫度:'))\n",
    "    print('攝氏溫度',cel_tmp,'度   = 華氏溫度',fahrenheit(cel_tmp),'度')\n",
    "else:\n",
    "    print('請選擇 : 1=攝氏轉華氏  2=華氏轉攝氏')\n",
    "    \n",
    "\n"
   ]
  },
  {
   "cell_type": "markdown",
   "metadata": {},
   "source": [
    "# Homework:輸入華氏溫度，求攝氏溫度\n",
    "\n",
    "Name        : function3.py\n",
    "輸入攝氏溫度，求華氏溫度\n",
    "建立自訂的function\n",
    "while()\n",
    "\n",
    "=============================\n",
    "\n",
    "攝氏10度轉華氏溫度=50\n",
    "==========================\n",
    "請輸入攝氏溫度:20\n",
    "華氏溫度=68\n",
    "程式還要繼續嗎?(輸入N....結束):h\n",
    "請輸入攝氏溫度:40\n",
    "華氏溫度=104\n",
    "程式還要繼續嗎?(輸入N....結束):a\n",
    "請輸入攝氏溫度:10\n",
    "華氏溫度=50\n",
    "程式還要繼續嗎?(輸入N....結束):N\n",
    "程式結束\n",
    "\n",
    "===============================\n",
    "\n"
   ]
  },
  {
   "cell_type": "markdown",
   "metadata": {},
   "source": [
    "<參考>\n",
    "[1 分鐘搞懂 Python 迴圈控制：break、continue、pass]\n",
    "https://medium.com/@chiayinchen/1-%E5%88%86%E9%90%98%E6%90%9E%E6%87%82-python-%E8%BF%B4%E5%9C%88%E6%8E%A7%E5%88%B6-break-continue-pass-be290cd1f9d8\n",
    "\n",
    "[1 分鐘搞懂 Python 迴圈控制：break、continue、pass]\n",
    "https://steam.oxxostudio.tw/category/python/library/re.html\n",
    "\n",
    "[re --- 正規表示式 (regular expression) 操作]\n",
    "https://docs.python.org/zh-tw/3/library/re.html\n",
    "加號+代表前面的字元必須至少出現一次。（1次或多次）。\n",
    "問號?代表前面的字元最多只可以出現一次。（0次或1次）。\n",
    "星號*代表前面的字元可以不出現，也可以出現一次或者多次。\n",
    "字元 /  :將下一個字元標記為一個特殊字元"
   ]
  }
 ],
 "metadata": {
  "kernelspec": {
   "display_name": "yt.venv",
   "language": "python",
   "name": "python3"
  },
  "language_info": {
   "codemirror_mode": {
    "name": "ipython",
    "version": 3
   },
   "file_extension": ".py",
   "mimetype": "text/x-python",
   "name": "python",
   "nbconvert_exporter": "python",
   "pygments_lexer": "ipython3",
   "version": "3.10.8"
  }
 },
 "nbformat": 4,
 "nbformat_minor": 2
}
