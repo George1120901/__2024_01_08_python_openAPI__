{
 "cells": [
  {
   "cell_type": "markdown",
   "metadata": {},
   "source": [
    "# 函式和Comprehension"
   ]
  },
  {
   "cell_type": "markdown",
   "metadata": {},
   "source": [
    "### 函式和Comprehension\n",
    "1.自訂函數名稱與內容的安排:\n",
    "  函數區塊以 def 開始，後接函數名稱和括號 ( )\n",
    "  括號 ( ) 接上冒號後下一行縮排就是函數的內容\n",
    "2.不支援多個同名的自訂函數:\n",
    "  如果有同名的自訂函數則支援最後一個函數。\n",
    "3.若對函數操作有任何疑問:\n",
    "  可用 help(函數名稱) 取得說明文件。\n",
    "4.自訂函數接收資料:\n",
    "  傳入函數的參數放在 ( ) 內。\n",
    "  可以接收多個，以逗點隔開。\n",
    "  接收參數可以是變數，也可以是 list。\n",
    "  函數若設定接收參數，呼叫函數時一定要給參數。\n",
    "  接收參數可設定為不固定數量。\n",
    "  若不接收則為空白。\n",
    "5.自訂函數傳回資料:\n",
    "  若要傳回資料，則請於函數最後一行執行 return()語法\n",
    "  return( ) 可以傳回一個運算式或者資料\n",
    "  函數結束時不一定要傳回資料\n",
    "  不傳回資料方式:\n",
    "    ＃ return( ) 內沒有資料\n",
    "    ＃ 省略 return( )\n",
    "    ＃ 寫成 return"
   ]
  },
  {
   "cell_type": "code",
   "execution_count": null,
   "metadata": {},
   "outputs": [],
   "source": [
    "### 自訂函數沒有參數也沒有傳回值"
   ]
  },
  {
   "cell_type": "code",
   "execution_count": 3,
   "metadata": {},
   "outputs": [
    {
     "name": "stdout",
     "output_type": "stream",
     "text": [
      "呼叫函式\n"
     ]
    },
    {
     "data": {
      "text/plain": [
       "()"
      ]
     },
     "execution_count": 3,
     "metadata": {},
     "output_type": "execute_result"
    }
   ],
   "source": [
    "def func_sum():\n",
    "\tprint(\"呼叫函式\")\n",
    "\treturn()\n",
    "\n",
    "func_sum()"
   ]
  }
 ],
 "metadata": {
  "kernelspec": {
   "display_name": "yt.venv",
   "language": "python",
   "name": "python3"
  },
  "language_info": {
   "codemirror_mode": {
    "name": "ipython",
    "version": 3
   },
   "file_extension": ".py",
   "mimetype": "text/x-python",
   "name": "python",
   "nbconvert_exporter": "python",
   "pygments_lexer": "ipython3",
   "version": "3.10.8"
  }
 },
 "nbformat": 4,
 "nbformat_minor": 2
}
