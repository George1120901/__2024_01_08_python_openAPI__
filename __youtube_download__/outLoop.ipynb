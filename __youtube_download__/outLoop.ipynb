{
 "cells": [
  {
   "cell_type": "markdown",
   "metadata": {},
   "source": [
    "### <參考>\n",
    "### [1 分鐘搞懂 Python 迴圈控制：break、continue、pass]\n",
    "https://medium.com/@chiayinchen/1-分鐘搞懂-python-迴圈控制-break-continue-pass-be290cd1f9d8\n",
    "\n",
    "<regularExpression>https://steam.oxxostudio.tw/category/python/library/re.html\n",
    "加號+代表前面的字元必須至少出現一次。（1次或多次）。\n",
    "問號?代表前面的字元最多只可以出現一次。（0次或1次）。\n",
    "星號*代表前面的字元可以不出現，也可以出現一次或者多次。\n",
    "字元 /  :將下一個字元標記為一個特殊字元"
   ]
  },
  {
   "cell_type": "markdown",
   "metadata": {},
   "source": [
    "先來簡單敘述一下 Python 中 break、continue、pass 的區別：\n",
    "break：強制跳出 ❮整個❯ 迴圈\n",
    "\n",
    "continue：強制跳出 ❮本次❯ 迴圈，繼續進入下一圈\n",
    "\n",
    "pass：不做任何事情，所有的程式都將繼續"
   ]
  },
  {
   "cell_type": "markdown",
   "metadata": {},
   "source": []
  },
  {
   "cell_type": "markdown",
   "metadata": {},
   "source": [
    " Note：\n",
    " 利用 break 告訴迴圈當 email 字串中包含 email_out 列表 (List) 中的關鍵字時，要強制結束迴圈。"
   ]
  },
  {
   "cell_type": "code",
   "execution_count": 1,
   "metadata": {},
   "outputs": [
    {
     "name": "stdout",
     "output_type": "stream",
     "text": [
      "carol@gmail.com 為個人信箱\n",
      "Support@gmail.com 中包含 support 關鍵字，因此判斷為官方信箱\n"
     ]
    }
   ],
   "source": [
    "import re\n",
    "# 定義函數\n",
    "def detect_email(email):\n",
    "    email_out = ['hello','contact','sales','support','business','info']\n",
    "    for e_out in email_out:\n",
    "        pattern = re.compile('.*' + e_out + '.*')\n",
    "        r = re.match(pattern, email.lower())\n",
    "        if r is not None:\n",
    "            print('{} 中包含 {} 關鍵字，因此判斷為官方信箱'.format(email, e_out))\n",
    "            break\n",
    "    else:\n",
    "        print('{} 為個人信箱'.format(email))\n",
    "        \n",
    "# 呼叫函數\n",
    "detect_email('carol@gmail.com')\n",
    "detect_email('Support@gmail.com')"
   ]
  },
  {
   "cell_type": "markdown",
   "metadata": {},
   "source": [
    "### <參考>  pythonFormat.ipynb\n",
    "#### [探討]\n",
    "#### print('{} 中包含 {} 關鍵字，因此判斷為官方信箱'.format(email, e_out))"
   ]
  },
  {
   "cell_type": "markdown",
   "metadata": {},
   "source": [
    "### <參考> \n",
    "### Python 初學第四講 — 迴圈_幫我們一次解決重複的事\n",
    "#### https://medium.com/ccclub/ccclub-python-for-beginners-tutorial-4990a5757aa6\n",
    "\n",
    "<pass>"
   ]
  },
  {
   "cell_type": "markdown",
   "metadata": {},
   "source": [
    "## for-loop"
   ]
  },
  {
   "cell_type": "markdown",
   "metadata": {},
   "source": [
    "### 1.單層 for-loop\n",
    "1.單層 for-loop\n",
    "for 和 in 是 Python 的關鍵字，這兩個關鍵字之間會放我們自訂的變數，而 in的後面則可接一個序列 (Sequence)，迴圈會依序從序列 (例如: 一連串清單資料，一組數字或一個名單) 裡取得元素，並將元素指派給前面自訂的變數，然後執行迴圈裡的內容：\n",
    "                                                                             \n",
    "for x in sequence:\n",
    "(*. sequence放要執行的東西)\n",
    "\n",
    "list 使用中括號 [] 將數字、文字等元素包起來。\n",
    "例如，使用 [1, 2, 3, 4, 5]這樣的語法即可建立內含1、2、3、4、5 共 5 個元素的 list。下面是一個使用 for-loop 將 list 中的序列性資料逐一列印出來的例子：\n",
    "\n",
    "(*. 串列 (list) 裡的元素並不限於數字，也可以是文字或物件。)"
   ]
  },
  {
   "cell_type": "code",
   "execution_count": 1,
   "metadata": {},
   "outputs": [
    {
     "name": "stdout",
     "output_type": "stream",
     "text": [
      "0\n",
      "1\n",
      "2\n",
      "3\n",
      "4\n",
      "5\n"
     ]
    }
   ],
   "source": [
    "sequences = [0, 1, 2, 3, 4, 5]\n",
    "for i in sequences:\n",
    "    print(i)"
   ]
  },
  {
   "cell_type": "code",
   "execution_count": null,
   "metadata": {},
   "outputs": [],
   "source": [
    "串列 (list) 裡的元素並不限於數字，也可以是文字或物件。\n",
    "\n",
    "在下例中，list 便是由文字構成的。\n",
    "\n",
    "程式中用到的 len()是 Python 的內建函式，其作用是傳回 list 的長度；\n",
    "而 workTeams[i]這樣的語法，則是指利用索引運算子 []來取得串列中索引為 i 的元素："
   ]
  },
  {
   "cell_type": "code",
   "execution_count": 9,
   "metadata": {},
   "outputs": [
    {
     "name": "stdout",
     "output_type": "stream",
     "text": [
      "John Lennon\n",
      "Paul McCartney\n",
      "Ringo Starr\n",
      "George Harrison\n",
      "<class 'list'>\n",
      "<class 'int'>\n",
      "<class 'range'>\n"
     ]
    }
   ],
   "source": [
    "workTeams = ['John Lennon', 'Paul McCartney', 'Ringo Starr', 'George Harrison']\n",
    "for i in range(len(workTeams)):\n",
    "    print(workTeams[i])\n",
    "\n",
    "print(type(workTeams))\n",
    "print(type(len(workTeams)))\n",
    "print(type(range(len(workTeams))))"
   ]
  },
  {
   "cell_type": "code",
   "execution_count": 10,
   "metadata": {},
   "outputs": [
    {
     "name": "stdout",
     "output_type": "stream",
     "text": [
      "John Lennon\n",
      "Paul McCartney\n",
      "Ringo Starr\n",
      "George Harrison\n"
     ]
    }
   ],
   "source": [
    "#也可以完全不用到 len()函式和索引運算子，程式反而顯得更為簡潔而且容易閱讀：\n",
    "\n",
    "workTeams = ['John Lennon', 'Paul McCartney', 'Ringo Starr', 'George Harrison']\n",
    "for i in workTeams:\n",
    "    print(i)"
   ]
  },
  {
   "cell_type": "markdown",
   "metadata": {},
   "source": [
    "#### Python 的 for-loop 語法有三個需要注意的重點：初始值、終止值，以及每次執行迴圈後控制變數遞增或是遞減的變化。\n",
    "\n",
    "Python 程式語言中，range()函式可以很有效率地協助我們創建一個整數序列，用法為 (起始值, 終止值, 遞增(減)值)，例如：\n",
    "\n",
    "range(10)：產生從0到9的整數序列。\n",
    "\n",
    "range(1, 11)：產生從1到10的整數序列(未指定遞增值的情況下，其遞增值預設為1)。\n",
    "\n",
    "range(0, 10, 2)：產生從0, 2, 4, 6, 8的整數序列(遞增值為2)。\n",
    "\n",
    "簡單來說，for迴圈以固定數量的變數作為控制條件的依據，而利用range() 函式，可以很方便的建立出一個整數序列，讓程式依照序列裡的數值來執行迴圈裡的內容："
   ]
  },
  {
   "cell_type": "code",
   "execution_count": 14,
   "metadata": {},
   "outputs": [
    {
     "name": "stdout",
     "output_type": "stream",
     "text": [
      "0 1 2 3 4 5 6 7 8 9 \n",
      "20, 18, 16, 14, 12, 10, 8, 6, 4, "
     ]
    }
   ],
   "source": [
    "for i in range(10):\n",
    "    print(i, end=\" \") # end=\" \" : 不換行 & 留白 or end=\", \" :逗號間隔\n",
    "    \n",
    "print() #換行\n",
    "for i in range(20, 2, -2):\n",
    "    print(i, end=\", \")"
   ]
  },
  {
   "cell_type": "markdown",
   "metadata": {},
   "source": [
    "### 巢狀for-loop\n",
    "2. 巢狀for-loop\n",
    "\n",
    "巢狀迴圈的特性是在迴圈裡面又包覆著其他的迴圈。\n",
    "\n",
    "從外層迴圈來看，內層迴圈只是外層迴圈內所要執行的一段程式敘述而已；因此外層迴圈每動作一次，內層迴圈就會把整個迴圈執行一遍，執行完畢後才跳回到外層迴圈準備下一次的動作。\n",
    "\n",
    "前面所提到的單層 for-loop 適用於單一控制變數的反覆計算，這個控制變數的意義可以是迴圈執行的次數或是任意連續變化的物理量。\n",
    "\n",
    "如果今天我們所要處理的問題具有重複執行某段敘述的特性，而且這些敘述受到兩個 (或兩個以上) 的變數來分別控制其變化，此時使用巢狀迴圈的技巧來撰寫功能需求會是最適合的方式。\n",
    "\n",
    "九九乘法的資料共有九列九行資料，其呈現的樣子為為二維平面空間，所以這是一個使用兩層巢狀迴圈結構來撰寫的良好案例：\n",
    "\n",
    "「\\t」是指製表符，代表著四個空格，也就是一個tab；它的作用是對齊表格資料的各列，可以在不使用表格的情況下，將資料上下對齊"
   ]
  },
  {
   "cell_type": "code",
   "execution_count": 15,
   "metadata": {},
   "outputs": [
    {
     "name": "stdout",
     "output_type": "stream",
     "text": [
      "\t 1\t 2\t 3\t 4\t 5\t 6\t 7\t 8\t 9\n",
      "\t 2\t 4\t 6\t 8\t 10\t 12\t 14\t 16\t 18\n",
      "\t 3\t 6\t 9\t 12\t 15\t 18\t 21\t 24\t 27\n",
      "\t 4\t 8\t 12\t 16\t 20\t 24\t 28\t 32\t 36\n",
      "\t 5\t 10\t 15\t 20\t 25\t 30\t 35\t 40\t 45\n",
      "\t 6\t 12\t 18\t 24\t 30\t 36\t 42\t 48\t 54\n",
      "\t 7\t 14\t 21\t 28\t 35\t 42\t 49\t 56\t 63\n",
      "\t 8\t 16\t 24\t 32\t 40\t 48\t 56\t 64\t 72\n",
      "\t 9\t 18\t 27\t 36\t 45\t 54\t 63\t 72\t 81\n"
     ]
    }
   ],
   "source": [
    "for i in range(1, 10):\n",
    "    for j in range(1, 10):\n",
    "        if j == 9:\n",
    "            print(\"\\t\", i*j) # j == 9時，換行\n",
    "        else:\n",
    "            print(\"\\t\", i*j, end = '') # j < 9時，不換行"
   ]
  },
  {
   "cell_type": "code",
   "execution_count": 17,
   "metadata": {},
   "outputs": [
    {
     "name": "stdout",
     "output_type": "stream",
     "text": [
      "\t 1 * 1 = 1\t 1 * 2 = 2\t 1 * 3 = 3\t 1 * 4 = 4\t 1 * 5 = 5\t 1 * 6 = 6\t 1 * 7 = 7\t 1 * 8 = 8\t 1 * 9 = 9\n",
      "\t 2 * 1 = 2\t 2 * 2 = 4\t 2 * 3 = 6\t 2 * 4 = 8\t 2 * 5 = 10\t 2 * 6 = 12\t 2 * 7 = 14\t 2 * 8 = 16\t 2 * 9 = 18\n",
      "\t 3 * 1 = 3\t 3 * 2 = 6\t 3 * 3 = 9\t 3 * 4 = 12\t 3 * 5 = 15\t 3 * 6 = 18\t 3 * 7 = 21\t 3 * 8 = 24\t 3 * 9 = 27\n",
      "\t 4 * 1 = 4\t 4 * 2 = 8\t 4 * 3 = 12\t 4 * 4 = 16\t 4 * 5 = 20\t 4 * 6 = 24\t 4 * 7 = 28\t 4 * 8 = 32\t 4 * 9 = 36\n",
      "\t 5 * 1 = 5\t 5 * 2 = 10\t 5 * 3 = 15\t 5 * 4 = 20\t 5 * 5 = 25\t 5 * 6 = 30\t 5 * 7 = 35\t 5 * 8 = 40\t 5 * 9 = 45\n",
      "\t 6 * 1 = 6\t 6 * 2 = 12\t 6 * 3 = 18\t 6 * 4 = 24\t 6 * 5 = 30\t 6 * 6 = 36\t 6 * 7 = 42\t 6 * 8 = 48\t 6 * 9 = 54\n",
      "\t 7 * 1 = 7\t 7 * 2 = 14\t 7 * 3 = 21\t 7 * 4 = 28\t 7 * 5 = 35\t 7 * 6 = 42\t 7 * 7 = 49\t 7 * 8 = 56\t 7 * 9 = 63\n",
      "\t 8 * 1 = 8\t 8 * 2 = 16\t 8 * 3 = 24\t 8 * 4 = 32\t 8 * 5 = 40\t 8 * 6 = 48\t 8 * 7 = 56\t 8 * 8 = 64\t 8 * 9 = 72\n",
      "\t 9 * 1 = 9\t 9 * 2 = 18\t 9 * 3 = 27\t 9 * 4 = 36\t 9 * 5 = 45\t 9 * 6 = 54\t 9 * 7 = 63\t 9 * 8 = 72\t 9 * 9 = 81\n"
     ]
    }
   ],
   "source": [
    "for i in range(1, 10):\n",
    "    for j in range(1, 10):\n",
    "        if j == 9:\n",
    "            print(\"\\t\", f\"{i} * {j} = {i*j}\") # j == 9時，換行\n",
    "        else:\n",
    "            print(\"\\t\", f\"{i} * {j} = {i*j}\", end = '') # j < 9時，不換行"
   ]
  },
  {
   "cell_type": "code",
   "execution_count": 20,
   "metadata": {},
   "outputs": [
    {
     "name": "stdout",
     "output_type": "stream",
     "text": [
      "\t 1 * 1 = 1\t 2 * 1 = 2\t 3 * 1 = 3\t 4 * 1 = 4\t 5 * 1 = 5\t 6 * 1 = 6\t 7 * 1 = 7\t 8 * 1 = 8\t 9 * 1 = 9\n",
      "\t 1 * 2 = 2\t 2 * 2 = 4\t 3 * 2 = 6\t 4 * 2 = 8\t 5 * 2 = 10\t 6 * 2 = 12\t 7 * 2 = 14\t 8 * 2 = 16\t 9 * 2 = 18\n",
      "\t 1 * 3 = 3\t 2 * 3 = 6\t 3 * 3 = 9\t 4 * 3 = 12\t 5 * 3 = 15\t 6 * 3 = 18\t 7 * 3 = 21\t 8 * 3 = 24\t 9 * 3 = 27\n",
      "\t 1 * 4 = 4\t 2 * 4 = 8\t 3 * 4 = 12\t 4 * 4 = 16\t 5 * 4 = 20\t 6 * 4 = 24\t 7 * 4 = 28\t 8 * 4 = 32\t 9 * 4 = 36\n",
      "\t 1 * 5 = 5\t 2 * 5 = 10\t 3 * 5 = 15\t 4 * 5 = 20\t 5 * 5 = 25\t 6 * 5 = 30\t 7 * 5 = 35\t 8 * 5 = 40\t 9 * 5 = 45\n",
      "\t 1 * 6 = 6\t 2 * 6 = 12\t 3 * 6 = 18\t 4 * 6 = 24\t 5 * 6 = 30\t 6 * 6 = 36\t 7 * 6 = 42\t 8 * 6 = 48\t 9 * 6 = 54\n",
      "\t 1 * 7 = 7\t 2 * 7 = 14\t 3 * 7 = 21\t 4 * 7 = 28\t 5 * 7 = 35\t 6 * 7 = 42\t 7 * 7 = 49\t 8 * 7 = 56\t 9 * 7 = 63\n",
      "\t 1 * 8 = 8\t 2 * 8 = 16\t 3 * 8 = 24\t 4 * 8 = 32\t 5 * 8 = 40\t 6 * 8 = 48\t 7 * 8 = 56\t 8 * 8 = 64\t 9 * 8 = 72\n",
      "\t 1 * 9 = 9\t 2 * 9 = 18\t 3 * 9 = 27\t 4 * 9 = 36\t 5 * 9 = 45\t 6 * 9 = 54\t 7 * 9 = 63\t 8 * 9 = 72\t 9 * 9 = 81\n"
     ]
    }
   ],
   "source": [
    "for i in range(1, 10):\n",
    "    for j in range(1, 10):\n",
    "        print(\"\\t\", f\"{j} * {i} = {i*j}\",end=\"\") \n",
    "        if j == 9:\n",
    "           print()"
   ]
  }
 ],
 "metadata": {
  "kernelspec": {
   "display_name": "yt.venv",
   "language": "python",
   "name": "python3"
  },
  "language_info": {
   "codemirror_mode": {
    "name": "ipython",
    "version": 3
   },
   "file_extension": ".py",
   "mimetype": "text/x-python",
   "name": "python",
   "nbconvert_exporter": "python",
   "pygments_lexer": "ipython3",
   "version": "3.10.8"
  }
 },
 "nbformat": 4,
 "nbformat_minor": 2
}
