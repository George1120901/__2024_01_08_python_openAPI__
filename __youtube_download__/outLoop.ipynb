{
 "cells": [
  {
   "cell_type": "markdown",
   "metadata": {},
   "source": [
    "### <參考>\n",
    "### [1 分鐘搞懂 Python 迴圈控制：break、continue、pass]\n",
    "https://medium.com/@chiayinchen/1-分鐘搞懂-python-迴圈控制-break-continue-pass-be290cd1f9d8\n",
    "\n",
    "<regularExpression>https://steam.oxxostudio.tw/category/python/library/re.html\n",
    "加號+代表前面的字元必須至少出現一次。（1次或多次）。\n",
    "問號?代表前面的字元最多只可以出現一次。（0次或1次）。\n",
    "星號*代表前面的字元可以不出現，也可以出現一次或者多次。\n",
    "字元 /  :將下一個字元標記為一個特殊字元"
   ]
  },
  {
   "cell_type": "markdown",
   "metadata": {},
   "source": [
    "先來簡單敘述一下 Python 中 break、continue、pass 的區別：\n",
    "break：強制跳出 ❮整個❯ 迴圈\n",
    "\n",
    "continue：強制跳出 ❮本次❯ 迴圈，繼續進入下一圈\n",
    "\n",
    "pass：不做任何事情，所有的程式都將繼續"
   ]
  },
  {
   "cell_type": "markdown",
   "metadata": {},
   "source": []
  },
  {
   "cell_type": "markdown",
   "metadata": {},
   "source": [
    " Note：\n",
    " 利用 break 告訴迴圈當 email 字串中包含 email_out 列表 (List) 中的關鍵字時，要強制結束迴圈。"
   ]
  },
  {
   "cell_type": "code",
   "execution_count": 1,
   "metadata": {},
   "outputs": [
    {
     "name": "stdout",
     "output_type": "stream",
     "text": [
      "carol@gmail.com 為個人信箱\n",
      "Support@gmail.com 中包含 support 關鍵字，因此判斷為官方信箱\n"
     ]
    }
   ],
   "source": [
    "import re\n",
    "# 定義函數\n",
    "def detect_email(email):\n",
    "    email_out = ['hello','contact','sales','support','business','info']\n",
    "    for e_out in email_out:\n",
    "        pattern = re.compile('.*' + e_out + '.*')\n",
    "        r = re.match(pattern, email.lower())\n",
    "        if r is not None:\n",
    "            print('{} 中包含 {} 關鍵字，因此判斷為官方信箱'.format(email, e_out))\n",
    "            break\n",
    "    else:\n",
    "        print('{} 為個人信箱'.format(email))\n",
    "        \n",
    "# 呼叫函數\n",
    "detect_email('carol@gmail.com')\n",
    "detect_email('Support@gmail.com')"
   ]
  },
  {
   "cell_type": "markdown",
   "metadata": {},
   "source": [
    "### <參考>  pythonFormat.ipynb\n",
    "#### [探討]\n",
    "#### print('{} 中包含 {} 關鍵字，因此判斷為官方信箱'.format(email, e_out))"
   ]
  },
  {
   "cell_type": "markdown",
   "metadata": {},
   "source": [
    "### <參考> \n",
    "### Python 初學第四講 — 迴圈_幫我們一次解決重複的事\n",
    "#### https://medium.com/ccclub/ccclub-python-for-beginners-tutorial-4990a5757aa6\n",
    "\n",
    "<pass>"
   ]
  },
  {
   "cell_type": "markdown",
   "metadata": {},
   "source": [
    "## for-loop"
   ]
  },
  {
   "cell_type": "markdown",
   "metadata": {},
   "source": [
    "### 1.單層 for-loop\n",
    "1.單層 for-loop\n",
    "for 和 in 是 Python 的關鍵字，這兩個關鍵字之間會放我們自訂的變數，而 in的後面則可接一個序列 (Sequence)，迴圈會依序從序列 (例如: 一連串清單資料，一組數字或一個名單) 裡取得元素，並將元素指派給前面自訂的變數，然後執行迴圈裡的內容：\n",
    "                                                                             \n",
    "for x in sequence:\n",
    "(*. sequence放要執行的東西)\n",
    "\n",
    "list 使用中括號 [] 將數字、文字等元素包起來。\n",
    "例如，使用 [1, 2, 3, 4, 5]這樣的語法即可建立內含1、2、3、4、5 共 5 個元素的 list。下面是一個使用 for-loop 將 list 中的序列性資料逐一列印出來的例子："
   ]
  },
  {
   "cell_type": "code",
   "execution_count": 1,
   "metadata": {},
   "outputs": [
    {
     "name": "stdout",
     "output_type": "stream",
     "text": [
      "0\n",
      "1\n",
      "2\n",
      "3\n",
      "4\n",
      "5\n"
     ]
    }
   ],
   "source": [
    "sequences = [0, 1, 2, 3, 4, 5]\n",
    "for i in sequences:\n",
    "    print(i)"
   ]
  }
 ],
 "metadata": {
  "kernelspec": {
   "display_name": "yt.venv",
   "language": "python",
   "name": "python3"
  },
  "language_info": {
   "codemirror_mode": {
    "name": "ipython",
    "version": 3
   },
   "file_extension": ".py",
   "mimetype": "text/x-python",
   "name": "python",
   "nbconvert_exporter": "python",
   "pygments_lexer": "ipython3",
   "version": "3.10.8"
  }
 },
 "nbformat": 4,
 "nbformat_minor": 2
}
