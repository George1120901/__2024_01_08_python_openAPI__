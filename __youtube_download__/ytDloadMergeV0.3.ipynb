{
 "cells": [
  {
   "cell_type": "markdown",
   "metadata": {},
   "source": [
    "### 下載Youtube影片\n",
    "Pytube：Youtube影片下載"
   ]
  },
  {
   "cell_type": "code",
   "execution_count": 1,
   "metadata": {},
   "outputs": [
    {
     "name": "stdout",
     "output_type": "stream",
     "text": [
      "2023_11_20_下午\n",
      "11420\n",
      "徐國堂\n",
      "https://www.youtube.com/channel/UCKd_tuM8M79b1GAwAlTi9ZA\n",
      "https://i.ytimg.com/vi/CFoPy2Q7IwQ/hq720.jpg?sqp=-oaymwEmCIAKENAF8quKqQMa8AEB-AH-CYAC0AWKAgwIABABGFsgWShlMA8=&rs=AOn4CLD53b04ee4b5MTK5nrQ04GgKBdJTA\n",
      "45\n",
      "[<Stream: itag=\"18\" mime_type=\"video/mp4\" res=\"360p\" fps=\"30fps\" vcodec=\"avc1.42001E\" acodec=\"mp4a.40.2\" progressive=\"True\" type=\"video\">, <Stream: itag=\"22\" mime_type=\"video/mp4\" res=\"720p\" fps=\"30fps\" vcodec=\"avc1.64001F\" acodec=\"mp4a.40.2\" progressive=\"True\" type=\"video\">, <Stream: itag=\"137\" mime_type=\"video/mp4\" res=\"1080p\" fps=\"30fps\" vcodec=\"avc1.640028\" progressive=\"False\" type=\"video\">, <Stream: itag=\"136\" mime_type=\"video/mp4\" res=\"720p\" fps=\"30fps\" vcodec=\"avc1.64001f\" progressive=\"False\" type=\"video\">, <Stream: itag=\"134\" mime_type=\"video/mp4\" res=\"360p\" fps=\"30fps\" vcodec=\"avc1.4d401e\" progressive=\"False\" type=\"video\">, <Stream: itag=\"160\" mime_type=\"video/mp4\" res=\"144p\" fps=\"30fps\" vcodec=\"avc1.4d400c\" progressive=\"False\" type=\"video\">, <Stream: itag=\"139\" mime_type=\"audio/mp4\" abr=\"48kbps\" acodec=\"mp4a.40.5\" progressive=\"False\" type=\"audio\">, <Stream: itag=\"140\" mime_type=\"audio/mp4\" abr=\"128kbps\" acodec=\"mp4a.40.2\" progressive=\"False\" type=\"audio\">, <Stream: itag=\"251\" mime_type=\"audio/webm\" abr=\"160kbps\" acodec=\"opus\" progressive=\"False\" type=\"audio\">]\n",
      "9\n",
      "<Stream: itag=\"18\" mime_type=\"video/mp4\" res=\"360p\" fps=\"30fps\" vcodec=\"avc1.42001E\" acodec=\"mp4a.40.2\" progressive=\"True\" type=\"video\">\n",
      "<Stream: itag=\"22\" mime_type=\"video/mp4\" res=\"720p\" fps=\"30fps\" vcodec=\"avc1.64001F\" acodec=\"mp4a.40.2\" progressive=\"True\" type=\"video\">\n",
      "<Stream: itag=\"137\" mime_type=\"video/mp4\" res=\"1080p\" fps=\"30fps\" vcodec=\"avc1.640028\" progressive=\"False\" type=\"video\">\n",
      "<Stream: itag=\"136\" mime_type=\"video/mp4\" res=\"720p\" fps=\"30fps\" vcodec=\"avc1.64001f\" progressive=\"False\" type=\"video\">\n",
      "<Stream: itag=\"134\" mime_type=\"video/mp4\" res=\"360p\" fps=\"30fps\" vcodec=\"avc1.4d401e\" progressive=\"False\" type=\"video\">\n",
      "<Stream: itag=\"160\" mime_type=\"video/mp4\" res=\"144p\" fps=\"30fps\" vcodec=\"avc1.4d400c\" progressive=\"False\" type=\"video\">\n",
      "<Stream: itag=\"139\" mime_type=\"audio/mp4\" abr=\"48kbps\" acodec=\"mp4a.40.5\" progressive=\"False\" type=\"audio\">\n",
      "<Stream: itag=\"140\" mime_type=\"audio/mp4\" abr=\"128kbps\" acodec=\"mp4a.40.2\" progressive=\"False\" type=\"audio\">\n",
      "<Stream: itag=\"251\" mime_type=\"audio/webm\" abr=\"160kbps\" acodec=\"opus\" progressive=\"False\" type=\"audio\">\n"
     ]
    }
   ],
   "source": [
    "# 使用模組\n",
    "from pytube import YouTube\n",
    "\n",
    "url='https://youtube.com/live/CFoPy2Q7IwQ'\n",
    "yt = YouTube(url)  # # 2023_11_20_下午\n",
    "\n",
    "# 影片格式分析\n",
    "print(yt.title)           # 影片標題\n",
    "print(yt.length)          # 影片長度 ( 秒 )\n",
    "print(yt.author)          # 影片作者\n",
    "print(yt.channel_url)     # 影片作者頻道網址\n",
    "print(yt.thumbnail_url)   # 影片縮圖網址\n",
    "print(yt.views)           # 影片觀看數\n",
    "\n",
    "# 分析\n",
    "print(yt.streams)  # 影片支援哪些畫質\n",
    "# print(yt.streams.all())  # all()-->useless\n",
    "print(len(yt.streams))\n",
    "\n",
    "for st in yt.streams:\n",
    "  print(st)\n"
   ]
  },
  {
   "cell_type": "code",
   "execution_count": 2,
   "metadata": {},
   "outputs": [
    {
     "name": "stdout",
     "output_type": "stream",
     "text": [
      "python_2023_11_20_下午_itag(140)完成\n",
      "python_2023_11_20_下午_itag(137)完成\n",
      "downdload完成\n"
     ]
    }
   ],
   "source": [
    "# 用itag分別下載聲音&影像  _ ok\n",
    "## audio(itag=140) 音訊取樣率44KHz\n",
    "## vedio(itag=137) 為1080p\n",
    "## 使用 yt.title 為檔名\n",
    "from pytube import YouTube\n",
    "\n",
    "#yt = YouTube('https://youtube.com/live/z7OxK07nlFk')   # Ex.2023_11_22_下午\n",
    "yt = YouTube(url) \n",
    "\n",
    "yt_title=yt.title\n",
    "itag_Audio = 140\n",
    "itag_Vedio = 137\n",
    "itag_List = [itag_Audio,itag_Vedio]\n",
    "for i in itag_List:\n",
    "    stream = yt.streams.get_by_itag(i)\n",
    "    stream.download(output_path='C:/Users/Lu/Documents/youtube',filename=f'python_{yt_title}_itag({i}).mp4', skip_existing=True, max_retries=0)\n",
    "    print(f'python_{yt_title}_itag({i})完成')\n",
    "print('downdload完成')"
   ]
  },
  {
   "cell_type": "code",
   "execution_count": 13,
   "metadata": {},
   "outputs": [
    {
     "name": "stdout",
     "output_type": "stream",
     "text": [
      "執行命令: ffmpeg -i C:/Users/Lu/Documents/youtube/python_2023_11_20_下午_itag(137).mp4 -i C:/Users/Lu/Documents/youtube/python_2023_11_20_下午_itag(140).mp4 -c copy -map 0:v -map 1:a C:/Users/Lu/Documents/youtube/python_2023_11_20_下午_itag(merge).mp4\n",
      "合併成功！輸出文件位於: C:/Users/Lu/Documents/youtube/python_2023_11_20_下午_itag(merge).mp4\n"
     ]
    }
   ],
   "source": [
    "#  可成功完成 vedio+audio 之 merage((基本式樣)+(ubprocess.TimeoutExpired檢查)+(增加執行內容信息))\n",
    "## 採用案 -- ok\n",
    "import subprocess\n",
    "\n",
    "def merge_video_and_audio(video_path, audio_path, output_path):\n",
    "    command = [\n",
    "        'ffmpeg',\n",
    "        '-i', video_path,\n",
    "        '-i', audio_path,\n",
    "        '-c', 'copy',\n",
    "        '-map', '0:v',\n",
    "        '-map', '1:a',\n",
    "        output_path\n",
    "    ]\n",
    "    \n",
    "    try:\n",
    "        print(\"執行命令:\", ' '.join(command))  # 增加執行內容信息\n",
    "        result = subprocess.run(command, check=True, stdout=subprocess.PIPE, stderr=subprocess.PIPE, text=True, encoding='utf-8',timeout=60)\n",
    "        # 增加timeout=60之subprocess.TimeoutExpired檢查\n",
    "        print(\"合併成功！輸出文件位於:\", output_path)\n",
    "    except subprocess.CalledProcessError as e:\n",
    "        print(\"ffmpeg合併過程中發生錯誤:\", e)\n",
    "        if e.stderr:\n",
    "            print(\"ffmpeg命令輸出:\", e.stderr)\n",
    "        else:\n",
    "            print(\"無法獲取 ffmpeg 錯誤輸出。\")\n",
    "    except subprocess.TimeoutExpired as e:\n",
    "        print(\"命令執行超時:\", e)\n",
    "\n",
    "merge_video_and_audio(f'C:/Users/Lu/Documents/youtube/python_{yt_title}_itag({itag_Vedio}).mp4', f'C:/Users/Lu/Documents/youtube/python_{yt_title}_itag({itag_Audio}).mp4', f'C:/Users/Lu/Documents/youtube/python_{yt_title}_itag(merge).mp4')"
   ]
  },
  {
   "cell_type": "code",
   "execution_count": 8,
   "metadata": {},
   "outputs": [
    {
     "name": "stdout",
     "output_type": "stream",
     "text": [
      "影像&音訊檔案刪除成功,合併完成！\n"
     ]
    }
   ],
   "source": [
    "import os\n",
    "\n",
    "os.remove(f'C:/Users/Lu/Documents/youtube/python_{yt_title}_itag({itag_Vedio}).mp4')\n",
    "os.remove(f'C:/Users/Lu/Documents/youtube/python_{yt_title}_itag({itag_Audio}).mp4')\n",
    "print('影像&音訊檔案刪除成功,合併完成！')"
   ]
  },
  {
   "cell_type": "markdown",
   "metadata": {},
   "source": [
    "+++++++++++++++++++++++++++++++++++++++++++++++++++++++++++++++++++++++++++++++\n",
    "###  可成功完成 vedio+audio 之 merage\n",
    "##### ((基本式樣)+(ubprocess.TimeoutExpired檢查)+(增加執行內容信息))\n",
    "##### + 如果嘗試用 UTF-8 解碼失敗，使用 CP950 解碼\n",
    "\n",
    "#### 備用案 -- ok"
   ]
  },
  {
   "cell_type": "code",
   "execution_count": 10,
   "metadata": {},
   "outputs": [
    {
     "name": "stdout",
     "output_type": "stream",
     "text": [
      "執行命令: ffmpeg -i C:/Users/Lu/Documents/youtube/python_2023_11_20_下午_itag(137).mp4 -i C:/Users/Lu/Documents/youtube/python_2023_11_20_下午_itag(140).mp4 -c copy -map 0:v -map 1:a C:/Users/Lu/Documents/youtube/python_2023_11_20_下午_itag-5.mp4\n",
      "合併成功！輸出文件位於: C:/Users/Lu/Documents/youtube/python_2023_11_20_下午_itag-5.mp4\n"
     ]
    }
   ],
   "source": [
    "# 可成功完成 vedio+audio 之 merage\n",
    "# (基本式樣V0.1)+(ubprocess.TimeoutExpired檢查)+(增加執行內容訊息)+(UTF-8解碼失敗，使用CP950解碼)\n",
    "\n",
    "import subprocess\n",
    "\n",
    "def merge_video_and_audio(video_path, audio_path, output_path):\n",
    "    command = [\n",
    "        'ffmpeg',\n",
    "        '-i', video_path,\n",
    "        '-i', audio_path,\n",
    "        '-c', 'copy',\n",
    "        '-map', '0:v',\n",
    "        '-map', '1:a',\n",
    "        output_path\n",
    "    ]\n",
    "    \n",
    "    try:\n",
    "        print(\"執行命令:\", ' '.join(command))  # 增加執行內容訊息\n",
    "        result = subprocess.run(command, check=True, stdout=subprocess.PIPE, stderr=subprocess.PIPE, text=True, encoding='utf-8',timeout=30)\n",
    "        print(\"合併成功！輸出文件位於:\", output_path)\n",
    "    except subprocess.CalledProcessError as e:\n",
    "        print(\"ffmpeg合併過程中發生錯誤:\", e)\n",
    "        if e.stderr:\n",
    "            try:\n",
    "                # 嘗試用 UTF-8 解碼\n",
    "                print(\"ffmpeg命令輸出:\", e.stderr)\n",
    "            except UnicodeDecodeError:\n",
    "                # 如果失敗，使用 CP950 解碼\n",
    "                print(\"ffmpeg命令輸出:\", e.stderr.decode(encoding='cp950', errors='ignore'))\n",
    "        else:\n",
    "            print(\"無法獲取 ffmpeg 錯誤輸出。\")\n",
    "    except subprocess.TimeoutExpired as e:\n",
    "        print(\"命令執行超時:\", e)\n",
    "\n",
    "merge_video_and_audio(f'C:/Users/Lu/Documents/youtube/python_{yt_title}_itag({itag_Vedio}).mp4', f'C:/Users/Lu/Documents/youtube/python_{yt_title}_itag({itag_Audio}).mp4', f'C:/Users/Lu/Documents/youtube/python_{yt_title}_itag-5.mp4')"
   ]
  },
  {
   "cell_type": "markdown",
   "metadata": {},
   "source": [
    "+++++++++++++++++++++++++++++++++++++++++++++++++++++++++++++++++++++++++++++\n",
    "整合\n",
    "pass"
   ]
  },
  {
   "cell_type": "code",
   "execution_count": 1,
   "metadata": {},
   "outputs": [
    {
     "name": "stdout",
     "output_type": "stream",
     "text": [
      "2023_11_16_早上\n",
      "12535\n",
      "徐國堂\n",
      "https://www.youtube.com/channel/UCKd_tuM8M79b1GAwAlTi9ZA\n",
      "https://i.ytimg.com/vi/Mg3WFru-AXY/hq720.jpg?sqp=-oaymwEmCIAKENAF8quKqQMa8AEB-AH-CYAC0AWKAgwIABABGGUgZShlMA8=&rs=AOn4CLDeQlK0A-2EkqfEgCecGHk3L4u1_A\n",
      "20\n",
      "[<Stream: itag=\"18\" mime_type=\"video/mp4\" res=\"360p\" fps=\"30fps\" vcodec=\"avc1.42001E\" acodec=\"mp4a.40.2\" progressive=\"True\" type=\"video\">, <Stream: itag=\"22\" mime_type=\"video/mp4\" res=\"720p\" fps=\"30fps\" vcodec=\"avc1.64001F\" acodec=\"mp4a.40.2\" progressive=\"True\" type=\"video\">, <Stream: itag=\"137\" mime_type=\"video/mp4\" res=\"1080p\" fps=\"30fps\" vcodec=\"avc1.640028\" progressive=\"False\" type=\"video\">, <Stream: itag=\"136\" mime_type=\"video/mp4\" res=\"720p\" fps=\"30fps\" vcodec=\"avc1.64001f\" progressive=\"False\" type=\"video\">, <Stream: itag=\"134\" mime_type=\"video/mp4\" res=\"360p\" fps=\"30fps\" vcodec=\"avc1.4d401e\" progressive=\"False\" type=\"video\">, <Stream: itag=\"160\" mime_type=\"video/mp4\" res=\"144p\" fps=\"30fps\" vcodec=\"avc1.4d400c\" progressive=\"False\" type=\"video\">, <Stream: itag=\"139\" mime_type=\"audio/mp4\" abr=\"48kbps\" acodec=\"mp4a.40.5\" progressive=\"False\" type=\"audio\">, <Stream: itag=\"140\" mime_type=\"audio/mp4\" abr=\"128kbps\" acodec=\"mp4a.40.2\" progressive=\"False\" type=\"audio\">, <Stream: itag=\"251\" mime_type=\"audio/webm\" abr=\"160kbps\" acodec=\"opus\" progressive=\"False\" type=\"audio\">]\n",
      "9\n",
      "<Stream: itag=\"18\" mime_type=\"video/mp4\" res=\"360p\" fps=\"30fps\" vcodec=\"avc1.42001E\" acodec=\"mp4a.40.2\" progressive=\"True\" type=\"video\">\n",
      "<Stream: itag=\"22\" mime_type=\"video/mp4\" res=\"720p\" fps=\"30fps\" vcodec=\"avc1.64001F\" acodec=\"mp4a.40.2\" progressive=\"True\" type=\"video\">\n",
      "<Stream: itag=\"137\" mime_type=\"video/mp4\" res=\"1080p\" fps=\"30fps\" vcodec=\"avc1.640028\" progressive=\"False\" type=\"video\">\n",
      "<Stream: itag=\"136\" mime_type=\"video/mp4\" res=\"720p\" fps=\"30fps\" vcodec=\"avc1.64001f\" progressive=\"False\" type=\"video\">\n",
      "<Stream: itag=\"134\" mime_type=\"video/mp4\" res=\"360p\" fps=\"30fps\" vcodec=\"avc1.4d401e\" progressive=\"False\" type=\"video\">\n",
      "<Stream: itag=\"160\" mime_type=\"video/mp4\" res=\"144p\" fps=\"30fps\" vcodec=\"avc1.4d400c\" progressive=\"False\" type=\"video\">\n",
      "<Stream: itag=\"139\" mime_type=\"audio/mp4\" abr=\"48kbps\" acodec=\"mp4a.40.5\" progressive=\"False\" type=\"audio\">\n",
      "<Stream: itag=\"140\" mime_type=\"audio/mp4\" abr=\"128kbps\" acodec=\"mp4a.40.2\" progressive=\"False\" type=\"audio\">\n",
      "<Stream: itag=\"251\" mime_type=\"audio/webm\" abr=\"160kbps\" acodec=\"opus\" progressive=\"False\" type=\"audio\">\n",
      "media格式分析完成\n",
      "python_2023_11_16_早上_itag(140)完成\n",
      "python_2023_11_16_早上_itag(137)完成\n",
      "downdload完成\n"
     ]
    },
    {
     "ename": "NameError",
     "evalue": "name 'yt_title' is not defined",
     "output_type": "error",
     "traceback": [
      "\u001b[1;31m---------------------------------------------------------------------------\u001b[0m",
      "\u001b[1;31mNameError\u001b[0m                                 Traceback (most recent call last)",
      "Cell \u001b[1;32mIn[1], line 76\u001b[0m\n\u001b[0;32m     74\u001b[0m media_contents(url)\n\u001b[0;32m     75\u001b[0m download_video_and_audio(url)\n\u001b[1;32m---> 76\u001b[0m merge_video_and_audio(\u001b[38;5;124mf\u001b[39m\u001b[38;5;124m'\u001b[39m\u001b[38;5;124mC:/Users/Lu/Documents/youtube/python_\u001b[39m\u001b[38;5;132;01m{\u001b[39;00m\u001b[43myt_title\u001b[49m\u001b[38;5;132;01m}\u001b[39;00m\u001b[38;5;124m_itag(\u001b[39m\u001b[38;5;132;01m{\u001b[39;00mitag_Vedio\u001b[38;5;132;01m}\u001b[39;00m\u001b[38;5;124m).mp4\u001b[39m\u001b[38;5;124m'\u001b[39m, \u001b[38;5;124mf\u001b[39m\u001b[38;5;124m'\u001b[39m\u001b[38;5;124mC:/Users/Lu/Documents/youtube/python_\u001b[39m\u001b[38;5;132;01m{\u001b[39;00myt_title\u001b[38;5;132;01m}\u001b[39;00m\u001b[38;5;124m_itag(\u001b[39m\u001b[38;5;132;01m{\u001b[39;00mitag_Audio\u001b[38;5;132;01m}\u001b[39;00m\u001b[38;5;124m).mp4\u001b[39m\u001b[38;5;124m'\u001b[39m, \u001b[38;5;124mf\u001b[39m\u001b[38;5;124m'\u001b[39m\u001b[38;5;124mC:/Users/Lu/Documents/youtube/python_\u001b[39m\u001b[38;5;132;01m{\u001b[39;00myt_title\u001b[38;5;132;01m}\u001b[39;00m\u001b[38;5;124m_itag-5.mp4\u001b[39m\u001b[38;5;124m'\u001b[39m)\n\u001b[0;32m     78\u001b[0m \u001b[38;5;66;03m#os.remove(f'C:/Users/Lu/Documents/youtube/python_{yt_title}_itag({itag_Vedio}).mp4')\u001b[39;00m\n\u001b[0;32m     79\u001b[0m \u001b[38;5;66;03m#os.remove(f'C:/Users/Lu/Documents/youtube/python_{yt_title}_itag({itag_Audio}).mp4')\u001b[39;00m\n\u001b[0;32m     80\u001b[0m \u001b[38;5;66;03m#print('影像&音訊檔案刪除成功,合併完成！')\u001b[39;00m\n",
      "\u001b[1;31mNameError\u001b[0m: name 'yt_title' is not defined"
     ]
    }
   ],
   "source": [
    "# V0.3.1\n",
    "from pytube import YouTube\n",
    "import subprocess\n",
    "import os\n",
    "\n",
    "def media_contents(url):\n",
    "    #yt = YouTube(url)  # ex.2023_11_16_上午\n",
    "\n",
    "    # 影片格式分析\n",
    "    print(yt.title)           # 影片標題\n",
    "    print(yt.length)          # 影片長度 ( 秒 )\n",
    "    print(yt.author)          # 影片作者\n",
    "    print(yt.channel_url)     # 影片作者頻道網址\n",
    "    print(yt.thumbnail_url)   # 影片縮圖網址\n",
    "    print(yt.views)           # 影片觀看數\n",
    "\n",
    "    # 分析\n",
    "    print(yt.streams)  # 影片支援哪些畫質\n",
    "    # print(yt.streams.all())  # all()-->useless\n",
    "    print(len(yt.streams))\n",
    "\n",
    "    for st in yt.streams:\n",
    "        print(st)\n",
    "\n",
    "    print('media格式分析完成')\n",
    "\n",
    "\n",
    "\n",
    "def download_video_and_audio(url):\n",
    "    # yt = YouTube(url) \n",
    "    yt_title = yt.title\n",
    "    itag_Audio = 140\n",
    "    itag_Vedio = 137\n",
    "    itag_List = [itag_Audio,itag_Vedio]\n",
    "    for i in itag_List:\n",
    "        stream = yt.streams.get_by_itag(i)\n",
    "        stream.download(output_path='C:/Users/Lu/Documents/youtube',filename=f'python_{yt_title}_itag({i}).mp4', skip_existing=True, max_retries=0)\n",
    "        print(f'python_{yt_title}_itag({i})完成')\n",
    "    print('downdload完成')\n",
    "\n",
    "\n",
    "def merge_video_and_audio(video_path, audio_path, output_path):\n",
    "    command = [\n",
    "        'ffmpeg',\n",
    "        '-i', video_path,\n",
    "        '-i', audio_path,\n",
    "        '-c', 'copy',\n",
    "        '-map', '0:v',\n",
    "        '-map', '1:a',\n",
    "        output_path\n",
    "    ]\n",
    "    \n",
    "    try:\n",
    "        print(\"執行命令:\", ' '.join(command))  # 增加執行內容訊息\n",
    "        result = subprocess.run(command, check=True, stdout=subprocess.PIPE, stderr=subprocess.PIPE, text=True, encoding='utf-8',timeout=30)\n",
    "        print(\"合併成功！輸出文件位於:\", output_path)\n",
    "    except subprocess.CalledProcessError as e:\n",
    "        print(\"ffmpeg合併過程中發生錯誤:\", e)\n",
    "        if e.stderr:\n",
    "            try:\n",
    "                # 嘗試用 UTF-8 解碼\n",
    "                print(\"ffmpeg命令輸出:\", e.stderr)\n",
    "            except UnicodeDecodeError:\n",
    "                # 如果失敗，使用 CP950 解碼\n",
    "                print(\"ffmpeg命令輸出:\", e.stderr.decode(encoding='cp950', errors='ignore'))\n",
    "        else:\n",
    "            print(\"無法獲取 ffmpeg 錯誤輸出。\")\n",
    "    except subprocess.TimeoutExpired as e:\n",
    "        print(\"命令執行超時:\", e)\n",
    "\n",
    " \n",
    "#url = input(\"Enter the url of media : \")   \n",
    "url='https://youtube.com/live/Mg3WFru-AXY'  # 2023_11_20_下午\n",
    "yt = YouTube(url)  \n",
    "media_contents(url)\n",
    "download_video_and_audio(url)\n",
    "merge_video_and_audio(f'C:/Users/Lu/Documents/youtube/python_{yt_title}_itag({itag_Vedio}).mp4', f'C:/Users/Lu/Documents/youtube/python_{yt_title}_itag({itag_Audio}).mp4', f'C:/Users/Lu/Documents/youtube/python_{yt_title}_itag-5.mp4')\n",
    "\n",
    "#os.remove(f'C:/Users/Lu/Documents/youtube/python_{yt_title}_itag({itag_Vedio}).mp4')\n",
    "#os.remove(f'C:/Users/Lu/Documents/youtube/python_{yt_title}_itag({itag_Audio}).mp4')\n",
    "#print('影像&音訊檔案刪除成功,合併完成！')"
   ]
  },
  {
   "cell_type": "code",
   "execution_count": 4,
   "metadata": {},
   "outputs": [
    {
     "name": "stdout",
     "output_type": "stream",
     "text": [
      "執行命令: ffmpeg -i C:/Users/Lu/Documents/youtube/python_2023_11_16_早上_itag(137).mp4 -i C:/Users/Lu/Documents/youtube/python_2023_11_16_早上_itag(140).mp4 -c copy -map 0:v -map 1:a C:/Users/Lu/Documents/youtube/python_2023_11_16_早上_itag-5.mp4\n",
      "合併成功！輸出文件位於: C:/Users/Lu/Documents/youtube/python_2023_11_16_早上_itag-5.mp4\n"
     ]
    }
   ],
   "source": [
    "# 確認 v0.3.1 (NameError: name 'yt_title' is not defined)-->直接使用yt.title\n",
    "import subprocess\n",
    "\n",
    "def merge_video_and_audio(video_path, audio_path, output_path):\n",
    "    command = [\n",
    "        'ffmpeg',\n",
    "        '-i', video_path,\n",
    "        '-i', audio_path,\n",
    "        '-c', 'copy',\n",
    "        '-map', '0:v',\n",
    "        '-map', '1:a',\n",
    "        output_path\n",
    "    ]\n",
    "    \n",
    "    try:\n",
    "        print(\"執行命令:\", ' '.join(command))  # 增加執行內容訊息\n",
    "        result = subprocess.run(command, check=True, stdout=subprocess.PIPE, stderr=subprocess.PIPE, text=True, encoding='utf-8',timeout=30)\n",
    "        print(\"合併成功！輸出文件位於:\", output_path)\n",
    "    except subprocess.CalledProcessError as e:\n",
    "        print(\"ffmpeg合併過程中發生錯誤:\", e)\n",
    "        if e.stderr:\n",
    "            try:\n",
    "                # 嘗試用 UTF-8 解碼\n",
    "                print(\"ffmpeg命令輸出:\", e.stderr)\n",
    "            except UnicodeDecodeError:\n",
    "                # 如果失敗，使用 CP950 解碼\n",
    "                print(\"ffmpeg命令輸出:\", e.stderr.decode(encoding='cp950', errors='ignore'))\n",
    "        else:\n",
    "            print(\"無法獲取 ffmpeg 錯誤輸出。\")\n",
    "    except subprocess.TimeoutExpired as e:\n",
    "        print(\"命令執行超時:\", e)\n",
    "\n",
    " \n",
    "#url = input(\"Enter the url of media : \")   \n",
    "url='https://youtube.com/live/Mg3WFru-AXY'  # 2023_11_20_下午\n",
    "yt = YouTube(url)  \n",
    "# media_contents(url)\n",
    "# download_video_and_audio(url)\n",
    "itag_Audio = 140\n",
    "itag_Vedio = 137\n",
    "merge_video_and_audio(f'C:/Users/Lu/Documents/youtube/python_{yt.title}_itag({itag_Vedio}).mp4', f'C:/Users/Lu/Documents/youtube/python_{yt.title}_itag({itag_Audio}).mp4', f'C:/Users/Lu/Documents/youtube/python_{yt.title}_itag-5.mp4')"
   ]
  },
  {
   "cell_type": "code",
   "execution_count": 6,
   "metadata": {},
   "outputs": [
    {
     "name": "stdout",
     "output_type": "stream",
     "text": [
      "2023_11_16_下午\n",
      "7460\n",
      "徐國堂\n",
      "https://www.youtube.com/channel/UCKd_tuM8M79b1GAwAlTi9ZA\n",
      "https://i.ytimg.com/vi/Qxg3vr2BBpU/hq720.jpg?sqp=-oaymwEmCIAKENAF8quKqQMa8AEB-AH-CYAC0AWKAgwIABABGGUgZShlMA8=&rs=AOn4CLBn_4b-SDU7p-OXvl6mdefjByOfLA\n",
      "19\n",
      "[<Stream: itag=\"18\" mime_type=\"video/mp4\" res=\"360p\" fps=\"30fps\" vcodec=\"avc1.42001E\" acodec=\"mp4a.40.2\" progressive=\"True\" type=\"video\">, <Stream: itag=\"22\" mime_type=\"video/mp4\" res=\"720p\" fps=\"30fps\" vcodec=\"avc1.64001F\" acodec=\"mp4a.40.2\" progressive=\"True\" type=\"video\">, <Stream: itag=\"137\" mime_type=\"video/mp4\" res=\"1080p\" fps=\"30fps\" vcodec=\"avc1.640028\" progressive=\"False\" type=\"video\">, <Stream: itag=\"136\" mime_type=\"video/mp4\" res=\"720p\" fps=\"30fps\" vcodec=\"avc1.64001f\" progressive=\"False\" type=\"video\">, <Stream: itag=\"134\" mime_type=\"video/mp4\" res=\"360p\" fps=\"30fps\" vcodec=\"avc1.4d401e\" progressive=\"False\" type=\"video\">, <Stream: itag=\"160\" mime_type=\"video/mp4\" res=\"144p\" fps=\"30fps\" vcodec=\"avc1.4d400c\" progressive=\"False\" type=\"video\">, <Stream: itag=\"139\" mime_type=\"audio/mp4\" abr=\"48kbps\" acodec=\"mp4a.40.5\" progressive=\"False\" type=\"audio\">, <Stream: itag=\"140\" mime_type=\"audio/mp4\" abr=\"128kbps\" acodec=\"mp4a.40.2\" progressive=\"False\" type=\"audio\">, <Stream: itag=\"251\" mime_type=\"audio/webm\" abr=\"160kbps\" acodec=\"opus\" progressive=\"False\" type=\"audio\">]\n",
      "9\n",
      "<Stream: itag=\"18\" mime_type=\"video/mp4\" res=\"360p\" fps=\"30fps\" vcodec=\"avc1.42001E\" acodec=\"mp4a.40.2\" progressive=\"True\" type=\"video\">\n",
      "<Stream: itag=\"22\" mime_type=\"video/mp4\" res=\"720p\" fps=\"30fps\" vcodec=\"avc1.64001F\" acodec=\"mp4a.40.2\" progressive=\"True\" type=\"video\">\n",
      "<Stream: itag=\"137\" mime_type=\"video/mp4\" res=\"1080p\" fps=\"30fps\" vcodec=\"avc1.640028\" progressive=\"False\" type=\"video\">\n",
      "<Stream: itag=\"136\" mime_type=\"video/mp4\" res=\"720p\" fps=\"30fps\" vcodec=\"avc1.64001f\" progressive=\"False\" type=\"video\">\n",
      "<Stream: itag=\"134\" mime_type=\"video/mp4\" res=\"360p\" fps=\"30fps\" vcodec=\"avc1.4d401e\" progressive=\"False\" type=\"video\">\n",
      "<Stream: itag=\"160\" mime_type=\"video/mp4\" res=\"144p\" fps=\"30fps\" vcodec=\"avc1.4d400c\" progressive=\"False\" type=\"video\">\n",
      "<Stream: itag=\"139\" mime_type=\"audio/mp4\" abr=\"48kbps\" acodec=\"mp4a.40.5\" progressive=\"False\" type=\"audio\">\n",
      "<Stream: itag=\"140\" mime_type=\"audio/mp4\" abr=\"128kbps\" acodec=\"mp4a.40.2\" progressive=\"False\" type=\"audio\">\n",
      "<Stream: itag=\"251\" mime_type=\"audio/webm\" abr=\"160kbps\" acodec=\"opus\" progressive=\"False\" type=\"audio\">\n",
      "media格式分析完成\n",
      "downdloading of video & audio .....\n",
      "python_2023_11_16_下午_itag(137)完成\n",
      "python_2023_11_16_下午_itag(140)完成\n",
      "downdload完成\n",
      "執行命令: ffmpeg -i C:/Users/Lu/Documents/youtube/python_2023_11_16_下午_itag(137).mp4 -i C:/Users/Lu/Documents/youtube/python_2023_11_16_下午_itag(140).mp4 -c copy -map 0:v -map 1:a C:/Users/Lu/Documents/youtube/python_2023_11_16_下午_itag(merge).mp4\n",
      "合併成功！輸出文件位於: C:/Users/Lu/Documents/youtube/python_2023_11_16_下午_itag(merge).mp4\n"
     ]
    }
   ],
   "source": [
    "# V0.3.2\n",
    "from pytube import YouTube\n",
    "import subprocess\n",
    "import os\n",
    "\n",
    "def media_contents(url):\n",
    "    #yt = YouTube(url)  # ex.2023_11_16_下午\n",
    "\n",
    "    # 影片格式分析\n",
    "    print(yt.title)           # 影片標題\n",
    "    print(yt.length)          # 影片長度 ( 秒 )\n",
    "    print(yt.author)          # 影片作者\n",
    "    print(yt.channel_url)     # 影片作者頻道網址\n",
    "    print(yt.thumbnail_url)   # 影片縮圖網址\n",
    "    print(yt.views)           # 影片觀看數\n",
    "\n",
    "    # 分析\n",
    "    print(yt.streams)  # 影片支援哪些畫質\n",
    "    # print(yt.streams.all())  # all()-->useless\n",
    "    print(len(yt.streams))\n",
    "\n",
    "    for st in yt.streams:\n",
    "        print(st)\n",
    "\n",
    "    print('media格式分析完成')\n",
    "\n",
    "\n",
    "\n",
    "def download_video_and_audio(url,itag_Vedio,itag_Audio):\n",
    "    # yt = YouTube(url) \n",
    "    # yt_title = yt.title\n",
    "    # itag_Audio = 140\n",
    "    # itag_Vedio = 137\n",
    "    print('downdloading of video & audio .....')\n",
    "    # itag_List = [itag_Audio,itag_Vedio]\n",
    "    itag_List = [itag_Vedio,itag_Audio]\n",
    "    for i in itag_List:\n",
    "        stream = yt.streams.get_by_itag(i)\n",
    "        stream.download(output_path='C:/Users/Lu/Documents/youtube',filename=f'python_{yt.title}_itag({i}).mp4', skip_existing=True, max_retries=0)\n",
    "        print(f'python_{yt.title}_itag({i})完成')\n",
    "    print('downdload完成')\n",
    "\n",
    "\n",
    "def merge_video_and_audio(video_path, audio_path, output_path):\n",
    "    command = [\n",
    "        'ffmpeg',\n",
    "        '-i', video_path,\n",
    "        '-i', audio_path,\n",
    "        '-c', 'copy',\n",
    "        '-map', '0:v',\n",
    "        '-map', '1:a',\n",
    "        output_path\n",
    "    ]\n",
    "    \n",
    "    try:\n",
    "        print(\"執行命令:\", ' '.join(command))  # 增加執行內容訊息\n",
    "        result = subprocess.run(command, check=True, stdout=subprocess.PIPE, stderr=subprocess.PIPE, text=True, encoding='utf-8',timeout=30)\n",
    "        print(\"合併成功！輸出文件位於:\", output_path)\n",
    "    except subprocess.CalledProcessError as e:\n",
    "        print(\"ffmpeg合併過程中發生錯誤:\", e)\n",
    "        if e.stderr:\n",
    "            try:\n",
    "                # 嘗試用 UTF-8 解碼\n",
    "                print(\"ffmpeg命令輸出:\", e.stderr)\n",
    "            except UnicodeDecodeError:\n",
    "                # 如果失敗，使用 CP950 解碼\n",
    "                print(\"ffmpeg命令輸出:\", e.stderr.decode(encoding='cp950', errors='ignore'))\n",
    "        else:\n",
    "            print(\"無法獲取 ffmpeg 錯誤輸出。\")\n",
    "    except subprocess.TimeoutExpired as e:\n",
    "        print(\"命令執行超時:\", e)\n",
    "\n",
    " \n",
    "#url = input(\"Enter the url of media : \")   \n",
    "url='https://youtube.com/live/Qxg3vr2BBpU'  # 2023_11_16_下午\n",
    "yt = YouTube(url) \n",
    "itag_Audio = 140\n",
    "itag_Vedio = 137 \n",
    "media_contents(url)\n",
    "download_video_and_audio(url,itag_Vedio,itag_Audio)\n",
    "merge_video_and_audio(f'C:/Users/Lu/Documents/youtube/python_{yt.title}_itag({itag_Vedio}).mp4', f'C:/Users/Lu/Documents/youtube/python_{yt.title}_itag({itag_Audio}).mp4', f'C:/Users/Lu/Documents/youtube/python_{yt.title}_itag(merge).mp4')\n",
    "#<2023_11_16_下午> media 長度 02:04:20 容量大小508,810KB 處理耗時4m 10.5s\n",
    "\n",
    "#os.remove(f'C:/Users/Lu/Documents/youtube/python_{yt_title}_itag({itag_Vedio}).mp4')\n",
    "#os.remove(f'C:/Users/Lu/Documents/youtube/python_{yt_title}_itag({itag_Audio}).mp4')\n",
    "#print('影像&音訊檔案刪除成功,合併完成！')"
   ]
  },
  {
   "cell_type": "code",
   "execution_count": 7,
   "metadata": {},
   "outputs": [
    {
     "name": "stdout",
     "output_type": "stream",
     "text": [
      "標題:  2023_11_10_早上\n",
      "長度 ( 秒 ):  11430\n",
      "作者:  徐國堂\n",
      "作者頻道網址:  https://www.youtube.com/channel/UCKd_tuM8M79b1GAwAlTi9ZA\n",
      "縮圖網址:  https://i.ytimg.com/vi/lRY9hvVHfFE/hq720.jpg?sqp=-oaymwEmCIAKENAF8quKqQMa8AEB-AH-CYAC0AWKAgwIABABGGUgZShlMA8=&rs=AOn4CLACy_JWV-WYQ8YufCqYpAie6b8ZSg\n",
      "觀看數:  22\n",
      "9\n",
      "<Stream: itag=\"18\" mime_type=\"video/mp4\" res=\"360p\" fps=\"30fps\" vcodec=\"avc1.42001E\" acodec=\"mp4a.40.2\" progressive=\"True\" type=\"video\">\n",
      "<Stream: itag=\"22\" mime_type=\"video/mp4\" res=\"720p\" fps=\"30fps\" vcodec=\"avc1.64001F\" acodec=\"mp4a.40.2\" progressive=\"True\" type=\"video\">\n",
      "<Stream: itag=\"137\" mime_type=\"video/mp4\" res=\"1080p\" fps=\"30fps\" vcodec=\"avc1.640028\" progressive=\"False\" type=\"video\">\n",
      "<Stream: itag=\"136\" mime_type=\"video/mp4\" res=\"720p\" fps=\"30fps\" vcodec=\"avc1.64001f\" progressive=\"False\" type=\"video\">\n",
      "<Stream: itag=\"134\" mime_type=\"video/mp4\" res=\"360p\" fps=\"30fps\" vcodec=\"avc1.4d401e\" progressive=\"False\" type=\"video\">\n",
      "<Stream: itag=\"160\" mime_type=\"video/mp4\" res=\"144p\" fps=\"30fps\" vcodec=\"avc1.4d400c\" progressive=\"False\" type=\"video\">\n",
      "<Stream: itag=\"139\" mime_type=\"audio/mp4\" abr=\"48kbps\" acodec=\"mp4a.40.5\" progressive=\"False\" type=\"audio\">\n",
      "<Stream: itag=\"140\" mime_type=\"audio/mp4\" abr=\"128kbps\" acodec=\"mp4a.40.2\" progressive=\"False\" type=\"audio\">\n",
      "<Stream: itag=\"251\" mime_type=\"audio/webm\" abr=\"160kbps\" acodec=\"opus\" progressive=\"False\" type=\"audio\">\n",
      "media格式分析完成\n",
      "downdloading of video & audio .....\n",
      "python_2023_11_10_早上_itag(137)完成\n",
      "python_2023_11_10_早上_itag(140)完成\n",
      "downdload完成\n",
      "執行命令: ffmpeg -i C:/Users/Lu/Documents/youtube/python_2023_11_10_早上_itag(137).mp4 -i C:/Users/Lu/Documents/youtube/python_2023_11_10_早上_itag(140).mp4 -c copy -map 0:v -map 1:a C:/Users/Lu/Documents/youtube/python_2023_11_10_早上_itag(merge).mp4\n",
      "合併成功！輸出文件位於: C:/Users/Lu/Documents/youtube/python_2023_11_10_早上_itag(merge).mp4\n",
      "影像&音訊檔案刪除成功,合併完成！\n"
     ]
    }
   ],
   "source": [
    "# V0.4.0 -->完成 (2024.06.15止-->final)\n",
    "from pytube import YouTube\n",
    "import subprocess\n",
    "import os\n",
    "\n",
    "def media_contents(url):\n",
    "    # 影片格式分析\n",
    "    print('標題: ',yt.title)                 # 影片標題\n",
    "    print('長度 ( 秒 ): ',yt.length)         # 影片長度 ( 秒 )\n",
    "    print('作者: ',yt.author)                # 影片作者\n",
    "    print('作者頻道網址: ',yt.channel_url)   # 影片作者頻道網址\n",
    "    print('縮圖網址: ',yt.thumbnail_url)     # 影片縮圖網址\n",
    "    print('觀看數: ',yt.views)               # 影片觀看數\n",
    "\n",
    "    # 分析\n",
    "    #print(yt.streams)  # 影片支援哪些畫質\n",
    "    print('stream數: ',len(yt.streams))\n",
    "\n",
    "    for st in yt.streams:\n",
    "        print(st)\n",
    "    print('media格式分析完成')\n",
    "\n",
    "\n",
    "def download_video_and_audio(url,itag_Vedio,itag_Audio):\n",
    "    print('downdloading of video & audio .....')\n",
    "    itag_List = [itag_Vedio,itag_Audio]\n",
    "    for i in itag_List:\n",
    "        stream = yt.streams.get_by_itag(i)\n",
    "        stream.download(output_path='C:/Users/Lu/Documents/youtube',filename=f'python_{yt.title}_itag({i}).mp4', skip_existing=True, max_retries=0)\n",
    "        print(f'python_{yt.title}_itag({i})完成')\n",
    "    print('downdload完成')\n",
    "\n",
    "\n",
    "def merge_video_and_audio(video_path, audio_path, output_path):\n",
    "    command = [\n",
    "        'ffmpeg',\n",
    "        '-i', video_path,\n",
    "        '-i', audio_path,\n",
    "        '-c', 'copy',\n",
    "        '-map', '0:v',\n",
    "        '-map', '1:a',\n",
    "        output_path\n",
    "    ]\n",
    "    \n",
    "    try:\n",
    "        print(\"執行merge命令:\", ' '.join(command))  # 增加執行內容訊息\n",
    "        result = subprocess.run(command, check=True, stdout=subprocess.PIPE, stderr=subprocess.PIPE, text=True, encoding='utf-8',timeout=30)\n",
    "        print(\"合併成功！輸出文件位於:\", output_path)\n",
    "    except subprocess.CalledProcessError as e:\n",
    "        print(\"ffmpeg合併過程中發生錯誤:\", e)\n",
    "        if e.stderr:\n",
    "            try:\n",
    "                # 嘗試用 UTF-8 解碼\n",
    "                print(\"ffmpeg命令輸出:\", e.stderr)\n",
    "            except UnicodeDecodeError:\n",
    "                # 如果失敗，使用 CP950 解碼\n",
    "                print(\"ffmpeg命令輸出:\", e.stderr.decode(encoding='cp950', errors='ignore'))\n",
    "        else:\n",
    "            print(\"無法獲取 ffmpeg 錯誤輸出。\")\n",
    "    except subprocess.TimeoutExpired as e:\n",
    "        print(\"命令執行超時:\", e)\n",
    "\n",
    "\n",
    "#url = input(\"Enter the url of media : \")   \n",
    "url='https://youtube.com/live/lRY9hvVHfFE'    #ex. 2023_11_10_上午\n",
    "yt = YouTube(url) \n",
    "itag_Audio = 140\n",
    "itag_Vedio = 137 \n",
    "media_contents(url)\n",
    "download_video_and_audio(url,itag_Vedio,itag_Audio)\n",
    "merge_video_and_audio(f'C:/Users/Lu/Documents/youtube/python_{yt.title}_itag({itag_Vedio}).mp4', f'C:/Users/Lu/Documents/youtube/python_{yt.title}_itag({itag_Audio}).mp4', f'C:/Users/Lu/Documents/youtube/python_{yt.title}_itag(merge).mp4')\n",
    "\n",
    "os.remove(f'C:/Users/Lu/Documents/youtube/python_{yt.title}_itag({itag_Vedio}).mp4')\n",
    "os.remove(f'C:/Users/Lu/Documents/youtube/python_{yt.title}_itag({itag_Audio}).mp4')\n",
    "print('合併成功！影像&音訊檔案刪除完成')\n",
    "\n",
    "#<2023_11_10_上午> media 長度 03:10:30 容量大小731,905KB 處理耗時10m 6.4s"
   ]
  },
  {
   "cell_type": "markdown",
   "metadata": {},
   "source": [
    "========================================================================================\n",
    "##### 以下為get_audio_only相關\n",
    "\n",
    "pass -->testing"
   ]
  },
  {
   "cell_type": "code",
   "execution_count": 8,
   "metadata": {},
   "outputs": [
    {
     "name": "stdout",
     "output_type": "stream",
     "text": [
      "Soft Classical Piano - Relaxing Piano Pieces (Luke Faulkner)\n",
      "6980\n",
      "HALIDONMUSIC\n",
      "https://www.youtube.com/channel/UCyOfqgtsQaM3S-VZnsYnHjQ\n",
      "https://i.ytimg.com/vi/aGZk0nEBWv4/hq720.jpg?sqp=-oaymwEXCNUGEOADIAQqCwjVARCqCBh4INgESFo&rs=AOn4CLA4o5Lld9CjTHSSz6fNdjN57W1_Vw\n",
      "3346765\n",
      "[<Stream: itag=\"18\" mime_type=\"video/mp4\" res=\"360p\" fps=\"30fps\" vcodec=\"avc1.42001E\" acodec=\"mp4a.40.2\" progressive=\"True\" type=\"video\">, <Stream: itag=\"22\" mime_type=\"video/mp4\" res=\"720p\" fps=\"30fps\" vcodec=\"avc1.64001F\" acodec=\"mp4a.40.2\" progressive=\"True\" type=\"video\">, <Stream: itag=\"137\" mime_type=\"video/mp4\" res=\"1080p\" fps=\"30fps\" vcodec=\"avc1.640028\" progressive=\"False\" type=\"video\">, <Stream: itag=\"248\" mime_type=\"video/webm\" res=\"1080p\" fps=\"30fps\" vcodec=\"vp9\" progressive=\"False\" type=\"video\">, <Stream: itag=\"136\" mime_type=\"video/mp4\" res=\"720p\" fps=\"30fps\" vcodec=\"avc1.4d401f\" progressive=\"False\" type=\"video\">, <Stream: itag=\"247\" mime_type=\"video/webm\" res=\"720p\" fps=\"30fps\" vcodec=\"vp9\" progressive=\"False\" type=\"video\">, <Stream: itag=\"135\" mime_type=\"video/mp4\" res=\"480p\" fps=\"30fps\" vcodec=\"avc1.4d401f\" progressive=\"False\" type=\"video\">, <Stream: itag=\"244\" mime_type=\"video/webm\" res=\"480p\" fps=\"30fps\" vcodec=\"vp9\" progressive=\"False\" type=\"video\">, <Stream: itag=\"134\" mime_type=\"video/mp4\" res=\"360p\" fps=\"30fps\" vcodec=\"avc1.4d401e\" progressive=\"False\" type=\"video\">, <Stream: itag=\"243\" mime_type=\"video/webm\" res=\"360p\" fps=\"30fps\" vcodec=\"vp9\" progressive=\"False\" type=\"video\">, <Stream: itag=\"133\" mime_type=\"video/mp4\" res=\"240p\" fps=\"30fps\" vcodec=\"avc1.4d4015\" progressive=\"False\" type=\"video\">, <Stream: itag=\"242\" mime_type=\"video/webm\" res=\"240p\" fps=\"30fps\" vcodec=\"vp9\" progressive=\"False\" type=\"video\">, <Stream: itag=\"160\" mime_type=\"video/mp4\" res=\"144p\" fps=\"30fps\" vcodec=\"avc1.4d400c\" progressive=\"False\" type=\"video\">, <Stream: itag=\"278\" mime_type=\"video/webm\" res=\"144p\" fps=\"30fps\" vcodec=\"vp9\" progressive=\"False\" type=\"video\">, <Stream: itag=\"139\" mime_type=\"audio/mp4\" abr=\"48kbps\" acodec=\"mp4a.40.5\" progressive=\"False\" type=\"audio\">, <Stream: itag=\"140\" mime_type=\"audio/mp4\" abr=\"128kbps\" acodec=\"mp4a.40.2\" progressive=\"False\" type=\"audio\">, <Stream: itag=\"249\" mime_type=\"audio/webm\" abr=\"50kbps\" acodec=\"opus\" progressive=\"False\" type=\"audio\">, <Stream: itag=\"250\" mime_type=\"audio/webm\" abr=\"70kbps\" acodec=\"opus\" progressive=\"False\" type=\"audio\">, <Stream: itag=\"251\" mime_type=\"audio/webm\" abr=\"160kbps\" acodec=\"opus\" progressive=\"False\" type=\"audio\">]\n",
      "19\n",
      "<Stream: itag=\"18\" mime_type=\"video/mp4\" res=\"360p\" fps=\"30fps\" vcodec=\"avc1.42001E\" acodec=\"mp4a.40.2\" progressive=\"True\" type=\"video\">\n",
      "<Stream: itag=\"22\" mime_type=\"video/mp4\" res=\"720p\" fps=\"30fps\" vcodec=\"avc1.64001F\" acodec=\"mp4a.40.2\" progressive=\"True\" type=\"video\">\n",
      "<Stream: itag=\"137\" mime_type=\"video/mp4\" res=\"1080p\" fps=\"30fps\" vcodec=\"avc1.640028\" progressive=\"False\" type=\"video\">\n",
      "<Stream: itag=\"248\" mime_type=\"video/webm\" res=\"1080p\" fps=\"30fps\" vcodec=\"vp9\" progressive=\"False\" type=\"video\">\n",
      "<Stream: itag=\"136\" mime_type=\"video/mp4\" res=\"720p\" fps=\"30fps\" vcodec=\"avc1.4d401f\" progressive=\"False\" type=\"video\">\n",
      "<Stream: itag=\"247\" mime_type=\"video/webm\" res=\"720p\" fps=\"30fps\" vcodec=\"vp9\" progressive=\"False\" type=\"video\">\n",
      "<Stream: itag=\"135\" mime_type=\"video/mp4\" res=\"480p\" fps=\"30fps\" vcodec=\"avc1.4d401f\" progressive=\"False\" type=\"video\">\n",
      "<Stream: itag=\"244\" mime_type=\"video/webm\" res=\"480p\" fps=\"30fps\" vcodec=\"vp9\" progressive=\"False\" type=\"video\">\n",
      "<Stream: itag=\"134\" mime_type=\"video/mp4\" res=\"360p\" fps=\"30fps\" vcodec=\"avc1.4d401e\" progressive=\"False\" type=\"video\">\n",
      "<Stream: itag=\"243\" mime_type=\"video/webm\" res=\"360p\" fps=\"30fps\" vcodec=\"vp9\" progressive=\"False\" type=\"video\">\n",
      "<Stream: itag=\"133\" mime_type=\"video/mp4\" res=\"240p\" fps=\"30fps\" vcodec=\"avc1.4d4015\" progressive=\"False\" type=\"video\">\n",
      "<Stream: itag=\"242\" mime_type=\"video/webm\" res=\"240p\" fps=\"30fps\" vcodec=\"vp9\" progressive=\"False\" type=\"video\">\n",
      "<Stream: itag=\"160\" mime_type=\"video/mp4\" res=\"144p\" fps=\"30fps\" vcodec=\"avc1.4d400c\" progressive=\"False\" type=\"video\">\n",
      "<Stream: itag=\"278\" mime_type=\"video/webm\" res=\"144p\" fps=\"30fps\" vcodec=\"vp9\" progressive=\"False\" type=\"video\">\n",
      "<Stream: itag=\"139\" mime_type=\"audio/mp4\" abr=\"48kbps\" acodec=\"mp4a.40.5\" progressive=\"False\" type=\"audio\">\n",
      "<Stream: itag=\"140\" mime_type=\"audio/mp4\" abr=\"128kbps\" acodec=\"mp4a.40.2\" progressive=\"False\" type=\"audio\">\n",
      "<Stream: itag=\"249\" mime_type=\"audio/webm\" abr=\"50kbps\" acodec=\"opus\" progressive=\"False\" type=\"audio\">\n",
      "<Stream: itag=\"250\" mime_type=\"audio/webm\" abr=\"70kbps\" acodec=\"opus\" progressive=\"False\" type=\"audio\">\n",
      "<Stream: itag=\"251\" mime_type=\"audio/webm\" abr=\"160kbps\" acodec=\"opus\" progressive=\"False\" type=\"audio\">\n"
     ]
    }
   ],
   "source": [
    "# 使用模組\n",
    "from pytube import YouTube\n",
    "\n",
    "# url='https://youtube.com/live/CFoPy2Q7IwQ'\n",
    "# yt = YouTube(url)  # # 2023_11_20_下午\n",
    "yt = YouTube('https://www.youtube.com/watch?v=aGZk0nEBWv4')   # Soft Classical Piano - Relaxing Piano Pieces (Luke Faulkner)\n",
    "\n",
    "# 影片格式分析\n",
    "print(yt.title)           # 影片標題\n",
    "print(yt.length)          # 影片長度 ( 秒 )\n",
    "print(yt.author)          # 影片作者\n",
    "print(yt.channel_url)     # 影片作者頻道網址\n",
    "print(yt.thumbnail_url)   # 影片縮圖網址\n",
    "print(yt.views)           # 影片觀看數\n",
    "\n",
    "# 分析\n",
    "print(yt.streams)  # 影片支援哪些畫質\n",
    "# print(yt.streams.all())  # all()-->useless\n",
    "print(len(yt.streams))\n",
    "\n",
    "for st in yt.streams:\n",
    "  print(st)"
   ]
  },
  {
   "cell_type": "code",
   "execution_count": 11,
   "metadata": {},
   "outputs": [
    {
     "name": "stdout",
     "output_type": "stream",
     "text": [
      "downdload完成\n"
     ]
    }
   ],
   "source": [
    "# v0.1 for test\n",
    "\n",
    "from pytube import YouTube\n",
    "\n",
    "yt = YouTube('https://www.youtube.com/watch?v=aGZk0nEBWv4')   # Soft Classical Piano - Relaxing Piano Pieces (Luke Faulkner)\n",
    "# yt = YouTube(url) \n",
    "\n",
    "yt_audio = yt.streams.filter(abr='128kbps').first()\n",
    "yt_audio.download()\n",
    "\n",
    "print('downdload完成')"
   ]
  },
  {
   "cell_type": "code",
   "execution_count": 1,
   "metadata": {},
   "outputs": [
    {
     "name": "stdout",
     "output_type": "stream",
     "text": [
      "downdload完成\n"
     ]
    }
   ],
   "source": [
    "# V0.2 for test\n",
    "\n",
    "from pytube import YouTube\n",
    "\n",
    "yt = YouTube('https://www.youtube.com/watch?v=U_oxOhncGe0&t=9456s')   # 最好的古典音樂2023🎼古典音樂，學習和放鬆。莫扎特，貝多芬\n",
    "# yt = YouTube(url) \n",
    "\n",
    "yt_audio = yt.streams.filter(abr='128kbps').first()\n",
    "# yt_audio.download()\n",
    "\n",
    "yt_audio.download(output_path='C:/Users/Lu/Documents/youtube',filename=f'yt_audio_{yt.title}.mp4', skip_existing=True, max_retries=0)\n",
    "\n",
    "print('downdload完成')\n",
    "\n"
   ]
  },
  {
   "cell_type": "code",
   "execution_count": 2,
   "metadata": {},
   "outputs": [
    {
     "name": "stdout",
     "output_type": "stream",
     "text": [
      "downdload < 世界名曲（流浪之歌-聖母頌-天鵝-美的羅斯瑪玲-幽默曲-小步舞曲-夢幻曲-愛之喜-布拉姆斯小夜曲-歎息小夜曲-古諾小夜曲-海頓小夜曲-杜立歌小夜曲-小犬小夜曲-杜鵑小夜曲-皇帝圓舞曲-亦然音樂071） > 完成\n"
     ]
    }
   ],
   "source": [
    "# V0.3 for test\n",
    "\n",
    "from pytube import YouTube\n",
    "\n",
    "yt = YouTube('https://www.youtube.com/watch?v=IgeF8JfotNw')   # 世界名曲（流浪之歌-聖母頌-天鵝-美的羅斯瑪玲-幽默曲-小步舞曲-夢幻曲-愛之喜-布拉姆斯小夜曲-歎息小夜曲-古諾小夜曲-海頓小夜曲-杜立.......)\n",
    "# yt = YouTube(url) \n",
    "\n",
    "yt_audio = yt.streams.filter(abr='128kbps').first()\n",
    "# yt_audio.download()\n",
    "\n",
    "yt_audio.download(output_path='C:/Users/Lu/Documents/youtube',filename=f'yt_audio_{yt.title}.mp4', skip_existing=True, max_retries=0)\n",
    "\n",
    "print(f'downdload < {yt.title} > 完成')"
   ]
  },
  {
   "cell_type": "code",
   "execution_count": 2,
   "metadata": {},
   "outputs": [
    {
     "ename": "OSError",
     "evalue": "[Errno 22] Invalid argument: 'C:/Users/Lu/Documents/youtube\\\\yt_audio_The Best of Tchaikovsky | The Most Famous Classical Music Pieces of All Time.mp4 \\\\w'",
     "output_type": "error",
     "traceback": [
      "\u001b[1;31m---------------------------------------------------------------------------\u001b[0m",
      "\u001b[1;31mOSError\u001b[0m                                   Traceback (most recent call last)",
      "Cell \u001b[1;32mIn[2], line 12\u001b[0m\n\u001b[0;32m      9\u001b[0m yt_audio \u001b[38;5;241m=\u001b[39m yt\u001b[38;5;241m.\u001b[39mstreams\u001b[38;5;241m.\u001b[39mfilter(abr\u001b[38;5;241m=\u001b[39m\u001b[38;5;124m'\u001b[39m\u001b[38;5;124m128kbps\u001b[39m\u001b[38;5;124m'\u001b[39m)\u001b[38;5;241m.\u001b[39mfirst()\n\u001b[0;32m     10\u001b[0m \u001b[38;5;66;03m# yt_audio.download()\u001b[39;00m\n\u001b[1;32m---> 12\u001b[0m \u001b[43myt_audio\u001b[49m\u001b[38;5;241;43m.\u001b[39;49m\u001b[43mdownload\u001b[49m\u001b[43m(\u001b[49m\u001b[43moutput_path\u001b[49m\u001b[38;5;241;43m=\u001b[39;49m\u001b[38;5;124;43m'\u001b[39;49m\u001b[38;5;124;43mC:/Users/Lu/Documents/youtube\u001b[39;49m\u001b[38;5;124;43m'\u001b[39;49m\u001b[43m,\u001b[49m\u001b[43mfilename\u001b[49m\u001b[38;5;241;43m=\u001b[39;49m\u001b[38;5;124;43mf\u001b[39;49m\u001b[38;5;124;43m'\u001b[39;49m\u001b[38;5;124;43myt_audio_\u001b[39;49m\u001b[38;5;132;43;01m{\u001b[39;49;00m\u001b[43myt\u001b[49m\u001b[38;5;241;43m.\u001b[39;49m\u001b[43mtitle\u001b[49m\u001b[38;5;132;43;01m}\u001b[39;49;00m\u001b[38;5;124;43m.mp4 \u001b[39;49m\u001b[38;5;124;43m\\\u001b[39;49m\u001b[38;5;124;43mw\u001b[39;49m\u001b[38;5;124;43m'\u001b[39;49m\u001b[43m,\u001b[49m\u001b[43m \u001b[49m\u001b[43mskip_existing\u001b[49m\u001b[38;5;241;43m=\u001b[39;49m\u001b[38;5;28;43;01mTrue\u001b[39;49;00m\u001b[43m,\u001b[49m\u001b[43m \u001b[49m\u001b[43mmax_retries\u001b[49m\u001b[38;5;241;43m=\u001b[39;49m\u001b[38;5;241;43m0\u001b[39;49m\u001b[43m)\u001b[49m\n\u001b[0;32m     13\u001b[0m \u001b[38;5;66;03m# yt_audio.download(output_path='C:/Users/Lu/Documents/youtube',filename=f'yt_audio.mp4', skip_existing=True, max_retries=0)  #執行ok\u001b[39;00m\n\u001b[0;32m     15\u001b[0m \u001b[38;5;28mprint\u001b[39m(\u001b[38;5;124mf\u001b[39m\u001b[38;5;124m'\u001b[39m\u001b[38;5;124mdowndload < \u001b[39m\u001b[38;5;132;01m{\u001b[39;00myt\u001b[38;5;241m.\u001b[39mtitle\u001b[38;5;132;01m}\u001b[39;00m\u001b[38;5;124m > 完成\u001b[39m\u001b[38;5;124m'\u001b[39m)\n",
      "File \u001b[1;32mc:\\Users\\Lu\\Documents\\GitHub\\__2024_01_08_python_openAPI__\\__youtube_download__\\yt.venv\\lib\\site-packages\\pytube\\streams.py:312\u001b[0m, in \u001b[0;36mStream.download\u001b[1;34m(self, output_path, filename, filename_prefix, skip_existing, timeout, max_retries)\u001b[0m\n\u001b[0;32m    309\u001b[0m bytes_remaining \u001b[38;5;241m=\u001b[39m \u001b[38;5;28mself\u001b[39m\u001b[38;5;241m.\u001b[39mfilesize\n\u001b[0;32m    310\u001b[0m logger\u001b[38;5;241m.\u001b[39mdebug(\u001b[38;5;124mf\u001b[39m\u001b[38;5;124m'\u001b[39m\u001b[38;5;124mdownloading (\u001b[39m\u001b[38;5;132;01m{\u001b[39;00m\u001b[38;5;28mself\u001b[39m\u001b[38;5;241m.\u001b[39mfilesize\u001b[38;5;132;01m}\u001b[39;00m\u001b[38;5;124m total bytes) file to \u001b[39m\u001b[38;5;132;01m{\u001b[39;00mfile_path\u001b[38;5;132;01m}\u001b[39;00m\u001b[38;5;124m'\u001b[39m)\n\u001b[1;32m--> 312\u001b[0m \u001b[38;5;28;01mwith\u001b[39;00m \u001b[38;5;28;43mopen\u001b[39;49m\u001b[43m(\u001b[49m\u001b[43mfile_path\u001b[49m\u001b[43m,\u001b[49m\u001b[43m \u001b[49m\u001b[38;5;124;43m\"\u001b[39;49m\u001b[38;5;124;43mwb\u001b[39;49m\u001b[38;5;124;43m\"\u001b[39;49m\u001b[43m)\u001b[49m \u001b[38;5;28;01mas\u001b[39;00m fh:\n\u001b[0;32m    313\u001b[0m     \u001b[38;5;28;01mtry\u001b[39;00m:\n\u001b[0;32m    314\u001b[0m         \u001b[38;5;28;01mfor\u001b[39;00m chunk \u001b[38;5;129;01min\u001b[39;00m request\u001b[38;5;241m.\u001b[39mstream(\n\u001b[0;32m    315\u001b[0m             \u001b[38;5;28mself\u001b[39m\u001b[38;5;241m.\u001b[39murl,\n\u001b[0;32m    316\u001b[0m             timeout\u001b[38;5;241m=\u001b[39mtimeout,\n\u001b[0;32m    317\u001b[0m             max_retries\u001b[38;5;241m=\u001b[39mmax_retries\n\u001b[0;32m    318\u001b[0m         ):\n\u001b[0;32m    319\u001b[0m             \u001b[38;5;66;03m# reduce the (bytes) remainder by the length of the chunk.\u001b[39;00m\n",
      "\u001b[1;31mOSError\u001b[0m: [Errno 22] Invalid argument: 'C:/Users/Lu/Documents/youtube\\\\yt_audio_The Best of Tchaikovsky | The Most Famous Classical Music Pieces of All Time.mp4 \\\\w'"
     ]
    }
   ],
   "source": [
    "# V0.4 for test\n",
    "\n",
    "from pytube import YouTube\n",
    "\n",
    "#url = input(\"Enter the url of media : \")   \n",
    "url = 'https://www.youtube.com/watch?v=StfwZUc2DaQ'  # 曲目:Tchaikovsky最好的|有史以來最著名的古典音樂作品\n",
    "yt = YouTube(url)   \n",
    "\n",
    "yt_audio = yt.streams.filter(abr='128kbps').first()\n",
    "# yt_audio.download()\n",
    "\n",
    "yt_audio.download(output_path='C:/Users/Lu/Documents/youtube',filename=f'yt_audio_{yt.title}.mp4 \\w', skip_existing=True, max_retries=0)\n",
    "# yt_audio.download(output_path='C:/Users/Lu/Documents/youtube',filename=f'yt_audio.mp4', skip_existing=True, max_retries=0)  #執行ok\n",
    "\n",
    "print(f'downdload < {yt.title} > 完成')"
   ]
  },
  {
   "cell_type": "code",
   "execution_count": 14,
   "metadata": {},
   "outputs": [
    {
     "name": "stdout",
     "output_type": "stream",
     "text": [
      "downdload < The Best of Tchaikovsky | The Most Famous Classical Music Pieces of All Time > 完成\n"
     ]
    }
   ],
   "source": [
    "# V0.41 for test\n",
    "\n",
    "from pytube import YouTube\n",
    "\n",
    "#url = input(\"Enter the url of media : \")   \n",
    "url = 'https://www.youtube.com/watch?v=StfwZUc2DaQ'  # 曲目:Tchaikovsky最好的|有史以來最著名的古典音樂作品\n",
    "yt = YouTube(url)   \n",
    "\n",
    "yt_audio = yt.streams.filter(abr='128kbps').first()\n",
    "# yt_audio.download()\n",
    "\n",
    "# yt_audio.download(output_path='C:/Users/Lu/Documents/youtube',filename=f'yt_audio_{yt.title}.mp4', skip_existing=True, max_retries=0)   #執行NG-OSError: [Errno 22] Invalid argument:\n",
    "# yt_audio.download(output_path='C:/Users/Lu/Documents/youtube',filename=f'yt_audio.mp4', skip_existing=True, max_retries=0)  #執行ok\n",
    "\n",
    "# yt_title=yt.title[:15]\n",
    "# yt_list=yt_title[:10]\n",
    "\n",
    "#yt_audio.download(output_path='C:/Users/Lu/Documents/youtube',filename=f'yt_audio_{yt.title[:25]}.mp4', skip_existing=True, max_retries=0) #執行NG\n",
    "\n",
    "\n",
    "yt_audio.download(output_path='C:/Users/Lu/Documents/youtube',filename=f'yt_audio_{yt.title[:23]}.mp4', skip_existing=True, max_retries=0)   #執行ok\n",
    "\n",
    "print(f'downdload < {yt.title} > 完成')"
   ]
  },
  {
   "cell_type": "code",
   "execution_count": 32,
   "metadata": {},
   "outputs": [
    {
     "name": "stdout",
     "output_type": "stream",
     "text": [
      "全名 :  The Best of Tchaikovsky | The Most Famous Classical Music Pieces of All Time\n",
      "簡稱 :  The Best of Tchaikovsky \n",
      "downdload < The Best of Tchaikovsky | The Most Famous Classical Music Pieces of All Time > 完成\n"
     ]
    }
   ],
   "source": [
    "# V0.42 for test_1\n",
    "\n",
    "from pytube import YouTube\n",
    "import re\n",
    "\n",
    "#url = input(\"Enter the url of media : \")   \n",
    "url = 'https://www.youtube.com/watch?v=StfwZUc2DaQ'  # 曲目:Tchaikovsky最好的|有史以來最著名的古典音樂作品\n",
    "yt = YouTube(url)   \n",
    "\n",
    "#yt_titles = yt.title\n",
    "print('全名 : ',yt.title)\n",
    "yt_title = re.search(r'[^|]+',yt.title).group()\n",
    "print('簡稱 : ',yt_title)\n",
    "\n",
    "\n",
    "yt_audio = yt.streams.filter(abr='128kbps').first()\n",
    "\n",
    "yt_audio.download(output_path='C:/Users/Lu/Documents/youtube',filename=f'yt_audio_{yt_title}.mp4', skip_existing=True, max_retries=0)   #執行ok\n",
    "\n",
    "# yt_audio.download(output_path='C:/Users/Lu/Documents/youtube',filename=f'yt_audio_{yt.title[:23]}.mp4', skip_existing=True, max_retries=0)   #執行ok\n",
    "\n",
    "print(f'downdload < {yt.title} > 完成')\n",
    "# 需時 : 47.1s"
   ]
  },
  {
   "cell_type": "code",
   "execution_count": 36,
   "metadata": {},
   "outputs": [
    {
     "name": "stdout",
     "output_type": "stream",
     "text": [
      "全名 :  The Best of Tchaikovsky | The Most Famous Classical Music Pieces of All Time\n",
      "簡稱 :  The Best of Tchaikovsky \n",
      "downdload < The Best of Tchaikovsky | The Most Famous Classical Music Pieces of All Time > 完成\n"
     ]
    }
   ],
   "source": [
    "# V0.42 for test_1.1\n",
    "\n",
    "from pytube import YouTube\n",
    "import re\n",
    "\n",
    "#url = input(\"Enter the url of media : \")   \n",
    "url = 'https://www.youtube.com/watch?v=StfwZUc2DaQ'  # 曲目:Tchaikovsky最好的|有史以來最著名的古典音樂作品\n",
    "yt = YouTube(url)   \n",
    "\n",
    "#yt_titles = yt.title\n",
    "print('全名 : ',yt.title)\n",
    "yt_title = re.search(r'[^|]*',yt.title).group()\n",
    "print('簡稱 : ',yt_title)\n",
    "\n",
    "\n",
    "yt_audio = yt.streams.filter(abr='128kbps').first()\n",
    "\n",
    "yt_audio.download(output_path='C:/Users/Lu/Documents/youtube',filename=f'yt_audio_{yt_title}.mp4', skip_existing=True, max_retries=0)   #執行ok\n",
    "\n",
    "\n",
    "print(f'downdload < {yt.title} > 完成')"
   ]
  },
  {
   "cell_type": "code",
   "execution_count": 34,
   "metadata": {},
   "outputs": [
    {
     "name": "stdout",
     "output_type": "stream",
     "text": [
      "全名 :  The Best \"Chopin\" Classical Piano Music｜Relaxing Studying Music\n",
      "簡稱 :  The Best \n",
      "downdload < The Best \"Chopin\" Classical Piano Music｜Relaxing Studying Music > 完成\n"
     ]
    }
   ],
   "source": [
    "# V0.42 for test_2\n",
    "\n",
    "from pytube import YouTube\n",
    "import re\n",
    "\n",
    "#url = input(\"Enter the url of media : \")   \n",
    "url = 'https://www.youtube.com/watch?v=VBNUwMd_eF4&t=4029s'  # 曲目:T蕭邦 一定要聽的鋼琴古典樂 ｜放鬆音樂 讀書 專注 The Best \"Chopin\" Classical Piano Music｜Relaxing Studying Music\n",
    "yt = YouTube(url)   \n",
    "\n",
    "#yt_titles = yt.title\n",
    "print('全名 : ',yt.title)\n",
    "yt_title = re.search(r'[^\"|]+',yt.title).group()\n",
    "print('簡稱 : ',yt_title)\n",
    "\n",
    "\n",
    "yt_audio = yt.streams.filter(abr='128kbps').first()\n",
    "\n",
    "yt_audio.download(output_path='C:/Users/Lu/Documents/youtube',filename=f'yt_audio_{yt_title}.mp4', skip_existing=True, max_retries=0)   #執行ok\n",
    "\n",
    "# yt_audio.download(output_path='C:/Users/Lu/Documents/youtube',filename=f'yt_audio_{yt.title[:23]}.mp4', skip_existing=True, max_retries=0)   #執行ok\n",
    "\n",
    "print(f'downdload < {yt.title} > 完成')"
   ]
  },
  {
   "cell_type": "code",
   "execution_count": 43,
   "metadata": {},
   "outputs": [
    {
     "name": "stdout",
     "output_type": "stream",
     "text": [
      "全名 :  The Best \"Chopin\" Classical Piano Music｜Relaxing Studying Music\n",
      "簡稱 :  The Best \n",
      "downdload < The Best \"Chopin\" Classical Piano Music｜Relaxing Studying Music > 完成\n"
     ]
    }
   ],
   "source": [
    "# V0.42 for test_2.1\n",
    "\n",
    "from pytube import YouTube\n",
    "import re\n",
    "\n",
    "#url = input(\"Enter the url of media : \")   \n",
    "url = 'https://www.youtube.com/watch?v=VBNUwMd_eF4&t=4029s'  # 曲目:T蕭邦 一定要聽的鋼琴古典樂 ｜放鬆音樂 讀書 專注 The Best \"Chopin\" Classical Piano Music｜Relaxing Studying Music\n",
    "yt = YouTube(url)   \n",
    "\n",
    "print('全名 : ',yt.title)\n",
    "yt_title = re.search(r'[^\"|]+',yt.title).group()\n",
    "print('簡稱 : ',yt_title)\n",
    "\n",
    "\n",
    "yt_audio = yt.streams.filter(abr='128kbps').first()\n",
    "\n",
    "yt_audio.download(output_path='C:/Users/Lu/Documents/youtube',filename=f'yt_audio_{yt_title}.mp4', skip_existing=True, max_retries=0)   #執行ok\n",
    "\n",
    "print(f'downdload < {yt.title} > 完成')"
   ]
  },
  {
   "cell_type": "code",
   "execution_count": 52,
   "metadata": {},
   "outputs": [
    {
     "name": "stdout",
     "output_type": "stream",
     "text": [
      "全名 :  The Best \"Chopin\" Classical Piano Music｜Relaxing Studying Music\n",
      "The Best _Chopin_ Classical Piano Music｜Relaxing Studying Music\n",
      "簡稱 :  The Best _Chopin_ Classical Piano Music\n",
      "downdload < The Best \"Chopin\" Classical Piano Music｜Relaxing Studying Music > 完成\n"
     ]
    }
   ],
   "source": [
    "# V0.42 for test_3 for window file formate \n",
    "\n",
    "from pytube import YouTube\n",
    "import re\n",
    "\n",
    "#url = input(\"Enter the url of media : \")   \n",
    "url = 'https://www.youtube.com/watch?v=VBNUwMd_eF4&t=4029s'  # 曲目:T蕭邦 一定要聽的鋼琴古典樂 ｜放鬆音樂 讀書 專注 The Best \"Chopin\" Classical Piano Music｜Relaxing Studying Music\n",
    "yt = YouTube(url)   \n",
    "\n",
    "#yt_titles = yt.title\n",
    "print('全名 : ',yt.title)\n",
    "#yt_title = re.search(r'[^\"|]+',yt.title).group()\n",
    "#yt_title = re.sub(r'[^|]+ |[^|]',r'_',yt.title)\n",
    "# yt_title = re.search(r'[A-Za-z0-9 \"]+',yt.title).group()  #OSError: [Errno 22] Invalid argument\n",
    "yt_titles = re.sub('\"','_',yt.title)\n",
    "print(yt_titles)\n",
    "yt_title = re.search(r'[A-Za-z0-9_ ]+',yt_titles).group()\n",
    "# print(yt_titles)\n",
    "print('簡稱 : ',yt_title)\n",
    "\n",
    "yt_audio = yt.streams.filter(abr='128kbps').first()\n",
    "\n",
    "yt_audio.download(output_path='C:/Users/Lu/Documents/youtube',filename=f'yt_audio_{yt_title}.mp4', skip_existing=True, max_retries=0)   #執行ok\n",
    "\n",
    "print(f'downdload < {yt.title} > 完成')"
   ]
  },
  {
   "cell_type": "code",
   "execution_count": 67,
   "metadata": {},
   "outputs": [
    {
     "name": "stdout",
     "output_type": "stream",
     "text": [
      "全名 :  The Best \"Chopin\" Classical Piano Music｜Relaxing Studying Music\n",
      "/\n",
      "The Best \"Chopin\" Classical Piano Music｜Relaxing Studying Music\n",
      ":\n",
      "The Best \"Chopin\" Classical Piano Music｜Relaxing Studying Music\n",
      "\"\n",
      "The Best _Chopin_ Classical Piano Music｜Relaxing Studying Music\n",
      "<\n",
      "The Best _Chopin_ Classical Piano Music｜Relaxing Studying Music\n",
      ">\n",
      "The Best _Chopin_ Classical Piano Music｜Relaxing Studying Music\n",
      "\\?\n",
      "The Best _Chopin_ Classical Piano Music｜Relaxing Studying Music\n",
      "\\*\n",
      "The Best _Chopin_ Classical Piano Music｜Relaxing Studying Music\n"
     ]
    }
   ],
   "source": [
    "# V0.42 for test_3.1 for window file formate \n",
    "\n",
    "from pytube import YouTube\n",
    "import re\n",
    "\n",
    "#url = input(\"Enter the url of media : \")   \n",
    "url = 'https://www.youtube.com/watch?v=VBNUwMd_eF4&t=4029s'  # 曲目:T蕭邦 一定要聽的鋼琴古典樂 ｜放鬆音樂 讀書 專注 The Best \"Chopin\" Classical Piano Music｜Relaxing Studying Music\n",
    "yt = YouTube(url)   \n",
    "\n",
    "#yt_titles = yt.title\n",
    "print('全名 : ',yt.title)\n",
    "list=['/',':','\"','<','>','\\?','\\*']\n",
    "yt_titles = yt.title\n",
    "for i in list:\n",
    "    yt_title = re.sub(f'{i}','_',yt_titles)\n",
    "    yt_titles = yt_title\n",
    "    print(i)\n",
    "    print(yt_titles)\n",
    "#yt_title = re.search(r'[A-Za-z0-9_ ]+',yt_titles).group()\n",
    "# print(yt_titles)\n",
    "#print('簡稱 : ',yt_title)\n",
    "\n",
    "#yt_audio = yt.streams.filter(abr='128kbps').first()\n",
    "\n",
    "#yt_audio.download(output_path='C:/Users/Lu/Documents/youtube',filename=f'yt_audio_{yt_title}.mp4', skip_existing=True, max_retries=0)   #執行ok\n",
    "\n",
    "#print(f'downdload < {yt.title} > 完成')"
   ]
  },
  {
   "cell_type": "code",
   "execution_count": 6,
   "metadata": {},
   "outputs": [
    {
     "name": "stdout",
     "output_type": "stream",
     "text": [
      "/\n",
      "曲目:T蕭邦 一定要聽的鋼琴古典樂 ｜放鬆音樂 讀書 專注 The Best \"Chopin\" Classical Piano Music｜Relaxing Studying Music\n",
      ":\n",
      "曲目_T蕭邦 一定要聽的鋼琴古典樂 ｜放鬆音樂 讀書 專注 The Best \"Chopin\" Classical Piano Music｜Relaxing Studying Music\n",
      "\"\n",
      "曲目_T蕭邦 一定要聽的鋼琴古典樂 ｜放鬆音樂 讀書 專注 The Best _Chopin_ Classical Piano Music｜Relaxing Studying Music\n",
      "<\n",
      "曲目_T蕭邦 一定要聽的鋼琴古典樂 ｜放鬆音樂 讀書 專注 The Best _Chopin_ Classical Piano Music｜Relaxing Studying Music\n",
      ">\n",
      "曲目_T蕭邦 一定要聽的鋼琴古典樂 ｜放鬆音樂 讀書 專注 The Best _Chopin_ Classical Piano Music｜Relaxing Studying Music\n",
      "\\?\n",
      "曲目_T蕭邦 一定要聽的鋼琴古典樂 ｜放鬆音樂 讀書 專注 The Best _Chopin_ Classical Piano Music｜Relaxing Studying Music\n",
      "\\*\n",
      "曲目_T蕭邦 一定要聽的鋼琴古典樂 ｜放鬆音樂 讀書 專注 The Best _Chopin_ Classical Piano Music｜Relaxing Studying Music\n",
      " | \n",
      "曲目_T蕭邦_一定要聽的鋼琴古典樂_｜放鬆音樂_讀書_專注_The_Best__Chopin__Classical_Piano_Music｜Relaxing_Studying_Music\n"
     ]
    }
   ],
   "source": [
    "# V0.42 for test_3.2 for window file formate \n",
    "\n",
    "import re\n",
    "\n",
    "ytTitle= '曲目:T蕭邦 一定要聽的鋼琴古典樂 ｜放鬆音樂 讀書 專注 The Best \"Chopin\" Classical Piano Music｜Relaxing Studying Music'\n",
    "\n",
    "#print('全名 : ',ytTitle)\n",
    "list=['/',':','\"','<','>','\\?','\\*',' | ']\n",
    "yt_titles = ytTitle\n",
    "for i in list:\n",
    "    yt_title = re.sub(f'{i}','_',yt_titles)\n",
    "    yt_titles = yt_title\n",
    "    print(i)\n",
    "    print(yt_titles)"
   ]
  },
  {
   "cell_type": "code",
   "execution_count": 19,
   "metadata": {},
   "outputs": [
    {
     "name": "stdout",
     "output_type": "stream",
     "text": [
      "<class 'str'>\n",
      "/\n",
      "曲目:T蕭邦_ 一定要聽的鋼琴古典樂? ｜<放鬆音樂> *讀書 專注 The Best \"Chopin\" Classical Piano Music｜Relaxing Studying Music\n",
      ":\n",
      "曲目_T蕭邦_ 一定要聽的鋼琴古典樂? ｜<放鬆音樂> *讀書 專注 The Best \"Chopin\" Classical Piano Music｜Relaxing Studying Music\n",
      "\"\n",
      "曲目_T蕭邦_ 一定要聽的鋼琴古典樂? ｜<放鬆音樂> *讀書 專注 The Best _Chopin_ Classical Piano Music｜Relaxing Studying Music\n",
      "<\n",
      "曲目_T蕭邦_ 一定要聽的鋼琴古典樂? ｜_放鬆音樂> *讀書 專注 The Best _Chopin_ Classical Piano Music｜Relaxing Studying Music\n",
      ">\n",
      "曲目_T蕭邦_ 一定要聽的鋼琴古典樂? ｜_放鬆音樂_ *讀書 專注 The Best _Chopin_ Classical Piano Music｜Relaxing Studying Music\n",
      "\\?\n",
      "曲目_T蕭邦_ 一定要聽的鋼琴古典樂_ ｜_放鬆音樂_ *讀書 專注 The Best _Chopin_ Classical Piano Music｜Relaxing Studying Music\n",
      "\\*\n",
      "曲目_T蕭邦_ 一定要聽的鋼琴古典樂_ ｜_放鬆音樂_ _讀書 專注 The Best _Chopin_ Classical Piano Music｜Relaxing Studying Music\n",
      " \\|\n",
      "曲目_T蕭邦_ 一定要聽的鋼琴古典樂_ ｜_放鬆音樂_ _讀書 專注 The Best _Chopin_ Classical Piano Music｜Relaxing Studying Music\n"
     ]
    }
   ],
   "source": [
    "# V0.42 for test_3.3 for window file formate \n",
    "\n",
    "import re\n",
    "ytTitle= '曲目:T蕭邦/ 一定要聽的鋼琴古典樂? ｜<放鬆音樂> *讀書 專注 The Best \"Chopin\" Classical Piano Music｜Relaxing Studying Music'\n",
    "print(type(ytTitle))\n",
    "\n",
    "#print('全名 : ',ytTitle)\n",
    "list=['/',':','\"','<','>','\\?','\\*',' \\|']\n",
    "yt_titles = ytTitle\n",
    "for i in list:\n",
    "    yt_title = re.sub(f'{i}','_',yt_titles)\n",
    "    yt_titles = yt_title\n",
    "    print(i)\n",
    "    print(yt_titles)"
   ]
  },
  {
   "cell_type": "code",
   "execution_count": 20,
   "metadata": {},
   "outputs": [
    {
     "name": "stdout",
     "output_type": "stream",
     "text": [
      "<class 'str'>\n",
      "曲目:T蕭邦/ 一定要聽的鋼琴古典樂? ｜<放鬆音樂> \\*讀書 專注 The Best \"Chopin\" Classical Piano Music｜Relaxing Studying Music\n"
     ]
    }
   ],
   "source": [
    "# V0.42 for test_3.4 for window file formate --> pass\n",
    "# How to escape special characters of a string with single backslashes [duplicate]\n",
    "# https://stackoverflow.com/questions/18935754/how-to-escape-special-characters-of-a-string-with-single-backslashes\n",
    "\n",
    "import re\n",
    "ytTitle= '曲目:T蕭邦/ 一定要聽的鋼琴古典樂? ｜<放鬆音樂> *讀書 專注 The Best \"Chopin\" Classical Piano Music｜Relaxing Studying Music'\n",
    "print(type(ytTitle))\n",
    "list=['/',':','\"','<','>','\\?','\\*',' \\|']\n",
    "escaped = ytTitle.translate(str.maketrans({\"-\":  r\"\\-\",\n",
    "                                           \"]\":  r\"\\]\",\n",
    "                                          \"\\\\\": r\"\\\\\",\n",
    "                                           \"^\":  r\"\\^\",\n",
    "                                           \"$\":  r\"\\$\",\n",
    "                                           \"*\":  r\"\\*\",\n",
    "                                           \".\":  r\"\\.\",\n",
    "                                           \"|\":  r\"\\|\"}))\n",
    "print(escaped)"
   ]
  },
  {
   "cell_type": "markdown",
   "metadata": {},
   "source": [
    "=====================================================================================\n",
    "+++++++++++++++++++++++++++++++++++++++++++++++++++++++++++++++++++++++++++++++++++++\n",
    "pass"
   ]
  },
  {
   "cell_type": "code",
   "execution_count": 29,
   "metadata": {},
   "outputs": [
    {
     "name": "stdout",
     "output_type": "stream",
     "text": [
      "The Best of Tchaikovsky | The Most Famous Classical Music Pieces of All Time\n",
      "The Best of Tchaikovsky | The Most Famous Classical Music Pieces of All Time\n",
      "The Best of Tchaikovsky \n",
      "The Best of Tchaikovsky \n"
     ]
    }
   ],
   "source": [
    "# V0.5  --> pass\n",
    "from pytube import YouTube\n",
    "import re\n",
    "\n",
    "#url = input(\"Enter the url of media : \")   \n",
    "url = 'https://www.youtube.com/watch?v=StfwZUc2DaQ'  # 曲目:Tchaikovsky最好的|有史以來最著名的古典音樂作品\n",
    "yt = YouTube(url)   \n",
    "\n",
    "yt_title = yt.title\n",
    "print(yt_title)\n",
    "\n",
    "yt_titles = re.search(r'\\D+',yt_title).group()\n",
    "print(yt_titles)\n",
    "\n",
    "yt_titles = re.search(r'[A-Za-z0-9 ]+',yt_title).group()\n",
    "print(yt_titles)\n",
    "\n",
    "#yt_titles = re.search(r'[^|]+',yt_title).group()\n",
    "print(yt_titles)"
   ]
  },
  {
   "cell_type": "code",
   "execution_count": 31,
   "metadata": {},
   "outputs": [
    {
     "name": "stdout",
     "output_type": "stream",
     "text": [
      "世界名曲（流浪之歌-聖母頌-天鵝-美的羅斯瑪玲-幽默曲-小步舞曲-夢幻曲-愛之喜-布拉姆斯小夜曲-歎息小夜曲-古諾小夜曲-海頓小夜曲-杜立歌小夜曲-小犬小夜曲-杜鵑小夜曲-皇帝圓舞曲-亦然音樂071）\n",
      "世界名曲（流浪之歌-聖母頌-天鵝-美的羅斯瑪玲-幽默曲-小步舞曲-夢幻曲-愛之喜-布拉姆斯小夜曲-歎息小夜曲-古諾小夜曲-海頓小夜曲-杜立歌小夜曲-小犬小夜曲-杜鵑小夜曲-皇帝圓舞曲-亦然音樂071）\n",
      "downdload < 世界名曲（流浪之歌-聖母頌-天鵝-美的羅斯瑪玲-幽默曲-小步舞曲-夢幻曲-愛之喜-布拉姆斯小夜曲-歎息小夜曲-古諾小夜曲-海頓小夜曲-杜立歌小夜曲-小犬小夜曲-杜鵑小夜曲-皇帝圓舞曲-亦然音樂071） > 完成\n"
     ]
    }
   ],
   "source": [
    "# V0.5.1 --> pass\n",
    "from pytube import YouTube\n",
    "import re\n",
    "\n",
    "yt = YouTube('https://www.youtube.com/watch?v=IgeF8JfotNw')   # 世界名曲（流浪之歌-聖母頌-天鵝-美的羅斯瑪玲-幽默曲-小步舞曲-夢幻曲-愛之喜-布拉姆斯小夜曲-歎息小夜曲-古諾小夜曲-海頓小夜曲-杜立.......)\n",
    "# yt = YouTube(url) \n",
    "\n",
    "yt_audio = yt.streams.filter(abr='128kbps').first()\n",
    "# yt_audio.download()\n",
    "\n",
    "yt_title = yt.title\n",
    "print(yt_title)\n",
    "\n",
    "yt_titles = re.search(r'[^|]+',yt_title).group()\n",
    "print(yt_titles)\n",
    "\n",
    "yt_audio.download(output_path='C:/Users/Lu/Documents/youtube',filename=f'yt_audio_{yt_titles}.mp4', skip_existing=True, max_retries=0)\n",
    "\n",
    "print(f'downdload < {yt.title} > 完成')"
   ]
  },
  {
   "cell_type": "markdown",
   "metadata": {},
   "source": [
    "\n",
    "pass               ^^^^^^^^^^^\n",
    "+++++++++++++++++++++++++++++++++++++++++++++++++++++++++++++++++++++++++++++++++++++\n",
    "=====================================================================================\n"
   ]
  },
  {
   "cell_type": "code",
   "execution_count": 27,
   "metadata": {},
   "outputs": [
    {
     "name": "stdout",
     "output_type": "stream",
     "text": [
      "全名 :  The Best \"Chopin\" Classical Piano Music｜Relaxing Studying Music\n",
      "The Best _Chopin_ Classical Piano Music｜Relaxing Studying Music\n",
      "簡稱 :  The Best _Chopin_ Classical Piano Music\n",
      "downdload < The Best \"Chopin\" Classical Piano Music｜Relaxing Studying Music > 完成\n"
     ]
    }
   ],
   "source": [
    "# V0.6 --> 2024.06.19 final\n",
    "# from V0.42 for test_3.1 for window file formate \n",
    "\n",
    "from pytube import YouTube\n",
    "import re\n",
    "\n",
    "#url = input(\"Enter the url of media : \")   \n",
    "url = 'https://www.youtube.com/watch?v=VBNUwMd_eF4&t=4029s'  # 曲目:T蕭邦 一定要聽的鋼琴古典樂 ｜放鬆音樂 讀書 專注 The Best \"Chopin\" Classical Piano Music｜Relaxing Studying Music\n",
    "yt = YouTube(url)   \n",
    "\n",
    "#yt_titles = yt.title\n",
    "print('全名 : ',yt.title)\n",
    "list=['/',':','\"','<','>','\\?','\\*']\n",
    "yt_titles = yt.title\n",
    "for i in list:\n",
    "    yt_title = re.sub(f'{i}','_',yt_titles)\n",
    "    yt_titles = yt_title\n",
    "    # print(i)\n",
    "print(yt_titles)\n",
    "\n",
    "yt_title = re.search(r'[A-Za-z0-9_ ]+',yt_titles).group()\n",
    "# print(yt_titles)\n",
    "print('簡稱 : ',yt_title)\n",
    "\n",
    "yt_audio = yt.streams.filter(abr='128kbps').first()\n",
    "\n",
    "yt_audio.download(output_path='C:/Users/Lu/Documents/youtube',filename=f'yt_audio_{yt_title}.mp4', skip_existing=True, max_retries=0)   #執行ok\n",
    "\n",
    "print(f'downdload < {yt.title} > 完成')"
   ]
  }
 ],
 "metadata": {
  "kernelspec": {
   "display_name": "yt.venv",
   "language": "python",
   "name": "python3"
  },
  "language_info": {
   "codemirror_mode": {
    "name": "ipython",
    "version": 3
   },
   "file_extension": ".py",
   "mimetype": "text/x-python",
   "name": "python",
   "nbconvert_exporter": "python",
   "pygments_lexer": "ipython3",
   "version": "3.10.8"
  }
 },
 "nbformat": 4,
 "nbformat_minor": 2
}
