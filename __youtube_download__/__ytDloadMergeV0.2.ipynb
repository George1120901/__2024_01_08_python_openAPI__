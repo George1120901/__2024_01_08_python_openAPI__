{
 "cells": [
  {
   "cell_type": "markdown",
   "metadata": {},
   "source": [
    "### 下載Youtube影片\n",
    "Pytube：Youtube影片下載"
   ]
  },
  {
   "cell_type": "code",
   "execution_count": 2,
   "metadata": {},
   "outputs": [
    {
     "name": "stdout",
     "output_type": "stream",
     "text": [
      "2023_11_22_下午\n",
      "10960\n",
      "徐國堂\n",
      "https://www.youtube.com/channel/UCKd_tuM8M79b1GAwAlTi9ZA\n",
      "https://i.ytimg.com/vi/W7-hxMT-ey0/hq720.jpg?sqp=-oaymwEmCIAKENAF8quKqQMa8AEB-AH-CYAC0AWKAgwIABABGGUgZShlMA8=&rs=AOn4CLAFRnTo9OvBKWuazouStdm1t_F3Mg\n",
      "26\n",
      "[<Stream: itag=\"18\" mime_type=\"video/mp4\" res=\"360p\" fps=\"30fps\" vcodec=\"avc1.42001E\" acodec=\"mp4a.40.2\" progressive=\"True\" type=\"video\">, <Stream: itag=\"22\" mime_type=\"video/mp4\" res=\"720p\" fps=\"30fps\" vcodec=\"avc1.64001F\" acodec=\"mp4a.40.2\" progressive=\"True\" type=\"video\">, <Stream: itag=\"137\" mime_type=\"video/mp4\" res=\"1080p\" fps=\"30fps\" vcodec=\"avc1.640028\" progressive=\"False\" type=\"video\">, <Stream: itag=\"136\" mime_type=\"video/mp4\" res=\"720p\" fps=\"30fps\" vcodec=\"avc1.64001f\" progressive=\"False\" type=\"video\">, <Stream: itag=\"134\" mime_type=\"video/mp4\" res=\"360p\" fps=\"30fps\" vcodec=\"avc1.4d401e\" progressive=\"False\" type=\"video\">, <Stream: itag=\"160\" mime_type=\"video/mp4\" res=\"144p\" fps=\"30fps\" vcodec=\"avc1.4d400c\" progressive=\"False\" type=\"video\">, <Stream: itag=\"139\" mime_type=\"audio/mp4\" abr=\"48kbps\" acodec=\"mp4a.40.5\" progressive=\"False\" type=\"audio\">, <Stream: itag=\"140\" mime_type=\"audio/mp4\" abr=\"128kbps\" acodec=\"mp4a.40.2\" progressive=\"False\" type=\"audio\">, <Stream: itag=\"251\" mime_type=\"audio/webm\" abr=\"160kbps\" acodec=\"opus\" progressive=\"False\" type=\"audio\">]\n",
      "9\n",
      "<Stream: itag=\"18\" mime_type=\"video/mp4\" res=\"360p\" fps=\"30fps\" vcodec=\"avc1.42001E\" acodec=\"mp4a.40.2\" progressive=\"True\" type=\"video\">\n",
      "<Stream: itag=\"22\" mime_type=\"video/mp4\" res=\"720p\" fps=\"30fps\" vcodec=\"avc1.64001F\" acodec=\"mp4a.40.2\" progressive=\"True\" type=\"video\">\n",
      "<Stream: itag=\"137\" mime_type=\"video/mp4\" res=\"1080p\" fps=\"30fps\" vcodec=\"avc1.640028\" progressive=\"False\" type=\"video\">\n",
      "<Stream: itag=\"136\" mime_type=\"video/mp4\" res=\"720p\" fps=\"30fps\" vcodec=\"avc1.64001f\" progressive=\"False\" type=\"video\">\n",
      "<Stream: itag=\"134\" mime_type=\"video/mp4\" res=\"360p\" fps=\"30fps\" vcodec=\"avc1.4d401e\" progressive=\"False\" type=\"video\">\n",
      "<Stream: itag=\"160\" mime_type=\"video/mp4\" res=\"144p\" fps=\"30fps\" vcodec=\"avc1.4d400c\" progressive=\"False\" type=\"video\">\n",
      "<Stream: itag=\"139\" mime_type=\"audio/mp4\" abr=\"48kbps\" acodec=\"mp4a.40.5\" progressive=\"False\" type=\"audio\">\n",
      "<Stream: itag=\"140\" mime_type=\"audio/mp4\" abr=\"128kbps\" acodec=\"mp4a.40.2\" progressive=\"False\" type=\"audio\">\n",
      "<Stream: itag=\"251\" mime_type=\"audio/webm\" abr=\"160kbps\" acodec=\"opus\" progressive=\"False\" type=\"audio\">\n"
     ]
    }
   ],
   "source": [
    "# 使用模組\n",
    "from pytube import YouTube\n",
    "\n",
    "url='https://youtube.com/live/W7-hxMT-ey0'\n",
    "yt = YouTube(url)  # # 2023_11_22_上午\n",
    "\n",
    "# 影片格式分析\n",
    "print(yt.title)           # 影片標題\n",
    "print(yt.length)          # 影片長度 ( 秒 )\n",
    "print(yt.author)          # 影片作者\n",
    "print(yt.channel_url)     # 影片作者頻道網址\n",
    "print(yt.thumbnail_url)   # 影片縮圖網址\n",
    "print(yt.views)           # 影片觀看數\n",
    "\n",
    "# 分析\n",
    "print(yt.streams)  # 影片支援哪些畫質\n",
    "# print(yt.streams.all())  # all()-->useless\n",
    "print(len(yt.streams))\n",
    "\n",
    "for st in yt.streams:\n",
    "  print(st)\n"
   ]
  },
  {
   "cell_type": "code",
   "execution_count": 2,
   "metadata": {},
   "outputs": [
    {
     "name": "stdout",
     "output_type": "stream",
     "text": [
      "python_2023_11_22_下午_itag(140)完成\n",
      "python_2023_11_22_下午_itag(137)完成\n",
      "downdload完成\n"
     ]
    }
   ],
   "source": [
    "# 用itag分別下載聲音&影像  _ ok\n",
    "## audio(itag=140) 音訊取樣率44KHz\n",
    "## vedio(itag=137) 為1080p\n",
    "## 使用 yt.title 為檔名\n",
    "from pytube import YouTube\n",
    "\n",
    "#yt = YouTube('https://youtube.com/live/z7OxK07nlFk')   # Ex.2023_11_22_下午\n",
    "yt = YouTube(url) \n",
    "\n",
    "yt_title=yt.title\n",
    "itag_Audio = 140\n",
    "itag_Vedio = 137\n",
    "itag_List = [itag_Audio,itag_Vedio]\n",
    "for i in itag_List:\n",
    "    stream = yt.streams.get_by_itag(i)\n",
    "    stream.download(output_path='C:/Users/Lu/Documents/youtube',filename=f'python_{yt_title}_itag({i}).mp4', skip_existing=True, max_retries=0)\n",
    "    print(f'python_{yt_title}_itag({i})完成')\n",
    "print('downdload完成')"
   ]
  },
  {
   "cell_type": "code",
   "execution_count": 3,
   "metadata": {},
   "outputs": [
    {
     "name": "stdout",
     "output_type": "stream",
     "text": [
      "合併成功！輸出文件位於: C:/Users/Lu/Documents/youtube/python_2023_11_22_下午_itag.mp4\n"
     ]
    }
   ],
   "source": [
    "#  可成功完成 vedio+audio 之 merage\n",
    "\n",
    "import subprocess\n",
    "\n",
    "def merge_video_and_audio(video_path, audio_path, output_path):\n",
    "    command = [\n",
    "        'ffmpeg',\n",
    "        '-i', video_path,\n",
    "        '-i', audio_path,\n",
    "        '-c', 'copy',\n",
    "        '-map', '0:v',\n",
    "        '-map', '1:a',\n",
    "        output_path\n",
    "    ]\n",
    "    \n",
    "    try:\n",
    "        result = subprocess.run(command, check=True, stdout=subprocess.PIPE, stderr=subprocess.PIPE, text=True, encoding='utf-8')\n",
    "        print(\"合併成功！輸出文件位於:\", output_path)\n",
    "    except subprocess.CalledProcessError as e:\n",
    "        print(\"ffmpeg合併過程中發生錯誤:\", e)\n",
    "        if e.stderr:\n",
    "            print(\"ffmpeg命令輸出:\", e.stderr)\n",
    "        else:\n",
    "            print(\"無法獲取 ffmpeg 錯誤輸出。\")\n",
    "\n",
    "merge_video_and_audio(f'C:/Users/Lu/Documents/youtube/python_{yt_title}_itag({itag_Vedio}).mp4', f'C:/Users/Lu/Documents/youtube/python_{yt_title}_itag({itag_Audio}).mp4', f'C:/Users/Lu/Documents/youtube/python_{yt_title}_itag.mp4')"
   ]
  },
  {
   "cell_type": "markdown",
   "metadata": {},
   "source": [
    "+++++++++++++++++++++++++++++++++++++++++++++++++++++++++++++++++++++++++++++\n",
    "test"
   ]
  },
  {
   "cell_type": "code",
   "execution_count": null,
   "metadata": {},
   "outputs": [],
   "source": [
    "import os\n",
    "\n",
    "# os.system(\"ffmpeg -y -i video.mp4 -i audio.mp4 -c:v copy -c:a aac final.mp4 -loglevel quiet -stats\")\n",
    "os.rename(\"final.mp4\", video_path)\n",
    "os.remove(\"video.mp4\")\n",
    "os.remove(\"audio.mp4\")\n"
   ]
  },
  {
   "cell_type": "code",
   "execution_count": 3,
   "metadata": {},
   "outputs": [
    {
     "ename": "NameError",
     "evalue": "name 'yt_title' is not defined",
     "output_type": "error",
     "traceback": [
      "\u001b[1;31m---------------------------------------------------------------------------\u001b[0m",
      "\u001b[1;31mNameError\u001b[0m                                 Traceback (most recent call last)",
      "Cell \u001b[1;32mIn[3], line 24\u001b[0m\n\u001b[0;32m     21\u001b[0m         \u001b[38;5;28;01melse\u001b[39;00m:\n\u001b[0;32m     22\u001b[0m             \u001b[38;5;28mprint\u001b[39m(\u001b[38;5;124m\"\u001b[39m\u001b[38;5;124m無法獲取 ffmpeg 錯誤輸出。\u001b[39m\u001b[38;5;124m\"\u001b[39m)\n\u001b[1;32m---> 24\u001b[0m merge_video_and_audio(\u001b[38;5;124mf\u001b[39m\u001b[38;5;124m'\u001b[39m\u001b[38;5;124mC:/Users/Lu/Documents/youtube/python_\u001b[39m\u001b[38;5;132;01m{\u001b[39;00m\u001b[43myt_title\u001b[49m\u001b[38;5;132;01m}\u001b[39;00m\u001b[38;5;124m_itag(\u001b[39m\u001b[38;5;132;01m{\u001b[39;00mitag_Vedio\u001b[38;5;132;01m}\u001b[39;00m\u001b[38;5;124m).mp4\u001b[39m\u001b[38;5;124m'\u001b[39m, \u001b[38;5;124mf\u001b[39m\u001b[38;5;124m'\u001b[39m\u001b[38;5;124mC:/Users/Lu/Documents/youtube/python_\u001b[39m\u001b[38;5;132;01m{\u001b[39;00myt_title\u001b[38;5;132;01m}\u001b[39;00m\u001b[38;5;124m_itag(\u001b[39m\u001b[38;5;132;01m{\u001b[39;00mitag_Audio\u001b[38;5;132;01m}\u001b[39;00m\u001b[38;5;124m).mp4\u001b[39m\u001b[38;5;124m'\u001b[39m, \u001b[38;5;124mf\u001b[39m\u001b[38;5;124m'\u001b[39m\u001b[38;5;124mC:/Users/Lu/Documents/youtube/python_\u001b[39m\u001b[38;5;132;01m{\u001b[39;00myt_title\u001b[38;5;132;01m}\u001b[39;00m\u001b[38;5;124m_itag.mp4\u001b[39m\u001b[38;5;124m'\u001b[39m)\n",
      "\u001b[1;31mNameError\u001b[0m: name 'yt_title' is not defined"
     ]
    }
   ],
   "source": [
    "import subprocess\n",
    "\n",
    "def merge_video_and_audio(video_path, audio_path, output_path):\n",
    "    command = [\n",
    "        'ffmpeg',\n",
    "        '-i', video_path,\n",
    "        '-i', audio_path,\n",
    "        '-c', 'copy',\n",
    "        '-map', '0:v',\n",
    "        '-map', '1:a',\n",
    "        output_path\n",
    "    ]\n",
    "    \n",
    "    try:\n",
    "        result = subprocess.run(command, check=True, stdout=subprocess.PIPE, stderr=subprocess.PIPE, text=True, encoding='utf-8')\n",
    "        print(\"合併成功！輸出文件位於:\", output_path)\n",
    "    except subprocess.CalledProcessError as e:\n",
    "        print(\"ffmpeg合併過程中發生錯誤:\", e)\n",
    "        if e.stderr:\n",
    "            print(\"ffmpeg命令輸出:\", e.stderr)\n",
    "        else:\n",
    "            print(\"無法獲取 ffmpeg 錯誤輸出。\")\n",
    "\n",
    "merge_video_and_audio(f'C:/Users/Lu/Documents/youtube/python_{yt_title}_itag({itag_Vedio}).mp4', f'C:/Users/Lu/Documents/youtube/python_{yt_title}_itag({itag_Audio}).mp4', f'C:/Users/Lu/Documents/youtube/python_{yt_title}_itag.mp4')"
   ]
  },
  {
   "cell_type": "code",
   "execution_count": 1,
   "metadata": {},
   "outputs": [
    {
     "name": "stdout",
     "output_type": "stream",
     "text": [
      "執行命令: ffmpeg -i C:/Users/Lu/Documents/youtube/python_影像V.mp4 -i C:/Users/Lu/Documents/youtube/python_音訊A.mp4 -c copy -map 0:v -map 1:a C:/Users/Lu/Documents/youtube/python_231212影音.mp4\n"
     ]
    },
    {
     "name": "stderr",
     "output_type": "stream",
     "text": [
      "Exception in thread Thread-6 (_readerthread):\n",
      "Traceback (most recent call last):\n",
      "  File \"C:\\python3.10.8\\lib\\threading.py\", line 1016, in _bootstrap_inner\n",
      "    self.run()\n",
      "  File \"c:\\Users\\Lu\\Documents\\GitHub\\__2024_01_08_python_openAPI__\\__youtube_download__\\yt.venv\\lib\\site-packages\\ipykernel\\ipkernel.py\", line 761, in run_closure\n",
      "    _threading_Thread_run(self)\n",
      "  File \"C:\\python3.10.8\\lib\\threading.py\", line 953, in run\n",
      "    self._target(*self._args, **self._kwargs)\n",
      "  File \"C:\\python3.10.8\\lib\\subprocess.py\", line 1499, in _readerthread\n",
      "    buffer.append(fh.read())\n",
      "UnicodeDecodeError: 'cp950' codec can't decode byte 0x83 in position 2197: illegal multibyte sequence\n"
     ]
    },
    {
     "name": "stdout",
     "output_type": "stream",
     "text": [
      "合併成功！輸出文件位於: C:/Users/Lu/Documents/youtube/python_231212影音.mp4\n"
     ]
    }
   ],
   "source": [
    "import subprocess\n",
    "\n",
    "def merge_video_and_audio(video_path, audio_path, output_path):\n",
    "    command = [\n",
    "        'ffmpeg',\n",
    "        '-i', video_path,\n",
    "        '-i', audio_path,\n",
    "        '-c', 'copy',\n",
    "        '-map', '0:v',\n",
    "        '-map', '1:a',\n",
    "        output_path\n",
    "    ]\n",
    "    \n",
    "    try:\n",
    "        print(\"執行命令:\", ' '.join(command))  # 添加調試信息\n",
    "        result = subprocess.run(command, check=True, stdout=subprocess.PIPE, stderr=subprocess.PIPE, text=True, timeout=300)\n",
    "        print(\"合併成功！輸出文件位於:\", output_path)\n",
    "    except subprocess.CalledProcessError as e:\n",
    "        print(\"ffmpeg合併過程中發生錯誤:\", e)\n",
    "        if e.stderr:\n",
    "            try:\n",
    "                # 嘗試用 UTF-8 解碼\n",
    "                print(\"ffmpeg命令輸出:\", e.stderr)\n",
    "            except UnicodeDecodeError:\n",
    "                # 如果失敗，使用 CP950 解碼\n",
    "                print(\"ffmpeg命令輸出:\", e.stderr.decode('cp950', errors='ignore'))\n",
    "        else:\n",
    "            print(\"無法獲取 ffmpeg 錯誤輸出。\")\n",
    "    except subprocess.TimeoutExpired as e:\n",
    "        print(\"命令執行超時:\", e)\n",
    "\n",
    "merge_video_and_audio(\"C:/Users/Lu/Documents/youtube/python_影像V.mp4\", \"C:/Users/Lu/Documents/youtube/python_音訊A.mp4\", \"C:/Users/Lu/Documents/youtube/python_231212影音.mp4\")\n"
   ]
  },
  {
   "cell_type": "code",
   "execution_count": 2,
   "metadata": {},
   "outputs": [
    {
     "name": "stdout",
     "output_type": "stream",
     "text": [
      "執行命令: ffmpeg -i C:/Users/Lu/Documents/youtube/python_影像V.mp4 -i C:/Users/Lu/Documents/youtube/python_音訊A.mp4 -c copy -map 0:v -map 1:a C:/Users/Lu/Documents/youtube/python_231212影音.mp4\n",
      "命令執行超時: Command '['ffmpeg', '-i', 'C:/Users/Lu/Documents/youtube/python_影像V.mp4', '-i', 'C:/Users/Lu/Documents/youtube/python_音訊A.mp4', '-c', 'copy', '-map', '0:v', '-map', '1:a', 'C:/Users/Lu/Documents/youtube/python_231212影音.mp4']' timed out after 300 seconds\n"
     ]
    }
   ],
   "source": [
    "import subprocess\n",
    "\n",
    "def merge_video_and_audio(video_path, audio_path, output_path):\n",
    "    command = [\n",
    "        'ffmpeg',\n",
    "        '-i', video_path,\n",
    "        '-i', audio_path,\n",
    "        '-c', 'copy',\n",
    "        '-map', '0:v',\n",
    "        '-map', '1:a',\n",
    "        output_path\n",
    "    ]\n",
    "    \n",
    "    try:\n",
    "        print(\"執行命令:\", ' '.join(command))  # 添加調試信息\n",
    "        result = subprocess.run(command, check=True, stdout=subprocess.PIPE, stderr=subprocess.PIPE, text=True, encoding='utf-8',timeout=300)\n",
    "        print(\"合併成功！輸出文件位於:\", output_path)\n",
    "    except subprocess.CalledProcessError as e:\n",
    "        print(\"ffmpeg合併過程中發生錯誤:\", e)\n",
    "        if e.stderr:\n",
    "            try:\n",
    "                # 嘗試用 UTF-8 解碼\n",
    "                print(\"ffmpeg命令輸出:\", e.stderr)\n",
    "            except UnicodeDecodeError:\n",
    "                # 如果失敗，使用 CP950 解碼\n",
    "                print(\"ffmpeg命令輸出:\", e.stderr.decode('cp950', errors='ignore'))\n",
    "        else:\n",
    "            print(\"無法獲取 ffmpeg 錯誤輸出。\")\n",
    "    except subprocess.TimeoutExpired as e:\n",
    "        print(\"命令執行超時:\", e)\n",
    "\n",
    "merge_video_and_audio(\"C:/Users/Lu/Documents/youtube/python_影像V.mp4\", \"C:/Users/Lu/Documents/youtube/python_音訊A.mp4\", \"C:/Users/Lu/Documents/youtube/python_231212影音.mp4\")\n"
   ]
  }
 ],
 "metadata": {
  "kernelspec": {
   "display_name": "yt.venv",
   "language": "python",
   "name": "python3"
  },
  "language_info": {
   "codemirror_mode": {
    "name": "ipython",
    "version": 3
   },
   "file_extension": ".py",
   "mimetype": "text/x-python",
   "name": "python",
   "nbconvert_exporter": "python",
   "pygments_lexer": "ipython3",
   "version": "3.10.8"
  }
 },
 "nbformat": 4,
 "nbformat_minor": 2
}
