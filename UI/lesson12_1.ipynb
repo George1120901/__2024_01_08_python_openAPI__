{
 "cells": [
  {
   "cell_type": "code",
   "execution_count": 4,
   "metadata": {},
   "outputs": [
    {
     "name": "stdout",
     "output_type": "stream",
     "text": [
      "下載成功\n",
      "[{'date': '2024-1-26 9:19:52', 'address': 'chicken_KFC', 'temperature': 24.23554, 'light': 35656.0}, {'date': '2024-1-26 9:22:2', 'address': 'chicken_KFC', 'temperature': 24.70368, 'light': 39641.0}, {'date': '2024-1-26 9:22:9', 'address': 'chicken_KFC', 'temperature': 24.70368, 'light': 35640.0}, {'date': '2024-1-26 9:25:33', 'address': 'chicken_KFC', 'temperature': 25.17182, 'light': 41482.0}, {'date': '2024-1-26 9:31:56', 'address': 'chicken_KFC', 'temperature': 26.10811, 'light': 42666.0}]\n"
     ]
    }
   ],
   "source": [
    "import requests\n",
    "\n",
    "url = 'https://openapi-test-ksss.onrender.com/pico_w/?count=5'\n",
    "\n",
    "r = requests.get(url=url)\n",
    "\n",
    "if r.status_code == 200:\n",
    "    print(\"下載成功\")\n",
    "    data = r.json()\n",
    "\n",
    "print(data)\n",
    "\n"
   ]
  },
  {
   "cell_type": "code",
   "execution_count": 5,
   "metadata": {},
   "outputs": [
    {
     "data": {
      "text/html": [
       "<div>\n",
       "<style scoped>\n",
       "    .dataframe tbody tr th:only-of-type {\n",
       "        vertical-align: middle;\n",
       "    }\n",
       "\n",
       "    .dataframe tbody tr th {\n",
       "        vertical-align: top;\n",
       "    }\n",
       "\n",
       "    .dataframe thead th {\n",
       "        text-align: right;\n",
       "    }\n",
       "</style>\n",
       "<table border=\"1\" class=\"dataframe\">\n",
       "  <thead>\n",
       "    <tr style=\"text-align: right;\">\n",
       "      <th></th>\n",
       "      <th>date</th>\n",
       "      <th>address</th>\n",
       "      <th>temperature</th>\n",
       "      <th>light</th>\n",
       "    </tr>\n",
       "  </thead>\n",
       "  <tbody>\n",
       "    <tr>\n",
       "      <th>0</th>\n",
       "      <td>2024-1-26 9:19:52</td>\n",
       "      <td>chicken_KFC</td>\n",
       "      <td>24.23554</td>\n",
       "      <td>35656.0</td>\n",
       "    </tr>\n",
       "    <tr>\n",
       "      <th>1</th>\n",
       "      <td>2024-1-26 9:22:2</td>\n",
       "      <td>chicken_KFC</td>\n",
       "      <td>24.70368</td>\n",
       "      <td>39641.0</td>\n",
       "    </tr>\n",
       "    <tr>\n",
       "      <th>2</th>\n",
       "      <td>2024-1-26 9:22:9</td>\n",
       "      <td>chicken_KFC</td>\n",
       "      <td>24.70368</td>\n",
       "      <td>35640.0</td>\n",
       "    </tr>\n",
       "    <tr>\n",
       "      <th>3</th>\n",
       "      <td>2024-1-26 9:25:33</td>\n",
       "      <td>chicken_KFC</td>\n",
       "      <td>25.17182</td>\n",
       "      <td>41482.0</td>\n",
       "    </tr>\n",
       "    <tr>\n",
       "      <th>4</th>\n",
       "      <td>2024-1-26 9:31:56</td>\n",
       "      <td>chicken_KFC</td>\n",
       "      <td>26.10811</td>\n",
       "      <td>42666.0</td>\n",
       "    </tr>\n",
       "  </tbody>\n",
       "</table>\n",
       "</div>"
      ],
      "text/plain": [
       "                date      address  temperature    light\n",
       "0  2024-1-26 9:19:52  chicken_KFC     24.23554  35656.0\n",
       "1   2024-1-26 9:22:2  chicken_KFC     24.70368  39641.0\n",
       "2   2024-1-26 9:22:9  chicken_KFC     24.70368  35640.0\n",
       "3  2024-1-26 9:25:33  chicken_KFC     25.17182  41482.0\n",
       "4  2024-1-26 9:31:56  chicken_KFC     26.10811  42666.0"
      ]
     },
     "execution_count": 5,
     "metadata": {},
     "output_type": "execute_result"
    }
   ],
   "source": [
    "import pandas as pd\n",
    "\n",
    "dataFrame = pd.DataFrame(data)\n",
    "dataFrame"
   ]
  }
 ],
 "metadata": {
  "kernelspec": {
   "display_name": ".venv",
   "language": "python",
   "name": "python3"
  },
  "language_info": {
   "codemirror_mode": {
    "name": "ipython",
    "version": 3
   },
   "file_extension": ".py",
   "mimetype": "text/x-python",
   "name": "python",
   "nbconvert_exporter": "python",
   "pygments_lexer": "ipython3",
   "version": "3.10.8"
  }
 },
 "nbformat": 4,
 "nbformat_minor": 2
}
