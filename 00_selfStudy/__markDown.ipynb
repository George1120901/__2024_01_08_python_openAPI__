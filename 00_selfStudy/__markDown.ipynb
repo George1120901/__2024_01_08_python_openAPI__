{
 "cells": [
  {
   "cell_type": "markdown",
   "metadata": {},
   "source": [
    "### Markdown 基礎\n",
    "\n",
    "http://www.ewin.tw/app/wp-content/uploads/2020/02/Markdown-1.html <不安全提醒>\n",
    "\n",
    "pass"
   ]
  },
  {
   "cell_type": "markdown",
   "metadata": {},
   "source": [
    "#### **粗體及斜體**\n",
    "粗體及斜體 通常會用來強調某些重點文字，語法如下：  \n",
    "\n",
    "| 樣式\t| 前後加上\t| 語法範例 |    \n",
    "| :---   | :-----:  | :------  |\n",
    "| **粗體**\t| 兩個 *\t|\\*\\*粗體\\*\\* |   \n",
    "| *斜體*\t| 一個 *\t| \\*斜體\\*  |  \n",
    "| ***粗斜體***\t| 三個 *\t| \\*\\*\\*粗斜體\\*\\*\\*  |  \n",
    "| ~~刪除~~\t| 兩個 ~\t| \\~\\~刪除\\~\\~  |  "
   ]
  },
  {
   "cell_type": "markdown",
   "metadata": {},
   "source": [
    "#### 多段落清單\n",
    "清單項目若包含多個段落，每個段落必須縮排2-4個空白或一個tab，若要換行，則在末尾加上兩個空白："
   ]
  },
  {
   "cell_type": "markdown",
   "metadata": {},
   "source": [
    "=============\n",
    "+++++++++++++"
   ]
  },
  {
   "cell_type": "markdown",
   "metadata": {},
   "source": [
    "### 第9 章Markdown 基礎\n",
    "https://shixiangwang.github.io/pybook/09-markdown/\n",
    "\n",
    "pass\n"
   ]
  },
  {
   "cell_type": "markdown",
   "metadata": {},
   "source": [
    "### **表格**\n",
    "1.使用|列1|列2| 就可以新增2 個清單格，標題行和內容行使用|—| 進行分隔。  \n",
    "2.對齊可以透過對分隔行增加英文冒號: 標記實現。  \n",
    "\n",
    "| 左對齊  | 中心對齊 | 右對齊 |\n",
    "| :----- |:-------:| -----:|\n",
    "| c1     | 這一列   | $16 |\n",
    "| c2     | 是中心   | $120 |\n",
    "| c3     | 對齊     | $11 |\n",
    "\n"
   ]
  }
 ],
 "metadata": {
  "kernelspec": {
   "display_name": "yt.venv",
   "language": "python",
   "name": "python3"
  },
  "language_info": {
   "name": "python",
   "version": "3.10.8"
  }
 },
 "nbformat": 4,
 "nbformat_minor": 2
}
