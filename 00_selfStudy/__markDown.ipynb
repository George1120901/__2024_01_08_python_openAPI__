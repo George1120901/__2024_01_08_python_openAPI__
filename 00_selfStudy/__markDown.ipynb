{
 "cells": [
  {
   "cell_type": "markdown",
   "metadata": {},
   "source": [
    "### Markdown 基礎\n",
    "\n",
    "http://www.ewin.tw/app/wp-content/uploads/2020/02/Markdown-1.html <不安全提醒>\n",
    "\n",
    "pass"
   ]
  },
  {
   "cell_type": "markdown",
   "metadata": {},
   "source": [
    "### ** - Jupter Notebook快捷鍵 -編輯模式快捷鍵 **\n",
    "|快捷鍵\t|作用|\n",
    "| :---   | :-----  |\n",
    "|Esc\t|切換到命令模式|\n",
    "|Tab\t|縮排|\n",
    "|Shift-Tab\t|反縮排\n",
    "|Ctrl-Z\t|復原|\n",
    "|Ctrl-Shift-Z\t|重做\n",
    "|Ctrl-Left\t|跳到左邊一個字首|\n",
    "|Ctrl-Right\t|跳到右邊一個字首|\n",
    "|Ctrl-Backspace\t|刪除前面一個字|\n",
    "|Ctrl-Delete\t|刪除後面一個字|\n",
    "|Ctrl-Shift -\t|分割區塊|"
   ]
  },
  {
   "cell_type": "markdown",
   "metadata": {},
   "source": [
    "## **Markdown 簡介**\n",
    "Markdown是一種輕量級的標記式語言，採用易讀易寫的純文字格式來編寫文件，再轉換成有效的HTML文件。由於具有輕量、易讀及易寫的特性，並支援圖片、圖表及數學式等，因此被廣泛使用來撰寫說明文件，甚至編寫電子書。\n",
    "\n",
    "* HTML 是一種發佈格式，Markdown是一種編寫格式。  \n",
    "* Markdown不是要來取代HTML，重點在於讓文件更容易閱讀及編寫。"
   ]
  },
  {
   "cell_type": "markdown",
   "metadata": {},
   "source": [
    "### **標題**\n",
    "Markdown的標題語法是以1到數個 # 號開頭加上空格，例如：\n",
    "# 標題一\n",
    "## 標題二\n",
    "### 標題三"
   ]
  },
  {
   "cell_type": "markdown",
   "metadata": {},
   "source": [
    "### **換行**\n",
    "Markdown要插入換行，只要在***行尾加上兩個以上的空白***即可。"
   ]
  },
  {
   "cell_type": "markdown",
   "metadata": {},
   "source": [
    "### **分隔線**\n",
    "分隔線為插入3個以上的 * 或 -，可包含空格。\n",
    "***\n",
    "*****\n",
    "- - -\n",
    "---"
   ]
  },
  {
   "cell_type": "markdown",
   "metadata": {},
   "source": [
    "#### **粗體及斜體**\n",
    "粗體及斜體 通常會用來強調某些重點文字，語法如下：  \n",
    "\n",
    "| 樣式\t| 前後加上\t| 語法範例 |    \n",
    "| :---   | :-----:  | :------  |\n",
    "| **粗體**\t| 兩個 *\t|\\*\\*粗體\\*\\* |   \n",
    "| *斜體*\t| 一個 *\t| \\*斜體\\*  |  \n",
    "| ***粗斜體***\t| 三個 *\t| \\*\\*\\*粗斜體\\*\\*\\*  |  \n",
    "| ~~刪除~~\t| 兩個 ~\t| \\~\\~刪除\\~\\~  |  \n",
    "\n",
    "**粗體**及*斜體*用來***強調***重點文字"
   ]
  },
  {
   "cell_type": "markdown",
   "metadata": {},
   "source": [
    "### **文字顔色**\n",
    "Markdown 並無文字顔色的指令，可以採用Html的style屬性來代替，例如：\n",
    "<span style='color:red'>紅色文字</span>"
   ]
  },
  {
   "cell_type": "markdown",
   "metadata": {},
   "source": [
    "### **底線及刪除線**\n",
    "Markdown 並無底線及刪除線的指令，可以採用Html的指令\\<u>及\\<del>來代替，例如 :   \n",
    "<u>底線</u> 及 <del>刪除線</del>"
   ]
  },
  {
   "cell_type": "markdown",
   "metadata": {},
   "source": [
    "#### 多段落清單\n",
    "清單項目若包含多個段落，每個段落必須縮排2-4個空白或一個tab，若要換行，則在末尾加上兩個空白："
   ]
  },
  {
   "cell_type": "markdown",
   "metadata": {},
   "source": [
    "=============\n",
    "+++++++++++++"
   ]
  },
  {
   "cell_type": "markdown",
   "metadata": {},
   "source": [
    "### 第9 章Markdown 基礎\n",
    "https://shixiangwang.github.io/pybook/09-markdown/\n",
    "\n",
    "pass\n"
   ]
  },
  {
   "cell_type": "markdown",
   "metadata": {},
   "source": [
    "### **表格**\n",
    "1.使用|列1|列2| 就可以新增2 個清單格，標題行和內容行使用|—| 進行分隔。  \n",
    "2.對齊可以透過對分隔行增加英文冒號: 標記實現。  \n",
    "\n",
    "| 左對齊  | 中心對齊 | 右對齊 |\n",
    "| :----- |:-------:| -----:|\n",
    "| c1     | 這一列   | $16 |\n",
    "| c2     | 是中心   | $120 |\n",
    "| c3     | 對齊     | $11 |\n"
   ]
  }
 ],
 "metadata": {
  "kernelspec": {
   "display_name": "yt.venv",
   "language": "python",
   "name": "python3"
  },
  "language_info": {
   "name": "python",
   "version": "3.10.8"
  }
 },
 "nbformat": 4,
 "nbformat_minor": 2
}
