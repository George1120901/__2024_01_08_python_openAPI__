{
 "cells": [
  {
   "cell_type": "markdown",
   "metadata": {},
   "source": [
    "### Markdown 基礎\n",
    "\n",
    "http://www.ewin.tw/app/wp-content/uploads/2020/02/Markdown-1.html <不安全提醒>\n",
    "\n",
    "pass"
   ]
  },
  {
   "cell_type": "markdown",
   "metadata": {},
   "source": [
    "### ** - Jupter Notebook快捷鍵 -編輯模式快捷鍵 **\n",
    "|快捷鍵\t|作用|\n",
    "| :---   | :-----  |\n",
    "|Esc\t|切換到命令模式|\n",
    "|Tab\t|縮排|\n",
    "|Shift-Tab\t|反縮排\n",
    "|Ctrl-Z\t|復原|\n",
    "|Ctrl-Shift-Z\t|重做\n",
    "|Ctrl-Left\t|跳到左邊一個字首|\n",
    "|Ctrl-Right\t|跳到右邊一個字首|\n",
    "|Ctrl-Backspace\t|刪除前面一個字|\n",
    "|Ctrl-Delete\t|刪除後面一個字|\n",
    "|Ctrl-Shift -\t|分割區塊|"
   ]
  },
  {
   "cell_type": "markdown",
   "metadata": {},
   "source": [
    "## **Markdown 簡介**\n",
    "Markdown是一種輕量級的標記式語言，採用易讀易寫的純文字格式來編寫文件，再轉換成有效的HTML文件。由於具有輕量、易讀及易寫的特性，並支援圖片、圖表及數學式等，因此被廣泛使用來撰寫說明文件，甚至編寫電子書。\n",
    "\n",
    "* HTML 是一種發佈格式，Markdown是一種編寫格式。  \n",
    "* Markdown不是要來取代HTML，重點在於讓文件更容易閱讀及編寫。"
   ]
  },
  {
   "cell_type": "markdown",
   "metadata": {},
   "source": [
    "### **標題**\n",
    "Markdown的標題語法是以1到數個 # 號開頭加上空格，例如：\n",
    "# 標題一\n",
    "## 標題二\n",
    "### 標題三"
   ]
  },
  {
   "cell_type": "markdown",
   "metadata": {},
   "source": [
    "### **換行**\n",
    "Markdown要插入換行，只要在***行尾加上兩個以上的空白***即可。"
   ]
  },
  {
   "cell_type": "markdown",
   "metadata": {},
   "source": [
    "### **分隔線**\n",
    "分隔線為插入3個以上的 * 或 -，可包含空格。\n",
    "***\n",
    "*****\n",
    "- - -\n",
    "---"
   ]
  },
  {
   "cell_type": "markdown",
   "metadata": {},
   "source": [
    "#### **粗體及斜體**\n",
    "粗體及斜體 通常會用來強調某些重點文字，語法如下：  \n",
    "\n",
    "| 樣式\t| 前後加上\t| 語法範例 |    \n",
    "| :---   | :-----:  | :------  |\n",
    "| **粗體**\t| 兩個 *\t|\\*\\*粗體\\*\\* |   \n",
    "| *斜體*\t| 一個 *\t| \\*斜體\\*  |  \n",
    "| ***粗斜體***\t| 三個 *\t| \\*\\*\\*粗斜體\\*\\*\\*  |  \n",
    "| ~~刪除~~\t| 兩個 ~\t| \\~\\~刪除\\~\\~  |  \n",
    "\n",
    "**粗體**及*斜體*用來***強調***重點文字"
   ]
  },
  {
   "cell_type": "markdown",
   "metadata": {},
   "source": [
    "### **文字顔色**\n",
    "Markdown 並無文字顔色的指令，可以採用Html的style屬性來代替，例如：\n",
    "<span style='color:red'>紅色文字</span>"
   ]
  },
  {
   "cell_type": "markdown",
   "metadata": {},
   "source": [
    "### **底線及刪除線**\n",
    "Markdown 並無底線及刪除線的指令，可以採用Html的指令\\<u>及\\<del>來代替，例如 :   \n",
    "<u>底線</u> 及 <del>刪除線</del>"
   ]
  },
  {
   "cell_type": "markdown",
   "metadata": {},
   "source": [
    "### **跳脫字元**\n",
    "Markdown可以利用反斜線來插入一些已被語法使用的符號，例如\n",
    "\n",
    "|Markdown語法\t|輸出結果|\n",
    "| :---   | :-----:  |\n",
    "|*跳脫字元*\t|跳脫字元|\n",
    "|\\*跳脫字元\\*\t|\\*跳脫字元\\*|\n",
    "\n",
    "#### Markdown常用的跳脫字元列表如下：\n",
    "\n",
    "|跳脫字元\t|結果\t|説明|\n",
    "| :---:   | :-----:  | :------  |\n",
    "|\\\\\\\t|\\\t|反斜線|\n",
    "|\\\\`\t|`\t|反引號|\n",
    "|\\\\*\t|*\t|星號|\n",
    "|\\\\_\t|_\t|底線|\n",
    "|\\\\{}\t|{}\t|大括號|\n",
    "|\\\\[]\t|[]\t|方括號|\n",
    "|\\\\()\t|()\t|括號|\n",
    "|\\\\#\t|#\t|井字號|\n",
    "|\\\\+\t|+\t|加號|\n",
    "|\\\\-\t|-\t|減號|\n",
    "|\\\\.\t|.\t|小數點|\n",
    "|\\\\!\t|!\t|驚嘆號|"
   ]
  },
  {
   "cell_type": "markdown",
   "metadata": {},
   "source": [
    "### **註解**\n",
    "註解可以用來説明 Markdown文件原始檔案内容，但不會呈現在執行結果，語法如下：  \n",
    "[//]: # (註解寫在刮號内，不會顯示出來)  \n",
    "Ex.  \n",
    "[(註解寫在刮號内，不會顯示出來)]: #01"
   ]
  },
  {
   "cell_type": "markdown",
   "metadata": {},
   "source": [
    "### **行內形式連結**\n",
    "#### 行內形式超連結主要語法如下：  \n",
    "\\[連結一](https://www.tvdi.gov.taipei/)  \n",
    "\\[連結二](https://www.tvdi.gov.taipei/News.aspx?n=F2CD1228A2985237&sms=53001DDC86324B4E)  \n",
    "\n",
    "output：  \n",
    "[連結一](https://www.tvdi.gov.taipei/)  \n",
    "[連結二](https://www.tvdi.gov.taipei/News.aspx?n=F2CD1228A2985237&sms=53001DDC86324B4E)  \n",
    "\n",
    "\n",
    "#### 若連結到同一主機的檔案，可以使用相對路徑，語法:  \n",
    "\\[同主機連結](C://youtube/file_io.txt)  \n",
    "output：  \n",
    "[同主機連結](C://youtube/file_io.txt) \n",
    "\n",
    "\n",
    "若Markdown的功能不足是，可以用HTML語法完成，但需注意編輯器是否支援HTML指令，語法:  \n",
    "\\<a href=\"https://www.tvdi.gov.taipei/\" target=\"_blank\" title=\"標題\">連結</a>\n",
    "output：  \n",
    "<a href=\"https://www.tvdi.gov.taipei/\" target=\"_blank\" title=\"標題\">連結</a>"
   ]
  },
  {
   "cell_type": "markdown",
   "metadata": {},
   "source": [
    "### **參考式連結**\n",
    "這是參考[連結][]\n",
    "\n",
    "[連結]: http://google.com/ \"彈出標題\"\n",
    "---\n",
    "這是參考[連結][id]  \n",
    "\n",
    "[id]: http://ewin.tw/ \"彈出標題\"\n",
    "---\n",
    "參考連結，包含 [Google][1]，[Yahoo][2]及[MSN][3]\n",
    "\n",
    "[1]: http://google.com/ \"Google\"\n",
    "[2]: http://yahoo.com/  \"Yahoo\"\n",
    "[3]: http://msn.com/    \"MSN\"  \n",
    "\n",
    "---\n",
    "##### **注意連結本文與參考連結間務必空一行**"
   ]
  },
  {
   "cell_type": "markdown",
   "metadata": {},
   "source": [
    "### **清單**\n",
    "#### 單層清單\n",
    "**無序清單使用(*)(+)(-)作為標記：**\n",
    "* Red\n",
    "* Green\n",
    "+ Red\n",
    "+ Blue\n",
    "- Green\n",
    "- Blue\n",
    "\n",
    "**有序清單使用數字接著小數點：**\n",
    "1. Bird\n",
    "1. McHale\n",
    "1. Parish"
   ]
  },
  {
   "cell_type": "markdown",
   "metadata": {},
   "source": [
    "#### 多段落清單\n",
    "清單項目若包含多個段落，每個段落必須縮排2-4個空白或一個tab，若要換行，則在末尾加上兩個空白：\n",
    "\n",
    "* 段落一(末尾加2個空白)  \n",
    "  段落二  \n",
    "* 段落三  \n",
    "  段落四  \n",
    "  123"
   ]
  },
  {
   "cell_type": "markdown",
   "metadata": {},
   "source": [
    "### **多層巢狀清單**\n",
    "清單中若還有清單，則第二層清單要縮排\n",
    "\n",
    "* 第一層清單\n",
    "* 第一層清單\n",
    "  1. 第二層清單\n",
    "     * 第三層清單\n",
    "  2. 第二層清單"
   ]
  },
  {
   "cell_type": "markdown",
   "metadata": {},
   "source": [
    "### **CheckBox清單**\n",
    "CheckBox 常用在確認事情是否完成，中括號中的 x 代表這個項目是被打勾的。\n",
    "markdown\n",
    "- [x] 已完成項目\n",
    "- [ ] 未完成項目"
   ]
  },
  {
   "cell_type": "markdown",
   "metadata": {},
   "source": [
    "### **清單内的程式碼區塊**\n",
    "**如果清單内要放程式碼區塊的話，該區塊就需要縮排2次：**  \n",
    "* 具程式碼區塊的清單:\n",
    "\n",
    "        function myFun(a) {\n",
    "          return 10 * a;\n",
    "        }\n",
    "\n",
    "\n",
    "* 具程式碼區塊的清單:\n",
    "    \n",
    "  ```javascript\n",
    "  function myFun(a) {\n",
    "    return 10 * a;  \n",
    "  }\n",
    "  ```"
   ]
  },
  {
   "cell_type": "markdown",
   "metadata": {},
   "source": [
    "=============\n",
    "+++++++++++++"
   ]
  },
  {
   "cell_type": "markdown",
   "metadata": {},
   "source": [
    "### 第9 章Markdown 基礎\n",
    "https://shixiangwang.github.io/pybook/09-markdown/\n",
    "\n",
    "pass\n"
   ]
  },
  {
   "cell_type": "markdown",
   "metadata": {},
   "source": [
    "## Markdown 簡介\n",
    "* 由於Markdown 輕量、易讀、易寫的特性，並且支援圖片、表格、數學公式，目前許多網站都採用Markdown 來編寫幫助文件或發布訊息，比較有名的有GitHub、reddit 和Stack Overflow。\n",
    "* 在資料分析領域，一種新型的文檔出現了，它可以將文字嵌入在執行的程式碼中，稱為動態文檔，而文本書寫的語法正是Markdown。目前流行的動態文件主要有2 種，一種是Jupyter Notebook，它支援多種程式語言，包括R、Python；另一種是Rmarkdown，它在Markdown 的基礎上增加了R 語言程式碼區塊的執行功能（也有對Python、Shell 的支持，但功能較弱）。"
   ]
  },
  {
   "cell_type": "markdown",
   "metadata": {},
   "source": [
    "## Markdown 文法\n",
    "### **1. 塊元素**\n",
    "* #### **段落**  \n",
    "在 Markdown 中，段落是透過一個及以上空行來分割的。如下圖所示：  \n",
    "這是第一段话\n",
    "\n",
    "這是第二段话\n",
    "\n",
    "\n",
    "如果只是使用回車鍵，內容還是屬於一段，文字是連結起來的。  \n",
    "例如， 這是第一句話。這是第二句話。 可以寫為如下形式：\n",
    "這是第一段话\n",
    "這是第二段话"
   ]
  },
  {
   "cell_type": "markdown",
   "metadata": {},
   "source": [
    "* #### **標題**  \n",
    "Markdown 支援6 級標題，一般前四級比較常用。指定標題的方式是在文字前面加上井號鍵，有幾個就是幾個標題。\n",
    "(注意井號後面加一個空格)\n",
    "# 這是第1級標題\n",
    "## 這是第2級標題\n",
    "### 這是第3級標題\n",
    "#### 這是第4級標題\n",
    "##### 這是第5級標題\n",
    "###### 這是第6級標題"
   ]
  },
  {
   "cell_type": "markdown",
   "metadata": {},
   "source": [
    "* #### **引用** \n",
    "Markdown使用符號> 起始一段區塊引用。引用也可以有多段文字，換行以單獨的> 為一行。"
   ]
  },
  {
   "cell_type": "markdown",
   "metadata": {},
   "source": [
    "### **表格**\n",
    "1.使用|列1|列2| 就可以新增2 個清單格，標題行和內容行使用|—| 進行分隔。  \n",
    "2.對齊可以透過對分隔行增加英文冒號: 標記實現。  \n",
    "\n",
    "| 左對齊  | 中心對齊 | 右對齊 |\n",
    "| :----- |:-------:| -----:|\n",
    "| c1     | 這一列   | $16 |\n",
    "| c2     | 是中心   | $120 |\n",
    "| c3     | 對齊     | $11 |\n"
   ]
  }
 ],
 "metadata": {
  "kernelspec": {
   "display_name": "yt.venv",
   "language": "python",
   "name": "python3"
  },
  "language_info": {
   "name": "python",
   "version": "3.10.8"
  }
 },
 "nbformat": 4,
 "nbformat_minor": 2
}
