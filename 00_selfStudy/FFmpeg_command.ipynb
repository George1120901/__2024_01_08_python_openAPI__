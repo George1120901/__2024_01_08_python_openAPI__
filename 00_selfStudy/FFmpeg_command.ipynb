{
 "cells": [
  {
   "cell_type": "markdown",
   "metadata": {},
   "source": [
    "#### How can I run an ffmpeg command in a python script?\n",
    "https://stackoverflow.com/questions/72738553/how-can-i-run-an-ffmpeg-command-in-a-python-script\n",
    "#### Question : How can I run an ffmpeg command in a python script?\n",
    "I want to overlay a transparent video over top of an image using ffmpeg and python\n",
    "do this successfully through terminal:\n",
    ">>>ffmpeg -i head1.png -i hdmiSpitting.mov -filter_complex \"[0:v][1:v] overlay=0:0\" -pix_fmt yuv420p -:a copy output3.mov\n",
    "\n",
    "#### Good Answer :\n",
    "In Windows one line with spaces should work, but in Linux we have to pass the arguments as list.\n",
    "\n",
    "We can build the command as a list:\n",
    ">>>command = ['ffmpeg', '-i', 'head1.png', '-i', 'hdmiSpitting.mov', '-filter_complex', '[0:v][1:v]overlay=0:0', '-pix_fmt', 'yuv420p', '-c:a', 'copy', 'output3.mov']\n",
    "\n",
    "We may also use shlex.split:\n",
    ">>>import shlex\n",
    ">>>command = shlex.split('ffmpeg -i head1.png -i hdmiSpitting.mov -filter_complex \"[0:v][1:v] overlay=0:0\" -pix_fmt yuv420p -c:a copy output3.mov')\n",
    "\n",
    "##### Adding -y argument:\n",
    "If the output file output3.mov already exists, FFmpeg prints a message:\n",
    "File 'output3.mov' already exists. Overwrite? [y/N]\n",
    "And waits for the user to press y.\n",
    "In some development environments we can't see the message.\n",
    "Add -y for overwriting the output if already exists (without asking):\n",
    ">>>command = shlex.split('ffmpeg -y -i head1.png -i hdmiSpitting.mov -filter_complex \"[0:v][1:v] overlay=0:0\" -pix_fmt yuv420p -c:a copy output3.mov')\n"
   ]
  },
  {
   "cell_type": "markdown",
   "metadata": {},
   "source": [
    "* ### **How can I run an ffmpeg command in a python script?**\n",
    "#### [參考網址](https://stackoverflow.com/questions/72738553/how-can-i-run-an-ffmpeg-command-in-a-python-script)\n",
    "\n",
    "#### **Question : How can I run an ffmpeg command in a python script?**\n",
    "I want to overlay a transparent video over top of an image using ffmpeg and python\n",
    "do this successfully through terminal:\n",
    "```\n",
    "ffmpeg -i head1.png -i hdmiSpitting.mov -filter_complex \"[0:v][1:v] overlay=0:0\" -pix_fmt yuv420p -:a copy output3.mov\n",
    "```\n",
    "\n",
    "#### **Good Answer :**\n",
    "In Windows one line with spaces should work, but in Linux we have to pass the arguments as list.\n",
    "\n",
    "We can build the command as a list:\n",
    "```\n",
    "command = ['ffmpeg', '-i', 'head1.png', '-i', 'hdmiSpitting.mov', '-filter_complex', '[0:v][1:v]overlay=0:0', '-pix_fmt', 'yuv420p', '-c:a', 'copy', 'output3.mov']\n",
    "```\n",
    "\n",
    "**We may also use shlex.split:**\n",
    "```\n",
    "import shlex\n",
    "command = shlex.split('ffmpeg -i head1.png -i hdmiSpitting.mov -filter_complex \"[0:v][1:v] overlay=0:0\" -pix_fmt yuv420p -c:a copy output3.mov')\n",
    "```\n",
    "\n",
    "##### Adding -y argument:\n",
    "If the output file output3.mov already exists, FFmpeg prints a message:\n",
    "File 'output3.mov' already exists. Overwrite? [y/N]\n",
    "And waits for the user to press y.\n",
    "In some development environments we can't see the message.\n",
    "**Add -y for overwriting the output if already exists (without asking):**\n",
    "```\n",
    "command = shlex.split('ffmpeg -y -i head1.png -i hdmiSpitting.mov -filter_complex \"[0:v][1:v] overlay=0:0\" -pix_fmt yuv420p -c:a copy output3.mov')\n",
    "```"
   ]
  }
 ],
 "metadata": {
  "kernelspec": {
   "display_name": "yt.venv",
   "language": "python",
   "name": "python3"
  },
  "language_info": {
   "name": "python",
   "version": "3.10.8"
  }
 },
 "nbformat": 4,
 "nbformat_minor": 2
}
