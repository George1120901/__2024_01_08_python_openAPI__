{
 "cells": [
  {
   "cell_type": "markdown",
   "metadata": {},
   "source": [
    "<參考>\n",
    "https://steam.oxxostudio.tw/category/python/library/re.html\n",
    "### 使用正規表達式 re\n",
    "加號+代表前面的字元必須至少出現一次。（1次或多次）。\n",
    "問號?代表前面的字元最多只可以出現一次。（0次或1次）。\n",
    "星號*代表前面的字元可以不出現，也可以出現一次或者多次。\n",
    "字元 /  :將下一個字元標記為一個特殊字元"
   ]
  },
  {
   "cell_type": "markdown",
   "metadata": {},
   "source": [
    "### [緣由]<參考>\n",
    "### [1 分鐘搞懂 Python 迴圈控制：break、continue、pass]\n",
    "https://medium.com/@chiayinchen/1-分鐘搞懂-python-迴圈控制-break-continue-pass-be290cd1f9d8\n",
    "\n",
    "<regularExpression>https://steam.oxxostudio.tw/category/python/library/re.html\n",
    "加號+代表前面的字元必須至少出現一次。（1次或多次）。\n",
    "問號?代表前面的字元最多只可以出現一次。（0次或1次）。\n",
    "星號*代表前面的字元可以不出現，也可以出現一次或者多次。\n",
    "字元 /  :將下一個字元標記為一個特殊字元"
   ]
  },
  {
   "cell_type": "markdown",
   "metadata": {},
   "source": [
    " Note：\n",
    " 利用 break 告訴迴圈當 email 字串中包含 email_out 列表 (List) 中的關鍵字時，要強制結束迴圈。"
   ]
  },
  {
   "cell_type": "code",
   "execution_count": 1,
   "metadata": {},
   "outputs": [
    {
     "name": "stdout",
     "output_type": "stream",
     "text": [
      "carol@gmail.com 為個人信箱\n",
      "Support@gmail.com 中包含 support 關鍵字，因此判斷為官方信箱\n"
     ]
    }
   ],
   "source": [
    "import re\n",
    "# 定義函數\n",
    "def detect_email(email):\n",
    "    email_out = ['hello','contact','sales','support','business','info']\n",
    "    for e_out in email_out:\n",
    "        pattern = re.compile('.*' + e_out + '.*')\n",
    "        r = re.match(pattern, email.lower())\n",
    "        if r is not None:\n",
    "            print('{} 中包含 {} 關鍵字，因此判斷為官方信箱'.format(email, e_out))\n",
    "            break\n",
    "    else:\n",
    "        print('{} 為個人信箱'.format(email))\n",
    "        \n",
    "# 呼叫函數\n",
    "detect_email('carol@gmail.com')\n",
    "detect_email('Support@gmail.com')"
   ]
  }
 ],
 "metadata": {
  "kernelspec": {
   "display_name": "yt.venv",
   "language": "python",
   "name": "python3"
  },
  "language_info": {
   "codemirror_mode": {
    "name": "ipython",
    "version": 3
   },
   "file_extension": ".py",
   "mimetype": "text/x-python",
   "name": "python",
   "nbconvert_exporter": "python",
   "pygments_lexer": "ipython3",
   "version": "3.10.8"
  }
 },
 "nbformat": 4,
 "nbformat_minor": 2
}
