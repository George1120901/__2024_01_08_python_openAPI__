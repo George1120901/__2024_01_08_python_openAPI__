{
 "cells": [
  {
   "cell_type": "markdown",
   "metadata": {},
   "source": [
    "<參考> https://zh.wikipedia.org/zh-tw/正则表达式\n",
    "### 正規表示式\n",
    "\n",
    "#### 基本語法\n",
    "##### 數量限定\n",
    "數量限定\n",
    "加號+代表前面的字元必須至少出現一次。（1次或多次）。如，goo+gle可以符合google、gooogle、goooogle等\n",
    "問號?代表前面的字元最多只可以出現一次。（0次或1次）。如，colou?r可以符合color或者colour\n",
    "星號*代表前面的字元可以不出現，也可以出現一次或者多次。如，0*42可以符合42、042、0042、00042等。 \n",
    "\n",
    "##### PCRE表達式\n",
    "字元 \\  : 將下一個字元標記為一個特殊字元\n",
    "          例如，「\\n」符合一個換行符。序列「\\\\」符合「\\」而「\\(」則符合「(」。\n",
    "     .  : 符合除「\\r」「\\n」之外的任何單個字元。要符合包括「\\r」「\\n」在內的任何字元，\n",
    "          請使用像「(.|\\r|\\n)」的模式。     \n",
    "    \\d  : 符合一個數字字元。等價於[0-9]。注意Unicode正規表示式會符合全形數字字元。\n",
    "    \\D  : 符合一個非數字字元。\n",
    "    \\r  : 符合一個回車字元。\n",
    "    \\s  : 符合任何空白字元，包括空格、制表符、換頁符等等。\n",
    "    \\S  : 符合任何非空白字元。\n",
    "    \\t  : 符合一個制表符。\n",
    "    \\n  : 符合一個換行符。\n",
    "pass"
   ]
  },
  {
   "cell_type": "markdown",
   "metadata": {},
   "source": [
    "<參考> https://steam.oxxostudio.tw/category/python/library/re.html\n",
    "[使用正規表達式 re]\n",
    "\n",
    "\n"
   ]
  },
  {
   "cell_type": "markdown",
   "metadata": {},
   "source": [
    "### [緣由]<參考>\n",
    "### [1 分鐘搞懂 Python 迴圈控制：break、continue、pass]\n",
    "https://medium.com/@chiayinchen/1-分鐘搞懂-python-迴圈控制-break-continue-pass-be290cd1f9d8\n",
    "\n",
    "#### 情境 2：比對\n",
    "檢查 email 是否為公司官方信箱，如出現 hello、contact、sales、support、business、info 等關鍵字。\n",
    " Note：\n",
    " 利用 break 告訴迴圈當 email 字串中包含 email_out 列表 (List) 中的關鍵字時，要強制結束迴圈。"
   ]
  },
  {
   "cell_type": "markdown",
   "metadata": {},
   "source": [
    " Note：\n",
    " 利用 break 告訴迴圈當 email 字串中包含 email_out 列表 (List) 中的關鍵字時，要強制結束迴圈。"
   ]
  },
  {
   "cell_type": "code",
   "execution_count": 18,
   "metadata": {},
   "outputs": [
    {
     "name": "stdout",
     "output_type": "stream",
     "text": [
      "carol@gmail.com 為個人信箱\n",
      "Support@gmail.com 中包含 support 關鍵字，因此判斷為官方信箱\n"
     ]
    }
   ],
   "source": [
    "import re\n",
    "# 定義函數\n",
    "def detect_email(email):\n",
    "    email_out = ['hello','contact','sales','support','business','info']\n",
    "    for e_out in email_out:\n",
    "        pattern = re.compile('.*' + e_out + '.*')\n",
    "        r = re.match(pattern, email.lower())\n",
    "        if r is not None:\n",
    "            print('{} 中包含 {} 關鍵字，因此判斷為官方信箱'.format(email, e_out))\n",
    "            break\n",
    "    else:\n",
    "            print('{} 為個人信箱'.format(email))\n",
    "        \n",
    "# 呼叫函數\n",
    "detect_email('carol@gmail.com')\n",
    "detect_email('Support@gmail.com')"
   ]
  },
  {
   "cell_type": "markdown",
   "metadata": {},
   "source": [
    "#### from chatgpt\n",
    "Question: '.*' 是正規表示式中的一個模式，它與'*' 的差異為何？\n",
    "\n",
    "Answer:\n",
    "##### .* 的意思\n",
    ".: 代表任意單一字元（除了換行符號）。\n",
    "*: 代表前面的字元或子模式可以出現零次或多次。\n",
    "組合在一起，.* 代表“零個或多個任意字元”，即可以匹配任意數量的任意字元（包括空字串）。\n",
    "例如：正規表示式 .* 可以符合：\n",
    "    空字串 \"\"\n",
    "    任意單一字元 \"a\"\n",
    "    多個字元 \"abc\"\n",
    "    甚至是整行字元 \"This is a test line\"\n",
    "\n",
    "##### * 的意思\n",
    "* 單獨使用是沒有意義的，因為它必須跟在一個字元或子模式後面，表示該字元或子模式出現零次或多次。\n",
    "正規表示式 (abc)* 表示零個或多個 'abc' 的重複：\n",
    "    可以匹配空字串 \"\"\n",
    "    單一 'abc' \"abc\"\n",
    "    多 'abc' \"abcabc\""
   ]
  },
  {
   "cell_type": "markdown",
   "metadata": {},
   "source": [
    "#### from chatgpt\n",
    "Question: 接上述，若email=carol@gmail.com時，r = re.match(pattern, email)用法為何？\n",
    "\n",
    "Answer:\n",
    "在你的範例中，如果我們有一個電子郵件地址 email = \"carol@gmail.com\"，而我們使用 re.match 方法來匹配這個電子郵件地址，具體的用法將取決於我們定義的 pattern。\n",
    "\n",
    "假設我們繼續使用先前的 pattern = re.compile('.*' + e_out + '.*')，且 e_out = 'support'，那麼整個正規表示式模式將是 '.*support.*'。這個模式用來匹配任意包含 support 的字串。以下是具體的使用方法：\n",
    "import re\n",
    "\n",
    "e_out = 'support'\n",
    "pattern = re.compile('.*' + e_out + '.*')\n",
    "email = \"carol@gmail.com\"\n",
    "\n",
    "##### 使用 re.match() 方法\n",
    "r = re.match(pattern, email)\n",
    "\n",
    "if r:\n",
    "    print(f\"Email matches: {email}\")\n",
    "else:\n",
    "    print(\"Email does not match.\")\n"
   ]
  },
  {
   "cell_type": "code",
   "execution_count": 16,
   "metadata": {},
   "outputs": [
    {
     "name": "stdout",
     "output_type": "stream",
     "text": [
      "Email does not match.\n"
     ]
    }
   ],
   "source": [
    "import re\n",
    "\n",
    "e_out = 'support'\n",
    "pattern = re.compile('.*' + e_out + '.*')\n",
    "email = \"carol@gmail.com\"\n",
    "\n",
    "# 使用 re.match() 方法\n",
    "r = re.match(pattern, email)\n",
    "\n",
    "if r:\n",
    "    print(f\"Email matches: {email}\")\n",
    "else:\n",
    "    print(\"Email does not match.\")\n"
   ]
  },
  {
   "cell_type": "markdown",
   "metadata": {},
   "source": [
    "#### from chatgpt\n",
    "##### 更改 pattern 以符合電子郵件\n",
    "如果我們想要匹配電子郵件地址，我們需要一個不同的正規表示式模式。例如：\n",
    "\n",
    "###### pattern = re.compile(r'.*@.*\\..*')\n",
    "\n",
    "這個模式的解釋如下：\n",
    ".* 表示任意數量的任意字元（包括零個字元）。\n",
    "@ 是匹配字元 @。\n",
    ".* 再次表示任意數量的任意字元。\n",
    "\\. 匹配字元 .。\n",
    ".* 再次表示任意數量的任意字元。\n",
    "\n",
    "\n",
    "以下是使用該模式來匹配電子郵件地址的範例：\n",
    "import re\n",
    "\n",
    "pattern = re.compile(r'.*@.*\\..*')\n",
    "email = \"carol@gmail.com\"\n",
    "\n",
    "# 使用 re.match() 方法\n",
    "r = re.match(pattern, email)\n",
    "\n",
    "if r:\n",
    "    print(f\"Email matches: {email}\")\n",
    "else:\n",
    "    print(\"Email does not match.\")\n",
    "\n",
    "\n",
    "總結\n",
    "使用 re.match(pattern, email) 可以檢查電子郵件地址是否符合給定的正規表示式模式。\n",
    "正規表示式 '.*support.*' 用於匹配包含 support 的字串，而 r'.*@.*\\..*' 則是一個通用的匹配電子郵件地址的正規表示式模式。"
   ]
  },
  {
   "cell_type": "code",
   "execution_count": 17,
   "metadata": {},
   "outputs": [
    {
     "name": "stdout",
     "output_type": "stream",
     "text": [
      "Email matches: carol@gmail.com\n"
     ]
    }
   ],
   "source": [
    "import re\n",
    "\n",
    "pattern = re.compile(r'.*@.*\\..*')\n",
    "email = \"carol@gmail.com\"\n",
    "\n",
    "# 使用 re.match() 方法\n",
    "r = re.match(pattern, email)\n",
    "\n",
    "if r:\n",
    "    print(f\"Email matches: {email}\")\n",
    "else:\n",
    "    print(\"Email does not match.\")\n"
   ]
  },
  {
   "cell_type": "code",
   "execution_count": 10,
   "metadata": {},
   "outputs": [
    {
     "name": "stdout",
     "output_type": "stream",
     "text": [
      "Email\t GeoJSON@gmail.com : matches\n",
      "Email\t GeoPython@gmail.com : matches\n",
      "Email\t GeoGit.gmail.com : does not match.\n"
     ]
    }
   ],
   "source": [
    "# 使用 loop 方法\n",
    "import re\n",
    "\n",
    "def detect_email(email):    \n",
    "    pattern = re.compile(r'.*@.*\\..*')\n",
    "    email_match = re.match(pattern, email)  # 使用 re.match() 方法\n",
    "\n",
    "    if  email_match:\n",
    "        print(f\"Email\\t {email} : matches\")\n",
    "    else:\n",
    "        print(f\"Email\\t {email} : does not match.\")\n",
    "\n",
    "emails=['GeoJSON@gmail.com','GeoPython@gmail.com','GeoGit.gmail.com']\n",
    "for i in emails:\n",
    "  detect_email(i)      "
   ]
  },
  {
   "cell_type": "code",
   "execution_count": 26,
   "metadata": {},
   "outputs": [
    {
     "name": "stdout",
     "output_type": "stream",
     "text": [
      "Email\t GeoJSON@gmail.com : does not match.\n",
      "Email\t GeoPython@gmail.com : does not match.\n",
      "Email\t GeoSales.gmail.com : does not match.\n",
      "emali\t GeoSales@gmail.com : match\n",
      "Email\t GeoSales@gmail.com : does not match.\n"
     ]
    }
   ],
   "source": [
    "import re\n",
    "mail_key=[]\n",
    "def chk_mail(email):\n",
    "    for mail_key in mail_keys:\n",
    "        pattern=re.compile('.*' + mail_key + '@.*\\..*')\n",
    "        mail_match=re.match(pattern,email.lower())\n",
    "        if mail_match:\n",
    "            print(f'emali\\t {email} : match')\n",
    "    else:\n",
    "            print(f\"Email\\t {email} : does not match.\")\n",
    "\n",
    "mail_keys = ['hello','contact','sales','support','business','info']\n",
    "emails=['GeoJSON@gmail.com','GeoPython@gmail.com','GeoSales.gmail.com','GeoSales@gmail.com']\n",
    "for i in emails:\n",
    "  chk_mail(i)  "
   ]
  },
  {
   "cell_type": "markdown",
   "metadata": {},
   "source": [
    "## pass"
   ]
  }
 ],
 "metadata": {
  "kernelspec": {
   "display_name": "yt.venv",
   "language": "python",
   "name": "python3"
  },
  "language_info": {
   "codemirror_mode": {
    "name": "ipython",
    "version": 3
   },
   "file_extension": ".py",
   "mimetype": "text/x-python",
   "name": "python",
   "nbconvert_exporter": "python",
   "pygments_lexer": "ipython3",
   "version": "3.10.8"
  }
 },
 "nbformat": 4,
 "nbformat_minor": 2
}
