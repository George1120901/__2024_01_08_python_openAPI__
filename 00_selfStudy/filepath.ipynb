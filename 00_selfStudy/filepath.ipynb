{
 "cells": [
  {
   "cell_type": "markdown",
   "metadata": {},
   "source": [
    "==========================================\n",
    "++++++++++++++++++++++++++++++++++++++++++\n",
    "#### Get the filename, directory, extension from a path string in Python\n",
    "https://note.nkmk.me/en/python-os-basename-dirname-split-splitext/\n",
    "\n",
    "pass"
   ]
  },
  {
   "cell_type": "markdown",
   "metadata": {},
   "source": [
    "==========================================\n",
    "++++++++++++++++++++++++++++++++++++++++++\n",
    "#### using ffmpeg to extract audio from video files\n",
    "https://gist.github.com/whizkydee/804d7e290f46c73f55a84db8a8936d74\n",
    "\n",
    "pass"
   ]
  }
 ],
 "metadata": {
  "kernelspec": {
   "display_name": "yt.venv",
   "language": "python",
   "name": "python3"
  },
  "language_info": {
   "name": "python",
   "version": "3.10.8"
  }
 },
 "nbformat": 4,
 "nbformat_minor": 2
}
