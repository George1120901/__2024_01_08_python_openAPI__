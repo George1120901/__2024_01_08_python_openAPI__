{
 "cells": [
  {
   "cell_type": "markdown",
   "metadata": {},
   "source": [
    "pytube Release v15.0.0.  \n",
    "VS code v1.91.1  \n",
    "date : 2024.07.30"
   ]
  },
  {
   "cell_type": "markdown",
   "metadata": {},
   "source": [
    "### **[ERROR] 'NoneType' object has no attribute 'span' #1498 #1501**\n",
    "https://github.com/pytube/pytube/issues/1498  \n",
    "issue date:2023.03.17  "
   ]
  },
  {
   "cell_type": "markdown",
   "metadata": {},
   "source": [
    "**>from:**  \n",
    "hojinYang commented on Mar 17, 2023 :  \n",
    " ..............\"AttributeError: 'NoneType' object has no attribute 'span'\"\n",
    "\n",
    "**>working issue**  \n",
    "from:dark9ive commented on Mar 17, 2023  \n",
    "I just patched this error by simply modifying {home}/.local/lib/python3.7/site-packages/pytube/cipher.py\n",
    "Line 411\n",
    "\n",
    "        transform_plan_raw = find_object_from_startpoint(raw_code, match.span()[1] - 1)\n",
    "to\n",
    "\n",
    "        transform_plan_raw = js\n",
    "And everything works fine.\n",
    "Hope this can solve your problem."
   ]
  }
 ],
 "metadata": {
  "kernelspec": {
   "display_name": "yt.venv",
   "language": "python",
   "name": "python3"
  },
  "language_info": {
   "name": "python",
   "version": "3.10.8"
  }
 },
 "nbformat": 4,
 "nbformat_minor": 2
}
