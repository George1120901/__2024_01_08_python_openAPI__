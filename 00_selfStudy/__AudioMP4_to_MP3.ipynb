{
 "cells": [
  {
   "cell_type": "markdown",
   "metadata": {},
   "source": [
    "### **使用FFmpeg將音頻MP4轉換為MP3?之討論**"
   ]
  },
  {
   "cell_type": "markdown",
   "metadata": {},
   "source": [
    "* ### 透過chatGPT -1\n",
    "#### Question : 使用FFmpeg將音頻MP4轉換為MP3?\n",
    "#### Answer :\n",
    "* 要處理在執行下載過程中遇到長時間無法完成的情況，可以使用 signal 模組來設定超時處理。  \n",
    "在超時發生時，會拋出一個自定義的例外，從而中斷下載過程並打印錯誤訊息。以下是示範程式碼： \n",
    "    ```\n",
    "    try:\n",
    "        pass \n",
    "    except subprocess.CalledProcessError as e:\n",
    "        pass\n",
    "    ```    \n",
    "\n",
    "* **要使用 FFmpeg 將音頻從 MP4 轉換為 MP3，您可以使用以下命令：**\n",
    "    ```\n",
    "    ffmpeg -i input.mp4 -vn -acodec libmp3lame -q:a 2 output.mp3\n",
    "    ```\n",
    "\n",
    "* **這裡是這個命令的詳細說明：**\n",
    "1. ffmpeg: 調用 FFmpeg 工具。  \n",
    "2. -i input.mp4: 指定輸入文件 input.mp4。  \n",
    "3. -vn: 禁用視頻，因為我們只需要音頻部分。  \n",
    "4. -acodec libmp3lame: 指定 MP3 編碼器。libmp3lame 是一個高質量的 MP3 編碼器。  \n",
    "5. -q:a 2: 設置音頻質量。q:a 選項允許設置 VBR（可變比特率）的質量級別，數字 2 表示非常高的質量（範圍從 0 到 9，0 為最佳）。  \n",
    "6. output.mp3: 指定輸出文件 output.mp3。  \n",
    "\n",
    "您可以將此命令用於命令行中，也可以在 Python 程序中通過 subprocess 模組調用它。這裡有一個示例 Python 程序，演示如何使用 subprocess 來運行 FFmpeg 命令："
   ]
  },
  {
   "cell_type": "code",
   "execution_count": null,
   "metadata": {},
   "outputs": [],
   "source": [
    "import subprocess\n",
    "\n",
    "def convert_mp4_to_mp3(input_file, output_file):\n",
    "    command = [\n",
    "        'ffmpeg',\n",
    "        '-i', input_file,\n",
    "        '-vn',\n",
    "        '-acodec', 'libmp3lame',\n",
    "        '-q:a', '2',\n",
    "        output_file\n",
    "    ]\n",
    "    \n",
    "    try:\n",
    "        result = subprocess.run(command, check=True, stdout=subprocess.PIPE, stderr=subprocess.PIPE, text=True)\n",
    "        print(f\"Conversion successful! MP3 file is located at: {output_file}\")\n",
    "    except subprocess.CalledProcessError as e:\n",
    "        print(\"An error occurred during conversion:\", e)\n",
    "        if e.stderr:\n",
    "            print(\"FFmpeg error output:\", e.stderr)\n",
    "        else:\n",
    "            print(\"Could not retrieve FFmpeg error output.\")\n",
    "\n",
    "# Example usage\n",
    "convert_mp4_to_mp3(\"input.mp4\", \"output.mp3\")\n"
   ]
  },
  {
   "cell_type": "markdown",
   "metadata": {},
   "source": [
    "**[Note]:**  \n",
    "這個程序調用 convert_mp4_to_mp3 函數，將 input.mp4 轉換為 output.mp3。如果轉換成功，它會打印成功消息；如果發生錯誤，則會打印錯誤消息和 FFmpeg 的錯誤輸出。"
   ]
  },
  {
   "cell_type": "markdown",
   "metadata": {},
   "source": [
    "* ### **透過chatGPT -2**\n",
    "#### Question : 當abr=128kbps 時，-q:a 要設置為何?\n",
    "#### Answer :\n",
    "在FFmpeg中，-q:a 和 -b:a 是用來設定音頻質量和比特率的參數。這兩者通常不會同時使用。  \n",
    "-q:a（質量）用來控制VBR（可變比特率）的音質，數值範圍從0到9，數值越小音質越好。而  \n",
    "-b:a 用來設定CBR（固定比特率）的音頻比特率。  \n",
    "\n",
    "如果你想要設定音頻比特率為128kbps，應該使用 -b:a 而不是 -q:a。\n",
    "\n",
    "以下是使用 -b:a 的正確方式"
   ]
  },
  {
   "cell_type": "code",
   "execution_count": null,
   "metadata": {},
   "outputs": [],
   "source": [
    "def convert_mp4_to_mp3(input_file, output_file):\n",
    "    command = [\n",
    "        'ffmpeg',\n",
    "        '-i', input_file,\n",
    "        '-vn',\n",
    "        '-acodec', 'libmp3lame',\n",
    "        '-b:a', '128k',\n",
    "        output_file\n",
    "    ]\n",
    "    try:\n",
    "        result = subprocess.run(command, check=True, stdout=subprocess.PIPE, stderr=subprocess.PIPE, text=True)\n",
    "        print(\"轉換成功！輸出文件位於:\", output_file)\n",
    "    except subprocess.CalledProcessError as e:\n",
    "        print(\"ffmpeg轉換過程中發生錯誤:\", e)\n",
    "        if e.stderr:\n",
    "            print(\"ffmpeg命令輸出:\", e.stderr)\n",
    "        else:\n",
    "            print(\"無法獲取 ffmpeg 錯誤輸出。\")\n",
    "\n",
    "# 範例使用\n",
    "convert_mp4_to_mp3(\"input.mp4\", \"output.mp3\")\n"
   ]
  },
  {
   "cell_type": "markdown",
   "metadata": {},
   "source": [
    "這樣可以確保音頻的比特率是128kbps。如果你還是想要使用 -q:a 來設定音質的話，你需要注意，-q:a 和比特率之間沒有一個簡單的直接對應，通常需要實驗和經驗來找出適合你的設置。  \n",
    "**對應 -q:a 設置的比特率值大致如下：**  \n",
    "* -q:a 0 大約是 320 kbps  \n",
    "* -q:a 1 大約是 256 kbps  \n",
    "* -q:a 2 大約是 192 kbps  \n",
    "* -q:a 3 大約是 160 kbps  \n",
    "* -q:a 4 大約是 128 kbps  \n",
    "* -q:a 5 大約是 96 kbps  \n",
    "**所以如果你希望音質接近128kbps，可以設定 -q:a 4。** 但請注意這只是近似值。"
   ]
  },
  {
   "cell_type": "code",
   "execution_count": null,
   "metadata": {},
   "outputs": [],
   "source": [
    "def convert_mp4_to_mp3(input_file, output_file):\n",
    "    command = [\n",
    "        'ffmpeg',\n",
    "        '-i', input_file,\n",
    "        '-vn',\n",
    "        '-acodec', 'libmp3lame',\n",
    "        '-q:a', '4',\n",
    "        output_file\n",
    "    ]\n",
    "    try:\n",
    "        result = subprocess.run(command, check=True, stdout=subprocess.PIPE, stderr=subprocess.PIPE, text=True)\n",
    "        print(\"轉換成功！輸出文件位於:\", output_file)\n",
    "    except subprocess.CalledProcessError as e:\n",
    "        print(\"ffmpeg轉換過程中發生錯誤:\", e)\n",
    "        if e.stderr:\n",
    "            print(\"ffmpeg命令輸出:\", e.stderr)\n",
    "        else:\n",
    "            print(\"無法獲取 ffmpeg 錯誤輸出。\")\n",
    "\n",
    "# 範例使用\n",
    "convert_mp4_to_mp3(\"input.mp4\", \"output.mp3\")\n"
   ]
  },
  {
   "cell_type": "markdown",
   "metadata": {},
   "source": [
    "       ~~~ End ~~~\n",
    "+++++++++++++++++++++++++++++\n",
    "============================="
   ]
  },
  {
   "cell_type": "code",
   "execution_count": 1,
   "metadata": {},
   "outputs": [
    {
     "name": "stdout",
     "output_type": "stream",
     "text": [
      "轉換成功！輸出文件位於: C:/Users/Lu/Documents/youtube/yt_audio_ Best Classical Music.mp3\n"
     ]
    }
   ],
   "source": [
    "# mp4 --> mp3 轉換確認\n",
    "\n",
    "import subprocess\n",
    "\n",
    "def convert_mp4_to_mp3(input_file, output_file):\n",
    "    command = [\n",
    "        'ffmpeg',\n",
    "        '-i', input_file,\n",
    "        '-vn',\n",
    "        '-acodec', 'libmp3lame',\n",
    "        '-q:a', '3',\n",
    "        output_file\n",
    "    ]\n",
    "    # -q:a 3 大約是 160 kbps\n",
    "    try:\n",
    "        result = subprocess.run(command, check=True, stdout=subprocess.PIPE, stderr=subprocess.PIPE, text=True)\n",
    "        print(\"轉換成功！輸出文件位於:\", output_file)\n",
    "    except subprocess.CalledProcessError as e:\n",
    "        print(\"ffmpeg轉換過程中發生錯誤:\", e)\n",
    "        if e.stderr:\n",
    "            print(\"ffmpeg命令輸出:\", e.stderr)\n",
    "        else:\n",
    "            print(\"無法獲取 ffmpeg 錯誤輸出。\")\n",
    "\n",
    "# 範例使用\n",
    "# convert_mp4_to_mp3(\"input.mp4\", \"output.mp3\")\n",
    "convert_mp4_to_mp3(f'C:/Users/Lu/Documents/youtube/yt_audio_ Best Classical Music.mp4', f'C:/Users/Lu/Documents/youtube/yt_audio_ Best Classical Music.mp3')\n",
    "# media 長度 03:34:26 mp4容量大小203,343KB mp3容量大小225,418KB 處理耗時4m 10.1s"
   ]
  },
  {
   "cell_type": "code",
   "execution_count": 2,
   "metadata": {},
   "outputs": [
    {
     "name": "stdout",
     "output_type": "stream",
     "text": [
      "轉換成功！輸出文件位於: C:/Users/Lu/Documents/youtube/yt_audio_世界名曲（小步舞曲_小夜曲_圓舞曲）_2.mp3\n"
     ]
    }
   ],
   "source": [
    "# mp4 --> mp3 轉換\n",
    "\n",
    "import subprocess\n",
    "\n",
    "def convert_mp4_to_mp3(input_file, output_file):\n",
    "    command = [\n",
    "        'ffmpeg',\n",
    "        '-i', input_file,\n",
    "        '-vn',\n",
    "        '-acodec', 'libmp3lame',\n",
    "        '-q:a', '2',\n",
    "        output_file\n",
    "    ]\n",
    "    # -q:a 3 大約是 160 kbps\n",
    "    try:\n",
    "        result = subprocess.run(command, check=True, stdout=subprocess.PIPE, stderr=subprocess.PIPE, text=True,encoding= 'utf-8')  # 設定encoding='utf-8'\n",
    "        print(\"轉換成功！輸出文件位於:\", output_file)\n",
    "    except subprocess.CalledProcessError as e:\n",
    "        print(\"ffmpeg轉換過程中發生錯誤:\", e)\n",
    "        if e.stderr:\n",
    "            print(\"ffmpeg命令輸出:\", e.stderr)\n",
    "        else:\n",
    "            print(\"無法獲取 ffmpeg 錯誤輸出。\")\n",
    "\n",
    "# 範例使用\n",
    "# convert_mp4_to_mp3(\"input.mp4\", \"output.mp3\")\n",
    "input_path = str('C:/Users/Lu/Documents/youtube/')\n",
    "input_audio = str('yt_audio_世界名曲（小步舞曲_小夜曲_圓舞曲）')\n",
    "#convert_mp4_to_mp3(f'C:/Users/Lu/Documents/youtube/yt_audio_ Best Classical Music.mp4', f'C:/Users/Lu/Documents/youtube/yt_audio_ Best Classical Music.mp3')\n",
    "\n",
    "convert_mp4_to_mp3(f'{input_path+input_audio}.mp4', f'{input_path+input_audio}.mp3')\n",
    "\n",
    "# media 長度 00:55:28 mp4容量大小52,611KB \n",
    "# mp3容量大小65,704KB(位元速率161kbps) 處理耗時0m (50.x)s at '-q:a', '3',\n",
    "# mp3容量大小71,167KB(位元速率175kbps) 處理耗時0m 50.7s at '-q:a', '2',   -->預設\n",
    "# mp3容量大小81,562KB(位元速率200kbps) 處理耗時0m 51.7s at '-q:a', '1',"
   ]
  },
  {
   "cell_type": "code",
   "execution_count": 6,
   "metadata": {},
   "outputs": [
    {
     "name": "stdout",
     "output_type": "stream",
     "text": [
      "123456abc\n"
     ]
    }
   ],
   "source": [
    "input_path = str('C:/Users/Lu/Documents/youtube/')\n",
    "\n",
    "#input_audio = str('yt_audio_世界名曲（小步舞曲_小夜曲_圓舞曲）')\n",
    "input_audio = str('data.txt')\n",
    "#f=open(f'{input_path+input_audio}.mp3', 'r',encoding= 'utf-8')\n",
    "f=open(f'{input_path+input_audio}', 'r',encoding= 'utf-8')\n",
    "words = f.read()\n",
    "print(words)\n",
    "\n",
    "f.close()"
   ]
  },
  {
   "cell_type": "code",
   "execution_count": 8,
   "metadata": {},
   "outputs": [
    {
     "data": {
      "text/plain": [
       "'data.txt'"
      ]
     },
     "execution_count": 8,
     "metadata": {},
     "output_type": "execute_result"
    }
   ],
   "source": [
    "import os\n",
    "os.listdir('C:/Users/Lu/Documents/youtube/')[0]"
   ]
  },
  {
   "cell_type": "code",
   "execution_count": 9,
   "metadata": {},
   "outputs": [
    {
     "data": {
      "text/plain": [
       "['data.txt',\n",
       " 'python_2023_11_10_下午_itag(merge).mp4',\n",
       " 'python_2023_11_10_早上_itag(merge).mp4',\n",
       " 'python_2023_11_16_下午_itag(merge).mp4',\n",
       " 'python_2023_11_16_早上_itag(merge).mp4',\n",
       " 'python_2023_11_20_下午_itag(merge).mp4',\n",
       " 'python_2023_11_20_早上_itag(merge).mp4',\n",
       " 'python_2023_11_22_下午_itag(merge).mp4',\n",
       " 'python_2023_11_22_早上_itag(merge).mp4',\n",
       " 'python_2023_11_29_下午_itag(merge).mp4',\n",
       " 'python_2023_11_29_早上_itag(merge).mp4',\n",
       " 'yt_audio_ Best Classical Music.mp3',\n",
       " 'yt_audio_ Best Classical Music.mp4',\n",
       " 'yt_audio_2021Ghibli Relaxing Music.mp3',\n",
       " 'yt_audio_2021Ghibli Relaxing Music.mp4',\n",
       " 'yt_audio_2023宮崎駿鋼琴音樂合集.mp3',\n",
       " 'yt_audio_2023宮崎駿鋼琴音樂合集.mp4',\n",
       " 'yt_audio_2時間のジブリ夏.mp3',\n",
       " 'yt_audio_2時間のジブリ夏.mp4',\n",
       " 'yt_audio_Classical music relaxes.mp3',\n",
       " 'yt_audio_Classical music relaxes.mp4',\n",
       " 'yt_audio_Classical_Music_for_Studying_Working_Relaxing-Mozart_Beethoven.mp4',\n",
       " 'yt_audio_Johann Pachelbel_D大調卡農 .mp3',\n",
       " 'yt_audio_Johann Pachelbel_D大調卡農 .mp4',\n",
       " 'yt_audio_Soft Classical Piano - Relaxing Piano Pieces (Luke Faulkner).mp4',\n",
       " 'yt_audio_Tchaikovsky Piano Concerto No 1 FULL _ Martha Argerich.mp3',\n",
       " 'yt_audio_Tchaikovsky Piano Concerto No 1 FULL _ Martha Argerich.mp4',\n",
       " 'yt_audio_Tchaikovsky_ Piano Concerto No.1_Barenboim .mp3',\n",
       " 'yt_audio_Tchaikovsky_ Piano Concerto No.1_Barenboim .mp4',\n",
       " 'yt_audio_Tchaikovsky_ Piano Concerto No.1_Martha Argerich.mp3',\n",
       " 'yt_audio_Tchaikovsky_ Piano Concerto No.1_Martha Argerich.mp4',\n",
       " 'yt_audio_Tchaikovsky_ Swan Lake .mp3',\n",
       " 'yt_audio_Tchaikovsky_ Swan Lake .mp4',\n",
       " 'yt_audio_The Beautiful Blue Danube .mp3',\n",
       " 'yt_audio_The Beautiful Blue Danube .mp4',\n",
       " 'yt_audio_The best classical music for the soul.mp3',\n",
       " 'yt_audio_The best classical music for the soul.mp4',\n",
       " 'yt_audio_The Best Nocturnes by Chopin .mp4',\n",
       " 'yt_audio_The Best of Tchaikovsky .mp3',\n",
       " 'yt_audio_The Best of Tchaikovsky .mp4',\n",
       " 'yt_audio_The Best _Chopin_ Classical Piano Music.mp4',\n",
       " 'yt_audio_Walt Disney Songs Collection with Lyrics 2024 .mp3',\n",
       " 'yt_audio_Walt Disney Songs Collection with Lyrics 2024 .mp4',\n",
       " 'yt_audio_世界名曲（小步舞曲_小夜曲_圓舞曲).mp3',\n",
       " 'yt_audio_世界名曲（小步舞曲_小夜曲_圓舞曲）.mp4',\n",
       " 'yt_audio_拉赫曼尼諾夫 - 第二號鋼琴協奏曲.mp3',\n",
       " 'yt_audio_拉赫曼尼諾夫 - 第二號鋼琴協奏曲.mp4',\n",
       " 'yt_audio_拉赫曼尼諾夫 - 第二鋼琴協奏曲.mp3',\n",
       " 'yt_audio_拉赫曼尼諾夫 - 第二鋼琴協奏曲.mp4']"
      ]
     },
     "execution_count": 9,
     "metadata": {},
     "output_type": "execute_result"
    }
   ],
   "source": [
    "import os\n",
    "os.listdir('C:/Users/Lu/Documents/youtube/')\n"
   ]
  },
  {
   "cell_type": "code",
   "execution_count": 11,
   "metadata": {},
   "outputs": [
    {
     "name": "stdout",
     "output_type": "stream",
     "text": [
      "python_2023_11_16_下午_itag(merge).mp4\n",
      "\\\n"
     ]
    }
   ],
   "source": [
    "import os\n",
    "print(os.listdir('C:/Users/Lu/Documents/youtube/')[3])\n",
    "\n",
    "#for x in os.listdir('C:/Users/Lu/Documents/youtube/')\n",
    "\n",
    "print(os.sep)"
   ]
  },
  {
   "cell_type": "code",
   "execution_count": 25,
   "metadata": {},
   "outputs": [
    {
     "name": "stdout",
     "output_type": "stream",
     "text": [
      "C:/Users/Lu/Documents/youtube/python_2023_11_16_下午_itag(merge)\n",
      "C:/Users/Lu/Documents/youtube/python_2023_11_16_下午_itag(merge)\n",
      "<_io.TextIOWrapper name='C:/Users/Lu/Documents/youtube/python_2023_11_16_下午_itag(merge).mp4' mode='r' encoding='utf-8'>\n",
      "python_2023_11_16_下午_itag(merge).mp4\n"
     ]
    }
   ],
   "source": [
    "input_path = str('C:/Users/Lu/Documents/youtube/')\n",
    "input_audio = str('python_2023_11_16_下午_itag(merge)')\n",
    "print(f'{input_path+input_audio}')\n",
    "\n",
    "filepath = input_path+input_audio\n",
    "print(filepath)\n",
    "\n",
    "f=open(f'{input_path+input_audio}.mp4','r',encoding= 'utf-8')\n",
    "print(f)\n",
    "\n",
    "basename = os.path.basename(f'{input_path+input_audio}.mp4')\n",
    "print(basename)\n",
    "\n",
    "f.close()"
   ]
  },
  {
   "cell_type": "code",
   "execution_count": 27,
   "metadata": {},
   "outputs": [
    {
     "name": "stdout",
     "output_type": "stream",
     "text": [
      "C:/Users/Lu/Documents/youtube/yt_audio_拉赫曼尼諾夫 - 第二鋼琴協奏曲\n",
      "C:/Users/Lu/Documents/youtube/yt_audio_拉赫曼尼諾夫 - 第二鋼琴協奏曲\n",
      "<_io.TextIOWrapper name='C:/Users/Lu/Documents/youtube/yt_audio_拉赫曼尼諾夫 - 第二鋼琴協奏曲.mp3' mode='r' encoding='utf-8'>\n",
      "yt_audio_拉赫曼尼諾夫 - 第二鋼琴協奏曲.mp3\n"
     ]
    }
   ],
   "source": [
    "input_path = str('C:/Users/Lu/Documents/youtube/')\n",
    "input_audio = str('yt_audio_拉赫曼尼諾夫 - 第二鋼琴協奏曲')\n",
    "print(f'{input_path+input_audio}')\n",
    "\n",
    "filepath = input_path+input_audio\n",
    "print(filepath)\n",
    "\n",
    "f=open(f'{input_path+input_audio}.mp3','r',encoding= 'utf-8')\n",
    "print(f)\n",
    "\n",
    "basename = os.path.basename(f'{input_path+input_audio}.mp3')\n",
    "print(basename)\n",
    "\n",
    "f.close()"
   ]
  },
  {
   "cell_type": "code",
   "execution_count": 31,
   "metadata": {},
   "outputs": [
    {
     "name": "stdout",
     "output_type": "stream",
     "text": [
      "C:/Users/Lu/Documents/youtube/yt_audio_世界名曲（小步舞曲_小夜曲_圓舞曲）\n",
      "C:/Users/Lu/Documents/youtube/yt_audio_世界名曲（小步舞曲_小夜曲_圓舞曲）\n",
      "<_io.TextIOWrapper name='C:/Users/Lu/Documents/youtube/yt_audio_世界名曲（小步舞曲_小夜曲_圓舞曲）.mp3' mode='r' encoding='utf-8'>\n",
      "yt_audio_世界名曲（小步舞曲_小夜曲_圓舞曲）.mp3\n"
     ]
    }
   ],
   "source": [
    "input_path = str('C:/Users/Lu/Documents/youtube/')\n",
    "input_audio = str('yt_audio_世界名曲（小步舞曲_小夜曲_圓舞曲）')\n",
    "print(f'{input_path+input_audio}')\n",
    "\n",
    "filepath = input_path+input_audio\n",
    "print(filepath)\n",
    "\n",
    "f=open(f'{input_path+input_audio}.mp3','r',encoding= 'utf-8')\n",
    "print(f)\n",
    "\n",
    "basename = os.path.basename(f'{input_path+input_audio}.mp3')\n",
    "print(basename)\n",
    "\n",
    "f.close()"
   ]
  },
  {
   "cell_type": "code",
   "execution_count": 35,
   "metadata": {},
   "outputs": [
    {
     "name": "stdout",
     "output_type": "stream",
     "text": [
      "C:/Users/Lu/Documents/youtube/yt_audio_世界名曲（小步舞曲_小夜曲_圓舞曲）\n",
      "mp4 --> mp3 轉換\n",
      "轉換成功！輸出文件位於: C:/Users/Lu/Documents/youtube/yt_audio_世界名曲（小步舞曲_小夜曲_圓舞曲）.mp3\n"
     ]
    }
   ],
   "source": [
    "# mp4 --> mp3 轉換\n",
    "\n",
    "import subprocess\n",
    "\n",
    "def convert_mp4_to_mp3(input_file, output_file):\n",
    "    command = [\n",
    "        'ffmpeg',\n",
    "        '-i', input_file,\n",
    "        '-vn',\n",
    "        '-acodec', 'libmp3lame',\n",
    "        '-q:a', '2',\n",
    "        output_file\n",
    "    ]\n",
    "    # -q:a 3 大約是 160 kbps\n",
    "    try:\n",
    "        result = subprocess.run(command, check=True, stdout=subprocess.PIPE, stderr=subprocess.PIPE, text=True,encoding= 'utf-8')  # 設定encoding='utf-8'\n",
    "        print(\"轉換成功！輸出文件位於:\", output_file)\n",
    "    except subprocess.CalledProcessError as e:\n",
    "        print(\"ffmpeg轉換過程中發生錯誤:\", e)\n",
    "        if e.stderr:\n",
    "            print(\"ffmpeg命令輸出:\", e.stderr)\n",
    "        else:\n",
    "            print(\"無法獲取 ffmpeg 錯誤輸出。\")\n",
    "\n",
    "input_path = str('C:/Users/Lu/Documents/youtube/')\n",
    "input_audio = str('yt_audio_世界名曲（小步舞曲_小夜曲_圓舞曲）')\n",
    "print(f'{input_path+input_audio}')\n",
    "\n",
    "try:\n",
    "    f = open(f'{input_path+input_audio}.mp3','r',encoding= 'utf-8')\n",
    "    print(f'{input_path+input_audio}.mp3 已存在')\n",
    "    f.close()\n",
    "except:   \n",
    "    print(\"mp4 --> mp3 轉換\") \n",
    "    convert_mp4_to_mp3(f'{input_path+input_audio}.mp4', f'{input_path+input_audio}.mp3')\n",
    "\n",
    "\n",
    "# media 長度 00:55:28 mp4容量大小52,611KB \n",
    "# mp3容量大小65,704KB(位元速率161kbps) 處理耗時0m (50.x)s at '-q:a', '3',\n",
    "# mp3容量大小71,167KB(位元速率175kbps) 處理耗時0m 50.7s at '-q:a', '2',   -->預設\n",
    "# mp3容量大小81,562KB(位元速率200kbps) 處理耗時0m 58.9s at '-q:a', '1',"
   ]
  },
  {
   "cell_type": "markdown",
   "metadata": {},
   "source": [
    "\\~~~~ End ~~~~  \n",
    "\n",
    "***"
   ]
  },
  {
   "cell_type": "markdown",
   "metadata": {},
   "source": [
    "* ## **using ffmpeg to extract audio from video files**\n",
    "[參考網址](https://gist.github.com/whizkydee/804d7e290f46c73f55a84db8a8936d74)\n",
    "\n",
    "pass"
   ]
  },
  {
   "cell_type": "markdown",
   "metadata": {},
   "source": [
    "### **Converting Audio into Different Formats / Sample Rates**\n",
    "* #### **Minimal example: transcode from MP3 to WMA:**\n",
    "    ```\n",
    "    ffmpeg -i input.mp3 output.wma\n",
    "    ```\n",
    "\n",
    "* #### **You can get the list of supported formats with:**  \n",
    "    ```\n",
    "    ffmpeg -formats\n",
    "    ```\n",
    "\n",
    "* #### **Convert WAV to MP3, mix down to mono (use 1 audio channel), set bit rate to 64 kbps and sample rate to 22050 Hz:**   \n",
    "    ```\n",
    "    ffmpeg -i input.wav -ac 1 -ab 64000 -ar 22050 output.mp3\n",
    "    ```\n",
    "\n",
    "* #### **Convert any MP3 file to WAV 16khz mono 16bit:**  \n",
    "    ```\n",
    "    ffmpeg -i 111.mp3 -acodec pcm_s16le -ac 1 -ar 16000 out.wav\n",
    "    ```\n",
    "    [note] pcm_s16le PCM 音訊格式s16le(signed 16 bits little endian)\n",
    "\n",
    "\n",
    "* #### **Convert any MP3 file to WAV 20khz mono 16bit for ADDAC WAV Player:** \n",
    "    ```\n",
    "    ffmpeg -i 111.mp3 -acodec pcm_s16le -ac 1 -ar 22050 out.wav\n",
    "    ```\n",
    "    \n",
    "* #### *cd into dir for batch process:**  \n",
    "    ```\n",
    "    for i in *.mp3; do ffmpeg -i \"$i\" -acodec pcm_s16le -ac 1 -ar 22050 \"${i%.mp3}-encoded.wav\"; done\n",
    "    ```\n",
    "\n",
    "* #### *Picking the 30 seconds fragment at an offset of 1 minute:**  \n",
    "    **In seconds**\n",
    "    ```\n",
    "    ffmpeg -i input.mp3 -ss 60 -t 30 output.wav\n",
    "    ```\n",
    "\n",
    "    **In HH:MM:SS format**\n",
    "    ```\n",
    "    ffmpeg -i input.mp3 -ss 0:01:00 -t 0:00:30 output.wav\n",
    "    ```"
   ]
  },
  {
   "cell_type": "markdown",
   "metadata": {},
   "source": [
    "### **Extract Audio**\n",
    "* #### **example 1 :**\n",
    "    ```\n",
    "    ffmpeg -i input-video.avi -vn -acodec copy output-audio.aac \n",
    "    ```\n",
    "    * `vn` is no video.\n",
    "    * `acodec` copy says use the same audio stream that's already in there.\n",
    "\n",
    "* #### **example 2 :**\n",
    "    ```\n",
    "    ffmpeg -i video.mp4 -f mp3 -ab 192000 -vn music.mp3\n",
    "    ```\n",
    "    * The -i option in the above command is simple: it is the path to the input file. \n",
    "    * The second option -f mp3 tells ffmpeg that the ouput is in mp3 format. \n",
    "    * The third option i.e -ab 192000 tells ffmpeg that we want the output to be encoded at 192Kbps \n",
    "    * and -vn tells ffmpeg that we dont want video. The last param is the name of the output file.   "
   ]
  },
  {
   "cell_type": "markdown",
   "metadata": {},
   "source": [
    "### **Replace Audio on a Video without re-encoding**\n",
    "* #### **strip audio stream away from video**  \n",
    "    ```\n",
    "    ffmpeg -i INPUT.mp4 -codec copy -an OUTPUT.mp4\n",
    "    ```\n",
    "\n",
    "* #### **combine the two streams together** (new audio with originally exisiting video)  \n",
    "    ```\n",
    "    ffmpeg -i INPUT.mp4 -i AUDIO.wav -shortest -c:v copy -c:a aac -b:a 256k OUTPUT.mp4\n",
    "    ```"
   ]
  },
  {
   "cell_type": "markdown",
   "metadata": {},
   "source": [
    "### **<補充>**\n",
    "### **[參考源](https://www.ffmpeg.org/ffmpeg-all.html#Stream-selection)** ffmpeg官網\n",
    "* `-shortest` (output)  \n",
    "    * Finish encoding when the shortest output stream ends.  \n",
    "    * Note that this option may require buffering frames, which introduces extra latency. The maximum amount of this latency may be controlled with the -shortest_buf_duration option.  \n",
    "\n",
    "* `-shortest_buf_duration duration` (output)  \n",
    "    * The `-shortest` option may require buffering potentially large amounts of data when at least one of the streams is \"sparse\" (i.e. has large gaps between frames – this is typically the case for subtitles).   \n",
    "    * This option controls the maximum duration of buffered frames in seconds. Larger values may allow the `-shortest` option to produce more accurate results, but **increase memory use and latency**.  \n",
    "    * **The default value is 10 seconds.**"
   ]
  },
  {
   "cell_type": "markdown",
   "metadata": {},
   "source": [
    "### **Replace Audio on a Video without re-encoding** (續)\n",
    "You say you want to \"extract audio from them (mp3 or ogg)\". But what if the audio in the mp4 file is not one of those? you'd have to transcode anyway. So why not leave the audio format detection up to ffmpeg?\n",
    "* #### **To convert one file:**  \n",
    "    ```\n",
    "    ffmpeg -i videofile.mp4 -vn -acodec libvorbis audiofile.ogg\n",
    "    ```\n",
    "\n",
    "* #### **To convert many files:**  \n",
    "    ```\n",
    "    for vid in *.mp4; do ffmpeg -i \"$vid\" -vn -acodec libvorbis \"${vid%.mp4}.ogg\"; done\n",
    "    ```\n",
    "\n",
    "* You can of course select any ffmpeg parameters for audio encoding that you like, to set things like bitrate and so on.  \n",
    "Use `-acodec libmp3lame` and change the extension from `.ogg` to `.mp3` for mp3 encoding.\n",
    "\n",
    "* If what you want is to really extract the audio, you can simply \"copy\" the audio track to a file using `-acodec copy`. Of course, the main difference is that transcoding is slow and cpu-intensive, while copying is really quick as you're just moving bytes from one file to another. Here's how to copy just the audio track (assuming it's in mp3 format):  \n",
    "    ```\n",
    "    ffmpeg -i videofile.mp4 -vn -acodec copy audiofile.mp3\n",
    "    ```\n",
    "\n",
    "* **Note** that in this case, the audiofile format has to be consistent with what the container has (i.e. if the audio is AAC format, you have to say audiofile.aac). You can use the ffprobe command to see which formats you have, this may provide some information:  \n",
    "    ```\n",
    "    for file in *; do ffprobe $file 2>&1 |grep Audio; done\n",
    "    ```\n"
   ]
  },
  {
   "cell_type": "markdown",
   "metadata": {},
   "source": [
    "***\n",
    "### **<補充>**\n",
    "### **[參考源](https://www.cnblogs.com/liangjingfu/p/12858018.html)** ffprobe基本指令\n",
    "\n",
    "* **查看多媒體資料包的資訊：**  \n",
    "    ```\n",
    "    ffprobe -show_packets input.flv\n",
    "    ffprobe -show_packets -show_data  input.flv\n",
    "    ```\n",
    "* **查看多媒體的封裝格式：**  \n",
    "    ```\n",
    "    ffprobe -show_format input.flv\n",
    "    ```\n",
    "* **查看影片檔案中的幀資訊：**  \n",
    "    ```\n",
    "    ffprobe -show_frames input.flv\n",
    "    ```\n",
    "* **查看對媒體檔案中的串流資訊：**  \n",
    "    ```\n",
    "    ffprobe -show_streams input.flv\n",
    "    ```\n",
    "* **查看輸出格式：**  \n",
    "    ```\n",
    "    ffprobe -show_frames -of json input.flv\n",
    "    ```\n",
    "    支援格式：xml、ini、json、csv、flat\n",
    "* **只查看音訊(a)、視訊(v)、字幕(s)的資訊：**  \n",
    "    ```\n",
    "    ffprobe -show_frames -select_streams v -of json input.mp4\n",
    "    ffprobe -show_frames -select_streams a -of json input.mp4\n",
    "    ```\n",
    "\n",
    "***"
   ]
  },
  {
   "cell_type": "markdown",
   "metadata": {},
   "source": [
    "***\n",
    "### **<補充>**\n",
    "### **[參考源](https://mks.tw/2928/學習筆記-linux-command-「21」-輕鬆談)** Linux Command 「2>&1」 輕鬆談\n",
    "pass\n",
    "\n",
    "***"
   ]
  },
  {
   "cell_type": "markdown",
   "metadata": {},
   "source": [
    "* #### **A possible way to automatically parse the audio codec and name the audio file accordingly would be:**  \n",
    "    ```\n",
    "    for file in *mp4 *avi; do ffmpeg -i \"$file\" -vn -acodec copy \"$file\".ffprobe \"$file\" 2>&1 |sed -rn 's/.Audio: (...), ./\\1/p'; done\n",
    "    ```\n",
    "\n",
    "Note that this command uses sed to parse output from ffprobe for each file, it assumes a 3-letter audio codec name (e.g. mp3, ogg, aac) and will break with anything different."
   ]
  },
  {
   "cell_type": "markdown",
   "metadata": {},
   "source": [
    "pass"
   ]
  }
 ],
 "metadata": {
  "kernelspec": {
   "display_name": "yt.venv",
   "language": "python",
   "name": "python3"
  },
  "language_info": {
   "codemirror_mode": {
    "name": "ipython",
    "version": 3
   },
   "file_extension": ".py",
   "mimetype": "text/x-python",
   "name": "python",
   "nbconvert_exporter": "python",
   "pygments_lexer": "ipython3",
   "version": "3.10.8"
  }
 },
 "nbformat": 4,
 "nbformat_minor": 2
}
