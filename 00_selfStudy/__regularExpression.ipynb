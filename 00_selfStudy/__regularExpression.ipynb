{
 "cells": [
  {
   "cell_type": "markdown",
   "metadata": {},
   "source": [
    "<參考> https://zh.wikipedia.org/zh-tw/正则表达式  \n",
    "### 正規表示式  \n",
    "\n",
    "#### 基本語法  \n",
    "##### 數量限定  \n",
    "* 加號+代表前面的字元必須至少出現一次。（1次或多次）。如，goo+gle可以符合google、gooogle、goooogle等\n",
    "* 問號?代表前面的字元最多只可以出現一次。（0次或1次）。如，colou?r可以符合color或者colour\n",
    "* 星號*代表前面的字元可以不出現，也可以出現一次或者多次。如，0*42可以符合42、042、0042、00042等。 \n",
    "\n",
    "##### PCRE表達式  \n",
    "\n",
    "字元      描述  \n",
    "* `\\`  : 將下一個字元標記為一個特殊字元  \n",
    "     例如，「\\n」符合一個換行符。序列「\\\\」符合「\\」而「\\(」則符合「(」。  \n",
    "* `.`  : 符合除「\\r」「\\n」之外的任何單個字元。\n",
    "     * 要符合包括「\\r」「\\n」在內的任何字元，請使用像「(.|\\r|\\n)」的模式。   \n",
    "* `[^a-z]`    : 排除型的字元範圍。符合任何不在Unicode編碼表指定範圍內的任意字元。  \n",
    "            例如，「[^a-z]」可以符合任何不在「a」到「z」範圍內的任意字元。  \n",
    "* `\\d`  : 符合一個數字字元。等價於[0-9]。注意Unicode正規表示式會符合全形數字字元。  \n",
    "* `\\D`  : 符合一個非數字字元。  \n",
    "* `\\r`  : 符合一個回車字元。  \n",
    "* `\\s`  : 符合任何空白字元，包括空格、制表符、換頁符等等。  \n",
    "* `\\S`  : 符合任何非空白字元。  \n",
    "* `\\t`  : 符合一個制表符。  \n",
    "* `\\n`  : 符合一個換行符。  \n",
    "* `\\w`  : 符合包括底線的任何單詞字元。等價於「`[A-Za-z0-9_]`」  \n",
    "* `\\W`  : 符合任何非單詞字元。等價於「`[^A-Za-z0-9_]`」。  \n",
    "\n",
    "pass"
   ]
  },
  {
   "cell_type": "markdown",
   "metadata": {},
   "source": [
    "<參考> https://docs.python.org/zh-tw/3/library/re.html\n",
    "### re --- 正規表示式 (regular expression) 操作\n",
    "pass"
   ]
  },
  {
   "cell_type": "markdown",
   "metadata": {},
   "source": [
    "<參考> https://steam.oxxostudio.tw/category/python/library/re.html  \n",
    "**[使用正規表達式 re]**  \n",
    "\n",
    "##### import re \n",
    "要使用 re 必須先 import re 模組，或使用 from 的方式，單獨 import 特定的類型。  \n",
    "```python\n",
    "import re\n",
    "from re import sample\n",
    "```\n",
    "\n",
    "##### compile(pattern)\n",
    "* `re.compile(pattern)` 可以建立一個正規表達式的規則，規則建立後，就能使用 re 的其他方法執行套用這個規則的對象，  \n",
    "舉例來說，下方的程式碼執行後，會建立找尋「連續三個數字」的規則，接著使用 search 的方法，就能找到 123 這三個字串\n",
    "ps. 配對的規則通常會用「r」進行標示，例如 r'str'。\n",
    "    ```python\n",
    "    import re\n",
    "    role = re.compile(r'\\d\\d\\d')       # 連續三個數字\n",
    "    result = role.search('abc123xyz')  # 使用 search 方法，使用建立的規則，搜尋 abc123xyz\n",
    "    print(result.group())              # 123\n",
    "    ```\n",
    "\n",
    "* `re.compile(pattern)` 還有第二個參數 flags，預設不需要填寫，可以額外設定一些正規表達式的匹配方式，flags 有幾種參數可供設定：Ex. `re.I`    忽略字母大小寫。  \n",
    "    ```python\n",
    "    import re\n",
    "    role = re.compile(r'hello', flags=re.I)  # 匹配 hello，不論大小寫\n",
    "    result = role.search('HeLlo World')\n",
    "    print(result.group())                    # HeLlo\n",
    "    ```"
   ]
  },
  {
   "cell_type": "code",
   "execution_count": 13,
   "metadata": {},
   "outputs": [
    {
     "name": "stdout",
     "output_type": "stream",
     "text": [
      "<re.Match object; span=(0, 11), match='HeLlo World'>\n",
      "(0, 11)\n",
      "('HeLlo', 'World')\n",
      "HeLlo World\n",
      "HeLlo\n",
      "World\n",
      "<re.Match object; span=(0, 5), match='HeLlo'>\n",
      "()\n",
      "HeLlo\n"
     ]
    },
    {
     "ename": "IndexError",
     "evalue": "no such group",
     "output_type": "error",
     "traceback": [
      "\u001b[1;31m---------------------------------------------------------------------------\u001b[0m",
      "\u001b[1;31mIndexError\u001b[0m                                Traceback (most recent call last)",
      "Cell \u001b[1;32mIn[13], line 17\u001b[0m\n\u001b[0;32m     15\u001b[0m \u001b[38;5;28mprint\u001b[39m(result_match2\u001b[38;5;241m.\u001b[39mgroups())   \u001b[38;5;66;03m# ()\u001b[39;00m\n\u001b[0;32m     16\u001b[0m \u001b[38;5;28mprint\u001b[39m(result_match2\u001b[38;5;241m.\u001b[39mgroup())    \u001b[38;5;66;03m# HeLlo\u001b[39;00m\n\u001b[1;32m---> 17\u001b[0m \u001b[38;5;28mprint\u001b[39m(\u001b[43mresult_match2\u001b[49m\u001b[38;5;241;43m.\u001b[39;49m\u001b[43mgroup\u001b[49m\u001b[43m(\u001b[49m\u001b[38;5;241;43m1\u001b[39;49m\u001b[43m)\u001b[49m)   \u001b[38;5;66;03m# 發生錯誤  no such group\u001b[39;00m\n",
      "\u001b[1;31mIndexError\u001b[0m: no such group"
     ]
    }
   ],
   "source": [
    "# 進行正規表達式搜尋字串內容後，預設將匹配的資料分成同一組，也可在搜尋時使用「小括號」進行搜尋資料的「分組」，接著使用「group」或「groups」，將匹配到的資料內容取出。\n",
    "import re\n",
    "role1 = re.compile(r'(hello) (world)', flags=re.I)\n",
    "result_match1 = role1.match('HeLlo World, Hello oxxo')\n",
    "print(result_match1)            # <re.Match object; span=(0, 11), match='HeLlo World'>\n",
    "print(result_match1.span())     # (0, 11)\n",
    "print(result_match1.groups())   # ('HeLlo', 'World')  ## groups() 傳回所有括號符合的字符，以tuple格式。\n",
    "print(result_match1.group())    ## group（0）和group（）效果相同，都是取得所取得的字串整體。\n",
    "print(result_match1.group(1))   # HeLlo\n",
    "print(result_match1.group(2))   # World\n",
    "\n",
    "role2 = re.compile(r'hello', flags=re.I)\n",
    "result_match2 = role2.match('HeLlo World, Hello oxxo')\n",
    "print(result_match2)\n",
    "print(result_match2.groups())   # ()\n",
    "print(result_match2.group())    # HeLlo\n",
    "print(result_match2.group(1))   # 發生錯誤  no such group"
   ]
  },
  {
   "cell_type": "code",
   "execution_count": 6,
   "metadata": {},
   "outputs": [
    {
     "name": "stdout",
     "output_type": "stream",
     "text": [
      "找不到資料\n"
     ]
    }
   ],
   "source": [
    "# 由於使用 group 或 groups 時，如果找不到 group 會發生錯誤 ( 沒有匹配就沒有 group )，所以可以先使用 if 判斷式先行篩選，避免錯誤狀況發生，下方的程式碼執行後，會判斷 result 是否為 None，如果是 None 就直接印出找不到資料的文字。\n",
    "\n",
    "import re\n",
    "role = re.compile(r'hello', flags=re.I)\n",
    "result = role.fullmatch('HeLlo World, Hello oxxo')\n",
    "if result == None:\n",
    "    print('找不到資料')      # 沒有匹配就印出找不到資料\n",
    "else:\n",
    "    print(result.group())  # 有匹配就印出結果"
   ]
  },
  {
   "cell_type": "markdown",
   "metadata": {},
   "source": [
    "### [緣由]<參考>\n",
    "### [1 分鐘搞懂 Python 迴圈控制：break、continue、pass]\n",
    "https://medium.com/@chiayinchen/1-分鐘搞懂-python-迴圈控制-break-continue-pass-be290cd1f9d8\n",
    "\n",
    "#### 情境 2：比對\n",
    "檢查 email 是否為公司官方信箱，如出現 hello、contact、sales、support、business、info 等關鍵字。\n",
    " Note：\n",
    " 利用 break 告訴迴圈當 email 字串中包含 email_out 列表 (List) 中的關鍵字時，要強制結束迴圈。"
   ]
  },
  {
   "cell_type": "markdown",
   "metadata": {},
   "source": [
    " Note：\n",
    " 利用 break 告訴迴圈當 email 字串中包含 email_out 列表 (List) 中的關鍵字時，要強制結束迴圈。"
   ]
  },
  {
   "cell_type": "code",
   "execution_count": 18,
   "metadata": {},
   "outputs": [
    {
     "name": "stdout",
     "output_type": "stream",
     "text": [
      "carol@gmail.com 為個人信箱\n",
      "Support@gmail.com 中包含 support 關鍵字，因此判斷為官方信箱\n"
     ]
    }
   ],
   "source": [
    "import re\n",
    "# 定義函數\n",
    "def detect_email(email):\n",
    "    email_out = ['hello','contact','sales','support','business','info']\n",
    "    for e_out in email_out:\n",
    "        pattern = re.compile('.*' + e_out + '.*')\n",
    "        r = re.match(pattern, email.lower())\n",
    "        if r is not None:\n",
    "            print('{} 中包含 {} 關鍵字，因此判斷為官方信箱'.format(email, e_out))\n",
    "            break\n",
    "    else:\n",
    "            print('{} 為個人信箱'.format(email))\n",
    "        \n",
    "# 呼叫函數\n",
    "detect_email('carol@gmail.com')\n",
    "detect_email('Support@gmail.com')"
   ]
  },
  {
   "cell_type": "markdown",
   "metadata": {},
   "source": [
    "#### from chatgpt  \n",
    "Question: '.*' 是正規表示式中的一個模式，它與'*' 的差異為何？  \n",
    "\n",
    "**Answer:**  \n",
    "##### `.*` 的意思：\n",
    "* `.`: 代表任意單一字元（除了換行符號）。\n",
    "* `*`: 代表前面的字元或子模式可以出現零次或多次。\n",
    "組合在一起，`.*` 代表“零個或多個任意字元”，即可以匹配任意數量的任意字元（包括空字串）。\n",
    "例如：正規表示式 .* 可以符合：\n",
    "    空字串 \"\"\n",
    "    任意單一字元 \"a\"\n",
    "    多個字元 \"abc\"\n",
    "    甚至是整行字元 \"This is a test line\"\n",
    "\n",
    "##### `*` 的意思：  \n",
    "`*` 單獨使用是沒有意義的，因為它必須跟在一個字元或子模式後面，表示該字元或子模式出現零次或多次。\n",
    "正規表示式 (abc)* 表示零個或多個 'abc' 的重複：\n",
    "    可以匹配空字串 \"\"\n",
    "    單一 'abc' \"abc\"\n",
    "    多 'abc' \"abcabc\""
   ]
  },
  {
   "cell_type": "markdown",
   "metadata": {},
   "source": [
    "#### from chatgpt\n",
    "**Question**: 接上述，若email=carol@gmail.com時，r = re.match(pattern, email)用法為何？  \n",
    "\n",
    "**Answer:**  \n",
    "在你的範例中，如果我們有一個電子郵件地址 email = \"carol@gmail.com\"，而我們使用 `re.match` 方法來匹配這個電子郵件地址，具體的用法將取決於我們定義的 pattern。\n",
    "\n",
    "假設我們繼續使用先前的 `pattern = re.compile('.*' + e_out + '.*')`，且 e_out = 'support'，那麼整個正規表示式模式將是 '.*support.*'。這個模式用來匹配任意包含 support 的字串。以下是具體的使用方法：\n",
    "```python\n",
    "import re\n",
    "\n",
    "e_out = 'support'\n",
    "pattern = re.compile('.*' + e_out + '.*')\n",
    "email = \"carol@gmail.com\"\n",
    "```\n",
    "\n",
    "##### 使用 re.match() 方法\n",
    "```python\n",
    "r = re.match(pattern, email)\n",
    "\n",
    "if r:\n",
    "    print(f\"Email matches: {email}\")\n",
    "else:\n",
    "    print(\"Email does not match.\")\n",
    "```\n"
   ]
  },
  {
   "cell_type": "code",
   "execution_count": 16,
   "metadata": {},
   "outputs": [
    {
     "name": "stdout",
     "output_type": "stream",
     "text": [
      "Email does not match.\n"
     ]
    }
   ],
   "source": [
    "import re\n",
    "\n",
    "e_out = 'support'\n",
    "pattern = re.compile('.*' + e_out + '.*')\n",
    "email = \"carol@gmail.com\"\n",
    "\n",
    "# 使用 re.match() 方法\n",
    "r = re.match(pattern, email)\n",
    "\n",
    "if r:\n",
    "    print(f\"Email matches: {email}\")\n",
    "else:\n",
    "    print(\"Email does not match.\")\n"
   ]
  },
  {
   "cell_type": "markdown",
   "metadata": {},
   "source": [
    "#### from chatgpt  \n",
    "##### 更改 pattern 以符合電子郵件  \n",
    "如果我們想要匹配電子郵件地址，我們需要一個不同的正規表示式模式。例如：\n",
    "\n",
    "##### `pattern = re.compile(r'.*@.*\\..*')`\n",
    "\n",
    "這個模式的解釋如下：  \n",
    "* `.*` 表示任意數量的任意字元（包括零個字元）。  \n",
    "* `@` 是匹配字元 @。  \n",
    "* `.*` 再次表示任意數量的任意字元。  \n",
    "* `\\.` 匹配字元 .。  \n",
    "* `.*` 再次表示任意數量的任意字元。  \n",
    "\n",
    "\n",
    "以下是使用該模式來匹配電子郵件地址的範例：\n",
    "```python\n",
    "import re\n",
    "\n",
    "pattern = re.compile(r'.*@.*\\..*')\n",
    "email = \"carol@gmail.com\"\n",
    "\n",
    "# 使用 re.match() 方法\n",
    "r = re.match(pattern, email)\n",
    "\n",
    "if r:\n",
    "    print(f\"Email matches: {email}\")\n",
    "else:\n",
    "    print(\"Email does not match.\")\n",
    "```\n",
    "\n",
    "\n",
    "**總結**  \n",
    "使用 `re.match(pattern, email)` 可以檢查電子郵件地址是否符合給定的正規表示式模式。\n",
    "正規表示式 '.*support.*' 用於匹配包含 support 的字串，  \n",
    "而 `r'.*@.*\\..*'` 則是一個通用的匹配電子郵件地址的正規表示式模式。"
   ]
  },
  {
   "cell_type": "code",
   "execution_count": 17,
   "metadata": {},
   "outputs": [
    {
     "name": "stdout",
     "output_type": "stream",
     "text": [
      "Email matches: carol@gmail.com\n"
     ]
    }
   ],
   "source": [
    "import re\n",
    "\n",
    "pattern = re.compile(r'.*@.*\\..*')\n",
    "email = \"carol@gmail.com\"\n",
    "\n",
    "# 使用 re.match() 方法\n",
    "r = re.match(pattern, email)\n",
    "\n",
    "if r:\n",
    "    print(f\"Email matches: {email}\")\n",
    "else:\n",
    "    print(\"Email does not match.\")\n"
   ]
  },
  {
   "cell_type": "code",
   "execution_count": 1,
   "metadata": {},
   "outputs": [
    {
     "name": "stdout",
     "output_type": "stream",
     "text": [
      "Email\t GeoJSON@gmail.com : matches\n",
      "Email\t GeoPython@gmail.com : matches\n",
      "Email\t GeoGit.gmail.com : does not match.\n"
     ]
    }
   ],
   "source": [
    "# 使用 loop 方法\n",
    "import re\n",
    "\n",
    "def detect_email(email):    \n",
    "    pattern = re.compile(r'.*@.*\\..*')\n",
    "    email_match = re.match(pattern, email)  # 使用 re.match() 方法\n",
    "\n",
    "    if  email_match:\n",
    "        print(f\"Email\\t {email} : matches\")\n",
    "    else:\n",
    "        print(f\"Email\\t {email} : does not match.\")\n",
    "\n",
    "emails=['GeoJSON@gmail.com','GeoPython@gmail.com','GeoGit.gmail.com']\n",
    "for i in emails:\n",
    "  detect_email(i)      "
   ]
  },
  {
   "cell_type": "code",
   "execution_count": 4,
   "metadata": {},
   "outputs": [
    {
     "name": "stdout",
     "output_type": "stream",
     "text": [
      "Email\t GeoJSON@gmail.com : does not match.\n",
      "Email\t GeoPython@gmail.com : does not match.\n",
      "Email\t GeoSales.gmail.com : does not match.\n",
      "emali\t GeoSales@gmail.com : match\n",
      "Email\t GeoInf@gmail.com : does not match.\n"
     ]
    }
   ],
   "source": [
    "import re\n",
    "mail_key=[]\n",
    "def chk_mail(email):\n",
    "    for mail_key in mail_keys:\n",
    "        pattern=re.compile('.*' + mail_key + '@.*\\..*')\n",
    "        mail_match=re.match(pattern,email.lower())\n",
    "        if mail_match:\n",
    "            print(f'emali\\t {email} : match')\n",
    "            break\n",
    "#    else:\n",
    "    if mail_match is None:\n",
    "            print(f\"Email\\t {email} : does not match.\")\n",
    "\n",
    "mail_keys = ['hello','contact','sales','support','business','info']\n",
    "emails=['GeoJSON@gmail.com','GeoPython@gmail.com','GeoSales.gmail.com','GeoSales@gmail.com','GeoInf@gmail.com']\n",
    "for i in emails:\n",
    "  chk_mail(i)  "
   ]
  },
  {
   "cell_type": "code",
   "execution_count": 5,
   "metadata": {},
   "outputs": [
    {
     "name": "stdout",
     "output_type": "stream",
     "text": [
      "Email\t GeoJSON@gmail.com : does not match.\n",
      "Email\t GeoPython@gmail.com : does not match.\n",
      "Email\t GeoSales.gmail.com : does not match.\n",
      "emali\t GeoSales@gmail.com : match\n",
      "Email\t GeoInf@gmail.com : does not match.\n"
     ]
    }
   ],
   "source": [
    "# re.compile 使用 flags = re.I\n",
    "\n",
    "import re\n",
    "mail_key=[]\n",
    "def chk_mail(email):\n",
    "    for mail_key in mail_keys:\n",
    "        pattern=re.compile('.*' + mail_key + '@.*\\..*',flags=re.I)  #使用flags = re.I\n",
    "        mail_match=re.match(pattern,email)  #email.lower()可省略成email\n",
    "        if mail_match:\n",
    "            print(f'emali\\t {email} : match')\n",
    "            break\n",
    "#    else:\n",
    "    if mail_match is None:\n",
    "            print(f\"Email\\t {email} : does not match.\")\n",
    "\n",
    "mail_keys = ['hello','contact','sales','support','business','info']\n",
    "emails=['GeoJSON@gmail.com','GeoPython@gmail.com','GeoSales.gmail.com','GeoSales@gmail.com','GeoInf@gmail.com']\n",
    "for i in emails:\n",
    "  chk_mail(i)  "
   ]
  },
  {
   "cell_type": "markdown",
   "metadata": {},
   "source": [
    "===============================================================\n",
    "設定包含中英文字"
   ]
  },
  {
   "cell_type": "markdown",
   "metadata": {},
   "source": [
    "#### 透過chatGPT -1\n",
    "##### Question : 在re.search()如何設定包含中英文字？  \n",
    "##### Answer:  \n",
    "要在 Python 的 `re.search()` 中設置匹配包含中英文字符的字符串，可以使用 Unicode 字符類型。  \n",
    "**Unicode 字符類型**  \n",
    "* `\\u4e00-\\u9fff` 用於匹配中文字符，\n",
    "* `\\w` 用於匹配英文字符和數字（還包括下劃線 _）。\n",
    "\n",
    "以下是一些示例："
   ]
  },
  {
   "cell_type": "code",
   "execution_count": 1,
   "metadata": {},
   "outputs": [
    {
     "name": "stdout",
     "output_type": "stream",
     "text": [
      "匹配成功: Hello\n"
     ]
    }
   ],
   "source": [
    "import re\n",
    "\n",
    "# 示例字符串\n",
    "text = \"Hello 你好 world 世界\"\n",
    "\n",
    "# 匹配包含中英文字符的模式\n",
    "pattern = r'[\\w\\u4e00-\\u9fff]+'\n",
    "\n",
    "# 搜索匹配\n",
    "match = re.search(pattern, text)\n",
    "\n",
    "if match:\n",
    "    print(\"匹配成功:\", match.group())\n",
    "else:\n",
    "    print(\"未找到匹配\")\n"
   ]
  },
  {
   "cell_type": "markdown",
   "metadata": {},
   "source": [
    "### **解釋**\n",
    "* `\\w` 匹配字母、數字和下劃線，即 [a-zA-Z0-9_]\n",
    "* `\\u4e00-\\u9fff` 匹配 Unicode 范圍內的中文字符\n",
    "* `[\\w\\u4e00-\\u9fff]+` 匹配一個或多個中英文字符\n",
    "如果你想要更精確地匹配，可能需要根據實際需求進行調整。例如，如果你只想匹配中英文字符而不包括數字，可以使用 [a-zA-Z\\u4e00-\\u9fff]+。\n",
    "\n",
    "\n",
    "更多示例：\n",
    "* 只匹配中英文字符（不包括數字和下劃線）：  \n",
    "`pattern = r'[a-zA-Z\\u4e00-\\u9fff]+'`\n",
    "\n",
    "* 匹配中英文字符及空格（允許空格分隔的詞組）：  \n",
    "`pattern = r'[a-zA-Z\\u4e00-\\u9fff\\s]+'`\n",
    "\n",
    "* 匹配中英文字符及標點符號：  \n",
    "`pattern = r'[a-zA-Z\\u4e00-\\u9fff.,!?，。！？]+'`\n",
    "\n",
    "使用這些模式可以靈活匹配各種包含中英文字符的字符串。根據具體需求選擇合適的正則表達式模式。"
   ]
  },
  {
   "cell_type": "code",
   "execution_count": 2,
   "metadata": {},
   "outputs": [
    {
     "name": "stdout",
     "output_type": "stream",
     "text": [
      "在 'Hello 你好' 中匹配成功: Hello\n",
      "在 'world 世界' 中匹配成功: world\n",
      "在 'Python123 编程' 中匹配成功: Python\n",
      "在 '只包含中文' 中匹配成功: 只包含中文\n",
      "在 'Only English' 中匹配成功: Only\n",
      "在 '12345' 中未找到匹配\n",
      "在 '包含标点符号，! Hello！' 中匹配成功: 包含标点符号\n"
     ]
    }
   ],
   "source": [
    "#完整代碼示例\n",
    "#這段代碼會逐個檢查每個字符串中是否包含中英文字符並輸出匹配結果。\n",
    "import re\n",
    "\n",
    "# 示例字符串\n",
    "texts = [\n",
    "    \"Hello 你好\",\n",
    "    \"world 世界\",\n",
    "    \"Python123 编程\",\n",
    "    \"只包含中文\",\n",
    "    \"Only English\",\n",
    "    \"12345\",\n",
    "    \"包含标点符号，! Hello！\"\n",
    "]\n",
    "\n",
    "# 匹配包含中英文字符的模式\n",
    "pattern = r'[a-zA-Z\\u4e00-\\u9fff]+'\n",
    "\n",
    "for text in texts:\n",
    "    match = re.search(pattern, text)\n",
    "    if match:\n",
    "        print(f\"在 '{text}' 中匹配成功: {match.group()}\")\n",
    "    else:\n",
    "        print(f\"在 '{text}' 中未找到匹配\")\n"
   ]
  },
  {
   "cell_type": "markdown",
   "metadata": {},
   "source": [
    "設定包含中英文字\n",
    "~~~~ End ~~~\n",
    "==============================================================="
   ]
  },
  {
   "cell_type": "markdown",
   "metadata": {},
   "source": [
    "## pass"
   ]
  },
  {
   "cell_type": "markdown",
   "metadata": {},
   "source": [
    "======================================================================"
   ]
  },
  {
   "cell_type": "markdown",
   "metadata": {},
   "source": [
    "### 給自己的Python小筆記 — 強大的數據處理工具 — 正則表達式 — Regular Expression — regex詳細教學  \n",
    "https://chwang12341.medium.com/給自己的python小筆記-強大的數據處理工具-正則表達式-regular-expression-regex詳細教學-a5d20341a0b2  \n"
   ]
  },
  {
   "cell_type": "markdown",
   "metadata": {},
   "source": [
    "+++++++++++++++++++++++++++++++++++++++++++++++++++++++++++++++++++++++"
   ]
  },
  {
   "cell_type": "markdown",
   "metadata": {},
   "source": [
    "### **Regular Expressions (Regex)**\n",
    "https://www3.ntu.edu.sg/home/ehchua/programming/howto/Regexe.html"
   ]
  }
 ],
 "metadata": {
  "kernelspec": {
   "display_name": "yt.venv",
   "language": "python",
   "name": "python3"
  },
  "language_info": {
   "codemirror_mode": {
    "name": "ipython",
    "version": 3
   },
   "file_extension": ".py",
   "mimetype": "text/x-python",
   "name": "python",
   "nbconvert_exporter": "python",
   "pygments_lexer": "ipython3",
   "version": "3.10.8"
  }
 },
 "nbformat": 4,
 "nbformat_minor": 2
}
