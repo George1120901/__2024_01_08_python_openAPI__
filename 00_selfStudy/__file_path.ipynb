{
 "cells": [
  {
   "cell_type": "markdown",
   "metadata": {},
   "source": [
    "### **Get the filename, directory, extension from a path string in Python**  \n",
    "[參考網址](https://note.nkmk.me/en/python-os-basename-dirname-split-splitext/)Modified:2023-05-08  \n",
    "\n",
    "pass"
   ]
  },
  {
   "cell_type": "markdown",
   "metadata": {},
   "source": [
    "* os.path在Python中，可以從路徑字串中取得檔案名稱（basename）、目錄（資料夾）名稱和副檔名，或將這些字串與標準庫中的模組連接起來產生路徑字串。\n",
    "* In Python, you can get the filename (basename), directory (folder) name, and extension from a path string or join the strings to generate the path string with the os.path module in the standard library.\n",
    "\n",
    "[**os.path — 常見路徑名操作 — Python 3.11.3 文檔**](https://docs.python.org/3/library/os.path.html)"
   ]
  },
  {
   "cell_type": "markdown",
   "metadata": {},
   "source": [
    "### **Contents**\n",
    "* Difference in path separator by OS\n",
    "* Get the filename (basename) from a path:  `os.path.basename()`\n",
    "    * Filename with extension\n",
    "    * Filename without extension\n",
    "* Get the directory (folder) name from a path: `os.path.dirname()`\n",
    "* Get the file and directory name pair: `os.path.split()`\n",
    "    * Notes on when a path string indicates a directory\n",
    "* Get the extension: `os.path.splitext()`\n",
    "    * Create a path string with a different extension\n",
    "    * Get the extension without dot (period)\n",
    "    * Examples of cases like .tar.gz\n",
    "* Create a path string by combining the file and directory names: `os.path.join()`\n",
    "    * Create a path string for another file in the same directory\n",
    "* Use different OS formats\n",
    "* Examples for Windows\n",
    "    * Backslash and raw string\n",
    "    * Examples of getting file name, folder name, extension\n",
    "    * Get and join a drive letter: `os.path.splitdrive()`"
   ]
  },
  {
   "cell_type": "markdown",
   "metadata": {},
   "source": [
    "* ### **Difference in path separator by OS**\n",
    "The path separator varies depending on the OS. UNIX (including Mac) uses the slash `/`, while Windows uses the backslash `\\`.\n",
    "\n",
    "You can get the separator in the OS running Python with `os.sep` or `os.path.sep`\n",
    "\n",
    "```python\n",
    "import os\n",
    "\n",
    "filepath = './dir/subdir/filename.ext'\n",
    "print(os.sep)\n",
    "print(os.sep is os.path.sep)\n",
    "```"
   ]
  },
  {
   "cell_type": "code",
   "execution_count": 3,
   "metadata": {},
   "outputs": [
    {
     "name": "stdout",
     "output_type": "stream",
     "text": [
      "\\\n",
      "True\n"
     ]
    }
   ],
   "source": [
    "import os\n",
    "\n",
    "filepath = './dir/subdir/filename.ext'\n",
    "print(os.sep)\n",
    "print(os.sep is os.path.sep)"
   ]
  },
  {
   "cell_type": "markdown",
   "metadata": {},
   "source": [
    "* ### **Get the filename (basename) from a path: `os.path.basename()`**  \n",
    "Use `os.path.basename()` to get the filename (basename) from a path string.  \n",
    "\n",
    "* #### **Filename with extension**  \n",
    "`os.path.basename()` returns the filename with the extension.\n",
    "```python\n",
    "filepath = './dir/subdir/filename.ext'\n",
    "\n",
    "basename = os.path.basename(filepath)\n",
    "print(basename)\n",
    "# filename.ext\n",
    "\n",
    "print(type(basename))\n",
    "# <class 'str'>\n",
    "```\n",
    "\n",
    "* #### **Filename without extension**  \n",
    "You can get the filename without the extension with `os.path.splitext()` described later.  \n",
    "```python\n",
    "filepath = './dir/subdir/filename.ext'\n",
    "\n",
    "basename_without_ext = os.path.splitext(os.path.basename(filepath))[0]\n",
    "print(basename_without_ext)\n",
    "# filename\n",
    "```\n",
    "\n",
    "**os.path.splitext() split at the last (right) dot `.`, If you want to split by the first (left) dot `.`, use split()**  \n",
    "```python\n",
    "filepath_tar_gz = './dir/subdir/filename.tar.gz'\n",
    "\n",
    "print(os.path.splitext(os.path.basename(filepath_tar_gz))[0])\n",
    "# filename.tar\n",
    "\n",
    "print(os.path.basename(filepath_tar_gz).split('.', 1)[0])\n",
    "# filename\n",
    "```"
   ]
  },
  {
   "cell_type": "code",
   "execution_count": 22,
   "metadata": {},
   "outputs": [
    {
     "name": "stdout",
     "output_type": "stream",
     "text": [
      "filename.ext\n",
      "<class 'str'> \n",
      "\n",
      "filename \n",
      "\n",
      ".ext \n",
      "\n",
      "filename.tar..gz \n",
      "\n",
      "filename\n"
     ]
    }
   ],
   "source": [
    "filepath = './dir/subdir/filename.ext'\n",
    "filepath_tar_gz = './dir/subdir/filename.tar.gz.rar'\n",
    "\n",
    "basename = os.path.basename(filepath)\n",
    "print(basename)\n",
    "print(type(basename),'\\n')\n",
    "\n",
    "basename_without_ext = os.path.splitext(os.path.basename(filepath))[0]\n",
    "print(basename_without_ext,'\\n')\n",
    "basename_ext = os.path.splitext(os.path.basename(filepath))[1]\n",
    "print(basename_ext,'\\n')\n",
    "\n",
    "print(os.path.splitext(os.path.basename(filepath_tar_gz))[0],'\\n')\n",
    "print(os.path.basename(filepath_tar_gz).split('.', 1)[0])"
   ]
  },
  {
   "cell_type": "markdown",
   "metadata": {},
   "source": [
    "* ### **Get the directory (folder) name from a path: `os.path.dirname()`**\n",
    "Use `os.path.dirname()` to get the directory folder (name) from a path string.\n",
    "If you want to get only the directory name directly above the file, use `os.path.basename()`.\n",
    "\n",
    "```python\n",
    "filepath = './dir/subdir/filename.ext'\n",
    "\n",
    "dirname = os.path.dirname(filepath)\n",
    "print(dirname)\n",
    "# ./dir/subdir\n",
    "print(type(dirname),'\\n')\n",
    "# <class 'str'>\n",
    "\n",
    "subdirname = os.path.basename(os.path.dirname(filepath))\n",
    "print(subdirname)\n",
    "# subdir\n",
    "```\n"
   ]
  },
  {
   "cell_type": "code",
   "execution_count": 24,
   "metadata": {},
   "outputs": [
    {
     "name": "stdout",
     "output_type": "stream",
     "text": [
      "./dir/subdir\n",
      "<class 'str'> \n",
      "\n",
      "subdir\n"
     ]
    }
   ],
   "source": [
    "filepath = './dir/subdir/filename.ext'\n",
    "\n",
    "dirname = os.path.dirname(filepath)\n",
    "print(dirname)\n",
    "# ./dir/subdir\n",
    "print(type(dirname),'\\n')\n",
    "# <class 'str'>\n",
    "\n",
    "subdirname = os.path.basename(os.path.dirname(filepath))\n",
    "print(subdirname)\n",
    "# subdir"
   ]
  },
  {
   "cell_type": "markdown",
   "metadata": {},
   "source": [
    "*** \n",
    "---"
   ]
  },
  {
   "cell_type": "markdown",
   "metadata": {},
   "source": [
    "### **using ffmpeg to extract audio from video files**\n",
    "[參考網址](https://gist.github.com/whizkydee/804d7e290f46c73f55a84db8a8936d74)\n",
    "\n",
    "pass"
   ]
  },
  {
   "cell_type": "markdown",
   "metadata": {},
   "source": [
    "---  \n",
    "---\n"
   ]
  },
  {
   "cell_type": "code",
   "execution_count": 6,
   "metadata": {},
   "outputs": [
    {
     "name": "stdout",
     "output_type": "stream",
     "text": [
      "全名 :  【Relaxing Ghibli】 ジブリメドレーピアノ🌹史 上 最 高 のピアノジブリコレクション 🌻 考えすぎるのをやめる 🥀 魔女の宅急便, となりのトトロ, 千と千尋の神隠し\n",
      "【Relaxing Ghibli】 ジブリメドレーピアノ🌹史 上 最 高 のピアノジブリコレクション 🌻 考えすぎるのをやめる 🥀 魔女の宅急便, となりのトトロ, 千と千尋の神隠し\n",
      "簡稱 :  Relaxing Ghibli\n",
      "downdload < 【Relaxing Ghibli】 ジブリメドレーピアノ🌹史 上 最 高 のピアノジブリコレクション 🌻 考えすぎるのをやめる 🥀 魔女の宅急便, となりのトトロ, 千と千尋の神隠し > 完成\n",
      "C:/Users/Lu/Documents/youtube/yt_audio_Relaxing Ghibli.mp3 已存在\n"
     ]
    }
   ],
   "source": [
    "# 探討源 :\n",
    "# V0.93 --> copy of V0.90\n",
    "# convert_mp4_to_mp3(input_file, output_file) : '-q:a', '2',   -->預設\n",
    "# convert_mp4_to_mp3重複(同檔名.mp3)對應 -2\n",
    "\n",
    "from pytube import YouTube\n",
    "import re\n",
    "import subprocess\n",
    "\n",
    "def streams_analysis(url):\n",
    "    yt = YouTube(url) \n",
    "    # 影片格式分析\n",
    "    print(f'標題: {yt.title}')              # 影片標題\n",
    "    print(f'長度(s): {yt.length}')          # 影片長度 ( 秒 )\n",
    "    print(f'作者: {yt.author}')             # 影片作者\n",
    "    print(f'網址: {yt.channel_url}')        # 影片作者頻道網址\n",
    "    print(f'縮圖網址: {yt.thumbnail_url}')  # 影片縮圖網址\n",
    "    print(f'觀看數: {yt.views}')            # 影片觀看數\n",
    "\n",
    "    # 分析\n",
    "    print(f'支援畫質:{yt.streams}')  # 影片支援哪些畫質\n",
    "    print('影片支援畫質數: ',len(yt.streams))\n",
    "\n",
    "    for st in yt.streams:\n",
    "        print(st)\n",
    "    print('media格式分析完成')\n",
    "\n",
    "def get_audio_only(url):\n",
    "    yt = YouTube(url)   \n",
    "    print('全名 : ',yt.title)\n",
    "    list=['/',':','\"','<','>','\\?','\\*']\n",
    "    yt_titles = yt.title\n",
    "    for i in list:\n",
    "        yt_title = re.sub(f'{i}','_',yt_titles)\n",
    "        yt_titles = yt_title\n",
    "    print(yt_titles)\n",
    "\n",
    "    #yt_title = re.search(r'[A-Za-z0-9_ ]+',yt_titles).group()\n",
    "    yt_title = re.search(r'[\\w\\u4e00-\\u9fff\\s]+',yt_titles).group() #設定包含中英文字\n",
    "    print('簡稱 : ',yt_title)\n",
    "\n",
    "    yt_audio = yt.streams.filter(abr='128kbps').first()\n",
    "    yt_audio.download(output_path='C:/Users/Lu/Documents/youtube',filename=f'yt_audio_{yt_title}.mp4', skip_existing=True, max_retries=0)  \n",
    "    print(f'downdload < {yt.title} > 完成')\n",
    "    return yt_title\n",
    "\n",
    "def convert_mp4_to_mp3(input_file, output_file):\n",
    "    command = [\n",
    "        'ffmpeg',\n",
    "        '-i', input_file,\n",
    "        '-vn',\n",
    "        '-acodec', 'libmp3lame',\n",
    "        '-q:a', '2',\n",
    "        output_file\n",
    "    ]\n",
    "    \n",
    "    if not open(f'C:/Users/Lu/Documents/youtube/yt_audio_{yt_title}.mp3','r',encoding= 'utf-8'):\n",
    "        try:\n",
    "            result = subprocess.run(command, check=True, stdout=subprocess.PIPE, stderr=subprocess.PIPE, text=True,encoding= 'utf-8')  # 設定encoding='utf-8'\n",
    "            print(\"轉換成功！輸出文件位於:\", output_file)\n",
    "        except subprocess.CalledProcessError as e:\n",
    "            print(\"ffmpeg轉換過程中發生錯誤:\", e)\n",
    "            if e.stderr:\n",
    "                print(\"ffmpeg命令輸出:\", e.stderr)\n",
    "            else:\n",
    "                print(\"無法獲取 ffmpeg 錯誤輸出。\")\n",
    "    else:\n",
    "        print(f'C:/Users/Lu/Documents/youtube/yt_audio_{yt_title}.mp3 已存在')\n",
    "\n",
    " \n",
    "# url = 'https://www.youtube.com/watch?v=W7y0hxHw71U'  # 曲目:2024宮崎駿鋼琴音樂合集 - 最佳放鬆音樂《100%無廣告》スタジオジブリGhibli Relaxing Music【スターバックス】工作-讀書專用音樂\n",
    "\n",
    "work_item = int(input('輸入 ( 1 :分析   2:下載   其他:跳出執行 )'))\n",
    "if work_item == 1:\n",
    "   url = str(input(\"輸入影音網址 (Enter the url of media) : \")) \n",
    "   streams_analysis(url) \n",
    "elif work_item == 2:\n",
    "    url = str(input(\"輸入影音網址(Enter the url of media) : \"))  \n",
    "    yt_title = get_audio_only(url)  #返回結果方式\n",
    "    convert_mp4_to_mp3(f'C:/Users/Lu/Documents/youtube/yt_audio_{yt_title}.mp4', f'C:/Users/Lu/Documents/youtube/yt_audio_{yt_title}.mp3')\n",
    "else:\n",
    "     print('輸入 ( 1 :分析   2:下載   其他:跳出執行 )')\n",
    "\n",
    "\n",
    "# media 長度 01:24:56 mp4容量大小80,547KB mp3容量大小92,798KB 處理耗時1m 54.6s-->v0.9"
   ]
  },
  {
   "cell_type": "code",
   "execution_count": 3,
   "metadata": {},
   "outputs": [
    {
     "ename": "FileExistsError",
     "evalue": "[WinError 183] 當檔案已存在時，無法建立該檔案。: 'c:/youtube'",
     "output_type": "error",
     "traceback": [
      "\u001b[1;31m---------------------------------------------------------------------------\u001b[0m",
      "\u001b[1;31mFileExistsError\u001b[0m                           Traceback (most recent call last)",
      "Cell \u001b[1;32mIn[3], line 5\u001b[0m\n\u001b[0;32m      2\u001b[0m \u001b[38;5;28;01mimport\u001b[39;00m \u001b[38;5;21;01mos\u001b[39;00m\n\u001b[0;32m      4\u001b[0m \u001b[38;5;66;03m# Create Directory\u001b[39;00m\n\u001b[1;32m----> 5\u001b[0m \u001b[43mos\u001b[49m\u001b[38;5;241;43m.\u001b[39;49m\u001b[43mmkdir\u001b[49m\u001b[43m(\u001b[49m\u001b[38;5;124;43m\"\u001b[39;49m\u001b[38;5;124;43mc:/youtube\u001b[39;49m\u001b[38;5;124;43m\"\u001b[39;49m\u001b[43m)\u001b[49m  \u001b[38;5;66;03m#如果目錄已經存在，FileExistsError則會引發\u001b[39;00m\n",
      "\u001b[1;31mFileExistsError\u001b[0m: [WinError 183] 當檔案已存在時，無法建立該檔案。: 'c:/youtube'"
     ]
    }
   ],
   "source": [
    "#Import os Library\n",
    "import os\n",
    "\n",
    "# Create Directory\n",
    "os.mkdir(\"c:/youtube\")  #如果目錄已經存在，FileExistsError則會引發"
   ]
  },
  {
   "cell_type": "code",
   "execution_count": 5,
   "metadata": {},
   "outputs": [
    {
     "name": "stdout",
     "output_type": "stream",
     "text": [
      "dir exist\n"
     ]
    }
   ],
   "source": [
    "#Import os Library\n",
    "import os\n",
    "\n",
    "# Create Directory\n",
    "filepath = 'c:/youtube/filename.ext'\n",
    "\n",
    "if not os.path.dirname(filepath) == 'c:/youtube': #如果目錄已經存在，FileExistsError則會引發\n",
    "    print('dir not exist')\n",
    "else:\n",
    "    print('dir exist')\n"
   ]
  },
  {
   "cell_type": "code",
   "execution_count": 11,
   "metadata": {},
   "outputs": [
    {
     "name": "stdout",
     "output_type": "stream",
     "text": [
      "檔案位置 c:/youtube\n"
     ]
    }
   ],
   "source": [
    "#Import os Library\n",
    "import os\n",
    "\n",
    "# Create Directory\n",
    "filepath = 'c:/youtube/filename.ext'\n",
    "\n",
    "if not os.path.dirname(filepath) == 'c:/youtube': # 解決:如果目錄已經存在，FileExistsError則會引發 --> X\n",
    "    os.mkdir(\"c:/youtube\")\n",
    "\n",
    "print('檔案位置 c:/youtube')"
   ]
  },
  {
   "cell_type": "code",
   "execution_count": 18,
   "metadata": {},
   "outputs": [
    {
     "name": "stdout",
     "output_type": "stream",
     "text": [
      "目前資料夾c:\\youtube_test\n",
      "預設檔案位置 c:/youtube\n",
      "out_path >>> c:/youtube\n",
      "目前資料夾c:\\youtube\n"
     ]
    }
   ],
   "source": [
    "#Import os Library\n",
    "import os\n",
    "\n",
    "# Create Directory\n",
    "filepath = 'c:/youtube/filename.ext'\n",
    "\n",
    "os.chdir('c:/youtube_test')\n",
    "print(f'目前資料夾{os.getcwd()}') \n",
    "\n",
    "if not os.path.dirname(filepath) == 'c:/youtube':  # 解決:如果目錄已經存在，FileExistsError則會引發 --> X\n",
    "    os.mkdir(\"c:/youtube\")\n",
    "# print(os.path.dirname(filepath))\n",
    "\n",
    "os.chdir('c:/youtube')\n",
    "print('預設檔案位置 c:/youtube')\n",
    "\n",
    "out_path = os.path.dirname(filepath)\n",
    "print(f'out_path >>> {out_path}')\n",
    "\n",
    "print(f'目前資料夾{os.getcwd()}') \n"
   ]
  },
  {
   "cell_type": "code",
   "execution_count": 3,
   "metadata": {},
   "outputs": [
    {
     "name": "stdout",
     "output_type": "stream",
     "text": [
      "out_path >>> c:/youtube\n"
     ]
    },
    {
     "ename": "FileNotFoundError",
     "evalue": "[WinError 2] 系統找不到指定的檔案。: 'c:/youtube'",
     "output_type": "error",
     "traceback": [
      "\u001b[1;31m---------------------------------------------------------------------------\u001b[0m",
      "\u001b[1;31mFileNotFoundError\u001b[0m                         Traceback (most recent call last)",
      "Cell \u001b[1;32mIn[3], line 11\u001b[0m\n\u001b[0;32m      8\u001b[0m out_path \u001b[38;5;241m=\u001b[39m os\u001b[38;5;241m.\u001b[39mpath\u001b[38;5;241m.\u001b[39mdirname(filepath)\n\u001b[0;32m      9\u001b[0m \u001b[38;5;28mprint\u001b[39m(\u001b[38;5;124mf\u001b[39m\u001b[38;5;124m'\u001b[39m\u001b[38;5;124mout_path >>> \u001b[39m\u001b[38;5;132;01m{\u001b[39;00mout_path\u001b[38;5;132;01m}\u001b[39;00m\u001b[38;5;124m'\u001b[39m) \n\u001b[1;32m---> 11\u001b[0m \u001b[43mos\u001b[49m\u001b[38;5;241;43m.\u001b[39;49m\u001b[43mchdir\u001b[49m\u001b[43m(\u001b[49m\u001b[38;5;124;43mf\u001b[39;49m\u001b[38;5;124;43m'\u001b[39;49m\u001b[38;5;132;43;01m{\u001b[39;49;00m\u001b[43mout_path\u001b[49m\u001b[38;5;132;43;01m}\u001b[39;49;00m\u001b[38;5;124;43m'\u001b[39;49m\u001b[43m)\u001b[49m\n\u001b[0;32m     12\u001b[0m \u001b[38;5;28mprint\u001b[39m(\u001b[38;5;124m'\u001b[39m\u001b[38;5;124m預設檔案位置 c:/youtube\u001b[39m\u001b[38;5;124m'\u001b[39m)\n\u001b[0;32m     13\u001b[0m \u001b[38;5;28mprint\u001b[39m(\u001b[38;5;124mf\u001b[39m\u001b[38;5;124m'\u001b[39m\u001b[38;5;124m目前資料夾\u001b[39m\u001b[38;5;132;01m{\u001b[39;00mos\u001b[38;5;241m.\u001b[39mgetcwd()\u001b[38;5;132;01m}\u001b[39;00m\u001b[38;5;124m'\u001b[39m) \n",
      "\u001b[1;31mFileNotFoundError\u001b[0m: [WinError 2] 系統找不到指定的檔案。: 'c:/youtube'"
     ]
    }
   ],
   "source": [
    "#Import os Library\n",
    "import os\n",
    "\n",
    "# Create Directory\n",
    "filepath = 'c:/youtube/filename.ext'\n",
    "if not os.path.dirname(filepath) == 'c:/youtube': # 解決:如果目錄已經存在，FileExistsError則會引發 --> X\n",
    "    os.mkdir(\"c:/youtube\")\n",
    "out_path = os.path.dirname(filepath)\n",
    "print(f'out_path >>> {out_path}') \n",
    "\n",
    "os.chdir(f'{out_path}')\n",
    "print('預設檔案位置 c:/youtube')\n",
    "print(f'目前資料夾{os.getcwd()}') "
   ]
  },
  {
   "cell_type": "code",
   "execution_count": 13,
   "metadata": {},
   "outputs": [
    {
     "ename": "FileExistsError",
     "evalue": "[WinError 183] 當檔案已存在時，無法建立該檔案。: 'c:/youtube'",
     "output_type": "error",
     "traceback": [
      "\u001b[1;31m---------------------------------------------------------------------------\u001b[0m",
      "\u001b[1;31mFileExistsError\u001b[0m                           Traceback (most recent call last)",
      "Cell \u001b[1;32mIn[13], line 7\u001b[0m\n\u001b[0;32m      5\u001b[0m filepath \u001b[38;5;241m=\u001b[39m \u001b[38;5;124m'\u001b[39m\u001b[38;5;124mc:/youtube/filename.ext\u001b[39m\u001b[38;5;124m'\u001b[39m\n\u001b[0;32m      6\u001b[0m \u001b[38;5;28;01mif\u001b[39;00m \u001b[38;5;129;01mnot\u001b[39;00m os\u001b[38;5;241m.\u001b[39mpath\u001b[38;5;241m.\u001b[39mexists(filepath) : \u001b[38;5;66;03m# 解決:如果目錄已經存在，FileExistsError則會引發 --> X\u001b[39;00m\n\u001b[1;32m----> 7\u001b[0m     \u001b[43mos\u001b[49m\u001b[38;5;241;43m.\u001b[39;49m\u001b[43mmkdir\u001b[49m\u001b[43m(\u001b[49m\u001b[38;5;124;43m\"\u001b[39;49m\u001b[38;5;124;43mc:/youtube\u001b[39;49m\u001b[38;5;124;43m\"\u001b[39;49m\u001b[43m)\u001b[49m\n\u001b[0;32m      8\u001b[0m out_path \u001b[38;5;241m=\u001b[39m os\u001b[38;5;241m.\u001b[39mpath\u001b[38;5;241m.\u001b[39mdirname(filepath)\n\u001b[0;32m      9\u001b[0m \u001b[38;5;28mprint\u001b[39m(\u001b[38;5;124mf\u001b[39m\u001b[38;5;124m'\u001b[39m\u001b[38;5;124mout_path >>> \u001b[39m\u001b[38;5;132;01m{\u001b[39;00mout_path\u001b[38;5;132;01m}\u001b[39;00m\u001b[38;5;124m'\u001b[39m) \n",
      "\u001b[1;31mFileExistsError\u001b[0m: [WinError 183] 當檔案已存在時，無法建立該檔案。: 'c:/youtube'"
     ]
    }
   ],
   "source": [
    "#Import os Library\n",
    "import os\n",
    "\n",
    "# Create Directory\n",
    "filepath = 'c:/youtube/filename.ext'\n",
    "if not os.path.exists(filepath) : # 解決:如果目錄已經存在，FileExistsError則會引發 --> X\n",
    "    os.mkdir(\"c:/youtube\")\n",
    "out_path = os.path.dirname(filepath)\n",
    "print(f'out_path >>> {out_path}') \n",
    "\n",
    "os.chdir(f'{out_path}')\n",
    "print('預設檔案位置 c:/youtube')\n",
    "print(f'目前資料夾{os.getcwd()}') "
   ]
  },
  {
   "cell_type": "code",
   "execution_count": 5,
   "metadata": {},
   "outputs": [
    {
     "name": "stdout",
     "output_type": "stream",
     "text": [
      "dir existed\n",
      "out_path >>> c:/youtube\n",
      "預設檔案位置 c:/youtube\n",
      "目前資料夾c:\\youtube\n"
     ]
    }
   ],
   "source": [
    "# 解決os.mkdir，如果目錄已經存在，FileExistsError則會引發 --> try / except -->ok\n",
    "\n",
    "#Import os Library\n",
    "import os\n",
    "\n",
    "# Create Directory\n",
    "filepath = 'c:/youtube/filename.ext'\n",
    "\n",
    "try:\n",
    "    os.chdir(f'{os.path.dirname(filepath)}')  # 解決:os.mkdir如果目錄已經存在，FileExistsError則會引發 --> OK\n",
    "    print('dir existed')\n",
    "except:\n",
    "    os.mkdir(f'{os.path.dirname(filepath)}')\n",
    "    print(f'建立檔案資料夾 {os.path.dirname(filepath)}')\n",
    "\n",
    "out_path = os.path.dirname(filepath)\n",
    "print(f'out_path >>> {out_path}') \n",
    "\n",
    "os.chdir(f'{out_path}')\n",
    "print(f'預設檔案位置 {os.path.dirname(filepath)}')\n",
    "print(f'目前資料夾{os.getcwd()}') \n"
   ]
  },
  {
   "cell_type": "code",
   "execution_count": 4,
   "metadata": {},
   "outputs": [
    {
     "ename": "AttributeError",
     "evalue": "module 'os' has no attribute 'mkdirs'",
     "output_type": "error",
     "traceback": [
      "\u001b[1;31m---------------------------------------------------------------------------\u001b[0m",
      "\u001b[1;31mFileNotFoundError\u001b[0m                         Traceback (most recent call last)",
      "Cell \u001b[1;32mIn[4], line 12\u001b[0m\n\u001b[0;32m     11\u001b[0m \u001b[38;5;28;01mtry\u001b[39;00m:\n\u001b[1;32m---> 12\u001b[0m     \u001b[43mos\u001b[49m\u001b[38;5;241;43m.\u001b[39;49m\u001b[43mchdir\u001b[49m\u001b[43m(\u001b[49m\u001b[38;5;124;43mf\u001b[39;49m\u001b[38;5;124;43m'\u001b[39;49m\u001b[38;5;132;43;01m{\u001b[39;49;00m\u001b[43mos\u001b[49m\u001b[38;5;241;43m.\u001b[39;49m\u001b[43mpath\u001b[49m\u001b[38;5;241;43m.\u001b[39;49m\u001b[43mdirname\u001b[49m\u001b[43m(\u001b[49m\u001b[43mfilepath\u001b[49m\u001b[43m)\u001b[49m\u001b[38;5;132;43;01m}\u001b[39;49;00m\u001b[38;5;124;43m'\u001b[39;49m\u001b[43m)\u001b[49m  \u001b[38;5;66;03m# 解決:os.mkdir如果目錄已經存在，FileExistsError則會引發 --> OK\u001b[39;00m\n\u001b[0;32m     13\u001b[0m     \u001b[38;5;28mprint\u001b[39m(\u001b[38;5;124m'\u001b[39m\u001b[38;5;124mdir existed\u001b[39m\u001b[38;5;124m'\u001b[39m)\n",
      "\u001b[1;31mFileNotFoundError\u001b[0m: [WinError 3] 系統找不到指定的路徑。: 'c:/youtube_2/audio'",
      "\nDuring handling of the above exception, another exception occurred:\n",
      "\u001b[1;31mAttributeError\u001b[0m                            Traceback (most recent call last)",
      "Cell \u001b[1;32mIn[4], line 15\u001b[0m\n\u001b[0;32m     13\u001b[0m     \u001b[38;5;28mprint\u001b[39m(\u001b[38;5;124m'\u001b[39m\u001b[38;5;124mdir existed\u001b[39m\u001b[38;5;124m'\u001b[39m)\n\u001b[0;32m     14\u001b[0m \u001b[38;5;28;01mexcept\u001b[39;00m:\n\u001b[1;32m---> 15\u001b[0m     \u001b[43mos\u001b[49m\u001b[38;5;241;43m.\u001b[39;49m\u001b[43mmkdirs\u001b[49m(\u001b[38;5;124mf\u001b[39m\u001b[38;5;124m'\u001b[39m\u001b[38;5;132;01m{\u001b[39;00mos\u001b[38;5;241m.\u001b[39mpath\u001b[38;5;241m.\u001b[39mdirname(filepath)\u001b[38;5;132;01m}\u001b[39;00m\u001b[38;5;124m'\u001b[39m)\n\u001b[0;32m     16\u001b[0m     \u001b[38;5;28mprint\u001b[39m(\u001b[38;5;124mf\u001b[39m\u001b[38;5;124m'\u001b[39m\u001b[38;5;124m建立檔案資料夾 \u001b[39m\u001b[38;5;132;01m{\u001b[39;00mos\u001b[38;5;241m.\u001b[39mpath\u001b[38;5;241m.\u001b[39mdirname(filepath)\u001b[38;5;132;01m}\u001b[39;00m\u001b[38;5;124m'\u001b[39m)\n\u001b[0;32m     18\u001b[0m out_path \u001b[38;5;241m=\u001b[39m os\u001b[38;5;241m.\u001b[39mpath\u001b[38;5;241m.\u001b[39mdirname(filepath)\n",
      "\u001b[1;31mAttributeError\u001b[0m: module 'os' has no attribute 'mkdirs'"
     ]
    }
   ],
   "source": [
    "# 解決os.mkdir，如果目錄已經存在，FileExistsError則會引發 --> try / except -->ok\n",
    "\n",
    "#Import os Library\n",
    "import os\n",
    "\n",
    "# Create Directory\n",
    "dir_name = 'youtube_2/audio'\n",
    "# filepath = 'c:/youtube/filename.ext'\n",
    "filepath = f'c:/{dir_name}/filename.ext'\n",
    "\n",
    "try:\n",
    "    os.chdir(f'{os.path.dirname(filepath)}')  # 解決:os.mkdir如果目錄已經存在，FileExistsError則會引發 --> OK\n",
    "    print('dir existed')\n",
    "except:\n",
    "    os.mkdir(f'{os.path.dirname(filepath)}')\n",
    "    print(f'建立檔案資料夾 {os.path.dirname(filepath)}')\n",
    "\n",
    "out_path = os.path.dirname(filepath)\n",
    "print(f'out_path >>> {out_path}') \n",
    "\n",
    "os.chdir(f'{out_path}')\n",
    "print(f'預設檔案位置 {os.path.dirname(filepath)}')\n",
    "print(f'目前資料夾{os.getcwd()}') \n"
   ]
  },
  {
   "cell_type": "code",
   "execution_count": 5,
   "metadata": {},
   "outputs": [
    {
     "name": "stdout",
     "output_type": "stream",
     "text": [
      "建立檔案資料夾 c:/youtube_2/audio\n",
      "out_path >>> c:/youtube_2/audio\n",
      "預設檔案位置 c:/youtube_2/audio\n",
      "目前資料夾c:\\youtube_2\\audio\n"
     ]
    }
   ],
   "source": [
    "# 解決os.mkdir，如果目錄已經存在，FileExistsError則會引發 --> try / except -->ok\n",
    "# os.mkdir 和 os.makedirs 的區別\n",
    "\n",
    "#Import os Library\n",
    "import os\n",
    "\n",
    "# Create Directory\n",
    "dir_name = 'youtube_2/audio'\n",
    "# filepath = 'c:/youtube/filename.ext'\n",
    "filepath = f'c:/{dir_name}/filename.ext'\n",
    "\n",
    "try:\n",
    "    os.chdir(f'{os.path.dirname(filepath)}')  # 解決:os.mkdir如果目錄已經存在，FileExistsError則會引發 --> OK\n",
    "    print('dir existed')\n",
    "except:\n",
    "    #os.mkdir(f'{os.path.dirname(filepath)}')\n",
    "    os.makedirs(f'{os.path.dirname(filepath)}')\n",
    "    print(f'建立檔案資料夾 {os.path.dirname(filepath)}')\n",
    "\n",
    "out_path = os.path.dirname(filepath)\n",
    "print(f'out_path >>> {out_path}') \n",
    "\n",
    "os.chdir(f'{out_path}')\n",
    "print(f'預設檔案位置 {os.path.dirname(filepath)}')\n",
    "print(f'目前資料夾{os.getcwd()}') "
   ]
  },
  {
   "cell_type": "code",
   "execution_count": 6,
   "metadata": {},
   "outputs": [
    {
     "name": "stdout",
     "output_type": "stream",
     "text": [
      "建立檔案資料夾 c:/youtube\n",
      "out_path >>> c:/youtube\n",
      "預設檔案位置 c:/youtube\n",
      "目前資料夾c:\\youtube\n"
     ]
    }
   ],
   "source": [
    "# 解決os.mkdir，如果目錄已經存在，FileExistsError則會引發 --> try / except -->ok\n",
    "# os.mkdir 和 os.makedirs 的區別\n",
    "# os.makedirs可建立單一資料夾\n",
    "\n",
    "#Import os Library\n",
    "import os\n",
    "\n",
    "# Create Directory\n",
    "dir_name = 'youtube'\n",
    "# filepath = 'c:/youtube/filename.ext'\n",
    "filepath = f'c:/{dir_name}/filename.ext'\n",
    "\n",
    "try:\n",
    "    os.chdir(f'{os.path.dirname(filepath)}')  # 解決:os.mkdir如果目錄已經存在，FileExistsError則會引發 --> OK\n",
    "    print('dir existed')\n",
    "except:\n",
    "    #os.mkdir(f'{os.path.dirname(filepath)}')\n",
    "    os.makedirs(f'{os.path.dirname(filepath)}')\n",
    "    print(f'建立檔案資料夾 {os.path.dirname(filepath)}')\n",
    "\n",
    "out_path = os.path.dirname(filepath)\n",
    "print(f'out_path >>> {out_path}') \n",
    "\n",
    "os.chdir(f'{out_path}')\n",
    "print(f'預設檔案位置 {os.path.dirname(filepath)}')\n",
    "print(f'目前資料夾{os.getcwd()}') "
   ]
  },
  {
   "cell_type": "code",
   "execution_count": 7,
   "metadata": {},
   "outputs": [
    {
     "name": "stdout",
     "output_type": "stream",
     "text": [
      "dir existed\n",
      "out_path >>> c:/youtube\n",
      "預設檔案位置 c:/youtube\n",
      "目前資料夾c:\\youtube\n"
     ]
    }
   ],
   "source": [
    "# 解決os.mkdir，如果目錄已經存在，FileExistsError則會引發 --> try / except -->ok\n",
    "# os.mkdir 和 os.makedirs 的區別\n",
    "# os.makedirs可建立單一資料夾\n",
    "# 物件式程式\n",
    "\n",
    "#Import os Library\n",
    "import os\n",
    "\n",
    "# Create Directory\n",
    "# dir_name = 'youtube'\n",
    "\n",
    "def dir_path(dir_name):\n",
    "    filepath = f'c:/{dir_name}/filename.ext'\n",
    "\n",
    "    try:\n",
    "        os.chdir(f'{os.path.dirname(filepath)}')  # 解決:os.mkdir如果目錄已經存在，FileExistsError則會引發 --> OK\n",
    "        print('dir existed')\n",
    "    except:\n",
    "        #os.mkdir(f'{os.path.dirname(filepath)}')\n",
    "        os.makedirs(f'{os.path.dirname(filepath)}')\n",
    "        print(f'建立檔案資料夾 {os.path.dirname(filepath)}')\n",
    "\n",
    "    out_path = os.path.dirname(filepath)\n",
    "    print(f'out_path >>> {out_path}') \n",
    "\n",
    "    os.chdir(f'{out_path}')\n",
    "    print(f'預設檔案位置 {os.path.dirname(filepath)}')\n",
    "    print(f'目前資料夾{os.getcwd()}') \n",
    "\n",
    "dir_path('youtube')"
   ]
  },
  {
   "cell_type": "code",
   "execution_count": 9,
   "metadata": {},
   "outputs": [
    {
     "name": "stdout",
     "output_type": "stream",
     "text": [
      "index.txt\n",
      "123456abc\n"
     ]
    }
   ],
   "source": [
    "#file_path = os.path.join('C:\\\\','youtube', \"index.txt\")\n",
    "\n",
    "dir_name = 'youtube'\n",
    "file_path = os.path.join(f'C:/{dir_name}', \"index.txt\")\n",
    "with open(file_path, 'r') as f:\n",
    "    content = f.read()\n",
    "\n",
    "print(content)"
   ]
  }
 ],
 "metadata": {
  "kernelspec": {
   "display_name": "yt.venv",
   "language": "python",
   "name": "python3"
  },
  "language_info": {
   "codemirror_mode": {
    "name": "ipython",
    "version": 3
   },
   "file_extension": ".py",
   "mimetype": "text/x-python",
   "name": "python",
   "nbconvert_exporter": "python",
   "pygments_lexer": "ipython3",
   "version": "3.10.8"
  }
 },
 "nbformat": 4,
 "nbformat_minor": 2
}
