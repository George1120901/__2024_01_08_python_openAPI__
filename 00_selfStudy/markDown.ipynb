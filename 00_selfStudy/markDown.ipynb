{
 "cells": [
  {
   "cell_type": "markdown",
   "metadata": {},
   "source": [
    "### Markdown 基礎\n",
    "\n",
    "http://www.ewin.tw/app/wp-content/uploads/2020/02/Markdown-1.html <不安全提醒>"
   ]
  },
  {
   "cell_type": "markdown",
   "metadata": {},
   "source": [
    "### ** - Jupter Notebook快捷鍵 -編輯模式快捷鍵 **\n",
    "|快捷鍵\t|作用|\n",
    "| :---   | :-----  |\n",
    "|Esc\t|切換到命令模式|\n",
    "|Tab\t|縮排|\n",
    "|Shift-Tab\t|反縮排\n",
    "|Ctrl-Z\t|復原|\n",
    "|Ctrl-Shift-Z\t|重做\n",
    "|Ctrl-Left\t|跳到左邊一個字首|\n",
    "|Ctrl-Right\t|跳到右邊一個字首|\n",
    "|Ctrl-Backspace\t|刪除前面一個字|\n",
    "|Ctrl-Delete\t|刪除後面一個字|\n",
    "|Ctrl-Shift -\t|分割區塊|"
   ]
  },
  {
   "cell_type": "markdown",
   "metadata": {},
   "source": [
    "## **Markdown 簡介**\n",
    "Markdown是一種輕量級的標記式語言，採用易讀易寫的純文字格式來編寫文件，再轉換成有效的HTML文件。由於具有輕量、易讀及易寫的特性，並支援圖片、圖表及數學式等，因此被廣泛使用來撰寫說明文件，甚至編寫電子書。\n",
    "\n",
    "* HTML 是一種發佈格式，Markdown是一種編寫格式。  \n",
    "* Markdown不是要來取代HTML，重點在於讓文件更容易閱讀及編寫。"
   ]
  },
  {
   "cell_type": "markdown",
   "metadata": {},
   "source": [
    "### **標題**\n",
    "Markdown的標題語法是以1到數個 # 號開頭加上空格，例如：\n",
    "# 標題一\n",
    "## 標題二\n",
    "### 標題三"
   ]
  },
  {
   "cell_type": "markdown",
   "metadata": {},
   "source": [
    "### **換行**\n",
    "Markdown要插入換行，只要在***行尾加上兩個以上的空白***即可。"
   ]
  },
  {
   "cell_type": "markdown",
   "metadata": {},
   "source": [
    "### **分隔線**\n",
    "分隔線為插入3個以上的 * 或 -，可包含空格。\n",
    "***\n",
    "*****\n",
    "- - -\n",
    "---"
   ]
  },
  {
   "cell_type": "markdown",
   "metadata": {},
   "source": [
    "#### **粗體及斜體**\n",
    "粗體及斜體 通常會用來強調某些重點文字，語法如下：  \n",
    "\n",
    "| 樣式\t| 前後加上\t| 語法範例 |    \n",
    "| :---   | :-----:  | :------  |\n",
    "| **粗體**\t| 兩個 *\t|\\*\\*粗體\\*\\* |   \n",
    "| *斜體*\t| 一個 *\t| \\*斜體\\*  |  \n",
    "| ***粗斜體***\t| 三個 *\t| \\*\\*\\*粗斜體\\*\\*\\*  |  \n",
    "| ~~刪除~~\t| 兩個 ~\t| \\~\\~刪除\\~\\~  |  \n",
    "\n",
    "**粗體**及*斜體*用來***強調***重點文字"
   ]
  },
  {
   "cell_type": "markdown",
   "metadata": {},
   "source": [
    "### **文字顔色**\n",
    "Markdown 並無文字顔色的指令，可以採用Html的style屬性來代替，例如：\n",
    "<span style='color:red'>紅色文字</span>"
   ]
  },
  {
   "cell_type": "markdown",
   "metadata": {},
   "source": [
    "### **底線及刪除線**\n",
    "Markdown 並無底線及刪除線的指令，可以採用Html的指令\\<u>及\\<del>來代替，例如 :   \n",
    "<u>底線</u> 及 <del>刪除線</del>"
   ]
  },
  {
   "cell_type": "markdown",
   "metadata": {},
   "source": [
    "### **跳脫字元**\n",
    "Markdown可以利用反斜線來插入一些已被語法使用的符號，例如\n",
    "\n",
    "|Markdown語法\t|輸出結果|\n",
    "| :---   | :-----:  |\n",
    "|*跳脫字元*\t|跳脫字元|\n",
    "|\\*跳脫字元\\*\t|\\*跳脫字元\\*|\n",
    "\n",
    "#### Markdown常用的跳脫字元列表如下：\n",
    "\n",
    "|跳脫字元\t|結果\t|説明|\n",
    "| :---:   | :-----:  | :------  |\n",
    "|\\\\\\\t|\\\t|反斜線|\n",
    "|\\\\`\t|`\t|反引號|\n",
    "|\\\\*\t|*\t|星號|\n",
    "|\\\\_\t|_\t|底線|\n",
    "|\\\\{}\t|{}\t|大括號|\n",
    "|\\\\[]\t|[]\t|方括號|\n",
    "|\\\\()\t|()\t|括號|\n",
    "|\\\\#\t|#\t|井字號|\n",
    "|\\\\+\t|+\t|加號|\n",
    "|\\\\-\t|-\t|減號|\n",
    "|\\\\.\t|.\t|小數點|\n",
    "|\\\\!\t|!\t|驚嘆號|"
   ]
  },
  {
   "cell_type": "markdown",
   "metadata": {},
   "source": [
    "### **註解**\n",
    "註解可以用來説明 Markdown文件原始檔案内容，但不會呈現在執行結果，語法如下：  \n",
    "[//]: # (註解寫在刮號内，不會顯示出來)  \n",
    "Ex.  \n",
    "[(註解寫在刮號内，不會顯示出來)]: #01"
   ]
  },
  {
   "cell_type": "markdown",
   "metadata": {},
   "source": [
    "### **行內形式連結**\n",
    "#### 行內形式超連結主要語法如下：  \n",
    "\\[連結一](https://www.tvdi.gov.taipei/)  \n",
    "\\[連結二](https://www.tvdi.gov.taipei/News.aspx?n=F2CD1228A2985237&sms=53001DDC86324B4E)  \n",
    "\n",
    "output：  \n",
    "[連結一](https://www.tvdi.gov.taipei/)  \n",
    "[連結二](https://www.tvdi.gov.taipei/News.aspx?n=F2CD1228A2985237&sms=53001DDC86324B4E)  \n",
    "\n",
    "\n",
    "#### 若連結到同一主機的檔案，可以使用相對路徑，語法:  \n",
    "\\[同主機連結](C://youtube/file_io.txt)  \n",
    "output：  \n",
    "[同主機連結](C://youtube/file_io.txt) \n",
    "\n",
    "\n",
    "若Markdown的功能不足是，可以用HTML語法完成，但需注意編輯器是否支援HTML指令，語法:  \n",
    "\\<a href=\"https://www.tvdi.gov.taipei/\" target=\"_blank\" title=\"標題\">連結</a>\n",
    "output：  \n",
    "<a href=\"https://www.tvdi.gov.taipei/\" target=\"_blank\" title=\"標題\">連結</a>"
   ]
  },
  {
   "cell_type": "markdown",
   "metadata": {},
   "source": [
    "### **參考式連結**\n",
    "這是參考[連結][]\n",
    "\n",
    "[連結]: http://google.com/ \"彈出標題\"\n",
    "---\n",
    "這是參考[連結][id]  \n",
    "\n",
    "[id]: http://ewin.tw/ \"彈出標題\"\n",
    "---\n",
    "參考連結，包含 [Google][1]，[Yahoo][2]及[MSN][3]\n",
    "\n",
    "[1]: http://google.com/ \"Google\"\n",
    "[2]: http://yahoo.com/  \"Yahoo\"\n",
    "[3]: http://msn.com/    \"MSN\"  \n",
    "\n",
    "---\n",
    "##### **注意連結本文與參考連結間務必空一行**"
   ]
  },
  {
   "cell_type": "markdown",
   "metadata": {},
   "source": [
    "### **清單**\n",
    "#### 單層清單\n",
    "**無序清單使用(*)(+)(-)作為標記：**\n",
    "* Red\n",
    "* Green\n",
    "+ Red\n",
    "+ Blue\n",
    "- Green\n",
    "- Blue\n",
    "\n",
    "**有序清單使用數字接著小數點：**\n",
    "1. Bird\n",
    "1. McHale\n",
    "1. Parish"
   ]
  },
  {
   "cell_type": "markdown",
   "metadata": {},
   "source": [
    "#### 多段落清單\n",
    "清單項目若包含多個段落，每個段落必須縮排2-4個空白或一個tab，若要換行，則在末尾加上兩個空白：\n",
    "\n",
    "* 段落一(末尾加2個空白)  \n",
    "  段落二  \n",
    "* 段落三  \n",
    "  段落四  \n",
    "  123"
   ]
  },
  {
   "cell_type": "markdown",
   "metadata": {},
   "source": [
    "### **多層巢狀清單**\n",
    "清單中若還有清單，則第二層清單要縮排\n",
    "\n",
    "* 第一層清單\n",
    "* 第一層清單\n",
    "  1. 第二層清單\n",
    "     * 第三層清單\n",
    "  2. 第二層清單"
   ]
  },
  {
   "cell_type": "markdown",
   "metadata": {},
   "source": [
    "### **CheckBox清單**\n",
    "CheckBox 常用在確認事情是否完成，中括號中的 x 代表這個項目是被打勾的。\n",
    "markdown\n",
    "- [x] 已完成項目\n",
    "- [ ] 未完成項目"
   ]
  },
  {
   "cell_type": "markdown",
   "metadata": {},
   "source": [
    "### **清單内的程式碼區塊**\n",
    "**如果清單内要放程式碼區塊的話，該區塊就需要縮排2次：**  \n",
    "* 具程式碼區塊的清單:\n",
    "\n",
    "        function myFun(a) {\n",
    "          return 10 * a;\n",
    "        }\n",
    "\n",
    "\n",
    "* 具程式碼區塊的清單:\n",
    "    \n",
    "  ```javascript\n",
    "  function myFun(a) {\n",
    "    return 10 * a;  \n",
    "  }\n",
    "  ```"
   ]
  },
  {
   "cell_type": "markdown",
   "metadata": {},
   "source": [
    "=============\n",
    "+++++++++++++"
   ]
  },
  {
   "cell_type": "markdown",
   "metadata": {},
   "source": [
    "### 第9 章Markdown 基礎\n",
    "https://shixiangwang.github.io/pybook/09-markdown/\n",
    "\n",
    "pass\n"
   ]
  },
  {
   "cell_type": "markdown",
   "metadata": {},
   "source": [
    "## Markdown 簡介\n",
    "* 由於Markdown 輕量、易讀、易寫的特性，並且支援圖片、表格、數學公式，目前許多網站都採用Markdown 來編寫幫助文件或發布訊息，比較有名的有GitHub、reddit 和Stack Overflow。\n",
    "* 在資料分析領域，一種新型的文檔出現了，它可以將文字嵌入在執行的程式碼中，稱為動態文檔，而文本書寫的語法正是Markdown。目前流行的動態文件主要有2 種，一種是Jupyter Notebook，它支援多種程式語言，包括R、Python；另一種是Rmarkdown，它在Markdown 的基礎上增加了R 語言程式碼區塊的執行功能（也有對Python、Shell 的支持，但功能較弱）。"
   ]
  },
  {
   "cell_type": "markdown",
   "metadata": {},
   "source": [
    "## Markdown 文法\n",
    "### **1. 塊元素**\n",
    "* #### **段落**  \n",
    "在 Markdown 中，段落是透過一個及以上空行來分割的。如下圖所示：  \n",
    "這是第一段话\n",
    "\n",
    "這是第二段话\n",
    "\n",
    "\n",
    "如果只是使用回車鍵，內容還是屬於一段，文字是連結起來的。  \n",
    "例如， 這是第一句話。這是第二句話。 可以寫為如下形式：\n",
    "這是第一段话\n",
    "這是第二段话"
   ]
  },
  {
   "cell_type": "markdown",
   "metadata": {},
   "source": [
    "* #### **標題**  \n",
    "Markdown 支援6 級標題，一般前四級比較常用。指定標題的方式是在文字前面加上井號鍵，有幾個就是幾個標題。\n",
    "(注意井號後面加一個空格)\n",
    "# 這是第1級標題\n",
    "## 這是第2級標題\n",
    "### 這是第3級標題\n",
    "#### 這是第4級標題\n",
    "##### 這是第5級標題\n",
    "###### 這是第6級標題"
   ]
  },
  {
   "cell_type": "markdown",
   "metadata": {},
   "source": [
    "* #### **引用** \n",
    "Markdown使用符號> 起始一段區塊引用。引用也可以有多段文字，換行以單獨的> 為一行。\n",
    "\n",
    "> 這裡有3段引用，前面2段引用是在一起的，最後一段引用是獨立的。\n",
    ">\n",
    "> 這是第2段引用。\n",
    "\n",
    "\n",
    "> 這是第3段引用。"
   ]
  },
  {
   "cell_type": "markdown",
   "metadata": {},
   "source": [
    "* #### **清單** \n",
    "輸入* 元素，就可以建立一個無序號表，除了使用星號*，還可以使用+、-。一般常用* 或-。  \n",
    "而輸入1. 元素，可以建立有序列表。  \n",
    "\n",
    "**無序列表**  \n",
    "* 石頭  \n",
    "* 剪刀  \n",
    "* 布  \n",
    "  \n",
    "**有序列表**  \n",
    "1. 石頭  \n",
    "2. 剪刀\n",
    "3. 布"
   ]
  },
  {
   "cell_type": "markdown",
   "metadata": {},
   "source": [
    "* #### **任務清單**   \n",
    "在列表符號後面使用[ ] 或[x] 可以分別標記未完成或完成狀態。例如：\n",
    "(注意，標記未完成時括號內一定要有一個空格。)  \n",
    "**作業完成狀況**\n",
    "\n",
    "- [ ] 語文\n",
    "- [x] 數學\n",
    "- [ ] 物理\n",
    "- [ ] 英語\n",
    "- [x] 化學\n",
    "\n",
    "![效果如下：](./figure/task_list.png)"
   ]
  },
  {
   "cell_type": "markdown",
   "metadata": {},
   "source": [
    "* #### **程式碼區塊**   \n",
    "代碼區塊以3 個符號\\` 起始（鍵盤 ~鍵下方的撇號），同樣以3 個\\` 結束。  \n",
    "除了對程式碼格式比較友好，許多支援Markdown 的工具、網站對程式碼區塊都自動高亮的功能。  \n",
    "下面是一個例子：  \n",
    "```\n",
    "def test():\n",
    " print(\"Hello World!\")\n",
    "```\n",
    "\n",
    "\n",
    "語法高亮：  \n",
    "```python\n",
    "def test():\n",
    " print(\"語法高亮\")\n",
    "```"
   ]
  },
  {
   "cell_type": "markdown",
   "metadata": {},
   "source": [
    "* #### **數學區塊**  \n",
    "\n",
    "有不少Markdown 編輯器透過MathJax 支援LaTex 數學表達式。  \n",
    "數學公式使用兩個美元符\\$\\$ 開始和結束。  \n",
    "\n",
    "$$\n",
    "\\mathbf{V}_1 \\times \\mathbf{V}_2 =  \\begin{vmatrix}\n",
    "\\mathbf{i} & \\mathbf{j} & \\mathbf{k} \\\\\n",
    "\\frac{\\partial X}{\\partial u} &  \\frac{\\partial Y}{\\partial u} & 0 \\\\\n",
    "\\frac{\\partial X}{\\partial v} &  \\frac{\\partial Y}{\\partial v} & 0 \\\\\n",
    "\\end{vmatrix}\n",
    "$$\n"
   ]
  },
  {
   "cell_type": "markdown",
   "metadata": {},
   "source": [
    "* #### **表格**\n",
    "1.使用|列1|列2| 就可以新增2 個清單格，標題行和內容行使用|—| 進行分隔。  \n",
    "2.對齊可以透過對分隔行增加英文冒號: 標記實現。  \n",
    "\n",
    "| 左對齊  | 中心對齊 | 右對齊 |\n",
    "| :----- |:-------:| -----:|\n",
    "| c1     | 這一列   | $16 |\n",
    "| c2     | 是中心   | $120 |\n",
    "| c3     | 對齊     | $11 |\n"
   ]
  },
  {
   "cell_type": "markdown",
   "metadata": {},
   "source": [
    "* #### **註腳** ?????\n",
    "\n",
    "你可以像這樣添加腳註[^footnote]。  \n",
    "[^footnote]: 這是一段註腳文字\n",
    "\n",
    "![效果如下：](./figure/footnote.png)"
   ]
  },
  {
   "cell_type": "markdown",
   "metadata": {},
   "source": [
    "* #### **水平線**  \n",
    "在空白行中使用*** 或— 就可以產生一條水平分隔線。\n",
    "\n",
    "***\n",
    "---"
   ]
  },
  {
   "cell_type": "markdown",
   "metadata": {},
   "source": [
    "## Markdown 文法\n",
    "### **2. 內聯元素**\n",
    "* #### **連結**  \n",
    "\n",
    "Markdown 支援行內和參考兩種連結方式，連結的文字都是寫在方括號內。  \n",
    "**行內連結的寫法如下：**  \n",
    "[網頁連結](https://lc.arpa.bola.gov.taipei/web/LaborCollege/index)會跳到臺北市勞動大學首頁  \n",
    "\n",
    "**參考連結的寫法如下：**  \n",
    "[網頁連結][id]會跳到臺北市勞動大學首頁  \n",
    "[id](https://lc.arpa.bola.gov.taipei/web/LaborCollege/index)"
   ]
  },
  {
   "cell_type": "markdown",
   "metadata": {},
   "source": [
    "* #### **URL**  \n",
    "URL 使用2 個尖括號將文字包圍，與連結不同的是URL 的顯示的就是尖括號內的文字，不能自訂顯示內容。  \n",
    "\n",
    "<https://lc.arpa.bola.gov.taipei/web/LaborCollege/index>"
   ]
  },
  {
   "cell_type": "markdown",
   "metadata": {},
   "source": [
    "* #### **圖片**  \n",
    "\n",
    "圖片跟連結相似，但是需要在連結的前面加上一個英文感嘆號! 符號。  \n",
    "(路徑可以是URL，可以是電腦本機的絕對路徑或相對路徑。)\n",
    "\n",
    "![說明文字](./figure/fig1_labor.png)勞動條件與相關法令\n",
    "\n",
    "\n",
    "例如：\n",
    "![](https://lc.arpa.bola.gov.taipei/WebUPD/LaborCollege/Header/%E5%8B%9E%E5%8B%95%E5%A4%A7%E5%AD%B8LOGO%20Final(240503)_1_24061815030596963.png)\n"
   ]
  },
  {
   "cell_type": "markdown",
   "metadata": {},
   "source": [
    "* #### **強調與加粗**  \n",
    "Markdown 使用1個星號*或底線_，成斜體強調文字。Ex.  \n",
    "*使用星號*  \n",
    "_使用底線_\n",
    "\n",
    "使用2個符號則是進行加粗。  \n",
    "**使用2個星號**   \n",
    "__使用2個底線__"
   ]
  },
  {
   "cell_type": "markdown",
   "metadata": {},
   "source": [
    "* #### **刪除線**  \n",
    "\n",
    "Markdown 使用2個波浪線~ 對文字進行刪除標記。  \n",
    "\\~~這是一段將被刪除線標記的文字~~  \n",
    "~~這是一段將被刪除線標記的文字~~"
   ]
  },
  {
   "cell_type": "markdown",
   "metadata": {},
   "source": [
    "* #### **底線**  \n",
    "底線需要原生HTML 標籤支援。  \n",
    "<u>這段文字會被底線標記</u>"
   ]
  },
  {
   "cell_type": "markdown",
   "metadata": {},
   "source": [
    "* #### **上標與下標**  ?????  \n",
    "Markdown 下標使用單一波浪號~，上標使用^。下面寫法可以建立水分子和X 的平方。  \n",
    "\n",
    "H~2~O\n",
    "\n",
    "X^2^\n",
    "\n",
    "[參考](https://blog.maxkit.com.tw/2020/02/markdown.html)如何在 Markdown 輸入數學公式及符號\n"
   ]
  },
  {
   "cell_type": "markdown",
   "metadata": {},
   "source": [
    "* #### **行內程式碼**  \n",
    "前面提到了程式碼區塊，但有時程式碼很短，需要使用行內程式碼，這時候用單一的符號` 即可。  \n",
    "\n",
    "`x = y = 3`\n"
   ]
  },
  {
   "cell_type": "markdown",
   "metadata": {},
   "source": [
    "* #### **行內公式**  \n",
    "行內公式使用單一美元符\\$ 開始和結束：  \n",
    "\n",
    "$y = a \\times x + b$\n"
   ]
  },
  {
   "cell_type": "markdown",
   "metadata": {},
   "source": [
    "## **聯合Python 與Markdown**\n",
    "### **1. 程式碼區塊與文字區塊**\n",
    "\n",
    "Notebook 支援兩種不同的輸入:  \n",
    "一 是程式碼區塊（這裡我們指Python 程式碼），  \n",
    "二 是文字區塊，也就是Markdown 內容。  \n",
    "\n",
    "程式碼區塊，點擊右上方的選單列後，會出現多個選項。  \n",
    "選\"將儲存格變更為Markdown\"選項能夠將程式碼區塊轉變為文字區塊  \n",
    "![程式碼區塊轉變為文字區塊](./figure/Convert2Markdown.png)\n",
    "\n",
    "Jupyter Notebook 支援的快捷鍵:(按 Esc鍵 至指令模式狀態_灰色框線)  \n",
    "m 鍵將程式碼區塊轉換為文字區塊，  \n",
    "y 鍵將文字區塊轉換為程式碼區塊。  \n",
    "\n",
    "了解程式碼區塊和文字區塊之後，就可以自由地使用它們編寫動態的程式文檔，即Notebook。  \n",
    "一般而言，使用Markdown 標題來建立文件的整個邏輯結構，使用正文和相關標記如連結等增加對文件、程式碼區塊的說明，利用程式碼區塊執行計算並展示文字結果或圖形"
   ]
  },
  {
   "cell_type": "code",
   "execution_count": null,
   "metadata": {},
   "outputs": [],
   "source": [
    "### Jupyter Notebook 支援的快捷鍵 Y <--> M\n",
    "print('123')"
   ]
  },
  {
   "cell_type": "markdown",
   "metadata": {},
   "source": [
    "# 繪製重力波曲線\n",
    "\n",
    "## 資料下載與準備\n",
    "\n",
    "第一個重力波檔案：[H1_Strain.wav](http://python123.io/dv/H1_Strain.wav) （點擊下載）\n",
    "\n",
    "第二個重力波檔案：[L1_Strain.wav](http://python123.io/dv/L1_Strain.wav) （點擊下載）\n",
    "\n",
    "重力波參考檔：[wf_template.txt](http://python123.io/dv/wf_template.txt) （點擊後儲存下載）\n",
    "\n",
    "將上述文件下載到本機並儲存到一個目錄中，在該目錄中建立一個 Notebook 文件，並依序執行下面的程式碼行。\n",
    "\n",
    "## 導入包\n",
    "\n",
    "本範例需要使用到 3 個三方包，下面我們將它們依序匯入。\n",
    "\n",
    "```python\n",
    "import numpy as np\n",
    "import matplotlib.pyplot as plt\n",
    "from scipy.io import wavfile\n",
    "```\n",
    "\n",
    "## 導入數據\n",
    "\n",
    "接下來我們使用 scipy 套件提供的函數導入重力波文件，使用 numpy 套件提供的函數導入參考文件。\n",
    "\n",
    "```python\n",
    "rate_h, hstrain= wavfile.read(r\"H1_Strain.wav\",\"rb\")\n",
    "rate_l, lstrain= wavfile.read(r\"L1_Strain.wav\",\"rb\")\n",
    "reftime, ref_H1 = np.genfromtxt('wf_template.txt').transpose()\n",
    "\n",
    "# 這裡我們使用頻率的倒數來決定波的週期\n",
    "htime_interval = 1/rate_h\n",
    "ltime_interval = 1/rate_l\n",
    "```\n",
    "\n",
    "## 簡單查看數據\n",
    "\n",
    "```python\n",
    "# 使用 print() 函數對各項輸入的資料進行簡單的查看\n",
    "print(rate_h, hstrain)\n",
    "print(rate_l, lstrain)\n",
    "print(reftime, ref_H1)\n",
    "```\n",
    "\n",
    "## 繪圖\n",
    "\n",
    "```python\n",
    "# 設定在 Notebook 中使用繪圖\n",
    "%matplotlib inline\n",
    "```\n",
    "\n",
    "接下來我們依序根據 2 個波檔和 1 個參考檔提供的資料繪製波形圖，以子圖的形式將它們繪製在一起。\n",
    "\n",
    "```python\n",
    "htime_len = hstrain.shape[0]/rate_h\n",
    "htime = np.arange(-htime_len/2, htime_len/2 , htime_interval)\n",
    "plt.subplot(2,2,1)\n",
    "plt.plot(htime, hstrain, 'y')\n",
    "plt.xlabel('Time (seconds)')\n",
    "plt.ylabel('H1 Strain')\n",
    "plt.title('H1 Strain')\n",
    "\n",
    "ltime_len = lstrain.shape[0]/rate_l\n",
    "ltime = np.arange(-ltime_len/2, ltime_len/2 , ltime_interval)\n",
    "plt.subplot(2,2,2)\n",
    "plt.plot(ltime, lstrain, 'g')\n",
    "plt.xlabel('Time (seconds)')\n",
    "plt.ylabel('L1 Strain')\n",
    "plt.title('L1 Strain')\n",
    "\n",
    "plt.subplot(2, 1, 2)\n",
    "plt.plot(reftime, ref_H1)\n",
    "plt.xlabel('Time (seconds)')\n",
    "plt.ylabel('Template Strain')\n",
    "plt.title('Template')\n",
    "plt.tight_layout()\n",
    "```"
   ]
  },
  {
   "cell_type": "markdown",
   "metadata": {},
   "source": [
    "***\n",
    "## **聯合 Python 和 Markdown 的動態文件例**"
   ]
  },
  {
   "cell_type": "markdown",
   "metadata": {},
   "source": [
    "# 繪製重力波曲線\n",
    "\n",
    "## 資料下載與準備\n",
    "\n",
    "第一個重力波檔案：[H1_Strain.wav](http://python123.io/dv/H1_Strain.wav) （點擊下載）\n",
    "\n",
    "第二個重力波檔案：[L1_Strain.wav](http://python123.io/dv/L1_Strain.wav) （點擊下載）\n",
    "\n",
    "重力波參考檔：[wf_template.txt](http://python123.io/dv/wf_template.txt) （點擊後儲存下載）\n",
    "\n",
    "將上述文件下載到本機並儲存到一個目錄中，在該目錄中建立一個 Notebook 文件，並依序執行下面的程式碼行。"
   ]
  },
  {
   "cell_type": "markdown",
   "metadata": {},
   "source": [
    "## 導入包\n",
    "\n",
    "本範例需要使用到 3 個三方包，下面我們將它們依序匯入。"
   ]
  },
  {
   "cell_type": "code",
   "execution_count": null,
   "metadata": {},
   "outputs": [],
   "source": [
    "import numpy as np\n",
    "import matplotlib.pyplot as plt\n",
    "from scipy.io import wavfile"
   ]
  },
  {
   "cell_type": "markdown",
   "metadata": {},
   "source": [
    "## 導入數據\n",
    "\n",
    "接下來我們使用 scipy 套件提供的函數導入重力波文件，使用 numpy 套件提供的函數導入參考文件。"
   ]
  },
  {
   "cell_type": "code",
   "execution_count": null,
   "metadata": {},
   "outputs": [],
   "source": [
    "rate_h, hstrain= wavfile.read(r\"H1_Strain.wav\",\"rb\")\n",
    "rate_l, lstrain= wavfile.read(r\"L1_Strain.wav\",\"rb\")\n",
    "reftime, ref_H1 = np.genfromtxt('wf_template.txt').transpose()\n",
    "\n",
    "# 這裡我們使用頻率的倒數來決定波的週期\n",
    "htime_interval = 1/rate_h\n",
    "ltime_interval = 1/rate_l"
   ]
  },
  {
   "cell_type": "markdown",
   "metadata": {},
   "source": [
    "## 簡單查看數據"
   ]
  },
  {
   "cell_type": "code",
   "execution_count": null,
   "metadata": {},
   "outputs": [],
   "source": [
    "# 使用 print() 函數對各項輸入的資料進行簡單的查看\n",
    "print(rate_h, hstrain)\n",
    "print(rate_l, lstrain)\n",
    "print(reftime, ref_H1)"
   ]
  },
  {
   "cell_type": "code",
   "execution_count": null,
   "metadata": {},
   "outputs": [],
   "source": [
    "# 設定在 Notebook 中使用繪圖\n",
    "%matplotlib inline"
   ]
  },
  {
   "cell_type": "markdown",
   "metadata": {},
   "source": [
    "接下來我們依序根據 2 個波檔和 1 個參考檔提供的資料繪製波形圖，以子圖的形式將它們繪製在一起。"
   ]
  },
  {
   "cell_type": "code",
   "execution_count": null,
   "metadata": {},
   "outputs": [],
   "source": [
    "htime_len = hstrain.shape[0]/rate_h\n",
    "htime = np.arange(-htime_len/2, htime_len/2 , htime_interval)\n",
    "plt.subplot(2,2,1)\n",
    "plt.plot(htime, hstrain, 'y')\n",
    "plt.xlabel('Time (seconds)')\n",
    "plt.ylabel('H1 Strain')\n",
    "plt.title('H1 Strain')\n",
    "\n",
    "ltime_len = lstrain.shape[0]/rate_l\n",
    "ltime = np.arange(-ltime_len/2, ltime_len/2 , ltime_interval)\n",
    "plt.subplot(2,2,2)\n",
    "plt.plot(ltime, lstrain, 'g')\n",
    "plt.xlabel('Time (seconds)')\n",
    "plt.ylabel('L1 Strain')\n",
    "plt.title('L1 Strain')\n",
    "\n",
    "plt.subplot(2, 1, 2)\n",
    "plt.plot(reftime, ref_H1)\n",
    "plt.xlabel('Time (seconds)')\n",
    "plt.ylabel('Template Strain')\n",
    "plt.title('Template')\n",
    "plt.tight_layout()"
   ]
  },
  {
   "cell_type": "markdown",
   "metadata": {},
   "source": [
    "---\n",
    "***"
   ]
  },
  {
   "cell_type": "markdown",
   "metadata": {},
   "source": [
    "## **Jupyter Notebook 的快速鍵**\n",
    "https://notebook.community/karst87/ml/00_basic/901_JupyterNotebook%20的快捷键\n",
    "\n",
    "Jupyter Notebook 有兩種鍵盤輸入模式。\n",
    "\n",
    "* 編輯模式，允許你往單元中鍵入程式碼或文字；這時的單元框線是綠色的。(按 Enter鍵 啟動)  \n",
    "* 命令模式，鍵盤輸入運行程序命令；這時的單元框線是灰色。(按 Esc鍵 開啟) \n",
    "\n",
    "### **編輯模式( 按 Enter鍵 啟動)**\n",
    "Esc : 進入指令模式  \n",
    "Tab : 程式碼補全或縮排  \n",
    "Shift-Tab : 提示  \n",
    "Ctrl-] : 縮排  \n",
    "Ctrl-[ : 解除縮排  \n",
    "Ctrl-A : 全選  \n",
    "Ctrl-Z : 復原  \n",
    "Ctrl-Shift-Z : 再做  \n",
    "Ctrl-Y : 再做  \n",
    "Ctrl-Home : 跳到單元開頭  \n",
    "Ctrl-Up : 跳到單元開頭  \n",
    "Ctrl-End : 跳到單元末  \n",
    "Ctrl-Down : 跳到單元末尾  \n",
    "Ctrl-Left : 跳到左邊一個字首  \n",
    "Ctrl-Right : 跳到右邊一個字首  \n",
    "Ctrl-Backspace : 刪除前面一個字  \n",
    "Ctrl-Delete : 刪除後面一個字  \n",
    "Ctrl-M : 進入指令模式  \n",
    "Shift-Enter : 執行本單元，選取下一單元\n",
    "Ctrl-Enter : 運行本單元\n",
    "Alt-Enter : 執行本單元，在下方插入一單元\n",
    "Ctrl-Shift-- : 分割單元\n",
    "Ctrl-Shift-Subtract : 分割單元\n",
    "Ctrl-S : 檔案存檔\n",
    "Shift : 忽略\n",
    "Up : 遊標上移或轉入上一單元\n",
    "Down :遊標下移或轉入下一單元\n",
    "\n",
    "\n",
    "### **指令模式(按 Esc鍵 開啟)**  \n",
    "Enter : 轉入編輯模式  \n",
    "Shift-Enter : 執行本單元，選取下個單元  \n",
    "Ctrl-Enter : 運行本單元  \n",
    "Alt-Enter : 運行本單元，在其下方插入新單元  \n",
    "Y : 單元轉入代碼狀態  \n",
    "M :單元轉入markdown狀態  \n",
    "R : 單元轉入raw狀態  \n",
    "1 : 設定1 級標題  \n",
    "2 : 設定2 級標題  \n",
    "3 : 設定3 級標題  \n",
    "4 : 設定4 級標題  \n",
    "5 : 設定5 級標題  \n",
    "6 : 設定6 級標題  \n",
    "Up : 選取上方單元  \n",
    "K : 選取上方單元  \n",
    "Down : 選取下方單元  \n",
    "J : 選取下方單元  \n",
    "Shift-K : 擴大選取上方單元  \n",
    "Shift-J : 擴大選取下方單元  \n",
    "A : 在上方插入新單元  \n",
    "B : 在下方插入新單元  \n",
    "X : 剪切選取的單元  \n",
    "C : 複製選取的單元  \n",
    "Shift-V : 貼到上方單元  \n",
    "V : 貼到下方單元  \n",
    "Z : 恢復刪除的最後一個單元  \n",
    "D,D : 刪除選取的單元  \n",
    "Shift-M : 合併選取的單元  \n",
    "Ctrl-S : 檔案存檔  \n",
    "S : 文件存檔  \n",
    "L : 轉換行號  \n",
    "O : 轉換輸出  \n",
    "Shift-O : 轉換輸出滾動  \n",
    "Esc : 關閉頁面  \n",
    "Q : 關閉頁面  \n",
    "H : 顯示快捷鍵說明  \n",
    "I,I : 中斷Notebook內核  \n",
    "0,0 : 重啟Notebook內核  \n",
    "Shift : 忽略  \n",
    "Shift-Space : 向上捲動  \n",
    "Space : 向下捲動  "
   ]
  },
  {
   "cell_type": "markdown",
   "metadata": {},
   "source": [
    "---\n",
    "***"
   ]
  },
  {
   "cell_type": "markdown",
   "metadata": {},
   "source": [
    "[TODO]  \n",
    "[參考](https://ithelp.ithome.com.tw/articles/10225442)使用 VS Code 來開發 Markdown  \n",
    "for 使用 VS Code 撰寫 Markdown 的小知識  \n",
    "* 推薦網站\n",
    "* 文件預覽介紹\n",
    "* 大綱預覽介紹\n",
    "* 外部資源安全性介紹\n",
    "* **Extension** - markdownlint、Markdown All in One、Markdown+Math、Markdown Preview Mermaid Support、Markdown Preview Enhanced、Markdown Emoji、Markdown Table Prettifier、.......etc.  "
   ]
  }
 ],
 "metadata": {
  "kernelspec": {
   "display_name": "yt.venv",
   "language": "python",
   "name": "python3"
  },
  "language_info": {
   "name": "python",
   "version": "3.10.8"
  }
 },
 "nbformat": 4,
 "nbformat_minor": 2
}
