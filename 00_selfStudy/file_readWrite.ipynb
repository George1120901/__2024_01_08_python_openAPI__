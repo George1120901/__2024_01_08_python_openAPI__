{
 "cells": [
  {
   "cell_type": "markdown",
   "metadata": {},
   "source": [
    "### **利用程式進行讀/寫檔案的處理**\n",
    "#### [<參考網址>](https://medium.com/ccclub/ccclub-python-for-beginners-tutorial-bf0648108581)ccclub\n",
    "#### **[ Python 初學第十二講—檔案處理 ]**  \n",
    "利用程式進行讀/寫檔案的處理"
   ]
  },
  {
   "cell_type": "markdown",
   "metadata": {},
   "source": [
    "### **檔案物件 file object**\n",
    "### f = open(檔名, mode)\n",
    "此時變數 f 被 assign 的是一個 file object\n",
    "\n",
    "A file object allows us to use, access and manipulate all the user accessible files. One can read and write any such files.\n",
    "(文件物件允許我們使用、存取和操作所有使用者可存取的文件。人們可以讀取和寫入任何此類文件。)"
   ]
  },
  {
   "cell_type": "markdown",
   "metadata": {},
   "source": [
    "### • 開啟檔案 open()\n",
    "`open(file, mode='模式')`  \n",
    "參數 : 檔案名稱 & 模式(mode)\n",
    "\n",
    "1. 檔名所要填入的是檔案路徑，指的是相對路徑，也就是相對於你的程式執行的位置而言，你的檔案在什麼地方。\n",
    "    如果在同一個資料夾當中執行，可以直接寫檔案的名稱，如 \"test.txt\" 。\n",
    "\n",
    "2. mode 代表要開啟檔案的模式，Python 提供了數種開啟檔案的模式，包含僅供讀取、可以覆寫檔案等等。  \n",
    "以下將對於其中三種稍作簡介:\n",
    "\n",
    "    * “r” 唯讀模式：`mode = “r”` 開啟檔案時，只能從指定的檔案讀取資料，並不能夠對這個檔案的內容進行更動。\n",
    "        與此同時，如果所指定的檔案不存在，將會產生 `FileNotFoundError` 的例外。\n",
    "\n",
    "    * “w” 寫入模式（覆寫）：如以 `mode = “w”` 開啟檔案時，意即要來進行檔案的寫入，會在開啟的位置直接覆蓋掉原本的檔案。\n",
    "        如果所指定的檔案路徑/名稱不存在，會新增一個新的檔案。\n",
    "        \n",
    "    * “a” 寫入模式（續寫）：如以 `mode =  “a”`開啟檔案時，是指在此模式下開啟檔案要進行寫入時，會從原本的檔案最後繼續進行寫入。"
   ]
  },
  {
   "cell_type": "markdown",
   "metadata": {},
   "source": [
    "### • 關閉檔案 close()\n",
    "`f.close()`  \n",
    "當在程式當中開啟了檔案以後，如果要停止對於這個檔案的更動或寫入，可以將檔案關閉。\n",
    "當要開啟其他檔案時，當然可以直接再開啟然後取代掉目前的 file object，但是記得在使用時關閉檔案依然是一個好習慣。"
   ]
  },
  {
   "cell_type": "markdown",
   "metadata": {},
   "source": [
    "========================\n",
    "## 一、讀取檔案"
   ]
  },
  {
   "cell_type": "markdown",
   "metadata": {},
   "source": [
    " ### **• 讀取檔案-1**\n",
    " 成功開啟檔案以後，下一個要做的就是將檔案當中的資料讀取進來\n",
    "\n",
    " #### `f.read()` 函式\n",
    " `file.read([size])`  \n",
    " 括號當中的參數 size 是可選(optional)的，當設置了 size 的值，電腦就會自動**讀到指定的字節數量**，若沒有設置就會將整個檔案都讀取進來。"
   ]
  },
  {
   "cell_type": "code",
   "execution_count": 16,
   "metadata": {},
   "outputs": [
    {
     "name": "stdout",
     "output_type": "stream",
     "text": [
      "I love Python!\n",
      "Get the filename, directory, extension from a path string in Python now!!\n",
      "I love\n"
     ]
    }
   ],
   "source": [
    "# import os\n",
    "# os.chdir('c:/youtube')\n",
    "f = open('./files/file_io.txt')\n",
    "words = f.read()\n",
    "print(words)\n",
    "\n",
    "f = open('./files/file_io.txt')\n",
    "word = f.read(6)\n",
    "print(word)\n",
    "f.close()"
   ]
  },
  {
   "cell_type": "markdown",
   "metadata": {},
   "source": [
    "### **• 讀取檔案-2**\n",
    "#### `file.readline()`\n",
    "這個函式將讀取檔案中的整行資料，但是一次只讀取一行，包含 \\n 字元，如果檔案當中包含了 N 行的資料，我們就必須呼叫 f.readline() N 次。"
   ]
  },
  {
   "cell_type": "code",
   "execution_count": 8,
   "metadata": {},
   "outputs": [
    {
     "name": "stdout",
     "output_type": "stream",
     "text": [
      "line1 ==> I love Python!\n",
      "\n",
      "line2 ==> Get the filename, directory, extension from a path string in Python now!!\n"
     ]
    }
   ],
   "source": [
    "# import os\n",
    "# os.chdir('c:/youtube')\n",
    "f = open('./files/file_io.txt')\n",
    "word_line1 = f.readline()\n",
    "word_line2 = f.readline()\n",
    "print(f'line1 ==> {word_line1}',f'line2 ==> {word_line2}',sep = '\\n')\n",
    "# print(word_line1,word_line2,sep = '\\n')\n",
    "f.close()"
   ]
  },
  {
   "cell_type": "markdown",
   "metadata": {},
   "source": [
    "### **• 讀取檔案-3**\n",
    "#### `file.readlines()`\n",
    "逐行讀取，提供一次讀取所有資料的方法  \n",
    "\n",
    "`f.readlines()` 會將檔案當中的所有資料都逐行讀取進來，然後會將其回傳成為一個 `list` ，我們嘗試執行以下的程式碼，將檔案使用 `f.readlines()` 讀取進來以後，用變數 `k` 接住，然後將其印出以便查看："
   ]
  },
  {
   "cell_type": "code",
   "execution_count": 17,
   "metadata": {},
   "outputs": [
    {
     "name": "stdout",
     "output_type": "stream",
     "text": [
      "['I love Python!\\n', 'Get the filename, directory, extension from a path string in Python now!!']\n"
     ]
    }
   ],
   "source": [
    "# import os\n",
    "# os.chdir('c:/youtube')\n",
    "f = open('./files/file_io.txt')\n",
    "word_list = f.readlines()\n",
    "print(word_list)\n",
    "f.close()"
   ]
  },
  {
   "cell_type": "markdown",
   "metadata": {},
   "source": [
    "#### **file.readlines()**\n",
    "`f.readlines()` 會將檔案當中每一行當作是一個字串，然後存進串列當中回傳。因此 `for loop`經常與 `f.readlines()` 搭配使用，方法如下：\n",
    "\n",
    "執行結果如下，由於當 `f.readlines()` 將每一行的文字讀取進來時，會連換行符號的 `\\n` 一起讀進來，因此，在使用 `print()` 將其印出時，會有原本字串當中的 `\\n` 以及 `print()` 本身預設的 end 字元 \\n ，所以中間會出現空行："
   ]
  },
  {
   "cell_type": "code",
   "execution_count": 18,
   "metadata": {},
   "outputs": [
    {
     "name": "stdout",
     "output_type": "stream",
     "text": [
      "I love Python!\n",
      "\n",
      "Get the filename, directory, extension from a path string in Python now!!\n"
     ]
    }
   ],
   "source": [
    "# import os\n",
    "# os.chdir('c:/youtube')\n",
    "f = open('./files/file_io.txt')\n",
    "\n",
    "for line in f.readlines():\n",
    "    print(line)\n",
    "f.close()"
   ]
  },
  {
   "cell_type": "markdown",
   "metadata": {},
   "source": [
    "除此之外， Python 可在不使用 `f.readlines()` 的情況下，我們可以直接利用 `for loop` 對於我們的 file object f 來 迭代(iterate)，方法如下："
   ]
  },
  {
   "cell_type": "code",
   "execution_count": 19,
   "metadata": {},
   "outputs": [
    {
     "name": "stdout",
     "output_type": "stream",
     "text": [
      "<_io.TextIOWrapper name='./files/file_io.txt' mode='r' encoding='cp950'>\n",
      "I love Python!\n",
      "\n",
      "Get the filename, directory, extension from a path string in Python now!!\n"
     ]
    }
   ],
   "source": [
    "# import os\n",
    "# os.chdir('c:/youtube')\n",
    "f = open('./files/file_io.txt')\n",
    "print(f)\n",
    "for line in f:\n",
    "    print(line)\n",
    "f.close()"
   ]
  },
  {
   "cell_type": "markdown",
   "metadata": {},
   "source": [
    "========================\n",
    "## **二、寫入檔案**\n",
    "將資料寫入檔案。與讀取相同，Python 同樣也提供了幾種不同的輸出方式："
   ]
  },
  {
   "cell_type": "markdown",
   "metadata": {},
   "source": [
    "### **• 寫入檔案 -1**\n",
    "#### `file.write()`\n",
    "其概念相對於 `f.read()` ，參數的資料型態是字串 string"
   ]
  },
  {
   "cell_type": "code",
   "execution_count": 21,
   "metadata": {},
   "outputs": [
    {
     "name": "stdout",
     "output_type": "stream",
     "text": [
      "Try to use file_io_1.txt\n",
      "\n",
      "Write some contents\n",
      "\n",
      "Line1\n",
      "\n",
      "line2\n"
     ]
    }
   ],
   "source": [
    "# import os\n",
    "# os.chdir('c:/youtube')\n",
    "f = open('./files/file_io_1.txt','w')\n",
    "f.write('Try to use file_io_1.txt\\nWrite some contents\\nLine1\\nline2')\n",
    "\n",
    "f = open('./files/file_io_1.txt','r')\n",
    "contents = f.readlines()\n",
    "for content in contents:\n",
    "    print(content)\n",
    "\n",
    "f.close()\n"
   ]
  },
  {
   "cell_type": "markdown",
   "metadata": {},
   "source": [
    "### **• 寫入檔案 -2**\n",
    "#### `file.writelines()`\n",
    "如不想要每輸出一段東西就使用一次 `f.write()` ，Python 也提供了另一個概念和 `f.readlines()` 相對的函式：\n",
    "`f.writelines()` 用法如下：\n",
    "##### `file.writelines(seq)`\n",
    "參數 seq 指的是 `f.writelines()` 的參數必須是一個**序列**，也就是 list 或是 tuple 這類的資料型態。  \n",
    "而 `f.writelines()` 就會將序列 (sequence) 中的內容印出，舉例來說，假如要輸出和上面相同的檔案，可以的寫法如下："
   ]
  },
  {
   "cell_type": "code",
   "execution_count": 22,
   "metadata": {},
   "outputs": [
    {
     "name": "stdout",
     "output_type": "stream",
     "text": [
      "Try to use file_io_2.txt \n",
      "\n",
      "Write some contents \n",
      "\n",
      "Line1 \n",
      "\n",
      "line2\n"
     ]
    }
   ],
   "source": [
    "# import os\n",
    "# os.chdir('c:/youtube')\n",
    "f = open('./files/file_io_2.txt','w')\n",
    "sequence= ['Try to use file_io_2.txt \\n','Write some contents \\n','Line1 \\n','line2']\n",
    "f.writelines(sequence)\n",
    "\n",
    "f = open('./files/file_io_2.txt','r')\n",
    "contents = f.readlines()\n",
    "for content in contents:\n",
    "    print(content)\n",
    "\n",
    "f.close()"
   ]
  },
  {
   "cell_type": "markdown",
   "metadata": {},
   "source": [
    "由此可見，雖然 `f.writelines()` 會將所給的參數 sequence 當中的內容一個一個印出，卻不會像 `print()` 一樣預設在輸出後面附上換行 `\\n` ，因此，**必須在要換行的字串後，再自行加上 `\\n`** 。"
   ]
  },
  {
   "cell_type": "markdown",
   "metadata": {},
   "source": [
    "========================\n",
    "## **三、print()**\n",
    "Python 也提供了我們利用熟悉的 `print()`，就可以完成輸出到檔案的方法。\n",
    "當我們今天想要將任何東西輸出時，都會直接使用 `print()` ，然後頂多更改參數 sep 或是 end 。\n",
    "然而，除了這兩個參數以外，還有第三個參數 file 。\n",
    "我們會得到了一個裝著和方才直接使用 print() 時一樣內容的 txt 檔案。\n",
    "\n",
    "舉例來說，今天有一個 list 叫做 web_list ，內容如下：\n",
    "`['https://www.web_01.com/home','https://www.web_02.com/home','https://www.web_03.com/home','https://www.web_04.com/home','https://www.web_05.com/home','https://www.web_06.com/home']`  \n",
    "當我們對這個 list 直接使用 print 時，會得到如下的結果："
   ]
  },
  {
   "cell_type": "code",
   "execution_count": 25,
   "metadata": {},
   "outputs": [
    {
     "name": "stdout",
     "output_type": "stream",
     "text": [
      "['https://www.web_01.com/home', 'https://www.web_02.com/home', 'https://www.web_03.com/home', 'https://www.web_04.com/home', 'https://www.web_05.com/home', 'https://www.web_06.com/home']\n"
     ]
    }
   ],
   "source": [
    "# 當我們對這個 list 直接使用 print 時，會得到如下的結果：\n",
    "web_list = ['https://www.web_01.com/home','https://www.web_02.com/home','https://www.web_03.com/home','https://www.web_04.com/home','https://www.web_05.com/home','https://www.web_06.com/home']\n",
    "print(web_list)"
   ]
  },
  {
   "cell_type": "markdown",
   "metadata": {},
   "source": [
    "然而，當設定了 `file` 這個參數以後，將程式碼改成下方的樣子，就不一樣了：  \n",
    "**可得到了一個裝著和方才直接使用 `print()` 時一樣內容的 txt 檔案。**"
   ]
  },
  {
   "cell_type": "code",
   "execution_count": 23,
   "metadata": {},
   "outputs": [
    {
     "name": "stdout",
     "output_type": "stream",
     "text": [
      "=========\n",
      "['https://www.web_01.com/home', 'https://www.web_02.com/home', 'https://www.web_03.com/home', 'https://www.web_04.com/home', 'https://www.web_05.com/home', 'https://www.web_06.com/home']\n",
      "\n"
     ]
    }
   ],
   "source": [
    "#然而，當我們設定了 file 這個參數以後，將程式碼改成下方的樣子，就不一樣了：\n",
    "# import os\n",
    "# os.chdir('c:/youtube')\n",
    "f = open('./files/web_lists.txt','w')\n",
    "web_list = ['https://www.web_01.com/home','https://www.web_02.com/home','https://www.web_03.com/home','https://www.web_04.com/home','https://www.web_05.com/home','https://www.web_06.com/home']\n",
    "print(web_list,file = f)\n",
    "print('=========')\n",
    "\n",
    "f = open('./files/web_lists.txt','r')\n",
    "contents = f.readlines()\n",
    "for content in contents:\n",
    "    print(content)\n",
    "\n",
    "f.close()"
   ]
  },
  {
   "cell_type": "markdown",
   "metadata": {},
   "source": [
    "## **四、在檔案中移動位置**\n",
    "接著，如何更進一步的進行檔案的處理。當在進行檔案的讀取時，有時可能會想要將檔案從頭到尾讀取第二遍。\n",
    "\n",
    "直接的想法 : for loop\n",
    "程式碼在第一個 for loop 跑完以後，直接下一個 for loop 再將檔案的內容再輸出一次??\n",
    "但第二次的 for loop 完全沒有印出東西來。\n",
    "```python\n",
    "f = open('sample.txt')\n",
    "for line in f:\n",
    "    print(line)\n",
    "for line in f:\n",
    "    print(line)\n",
    "f.close()\n",
    "```\n",
    "![列印的結果](./figure/txtPrint_01.webp)"
   ]
  },
  {
   "cell_type": "code",
   "execution_count": 5,
   "metadata": {},
   "outputs": [
    {
     "name": "stdout",
     "output_type": "stream",
     "text": [
      "loop_01 123\n",
      "\n",
      "loop_01 456\n",
      "\n",
      "loop_01 789\n"
     ]
    }
   ],
   "source": [
    "f = open('./files/sample.txt')\n",
    "for line in f:\n",
    "    print('loop_01',line)\n",
    "for line in f:\n",
    "    print('loop_02',line)\n",
    "f.close()"
   ]
  },
  {
   "cell_type": "markdown",
   "metadata": {},
   "source": [
    "因為，當 file object 在處理檔案時，第一個 `for loop` 結束以後，這個指針隨著讀取已經到了文件的最後面。  \n",
    "因此，接下來想要再使用 for loop 來讀取的話，如果我們沒有將指針移到檔案最前面，就無法得到任何東西。  \n",
    "因此，以下要介紹用來移動這個指針或是獲取現在指針位置的方法：`file.seek()`\n",
    "\n",
    "### **• 在檔案中移動位置 -1**\n",
    "#### `file.seek()`\n",
    "`f.seek()` ，顧名思義，就是在檔案當中尋找。  \n",
    "不過這裡說的尋找指的並不是尋找某個字或是某個資料，而是尋找某個位置。\n",
    "使用上面的例子，此時，若我們想要將檔案的內容完整輸出兩次，  \n",
    "只需要在兩個 `for loop` 之間加上一行 `f.seek(0)` 即可：\n",
    "```python\n",
    "f = open('sample.txt')\n",
    "for line in f:\n",
    "    print(line)\n",
    "f.seek(0)\n",
    "for line in f:\n",
    "    print(line)\n",
    "f.close()\n",
    "```\n",
    "\n",
    "![列印的結果](./figure/txtPrint_02.webp)"
   ]
  },
  {
   "cell_type": "code",
   "execution_count": 6,
   "metadata": {},
   "outputs": [
    {
     "name": "stdout",
     "output_type": "stream",
     "text": [
      "loop_01 123\n",
      "\n",
      "loop_01 456\n",
      "\n",
      "loop_01 789\n",
      "loop_02 123\n",
      "\n",
      "loop_02 456\n",
      "\n",
      "loop_02 789\n"
     ]
    }
   ],
   "source": [
    "f = open('./files/sample.txt')\n",
    "for line in f:\n",
    "    print('loop_01',line)\n",
    "f.seek(0)\n",
    "for line in f:\n",
    "    print('loop_02',line)\n",
    "f.close()"
   ]
  },
  {
   "cell_type": "markdown",
   "metadata": {},
   "source": [
    "也就是說，當我們想要移動這個指針的位置，只要使用 `f.seek()` 就可以將指針移到目標位置。所以當我們將 `f.seek()` 當中的參數設為 `1` 時，將會移到文件當中的位置一。所以當我們在讀取時，會從第二個字元開始讀取。 \n",
    "```python\n",
    "f = open('sample.txt')\n",
    "f.seek(0)\n",
    "for line in f:\n",
    "    print(line)\n",
    "f.close()\n",
    "```\n",
    "\n",
    "就會輸出下面的結果：\n",
    "![列印的結果](./figure/txtPrint_03.webp) "
   ]
  },
  {
   "cell_type": "code",
   "execution_count": 7,
   "metadata": {},
   "outputs": [
    {
     "name": "stdout",
     "output_type": "stream",
     "text": [
      "23\n",
      "\n",
      "456\n",
      "\n",
      "789\n"
     ]
    }
   ],
   "source": [
    "f = open('./files/sample.txt')\n",
    "f.seek(1)\n",
    "for line in f:\n",
    "    print(line)\n",
    "f.close()"
   ]
  },
  {
   "cell_type": "markdown",
   "metadata": {},
   "source": [
    "---\n",
    "++++++++++++++++++++++++++++++++++++++++++++++\n",
    "#### **<活用>**\n",
    "\n",
    "第二次的 for loop 有沒有印出?"
   ]
  },
  {
   "cell_type": "code",
   "execution_count": 32,
   "metadata": {},
   "outputs": [
    {
     "name": "stdout",
     "output_type": "stream",
     "text": [
      "==== 1st ====\n",
      "['https://www.web_01.com/home', 'https://www.web_02.com/home', 'https://www.web_03.com/home', 'https://www.web_04.com/home', 'https://www.web_05.com/home', 'https://www.web_06.com/home']\n",
      "\n",
      "==== 2nd =====\n"
     ]
    }
   ],
   "source": [
    "# import os\n",
    "# os.chdir('c:/youtube')\n",
    "f = open('./files/web_lists.txt','w')\n",
    "web_list = ['https://www.web_01.com/home','https://www.web_02.com/home','https://www.web_03.com/home','https://www.web_04.com/home','https://www.web_05.com/home','https://www.web_06.com/home']\n",
    "print(web_list,file = f)\n",
    "\n",
    "f = open('./files/web_lists.txt','r')\n",
    "# contents = f.readlines()\n",
    "print('==== 1st ====')\n",
    "for content in f:\n",
    "    print(content)\n",
    "\n",
    "print('==== 2nd =====') \n",
    "for content in f:\n",
    "    print(content)\n",
    "\n",
    "f.close()"
   ]
  },
  {
   "cell_type": "markdown",
   "metadata": {},
   "source": [
    "很顯然的，第二次的 for loop 完全沒有印出東西來。\n",
    "\n",
    "原因是這樣子的，當在讀取或是寫入檔案時，可以想像成電腦裡面有一個指標，類似於在使用 word 或是任何的文字編輯器時的指標，依照他的位置，知道接下來，如果要打字會出現在什麼地方。\n",
    "\n",
    "同樣的，當 file object 在處理檔案時也是一樣的概念。在上面的範例當中，第一個 for loop 結束以後，這個指針隨著讀取已經到了文件的最後面。因此，接下來想要再使用 for loop 來讀取的話，如果沒有將指針移到檔案最前面，就無法得到任何東西。\n",
    "因此，以下要介紹用來移動這個指針或是獲取現在指針位置的方法。"
   ]
  },
  {
   "cell_type": "markdown",
   "metadata": {},
   "source": [
    "### 在檔案中移動位置 -1\n",
    "### file.seek()\n",
    "第一個是 `f.seek()` ，顧名思義，就是在檔案當中尋找。不過這裡說的尋找指的並不是尋找某個字或是某個資料，而是尋找某個位置，\n",
    "用法如下 :\n",
    "`file.seek()`\n",
    "繼續使用上面的例子，此時，若我們想要將檔案的內容完整輸出兩次，只需要在兩個 `for loop` 之間加上一行 `f.seek(0)` 即可："
   ]
  },
  {
   "cell_type": "code",
   "execution_count": 33,
   "metadata": {},
   "outputs": [
    {
     "name": "stdout",
     "output_type": "stream",
     "text": [
      "==== 1st ====\n",
      "['https://www.web_01.com/home', 'https://www.web_02.com/home', 'https://www.web_03.com/home', 'https://www.web_04.com/home', 'https://www.web_05.com/home', 'https://www.web_06.com/home']\n",
      "\n",
      "==== 2nd =====\n",
      "['https://www.web_01.com/home', 'https://www.web_02.com/home', 'https://www.web_03.com/home', 'https://www.web_04.com/home', 'https://www.web_05.com/home', 'https://www.web_06.com/home']\n",
      "\n"
     ]
    }
   ],
   "source": [
    "# 也就是說，當想要移動這個指針的位置，只要使用 f.seek() 就可以將指針移到目標位置。\n",
    "\n",
    "# import os\n",
    "# os.chdir('c:/youtube')\n",
    "f = open('./files/web_lists.txt','w')\n",
    "web_list = ['https://www.web_01.com/home','https://www.web_02.com/home','https://www.web_03.com/home','https://www.web_04.com/home','https://www.web_05.com/home','https://www.web_06.com/home']\n",
    "print(web_list,file = f)\n",
    "\n",
    "f = open('./files/web_lists.txt','r')\n",
    "# contents = f.readlines()\n",
    "print('==== 1st ====')\n",
    "for content in f:\n",
    "    print(content)\n",
    "\n",
    "print('==== 2nd =====') \n",
    "f.seek(0)     # 移動這個指針的位置到起始位置\n",
    "for content in f:\n",
    "    print(content)\n",
    "\n",
    "f.close()"
   ]
  },
  {
   "cell_type": "markdown",
   "metadata": {},
   "source": [
    "或者是:儲存在一個位置後，再重複呼叫"
   ]
  },
  {
   "cell_type": "code",
   "execution_count": 34,
   "metadata": {},
   "outputs": [
    {
     "name": "stdout",
     "output_type": "stream",
     "text": [
      "==== 1st ====\n",
      "['https://www.web_01.com/home', 'https://www.web_02.com/home', 'https://www.web_03.com/home', 'https://www.web_04.com/home', 'https://www.web_05.com/home', 'https://www.web_06.com/home']\n",
      "\n",
      "==== 2nd =====\n",
      "['https://www.web_01.com/home', 'https://www.web_02.com/home', 'https://www.web_03.com/home', 'https://www.web_04.com/home', 'https://www.web_05.com/home', 'https://www.web_06.com/home']\n",
      "\n"
     ]
    }
   ],
   "source": [
    "# import os\n",
    "# os.chdir('c:/youtube')\n",
    "f = open('./files/web_lists.txt','w')\n",
    "web_list = ['https://www.web_01.com/home','https://www.web_02.com/home','https://www.web_03.com/home','https://www.web_04.com/home','https://www.web_05.com/home','https://www.web_06.com/home']\n",
    "print(web_list,file = f)\n",
    "\n",
    "f = open('./files/web_lists.txt','r')\n",
    "contents = f.readlines()\n",
    "print('==== 1st ====')\n",
    "for content in contents:\n",
    "    print(content)\n",
    "\n",
    "print('==== 2nd =====') \n",
    "for content in contents:\n",
    "    print(content)\n",
    "\n",
    "f.close()"
   ]
  },
  {
   "cell_type": "markdown",
   "metadata": {},
   "source": [
    "**活用End**  \n",
    "***\n",
    "=========================================================="
   ]
  },
  {
   "cell_type": "markdown",
   "metadata": {},
   "source": [
    "### 在檔案中移動位置 -2\n",
    "### `file.tell()`\n",
    "`f.tell()` 和 `f.seek()` 是接近於相對的概念，  \n",
    "所謂的 `f.tell()` ，顧名思義就是會回傳給你現在指標所在的位置。  \n",
    "在讀取資料時使用的是 `f.read()` 時，`f.tell()`可以很輕鬆地知道目前指針的位置在哪裡。\n",
    "然而，若要搭配 f.seek() 或是其他方法使用時，就需要`f.tell()`來知道目前確切的指針位置，與此同時也可以知道目前進行到檔案的什麼地方。\n",
    "```python\n",
    "f = open('sample.txt')\n",
    "print(f.read(1))\n",
    "print(f.readline())\n",
    "print(f.tell())\n",
    "f.close()\n",
    "```\n",
    "\n",
    "\n",
    "就會輸出下面的結果：\n",
    "![列印的結果](./figure/txtPrint_04.webp) \n",
    "\n",
    "由此可見，使用 `f.tell()` 可以得到目前指針所在的位置，是下一行的開頭也就是 `123\\n` 之後的位置 `4`。"
   ]
  },
  {
   "cell_type": "code",
   "execution_count": 8,
   "metadata": {},
   "outputs": [
    {
     "name": "stdout",
     "output_type": "stream",
     "text": [
      "c:\\youtube\n"
     ]
    },
    {
     "ename": "FileNotFoundError",
     "evalue": "[Errno 2] No such file or directory: 'C:/Users/Lu/Documents/GitHub/__2024_01_08_python_openAPI__/00_selfStudy/files/file_io_2.txtfile_io_1.txt'",
     "output_type": "error",
     "traceback": [
      "\u001b[1;31m---------------------------------------------------------------------------\u001b[0m",
      "\u001b[1;31mFileNotFoundError\u001b[0m                         Traceback (most recent call last)",
      "Cell \u001b[1;32mIn[8], line 7\u001b[0m\n\u001b[0;32m      5\u001b[0m \u001b[38;5;66;03m# os.chdir('c:\\youtube')\u001b[39;00m\n\u001b[0;32m      6\u001b[0m \u001b[38;5;28mprint\u001b[39m(os\u001b[38;5;241m.\u001b[39mgetcwd()) \n\u001b[1;32m----> 7\u001b[0m f \u001b[38;5;241m=\u001b[39m \u001b[38;5;28;43mopen\u001b[39;49m\u001b[43m(\u001b[49m\u001b[38;5;124;43m'\u001b[39;49m\u001b[38;5;124;43mC:/Users/Lu/Documents/GitHub/__2024_01_08_python_openAPI__/00_selfStudy/files/file_io_2.txtfile_io_1.txt\u001b[39;49m\u001b[38;5;124;43m'\u001b[39;49m\u001b[43m,\u001b[49m\u001b[38;5;124;43m'\u001b[39;49m\u001b[38;5;124;43mr\u001b[39;49m\u001b[38;5;124;43m'\u001b[39;49m\u001b[43m)\u001b[49m\n\u001b[0;32m      8\u001b[0m \u001b[38;5;28mprint\u001b[39m(f\u001b[38;5;241m.\u001b[39mread(\u001b[38;5;241m1\u001b[39m))\n\u001b[0;32m      9\u001b[0m \u001b[38;5;28mprint\u001b[39m(f\u001b[38;5;241m.\u001b[39mreadline())\n",
      "File \u001b[1;32mc:\\Users\\Lu\\Documents\\GitHub\\__2024_01_08_python_openAPI__\\__youtube_download__\\yt.venv\\lib\\site-packages\\IPython\\core\\interactiveshell.py:310\u001b[0m, in \u001b[0;36m_modified_open\u001b[1;34m(file, *args, **kwargs)\u001b[0m\n\u001b[0;32m    303\u001b[0m \u001b[38;5;28;01mif\u001b[39;00m file \u001b[38;5;129;01min\u001b[39;00m {\u001b[38;5;241m0\u001b[39m, \u001b[38;5;241m1\u001b[39m, \u001b[38;5;241m2\u001b[39m}:\n\u001b[0;32m    304\u001b[0m     \u001b[38;5;28;01mraise\u001b[39;00m \u001b[38;5;167;01mValueError\u001b[39;00m(\n\u001b[0;32m    305\u001b[0m         \u001b[38;5;124mf\u001b[39m\u001b[38;5;124m\"\u001b[39m\u001b[38;5;124mIPython won\u001b[39m\u001b[38;5;124m'\u001b[39m\u001b[38;5;124mt let you open fd=\u001b[39m\u001b[38;5;132;01m{\u001b[39;00mfile\u001b[38;5;132;01m}\u001b[39;00m\u001b[38;5;124m by default \u001b[39m\u001b[38;5;124m\"\u001b[39m\n\u001b[0;32m    306\u001b[0m         \u001b[38;5;124m\"\u001b[39m\u001b[38;5;124mas it is likely to crash IPython. If you know what you are doing, \u001b[39m\u001b[38;5;124m\"\u001b[39m\n\u001b[0;32m    307\u001b[0m         \u001b[38;5;124m\"\u001b[39m\u001b[38;5;124myou can use builtins\u001b[39m\u001b[38;5;124m'\u001b[39m\u001b[38;5;124m open.\u001b[39m\u001b[38;5;124m\"\u001b[39m\n\u001b[0;32m    308\u001b[0m     )\n\u001b[1;32m--> 310\u001b[0m \u001b[38;5;28;01mreturn\u001b[39;00m io_open(file, \u001b[38;5;241m*\u001b[39margs, \u001b[38;5;241m*\u001b[39m\u001b[38;5;241m*\u001b[39mkwargs)\n",
      "\u001b[1;31mFileNotFoundError\u001b[0m: [Errno 2] No such file or directory: 'C:/Users/Lu/Documents/GitHub/__2024_01_08_python_openAPI__/00_selfStudy/files/file_io_2.txtfile_io_1.txt'"
     ]
    }
   ],
   "source": [
    "# 舉例來說，先使用了 f.read() ，又使用了 f.readline() 後，若想要知道接下來會從哪個位置開始。\n",
    "# 試寫程式碼如下：\n",
    "\n",
    "import os\n",
    "# os.chdir('c:\\youtube')\n",
    "# os.chdir('C:\\Users\\Lu\\Documents\\GitHu\\__2024_01_08_python_openAPI__\\00_selfStudy/files')\n",
    "print(os.getcwd()) \n",
    "f = open('./files/file_io_2.txt','r')\n",
    "print(f.read(1))\n",
    "print(f.readline())\n",
    "print(f.tell())\n",
    "print(f.read())\n",
    "f.close()"
   ]
  },
  {
   "cell_type": "markdown",
   "metadata": {},
   "source": [
    "\n",
    "---\n",
    "---\n",
    "+++++++++++++++++++++++++++++++"
   ]
  },
  {
   "cell_type": "markdown",
   "metadata": {},
   "source": [
    "## Python File(檔案) 方法\n",
    "<ref> https://www.runoob.com/python/file-methods.html"
   ]
  },
  {
   "cell_type": "markdown",
   "metadata": {},
   "source": [
    "### open() 方法\n",
    "Python open() 方法用於開啟一個文件，並傳回文件對象，在對文件進行處理過程都需要使用到這個函數，如果該文件無法被打開，會拋出OSError。\n",
    "\n",
    "注意：使用open() 方法一定要保證關閉檔案對象，也就是呼叫close() 方法。\n",
    "\n",
    "open() 函數常用形式是接收兩個參數：檔案名稱(file)和模式(mode)。\n",
    "### open ( file , mode = 'r' )\n",
    "\n",
    "完整的語法格式為：\n",
    "### open ( file , mode = 'r' , buffering =- 1 , encoding = None , errors = None , newline = None , closefd = True , opener = None )\n",
    "==> 參數說明 :\n",
    "file: 必需，檔案路徑（相對或絕對路徑）。\n",
    "mode: 可選，檔案開啟模式\n",
    "buffering: 設定緩衝\n",
    "encoding: 一般使用utf8\n",
    "errors: 報錯級別\n",
    "newline: 區分換行符\n",
    "closefd: 傳入的file參數類型\n",
    "opener: 設定自訂開啟器，開啟器的回傳值必須是一個開啟的檔案描述子。"
   ]
  },
  {
   "cell_type": "markdown",
   "metadata": {},
   "source": [
    "### mode 參數有：\n",
    "\n",
    "模式 | 描述\n",
    "t\t文字模式(預設)。\n",
    "x\t寫入模式，新建一個文件，如果該文件已存在則會報錯。\n",
    "b\t二進制模式。\n",
    "+\t開啟一個檔案進行更新(可讀可寫)。\n",
    "U\t通用換行模式（不建議）。\n",
    "r\t以唯讀方式開啟檔案。文件的指針將會放在文件的開頭。這是預設模式。\n",
    "rb\t以二進位格式開啟一個檔案用於唯讀。文件指針放在文件的開頭。這是預設模式。一般用於非文字檔案如圖片等。\n",
    "r+\t開啟一個檔案用於讀寫。文件指針將會放在文件的開頭。\n",
    "rb+\t以二進位格式開啟一個檔案用於讀寫。文件指針將會放在文件的開頭。一般用於非文字檔案如圖片等。\n",
    "w\t開啟一個檔案只用於寫入。如該文件已存在則開啟文件，並從開頭開始編輯，即原有內容會被刪除。如該文件不存在，請建立新文件。\n",
    "wb\t以二進位格式開啟一個檔案只用於寫入。如果該文件已存在則開啟文件，並從開頭開始編輯，即原有內容會被刪除。如果該文件不存在，請建立新文件。一般用於非文字檔案如圖片等。\n",
    "w+\t開啟一個檔案用於讀寫。如果該文件已存在則開啟文件，並從開頭開始編輯，即原有內容會被刪除。如果該文件不存在，請建立新文件。\n",
    "wb+\t以二進位格式開啟一個檔案用於讀寫。如果該文件已存在則開啟文件，並從開頭開始編輯，即原有內容會被刪除。如果該文件不存在，請建立新文件。一般用於非文字檔案如圖片等。\n",
    "a\t開啟一個檔案用於追加。如果該檔案已存在，則檔案指標將會放在檔案的結尾。也就是說，新的內容將會被寫入到已有內容之後。如果該文件不存在，請建立新文件進行寫入。\n",
    "ab\t以二進位格式開啟一個檔案以進行追加。如果該檔案已存在，則檔案指標將會放在檔案的結尾。也就是說，新的內容將會被寫入到已有內容之後。如果該文件不存在，請建立新文件進行寫入。\n",
    "a+\t開啟一個檔案用於讀寫。如果該檔案已存在，則檔案指標將會放在檔案的結尾。文件開啟時會是追加模式。如果該檔案不存在，建立新檔案用於讀寫。\n",
    "ab+\t以二進位格式開啟一個檔案以進行追加。如果該檔案已存在，則檔案指標將會放在檔案的結尾。如果該檔案不存在，建立新檔案用於讀寫。"
   ]
  },
  {
   "cell_type": "code",
   "execution_count": 7,
   "metadata": {},
   "outputs": [
    {
     "name": "stdout",
     "output_type": "stream",
     "text": [
      "file existed\n"
     ]
    }
   ],
   "source": [
    "# mode = 'x' 寫入模式，新建一個文件，如果該文件已存在則會報錯。\n",
    "\n",
    "import os\n",
    "os.chdir('c:\\youtube')\n",
    "try:\n",
    "    open('file_io_3.txt','x')\n",
    "except:\n",
    "    print('file existed')"
   ]
  },
  {
   "cell_type": "markdown",
   "metadata": {},
   "source": [
    "### file 物件\n",
    "file 物件使用open 函數來創建，下表列出了file 物件常用的函數：\n",
    "\n",
    "序號\t方法及描述\n",
    "file.close()\n",
    "關閉文件。關閉後文件不能再進行讀寫操作。\n",
    "\n",
    "file.flush()\n",
    "刷新檔案內部緩衝，直接把內部緩衝區的資料立刻寫入檔案, 而不是被動的等待輸出緩衝區寫入。\n",
    "\n",
    "file.fileno()\n",
    "傳回一個整數的檔案描述子(file descriptor FD 整數), 可以用在如os模組的read方法等一些底層操作上。\n",
    "\n",
    "file.isatty()\n",
    "如果檔案連接到一個終端設備回傳True，否則回傳False。\n",
    "\n",
    "file.next()\n",
    "返回文件下一行。\n",
    "\n",
    "file.read([size])\n",
    "從檔案讀取指定的位元組數，如果未給定或為負則讀取所有。\n",
    "\n",
    "file.readline([size])\n",
    "讀取整行，包括\"\\n\" 字元。\n",
    "\n",
    "file.readlines([sizeint])\n",
    "讀取所有行並返回列表，若給定sizeint>0，則是設定一次讀取多少字節，這是為了減輕讀取壓力。\n",
    "\n",
    "file.seek(offset[, whence])\n",
    "設定文件目前位置\n",
    "\n",
    "file.tell()\n",
    "返回文件目前位置。\n",
    "\n",
    "file.truncate([size])\n",
    "截取文件，截取的位元組透過size指定，預設為目前文件位置。\n",
    "\n",
    "file.write(str)\n",
    "將字串寫入文件，傳回的是寫入的字元長度。\n",
    "\n",
    "file.writelines(sequence)\n",
    "向文件寫入一個序列字串列表，如果需要換行則要自行加入每行的換行符。"
   ]
  },
  {
   "cell_type": "code",
   "execution_count": 3,
   "metadata": {},
   "outputs": [
    {
     "name": "stdout",
     "output_type": "stream",
     "text": [
      "['https://www.web_11.com/home\\n', 'https://www.web_12.com/home\\n', 'https://www.web_13.com/home\\n', 'https://www.web_14.com/home\\n', 'https://www.web_15.com/home\\n', 'https://www.web_16.com/home\\n']\n",
      "web1 ==> https://www.web_11.com/home\n",
      "\n",
      "web2 ==> https://www.web_12.com/home\n",
      "\n",
      "web3 ==> https://www.web_13.com/home\n",
      "\n",
      "web4 ==> https://www.web_14.com/home\n",
      "\n",
      "web5 ==> https://www.web_15.com/home\n",
      "\n",
      "web6 ==> https://www.web_16.com/home\n",
      "\n"
     ]
    }
   ],
   "source": [
    "# 應用 -1\n",
    "import os\n",
    "os.chdir('c:/youtube')\n",
    "f = open('web_list.txt')\n",
    "webList = f.readlines()\n",
    "print(webList)\n",
    "f.close()\n",
    "\n",
    "n = 0\n",
    "for i in webList :\n",
    "    n += 1\n",
    "    print(f'web{n} ==> {i}')"
   ]
  },
  {
   "cell_type": "code",
   "execution_count": 5,
   "metadata": {},
   "outputs": [
    {
     "name": "stdout",
     "output_type": "stream",
     "text": [
      "https://www.web_11.com/home\n",
      "https://www.web_12.com/home\n",
      "https://www.web_13.com/home\n",
      "https://www.web_14.com/home\n",
      "https://www.web_15.com/home\n",
      "https://www.web_16.com/home\n",
      "\n",
      "web1 ==> h\n",
      "web2 ==> t\n",
      "web3 ==> t\n",
      "web4 ==> p\n",
      "web5 ==> s\n",
      "web6 ==> :\n",
      "web7 ==> /\n",
      "web8 ==> /\n",
      "web9 ==> w\n",
      "web10 ==> w\n",
      "web11 ==> w\n",
      "web12 ==> .\n",
      "web13 ==> w\n",
      "web14 ==> e\n",
      "web15 ==> b\n",
      "web16 ==> _\n",
      "web17 ==> 1\n",
      "web18 ==> 1\n",
      "web19 ==> .\n",
      "web20 ==> c\n",
      "web21 ==> o\n",
      "web22 ==> m\n",
      "web23 ==> /\n",
      "web24 ==> h\n",
      "web25 ==> o\n",
      "web26 ==> m\n",
      "web27 ==> e\n",
      "web28 ==> \n",
      "\n",
      "web29 ==> h\n",
      "web30 ==> t\n",
      "web31 ==> t\n",
      "web32 ==> p\n",
      "web33 ==> s\n",
      "web34 ==> :\n",
      "web35 ==> /\n",
      "web36 ==> /\n",
      "web37 ==> w\n",
      "web38 ==> w\n",
      "web39 ==> w\n",
      "web40 ==> .\n",
      "web41 ==> w\n",
      "web42 ==> e\n",
      "web43 ==> b\n",
      "web44 ==> _\n",
      "web45 ==> 1\n",
      "web46 ==> 2\n",
      "web47 ==> .\n",
      "web48 ==> c\n",
      "web49 ==> o\n",
      "web50 ==> m\n",
      "web51 ==> /\n",
      "web52 ==> h\n",
      "web53 ==> o\n",
      "web54 ==> m\n",
      "web55 ==> e\n",
      "web56 ==> \n",
      "\n",
      "web57 ==> h\n",
      "web58 ==> t\n",
      "web59 ==> t\n",
      "web60 ==> p\n",
      "web61 ==> s\n",
      "web62 ==> :\n",
      "web63 ==> /\n",
      "web64 ==> /\n",
      "web65 ==> w\n",
      "web66 ==> w\n",
      "web67 ==> w\n",
      "web68 ==> .\n",
      "web69 ==> w\n",
      "web70 ==> e\n",
      "web71 ==> b\n",
      "web72 ==> _\n",
      "web73 ==> 1\n",
      "web74 ==> 3\n",
      "web75 ==> .\n",
      "web76 ==> c\n",
      "web77 ==> o\n",
      "web78 ==> m\n",
      "web79 ==> /\n",
      "web80 ==> h\n",
      "web81 ==> o\n",
      "web82 ==> m\n",
      "web83 ==> e\n",
      "web84 ==> \n",
      "\n",
      "web85 ==> h\n",
      "web86 ==> t\n",
      "web87 ==> t\n",
      "web88 ==> p\n",
      "web89 ==> s\n",
      "web90 ==> :\n",
      "web91 ==> /\n",
      "web92 ==> /\n",
      "web93 ==> w\n",
      "web94 ==> w\n",
      "web95 ==> w\n",
      "web96 ==> .\n",
      "web97 ==> w\n",
      "web98 ==> e\n",
      "web99 ==> b\n",
      "web100 ==> _\n",
      "web101 ==> 1\n",
      "web102 ==> 4\n",
      "web103 ==> .\n",
      "web104 ==> c\n",
      "web105 ==> o\n",
      "web106 ==> m\n",
      "web107 ==> /\n",
      "web108 ==> h\n",
      "web109 ==> o\n",
      "web110 ==> m\n",
      "web111 ==> e\n",
      "web112 ==> \n",
      "\n",
      "web113 ==> h\n",
      "web114 ==> t\n",
      "web115 ==> t\n",
      "web116 ==> p\n",
      "web117 ==> s\n",
      "web118 ==> :\n",
      "web119 ==> /\n",
      "web120 ==> /\n",
      "web121 ==> w\n",
      "web122 ==> w\n",
      "web123 ==> w\n",
      "web124 ==> .\n",
      "web125 ==> w\n",
      "web126 ==> e\n",
      "web127 ==> b\n",
      "web128 ==> _\n",
      "web129 ==> 1\n",
      "web130 ==> 5\n",
      "web131 ==> .\n",
      "web132 ==> c\n",
      "web133 ==> o\n",
      "web134 ==> m\n",
      "web135 ==> /\n",
      "web136 ==> h\n",
      "web137 ==> o\n",
      "web138 ==> m\n",
      "web139 ==> e\n",
      "web140 ==> \n",
      "\n",
      "web141 ==> h\n",
      "web142 ==> t\n",
      "web143 ==> t\n",
      "web144 ==> p\n",
      "web145 ==> s\n",
      "web146 ==> :\n",
      "web147 ==> /\n",
      "web148 ==> /\n",
      "web149 ==> w\n",
      "web150 ==> w\n",
      "web151 ==> w\n",
      "web152 ==> .\n",
      "web153 ==> w\n",
      "web154 ==> e\n",
      "web155 ==> b\n",
      "web156 ==> _\n",
      "web157 ==> 1\n",
      "web158 ==> 6\n",
      "web159 ==> .\n",
      "web160 ==> c\n",
      "web161 ==> o\n",
      "web162 ==> m\n",
      "web163 ==> /\n",
      "web164 ==> h\n",
      "web165 ==> o\n",
      "web166 ==> m\n",
      "web167 ==> e\n",
      "web168 ==> \n",
      "\n"
     ]
    }
   ],
   "source": [
    "# 應用 -2\n",
    "import os\n",
    "os.chdir('c:/youtube')\n",
    "f = open('web_list.txt')\n",
    "webList = f.read()\n",
    "print(webList)\n",
    "f.close()\n",
    "\n",
    "n = 0\n",
    "for i in webList :\n",
    "    n += 1\n",
    "    print(f'web{n} ==> {i}')"
   ]
  }
 ],
 "metadata": {
  "kernelspec": {
   "display_name": "yt.venv",
   "language": "python",
   "name": "python3"
  },
  "language_info": {
   "codemirror_mode": {
    "name": "ipython",
    "version": 3
   },
   "file_extension": ".py",
   "mimetype": "text/x-python",
   "name": "python",
   "nbconvert_exporter": "python",
   "pygments_lexer": "ipython3",
   "version": "3.10.8"
  }
 },
 "nbformat": 4,
 "nbformat_minor": 2
}
