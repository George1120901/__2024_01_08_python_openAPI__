{
 "cells": [
  {
   "cell_type": "markdown",
   "metadata": {},
   "source": [
    "### **下載 Youtube 影片 ( mp4、mp3、字幕 )**  \n",
    "https://steam.oxxostudio.tw/category/python/example/youtube-download.html  \n",
    "\n",
    "如果有出現「pytube.exceptions.AgeRestrictedError:XXXXXXXXX is age restricted, and can't be accessed without logging in.」的錯誤情況，這可能是 pytube 的 bug 造成，參考「stackoverflow」的解決方法，在開頭加上下面這段程式碼就能解決。  \n",
    "\n",
    "        from pytube.innertube import _default_clients  \n",
    "        _default_clients[\"ANDROID_MUSIC\"] = _default_clients[\"ANDROID_CREATOR\"]"
   ]
  },
  {
   "cell_type": "code",
   "execution_count": null,
   "metadata": {},
   "outputs": [],
   "source": [
    "# 透過宣告 yt 時的參數 on_progress_callback，可以回傳目前下載影片的進度 ( 可顯示下載進度 )。\n",
    "\n",
    "import ssl\n",
    "ssl._create_default_https_context = ssl._create_stdlib_context\n",
    "\n",
    "from pytube import YouTube\n",
    "\n",
    "def onProgress(stream, chunk, remains):\n",
    "    total = stream.filesize                     # 取得完整尺寸\n",
    "    percent = (total-remains) / total * 100     # 減去剩餘尺寸 ( 剩餘尺寸會抓取存取的檔案大小 )\n",
    "    print(f'下載中… {percent:05.2f}', end='\\r')  # 顯示進度，\\r 表示不換行，在同一行更新\n",
    "\n",
    "print('download...')\n",
    "yt = YouTube('https://www.youtube.com/watch?v=R93ce4FZGbc', on_progress_callback=onProgress)\n",
    "yt.streams.filter().get_highest_resolution().download(filename='oxxostudio.mp4')\n",
    "# on_progress_callback 參數等於 onProgress 函式\n",
    "print()\n",
    "print('ok!')"
   ]
  },
  {
   "cell_type": "markdown",
   "metadata": {},
   "source": [
    "## **API** \n",
    "### **YouTube Object**  \n",
    "https://pytube.io/en/latest/api.html?highlight=timeout#youtube-object  \n",
    "\n",
    "classpytube.YouTube(url: str, on_progress_callback: Optional[Callable[[Any, bytes, int], None]] = None, on_complete_callback: Optional[Callable[[Any, Optional[str]], None]] = None, proxies: Dict[str, str] = None, use_oauth: bool = False, allow_oauth_cache: bool = True)"
   ]
  }
 ],
 "metadata": {
  "kernelspec": {
   "display_name": "yt.venv",
   "language": "python",
   "name": "python3"
  },
  "language_info": {
   "name": "python",
   "version": "3.10.8"
  }
 },
 "nbformat": 4,
 "nbformat_minor": 2
}
