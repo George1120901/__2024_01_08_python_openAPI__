{
 "cells": [
  {
   "cell_type": "markdown",
   "metadata": {},
   "source": [
    "### 利用程式進行讀/寫檔案的處理\n",
    "https://medium.com/ccclub/ccclub-python-for-beginners-tutorial-bf0648108581\n",
    "\n",
    "pass\n"
   ]
  },
  {
   "cell_type": "markdown",
   "metadata": {},
   "source": [
    "f = open(檔名, mode)\n",
    "\n",
    "### 檔案物件 file object\n",
    "此時變數 f 被 assign 的是一個 file object\n",
    "\n",
    "A file object allows us to use, access and manipulate all the user accessible files. One can read and write any such files.\n",
    "(文件物件允許我們使用、存取和操作所有使用者可存取的文件。人們可以讀取和寫入任何此類文件。)"
   ]
  },
  {
   "cell_type": "markdown",
   "metadata": {},
   "source": [
    "### 開啟檔案 open()\n",
    "open(file, mode='模式')\n",
    "參數 : 檔案名稱 & 模式(mode)\n",
    "一、檔名所要填入的是檔案路徑，指的是相對路徑，也就是相對於你的程式執行的位置而言，你的檔案在什麼地方。\n",
    "    如果在同一個資料夾當中執行，可以直接寫檔案的名稱，如 \"test.txt\" 。\n",
    "\n",
    "二、mode 代表的是你開啟檔案的模式，Python 提供了數種開啟檔案的模式，包含僅供讀取、可以覆寫檔案等等。\n",
    "    以下將對於其中三種稍作簡介:\n",
    "    1.“r” 唯讀模式：mode = “r” 開啟檔案時，只能從指定的檔案讀取資料，並不能夠對這個檔案的內容進行更動。\n",
    "       與此同時，如果所指定的檔案不存在，將會產生 FileNotFoundError 的例外。\n",
    "    2.“w” 寫入模式（覆寫）：如以 mode = “w” 開啟檔案時，意即要來進行檔案的寫入，會在開啟的位置直接覆蓋掉原本的檔案。\n",
    "      如果所指定的檔案路徑/名稱不存在，會新增一個新的檔案。\n",
    "    3.“a” 寫入模式（續寫）：如以 mode =  “a”開啟檔案時，是指在此模式下開啟檔案要進行寫入時，會從原本的檔案最後繼續進行寫入。"
   ]
  },
  {
   "cell_type": "markdown",
   "metadata": {},
   "source": [
    "### 關閉檔案 close()\n",
    "f.close()\n",
    "當在程式當中開啟了檔案以後，如果要停止對於這個檔案的更動或寫入，可以將檔案關閉。\n",
    "當要開啟其他檔案時，當然可以直接再開啟然後取代掉目前的 file object，但是記得在使用時關閉檔案依然是一個好習慣。"
   ]
  },
  {
   "cell_type": "markdown",
   "metadata": {},
   "source": [
    "========================\n",
    "## 讀取檔案"
   ]
  },
  {
   "cell_type": "markdown",
   "metadata": {},
   "source": [
    " ### 讀取檔案-1\n",
    " 成功開啟檔案以後，下一個要做的就是將檔案當中的資料讀取進來\n",
    "\n",
    " #### f.read() 函式\n",
    " file.read([size])\n",
    " -- 括號當中的參數 size 是 optional 的，當設置了 size 的值，電腦就會自動讀到指定的字節數量，若沒有設置就會將整個檔案都讀取進來。"
   ]
  },
  {
   "cell_type": "code",
   "execution_count": 6,
   "metadata": {},
   "outputs": [
    {
     "name": "stdout",
     "output_type": "stream",
     "text": [
      "I love Python!\n",
      "Get the filename, directory, extension from a path string in Python now!!\n",
      "I love\n"
     ]
    }
   ],
   "source": [
    "import os\n",
    "os.chdir('c:/youtube')\n",
    "f = open('file_io.txt')\n",
    "words = f.read()\n",
    "print(words)\n",
    "\n",
    "f = open('file_io.txt')\n",
    "word = f.read(6)\n",
    "print(word)\n",
    "f.close()"
   ]
  },
  {
   "cell_type": "markdown",
   "metadata": {},
   "source": [
    "### 讀取檔案-2\n",
    "#### file.readline()\n",
    "這個函式將讀取檔案中的整行資料，但是一次只讀取一行，包含 \\n 字元，如果檔案當中包含了 N 行的資料，我們就必須呼叫 f.readline() N 次。"
   ]
  },
  {
   "cell_type": "code",
   "execution_count": 8,
   "metadata": {},
   "outputs": [
    {
     "name": "stdout",
     "output_type": "stream",
     "text": [
      "line1 ==> I love Python!\n",
      "\n",
      "line2 ==> Get the filename, directory, extension from a path string in Python now!!\n"
     ]
    }
   ],
   "source": [
    "import os\n",
    "os.chdir('c:/youtube')\n",
    "f = open('file_io.txt')\n",
    "word_line1 = f.readline()\n",
    "word_line2 = f.readline()\n",
    "print(f'line1 ==> {word_line1}',f'line2 ==> {word_line2}',sep = '\\n')\n",
    "# print(word_line1,word_line2,sep = '\\n')\n",
    "f.close()"
   ]
  },
  {
   "cell_type": "markdown",
   "metadata": {},
   "source": [
    "### 讀取檔案-3\n",
    "#### file.readlines()\n",
    "逐行讀取，提供一次讀取所有資料的方法\n",
    "\n",
    "f.readlines() 會將檔案當中的所有資料都逐行讀取進來，然後會將其回傳成為一個 list ，我們嘗試執行以下的程式碼，將檔案使用 f.readlines() 讀取進來以後，用變數 k 接住，然後將其印出以便查看："
   ]
  },
  {
   "cell_type": "code",
   "execution_count": 10,
   "metadata": {},
   "outputs": [
    {
     "name": "stdout",
     "output_type": "stream",
     "text": [
      "['I love Python!\\n', 'Get the filename, directory, extension from a path string in Python now!!']\n"
     ]
    }
   ],
   "source": [
    "import os\n",
    "os.chdir('c:/youtube')\n",
    "f = open('file_io.txt')\n",
    "word_list = f.readlines()\n",
    "print(word_list)\n",
    "f.close()"
   ]
  },
  {
   "cell_type": "markdown",
   "metadata": {},
   "source": [
    "#### file.readlines()\n",
    "f.readlines() 會將檔案當中每一行當作是一個字串，然後存進串列當中回傳。因此 for loop經常與 f.readlines() 搭配使用，方法如下：\n",
    "\n",
    "執行結果如下，由於當 f.readlines() 將每一行的文字讀取進來時，會連換行符號的 \\n 一起讀進來，因此，在使用 print() 將其印出時，會有原本字串當中的 \\n 以及 print() 本身預設的 end 字元 \\n ，所以中間會出現空行："
   ]
  },
  {
   "cell_type": "code",
   "execution_count": 14,
   "metadata": {},
   "outputs": [
    {
     "name": "stdout",
     "output_type": "stream",
     "text": [
      "I love Python!\n",
      "\n",
      "Get the filename, directory, extension from a path string in Python now!!\n"
     ]
    }
   ],
   "source": [
    "import os\n",
    "os.chdir('c:/youtube')\n",
    "f = open('file_io.txt')\n",
    "\n",
    "for line in f.readlines():\n",
    "    print(line)\n",
    "f.close()"
   ]
  },
  {
   "cell_type": "markdown",
   "metadata": {},
   "source": [
    "除此之外， Python 可在不使用 f.readlines() 的情況下，我們可以直接利用 for loop 對於我們的 file object f 來 iterate，方法如下："
   ]
  },
  {
   "cell_type": "code",
   "execution_count": 17,
   "metadata": {},
   "outputs": [
    {
     "name": "stdout",
     "output_type": "stream",
     "text": [
      "<_io.TextIOWrapper name='file_io.txt' mode='r' encoding='cp950'>\n"
     ]
    }
   ],
   "source": [
    "import os\n",
    "os.chdir('c:/youtube')\n",
    "f = open('file_io.txt')\n",
    "print(f)\n",
    "for line in f:\n",
    "    print(line)\n",
    "f.close()"
   ]
  },
  {
   "cell_type": "markdown",
   "metadata": {},
   "source": [
    "========================\n",
    "## 寫入檔案\n",
    "將資料寫入檔案。與讀取相同，Python 同樣也提供了幾種不同的輸出方式："
   ]
  },
  {
   "cell_type": "markdown",
   "metadata": {},
   "source": [
    "### 寫入檔案 -1\n",
    "#### file.write()\n",
    "其概念相對於 f.read() ，參數的資料型態是字串 string"
   ]
  },
  {
   "cell_type": "code",
   "execution_count": 23,
   "metadata": {},
   "outputs": [
    {
     "name": "stdout",
     "output_type": "stream",
     "text": [
      "Try to use file_io_1.txt \n",
      "\n",
      "Write some contents \n",
      "\n",
      "Line1 \n",
      "\n",
      "line2\n"
     ]
    }
   ],
   "source": [
    "import os\n",
    "os.chdir('c:\\youtube')\n",
    "f = open('file_io_1.txt','w')\n",
    "f.write('Try to use file_io_1.txt \\nWrite some contents \\nLine1 \\nline2')\n",
    "\n",
    "f = open('file_io_1.txt','r')\n",
    "contents = f.readlines()\n",
    "for content in contents:\n",
    "    print(content)\n",
    "\n",
    "f.close()\n"
   ]
  },
  {
   "cell_type": "markdown",
   "metadata": {},
   "source": [
    "### 寫入檔案 -\n",
    "#### file.writelines()\n",
    "如不想要每輸出一段東西就使用一次 f.write() ，Python 也提供了另一個概念和 f.readlines() 相對的函式：\n",
    "f.writelines() 用法如下：\n",
    "##### file.writelines(seq)\n",
    "參數 seq 指的是 f.writelines() 的參數必須是一個序列，也就是 list 或是 tuple 這類的資料型態。\n",
    "而 f.writelines() 就會將 sequence 中的內容印出，舉例來說，假如要輸出和上面相同的檔案，可以的寫法如下："
   ]
  },
  {
   "cell_type": "code",
   "execution_count": 24,
   "metadata": {},
   "outputs": [
    {
     "name": "stdout",
     "output_type": "stream",
     "text": [
      "Try to use file_io_2.txt \n",
      "\n",
      "Write some contents \n",
      "\n",
      "Line1 \n",
      "\n",
      "line2\n"
     ]
    }
   ],
   "source": [
    "import os\n",
    "os.chdir('c:\\youtube')\n",
    "f = open('file_io_2.txt','w')\n",
    "sequence= ['Try to use file_io_2.txt \\n','Write some contents \\n','Line1 \\n','line2']\n",
    "f.writelines(sequence)\n",
    "\n",
    "f = open('file_io_2.txt','r')\n",
    "contents = f.readlines()\n",
    "for content in contents:\n",
    "    print(content)\n",
    "\n",
    "f.close()"
   ]
  },
  {
   "cell_type": "markdown",
   "metadata": {},
   "source": [
    "由此可見，雖然 f.writelines() 會將所給的參數 sequence 當中的內容一個一個印出，卻不會像 print() 一樣預設在輸出後面附上換行 \\n ，因此，必須在要換行的字串後，再自行加上 \\n 。"
   ]
  },
  {
   "cell_type": "markdown",
   "metadata": {},
   "source": [
    "========================\n",
    "## print()\n",
    "Python 也提供了我們利用熟悉的 print()，就可以完成輸出到檔案的方法。\n",
    "當我們今天想要將任何東西輸出時，都會直接使用 print() ，然後頂多更改參數 sep 或是 end 。\n",
    "然而，除了這兩個參數以外，還有第三個參數 file 。\n",
    "\n",
    "舉例來說，今天有一個 list 叫做 web_list ，內容如下：\n",
    "['https://www.web_01.com/home','https://www.web_02.com/home','https://www.web_03.com/home','https://www.web_04.com/home','https://www.web_05.com/home','https://www.web_06.com/home']"
   ]
  },
  {
   "cell_type": "code",
   "execution_count": 25,
   "metadata": {},
   "outputs": [
    {
     "name": "stdout",
     "output_type": "stream",
     "text": [
      "['https://www.web_01.com/home', 'https://www.web_02.com/home', 'https://www.web_03.com/home', 'https://www.web_04.com/home', 'https://www.web_05.com/home', 'https://www.web_06.com/home']\n"
     ]
    }
   ],
   "source": [
    "# 當我們對這個 list 直接使用 print 時，會得到如下的結果：\n",
    "web_list = ['https://www.web_01.com/home','https://www.web_02.com/home','https://www.web_03.com/home','https://www.web_04.com/home','https://www.web_05.com/home','https://www.web_06.com/home']\n",
    "print(web_list)"
   ]
  },
  {
   "cell_type": "code",
   "execution_count": 30,
   "metadata": {},
   "outputs": [
    {
     "name": "stdout",
     "output_type": "stream",
     "text": [
      "=========\n",
      "['https://www.web_01.com/home', 'https://www.web_02.com/home', 'https://www.web_03.com/home', 'https://www.web_04.com/home', 'https://www.web_05.com/home', 'https://www.web_06.com/home']\n",
      "\n"
     ]
    }
   ],
   "source": [
    "#然而，當我們設定了 file 這個參數以後，將程式碼改成下方的樣子，就不一樣了：\n",
    "import os\n",
    "os.chdir('c:\\youtube')\n",
    "f = open('web_lists.txt','w')\n",
    "web_list = ['https://www.web_01.com/home','https://www.web_02.com/home','https://www.web_03.com/home','https://www.web_04.com/home','https://www.web_05.com/home','https://www.web_06.com/home']\n",
    "print(web_list,file = f)\n",
    "print('=========')\n",
    "\n",
    "f = open('web_lists.txt','r')\n",
    "contents = f.readlines()\n",
    "for content in contents:\n",
    "    print(content)\n",
    "\n",
    "f.close()"
   ]
  },
  {
   "cell_type": "markdown",
   "metadata": {},
   "source": [
    "## 在檔案中移動位置\n",
    "接著，如何更進一步的進行檔案的處理。當在進行檔案的讀取時，有時可能會想要將檔案從頭到尾讀取第二遍。\n",
    "\n",
    "直接的想法 : for loop\n",
    "??程式碼在第一個 for loop 跑完以後，下一個 for loop 再將檔案的內容在輸出一次??"
   ]
  },
  {
   "cell_type": "code",
   "execution_count": 31,
   "metadata": {},
   "outputs": [
    {
     "name": "stdout",
     "output_type": "stream",
     "text": [
      "==== 1st ====\n",
      "['https://www.web_01.com/home', 'https://www.web_02.com/home', 'https://www.web_03.com/home', 'https://www.web_04.com/home', 'https://www.web_05.com/home', 'https://www.web_06.com/home']\n",
      "\n",
      "==== 2nd =====\n",
      "['https://www.web_01.com/home', 'https://www.web_02.com/home', 'https://www.web_03.com/home', 'https://www.web_04.com/home', 'https://www.web_05.com/home', 'https://www.web_06.com/home']\n",
      "\n"
     ]
    }
   ],
   "source": [
    "import os\n",
    "os.chdir('c:\\youtube')\n",
    "f = open('web_lists.txt','w')\n",
    "web_list = ['https://www.web_01.com/home','https://www.web_02.com/home','https://www.web_03.com/home','https://www.web_04.com/home','https://www.web_05.com/home','https://www.web_06.com/home']\n",
    "print(web_list,file = f)\n",
    "\n",
    "f = open('web_lists.txt','r')\n",
    "contents = f.readlines()\n",
    "print('==== 1st ====')\n",
    "for content in contents:\n",
    "    print(content)\n",
    "\n",
    "print('==== 2nd =====') \n",
    "for content in contents:\n",
    "    print(content)\n",
    "\n",
    "f.close()"
   ]
  },
  {
   "cell_type": "code",
   "execution_count": 32,
   "metadata": {},
   "outputs": [
    {
     "name": "stdout",
     "output_type": "stream",
     "text": [
      "==== 1st ====\n",
      "['https://www.web_01.com/home', 'https://www.web_02.com/home', 'https://www.web_03.com/home', 'https://www.web_04.com/home', 'https://www.web_05.com/home', 'https://www.web_06.com/home']\n",
      "\n",
      "==== 2nd =====\n"
     ]
    }
   ],
   "source": [
    "import os\n",
    "os.chdir('c:\\youtube')\n",
    "f = open('web_lists.txt','w')\n",
    "web_list = ['https://www.web_01.com/home','https://www.web_02.com/home','https://www.web_03.com/home','https://www.web_04.com/home','https://www.web_05.com/home','https://www.web_06.com/home']\n",
    "print(web_list,file = f)\n",
    "\n",
    "f = open('web_lists.txt','r')\n",
    "# contents = f.readlines()\n",
    "print('==== 1st ====')\n",
    "for content in f:\n",
    "    print(content)\n",
    "\n",
    "print('==== 2nd =====') \n",
    "for content in f:\n",
    "    print(content)\n",
    "\n",
    "f.close()"
   ]
  },
  {
   "cell_type": "markdown",
   "metadata": {},
   "source": [
    "很顯然的，第二次的 for loop 完全沒有印出東西來。\n",
    "\n",
    "原因是這樣子的，當在讀取或是寫入檔案時，可以想像成電腦裡面有一個指標，類似於在使用 word 或是任何的文字編輯器時的指標，依照他的位置，知道接下來，如果要打字會出現在什麼地方。\n",
    "\n",
    "同樣的，當 file object 在處理檔案時也是一樣的概念。在上面的範例當中，第一個 for loop 結束以後，這個指針隨著讀取已經到了文件的最後面。因此，接下來想要再使用 for loop 來讀取的話，如果沒有將指針移到檔案最前面，就無法得到任何東西。\n",
    "因此，以下要介紹用來移動這個指針或是獲取現在指針位置的方法。"
   ]
  },
  {
   "cell_type": "markdown",
   "metadata": {},
   "source": [
    "### 在檔案中移動位置 -1\n",
    "### file.seek()\n",
    "第一個是 f.seek() ，顧名思義，就是在檔案當中尋找。不過這裡說的尋找指的並不是尋找某個字或是某個資料，而是尋找某個位置，\n",
    "用法如下 :\n",
    "file.seek()\n",
    "繼續使用上面的例子，此時，若我們想要將檔案的內容完整輸出兩次，只需要在兩個 for loop 之間加上一行 f.seek(0) 即可："
   ]
  },
  {
   "cell_type": "code",
   "execution_count": 33,
   "metadata": {},
   "outputs": [
    {
     "name": "stdout",
     "output_type": "stream",
     "text": [
      "==== 1st ====\n",
      "['https://www.web_01.com/home', 'https://www.web_02.com/home', 'https://www.web_03.com/home', 'https://www.web_04.com/home', 'https://www.web_05.com/home', 'https://www.web_06.com/home']\n",
      "\n",
      "==== 2nd =====\n",
      "['https://www.web_01.com/home', 'https://www.web_02.com/home', 'https://www.web_03.com/home', 'https://www.web_04.com/home', 'https://www.web_05.com/home', 'https://www.web_06.com/home']\n",
      "\n"
     ]
    }
   ],
   "source": [
    "# 也就是說，當想要移動這個指針的位置，只要使用 f.seek() 就可以將指針移到目標位置。\n",
    "\n",
    "import os\n",
    "os.chdir('c:\\youtube')\n",
    "f = open('web_lists.txt','w')\n",
    "web_list = ['https://www.web_01.com/home','https://www.web_02.com/home','https://www.web_03.com/home','https://www.web_04.com/home','https://www.web_05.com/home','https://www.web_06.com/home']\n",
    "print(web_list,file = f)\n",
    "\n",
    "f = open('web_lists.txt','r')\n",
    "# contents = f.readlines()\n",
    "print('==== 1st ====')\n",
    "for content in f:\n",
    "    print(content)\n",
    "\n",
    "print('==== 2nd =====') \n",
    "f.seek(0)     # 移動這個指針的位置到起始位置\n",
    "for content in f:\n",
    "    print(content)\n",
    "\n",
    "f.close()"
   ]
  },
  {
   "cell_type": "markdown",
   "metadata": {},
   "source": [
    "或者是:儲存在一個位置後，再重複呼叫"
   ]
  },
  {
   "cell_type": "code",
   "execution_count": 34,
   "metadata": {},
   "outputs": [
    {
     "name": "stdout",
     "output_type": "stream",
     "text": [
      "==== 1st ====\n",
      "['https://www.web_01.com/home', 'https://www.web_02.com/home', 'https://www.web_03.com/home', 'https://www.web_04.com/home', 'https://www.web_05.com/home', 'https://www.web_06.com/home']\n",
      "\n",
      "==== 2nd =====\n",
      "['https://www.web_01.com/home', 'https://www.web_02.com/home', 'https://www.web_03.com/home', 'https://www.web_04.com/home', 'https://www.web_05.com/home', 'https://www.web_06.com/home']\n",
      "\n"
     ]
    }
   ],
   "source": [
    "import os\n",
    "os.chdir('c:\\youtube')\n",
    "f = open('web_lists.txt','w')\n",
    "web_list = ['https://www.web_01.com/home','https://www.web_02.com/home','https://www.web_03.com/home','https://www.web_04.com/home','https://www.web_05.com/home','https://www.web_06.com/home']\n",
    "print(web_list,file = f)\n",
    "\n",
    "f = open('web_lists.txt','r')\n",
    "contents = f.readlines()\n",
    "print('==== 1st ====')\n",
    "for content in contents:\n",
    "    print(content)\n",
    "\n",
    "print('==== 2nd =====') \n",
    "for content in contents:\n",
    "    print(content)\n",
    "\n",
    "f.close()"
   ]
  },
  {
   "cell_type": "markdown",
   "metadata": {},
   "source": [
    "### 在檔案中移動位置 -1\n",
    "### file.tell()\n",
    "f.tell() 和 f.seek() 接近於相對的概念，所謂的 f.tell() ，顧名思義就是會回傳給你現在指標所在的位置。\n",
    "在讀取資料時使用的是 f.read() 時，可以很輕鬆地知道目前指針的位置在哪裡。\n",
    "然而，若要搭配 f.seek() 或是其他方法使用時，就需要知道目前確切的指針位置，與此同時也可以知道目前進行到檔案的什麼地方。"
   ]
  },
  {
   "cell_type": "code",
   "execution_count": 40,
   "metadata": {},
   "outputs": [
    {
     "name": "stdout",
     "output_type": "stream",
     "text": [
      "I\n",
      " love Python!\n",
      "\n",
      "16\n",
      "Get the filename, directory, extension from a path string in Python now!!\n"
     ]
    }
   ],
   "source": [
    "# 舉例來說，先使用了 f.read() ，又使用了 f.readline() 後，若想要知道接下來會從哪個位置開始。\n",
    "# 試寫程式碼如下：\n",
    "\n",
    "import os\n",
    "os.chdir('c:\\youtube')\n",
    "f = open('file_io.txt','r')\n",
    "print(f.read(1))\n",
    "print(f.readline())\n",
    "print(f.tell())\n",
    "print(f.read())\n",
    "f.close()"
   ]
  },
  {
   "cell_type": "markdown",
   "metadata": {},
   "source": [
    "由此可見，使用 f.tell() 可以得到目前指針所在的位置，是下一行的開頭也就是 I love Python!\\n 之後的位置 16。"
   ]
  }
 ],
 "metadata": {
  "kernelspec": {
   "display_name": "yt.venv",
   "language": "python",
   "name": "python3"
  },
  "language_info": {
   "codemirror_mode": {
    "name": "ipython",
    "version": 3
   },
   "file_extension": ".py",
   "mimetype": "text/x-python",
   "name": "python",
   "nbconvert_exporter": "python",
   "pygments_lexer": "ipython3",
   "version": "3.10.8"
  }
 },
 "nbformat": 4,
 "nbformat_minor": 2
}
