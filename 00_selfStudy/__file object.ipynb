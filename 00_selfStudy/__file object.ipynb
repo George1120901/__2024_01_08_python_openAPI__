{
 "cells": [
  {
   "cell_type": "markdown",
   "metadata": {},
   "source": [
    "### 利用程式進行讀/寫檔案的處理\n",
    "https://medium.com/ccclub/ccclub-python-for-beginners-tutorial-bf0648108581\n",
    "\n",
    "pass\n"
   ]
  },
  {
   "cell_type": "markdown",
   "metadata": {},
   "source": [
    "f = open(檔名, mode)\n",
    "\n",
    "### 檔案物件 file object\n",
    "此時變數 f 被 assign 的是一個 file object\n",
    "\n",
    "A file object allows us to use, access and manipulate all the user accessible files. One can read and write any such files.\n",
    "(文件物件允許我們使用、存取和操作所有使用者可存取的文件。人們可以讀取和寫入任何此類文件。)"
   ]
  },
  {
   "cell_type": "markdown",
   "metadata": {},
   "source": [
    "### 開啟檔案 open()\n",
    "open(file, mode='模式')\n",
    "參數 : 檔案名稱 & 模式(mode)\n",
    "一、檔名所要填入的是檔案路徑，指的是相對路徑，也就是相對於你的程式執行的位置而言，你的檔案在什麼地方。\n",
    "    如果在同一個資料夾當中執行，可以直接寫檔案的名稱，如 \"test.txt\" 。\n",
    "\n",
    "二、mode 代表的是你開啟檔案的模式，Python 提供了數種開啟檔案的模式，包含僅供讀取、可以覆寫檔案等等。\n",
    "    以下將對於其中三種稍作簡介:\n",
    "    1.“r” 唯讀模式：mode = “r” 開啟檔案時，只能從指定的檔案讀取資料，並不能夠對這個檔案的內容進行更動。\n",
    "       與此同時，如果所指定的檔案不存在，將會產生 FileNotFoundError 的例外。\n",
    "    2.“w” 寫入模式（覆寫）：如以 mode = “w” 開啟檔案時，意即要來進行檔案的寫入，會在開啟的位置直接覆蓋掉原本的檔案。\n",
    "      如果所指定的檔案路徑/名稱不存在，會新增一個新的檔案。\n",
    "    3.“a” 寫入模式（續寫）：如以 mode =  “a”開啟檔案時，是指在此模式下開啟檔案要進行寫入時，會從原本的檔案最後繼續進行寫入。"
   ]
  },
  {
   "cell_type": "markdown",
   "metadata": {},
   "source": [
    "### 關閉檔案 close()\n",
    "f.close()\n",
    "當在程式當中開啟了檔案以後，如果要停止對於這個檔案的更動或寫入，可以將檔案關閉。\n",
    "當要開啟其他檔案時，當然可以直接再開啟然後取代掉目前的 file object，但是記得在使用時關閉檔案依然是一個好習慣。"
   ]
  },
  {
   "cell_type": "markdown",
   "metadata": {},
   "source": [
    " ### 讀取檔案-1\n",
    " 成功開啟檔案以後，下一個要做的就是將檔案當中的資料讀取進來\n",
    "\n",
    " #### f.read() 函式\n",
    " file.read([size])\n",
    " -- 括號當中的參數 size 是 optional 的，當設置了 size 的值，電腦就會自動讀到指定的字節數量，若沒有設置就會將整個檔案都讀取進來。"
   ]
  },
  {
   "cell_type": "code",
   "execution_count": 6,
   "metadata": {},
   "outputs": [
    {
     "name": "stdout",
     "output_type": "stream",
     "text": [
      "I love Python!\n",
      "Get the filename, directory, extension from a path string in Python now!!\n",
      "I love\n"
     ]
    }
   ],
   "source": [
    "import os\n",
    "os.chdir('c:/youtube')\n",
    "f = open('file_io.txt')\n",
    "words = f.read()\n",
    "print(words)\n",
    "\n",
    "f = open('file_io.txt')\n",
    "word = f.read(6)\n",
    "print(word)\n",
    "f.close()"
   ]
  },
  {
   "cell_type": "markdown",
   "metadata": {},
   "source": [
    "###"
   ]
  }
 ],
 "metadata": {
  "kernelspec": {
   "display_name": "yt.venv",
   "language": "python",
   "name": "python3"
  },
  "language_info": {
   "codemirror_mode": {
    "name": "ipython",
    "version": 3
   },
   "file_extension": ".py",
   "mimetype": "text/x-python",
   "name": "python",
   "nbconvert_exporter": "python",
   "pygments_lexer": "ipython3",
   "version": "3.10.8"
  }
 },
 "nbformat": 4,
 "nbformat_minor": 2
}
