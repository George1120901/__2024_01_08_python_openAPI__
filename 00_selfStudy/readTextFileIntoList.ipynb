{
 "cells": [
  {
   "cell_type": "markdown",
   "metadata": {},
   "source": [
    "### **Python: Read Text File into List**\n",
    "[參考網址](https://careerkarma.com/blog/python-read-text-file-into-list/)\n",
    "\n",
    "* Storing data in files lets you keep a record of the data with which a program is working. This means you don’t have to generate data over again when working with a program. You just read that data from a file.\n",
    "\n",
    "* To read files, use the `readlines()` method. Once you’ve read a file, you use `split()` to turn those lines into a list."
   ]
  },
  {
   "cell_type": "markdown",
   "metadata": {},
   "source": [
    " **grilled_cheese.txt**\n",
    "\n",
    "2 tbsp, ricotta  \n",
    "1 tbsp, grated parmesan  \n",
    "50g, mozzarella  \n",
    "25g, gorgonzola  \n",
    "2, thick slices white bread  \n",
    "1 tbsp, butter  "
   ]
  },
  {
   "cell_type": "markdown",
   "metadata": {},
   "source": [
    "#### **Python: Read Text File into List**  \n",
    "We read this file into our code using the `open()` and `readlines()` methods:  \n",
    "* In our code, we open a file called “grilled_cheese.txt” in read mode. Read mode is denoted by the “r” character in our `open()` statement. Next, we print those lines to the console.\n",
    "* Let’s see what our Python code returns:  \n",
    "  `['2 tbsp, ricotta\\n', '1 tbsp, grated parmesan\\n', '50g, mozzarella\\n', '25g, gorgonzola\\n', '2, thick slices white bread\\n', '1 tbsp, butter\\n']`\n",
    "\n",
    "#### **Divide Values into a List**\n",
    "To solve this problem, we use the `split()` method. This method lets us divide a string using a separator character we specify.\n",
    "* To start, we declare two lists: quantities and ingredients. This code will remain indented because it is part of our `open()` block of code.  \n",
    "    ```python\n",
    "\t\tquantities = []  \n",
    "\t\tingredients = []  \n",
    "\t```\n",
    "* We’ll iterate over our list so we can access each line of text from our file. Then we’ll split each line into two parts. The dividing point is the comma followed by a space on each line:  \n",
    "    ```python\n",
    "\t    for l in lines:  \n",
    "\t\t  as_list = l.split(\", \")  \n",
    "\t\t  quantities.append(as_list[0])  \n",
    "\t\t  ingredients.append(as_list[1])  \n",
    "\t```\n",
    "* The for loop lets us read our file line by line. The first value in “`as_list`” is the quantity of an ingredient. The second value is the name of the ingredient  \n",
    "* There is still one improvement that we need to make. Every ingredient ends in the “`\\n`” character. This character denotes a new line. We can remove this character by using the `replace()` method"
   ]
  },
  {
   "cell_type": "code",
   "execution_count": 2,
   "metadata": {},
   "outputs": [
    {
     "name": "stdout",
     "output_type": "stream",
     "text": [
      "['2 tbsp, ricotta  \\n', '1 tbsp, grated parmesan  \\n', '50g, mozzarella  \\n', '25g, gorgonzola  \\n', '2, thick slices white bread  \\n', '1 tbsp, butter']\n",
      "['2 tbsp', '1 tbsp', '50g', '25g', '2', '1 tbsp']\n",
      "['ricotta  ', 'grated parmesan  ', 'mozzarella  ', 'gorgonzola  ', 'thick slices white bread  ', 'butter']\n"
     ]
    }
   ],
   "source": [
    "with open(\"./files/grilled_cheese.txt\", \"r\") as grilled_cheese:\n",
    "\t   lines = grilled_cheese.readlines()\n",
    "grilled_cheese.close()    #記得 close()\n",
    "print(lines)\n",
    "\n",
    "quantities = []\n",
    "ingredients = []\n",
    "\n",
    "for l in lines:\n",
    "            as_list = l.split(\", \")\n",
    "            quantities.append(as_list[0])\n",
    "            ingredients.append(as_list[1].replace(\"\\n\", \"\"))\n",
    "\n",
    "print(quantities)\n",
    "print(ingredients)"
   ]
  }
 ],
 "metadata": {
  "kernelspec": {
   "display_name": "yt.venv",
   "language": "python",
   "name": "python3"
  },
  "language_info": {
   "codemirror_mode": {
    "name": "ipython",
    "version": 3
   },
   "file_extension": ".py",
   "mimetype": "text/x-python",
   "name": "python",
   "nbconvert_exporter": "python",
   "pygments_lexer": "ipython3",
   "version": "3.10.8"
  }
 },
 "nbformat": 4,
 "nbformat_minor": 2
}
