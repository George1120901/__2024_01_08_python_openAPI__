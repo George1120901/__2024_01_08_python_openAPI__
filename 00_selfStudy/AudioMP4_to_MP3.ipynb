{
 "cells": [
  {
   "cell_type": "markdown",
   "metadata": {},
   "source": [
    "====================================================================\n",
    "++++++++++++++++++++++++++++++++++++++++++++++++++++++++++++++++++++\n",
    "### 使用FFmpeg將音頻MP4轉換為MP3?之討論"
   ]
  },
  {
   "cell_type": "markdown",
   "metadata": {},
   "source": [
    "#### 透過chatGPT -1\n",
    "##### Question :使用FFmpeg將音頻MP4轉換為MP3?\n",
    "##### Answer:\n",
    "要處理在執行下載過程中遇到長時間無法完成的情況，可以使用 signal 模組來設定超時處理。在超時發生時，會拋出一個自定義的例外，從而中斷下載過程並打印錯誤訊息。以下是示範程式碼：\n",
    "要使用 FFmpeg 將音頻從 MP4 轉換為 MP3，您可以使用以下命令：\n",
    "\n",
    ">>>ffmpeg -i input.mp4 -vn -acodec libmp3lame -q:a 2 output.mp3\n",
    "\n",
    "這裡是這個命令的詳細說明：\n",
    "1. ffmpeg: 調用 FFmpeg 工具。\n",
    "2. -i input.mp4: 指定輸入文件 input.mp4。\n",
    "3. -vn: 禁用視頻，因為我們只需要音頻部分。\n",
    "4. -acodec libmp3lame: 指定 MP3 編碼器。libmp3lame 是一個高質量的 MP3 編碼器。\n",
    "5. -q:a 2: 設置音頻質量。q:a 選項允許設置 VBR（可變比特率）的質量級別，數字 2 表示非常高的質量（範圍從 0 到 9，0 為最佳）。\n",
    "6. output.mp3: 指定輸出文件 output.mp3。\n",
    "\n",
    "您可以將此命令用於命令行中，也可以在 Python 程序中通過 subprocess 模組調用它。這裡有一個示例 Python 程序，演示如何使用 subprocess 來運行 FFmpeg 命令："
   ]
  },
  {
   "cell_type": "code",
   "execution_count": null,
   "metadata": {},
   "outputs": [],
   "source": [
    "import subprocess\n",
    "\n",
    "def convert_mp4_to_mp3(input_file, output_file):\n",
    "    command = [\n",
    "        'ffmpeg',\n",
    "        '-i', input_file,\n",
    "        '-vn',\n",
    "        '-acodec', 'libmp3lame',\n",
    "        '-q:a', '2',\n",
    "        output_file\n",
    "    ]\n",
    "    \n",
    "    try:\n",
    "        result = subprocess.run(command, check=True, stdout=subprocess.PIPE, stderr=subprocess.PIPE, text=True)\n",
    "        print(f\"Conversion successful! MP3 file is located at: {output_file}\")\n",
    "    except subprocess.CalledProcessError as e:\n",
    "        print(\"An error occurred during conversion:\", e)\n",
    "        if e.stderr:\n",
    "            print(\"FFmpeg error output:\", e.stderr)\n",
    "        else:\n",
    "            print(\"Could not retrieve FFmpeg error output.\")\n",
    "\n",
    "# Example usage\n",
    "convert_mp4_to_mp3(\"input.mp4\", \"output.mp3\")\n"
   ]
  },
  {
   "cell_type": "markdown",
   "metadata": {},
   "source": [
    "這個程序調用 convert_mp4_to_mp3 函數，將 input.mp4 轉換為 output.mp3。如果轉換成功，它會打印成功消息；如果發生錯誤，則會打印錯誤消息和 FFmpeg 的錯誤輸出。"
   ]
  },
  {
   "cell_type": "markdown",
   "metadata": {},
   "source": [
    "#### 透過chatGPT -2\n",
    "##### Question : 當abr=128kbps 時，-q:a 要設置為何?\n",
    "##### Answer:\n",
    "在FFmpeg中，-q:a 和 -b:a 是用來設定音頻質量和比特率的參數。這兩者通常不會同時使用。-q:a（質量）用來控制VBR（可變比特率）的音質，數值範圍從0到9，數值越小音質越好。而 -b:a 用來設定CBR（固定比特率）的音頻比特率。\n",
    "\n",
    "如果你想要設定音頻比特率為128kbps，應該使用 -b:a 而不是 -q:a。\n",
    "\n",
    "以下是使用 -b:a 的正確方式"
   ]
  },
  {
   "cell_type": "code",
   "execution_count": null,
   "metadata": {},
   "outputs": [],
   "source": [
    "def convert_mp4_to_mp3(input_file, output_file):\n",
    "    command = [\n",
    "        'ffmpeg',\n",
    "        '-i', input_file,\n",
    "        '-vn',\n",
    "        '-acodec', 'libmp3lame',\n",
    "        '-b:a', '128k',\n",
    "        output_file\n",
    "    ]\n",
    "    try:\n",
    "        result = subprocess.run(command, check=True, stdout=subprocess.PIPE, stderr=subprocess.PIPE, text=True)\n",
    "        print(\"轉換成功！輸出文件位於:\", output_file)\n",
    "    except subprocess.CalledProcessError as e:\n",
    "        print(\"ffmpeg轉換過程中發生錯誤:\", e)\n",
    "        if e.stderr:\n",
    "            print(\"ffmpeg命令輸出:\", e.stderr)\n",
    "        else:\n",
    "            print(\"無法獲取 ffmpeg 錯誤輸出。\")\n",
    "\n",
    "# 範例使用\n",
    "convert_mp4_to_mp3(\"input.mp4\", \"output.mp3\")\n"
   ]
  },
  {
   "cell_type": "markdown",
   "metadata": {},
   "source": [
    "這樣可以確保音頻的比特率是128kbps。如果你還是想要使用 -q:a 來設定音質的話，你需要注意，-q:a 和比特率之間沒有一個簡單的直接對應，通常需要實驗和經驗來找出適合你的設置。對應 -q:a 設置的比特率值大致如下：\n",
    "\n",
    "-q:a 0 大約是 320 kbps\n",
    "-q:a 1 大約是 256 kbps\n",
    "-q:a 2 大約是 192 kbps\n",
    "-q:a 3 大約是 160 kbps\n",
    "-q:a 4 大約是 128 kbps\n",
    "-q:a 5 大約是 96 kbps\n",
    "所以如果你希望音質接近128kbps，可以設定 -q:a 4。但請注意這只是近似值。"
   ]
  },
  {
   "cell_type": "code",
   "execution_count": null,
   "metadata": {},
   "outputs": [],
   "source": [
    "def convert_mp4_to_mp3(input_file, output_file):\n",
    "    command = [\n",
    "        'ffmpeg',\n",
    "        '-i', input_file,\n",
    "        '-vn',\n",
    "        '-acodec', 'libmp3lame',\n",
    "        '-q:a', '4',\n",
    "        output_file\n",
    "    ]\n",
    "    try:\n",
    "        result = subprocess.run(command, check=True, stdout=subprocess.PIPE, stderr=subprocess.PIPE, text=True)\n",
    "        print(\"轉換成功！輸出文件位於:\", output_file)\n",
    "    except subprocess.CalledProcessError as e:\n",
    "        print(\"ffmpeg轉換過程中發生錯誤:\", e)\n",
    "        if e.stderr:\n",
    "            print(\"ffmpeg命令輸出:\", e.stderr)\n",
    "        else:\n",
    "            print(\"無法獲取 ffmpeg 錯誤輸出。\")\n",
    "\n",
    "# 範例使用\n",
    "convert_mp4_to_mp3(\"input.mp4\", \"output.mp3\")\n"
   ]
  },
  {
   "cell_type": "markdown",
   "metadata": {},
   "source": [
    "       ~~~ End ~~~\n",
    "+++++++++++++++++++++++++++++\n",
    "============================="
   ]
  },
  {
   "cell_type": "code",
   "execution_count": 1,
   "metadata": {},
   "outputs": [
    {
     "name": "stdout",
     "output_type": "stream",
     "text": [
      "轉換成功！輸出文件位於: C:/Users/Lu/Documents/youtube/yt_audio_ Best Classical Music.mp3\n"
     ]
    }
   ],
   "source": [
    "# mp4 --> mp3 轉換確認\n",
    "\n",
    "import subprocess\n",
    "\n",
    "def convert_mp4_to_mp3(input_file, output_file):\n",
    "    command = [\n",
    "        'ffmpeg',\n",
    "        '-i', input_file,\n",
    "        '-vn',\n",
    "        '-acodec', 'libmp3lame',\n",
    "        '-q:a', '3',\n",
    "        output_file\n",
    "    ]\n",
    "    # -q:a 3 大約是 160 kbps\n",
    "    try:\n",
    "        result = subprocess.run(command, check=True, stdout=subprocess.PIPE, stderr=subprocess.PIPE, text=True)\n",
    "        print(\"轉換成功！輸出文件位於:\", output_file)\n",
    "    except subprocess.CalledProcessError as e:\n",
    "        print(\"ffmpeg轉換過程中發生錯誤:\", e)\n",
    "        if e.stderr:\n",
    "            print(\"ffmpeg命令輸出:\", e.stderr)\n",
    "        else:\n",
    "            print(\"無法獲取 ffmpeg 錯誤輸出。\")\n",
    "\n",
    "# 範例使用\n",
    "# convert_mp4_to_mp3(\"input.mp4\", \"output.mp3\")\n",
    "convert_mp4_to_mp3(f'C:/Users/Lu/Documents/youtube/yt_audio_ Best Classical Music.mp4', f'C:/Users/Lu/Documents/youtube/yt_audio_ Best Classical Music.mp3')\n",
    "# media 長度 03:34:26 mp4容量大小203,343KB mp3容量大小225,418KB 處理耗時4m 10.1s"
   ]
  },
  {
   "cell_type": "code",
   "execution_count": 2,
   "metadata": {},
   "outputs": [
    {
     "name": "stdout",
     "output_type": "stream",
     "text": [
      "轉換成功！輸出文件位於: C:/Users/Lu/Documents/youtube/yt_audio_世界名曲（小步舞曲_小夜曲_圓舞曲）_2.mp3\n"
     ]
    }
   ],
   "source": [
    "# mp4 --> mp3 轉換\n",
    "\n",
    "import subprocess\n",
    "\n",
    "def convert_mp4_to_mp3(input_file, output_file):\n",
    "    command = [\n",
    "        'ffmpeg',\n",
    "        '-i', input_file,\n",
    "        '-vn',\n",
    "        '-acodec', 'libmp3lame',\n",
    "        '-q:a', '2',\n",
    "        output_file\n",
    "    ]\n",
    "    # -q:a 3 大約是 160 kbps\n",
    "    try:\n",
    "        result = subprocess.run(command, check=True, stdout=subprocess.PIPE, stderr=subprocess.PIPE, text=True,encoding= 'utf-8')  # 設定encoding='utf-8'\n",
    "        print(\"轉換成功！輸出文件位於:\", output_file)\n",
    "    except subprocess.CalledProcessError as e:\n",
    "        print(\"ffmpeg轉換過程中發生錯誤:\", e)\n",
    "        if e.stderr:\n",
    "            print(\"ffmpeg命令輸出:\", e.stderr)\n",
    "        else:\n",
    "            print(\"無法獲取 ffmpeg 錯誤輸出。\")\n",
    "\n",
    "# 範例使用\n",
    "# convert_mp4_to_mp3(\"input.mp4\", \"output.mp3\")\n",
    "input_path = str('C:/Users/Lu/Documents/youtube/')\n",
    "input_audio = str('yt_audio_世界名曲（小步舞曲_小夜曲_圓舞曲）')\n",
    "#convert_mp4_to_mp3(f'C:/Users/Lu/Documents/youtube/yt_audio_ Best Classical Music.mp4', f'C:/Users/Lu/Documents/youtube/yt_audio_ Best Classical Music.mp3')\n",
    "\n",
    "convert_mp4_to_mp3(f'{input_path+input_audio}.mp4', f'{input_path+input_audio}.mp3')\n",
    "\n",
    "# media 長度 00:55:28 mp4容量大小52,611KB \n",
    "# mp3容量大小65,704KB(位元速率161kbps) 處理耗時0m (50.x)s at '-q:a', '3',\n",
    "# mp3容量大小71,167KB(位元速率175kbps) 處理耗時0m 50.7s at '-q:a', '2',\n",
    "# mp3容量大小81,562KB(位元速率200kbps) 處理耗時0m 51.7s at '-q:a', '1',"
   ]
  },
  {
   "cell_type": "code",
   "execution_count": 4,
   "metadata": {},
   "outputs": [
    {
     "ename": "FileNotFoundError",
     "evalue": "[Errno 2] No such file or directory: 'C:/Users/Lu/Documents/youtube/yt_audio_世界名曲（小步舞曲_小夜曲_圓舞曲）.mp3'",
     "output_type": "error",
     "traceback": [
      "\u001b[1;31m---------------------------------------------------------------------------\u001b[0m",
      "\u001b[1;31mFileNotFoundError\u001b[0m                         Traceback (most recent call last)",
      "Cell \u001b[1;32mIn[4], line 5\u001b[0m\n\u001b[0;32m      1\u001b[0m input_path \u001b[38;5;241m=\u001b[39m \u001b[38;5;28mstr\u001b[39m(\u001b[38;5;124m'\u001b[39m\u001b[38;5;124mC:/Users/Lu/Documents/youtube/\u001b[39m\u001b[38;5;124m'\u001b[39m)\n\u001b[0;32m      3\u001b[0m input_audio \u001b[38;5;241m=\u001b[39m \u001b[38;5;28mstr\u001b[39m(\u001b[38;5;124m'\u001b[39m\u001b[38;5;124myt_audio_世界名曲（小步舞曲_小夜曲_圓舞曲）\u001b[39m\u001b[38;5;124m'\u001b[39m)\n\u001b[1;32m----> 5\u001b[0m f\u001b[38;5;241m=\u001b[39m\u001b[38;5;28;43mopen\u001b[39;49m\u001b[43m(\u001b[49m\u001b[38;5;124;43mf\u001b[39;49m\u001b[38;5;124;43m'\u001b[39;49m\u001b[38;5;132;43;01m{\u001b[39;49;00m\u001b[43minput_path\u001b[49m\u001b[38;5;241;43m+\u001b[39;49m\u001b[43minput_audio\u001b[49m\u001b[38;5;132;43;01m}\u001b[39;49;00m\u001b[38;5;124;43m.mp3\u001b[39;49m\u001b[38;5;124;43m'\u001b[39;49m\u001b[43m,\u001b[49m\u001b[43m \u001b[49m\u001b[38;5;124;43m'\u001b[39;49m\u001b[38;5;124;43mr\u001b[39;49m\u001b[38;5;124;43m'\u001b[39;49m\u001b[43m,\u001b[49m\u001b[43mencoding\u001b[49m\u001b[38;5;241;43m=\u001b[39;49m\u001b[43m \u001b[49m\u001b[38;5;124;43m'\u001b[39;49m\u001b[38;5;124;43mutf-8\u001b[39;49m\u001b[38;5;124;43m'\u001b[39;49m\u001b[43m)\u001b[49m\n\u001b[0;32m      7\u001b[0m f\u001b[38;5;241m.\u001b[39mclose()\n",
      "File \u001b[1;32mc:\\Users\\Lu\\Documents\\GitHub\\__2024_01_08_python_openAPI__\\__youtube_download__\\yt.venv\\lib\\site-packages\\IPython\\core\\interactiveshell.py:310\u001b[0m, in \u001b[0;36m_modified_open\u001b[1;34m(file, *args, **kwargs)\u001b[0m\n\u001b[0;32m    303\u001b[0m \u001b[38;5;28;01mif\u001b[39;00m file \u001b[38;5;129;01min\u001b[39;00m {\u001b[38;5;241m0\u001b[39m, \u001b[38;5;241m1\u001b[39m, \u001b[38;5;241m2\u001b[39m}:\n\u001b[0;32m    304\u001b[0m     \u001b[38;5;28;01mraise\u001b[39;00m \u001b[38;5;167;01mValueError\u001b[39;00m(\n\u001b[0;32m    305\u001b[0m         \u001b[38;5;124mf\u001b[39m\u001b[38;5;124m\"\u001b[39m\u001b[38;5;124mIPython won\u001b[39m\u001b[38;5;124m'\u001b[39m\u001b[38;5;124mt let you open fd=\u001b[39m\u001b[38;5;132;01m{\u001b[39;00mfile\u001b[38;5;132;01m}\u001b[39;00m\u001b[38;5;124m by default \u001b[39m\u001b[38;5;124m\"\u001b[39m\n\u001b[0;32m    306\u001b[0m         \u001b[38;5;124m\"\u001b[39m\u001b[38;5;124mas it is likely to crash IPython. If you know what you are doing, \u001b[39m\u001b[38;5;124m\"\u001b[39m\n\u001b[0;32m    307\u001b[0m         \u001b[38;5;124m\"\u001b[39m\u001b[38;5;124myou can use builtins\u001b[39m\u001b[38;5;124m'\u001b[39m\u001b[38;5;124m open.\u001b[39m\u001b[38;5;124m\"\u001b[39m\n\u001b[0;32m    308\u001b[0m     )\n\u001b[1;32m--> 310\u001b[0m \u001b[38;5;28;01mreturn\u001b[39;00m io_open(file, \u001b[38;5;241m*\u001b[39margs, \u001b[38;5;241m*\u001b[39m\u001b[38;5;241m*\u001b[39mkwargs)\n",
      "\u001b[1;31mFileNotFoundError\u001b[0m: [Errno 2] No such file or directory: 'C:/Users/Lu/Documents/youtube/yt_audio_世界名曲（小步舞曲_小夜曲_圓舞曲）.mp3'"
     ]
    }
   ],
   "source": [
    "input_path = str('C:/Users/Lu/Documents/youtube/')\n",
    "\n",
    "input_audio = str('yt_audio_世界名曲（小步舞曲_小夜曲_圓舞曲）')\n",
    "\n",
    "f=open(f'{input_path+input_audio}.mp3', 'r',encoding= 'utf-8')\n",
    "\n",
    "f.close()"
   ]
  }
 ],
 "metadata": {
  "kernelspec": {
   "display_name": "yt.venv",
   "language": "python",
   "name": "python3"
  },
  "language_info": {
   "codemirror_mode": {
    "name": "ipython",
    "version": 3
   },
   "file_extension": ".py",
   "mimetype": "text/x-python",
   "name": "python",
   "nbconvert_exporter": "python",
   "pygments_lexer": "ipython3",
   "version": "3.10.8"
  }
 },
 "nbformat": 4,
 "nbformat_minor": 2
}
