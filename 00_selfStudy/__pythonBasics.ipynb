{
 "cells": [
  {
   "cell_type": "markdown",
   "metadata": {},
   "source": [
    "### Python\n",
    "#### Basics\n",
    "[參考網址](https://www3.ntu.edu.sg/home/ehchua/programming/webprogramming/Python1_Basics.html#re)www3.ntu.edu.sg  \n",
    "<文中前言建議>在學習Python/JavaScript/Perl/PHP等腳本語言之前，先學習傳統的通用程式語言（例如C/C++/Java），因為它們比具有許多奇特功能的傳統語言結構更少。??????  "
   ]
  },
  {
   "cell_type": "markdown",
   "metadata": {},
   "source": [
    "### **介紹**  \n",
    "Python 是由荷蘭人 吉多·範·羅森 (Guido van Rossum) 於 1991年左右創建的，Python是個開源專案。母站點是[www.python.org](www.python.org)。  \n",
    "\n",
    "#### **Python的主要特點是：**  \n",
    "* Python 是一種簡單直覺的語言， Python 腳本易於閱讀和理解。  \n",
    "* Python（像 Perl）具有表現力，一行Python程式碼可以完成傳統通用語言（例如C/C++/Java）中的多行程式碼。\n",
    "* Python 是免費且開源的，它是跨平台的，可以在 Windows、Linux/Unix 和 macOS 上運行。  \n",
    "* Python 非常適合快速應用程式開發(RAD - rapid application development)。與其他通用語言（例如 C/C++/Java）相比，使用 Python 編寫應用程式的時間要短得多。 Python 可用於編寫小型應用程式和快速原型，但它也可以很好地擴展以開發大型專案。  \n",
    "* Python 是一種動態類型的腳本語言。與大多數腳本語言（例如 Perl、JavaScript）一樣，Python 將相關聯類型為物件而不是變數。也就是說，變數可以被賦予任何類型的值，列表（陣列）可以包含不同類型的物件。  \n",
    "* Python 提供自動記憶體管理。您不需要在程式中分配和釋放記憶體。  \n",
    "* Python 提供進階資料類型，例如動態陣列(dynamic array)和字典(dictionary) （或關聯陣列）。  \n",
    "* Python 是物件導向的。  \n",
    "* Python 不是一種完全編譯的語言。它被編譯成內部字節碼，然後被解譯。因此，Python 的速度不如 C/C++ 等完全編譯語言。  \n",
    "* Python 附帶了大量的函式庫，包括圖形使用者介面 (GUI) 工具包、Web 程式庫、網路等。  \n",
    "\n",
    "**Python有3個版本：**  \n",
    "* Python 1：初始版本。  \n",
    "* Python 2：2000 年發布，具有許多新功能，例如垃圾收集器和對 Unicode 的支援。  \n",
    "* ython 3（Python 3000 或 py3k）：2008 年發布的重大升級。 Python 3 不向下相容 Python 2 。   \n",
    "\n",
    "**Python 2 還是 Python 3？**\n",
    "* 目前，Python並行支援 version 2 和version 3 的兩個版本，遺憾的是存在不相容的情況。  \n",
    "* 發生這種情況是因為當 Guido Van Rossum（Python 的創建者）決定對 Python 2 進行重大更改時，他發現新的變更將與現有程式碼不相容。他決定啟動一個名為 Python 3 的新版本，但繼續維護舊的 Python 2，而不會引入新功能。 * Python 3.0 於 2008 年發布，Python 2.7 於 2010 年發布。  \n",
    "\n",
    "**再次注意，PYTHON 2 和 PYTHON 3 不相容！您需要決定使用 Python 2 還是 Python 3。**   \n",
    "使用 Python 3 啟動新專案。僅使用 Python 2 來維護遺留專案。\n",
    "\n",
    "若要檢查 Python 的版本，請發出以下命令：  \n",
    "\n",
    "`$ Python --version`  \n",
    "\n",
    "**文件**\n",
    "Python 文件和語言在線上提供參考 @[https://docs.python.org](https://docs.python.org)。"
   ]
  },
  {
   "cell_type": "markdown",
   "metadata": {},
   "source": [
    "### **Python 基本語法**\n",
    "#### **行末尾的宣告**  \n",
    "Python 註解以井號 (#) 開頭，一直到目前行末尾 (EOL)。 Python 解釋器會忽略註釋，但它們對於為其他人（以及自己日後的）閱讀您的程式提供解釋和文件至關重要。自由地使用評論。\n",
    "\n",
    "Python 中沒有多行註解？ （C/C++/Java 透過 . 支援多行註解`/* ... */`。）\n",
    "\n",
    "#### **聲明**\n",
    "Python 語句由換行符號分隔。語句不能跨越行邊界，但下列情況除外：\n",
    "\n",
    "1. ()括號、方括號[]和大括號中的表達式{}可以跨越多行。\n",
    "2. 行尾的反斜線 ( \\ ) 表示繼續下一行。這是一條舊規則，不推薦，因為它容易出錯。  \n",
    "\n",
    "與 C/C++/C#/Java 不同，您無需在 Python 語句末尾放置分號 ( ; )。但您可以將多個語句放在一行上，並以分號 ( ; ) 分隔。例如，  \n",
    "\n",
    "```\n",
    "# One Python statement in one line, terminated by a newline.\n",
    "# There is no semicolon at the end of a statement.\n",
    ">>> x = 1     # Assign 1 to variable x\n",
    ">>> print(x)  # Print the value of the variable x\n",
    "1\n",
    ">>> x + 1\n",
    "2\n",
    ">>> y = x / 2\n",
    ">>> y\n",
    "0.5\n",
    "\n",
    "# You can place multiple statements in one line, separated by semicolon.\n",
    ">>> print(x); print(x+1); print(x+2)  # No ending semicolon\n",
    "1\n",
    "2\n",
    "3\n",
    "\n",
    "# An expression in brackets [] (i.e., list) can span multiple lines\n",
    ">>> x = [1,\n",
    "         22,\n",
    "         333]  # Re-assign a list denoted as [v1, v2, ...] to variable x\n",
    ">>> x\n",
    "[1, 22, 333]\n",
    "\n",
    "# An expression in braces {} (i.e., associative array) can also span multiple lines\n",
    ">>> x = {'name':'Peter',\n",
    "         'gender':'male',\n",
    "         'age':21\n",
    "        }   # Re-assign a dictionary denoted as {k1:v1, k2:v2,...} to variable x\n",
    ">>> x\n",
    "{'name': 'Peter', 'gender': 'male', 'age': 21}\n",
    "\n",
    "# An expression in parentheses () can also span multiple lines\n",
    "# You can break a long expression into several lines by enclosing it with parentheses ()\n",
    ">>> x =(1 +\n",
    "        2\n",
    "        + 3\n",
    "        -\n",
    "        4)\n",
    ">>> x\n",
    "2\n",
    "\n",
    "# You can break a long string into several lines with parentheses () too\n",
    ">>> s = ('testing '   # No commas\n",
    "         'hello, '\n",
    "         'world!')\n",
    ">>> s\n",
    "'testing hello, world!'\n",
    "```"
   ]
  },
  {
   "cell_type": "code",
   "execution_count": 1,
   "metadata": {},
   "outputs": [
    {
     "name": "stdout",
     "output_type": "stream",
     "text": [
      "1\n",
      "2\n"
     ]
    },
    {
     "data": {
      "text/plain": [
       "0.5"
      ]
     },
     "execution_count": 1,
     "metadata": {},
     "output_type": "execute_result"
    }
   ],
   "source": [
    "# 一行中包含一個 Python 語句，以換行符號結束。\n",
    "# 語句末尾沒有分號。\n",
    "x = 1         # 將 1 賦給變數 x\n",
    "print(x)      # 列印變數 x 的值\n",
    "\n",
    "print(x + 1)  # 列印變數 x + 1 的值\n",
    "\n",
    "y = x / 2     # 將 x / 2 賦給變數y\n",
    "y             # 列印變數 y 的值"
   ]
  },
  {
   "cell_type": "code",
   "execution_count": 2,
   "metadata": {},
   "outputs": [
    {
     "name": "stdout",
     "output_type": "stream",
     "text": [
      "1\n",
      "2\n",
      "3\n"
     ]
    }
   ],
   "source": [
    "# 您可以將多個語句放在一行中，並用分號分隔。\n",
    "x = 1         # 將 1 賦給變數 x\n",
    "print(x); print(x+1); print(x+2)  # 沒有結束分號"
   ]
  },
  {
   "cell_type": "code",
   "execution_count": 3,
   "metadata": {},
   "outputs": [
    {
     "name": "stdout",
     "output_type": "stream",
     "text": [
      "1\n"
     ]
    },
    {
     "data": {
      "text/plain": [
       "[1, 22, 333]"
      ]
     },
     "execution_count": 3,
     "metadata": {},
     "output_type": "execute_result"
    }
   ],
   "source": [
    "# 方括號 [] 中的表達式（即列表）可以跨越多行\n",
    "x = 1         # 將 1 賦給變數 x\n",
    "print(x)      # 列印變數 x 的值\n",
    "\n",
    "x = [1,\n",
    "    22,\n",
    "    333]  # 將表示為 [v1, v2, ...] 的清單重新指派給變數 x\n",
    "x"
   ]
  },
  {
   "cell_type": "code",
   "execution_count": 4,
   "metadata": {},
   "outputs": [
    {
     "name": "stdout",
     "output_type": "stream",
     "text": [
      "1\n"
     ]
    },
    {
     "data": {
      "text/plain": [
       "{'name': 'Peter', 'gender': 'male', 'age': 21}"
      ]
     },
     "execution_count": 4,
     "metadata": {},
     "output_type": "execute_result"
    }
   ],
   "source": [
    "# 大括號 {} 中的表達式（即關聯數組）也可以跨越多行\n",
    "x = 1         # 將 1 賦給變數 x\n",
    "print(x)      # 列印變數 x 的值\n",
    "\n",
    "x = {'name':'Peter',\n",
    "    'gender':'male',\n",
    "    'age':21\n",
    "    }   # 將表示為 {k1:v1, k2:v2,...} 的字典重新指派給變數 x\n",
    "x"
   ]
  },
  {
   "cell_type": "code",
   "execution_count": 5,
   "metadata": {},
   "outputs": [
    {
     "name": "stdout",
     "output_type": "stream",
     "text": [
      "1\n"
     ]
    },
    {
     "data": {
      "text/plain": [
       "2"
      ]
     },
     "execution_count": 5,
     "metadata": {},
     "output_type": "execute_result"
    }
   ],
   "source": [
    "# 括號 () 中的表達式也可以跨越多行\n",
    "# 您可以用括號 () 將長表達式分成幾行\n",
    "x = 1         # 將 1 賦給變數 x\n",
    "print(x)      # 列印變數 x 的值\n",
    "\n",
    "x =(1 +\n",
    "        2\n",
    "        + 3\n",
    "        -\n",
    "        4)\n",
    "x"
   ]
  },
  {
   "cell_type": "code",
   "execution_count": 6,
   "metadata": {},
   "outputs": [
    {
     "data": {
      "text/plain": [
       "'testing hello, world!'"
      ]
     },
     "execution_count": 6,
     "metadata": {},
     "output_type": "execute_result"
    }
   ],
   "source": [
    "# 您也可以使用括號 () 將長字串分成幾行\n",
    "s = ('testing '   # 沒有逗號\n",
    "    'hello, '\n",
    "    'world!')\n",
    "s"
   ]
  },
  {
   "cell_type": "markdown",
   "metadata": {},
   "source": [
    "#### **區塊、縮排和複合語句** (Block, Indentation and Compound Statements)  \n",
    "* **區塊是作為一個單元執行的一組語句**\n",
    "    * 與 C/C++/C#/Java 使用大括號{}對主體區塊中的語句進行分組不同，Python 對主體區塊使用縮排。\n",
    "    * 換句話說，縮排在 Python 中具有重要的語法意義 - 主體區塊必須正確縮排。這是一個很好的語法，可以強制您正確縮排塊以便於理解！\n",
    "\n",
    "* **複合語句：**\n",
    "    * 如條件語句 (if-else)、迴圈語句 (while, for) 和函數定義語句 (def)，\n",
    "    * 以標題行開頭，以冒號 ( : ) 結尾；接下來是縮排的正文區塊，如下所示：\n",
    "\n",
    "    ```\n",
    "    header_1 :           # 標頭以冒號結束\n",
    "        statement_1_1    # 主體區塊縮排（建議使用4個空格）\n",
    "        statement_1_2\n",
    "        .....\n",
    "    header_2 :\n",
    "        statement_2_1\n",
    "        statement_2_2\n",
    "        .....\n",
    "    ```\n",
    "\n",
    "    **# 可以將正文區塊放在同一行，用分號 (;) 分隔語句**  \n",
    "    **# 不建議這樣做**。  \n",
    "    ```\n",
    "    header_1: statement_1_1\n",
    "    header_2: statement_2_1; statement_2_2; ......\n",
    "    ```\n",
    "\n",
    "* **Python 沒有指定要使用多少縮排**，但、\n",
    "    * 相同的主體區塊(the SAME body block)的所有語句，必須從右邊距相同的距離開始。\n",
    "    * 可以使用空格或製表符進行縮進，但不能在同一正文區塊中混合使用它們。\n",
    "    * 建議每個縮排對準(level)使用 4 個空格。\n",
    "\n",
    "如果您來自 C/C++/C#/Java，則尾隨冒號 ( : ) 和正文縮排可能是 Python 中最奇怪的功能。  \n",
    "Python強加嚴格的縮排規則來迫使程式設計師編寫可讀的程式碼！"
   ]
  },
  {
   "cell_type": "code",
   "execution_count": 7,
   "metadata": {},
   "outputs": [
    {
     "name": "stdout",
     "output_type": "stream",
     "text": [
      "x is zero\n",
      "x is zero\n",
      "5050\n",
      "5050\n"
     ]
    }
   ],
   "source": [
    "# 使用例(For examples)\n",
    "\n",
    "# if-else\n",
    "x = 0\n",
    "if x == 0:\n",
    "    print('x is zero')\n",
    "else:\n",
    "    print('x is not zero')\n",
    "\n",
    "# or, in the same line  # 不建議\n",
    "if x == 0: print('x is zero')\n",
    "else: print('x is not zero')\n",
    "\n",
    "# while-loop sum from 1 to 100\n",
    "sum = 0\n",
    "number = 1\n",
    "while number <= 100:\n",
    "    sum += number\n",
    "    number += 1\n",
    "print(sum)\n",
    "\n",
    "# or, in the same line\n",
    "while number <= 100: sum += number; number += 1   # 不建議\n",
    "\n",
    "# Define the function sum_1_to_n()\n",
    "def sum_1_to_n(n):\n",
    "    \"\"\"Sum from 1 to the given n\"\"\"\n",
    "    sum = 0;            # Python 主體區塊縮排語句末尾放置分號 ( ; ),縮排時可不放置分號(建議)\n",
    "    i = 0;\n",
    "    while (i <= n):\n",
    "        sum += i\n",
    "        i += 1\n",
    "    return sum\n",
    "\n",
    "print(sum_1_to_n(100))  # 呼叫函數(Invoke function)"
   ]
  },
  {
   "cell_type": "code",
   "execution_count": 8,
   "metadata": {},
   "outputs": [
    {
     "name": "stdout",
     "output_type": "stream",
     "text": [
      "x is zero\n",
      "y is not zero\n",
      "while-loop縮排語句：sum =  5050\n",
      "while-loop同行語句：sum =  5050\n",
      "(5050, 100)\n",
      "1275 --> 1到50\n"
     ]
    }
   ],
   "source": [
    "# 使用例(For examples)+應用\n",
    "\n",
    "# if-else\n",
    "x = 0\n",
    "if x == 0:\n",
    "    print('x is zero')\n",
    "else:\n",
    "    print('x is not zero')\n",
    "\n",
    "# or, in the same line\n",
    "y = 1\n",
    "if y == 0: print('y is zero')\n",
    "else: print('y is not zero')\n",
    "\n",
    "# while-loop sum from 1 to 100\n",
    "sum = 0\n",
    "number = 1\n",
    "while number <= 100:\n",
    "    sum += number\n",
    "    number += 1\n",
    "print('while-loop縮排語句：sum = ',sum)\n",
    "\n",
    "# or, in the same line\n",
    "while number <= 100: sum += number; number += 1\n",
    "print('while-loop同行語句：sum = ',sum)\n",
    "\n",
    "# Define the function sum_1_to_n()\n",
    "def sum_1_to_n(n):   # Sum from 1 to the given n\n",
    "    sum = 0\n",
    "    i = 0\n",
    "    while i <= n:\n",
    "        sum += i\n",
    "        i += 1\n",
    "    return sum,n\n",
    "\n",
    "print(sum_1_to_n(100))  # 呼叫函數(Invoke function)\n",
    "print(f'{sum_1_to_n(50)[0]} --> 1到{sum_1_to_n(50)[1]}')"
   ]
  },
  {
   "cell_type": "markdown",
   "metadata": {},
   "source": [
    "[TODO]\n",
    "\n",
    "#### **變數、標識符和常數**(Variables, Identifiers and Constants)\n",
    "與所有程式語言一樣，變數是一個命名的儲存位置。變數有一個名稱（或識別符）並保存一個值。\n",
    "\n",
    "Python與大多數腳本解釋語言（例如 JavaScript/Perl）一樣，\n",
    "* Python 是動態類型的，在使用變數之前不需要先宣告它。\n",
    "* **變數是透過初始賦值創建的**。 \n",
    "* 與 C/C++/Java/C# 等傳統通用靜態類型語言不同，在使用變數之前需要先宣告變數的名稱和類型。\n",
    "\n",
    "例如，\n",
    "```\n",
    ">>> sum = 1            # 透過向其指派整數來建立一個名為 sum 的變數\n",
    ">>> sum\n",
    "1\n",
    "\n",
    ">>> type(sum)          # 檢查資料型\n",
    "<class 'int'>          # <類型'整數'>\n",
    "\n",
    ">>> Average = 1.23     # 建立一個名為average的變數，並指派一個浮點數給它\n",
    ">>> average\n",
    "1.23\n",
    "\n",
    ">>> Average = 4.5e-6   # 重新分配一個以科學計數法表示的浮點值\n",
    ">>> Average\n",
    "4.5E-06\n",
    "\n",
    ">>> type(average)      # 檢查資料類型\n",
    "<class 'int'>          # <類型'浮點值'>\n",
    "\n",
    ">>> average = 78       # 重新分配一個整數值\n",
    ">>> average\n",
    "78\n",
    "\n",
    ">>> type(average)      # 檢查資料類型\n",
    "<class 'int'>          # 更改為整數 <類型'整數'>\n",
    "\n",
    ">>> msg = 'Hello'      # 建立一個名為 msg 的變數，並分配一個字串來給它\n",
    ">>> msg\n",
    "'Hello'\n",
    "\n",
    ">>> type(msg)          # 檢查資料類型\n",
    "<class 'str'>          # <類型'字串'>\n",
    "```\n",
    "\n",
    "![說明](./figure/Python_variable.png)變數有一個名稱,並保存一個類型的值\n",
    "如前所述，Python 是動態類型的。 Python 將類型與物件關聯，而不是與變數關聯，即變數可以保存任何類型的對象，如上面的範例所示。"
   ]
  },
  {
   "cell_type": "code",
   "execution_count": 9,
   "metadata": {},
   "outputs": [
    {
     "name": "stdout",
     "output_type": "stream",
     "text": [
      "1\n"
     ]
    },
    {
     "data": {
      "text/plain": [
       "int"
      ]
     },
     "execution_count": 9,
     "metadata": {},
     "output_type": "execute_result"
    }
   ],
   "source": [
    "sum = 1           # Create a variable called sum by assigning an integer into it\n",
    "print(sum)\n",
    "type(sum)         # Check the data type"
   ]
  },
  {
   "cell_type": "code",
   "execution_count": 10,
   "metadata": {},
   "outputs": [
    {
     "name": "stdout",
     "output_type": "stream",
     "text": [
      "1.23\n"
     ]
    },
    {
     "data": {
      "text/plain": [
       "float"
      ]
     },
     "execution_count": 10,
     "metadata": {},
     "output_type": "execute_result"
    }
   ],
   "source": [
    "average = 1.23    # Create a variable called average by assigning a floating-point number into it\n",
    "print(average)\n",
    "type(average)"
   ]
  },
  {
   "cell_type": "code",
   "execution_count": 11,
   "metadata": {},
   "outputs": [
    {
     "name": "stdout",
     "output_type": "stream",
     "text": [
      "4.5e-06\n"
     ]
    },
    {
     "data": {
      "text/plain": [
       "float"
      ]
     },
     "execution_count": 11,
     "metadata": {},
     "output_type": "execute_result"
    }
   ],
   "source": [
    "average = 4.5e-6  # Re-assign a floating-point value in scientific notation\n",
    "print(average)\n",
    "type(average)"
   ]
  },
  {
   "cell_type": "code",
   "execution_count": 12,
   "metadata": {},
   "outputs": [
    {
     "name": "stdout",
     "output_type": "stream",
     "text": [
      "78\n"
     ]
    },
    {
     "data": {
      "text/plain": [
       "int"
      ]
     },
     "execution_count": 12,
     "metadata": {},
     "output_type": "execute_result"
    }
   ],
   "source": [
    "average = 78      # Re-assign an integer value\n",
    "print(average)\n",
    "type(average)"
   ]
  },
  {
   "cell_type": "code",
   "execution_count": 13,
   "metadata": {},
   "outputs": [
    {
     "name": "stdout",
     "output_type": "stream",
     "text": [
      "Hello\n"
     ]
    },
    {
     "data": {
      "text/plain": [
       "str"
      ]
     },
     "execution_count": 13,
     "metadata": {},
     "output_type": "execute_result"
    }
   ],
   "source": [
    "msg = 'Hello'     # Create a variable called msg by assigning a string into it\n",
    "print(msg)\n",
    "type(msg)"
   ]
  },
  {
   "cell_type": "markdown",
   "metadata": {},
   "source": [
    "#### **識別符（名稱）規則**  - Rules of Identifier (Names)\n",
    "* 標識符以**字母 ( A-Z, a-z) 或底線 ( _ ) 開頭**。\n",
    "* 後面跟著零個或多個字母、底線和數字 ( 0-9 )。 \n",
    "* Python 不允許使用特殊字符，例如$和@。\n",
    "\n",
    "依慣例，以下劃線 ( _ ) 開頭的變數是私有變數。"
   ]
  },
  {
   "cell_type": "markdown",
   "metadata": {},
   "source": [
    "#### **關鍵字** - Keywords\n",
    "Python 3 有 35 個保留字（或關鍵字），不能用作識別符。\n",
    "\n",
    "* True, False, None（布林值和特殊文字）\n",
    "* import, as,from\n",
    "* if, elif, else, for, in, while, break, continue, pass, with(流量控制)\n",
    "* def，return，lambda，global，nonlocal（功能-function）\n",
    "* class\n",
    "* and, or, not, is, del（運算符）\n",
    "* try, except, finally, raise, assert（錯誤處理）\n",
    "* await, async, yield"
   ]
  },
  {
   "cell_type": "code",
   "execution_count": 14,
   "metadata": {},
   "outputs": [
    {
     "ename": "SyntaxError",
     "evalue": "cannot assign to True (2081776972.py, line 1)",
     "output_type": "error",
     "traceback": [
      "\u001b[1;36m  Cell \u001b[1;32mIn[14], line 1\u001b[1;36m\u001b[0m\n\u001b[1;33m    True = 1\u001b[0m\n\u001b[1;37m    ^\u001b[0m\n\u001b[1;31mSyntaxError\u001b[0m\u001b[1;31m:\u001b[0m cannot assign to True\n"
     ]
    }
   ],
   "source": [
    "True = 1\n",
    "True"
   ]
  },
  {
   "cell_type": "markdown",
   "metadata": {},
   "source": [
    "#### **Variable Naming Convention** - 變數命名慣例\n",
    "變數名是名詞，或是由幾個單字組成的名詞片語。有兩個慣例：  \n",
    "* 使用小寫單字，如果可以提高可讀性，可以選擇使用底線連接，例如，num_students, x_max, myvar,isvalid等。\n",
    "* 在所謂的**駝峰式命名法**中，**第一個單字小寫，其餘單字首字母大寫**，例如 , numStudents, xMax, yMin, xTopLeft, isValidInput,及thisIsValidInput和thisIsAVeryVeryLongVariableName。  \n",
    "駝峰式命名法(Camel-case) 是 Java 的命名慣例；而小寫字母加下劃線是C/C++的慣例。"
   ]
  },
  {
   "cell_type": "markdown",
   "metadata": {},
   "source": [
    "#### **Recommendations** - 建議\n",
    "* 選擇一個具有自我描述性並密切反映變數含義的名稱很重要。例如，使用numStudents(而不是用n或x) 來儲存學生人數。使用縮寫是可以的，例如以idx代替index(索引)。\n",
    "* 請勿使用無意義的名稱，例如a、b、c、i、j、k、n、i1、i2、i3、j99、exercise85（此exercise(練習)的目的是什麼？）和example12（此example(範例)是關於什麼的？）。\n",
    "* 避免使用單字母名稱，例如i, j, k, a, b, c，這些名稱更容易輸入，但通常毫無意義。例外的是常見名稱，例如x, y,z代表座標，i代表index(索引)。長名稱很難輸入，但可以自行記錄您的程式。 （建議花點時間練習打字）\n",
    "* 謹慎使用單數和複數名詞來區分單數和複數變數。例如，使用變數row來引用單一行號，並使用變數rows來引用許多行（例如行列表 - 稍後討論）"
   ]
  },
  {
   "cell_type": "markdown",
   "metadata": {},
   "source": [
    "#### **常數** - Constants\n",
    "Python 不支援常數，因此其內容無法修改。 \n",
    "\n",
    "**C/C++ 透過關鍵字const支援常數，Java 透過關鍵字final支援常數。**\n",
    "\n",
    "習慣上用**大寫字母命名變數並加上下劃線**，例如，MAX_ROWS, SCREEN_X_MAX，以表示**不應在程式中修改**它。儘管如此，在 Python 中是可被修改的"
   ]
  },
  {
   "cell_type": "markdown",
   "metadata": {},
   "source": [
    " #### **資料類型：數字、字串和列表** - Data Types: Number, String and List  \n",
    "Python 支援各種數字類型，例如 int（整數，例如123, -456），float（浮點數，例如3.1416, 1.2e3, -4.5E-6）和bool（布林值，True 或 False）。  \n",
    "\n",
    "Python 支援文字字串（字元序列）。在Python 中，字串可以用單引號或雙引號分隔，例如，'hello'、\"world\"、''或\"\"（空字串）。\n",
    "\n",
    "Python 支援稱為 list 的動態矩陣結構，表示如 lst = [v1, v2, ..., vn] 。您可以引用第 i 個元素、如為 lst[i]。 Python的list與C/C++/Java的陣列(array)類似，但它不是固定大小的，並且可以在運行時動態擴展。\n",
    "\n",
    "在後面的部分詳細描述這些資料類型。"
   ]
  },
  {
   "cell_type": "markdown",
   "metadata": {},
   "source": [
    "#### **控制台輸入/輸出：input()和print()內建功能** - Console Input/Output: input() and print() Built-in Functions  \n",
    "您可以使用內建函數input()從鍵盤讀取輸入（成為**字串**）並由print()輸出列印到控制台。例如，\n",
    "\n",
    "```\n",
    ">>> x = input('Enter a number: ')    # 輸入數字:\n",
    "輸入數字: 5     #  從鍵盤(from the keyboard)\n",
    ">>> x \n",
    "'5'           # 帶引號的字串\n",
    "\n",
    ">>> type(x)   # 檢查資料類型\n",
    "<class 'str'> \n",
    "\n",
    ">>> print(x) \n",
    "5 \n",
    "\n",
    "# 將輸入從 'str' 輸入轉換為 'int' \n",
    ">>> x = int (input('Enter a number:') )  # 輸入整數: \n",
    "輸入一個整數: 5      #  從鍵盤(from the keyboard)\n",
    ">>> x \n",
    "5             # int \n",
    ">>> type(x)   # 檢查資料型別\n",
    "<class 'int'> \n",
    ">>> print(x) \n",
    "5\n",
    "```"
   ]
  },
  {
   "cell_type": "code",
   "execution_count": 2,
   "metadata": {},
   "outputs": [
    {
     "name": "stdout",
     "output_type": "stream",
     "text": [
      "Enter a number : 55\n",
      "the type of input_number is : <class 'str'>\n",
      "Enter a number : 55\n",
      "the type of input_number becomes : <class 'int'>\n"
     ]
    }
   ],
   "source": [
    "input_number = input('Enter a number :')\n",
    "print('Enter a number :',input_number)\n",
    "print('the type of input_number is :',type(input_number))\n",
    "\n",
    "input_number_to_int = int(input_number)\n",
    "print('Enter a number :',input_number_to_int)\n",
    "print('the type of input_number becomes :',type(input_number_to_int))\n"
   ]
  },
  {
   "cell_type": "markdown",
   "metadata": {},
   "source": [
    "#### **`print()`**\n",
    "內建函數`print()`具有以下格式：\n",
    "\n",
    "`print(*objects , sep=' ', end='\\n', file=sys.stdout,lush=False)`\n",
    "\n",
    "* 將物件列印到文字流檔案（預設標準輸出sys.stdout）。\n",
    "* 以sep （預設空格）分隔，後面跟著end（預設換行符 \\n）。\n",
    "\n",
    "For examples,\n",
    "```\n",
    ">>> print('apple')  # 單一項目\n",
    "apple\n",
    ">>> print('apple', 'orange')  # 多個項目，以逗號分隔\n",
    "apple orange\n",
    ">>> print('apple', 'orange', 'banana')\n",
    "apple orange banana\n",
    "```"
   ]
  },
  {
   "cell_type": "markdown",
   "metadata": {},
   "source": [
    "#### **`print()`的分隔符號(sep) 和結尾(end)** - `print()`'s separator (sep) and ending (end)\n",
    "可以使用可選的關鍵字參數 sep='x'來設定分隔符號字串（預設為空格' '）和 end='x'結束字串（預設為換行符\\n）。  \n",
    "例如，\n",
    "```\n",
    "# print() 帶預設換行符\n",
    ">>> for item in [1, 2, 3, 4]: \n",
    "        print(item)   # 預設為換行符\n",
    "1 \n",
    "2 \n",
    "3 \n",
    "4 \n",
    "\n",
    "# print() 不帶換行符\n",
    ">>> for item in [1, 2, 3, 4]: \n",
    "        print(item, end='')      # 抑制結束字串\n",
    "1234 \n",
    "\n",
    "# print() 帶有任意結束字串\n",
    ">>> for item in [1, 2, 3, 4 ]: \n",
    "       print(item,end結束='--')  # 以'--'結束\n",
    "1--2--3--4--\n",
    "```\n",
    "\n",
    "```\n",
    "# 測試項目之間的分隔符號\n",
    ">>> print('apple', 'orange', 'banana')  # 預設為空格\n",
    "apple orange banana\n",
    ">>> print('apple', 'orange', 'banana', sep=',')\n",
    "apple,orange,banana\n",
    ">>> print('apple', 'orange', 'banana', sep=':')\n",
    "apple:orange:banana\n",
    ">>> print('apple', 'orange', 'banana', sep='|')\n",
    "apple|orange|banana\n",
    ">>> print('apple', 'orange', 'banana', sep='\\n')  # 換行\n",
    "apple\n",
    "orange\n",
    "banana\n",
    "```"
   ]
  },
  {
   "cell_type": "code",
   "execution_count": 2,
   "metadata": {},
   "outputs": [
    {
     "name": "stdout",
     "output_type": "stream",
     "text": [
      "style1--> apple orange banana\n",
      "style2-->,apple,orange,banana\n",
      "style3-->:apple:orange:banana\n",
      "style4-->|apple|orange|banana\n",
      "style5--:\n",
      "apple\n",
      "orange\n",
      "banana\n"
     ]
    }
   ],
   "source": [
    "# 測試項目之間的分隔符號\n",
    "print('style1-->', 'apple', 'orange', 'banana')  # 預設為空格\n",
    "\n",
    "print('style2-->', 'apple', 'orange', 'banana', sep=',')\n",
    "\n",
    "print('style3-->', 'apple', 'orange', 'banana', sep=':')\n",
    "\n",
    "print('style4-->', 'apple', 'orange', 'banana', sep='|')\n",
    "\n",
    "print('style5--:', 'apple', 'orange', 'banana', sep='\\n')  # 換行\n"
   ]
  },
  {
   "cell_type": "markdown",
   "metadata": {},
   "source": [
    "#### **print 於Python 2 與 Python 3之差異** - print in Python 2 vs Python 3\n",
    "回想一下，Python 2 和 Python 3 不相容。\n",
    "* 在 Python 2 中，可以使用\"print item\"，不帶括號（因為print是 Python 2 中的關鍵字）。\n",
    "* 在 Python 3 中，需要括號，因為 Python 3print()是一個函數。  \n",
    "\n",
    "例如，\n",
    "\n",
    "```\n",
    "# Python 3 \n",
    ">>> print('hello')\n",
    "hello\n",
    ">>> print 'hello'\n",
    "  File \"<stdin>\", line 1\n",
    "    print 'hello'\n",
    "                ^\n",
    "SyntaxError: Missing parentheses in call to 'print'\n",
    ">>> print('aaa', 'bbb')\n",
    "aaa bbb\n",
    "   # 視為多個引數(arguments)，不含括號列印\n",
    "\n",
    "# Python 2 \n",
    ">>> print('Hello')\n",
    "Hello\n",
    ">>> print 'hello'\n",
    "hello\n",
    ">>> print('aaa', 'bbb')\n",
    "('aaa', 'bbb')\n",
    "   # 被視為（項目的）元組(tuple)。印出括號的元組\n",
    ">>> print 'aaa', 'bbb'\n",
    "aaa bbb\n",
    "   # 被視為多個引數(arguments)\n",
    "```\n",
    "\n",
    "重要提示：為了可移植性，建議始終使用括號的print()函數！"
   ]
  },
  {
   "cell_type": "markdown",
   "metadata": {},
   "source": [
    "### **資料類型和動態類型** - Data Types and Dynamic Typing\n",
    "Python 有大量內建資料類型，例如數字（整數、浮點、布林值、複數）、字串、串列(list 又稱列表) 、元組、集合、字典(Dictionary 又稱關聯矩陣)和檔案。外部模組支援更多高級資料類型，例如小數和分數。\n",
    "\n",
    "可以使用內建函數`type(varName)`來檢查變數或文字的類型。"
   ]
  },
  {
   "cell_type": "markdown",
   "metadata": {},
   "source": [
    "#### **數字類型** - Number Types\n",
    "Python 支援以下內建數字類型：  \n",
    "\n",
    "1. **整數**（類型 int） - Integers (type int)：例如123，-456。  \n",
    "    與 C/C++/Java 不同，Python 中的整數大小沒有限制。  \n",
    "    例如，\n",
    "    ```\n",
    "    >>> 123 + 456 - 789\n",
    "    -210\n",
    "    >>> 123456789012345678901234567890 + 1\n",
    "    123456789012345678901234567891\n",
    "    >>> 1234567890123456789012345678901234567890 + 1\n",
    "    1234567890123456789012345678901234567891\n",
    "    >>> 2 ** 888             # 2 的 888 次方\n",
    "    .....\n",
    "    >>> len(str(2 ** 888))   # 將整數轉換為字串並取得其長度\n",
    "    268                      # 2 的 888 次方有 268 位元\n",
    "    >>> type(123)            # 取得類型\n",
    "    <class 'int'>\n",
    "    >>> help(int)            # 顯示 int 類型的說明選單\n",
    "    ```\n",
    "    整數也可以使用字首(prefix 或稱前綴)0x（或0X）的十六進位表示；或帶有字首0o(或0O) 的八進制表示；及以二進位形式帶有字首0b（或0B）表示。例如，0x1abc、0X1ABC、0o1776、0b11000011。"
   ]
  },
  {
   "cell_type": "markdown",
   "metadata": {},
   "source": [
    "2. **浮點數**（類型 float） - Floating-point numbers：  \n",
    "    例如，1.0, -2.3, 3.4e5, -3.4E-5，有帶小數點和可選指數（用e或表示E）的浮點數。  \n",
    "    ```\n",
    "    >>> 1.23 * -4e5 \n",
    "    -492000.0 \n",
    "    >>> type(1.2)         # 取得類型\n",
    "    <class 'float'> \n",
    "    >>> import math       # 使用數學模組\n",
    "    >>> math.pi \n",
    "    3.141592653589793 \n",
    "    >>> import random     # 使用 random 模組模組\n",
    "    >>> random.random()   # 產生 [0, 1) \n",
    "    0.890839384187198中的隨機數\n",
    "    ```\n"
   ]
  },
  {
   "cell_type": "code",
   "execution_count": 2,
   "metadata": {},
   "outputs": [
    {
     "name": "stdout",
     "output_type": "stream",
     "text": [
      "3.141592653589793\n"
     ]
    },
    {
     "data": {
      "text/plain": [
       "0.7275462154057978"
      ]
     },
     "execution_count": 2,
     "metadata": {},
     "output_type": "execute_result"
    }
   ],
   "source": [
    "import math       # 使用數學模組\n",
    "import random     # 使用 random 模組模組\n",
    "\n",
    "print(math.pi) \n",
    "\n",
    "random.random()"
   ]
  },
  {
   "cell_type": "markdown",
   "metadata": {},
   "source": [
    "<參考>https://stackoverflow.com/questions/33359740/random-number-between-0-and-1  \n",
    "* <討論>Random number between 0 and 1? [duplicate]  \n",
    "* Question:  \n",
    "    I want a random number between 0 and 1, like 0.3452. I used random.randrange(0, 1) but it is always 0 for me. What should I do?  \n",
    "* solution:  ????\n",
    "    ```\n",
    "    import random\n",
    "    random.uniform(0, 1)\n",
    "    ```\n",
    "**[TODO]**  "
   ]
  },
  {
   "cell_type": "markdown",
   "metadata": {},
   "source": [
    "[延伸閱讀] https://docs.python.org/zh-tw/3.13/library/random.html  \n",
    "**random** --- 生成偽隨機數  \n",
    "幾乎所有 module 函式都相依於基本函式 `random()`，此函式在半開放範圍 0.0 <= X < 1.0 內均勻地生成一個隨機 float（浮點數）。  \n",
    "\n",
    "* `random.random()`  \n",
    "回傳範圍 0.0 <= X < 1.0 中的下一個隨機浮點數\n",
    "* `random.uniform(a, b)`  \n",
    "    - 回傳一個隨機浮點數 N，當 a <= b 時確保 N 為 a <= N <= b 、b < a 時確保 N 為 b <= N <= a。\n",
    "    - 終點值 b 可能包含在範圍內，也可能不包含在範圍內，取決於運算式 a + (b-a) * random() 中的浮點捨入。\n",
    "* `random.randrange(stop)`  \n",
    "* `random.randrange(start, stop[, step])`\n",
    "    - 傳回從 `range(start, stop, step)` 中隨機選擇的元素。\n",
    "    - 這大致相當於 `choice(range(start, stop, step))`，但支援任意大的範圍，並針對常見情況進行了最佳化。\n",
    "    - 不應使用關鍵字引數，因為它們可能會以意想不到的方式被直譯。例如 `randrange(start=100)` 會被直譯為 `randrange(0, 100, 1)`。\n",
    "* `random.randint(a, b)`\n",
    "    - 回傳一個隨機整數 N，使得 a <= N <= b。\n",
    "    - 為 randrange(a, b+1) 的別名。"
   ]
  },
  {
   "cell_type": "code",
   "execution_count": 3,
   "metadata": {},
   "outputs": [
    {
     "name": "stdout",
     "output_type": "stream",
     "text": [
      "[0.4571, 0.4017, 0.5489, 0.4451, 0.2036, 0.3455, 0.4565, 0.1163, 0.0126, 0.9854]\n"
     ]
    }
   ],
   "source": [
    "# random.uniform(0, 1)之應用\n",
    "import random\n",
    "\n",
    "random_list = []\n",
    "for i in range(10):\n",
    "    random_list.append(round(random.uniform(0, 1),4))\n",
    "\n",
    "print(random_list)"
   ]
  },
  {
   "cell_type": "markdown",
   "metadata": {},
   "source": [
    "3. **布林值**（類型 bool）- Booleans ：  \n",
    "    * 採用True或False的值。注意**首字母大寫**的拼法。\n",
    "\n",
    "        ```\n",
    "        >>> 8 == 8       # 比較\n",
    "        True \n",
    "        >>> 8 == 9 \n",
    "        False \n",
    "        >>> type(True)   # 取得類型\n",
    "        <class 'bool'> \n",
    "        >>> type (8 == 8) \n",
    "        <class 'bool'>\n",
    "        ```\n",
    "    * 在 Python 中，整數0為一個空值（例如空字串''、\"\"、空列表[]、空元組()、空字典{}）和None都被視為False；其他任何內容都被視為True。\n",
    "        ```\n",
    "        >>> bool(0)    # 將 int 0 轉換為 bool \n",
    "        False \n",
    "        >>> bool(1)    # 將 int 1 轉換為 bool \n",
    "        True \n",
    "        >>> bool('')   # 將空字串轉換為 bool \n",
    "        False \n",
    "        >>> bool('hello')   # 將非空字串轉換為 bool \n",
    "        True \n",
    "        >>> bool([])   # 將空列表轉換為 bool \n",
    "        False \n",
    "        >>> bool([1, 2, 3])   # 將非空列表轉換為bool \n",
    "        True\n",
    "        ```\n",
    "    * 布林值也可以在算術運算中充當整數、True為1和False為0 。例如，\n",
    "        ```\n",
    "        >>>True + 3 \n",
    "        4 \n",
    "        >>>False + 1 \n",
    "        1\n",
    "        ```\n"
   ]
  },
  {
   "cell_type": "code",
   "execution_count": 1,
   "metadata": {},
   "outputs": [
    {
     "data": {
      "text/plain": [
       "1"
      ]
     },
     "execution_count": 1,
     "metadata": {},
     "output_type": "execute_result"
    }
   ],
   "source": [
    "(8 >= 9) + 1"
   ]
  },
  {
   "cell_type": "markdown",
   "metadata": {},
   "source": [
    "4. **複數**（類型 complex） - Complex Numbers ：  \n",
    "  複數具有實數和字尾用j(或J)表示的虛數，例如，1+2j，-3-4j。  \n",
    "  \n",
    "    使用例：\n",
    "    ```\n",
    "    >>> x = 1 + 2j   # 設定變數 x 為一複數\n",
    "    >>> x            # 顯示 x\n",
    "    (1+2j)\n",
    "    >>> x.real       # 取得實數\n",
    "    1.0\n",
    "    >>> x.imag       # 取得虛數\n",
    "    2.0\n",
    "    >>> type(x)      # 取得類型<類別 'complex'>\n",
    "    <class 'complex'>\n",
    "    >>> x * (3 + 4j)   # 兩個複數相乘\n",
    "    (-5+10j)\n",
    "    ```"
   ]
  },
  {
   "cell_type": "code",
   "execution_count": 3,
   "metadata": {},
   "outputs": [
    {
     "name": "stdout",
     "output_type": "stream",
     "text": [
      "x的實數 =  1.0\n",
      "x的虛數 =  2.0\n",
      "<class 'complex'>\n"
     ]
    },
    {
     "data": {
      "text/plain": [
       "(-5+10j)"
      ]
     },
     "execution_count": 3,
     "metadata": {},
     "output_type": "execute_result"
    }
   ],
   "source": [
    "x = 1 + 2j\n",
    "print('x的實數 = ',x.real)\n",
    "print('x的虛數 = ',x.imag)\n",
    "print(type(x))\n",
    "x * (3 + 4j)"
   ]
  },
  {
   "cell_type": "markdown",
   "metadata": {},
   "source": [
    "[延伸閱讀](https://zh.wikipedia.org/zh-tw/虚数) **維基百科_虚数**  \n",
    "\n",
    "* 虛數是指可以寫作實數與虛數單位i乘積的複數，並定義其性質為$i^2$ =-1 (或 ${\\displaystyle i^{2}=-1}$)\n",
    "，以此定義，0可被視為同時是實數也是虛數（純虛數）的數值。\n",
    "    - •••\n",
    "    - $i^{-3} = i$  \n",
    "    - $i^{-2} = -1$  \n",
    "    - $i^{-1} = -i$  \n",
    "    - $i^0 = 1$  \n",
    "    - $i^1 = i$  \n",
    "    - $i^2 = -1$  \n",
    "    - $i^3 =- i$  \n",
    "    - •••\n",
    "\n",
    "* 17世紀著名數學家笛卡兒所著《幾何學》（法語：La Géométrie）一書中，命名其為nombre imaginaire（虛構的數），成為了虛數（imaginary number）一詞的由來。\n",
    "\n",
    "* 後來在歐拉和高斯的研究之後，發現虛數可對應平面上的縱軸，與對應平面上橫軸的實數同樣真實。虛數軸和實數軸構成的平面稱複數平面，複數平面上每一點對應著一個複數。\n",
    "    - ![複數平面](./figure/Complex_conjugate_picture_2.png)複數平面的圖示。虛數位於垂直座標軸之上"
   ]
  },
  {
   "cell_type": "markdown",
   "metadata": {},
   "source": [
    "[TODO](https://hackmd.io/@mrcoding/ryZE7k8cN)MarkDown語法大全  \n",
    "~~正常^上標^~~  \n",
    "~~正常~下標~~~\n",
    "\n",
    "\n",
    "[詳細參考](./markDown.ipynb)markDown.ipynb  \n",
    "[確認參考](https://blog.maxkit.com.tw/2020/02/markdown.html)如何在 Markdown 輸入數學公式及符號  \n",
    "(+含安裝extension : Markdown+Math)\n",
    "* 上標符號，符號 ^， ex: `$x^2$`，就是 $x^2$\n",
    "* 下標符號，符號：_，ex: `$x_2$`、就是 $x_2$，`$H_2O$`、就是$H_2O$\n",
    "* 組合符號，符號：{}，ex: `$x^{12}$`、就是 $x^{12}$，`$x_{12}$`、就是 $x_{12}$"
   ]
  },
  {
   "cell_type": "markdown",
   "metadata": {},
   "source": [
    "[詳細參考](./markDown.ipynb)markDown.ipynb  \n",
    "[參考來源](https://ithelp.ithome.com.tw/articles/10225442)使用 VS Code 來開發 Markdown  \n",
    "for 使用 VS Code 撰寫 Markdown 的小知識  \n",
    "* 推薦網站\n",
    "* 文件預覽介紹\n",
    "* 大綱預覽介紹\n",
    "* 外部資源安全性介紹\n",
    "* **Extension** - markdownlint、Markdown All in One、Markdown+Math、Markdown Preview Mermaid Support、Markdown Preview Enhanced、Markdown Emoji、Markdown Table Prettifier、.......etc.  "
   ]
  },
  {
   "cell_type": "markdown",
   "metadata": {},
   "source": [
    "5. **其他** - Others ： \n",
    "其他數字類型由**外部模組提供**，例如十進位定位數的十進位(decimal)模組、有理數的分數(fraction)模組。  \n",
    "\n",
    "```\n",
    "# 浮點數不精確\n",
    ">>> 0.1 * 3\n",
    "0.30000000000000004\n",
    "\n",
    "# Decimal 是精確的\n",
    ">>> import decimal   # 使用 decimal 模組\n",
    ">>> x = decimal.Decimal('0.1')   # 建構一個 Decimal 物件\n",
    ">>> x * 3     # 使用重載的 * 運算子進行乘法\n",
    "小數（'0.3'）\n",
    ">>> type(x)   # 取得類型\n",
    "<class 'decimal.Decimal'>\n",
    "```"
   ]
  },
  {
   "cell_type": "code",
   "execution_count": 1,
   "metadata": {},
   "outputs": [
    {
     "name": "stdout",
     "output_type": "stream",
     "text": [
      "0.30000000000000004\n",
      "0.3\n"
     ]
    },
    {
     "data": {
      "text/plain": [
       "decimal.Decimal"
      ]
     },
     "execution_count": 1,
     "metadata": {},
     "output_type": "execute_result"
    }
   ],
   "source": [
    "# floats are imprecise\n",
    "print(0.1 * 3)\n",
    "\n",
    "# Decimal are precise\n",
    "import decimal  # Using the decimal module\n",
    "x = decimal.Decimal('0.1')  # Construct a Decimal object\n",
    "print(x * 3)    # Multiply  with overloaded * operator -> Decimal('0.3')\n",
    "\n",
    "type(x)  # Get type"
   ]
  },
  {
   "cell_type": "markdown",
   "metadata": {},
   "source": [
    "#### **動態型別和賦值運算符** - Dynamic Typing and Assignment Operator\n",
    "回想一下，Python 是動態類型的（而不是像 C/C++/Java 那樣的靜態類型）。\n",
    "\n",
    "* **Python 將類型對物件作相關聯，而不是變數**。也就是說，變數沒有固定的類型，並可以被分配任何類型的物件。變數只是提供對物件的引用。\n",
    "* **在使用變數之前不需要先宣告變數**。在首次分配值時、會自動建立一個變數，同時將分配的物件連結到變數。\n",
    "\n",
    "您可以使用內建函數`type(var_name)`來取得變數引用的物件類型。  \n",
    "\n",
    "```\n",
    ">>> x = 1          # 指派一個 整數(int)值來建立變數 x \n",
    ">>> x              # 顯示 x\n",
    "1\n",
    ">>> type(x)        # 取得 x 的類型\n",
    "<class 'int'> \n",
    ">>> x = 1.0        # 將浮點數重新指派給 x \n",
    ">>> x\n",
    "1.0\n",
    ">>> type(x)        # 顯示類型\n",
    "<class 'float'> \n",
    ">>> x = 'hello'    # 將字串重新指派給 x \n",
    ">>> x             \n",
    "'hello'\n",
    ">>> type(x)        # 顯示類型\n",
    "<class 'str'> \n",
    ">>> x = '123'      # 將字串（數字）重新指派給 x \n",
    ">>> x\n",
    "‘123’\n",
    ">>> type(x)        # 顯示類型\n",
    "<class 'str'>\n",
    "```"
   ]
  },
  {
   "cell_type": "code",
   "execution_count": 1,
   "metadata": {},
   "outputs": [
    {
     "name": "stdout",
     "output_type": "stream",
     "text": [
      "1\n",
      "<class 'int'>\n",
      "1.0\n",
      "<class 'float'>\n",
      "hello\n",
      "<class 'str'>\n",
      "123\n",
      "<class 'str'>\n"
     ]
    }
   ],
   "source": [
    "x = 1         # Assign an int value to create variable x\n",
    "print(x)             # Display x\n",
    "print(type(x))       # Get the type of x -> <class 'int'>\n",
    "\n",
    "x = 1.0       # Re-assign a float to x\n",
    "print(x) \n",
    "print(type(x))       # Show the type -> <class 'float'>\n",
    "\n",
    "x = 'hello'   # Re-assign a string to x\n",
    "print(x) \n",
    "print(type(x))       # Show the type -> <class 'str'>\n",
    "\n",
    "x = '123'     # Re-assign a string (of digits) to x\n",
    "print(x) \n",
    "print(type(x))       # Show the type -> <class 'str'>"
   ]
  },
  {
   "cell_type": "markdown",
   "metadata": {},
   "source": [
    "#### **類型轉換**- Type Casting： int(x)、float(x)、str(x)\n",
    "可以透過內建函數`int(x)`、`float(x)`、`str(x)`、`bool(x)`等執行類型轉換（或類型強制轉換）。\n",
    "```\n",
    ">>> x = '123'      # 字串\n",
    ">>> type(x) \n",
    "<class 'str'> \n",
    "\n",
    ">>> x = int(x)     # 將字串(str)轉換為整數(int)，並賦值到 x \n",
    ">>> x \n",
    "123 \n",
    ">>> type(x) \n",
    "<class 'int'> \n",
    "\n",
    ">>> x = float(x)   # 將 x 從字串(str)轉換成浮點數(float)，並賦值到 x\n",
    ">>> x\n",
    "123.0 \n",
    "\n",
    ">>> x = str(x)     # 將 x 從浮點數(float)轉換為字串(str)，並賦值回 x \n",
    ">>> x \n",
    "'123.0' \n",
    ">>> type (x) \n",
    "<class 'str'> \n",
    "\n",
    ">>> len(x)        # 取得字串的長度\n",
    "5 \n",
    ">>> x = bool( x ) # 將 x 從字串(str)轉換成布林值(boolean)，並賦值到 x\n",
    ">>> x             # 非空字串轉換為 True\n",
    "True \n",
    " \n",
    ">>> x = str (x) # 將 x 從布林值(boolean)轉換為字串(str)\n",
    ">>> x \n",
    "'True'    \n",
    "```  \n",
    "\n",
    "總之，**變數與類型無關。換言之，類型是與物件相關聯。而變數提供對物件（某種類型）的引用**。"
   ]
  },
  {
   "cell_type": "code",
   "execution_count": 5,
   "metadata": {},
   "outputs": [
    {
     "name": "stdout",
     "output_type": "stream",
     "text": [
      "<class 'str'>\n",
      "123\n",
      "<class 'int'>\n",
      "123.0\n",
      "<class 'float'>\n",
      "123.0\n",
      "<class 'str'>\n",
      "5\n",
      "True\n",
      "<class 'bool'>\n",
      "True\n"
     ]
    }
   ],
   "source": [
    "x = '123'      # string\n",
    "print(type(x))\n",
    "\n",
    "x = int(x)     # Parse str to int, and assign back to x\n",
    "print(x)\n",
    "print(type(x)) #<class 'int'>\n",
    "\n",
    "x = float(x)   # Convert x from int to float, and assign back to x\n",
    "print(x)\n",
    "print(type(x))  #<class 'float'>\n",
    "\n",
    "x = str(x)    # Convert x from float to str, and assign back to x\n",
    "print(x)\n",
    "print(type(x))  #<class 'str'>\n",
    "\n",
    "len(x)        # Get the length of the string\n",
    "print(len(x))      # 5\n",
    "\n",
    "x = bool(x)   # Convert x from str to boolean, and assign back to x\n",
    "print(x)            # Non-empty string is converted to True\n",
    "print(type(x))  #<class 'bool'>\n",
    "\n",
    "x = str(x)    # Convert x from bool to str\n",
    "print(x)      #'True'"
   ]
  },
  {
   "cell_type": "markdown",
   "metadata": {},
   "source": [
    "#### **檢查實例的類型**  - Check Instance's Type: `isinstance(instance, type)`\n",
    "您也可以使用內建函數`isinstance(instance, type)`來檢查實例是否屬於此類型。例如，\n",
    "```\n",
    ">>> isinstance（123，int）    #真的\n",
    "True\n",
    ">>> isinstance（'a'，int）    #錯誤的\n",
    "False\n",
    ">>> isinstance('a', str)     #真的\n",
    "True\n",
    "```"
   ]
  },
  {
   "cell_type": "code",
   "execution_count": 2,
   "metadata": {},
   "outputs": [
    {
     "name": "stdout",
     "output_type": "stream",
     "text": [
      "True\n",
      "False\n"
     ]
    },
    {
     "data": {
      "text/plain": [
       "True"
      ]
     },
     "execution_count": 2,
     "metadata": {},
     "output_type": "execute_result"
    }
   ],
   "source": [
    "print(isinstance(123, int))\n",
    "\n",
    "print(isinstance('a', int))\n",
    "\n",
    "isinstance('a', str)"
   ]
  },
  {
   "cell_type": "markdown",
   "metadata": {},
   "source": [
    "#### **賦值運算符** - The Assignment Operator (=)\n",
    "在 Python 中，使用變數之前不需要宣告變數。初始賦值會建立一個變數、並將分配的值連結到該變數。例如，\n",
    "```\n",
    ">>> x = 8         # 透運算子過賦值建立變數 x \n",
    ">>> x = 'Hello'   # 為 x 重新賦值（不同類型）\n",
    " \n",
    ">>> y             # 無法存取未定義（未指派）的變數\n",
    "NameError: name 'y' is not defined         # NameError: 名稱「y」未定義\n",
    "```"
   ]
  },
  {
   "cell_type": "markdown",
   "metadata": {},
   "source": [
    "#### **成對分配和鍊式分配** - Pair-wise Assignment and Chain Assignment\n",
    "例如，\n",
    "```\n",
    ">>> a = 1   # 普通賦值\n",
    ">>> a \n",
    "1 \n",
    ">>> b, c, d = 123, 4.5, 'Hello'   # 3 個變數和值的成對賦值\n",
    ">>> b \n",
    "123\n",
    ">>> c \n",
    "4.5\n",
    ">>> d \n",
    "'Hello' \n",
    ">>> e = f = g = 123 #鍊式賦值\n",
    ">>> e\n",
    "123\n",
    ">>> f\n",
    "123\n",
    ">>> g\n",
    "123\n",
    "```\n",
    "**賦值運算子是右邊結合的**，即`a = b = 123`被解釋為`(a = (b = 123))`。"
   ]
  },
  {
   "cell_type": "markdown",
   "metadata": {},
   "source": [
    "#### **del運算子** - del Operator\n",
    "您可以使用del運算子來刪除變數。例如，\n",
    "```\n",
    ">>> x = 8      # 透過賦值建立變數 x \n",
    ">>> x \n",
    "8 \n",
    ">>> del x      # 刪除變數 x \n",
    ">>> x \n",
    "NameError: name 'x' is not defined      # NameError: 名稱「x」未定義\n",
    "```"
   ]
  },
  {
   "cell_type": "markdown",
   "metadata": {},
   "source": [
    "### **數位運算** - Number Operations\n",
    "#### **算術運算符** - Arithmetic Operators (+, -, *, /, //, **, %)\n",
    "Python 支援以下算術運算符： \n",
    "\n",
    "|運算符\t |模式\t|用法\t|描述\t|例子|\n",
    "|--------|------|-------|-------|----|\n",
    "|+\t     |二進位|x + y \t|加法    |    |\t \n",
    "|+       |一元  |+x     |正數    |    |\n",
    "\n",
    "![算術運算符](./figure/arithmeticOperators.png)\n",
    "\n",
    "在 Java 中，`-1/2`返回0。也就是說，整數除法傳回一個向零截斷的整數。  \n",
    "Python 的整數除法傳回一個向下取整的整數，例如`-1//2`給出-1。"
   ]
  },
  {
   "cell_type": "markdown",
   "metadata": {},
   "source": [
    "#### **複合賦值運算符** - Compound Assignment Operators (+=, -=, *=, /=, //=, **=, %=)\n",
    "每個算術運算子都有對應的簡寫賦值運算符，即+=, -=, *=, /=, //=, **= 和 %=。  \n",
    "例如 `i += 1` 與 `i = i + 1`相同。"
   ]
  },
  {
   "cell_type": "markdown",
   "metadata": {},
   "source": [
    "#### **增加/減少** - Increment/Decrement (++, --)?\n",
    "Python 不支援增量 ( ++) 和減量 ( --) 運算子（與 C/C++/Java 中一樣）。需要使用`i = i + 1`或`i += 1`來增加。\n",
    "\n",
    "Python 接受`++i` ⇒ `+(+i)` ⇒ i，和`--i`。不要陷入這個陷阱。但是Python對`i++`及`i--`標記為語法錯誤。"
   ]
  },
  {
   "cell_type": "markdown",
   "metadata": {},
   "source": [
    "#### **混合類型操作** - Mixed-Type Operations\n",
    "對於混合類型運算，例如1 + 2.3（整數int + 浮點數float），“較小”類型的值首先被提升為“較大”類型。然後它以“較大”類型執行操作、並以“bigger”類型傳回結果。在 Python 中，整數(int)比浮點數(float) 更“小”， 也比複數(complex) 更“小”。"
   ]
  },
  {
   "cell_type": "markdown",
   "metadata": {},
   "source": [
    "#### **關係（比較）運算符** - Relational (Comparison) Operators (==, !=, <, <=, >, >=, in, not in, is, is not)\n",
    "Python 支援這些關係（比較）運算符，它們傳回True或False的bool值。  \n",
    "![Relational (Comparison) Operators](./figure/comparisonOperators.png)"
   ]
  },
  {
   "cell_type": "markdown",
   "metadata": {},
   "source": [
    "#### **邏輯運算符** - Logical Operators (and, or, not)\n",
    "Python 支援這些邏輯（布林）運算符，它們會對布林值進行運算。\n",
    "![Logical Operators](./figure/logicalOperators.png)\n",
    "Notes：\n",
    "* Python 的邏輯運算子是用文字輸入的，而不是像 C/C++/Java 使用符號&&，||和!。\n",
    "* Python 沒有排他的or（`xor`）布林運算符。"
   ]
  },
  {
   "cell_type": "code",
   "execution_count": 2,
   "metadata": {},
   "outputs": [
    {
     "ename": "SyntaxError",
     "evalue": "invalid syntax (2050107661.py, line 8)",
     "output_type": "error",
     "traceback": [
      "\u001b[1;36m  Cell \u001b[1;32mIn[2], line 8\u001b[1;36m\u001b[0m\n\u001b[1;33m    (x or) >= 0\u001b[0m\n\u001b[1;37m         ^\u001b[0m\n\u001b[1;31mSyntaxError\u001b[0m\u001b[1;31m:\u001b[0m invalid syntax\n"
     ]
    }
   ],
   "source": [
    "x = y = 1\n",
    "if (x and y) >= 0:\n",
    "    print('Python supports these logical (boolean) operators, that operate on boolean values')\n",
    "else:\n",
    "    print('It does not support')\n",
    "\n",
    "try:\n",
    "    (x or) >= 0\n",
    "    print('Python have an exclusive-or (xor) boolean operator')\n",
    "except:\n",
    "    print('Python does not have an exclusive-or (xor) boolean operator')\n"
   ]
  },
  {
   "cell_type": "markdown",
   "metadata": {},
   "source": [
    "#### **內建函數** - Built-in Functions\n",
    "Python 提供了許多內建的數位函數，包括：\n",
    "\n",
    "* 數學函數：round(), pow(), abs(), etc.\n",
    "* type()獲取類型。\n",
    "* 類型轉換函數：int(), float(), str(), bool(), etc.\n",
    "* 基數轉換函數：hex(), bin(), oct().\n",
    "\n",
    "例如\n",
    "```\n",
    "# 測試內建函數 round() \n",
    ">>> x = 1.23456 \n",
    ">>> type(x)\n",
    "<type 'float'>    #<類型'float'>\n",
    "\n",
    "# Python 3 \n",
    ">>> round(x)      # 四捨五入到最接近的整數\n",
    "1\n",
    ">>>type(round(x))\n",
    "<class 'int'>     # <類型'int'>\n",
    "\n",
    "# Python 2 \n",
    ">>> round(x)\n",
    "1.0\n",
    ">>>type(round(x))\n",
    "<class 'float'>     # <類型'float'>\n",
    "\n",
    ">>> round(x, 1)   # 四捨五入至小數點後 1 位\n",
    "1.2\n",
    ">>> round(x, 2)   # 四捨五入至小數點後 2 位\n",
    "1.23\n",
    ">>> round(x, 8)   # 無變化 - 不用於格式化(改變格式)\n",
    "1.23456\n",
    "\n",
    "# 測試其他內建函數\n",
    ">>> pow(2, 5)   # $2^5$\n",
    "32\n",
    ">>> abs(-4.1)    #絕對值(-4.1) -> |-4.1|\n",
    "4.1\n",
    "  \n",
    "# 測試基數轉換\n",
    ">>> hex(1234)\n",
    "'0x4d2'\n",
    ">>> bin(254)\n",
    "'0b11111110'\n",
    ">>> oct(1234)\n",
    "'0o2322'\n",
    ">>> 0xABCD   # 預設以十進位顯示\n",
    "43981\n",
    "\n",
    "# 列出內建函數\n",
    ">>> dir(__built-ins__)\n",
    "['type', 'round', 'abs', 'int', 'float', 'str', 'bool', 'hex', 'bin', 'oct',......]\n",
    "\n",
    "# 顯示內建函數的數量\n",
    ">>> len(dir(__built-ins__))   # Python 3\n",
    "151\n",
    ">>> len(dir(__built-ins__))   # Python 2\n",
    "144\n",
    "\n",
    "# 顯示__built-ins__模組的文件\n",
    ">>> help(__built-ins__) \n",
    "```\n",
    "......\n",
    "\n",
    "![baseRadixConversion](./figure/baseRadixConversion.png) from https://steam.oxxostudio.tw/category/python/basic/builtin-string.html\n",
    "\n"
   ]
  },
  {
   "cell_type": "code",
   "execution_count": 1,
   "metadata": {},
   "outputs": [
    {
     "name": "stdout",
     "output_type": "stream",
     "text": [
      "0b11111110\n",
      "0o2322\n",
      "43981\n",
      "29\n"
     ]
    }
   ],
   "source": [
    "print(bin(254))\n",
    "print(oct(1234))\n",
    "print(0xABCD)\n",
    "0xABCD\n",
    "\n",
    "print(len(dir(__import__)))"
   ]
  },
  {
   "cell_type": "markdown",
   "metadata": {},
   "source": [
    "#### **位元運算符（進階）**\n",
    "Python 支援以下位元運算符：\n",
    "![Bitwise Operators (Advanced)](./figure/advancedBitwiseOperators_E.png)"
   ]
  },
  {
   "cell_type": "markdown",
   "metadata": {},
   "source": [
    "#### **字串** - String\n",
    "在 Python 中，字串可以用一對單引號 ('...') 或雙引號 (\"...\")劃界。 Python 也透過三重單引號 ('''...''') 或三重雙引號 (\"\"\"...\"\"\") 支援多行字串。\n",
    "\n",
    "若要將單引號 (') 放在單引號字串內，您需要使用轉義序列`\\'`。類似地，要將雙引號 (\") 放在雙引號字串內，請使用`\\\"`。將單引號放在雙引號字串內、將雙引號放在單引號字串內，則不需要轉義序列。\n",
    "\n",
    "三重單引號或三重雙引號字串可以跨越多行。不需要轉義序列來將單引號or雙引號放置在三引號字串內。三重引號字串對於多行文件、HTML 和其他程式碼很有用。\n",
    "\n",
    "Python 3 使用 Unicode 字元集來支援國際化（i18n）。\n",
    "\n",
    "```\n",
    ">>> s1 = 'apple'\n",
    ">>> s1\n",
    "'apple'\n",
    ">>> s2 = \"orange\"\n",
    ">>> s2\n",
    "'orange'\n",
    ">>> s3 = \"'orange'\"    # 不需要轉義序列\n",
    ">>> s3\n",
    "\"'orange'\"\n",
    ">>> s3 =\"\\\"orange\\\"\"   # 需要轉義序列\n",
    ">>> s3\n",
    "'\"orange\"'\n",
    "\n",
    "# 三重單引號/雙引號字串可以跨越多行\n",
    ">>> s4 = \"\"\"testing\n",
    "12345\"\"\"\n",
    ">>> s4\n",
    "'testing\\n12345'\n",
    "```"
   ]
  },
  {
   "cell_type": "code",
   "execution_count": 3,
   "metadata": {},
   "outputs": [
    {
     "data": {
      "text/plain": [
       "'\\ntesting\\n12345\\n'"
      ]
     },
     "execution_count": 3,
     "metadata": {},
     "output_type": "execute_result"
    }
   ],
   "source": [
    "s4 = \"\"\"\n",
    "testing\n",
    "12345\n",
    "\"\"\"\n",
    "s4"
   ]
  },
  {
   "cell_type": "markdown",
   "metadata": {},
   "source": [
    "#### **字元的轉義序列** - Escape Sequences for Characters (\\code)\n",
    "與 C/C++/Java 類似，需要使用轉義序列（反斜線 + 程式碼）來執行以下操作：\n",
    "* 特殊的不可列印字符，例如製表符 (`\\t`)、換行符 (`\\n`)、回車符 (`\\r`)\n",
    "* 解決歧義(雙關語)，例如`\\\"`（對於在雙引號字串內部的\"），`\\'`（對於在單引號字串內部'），`\\\\`（對於\\）。\n",
    "* `\\xhh`用於十六進位值的字元和\\ooo八進位值的字符\n",
    "* `\\uxxxx` 表示4個十六進位數字（16位元）Unicode字元 和`\\Uxxxxxxxx` 表示8個十六進位數字（32 位元）Unicode 字元。"
   ]
  },
  {
   "cell_type": "markdown",
   "metadata": {},
   "source": [
    "#### **原始字串** - Raw Strings (r'...' or r\"...\")\n",
    "可以在字串前加上前綴r，以停用轉義序列 (i.e., \\code)的解釋，如，`r'\\n'`是'\\'+'n'（兩個字元）而不是換行符（一個字元）。原始字串在正規表示式中被廣泛使用（將在模組re部分討論）。"
   ]
  },
  {
   "cell_type": "markdown",
   "metadata": {},
   "source": [
    "#### **字串是不可變的** - Strings are Immutable\n",
    "字串是不可變的，即其內容不能被修改。  \n",
    "字串函數如upper()，replace()傳回一個新的字串對象，而不是修改操作中的字串。"
   ]
  },
  {
   "cell_type": "markdown",
   "metadata": {},
   "source": [
    "#### **字串的內建函數和運算符** - Built-in Functions and Operators for Strings\n",
    "您可以使用以下方法對字串進行操作：\n",
    "* 內建函數，如len()；\n",
    "* 運算符，如in（包含_contains）、+（連接_concatenation）、*（重複_repetition）、索引`[i]`和`[-i]`、以及切段(slicing)`[m:n:step]`。  \n",
    "注意：這些函數和運算子適用於所有序列(sequence)資料類型，包括string、list和tuple（稍後將有討論）。  \n",
    "![Built-in Functions and Operators for Strings](./figure/functionsAndOperatorsForStrings.png)  "
   ]
  },
  {
   "cell_type": "markdown",
   "metadata": {},
   "source": [
    "For examples,\n",
    "```\n",
    ">>> s = \"Hello, world\"   # 將字串文字指派給變數s (Assign a string literal to the variable s)\n",
    ">>> type(s)              # 取得 s 的資料類型 (Get data type of s)\n",
    "<class 'str'>\n",
    ">>> len(s)       # 長度 (Length)\n",
    "12\n",
    ">>> 'ello' in s  # in 運算符 (The in operator)\n",
    "True\n",
    "\n",
    "# Indexing\n",
    ">>> s[0]       # 取得索引0處的字元；索引從0開始 (Get character at index 0; index begins at 0)\n",
    "'H'\n",
    ">>> s[1]\n",
    "'e'\n",
    ">>> s[-1]      # 取得最後一個字符，與s[len(s)-1]相同 (Get Last character, same as s[len(s) - 1])\n",
    "'d'\n",
    ">>> s[-2]      # 倒數第二個字符 (2nd last character)\n",
    "'l'\n",
    "\n",
    "# Slicing\n",
    ">>> s[1:3]     # 從索引 1(包含)到 3(不包含)的子字串 (Substring from index 1 (included) to 3 (excluded))\n",
    "'el'\n",
    ">>> s[1:-1]\n",
    "'ello, worl'\n",
    ">>> s[:4]      # 與 s[0:4] 相同，從頭開始 (Same as s[0:4], from the beginning)\n",
    "'Hell'\n",
    ">>> s[4:]      # 與 s[4:-1] 相同，直到最後 (Same as s[4:-1], till the end)\n",
    "'o, world'\n",
    ">>> s[:]       # 整個字串；與 s[0:len(s)] 相同 (Entire string; same as s[0:len(s)])\n",
    "'Hello, world'\n",
    "\n",
    "# 連接 (+) 和重複 (*) (Concatenation (+) and Repetition (*))\n",
    ">>> s = s + \" again\"  # 連接兩個字串 (Concatenate two strings)\n",
    ">>> s\n",
    "'Hello, world again'\n",
    "\n",
    ">>> s * 3        # 重複3次 (Repeat 3 times)\n",
    "'Hello, world againHello, world againHello, world again'\n",
    "\n",
    "# str 只能與 str 連接，不能與 int 和其他型別連接\n",
    "# (str can only concatenate with str, not with int and other types)\n",
    ">>> s = 'hello'\n",
    ">>> print('The length of \\\"' + s + '\\\" is ' + len(s))       # len()是int ( len() is int )\n",
    "TypeError: can only concatenate str (not \"int\") to str\n",
    "\n",
    ">>> print('The length of \\\"' + s + '\\\" is ' + str(len(s)))\n",
    "The length of \"hello\" is 5\n",
    "\n",
    "# 字串是不可變的 (String is immutable)\n",
    ">>> s[0] = 'a'\n",
    "TypeError: 'str' object does not support item assignment\n",
    "```"
   ]
  },
  {
   "cell_type": "code",
   "execution_count": null,
   "metadata": {},
   "outputs": [
    {
     "name": "stdout",
     "output_type": "stream",
     "text": [
      "44\n",
      "True\n",
      "listData = \"Built-in Functions and Operators for Strings\"\n",
      "Built-in Functions and Operators for StringsBuilt-in Functions and Operators for Strings\n",
      "us\n",
      "Biti \n"
     ]
    }
   ],
   "source": [
    "listData = 'Built-in Functions and Operators for Strings'\n",
    "print(len(listData))\n",
    "print('Strings' in listData)\n",
    "print('listData = \"' + listData + '\"')\n",
    "print( listData * 2)\n",
    "# print( listData *= 2)   # SyntaxError: invalid syntax ??\n",
    "print( listData[1] + listData[-1])\n",
    "print( listData[0:10:2])"
   ]
  },
  {
   "cell_type": "markdown",
   "metadata": {},
   "source": [
    "#### **字元類型？** - Character Type?\n",
    "Python 沒有專用的字元資料型別。一個字元只是一個長度為 1 的字串；可以使用索引運算符從字串中提取單個字符，如上例所示。或使用for-in循環處理單一字元（稍後討論）。\n",
    "\n",
    "內建函數ord()和chr()操作字符，例如，\n",
    "\n",
    "```\n",
    "# ord(c) 傳回單字元字串的整數序數（Unicode）\n",
    "# ord(c) returns the integer ordinal (Unicode) of a one-character string\n",
    ">>> ord('A')\n",
    "65\n",
    ">>> ord('水')\n",
    "27700\n",
    "\n",
    "# chr(i) 傳回帶有​​ Unicode 序數 i 的單字元字串； 0 <= i <= 0x10ffff。\n",
    "# chr(i) returns a one-character string with Unicode ordinal i; 0 <= i <= 0x10ffff.\n",
    ">>> chr(65)\n",
    "'A'\n",
    ">>> chr(27700)\n",
    "'水'\n",
    "```"
   ]
  },
  {
   "cell_type": "markdown",
   "metadata": {},
   "source": [
    "#### **Unicode vs ASCII** - Unicode 與 ASCII\n",
    "在 Python 3 中，字串預設為 Unicode。 ASCII 字串表示為位元組字串，以b為前綴，例如 `b'ABC'`。\n",
    "\n",
    "在Python 2中，字串預設為ASCII字串（位元組字串）。 Unicode 字串以u為前綴。\n",
    "\n",
    "您應該始終使用 Unicode 進行國際化（i18n）！"
   ]
  },
  {
   "cell_type": "markdown",
   "metadata": {},
   "source": [
    "#### **字串特定的成員函數** - String-Specific Member Functions\n",
    "Python 透過一個名為**str**的內建類別支援字串（將在物件導向程式設計章節中描述類別）。該**str**類別提供了許多成員函數。由於字串是不可變的，因此大多數這些函數都會傳回一個新字串。假設s是一個**str**物件，常用的成員函數如下：\n",
    "\n",
    "* `str.strip()`, `str.rstrip()`, `str.lstrip()`:分別為刪除前置和尾隨的空格、右側（尾隨）空格；以及左邊（前導）空格。\n",
    "* `str.upper()`, `str.lower()`：分別回傳大寫/小寫對應部分。\n",
    "* `str.isupper()`, `str.islower()` ：分別檢查字串是否為大寫/小寫。\n",
    "* `str.find(key_str)`: 傳回包含子字串(key_str)**開始的索引值，如果未找到，find() 將傳回 -1**\n",
    "* `str.index(key_str)`: 傳回包含子字串(key_str)**開始的索引值，否則拋出異常**\n",
    "* `str.startswith(key_str)`: 檢查字串的開始是否為包含子字串(key_str)，傳回布林值\n",
    "* `str.endswith(key_str)`: 檢查字串的結尾是否為包含子字串(key_str)，傳回布林值\n",
    "* `str.replace(key_str, rep_str)`：將字串中的子字串(key_str)以替代子字(rep_str)串替換\n",
    "* `str.split(delimiter_str)`: 將字串以分隔子字串(delimiter_str)區隔，傳回list\n",
    "* `delimiter_str.join(strings_list)`: 將list(strings_list)以連結子字串(delimiter_str)區隔，傳回字串"
   ]
  },
  {
   "cell_type": "code",
   "execution_count": 6,
   "metadata": {},
   "outputs": [
    {
     "name": "stdout",
     "output_type": "stream",
     "text": [
      "-1\n"
     ]
    },
    {
     "data": {
      "text/plain": [
       "2"
      ]
     },
     "execution_count": 6,
     "metadata": {},
     "output_type": "execute_result"
    }
   ],
   "source": [
    "s = 'Hello, world'\n",
    "print(s.find('Sh'))\n",
    "s.index('ll')"
   ]
  },
  {
   "cell_type": "markdown",
   "metadata": {},
   "source": [
    "**字串特定的成員函數** - String-Specific Member Functions\n",
    "```\n",
    ">>> dir(str)      # 列出 str 類別的所有屬性(List all attributes of the class str)\n",
    "[..., 'capitalize', 'casefold', 'center', 'count', 'encode', 'endswith', 'expandtabs',\n",
    "'find', 'format', 'format_map', 'index', 'isalnum', 'isalpha', 'isascii', 'isdecimal',\n",
    "'isdigit', 'isidentifier', 'islower', 'isnumeric', 'isprintable', 'isspace', 'istitle',\n",
    "'isupper', 'join', 'ljust', 'lower', 'lstrip', 'maketrans', 'partition', 'replace',\n",
    "'rfind', 'rindex', 'rjust', 'rpartition', 'rsplit', 'rstrip', 'split', 'splitlines',\n",
    "'startswith', 'strip', 'swapcase', 'title', 'translate', 'upper', 'zfill']\n",
    "\n",
    ">>> s = 'Hello, world'\n",
    ">>> type(s)\n",
    "<class 'str'>\n",
    "\n",
    ">>> dir(s)         # 列出物件s的所有屬性(List all attributes of the object s)\n",
    ".......\n",
    ">>> help(s.find)   # 顯示成員函數 find 的文檔(Show the documentation of member function find)\n",
    ".......\n",
    ">>> s.find('ll')   # 找到子字串的起始索引(Find the beginning index of the substring)\n",
    "2\n",
    ">>> s.find('app')  # 如果未找到，find()將會回傳 -1 (find() returns -1 if not found)\n",
    "-1\n",
    "\n",
    ">>> s.index('ll')  # index() 與 find() 相同，但如果找不到則引發 ValueError(index() is the same as find(), but raise ValueError if not found)\n",
    "2\n",
    ">>> s.index('app')\n",
    "ValueError: substring not found\n",
    "\n",
    ">>> s.startswith('Hell')\n",
    "True\n",
    ">>> s.endswith('world')\n",
    "True\n",
    ">>> s.replace('ll', 'xxx')\n",
    "'Hexxxo, world'\n",
    ">>> s.isupper()\n",
    "False\n",
    ">>> s.upper()\n",
    "'HELLO, WORLD'\n",
    "\n",
    ">>> s.split(', ')    # 使用給定的分隔符拆分成list (Split into a list with the given delimiter)\n",
    "['Hello', 'world']\n",
    ">>> ', '.join(['hello', 'world', '2025'])  # 使用分隔符號連接list中的所有字串 (Join all strings in the list using the delimiter)\n",
    "'hello, world, 2025'\n",
    " \n",
    ">>> s = '  testing 12345   '\n",
    ">>> s.strip()        # 刪除前置和尾隨空格 (Strip leading and trailing whitespaces)\n",
    "'testing 12345'\n",
    ">>> s.rstrip()       # 刪除尾隨(右側)空格 (Strip trailing (right) whitespaces)\n",
    "'  testing 12345'\n",
    ">>> s.lstrip()       # 刪除前導(左側)空格 (Strip leading (left) whitespaces)\n",
    "'testing 12345   '\n",
    " \n",
    "# 列出所有空格字元 - 在模組字串、屬性空格中\n",
    "# List all the whitespace characters - in module string, attribute whitespace\n",
    ">>> import string\n",
    ">>> string.whitespace   # 列出所有空白字符 (All whitespace characters)\n",
    "' \\t\\n\\r\\x0b\\x0c'\n",
    ">>> string.digits       # 列出所有數字字符 (All digit characters)\n",
    "'0123456789'\n",
    ">>> string.hexdigits    # 列出所有十六進制數字字符 (All hexadecimal digit characters)\n",
    "'0123456789abcdefABCDEF'\n",
    "```"
   ]
  },
  {
   "cell_type": "markdown",
   "metadata": {},
   "source": [
    "#### **字串格式化 1（新樣式）** - String Formatting 1 (New Style): Using `str.format()` function\n",
    "* 有幾種方法可以產生用於輸出的格式化字串。 \n",
    "* Python 3 在str的成員函數format()中引入了以{}佔位符（稱為格式欄位）為特徵的新樣式。例如，"
   ]
  },
  {
   "cell_type": "markdown",
   "metadata": {},
   "source": [
    "**字串格式化 1 (New Style): Using `str.format()` function**\n",
    "\n",
    "* **依照相同順序將格式欄位 {} 替換為 format() 中的參數** - Replace format fields {} by arguments in format() in the SAME order  \n",
    "    * 即、依照格式欄位{}中參數的相同順序,替換format()中的字串\n",
    "    * 例：`'|{}|{}|more|'.format('Hello', 'world')`  \n",
    "        - '|Hello|world|more|'\n",
    "\n",
    "* **可以使用 {0}, {1}, ... 形式的「位置」索引,並可以重覆引用「位置」索引** \n",
    "    * You can use 'positional' index in the form of {0}, {1}, ...\n",
    "    * 例1：`'|{0}|{1}|more|'.format('Hello', 'world')`  \n",
    "        - '|Hello|world|more|'\n",
    "    * 例2： `'|{0}|{1}|{0}|more|'.format('Hello', 'world')`  \n",
    "        - '|Hello|world|Hello|more|'\n",
    "\n",
    "* **可以在 {} 內使用“關鍵字”** -  You can use 'keyword' inside {}\n",
    "    * 例： `'|{greeting}|{name}|'.format(greeting='Hello', name='Peter')`  \n",
    "        - '|Hello|Peter|'\n",
    "\n",
    "* **混合使用“位置”和“關鍵字”** - Mixing 'positional' and 'keyword'\n",
    "    * 例1：`'|{0}|{name}|more|'.format('Hello', name='Peter')`  \n",
    "        - '|Hello|Peter|more|'\n",
    "    * 例2：`'|{}|{name}|more|'.format('Hello', name='Peter')`  \n",
    "        - '|Hello|Peter|more|'\n",
    "\n",
    "* **可以使用 :n 指定欄位寬度** - You can specify field-width with :n\n",
    "    * **對齊（< 表示左對齊，> 表示右對齊，^ 表示居中對齊）** - 預設左對齊\n",
    "       alignment (< for left-align, > for right-align, ^ for center-align)\n",
    "    * **填充字符**- padding (or fill) character.即、{位置：填充字符 對齊符 欄位寬度n} 如.{2:-<10}\n",
    "\n",
    "    * 例1：`'|{1:8}|{0:7}|'.format('Hello', 'Peter')`   # 設定字段寬度(Set field-width)  \n",
    "        - '|Peter   |Hello  |'      # 預設左對齊 (Default left-aligned)\n",
    "    * 例2：`'|{1:8}|{0:>7}|{2:-<10}|'.format('Hello', 'Peter', 'again')`  # 設定對齊和填充(Set alignment and padding)  \n",
    "        - '|Peter   |  Hello|again-----|'    # > (右對齊)、< (左對齊)、- (填充字元)\n",
    "    * 例3：`'|{greeting:8}|{name:7}|'.format(name='Peter', greeting='Hi')`  \n",
    "        - '|Hi      |Peter  |'\n",
    "\n",
    "* **使用 ':d'  ':nd' 或 ':f' ':n.mf' 格式化整數(int) 或 浮點數(float)**\n",
    "    * **使用 ':d' 或 ':nd' 格式化 int** - Format int using ':d' or ':nd'\n",
    "    * **使用 ':f' 或 ':n.mf' 格式化浮點數** - Format float using ':f' or ':n.mf'\n",
    "    * 例 :  `'|{0:.3f}|{1:6.2f}|{2:4d}|'.format(1.2, 3.14159265359, 78)`  \n",
    "        - '|1.200|  3.14|  78|'\n",
    "    * **使用關鍵字** - With keywords \n",
    "    * 例 :`'|{a:.3f}|{b:6.2f}|{c:4d}|'.format(a=1.2, b=3.14159265359, c=78)`  \n",
    "        - '|1.200|  3.14|  78|'\n",
    "\n",
    "* 當將**清單、元組或字典作為參數傳遞給format()函數**時，可以使用引用格式欄位中的序列元素[index]。  \n",
    "  串列(list)、元組(tuple) 或字典(dictionary) 稍後討論    \n",
    "    例如，\n",
    "    * 串列(list) and 元組(tuple)  \n",
    "    `tup = ('a', 11, 11.11)`  \n",
    "    `lst = ['b', 22, 22.22]`  \n",
    "    `'|{0[2]}|{0[1]}|{0[0]}|'.format(tup)  # {0} matches tup, indexed via []`  \n",
    "        - '|11.11|11|a|'  \n",
    "    * 串列(list)、元組(tuple) - {0} matches tup, {1} matches lst  \n",
    "    `'|{0[2]}|{0[1]}|{0[0]}|{1[2]}|{1[1]}|{1[0]}|'.format(tup, lst)  # {0}與 tup匹配，{1}與lst匹配`  \n",
    "        - '|11.11|11|a|22.22|22|b|'  \n",
    "    * 字典(dictionary)  \n",
    "    `dict = {'c': 33, 'cc': 33.33}`  \n",
    "    `'|{0[cc]}|{0[c]}|'.format(dict)`  \n",
    "        - '|33.33|33|'  \n",
    "    * 字典(dictionary) - As keywords via **     \n",
    "    `'|{cc}|{c}|'.format(**dict)  # 透過**作為關鍵字 ` -  \n",
    "        - '|33.33|33|'"
   ]
  },
  {
   "cell_type": "code",
   "execution_count": null,
   "metadata": {},
   "outputs": [
    {
     "name": "stdout",
     "output_type": "stream",
     "text": [
      "|Hello|world|more|\n",
      "Hello world more\n",
      "|Hello|world|more|\n",
      "|world|world|Hello|more|\n",
      "|Hello|Peter|\n",
      "|Good morning|Geo|\n",
      "good morning , Hello world\n"
     ]
    }
   ],
   "source": [
    "# Replace format fields {} by arguments in format() in the SAME order\n",
    "print('|{}|{}|more|'.format('Hello', 'world'))\n",
    "print('{} {} more'.format('Hello', 'world'))\n",
    "\n",
    "print('|{0}|{1}|more|'.format('Hello', 'world'))\n",
    "print('|{1}|{1}|{0}|more|'.format('Hello', 'world'))\n",
    "\n",
    "print('|{greeting}|{name}|'.format(greeting='Hello', name='Peter'))\n",
    "\n",
    "# [TODO]\n",
    "\n",
    "greeting=['Good morning']\n",
    "name=['Geo']\n",
    "print('|{0[0]}|{1[0]}|'.format(greeting,name))\n",
    "\n",
    "repList = ['Hello','world','good','morning']\n",
    "print('{0[2]} {0[3]} , {0[0]} {0[1]}'.format(repList))"
   ]
  },
  {
   "cell_type": "markdown",
   "metadata": {},
   "source": [
    "#### **字串格式化 2** - String Formatting 2:   \n",
    "Using `str.rjust(n)`, `str.ljust(n)`, `str.center(n)`, `str.zfill(n)`  \n",
    "* 也可以使用str的函數成員、  \n",
    "如 `str.rjust(n)`（其中n是欄位寬度）、`str.ljust(n)`、 `str.center(n)`、 `str.zfill(n)`來格式化字串。  \n",
    "* 例如，\n",
    "\n",
    "    * Setting field width and alignment  \n",
    "        ```\n",
    "        >>> '123'.rjust(5)\n",
    "        '  123'\n",
    "        >>> '123'.ljust(5)\n",
    "        '123  '\n",
    "        >>> '123'.center(5)\n",
    "        ' 123 '\n",
    "        >>> '123'.zfill(5)  # Pad (Fill) with leading zeros\n",
    "        '00123'\n",
    "        ```\n",
    "    * Floats  \n",
    "        ```\n",
    "        >>> '1.2'.rjust(5)  # 型態由float轉變為str <class 'str'>\n",
    "        '  1.2'\n",
    "        >>> '-1.2'.zfill(6)\n",
    "        '-001.2'\n",
    "        ```"
   ]
  },
  {
   "cell_type": "code",
   "execution_count": 5,
   "metadata": {},
   "outputs": [
    {
     "name": "stdout",
     "output_type": "stream",
     "text": [
      "<class 'str'>\n",
      "1.2  \n",
      " 1.2 \n"
     ]
    },
    {
     "data": {
      "text/plain": [
       "'001.2'"
      ]
     },
     "execution_count": 5,
     "metadata": {},
     "output_type": "execute_result"
    }
   ],
   "source": [
    "print(type('1.2'.rjust(5)))\n",
    "print('1.2'.ljust(5))\n",
    "print('1.2'.center(5))\n",
    "'1.2'.zfill(5)"
   ]
  },
  {
   "cell_type": "markdown",
   "metadata": {},
   "source": [
    "#### **字串與數字之間的轉換** - Using % operator  \n",
    "* 舊樣式(在 Python 2 中)是使用%具有類似 C 的 printf()格式說明符的運算子。  \n",
    "    例如，\n",
    "    ```\n",
    "    # %s 表示字串\n",
    "    # %ns 表示欄位寬度為 n 的字串（預設右對齊）\n",
    "    # %-ns 表示左對齊\n",
    "    >>> '|%s|%8s|%-8s|more|' % ('Hello', 'world', 'again')\n",
    "    '|Hello|   world|again   |more|'\n",
    "\n",
    "    # %d 表示整數(int)\n",
    "    # %nd 為字段寬度為 n 的整數(int)\n",
    "    # %f 表示浮點數\n",
    "    # %n.mf 表示帶有 n 字段寬度 和 m 個小數位的浮點數\n",
    "    >>> '|%d|%4d|%6.2f|' % (11, 222, 33.333)    \n",
    "    '|11| 222| 33.33|'\n",
    "    ```\n",
    "* **避免使用舊樣式進行格式化**。"
   ]
  },
  {
   "cell_type": "markdown",
   "metadata": {},
   "source": [
    "#### **字串格式化 3(舊式)_使用%運算符** - int(), float() and str()  \n",
    "可以使用內建函數`int()`將`float()`\"數字\"字串解析為整數或浮點數；並使用`str()`將數字轉換為字串。  \n",
    "例如，  \n",
    "```\n",
    "# 將字串轉換為整數(Convert string to int)\n",
    ">>> s = '12345'\n",
    ">>> s\n",
    "'12345'\n",
    ">>> type(s)\n",
    "<class 'str'>\n",
    ">>> i = int(s)\n",
    ">>> i\n",
    "12345\n",
    ">>> type(i)\n",
    "<class 'int'>\n",
    "\n",
    "# 將字串轉換為浮點數(Convert string to float)\n",
    ">>> s = '55.66'\n",
    ">>> s\n",
    "'55.66'\n",
    ">>> f = float(s)\n",
    ">>> f\n",
    "55.66\n",
    ">>> type(f)\n",
    "<class 'float'>\n",
    ">>> int(s)\n",
    "ValueError: invalid literal for int() with base 10: '55.66'\n",
    "\n",
    "# 將數字轉換為字串(Convert number to string)\n",
    ">>> i = 123\n",
    ">>> s = str(i)\n",
    ">>> s\n",
    "'123'\n",
    ">>> type(s)\n",
    "<class 'str'>\n",
    "'123'\n",
    "```"
   ]
  },
  {
   "cell_type": "code",
   "execution_count": null,
   "metadata": {},
   "outputs": [
    {
     "name": "stdout",
     "output_type": "stream",
     "text": [
      "<class 'float'>\n",
      "99.66\n",
      "99\n",
      "<class 'int'>\n",
      "99.66\n",
      "<class 'float'>\n",
      "99\n",
      "55.66 <class 'str'> 77 <class 'str'>\n",
      "55.66 <class 'float'> 77.0 <class 'float'>\n",
      "55\n"
     ]
    },
    {
     "ename": "ValueError",
     "evalue": "invalid literal for int() with base 10: '55.66'",
     "output_type": "error",
     "traceback": [
      "\u001b[1;31m---------------------------------------------------------------------------\u001b[0m",
      "\u001b[1;31mValueError\u001b[0m                                Traceback (most recent call last)",
      "Cell \u001b[1;32mIn[21], line 23\u001b[0m\n\u001b[0;32m     21\u001b[0m \u001b[38;5;28mprint\u001b[39m(f,\u001b[38;5;28mtype\u001b[39m(f),g,\u001b[38;5;28mtype\u001b[39m(g))\n\u001b[0;32m     22\u001b[0m \u001b[38;5;28mprint\u001b[39m(\u001b[38;5;28mint\u001b[39m(f))\n\u001b[1;32m---> 23\u001b[0m i \u001b[38;5;241m=\u001b[39m \u001b[38;5;28;43mint\u001b[39;49m\u001b[43m(\u001b[49m\u001b[43ms\u001b[49m\u001b[43m)\u001b[49m  \u001b[38;5;66;03m# \"浮點數數字\"字串解析為符合其浮點數之格式，再作數字間之轉換???\u001b[39;00m\n\u001b[0;32m     24\u001b[0m \u001b[38;5;28mprint\u001b[39m(i)\n",
      "\u001b[1;31mValueError\u001b[0m: invalid literal for int() with base 10: '55.66'"
     ]
    }
   ],
   "source": [
    "floatNum = 99.66   # <class 'float'>\n",
    "print(type(floatNum))\n",
    "print(floatNum)   # 99.66\n",
    "convertFloat2Int = int(floatNum)\n",
    "print(convertFloat2Int)    # 99\n",
    "print(type(convertFloat2Int))    # <class 'int'>\n",
    "\n",
    "convertFloat2Float = float(floatNum)\n",
    "print(convertFloat2Float)   #99.66\n",
    "print(type(convertFloat2Float))   # <class 'float'>\n",
    "convertFloat2Int = int(convertFloat2Float)\n",
    "print(convertFloat2Int)   # 99\n",
    "\n",
    "s = '55.66'\n",
    "r = '77'\n",
    "print(s,type(s),r,type(r))\n",
    "f = float(s)\n",
    "g = float(r)  # \"整數數字\"字串可直接解析為浮點數之格式\n",
    "# print(f)\n",
    "# print(g)\n",
    "print(f,type(f),g,type(g))\n",
    "print(int(f))\n",
    "i = int(s)  # \"浮點數數字\"字串解析為符合其浮點數之格式，再作整數數字之轉換\n",
    "print(i)"
   ]
  },
  {
   "cell_type": "markdown",
   "metadata": {},
   "source": [
    "#### **連接字串和數字？** - Concatenate a String and a Number ?  \n",
    "不能連接一個字串和一個數字(結果是TypeError)。相反，需要使用`str()`函數將數字轉換為字串。  \n",
    "例如，  \n",
    "```\n",
    ">>> 'Hello' + 123\n",
    "TypeError: cannot concatenate 'str' and 'int' objects\n",
    ">>> 'Hello' + str(123)\n",
    "'Hello123'\n",
    "```\n"
   ]
  },
  {
   "cell_type": "markdown",
   "metadata": {},
   "source": [
    "#### **None** 價值 - The None Value  \n",
    "Python 提供了一個特殊的值稱為 None（注意拼字是**首字母大寫**），它可以用來**初始化一個物件** (稍後有討論)。\n",
    "例如，   \n",
    "```\n",
    ">>> x = None\n",
    ">>> type(x)         # Get type\n",
    "<class 'NoneType'>\n",
    ">>> print(x)\n",
    "None\n",
    "\n",
    "# Use 'is' and 'is not' to check for 'None' value.\n",
    ">>> print(x is None)\n",
    "True\n",
    ">>> print(x is not None)\n",
    "False\n",
    "```\n"
   ]
  },
  {
   "cell_type": "markdown",
   "metadata": {},
   "source": [
    "### **資料結構**(串列、元組、字典&集合) - Data Structure: List, Tuple, Dictionary and Set  \n",
    "#### **串列[v1, v2,...]** (又稱為列表)- List [v1, v2,...] \n",
    "\n",
    "Python 有一個強大的內建動態數組稱為串列(list)。\n",
    "* 串列(list)是被方括號括起來[]。\n",
    "* 串列(list)可以包含不同類型的項目，這是因為 Python 將類型與物件關聯，而不是變數。\n",
    "* 串列(list)大小會自動（動態）增加和縮小，不必在初始化期間指定其大小。\n",
    "* 串列(list)是可變的。可以更新其內容。\n",
    "\n",
    "\n",
    "[TODO]\n",
    "##### **None** 價值 - The None Value \n",
    "**None** 價值 - The None Value "
   ]
  },
  {
   "cell_type": "markdown",
   "metadata": {},
   "source": [
    "#### **串列(list)的內建函數和運算符** - Built-in Functions and Operators for list\n",
    "串列(list)就像字串一樣，也是序列(sequence)。因此您可以使用以下方式操作list：\n",
    "\n",
    "* 內建sequence函數，例如len()。\n",
    "* 內建sequence函數用於list的數字計算，例如 max()，min() 和 sum()。 \n",
    "* 內建運算符，如 in（包含）、 +（並列）和 *（重複）、 del 、 [i]（索引）和 [m,n,step]（切段）。\n",
    "\n",
    "Notes：\n",
    "* 可以使用**正索引從前面對項目進行索引，或使用負索引從後面對項目進行索引**。例如，如果下例的lst是一個列表:  \n",
    "    - `lst[0]` 與 `lst[1]` 是引用lst它的第一項和第二項；\n",
    "    - `lst[-1]` 與 `lst[-2]` 是引用lst它的最後一項和倒數第二項。\n",
    "* 也可以使用切段符號`lst[m:n:step]`（ **從索引 m（含m）到索引 n（排除n）及其step大小** ）來引用子清單(或切段)\n",
    "![Built-in Functions and Operators for list](./figure/listFunctions_Operators.png)\n",
    "與字串(string)不同，串列(list)是可變的，可以插入、刪除和修改其項目。"
   ]
  },
  {
   "cell_type": "code",
   "execution_count": null,
   "metadata": {},
   "outputs": [
    {
     "name": "stdout",
     "output_type": "stream",
     "text": [
      "[8, 9, 2, 1, 5, 4]\n"
     ]
    },
    {
     "data": {
      "text/plain": [
       "[8, 9, 2, 1, 5, 4, 6, 0]"
      ]
     },
     "execution_count": 4,
     "metadata": {},
     "output_type": "execute_result"
    }
   ],
   "source": [
    "lst = [8,9,2,1]\n",
    "lst[4:] = [5,4]\n",
    "print(lst)\n",
    "# n = len(lst)\n",
    "# lst[n:] = [6,0]\n",
    "lst[len(lst):] = [6,0]  # 在一串列(list)後加入一串列\n",
    "lst"
   ]
  },
  {
   "cell_type": "markdown",
   "metadata": {},
   "source": [
    "使用例：\n",
    "```\n",
    ">>> lst = [123, 4.5, 'hello', True, 6+7j]  # 串列(list)可以包含不同類型的項目\n",
    ">>> lst\n",
    "[123, 4.5, 'hello', True, (6+7j)]\n",
    ">>> len(lst)   # 串列(list)的長度(項目數)\n",
    "5\n",
    ">>> type(lst)\n",
    "<class 'list'>\n",
    "\n",
    "# 以'索引'取得特定元素(\"Indexing\" to get a specific element)\n",
    ">>> lst[0]\n",
    "123\n",
    ">>> lst[-1]   # 負數索引是由尾端開始計算(Negative index from the end)\n",
    "(6+7j)\n",
    "# 以索引作分配(Assignment with indexing)\n",
    ">>> lst[2] = 'world'   # 對該元素給予一值(Assign a value to this element)\n",
    ">>> lst\n",
    "[123, 4.5, 'world', True, (6+7j)]\n",
    "\n",
    "# 以'切段'取得子列表(\"Slicing\" to get a sub-list)\n",
    ">>> lst[0:2]\n",
    "[123, 4.5]\n",
    ">>> lst[:3]   # 與 lst[0:3] 相同\n",
    "[123, 4.5, 'world']\n",
    ">>> lst[2:]   # 與 lst[2: len(lst)] 相同\n",
    "['world', True, (6+7j)]\n",
    ">>> lst[::2]   # 相間元素的區隔值為 2 (Step size of 2 for alternate elements)\n",
    "[123, 'world']\n",
    ">>> lst[::-1]  # 使用負值索引來反轉列表的取值 (Use negative index to reverse the list)\n",
    "['world', 4.5, 123]\n",
    "\n",
    "# 以'切段'給予一值 (Assignment with Slicing)\n",
    ">>> lst[2:4]\n",
    "['world', True]     # 為2元素的子串列(sub-list)\n",
    ">>> lst[2:4] = 0    # 無法將純量分配到一'切段' (Cannot assign a scalar to slice)\n",
    "TypeError: can only assign an iterable  # 只能分配可迭代對象\n",
    "\n",
    ">>> lst[2:4] = [1, 2, 'a', 'b']   # 但可以分配(插入)任意長度的列表到串列的'切段'(But can assign a list of any length)\n",
    ">>> lst\n",
    "[123, 4.5, 1, 2, 'a', 'b', (6+7j)]\n",
    "\n",
    ">>> lst[1:3] = []   # 移除一段子串列(sub-list)\n",
    ">>> lst\n",
    "[123, 2, 'a', 'b', (6+7j)]\n",
    ">>> lst[::2] = ['x', 'y', 'z']   # 可使用區隔值來做迭代(Can use step size)\n",
    ">>> lst\n",
    "['x', 2, 'y', 'b', 'z']\n",
    ">>> lst[::2] = [1, 2, 3, 4]      # 用區隔值來做迭代,需要用相同長度的列表替換(But need to replace by a list of the same length)\n",
    "ValueError: attempt to assign sequence of size 4 to extended slice of size 3\n",
    "\n",
    "# 運算符(Operators): in, +, *, del\n",
    ">>> 'x' in lst  # 運算符 in 以布林值(boolean)傳出\n",
    "True\n",
    ">>> 'a' in lst\n",
    "False\n",
    ">>> lst + [6, 7, 8]   # 運算符 + 將字串相加(Concatenation)\n",
    "['x', 2, 'y', 'b', 'z', 6, 7, 8]\n",
    ">>> lst * 3           # 運算符 * 作重複(Repetition)\n",
    "['x', 2, 'y', 'b', 'z', 'x', 2, 'y', 'b', 'z', 'x', 2, 'y', 'b', 'z']\n",
    ">>> del lst[1]        # 運算符 del 透過索引刪除元素(Remove an element via indexing)\n",
    ">>> lst\n",
    "['x', 'y', 'b', 'z']\n",
    ">>> del lst[::2]      # 移除部分之切段(Remove a slice)\n",
    ">>> lst\n",
    "['y', 'z']\n",
    "\n",
    "# 串列(list)可成巢狀(List can be nested)\n",
    ">>> lst = [123, 4.5, ['a', 'b', 'c']]\n",
    ">>> lst\n",
    "[123, 4.5, ['a', 'b', 'c']]\n",
    ">>> lst[2]\n",
    "['a', 'b', 'c']\n",
    ">>> lst[2][0]    #以'索引'取得巢狀串列(list)的特定元素\n",
    "'a'\n",
    "```"
   ]
  },
  {
   "cell_type": "code",
   "execution_count": null,
   "metadata": {},
   "outputs": [
    {
     "name": "stdout",
     "output_type": "stream",
     "text": [
      "[123, 4.5, 1, 2, 'a', 'b', (6+7j)]\n",
      "[123, 2, 'a', 'b', (6+7j)]\n",
      "['x', 2, 'y', 'b', 'z']\n",
      "[11, 2, 22, 'b', 33]\n",
      "[11, 2, 22]\n",
      "<class 'int'>\n",
      "22 110\n",
      "[11, 2, 22, ['a', 77, 88]]\n"
     ]
    },
    {
     "data": {
      "text/plain": [
       "'a'"
      ]
     },
     "execution_count": 9,
     "metadata": {},
     "output_type": "execute_result"
    }
   ],
   "source": [
    "lst = [123, 4.5, 'world', True, (6+7j)]\n",
    "lst[2:4] = [1, 2, 'a', 'b']\n",
    "print(lst)\n",
    "lst[1:3] = []\n",
    "print(lst)\n",
    "lst[::2] = ['x', 'y', 'z']\n",
    "print(lst)\n",
    "# lst[::2] = [1, 2, 3, 4] # ValueError: attempt to assign sequence of size 4 to extended slice of size 3\n",
    "lst[::2] = [11, 22, 33]\n",
    "print(lst)\n",
    "del lst[3:]\n",
    "print(lst)\n",
    "print(type(lst[2]))\n",
    "print(lst[2],lst[2]*5)\n",
    "\n",
    "lst2=lst+[['a',77,88]]    # List can be nested\n",
    "print(lst2)\n",
    "lst2[3][0]"
   ]
  },
  {
   "cell_type": "markdown",
   "metadata": {},
   "source": [
    "##### **將項目附加到串列(list)** - Appending Items to a list\n",
    "* Python 執行索引範圍(bound)檢查\n",
    "* 無法使用索引附加(Cannot append using indexing)\n",
    "* 可以使用切段(slicing)位置來附加一串列(Can append using slicing)\n",
    "* `append()` 可增列一個項目(append() one item)\n",
    "* `extend()` 可增列一個列表(extend() takes a list)\n",
    "* '+' 傳回一個新串列(list)；在以切段賦值修改清單時、只傳回 None\n",
    "\n",
    "```\n",
    ">>> lst = [123, 'world']\n",
    ">>> lst[2]     # lst串列只有2筆資料,只能用lst[0] & lst[1] -Python performs index bound check\n",
    "IndexError: list index out of range    # lst[2]值無存在,Python檢查會產生索引錯誤(IndexError)\n",
    "\n",
    ">>> lst[len(lst)] = 4.5  # 無法使用索引附加 - lst串列最後值的索引使用 lst[len(lst)-1]\n",
    "IndexError: list assignment index out of range\n",
    "\n",
    ">>> lst[len(lst):] = [4.5]  # 可以使用切段(slicing)來附加\n",
    ">>> lst\n",
    "[123, 'world', 4.5]\n",
    ">>> lst[len(lst):] = [6, 7, 8]  # 使用切片附加列表(Append a list using slicing)\n",
    ">>> lst\n",
    "[123, 'world', 4.5, 6, 7, 8]\n",
    "\n",
    ">>> lst.append('nine')  # append() 可增列一個項目\n",
    ">>> lst\n",
    "[123, 'world', 4.5, 6, 7, 8, 'nine']\n",
    ">>> lst.extend(['a', 'b'])  # extend() 增列一個列表\n",
    ">>> lst\n",
    "[123, 'world', 4.5, 6, 7, 8, 'nine', 'a', 'b']\n",
    "\n",
    ">>> # '+' 傳回一個新串列(list)；在以切段賦值修改清單時、只傳回 None\n",
    ">>> lst + ['c']  # '+' returns a new list; while slicing-assignment modifies the list and returns None\n",
    "[123, 'world', 4.5, 6, 7, 8, 'nine', 'a', 'b', 'c']\n",
    ">>> lst  # No change\n",
    "[123, ' world', 4.5, 6, 7, 8, 'nine', 'a', 'b']\n",
    "```"
   ]
  },
  {
   "cell_type": "code",
   "execution_count": null,
   "metadata": {},
   "outputs": [
    {
     "name": "stdout",
     "output_type": "stream",
     "text": [
      "world\n",
      "[123, 'world', 4.5, 6, 7, 8]\n",
      "[123, 'world', 4.5, 6, 7, 8, ['nine', 'a', 'b']]\n",
      "[123, 'world', 4.5, 6, 7, 8, ['nine', 'a', 'b'], 11, 22, 'ab']\n",
      "[123, 'world', 4.5, 6, 7, 8, 11, 22, 'ab']\n",
      "[123, 'world', 4.5, 6, 7, 8, 11, 22, 'ab', 'c']\n",
      "[11, 22, 'ab', 'c']\n",
      "[123, 'world', 4.5, 6, 7, 8, 11, 22, 'ab', 'd']\n",
      "10\n"
     ]
    },
    {
     "data": {
      "text/plain": [
       "9"
      ]
     },
     "execution_count": 26,
     "metadata": {},
     "output_type": "execute_result"
    }
   ],
   "source": [
    "lst = [123, 'world']\n",
    "print(lst[len(lst)-1])  # lst串列最後值的索引使用\n",
    "lst[len(lst):] = [4.5,6, 7, 8]  #使用切段(slicing)位置來附加一串列\n",
    "print(lst)\n",
    "lst.append(['nine', 'a', 'b'])\n",
    "print(lst)\n",
    "lst.extend([11, 22, 'ab'])\n",
    "print(lst)\n",
    "del lst[6]\n",
    "print(lst)\n",
    "print(lst + ['c'])  # '+' 傳回一個新串列(list)；在以切段賦值修改清單時、只傳回 None\n",
    "print((lst + ['c'])[6:])\n",
    "lst[(len(lst)):]=['d']\n",
    "print(lst)\n",
    "\n",
    "# lst.index(item): return the index of the first occurrence of item; or error.\n",
    "print(len(lst))\n",
    "lst.index('d')"
   ]
  },
  {
   "cell_type": "code",
   "execution_count": null,
   "metadata": {},
   "outputs": [],
   "source": [
    "# '+' 傳回一個新串列(list)；在以切段賦值修改清單時、只傳回 None\n",
    "lst = [123, 'world']\n",
    "lst[(len(lst)):]=['d']"
   ]
  },
  {
   "cell_type": "markdown",
   "metadata": {},
   "source": [
    "##### **複製串列(list)** - Copying a list\n",
    "* 透過切段(slicing)進行複製 - 修改新副本，不改變原件\n",
    "* 透過 `copy()` 函數進行複製 - 同上、修改新副本，不改變原件\n",
    "* 透過 `=`直接賦值（引用）- 修改新副本，原件也更改\n",
    "\n",
    "```\n",
    ">>> l1 = [123, 4.5, 'hello']\n",
    ">>> l2 = l1[:]   # Make a copy via slicing\n",
    ">>> l2\n",
    "[123, 4.5, 'hello']\n",
    ">>> l2[0] = 8    # Modify new copy\n",
    ">>> l2\n",
    "[8, 4.5, 'hello']\n",
    ">>> l1           # No change in original\n",
    "[123, 4.5, 'hello']\n",
    "\n",
    ">>> l3 = l1.copy()   # Make a copy via copy() function, same as above\n",
    "\n",
    "# 與直接賦值對比-Contrast with direct assignment\n",
    ">>> l4 = l1    # Direct assignment (of reference)\n",
    ">>> l4\n",
    "[123, 4.5, 'hello']\n",
    ">>> l4[0] = 8  # Modify new copy\n",
    ">>> l4\n",
    "[8, 4.5, 'hello']\n",
    ">>> l1         # Original also changes\n",
    "[8, 4.5, 'hello']\n",
    "```"
   ]
  },
  {
   "cell_type": "code",
   "execution_count": null,
   "metadata": {},
   "outputs": [
    {
     "name": "stdout",
     "output_type": "stream",
     "text": [
      "[123, 'world', 4.5, 6, 7, 8, 11, 22, 'ab', 'c']\n",
      "['hello', 'world', 4.5, 6, 7, 8, 11, 22, 'ab', 'c']\n",
      "[123, 'world', 'good', 6, 7, 8, 11, 22, 'ab', 'c']\n",
      "[123, 'world', 'good', 6, 7, 8, 11, 22, 'ab', 'c']\n"
     ]
    }
   ],
   "source": [
    "lst = [123, 'world', 4.5, 6, 7, 8, 11, 22, 'ab', 'c']\n",
    "\n",
    "lst_slicing = lst[:]\n",
    "lst_slicing[0] = 'hello'\n",
    "print(lst)\n",
    "print(lst_slicing)\n",
    "\n",
    "lst_equal = lst\n",
    "lst_equal[2] = 'good'\n",
    "print(lst)\n",
    "print(lst_equal)"
   ]
  },
  {
   "cell_type": "markdown",
   "metadata": {},
   "source": [
    "#### **串列(list)特定的成員函數** list-Specific Member Functions\n",
    "串列(list)類別提供了很多成員函數,假設 lst 是串列(list)的一個物件：\n",
    "* `lst.index(item)`: 傳回 'item' 第一次出現於lst的索引(index)；若無此'item'、傳回錯誤。\n",
    "* `lst.append(item)`: 將給定的**項目**附加到 lst 後面、並傳回 None；與切段(slicing)操作相同`lst[len(lst):] = [item]`  \n",
    "* `lst.extend(lst1)`: 將給定的串列(list)附加到 lst 後面、並傳回 None；與切段(slicing)操作相同`lst[len(lst):] = lst1`  \n",
    "* `lst.insert(index, item)`: 在索引前插入給定的項目、並傳回 None；因此，`lst.insert(0, item)` 將項目(item)插在第一個項目之前，而`lst.insert(len(lst), item)` 是將項目(item)插在 lst 的尾端，`與 lst.append(item)` 相同。\n",
    "* `lst.remove(item)`: 從 lst 中刪除第一次出現的項目(item)並傳回 None；；若無此'item'、傳回錯誤。\n",
    "* `lst.pop()`: 刪除並傳回 lst 的最後一項\n",
    "* `lst.pop(index)`: 刪除並傳回 lst 的索引項\n",
    "* `lst.clear()`:從 lst 中刪除所有項目、並傳回 None；與運算子 `del lst[:]` 相同\n",
    "* `lst.count(item)`: 回傳 item 的出現次數\n",
    "* `lst.reverse()`: 反轉列表、並傳回 None\n",
    "* `lst.sort()`: 對清單進行排序、並傳回 None；若串列(list)同時包含'str' and 'int'、傳回錯誤。\n",
    "    - TypeError: '<' not supported between instances of 'str' and 'int'\n",
    "* `lst.copy()`: 傳回 lst 的副本；與 `lst[:]` 相同"
   ]
  },
  {
   "cell_type": "code",
   "execution_count": 37,
   "metadata": {},
   "outputs": [
    {
     "name": "stdout",
     "output_type": "stream",
     "text": [
      "1\n",
      "None\n",
      "['hello', 'world', 22, 33, 44, 55, 66, 77, 88, 99, 'aa']\n",
      "None\n",
      "['hello', 'world', 22, 33, 44, 55, 66, 77, 88, 99, 'aa', 'bb', 'cc', 'dd']\n",
      "None\n",
      "['insert', 'hello', 'world', 22, 33, 44, 55, 66, 77, 88, 99, 'aa', 'bb', 'cc', 'dd']\n",
      "None\n",
      "['insert', 'hello', 'world', 22, 33, 44, 55, 66, 77, 88, 99, 'aa', 'bb', 'cc', 'dd', 'insertEnd']\n",
      "None\n",
      "['insert', 'hello', 'world', 22, 33, 44, 55, 66, 77, 88, 99, 'aa', 'bb', 'cc', 'dd']\n",
      "['insert', 'hello', 'world', 22, 33, 44, 55, 66, 77, 88, 99, 'aa', 'bb', 'cc', 'dd']\n",
      "['insert', 'hello', 'world', 22, 33, 44, 55, 66, 77, 88, 99, 'aa']\n",
      "aa\n",
      "['insert', 'hello', 'world', 22, 33, 44, 55, 66, 77, 88, 99]\n",
      "insert\n",
      "['hello', 'world', 22, 33, 44, 55, 66, 77, 88, 99]\n",
      "None\n",
      "[]\n",
      "1\n",
      "None\n",
      "[99, 88, 77, 66, 55, 44, 33, 22, 'world', 'hello']\n",
      "None\n",
      "['hello', 'insert', 'world']\n"
     ]
    }
   ],
   "source": [
    "lst=['hello', 'world', 22, 33, 44, 55, 66, 77, 88, 99]\n",
    "print(lst.index('world'))  # 傳回'world'的index 1\n",
    "# print(lst.index('god'))  # 傳回 'ValueError: 'god' is not in list\n",
    "\n",
    "print(lst.append('aa'))  # 傳回 None\n",
    "print(lst)\n",
    "\n",
    "lst1=['bb','cc','dd']\n",
    "print(lst.extend(lst1))  # 傳回 None\n",
    "print(lst)\n",
    "\n",
    "print(lst.insert(0,'insert'))  # 傳回 None\n",
    "print(lst)\n",
    "print(lst.insert(len(lst),'insertEnd'))  # 傳回 None\n",
    "print(lst)\n",
    "\n",
    "print(lst.remove('insertEnd'))  # 傳回 None\n",
    "print(lst)\n",
    "print(lst)\n",
    "del lst[12:]\n",
    "print(lst)\n",
    "\n",
    "print(lst.pop())\n",
    "print(lst)\n",
    "\n",
    "print(lst.pop(0))\n",
    "print(lst)\n",
    "\n",
    "print(lst1.clear())  # 傳回 None\n",
    "print(lst1)\n",
    "\n",
    "print(lst.count(22))\n",
    "\n",
    "print(lst.reverse())    # 傳回 None\n",
    "print(lst)\n",
    "\n",
    "lst2=['insert', 'hello', 'world']\n",
    "print(lst2.sort())\n",
    "print(lst2)"
   ]
  },
  {
   "cell_type": "markdown",
   "metadata": {},
   "source": [
    "重申一下\n",
    "* Recall that list is mutable (unlike string which is immutable). These functions modify the list directly. For examples,\n",
    "* **串列(list)是可變的，不像字串(string)是不可變的**。\n",
    "* 上述的函數可直接修改串列(list)。例如，\n",
    "    - 串列(list)中、也可以包含串列(list)\n",
    "    - 可用`lst.append('string')`在後面附加(Append)項目\n",
    "    - 可用`lst.pop(index)`檢索並刪除索引處的項目\n",
    "    - 可用`lst.insert(index, item)` 在索引(index)前插入項目(item)\n",
    "    - del是運算符，不是函數->可用`del lst[index1:index2]` 刪除index1到index2前item之段落\n",
    "    - 串列(list)中可以包含重複值、`lst.remove(item)`刪除給定值的第一項\n",
    "    - 可用`lst.reverse()`反轉列表\n",
    "    - 可用`lst.index(item)`取得指定項目的索引，無此項目、會產生錯誤訊息\n",
    "    - 可用`lst.count(item)`計算指定項目的出現次數\n",
    "    - 可用內建函數`sorted(lst)`傳回排序串列(list)，原lst無排序變動\n",
    "\n",
    "```\n",
    ">>> lst = [123, 4.5, 'hello', [6, 7, 8]]  # 串列(list)中、也可以包含串列(list)\n",
    ">>> lst\n",
    "[123, 4.5, 'hello', [6, 7, 8]]\n",
    ">>> type(lst)  # 顯示類型\n",
    "<class 'list'>\n",
    ">>> dir(lst)   # 顯示 lst 物件(object)的所有屬性(attributes)\n",
    "\n",
    ">>> len(lst)   # 顯示 lst 串列(list)的長度(項目數)\n",
    "4\n",
    ">>> lst.append('apple')  # 在後面附加(Append)項目\n",
    ">>> lst\n",
    "[123, 4.5, 'hello', [6, 7, 8], 'apple']\n",
    ">>> len(lst)\n",
    "5\n",
    ">>> lst.pop(1)     # 檢索並刪除索引處的項目\n",
    "4.5\n",
    ">>> lst\n",
    "[123, 'hello', [6, 7, 8], 'apple']\n",
    ">>> len(lst)\n",
    "4\n",
    ">>> lst.insert(2, 55.66)  # 在索引(index)前插入項目(item)\n",
    ">>> lst\n",
    "[123, 'hello', 55.66, [6, 7, 8], 'apple']\n",
    ">>> del lst[3:]         # 刪除切段（del是運算符，不是函數）\n",
    ">>> lst\n",
    "[123, 'hello', 55.66]\n",
    ">>> lst.append(55.66)   # 串列(list)中可以包含重複值\n",
    ">>> lst\n",
    "[123, 'hello', 55.66, 55.66]\n",
    ">>> lst.remove(55.66)   # 刪除給定值的第一項\n",
    ">>> lst\n",
    "[123, 'hello', 55.66]\n",
    ">>> lst.reverse()       # 反轉列表\n",
    ">>> lst\n",
    "[55.66, 'hello', 123]\n",
    " \n",
    "# 搜尋和排序(Searching and Sorting)\n",
    ">>> lst2 = [5, 8, 2, 4, 1]\n",
    ">>> lst2.sort()     # 就地排序\n",
    ">>> lst2\n",
    "[1, 2, 4, 5, 8]\n",
    ">>> lst2.index(5)   # 取得指定項目的索引\n",
    "3\n",
    ">>> lst2.index(9)\n",
    "......\n",
    "ValueError: 9 is not in list\n",
    ">>> lst2.append(1)\n",
    ">>> lst2\n",
    "[1, 2, 4, 5, 8, 1]\n",
    ">>> lst2.count(1)   # 計算指定項目的出現次數\n",
    "2\n",
    ">>> lst2.count(9)\n",
    "0\n",
    ">>> sorted(lst2)    # 傳回排序串列(list)的內建函數\n",
    "[1, 1, 2, 4, 5, 8]\n",
    ">>> lst2\n",
    "[1, 2, 4, 5, 8, 1]  # 未修改\n",
    "```"
   ]
  },
  {
   "cell_type": "code",
   "execution_count": null,
   "metadata": {},
   "outputs": [
    {
     "name": "stdout",
     "output_type": "stream",
     "text": [
      "['__add__', '__class__', '__class_getitem__', '__contains__', '__delattr__', '__delitem__', '__dir__', '__doc__', '__eq__', '__format__', '__ge__', '__getattribute__', '__getitem__', '__gt__', '__hash__', '__iadd__', '__imul__', '__init__', '__init_subclass__', '__iter__', '__le__', '__len__', '__lt__', '__mul__', '__ne__', '__new__', '__reduce__', '__reduce_ex__', '__repr__', '__reversed__', '__rmul__', '__setattr__', '__setitem__', '__sizeof__', '__str__', '__subclasshook__', 'append', 'clear', 'copy', 'count', 'extend', 'index', 'insert', 'pop', 'remove', 'reverse', 'sort']\n",
      "4\n",
      "[123, 4.5, 'hello', [6, 7, 8], 'apple']  -> len(lst) =  5\n",
      "lst.pop(1) =>  4.5 [123, 'hello', [6, 7, 8], 'apple'] 4\n",
      "[123, 'hello', 44.55, [6, 7, 8], 'apple']\n",
      "[123, 'hello', 44.55]\n",
      "[123, 4.5, 'apple']\n"
     ]
    },
    {
     "ename": "TypeError",
     "evalue": "'<' not supported between instances of 'str' and 'float'",
     "output_type": "error",
     "traceback": [
      "\u001b[1;31m---------------------------------------------------------------------------\u001b[0m",
      "\u001b[1;31mTypeError\u001b[0m                                 Traceback (most recent call last)",
      "Cell \u001b[1;32mIn[3], line 21\u001b[0m\n\u001b[0;32m     18\u001b[0m \u001b[38;5;28;01mdel\u001b[39;00m lst[\u001b[38;5;241m2\u001b[39m:\u001b[38;5;241m4\u001b[39m]\n\u001b[0;32m     19\u001b[0m \u001b[38;5;28mprint\u001b[39m(lst)\n\u001b[1;32m---> 21\u001b[0m \u001b[43mlst\u001b[49m\u001b[38;5;241;43m.\u001b[39;49m\u001b[43msort\u001b[49m\u001b[43m(\u001b[49m\u001b[43m)\u001b[49m\n",
      "\u001b[1;31mTypeError\u001b[0m: '<' not supported between instances of 'str' and 'float'"
     ]
    }
   ],
   "source": [
    "lst = [123, 4.5, 'hello', [6, 7, 8]]\n",
    "print(dir(lst))\n",
    "print(len(lst))\n",
    "\n",
    "lst.append('apple')\n",
    "print(lst,' -> len(lst) = ',len(lst))\n",
    "\n",
    "# 以lst.pop(1)檢索並刪除索引處的項目\n",
    "print('lst.pop(1) => ',lst.pop(1),lst,len(lst))\n",
    "\n",
    "lst.insert(2,44.55)\n",
    "print(lst)\n",
    "\n",
    "del lst[3:]\n",
    "print(lst)\n",
    "\n",
    "lst = [123, 4.5, 'hello', [6, 7, 8], 'apple']\n",
    "del lst[2:4]\n",
    "print(lst)\n",
    "\n",
    "# lst.sort() # TypeError: '<' not supported between instances of 'str' and 'float'\n"
   ]
  },
  {
   "cell_type": "markdown",
   "metadata": {},
   "source": [
    "* 使用串列(list)作為**後進先出堆疊** - Using list as a last-in-first-out Stack\n",
    "    - 若要將串列(list)用作後進先出 (LIFO) 堆疊，可使用 `append(item)` 將項目新增至堆疊頂部 (TOS)，並使用 `pop()` 從 TOS 中刪除該項目。  \n",
    "To use a list as a last-in-first-out (LIFO) stack, use append(item) to add an item to the top-of-stack (TOS) and pop() to remove the item from the TOS.\n",
    "* 使用串列(list)作為**先進先出順序** - Using list as a first-in-first-out Queue\n",
    "    - 若要將串列(list)用作先進先出 (FIFO) 佇列，可使用 append(item) 將項目新增至佇列末尾，並使用 pop(0) 刪除佇列的第一個項目。\n",
    "    To use a list as a first-in-first-out (FIFO) queue, use append(item) to add an item to the end of the queue and pop(0) to remove the first item of the queue.\n",
    "    - 但是 pop(0) 很慢！標準庫提供了一個 `collections.deque` 類別來有效率地實現雙端佇列，支援從兩端快速新增和彈出資料。\n",
    "    However, pop(0) is slow! The standard library provide a class collections.deque to efficiently implement deque with fast appends and pops from both ends."
   ]
  },
  {
   "cell_type": "code",
   "execution_count": 4,
   "metadata": {},
   "outputs": [
    {
     "name": "stdout",
     "output_type": "stream",
     "text": [
      "[123, 4.5, 'hello', [6, 7, 8], 'apple']\n",
      "[123, 4.5, 'hello', [6, 7, 8]]\n",
      "[123, 4.5, 'hello', [6, 7, 8], 'orange']\n",
      "[4.5, 'hello', [6, 7, 8], 'orange']\n"
     ]
    }
   ],
   "source": [
    "lst = [123, 4.5, 'hello', [6, 7, 8]]\n",
    "lst.append('apple') # 後進先出堆疊\n",
    "print(lst)\n",
    "lst.pop()\n",
    "print(lst)\n",
    "\n",
    "lst.append('orange') # 先進先出順序\n",
    "print(lst)\n",
    "lst.pop(0)\n",
    "print(lst)"
   ]
  },
  {
   "cell_type": "markdown",
   "metadata": {},
   "source": [
    "參考[容器資料型態 collections](https://steam.oxxostudio.tw/category/python/library/collections.html)\n",
    "* `import collections`  \n",
    "要使用 collections 必須先 import collections 模組，或使用 from 的方式，單獨 import 特定的類型。\n",
    "* deque  \n",
    "雖然 Python 的 list 已經具有插入和刪除元素的功能，但如果要處理「大量的」項目，就會產生效能不足的狀況，然而使用 collections 將項目轉換為類似 list 的 deque(雙端佇列) 物件，就能以高效率的方式處理 list 資料，當資料變成 deque 物件後，可使用下列的方法操作：\n",
    "\n",
    "|方法\t      |參數\t|說明    |\n",
    "|------------ |-----|-------|\n",
    "|append()\t  |x\t|從最右邊插入元素 |\n",
    "|appendleft() |x\t|從最左邊插入元素|\n",
    "|extend()     |iter\t|從最右邊插入可迭代元素|\n",
    "|extendleft() |iter\t|最左邊插入可迭代元素 (注意 iter 插入的元素順序是相反的)|\n",
    "|count()\t  |x\t|計算某個元素在 deque 物件中出現的次數|\n",
    "|copy()\t\t  |     |淺拷貝 deque 物件|\n",
    "|index()\t  |i\t|取得某個位置的元素|\n",
    "|insert()\t  |i,x\t|在某個位置插入元素|\n",
    "|pop()\t      |x\t|取出並移除最右邊的元素|\n",
    "|popleft()\t  |x\t|取出並移除最左邊的元素|\n",
    "|remove()\t  |x\t|移除第一個找到的元素|\n",
    "|reverse()\t  |\t    |反轉 deque 物件|\n",
    "|rotate()\t  |i\t|將元素往右移動多少格 ( 負值左移動 )|\n",
    "|clear()\t  |\t    |清除 deque 物件|\n",
    "\n",
    "* 取出deque中的串列(list)之使用例：\n",
    "```\n",
    "    from collections import deque\n",
    "    dequeList = []              # 設定一空的list\n",
    "    while len(a) != 0 :         # 若deque a 非空值(empty)\n",
    "        dequeList.append(a[0])  # 在list加入deque的最左邊的item\n",
    "        a.popleft()             # 刪除deque的最左邊的item\n",
    "```"
   ]
  },
  {
   "cell_type": "code",
   "execution_count": null,
   "metadata": {},
   "outputs": [
    {
     "name": "stdout",
     "output_type": "stream",
     "text": [
      "deque(['a', 'b', 'c', 'd', 'e', 'x', 'y'])\n",
      "deque(['y', 'x', 'a', 'b', 'c', 'd', 'e', 'x', 'y'])\n",
      "deque b : deque(['y', 'x', 'a', 'b', 'c', 'd', 'e', 'x', 'y'])\n",
      "2\n",
      "deque(['y', 'x', 'a', 'b', 'c', 'd', 'e', 'x', 'y', 'm', 'n'])\n",
      "deque(['n', 'm', 'y', 'x', 'a', 'b', 'c', 'd', 'e', 'x', 'y', 'm', 'n'])\n",
      "b\n",
      "deque(['n', 'k', 'm', 'y', 'x', 'a', 'b', 'c', 'd', 'e', 'x', 'y', 'm', 'n'])\n",
      "deque(['n', 'k', 'm', 'y', 'x', 'a', 'b', 'c', 'd', 'e', 'x', 'y', 'm'])\n",
      "deque(['k', 'm', 'y', 'x', 'a', 'b', 'c', 'd', 'e', 'x', 'y', 'm'])\n",
      "deque(['k', 'm', 'y', 'a', 'b', 'c', 'd', 'e', 'x', 'y', 'm'])\n",
      "deque(['m', 'y', 'x', 'e', 'd', 'c', 'b', 'a', 'y', 'm', 'k'])\n",
      "deque(['b', 'a', 'y', 'm', 'k', 'm', 'y', 'x', 'e', 'd', 'c'])\n",
      "deque([])\n",
      "5\n",
      "['a', 'b', 'c', 'd', 'e']\n",
      "deque is empty\n",
      "deque a : deque([])\n",
      "deque b : deque(['y', 'x', 'a', 'b', 'c', 'd', 'e', 'x', 'y'])\n",
      "list is : ['y', 'x', 'a', 'b', 'c', 'd', 'e', 'x', 'y']\n"
     ]
    }
   ],
   "source": [
    "from collections import deque\n",
    "\n",
    "lst = ['a','b','c','d','e']\n",
    "# lst = []\n",
    "a = deque(lst)\n",
    "# a = deque(['a','b','c','d','e'])   # 建立 deque 物件\n",
    "\n",
    "a.append('x')\n",
    "a.append('y')        # 在最右邊加入元素\n",
    "print(a)             # deque(['a', 'b', 'c', 'd', 'e', 'x', 'y'])\n",
    "\n",
    "a.appendleft('x')\n",
    "a.appendleft('y')    # 在最左邊加入元素\n",
    "print(a)             # deque(['y', 'x', 'a', 'b', 'c', 'd', 'e', 'x', 'y'])\n",
    "\n",
    "b = a.copy()         # 淺拷貝\n",
    "print('deque b :',b)             # deque(['y', 'x', 'a', 'b', 'c', 'd', 'e', 'x', 'y'])\n",
    "\n",
    "print(a.count('x'))  # 2，計算 x 出現的次數\n",
    "\n",
    "a.extend(['m','n'])  # 在最右邊加入 ['m','n']\n",
    "print(a)             # deque(['y', 'x', 'a', 'b', 'c', 'd', 'e', 'x', 'y', 'm', 'n'])\n",
    "\n",
    "a.extendleft(['m','n'])  # 在最左邊加入 ['m','n']\n",
    "print(a)                 # deque(['n', 'm', 'y', 'x', 'a', 'b', 'c', 'd', 'e', 'x', 'y', 'm', 'n'])\n",
    "\n",
    "print(a[5])      # b，取出第六個元素 (第一個為 0)\n",
    "\n",
    "a.insert(1,'k')  # 在第二個位置插入 k\n",
    "print(a)         # deque(['n', 'k', 'm', 'y', 'x', 'a', 'b', 'c', 'd', 'e', 'x', 'y', 'm', 'n'])\n",
    "\n",
    "a.pop()          # 移除最右邊的元素 n\n",
    "print(a)         # deque(['n', 'k', 'm', 'y', 'x', 'a', 'b', 'c', 'd', 'e', 'x', 'y', 'm'])\n",
    "\n",
    "a.popleft()      # 移除最左邊的元素 n\n",
    "print(a)         # deque(['k', 'm', 'y', 'x', 'a', 'b', 'c', 'd', 'e', 'x', 'y', 'm'])\n",
    "\n",
    "a.remove('x')    # 移除第一個 x\n",
    "print(a)         # deque(['k', 'm', 'y', 'a', 'b', 'c', 'd', 'e', 'x', 'y', 'm'])\n",
    "\n",
    "a.reverse()      # 反轉\n",
    "print(a)         # deque(['m', 'y', 'x', 'e', 'd', 'c', 'b', 'a', 'y', 'm', 'k'])\n",
    "\n",
    "a.rotate(5)      # 往右邊轉移動五格\n",
    "print(a)         # deque(['b', 'a', 'y', 'm', 'k', 'm', 'y', 'x', 'e', 'd', 'c'])\n",
    "\n",
    "a.clear()        # 清空項目\n",
    "print(a)         # deque([])\n",
    "print(len(lst))  # 原列表(list)lst無變化\n",
    "print(lst)\n",
    "\n",
    "# if len(a) is not 0 :  #SyntaxWarning: \"is not\" with a literal. Did you mean \"!=\"?\n",
    "# [ref](https://stackoverflow.com/questions/54107609/python-if-lena-is-not-0-vs-if-a-statements)\n",
    "# Shouldn't be using is not 0 in any case. It should be !=0. – khelwood CommentedJan9, 2019 at 10:12\n",
    "\n",
    "if len(a) != 0 :     # 確認deque中的串列(list)是否有item\n",
    "   print('deque is not empty')\n",
    "else:\n",
    "   print('deque is empty')\n",
    "\n",
    "dequeList = []\n",
    "print('deque a :',a)\n",
    "print('deque b :',b)\n",
    "while len(b) != 0 :  # 取出deque中的串列(list)\n",
    "    dequeList.append(b[0])\n",
    "    b.popleft()\n",
    "\n",
    "print('list is :',dequeList)  "
   ]
  },
  {
   "cell_type": "markdown",
   "metadata": {},
   "source": [
    "<參考> [How to peek front of deque without popping?](https://stackoverflow.com/questions/48640251/how-to-peek-front-of-deque-without-popping)\n",
    "* TL;DR: assuming your deque is called d, just inspect d[0], since the \"leftmost\" element in a deque is the front (you might want to test before the length of the deque to make sure it's not empty). Taking @asongtoruin's suggestion, use if d: to test whether the deque is empty (it's equivalent to `if len(d) != 0:`, but more pythonic)\n",
    "\n",
    "* **Why not converting to list?**  \n",
    "Because deque is indexable and you're testing the front. While a deque has an interface similar to a list, the implementation is optimized for front- and back- operations. Quoting the documentation:"
   ]
  },
  {
   "cell_type": "markdown",
   "metadata": {},
   "source": [
    "#### **元組** - Tuple (v1, v2,...)\n",
    "* 元組(tuple)與串列(list)類似，不同之處在於**它是不可變的**（就像字串string一樣）。因此，元組(tuple)比串列(list)更有效率。元組(tuple)由逗號分隔的項組成，並用括號 () 括起來。\n",
    "* 元組(tuple) `tup` 可用 `lst = list(tup)` 轉出成串列(list) `lst`\n",
    "\n",
    "```\n",
    ">>> tup = (123, 4.5, 'hello')  # A tuple can contain different types\n",
    ">>> tup\n",
    "(123, 4.5, 'hello')\n",
    ">>> tup[1]           # Indexing to get an item\n",
    "4.5\n",
    ">>> tup[1:3]         # Slicing to get a sub-tuple\n",
    "(4.5, 'hello')\n",
    ">>> tup[1] = 9       # Tuple, unlike list, is immutable\n",
    "TypeError: 'tuple' object does not support item assignment\n",
    ">>> type(tup)\n",
    "<class 'tuple'>\n",
    ">>> lst = list(tup)  # Convert to list\n",
    ">>> lst\n",
    "[123, 4.5, 'hello']\n",
    ">>> type(lst)\n",
    "<class 'list'>\n",
    "```"
   ]
  },
  {
   "cell_type": "code",
   "execution_count": null,
   "metadata": {},
   "outputs": [
    {
     "name": "stdout",
     "output_type": "stream",
     "text": [
      "(123, 4.5, 'hello')\n",
      "4.5\n",
      "(4.5, 'hello')\n",
      "<class 'tuple'>\n",
      "[123, 4.5, 'hello', 'world']\n",
      "[4.5, 'hello', 'world']\n",
      "[4.5, 'hello', 'guy']\n",
      "<class 'list'>\n"
     ]
    },
    {
     "ename": "TypeError",
     "evalue": "'tuple' object does not support item assignment",
     "output_type": "error",
     "traceback": [
      "\u001b[1;31m---------------------------------------------------------------------------\u001b[0m",
      "\u001b[1;31mTypeError\u001b[0m                                 Traceback (most recent call last)",
      "Cell \u001b[1;32mIn[10], line 20\u001b[0m\n\u001b[0;32m     16\u001b[0m \u001b[38;5;28mprint\u001b[39m(lst)              \u001b[38;5;66;03m# [4.5, 'hello', 'guy']\u001b[39;00m\n\u001b[0;32m     18\u001b[0m \u001b[38;5;28mprint\u001b[39m(\u001b[38;5;28mtype\u001b[39m(lst))        \u001b[38;5;66;03m# <class 'list'>\u001b[39;00m\n\u001b[1;32m---> 20\u001b[0m \u001b[43mtup\u001b[49m\u001b[43m[\u001b[49m\u001b[38;5;241;43m1\u001b[39;49m\u001b[43m]\u001b[49m \u001b[38;5;241m=\u001b[39m \u001b[38;5;241m9\u001b[39m       \u001b[38;5;66;03m# 與列表不同，元組是不可變的\u001b[39;00m\n\u001b[0;32m     21\u001b[0m \u001b[38;5;66;03m# TypeError: 'tuple' object does not support item assignment\u001b[39;00m\n",
      "\u001b[1;31mTypeError\u001b[0m: 'tuple' object does not support item assignment"
     ]
    }
   ],
   "source": [
    "tup = (123, 4.5, 'hello')  # 元組可以包含不同的類型\n",
    "print(tup)              # (123, 4.5, 'hello') - (整數,浮點數,字串)\n",
    "\n",
    "print(tup[1])          # 索引以取得項目 -> 4.5\n",
    "\n",
    "print(tup[1:3] )        # 切段獲取子元組 -> (4.5, 'hello')\n",
    "\n",
    "print(type(tup))        # <class 'tuple'>\n",
    "\n",
    "lst = list(tup)         # 轉換為串列(list)\n",
    "lst.append('world')\n",
    "print(lst)              # [123, 4.5, 'hello','world']\n",
    "del lst[0]\n",
    "print(lst)              # [4.5, 'hello','world']\n",
    "lst[2]='guy'\n",
    "print(lst)              # [4.5, 'hello', 'guy']\n",
    "\n",
    "print(type(lst))        # <class 'list'>\n",
    "\n",
    "tup[1] = 9              # 與列表不同，元組是不可變的\n",
    "                        # TypeError: 'tuple' object does not support item assignment\n"
   ]
  },
  {
   "cell_type": "markdown",
   "metadata": {},
   "source": [
    "**單項元組(tuple)需要以逗號來在括號内作區分：**\n",
    "* An one-item tuple needs a comma to differentiate from parentheses\n",
    "* 括號内無逗號區分的單項元組(tuple),其類型為此one-item的類型\n",
    "\n",
    "```\n",
    ">>> tup = (5,)  # An one-item tuple needs a comma\n",
    ">>> tup\n",
    "(5,)\n",
    ">>> x = (5)     # Treated as parentheses without comma\n",
    ">>> x\n",
    "5\n",
    "```"
   ]
  },
  {
   "cell_type": "code",
   "execution_count": null,
   "metadata": {},
   "outputs": [
    {
     "name": "stdout",
     "output_type": "stream",
     "text": [
      "(5,)\n",
      "5\n"
     ]
    },
    {
     "data": {
      "text/plain": [
       "int"
      ]
     },
     "execution_count": 13,
     "metadata": {},
     "output_type": "execute_result"
    }
   ],
   "source": [
    "tup = (5,)  # 單項元組(tuple)需要逗號\n",
    "print(tup)  # (5,)\n",
    "\n",
    "x = (5)     # 設為不帶逗號的括號\n",
    "print(x)    # 5\n",
    "type(x)     # x 類型 為整數(int)"
   ]
  },
  {
   "cell_type": "markdown",
   "metadata": {},
   "source": [
    "**元組(tuple)的括號與逗號：**\n",
    "* 括號實際上是可選的，建議使用、可提高可讀性。不過，逗號是必須的。\n",
    "* 可以使用空括號來建立一個空元組，但、空元組毫無用處，因為元組是不可變的\n",
    "例如：\n",
    "```\n",
    ">>> tup = 123, 4.5, 'hello'\n",
    ">>> tup\n",
    "(123, 4.5, 'hello')\n",
    ">>> tup2 = 88,  # one-item tuple needs a trailing commas \n",
    ">>> tup2\n",
    "(88,)\n",
    "\n",
    "# However, we can use empty parentheses to create an empty tuple\n",
    "# Empty tuples are quite useless, as tuples are immutable.\n",
    ">>> tup3 = ()\n",
    ">>> tup3\n",
    "()\n",
    ">>> len(tup3)\n",
    "0\n",
    "```"
   ]
  },
  {
   "cell_type": "markdown",
   "metadata": {},
   "source": [
    "**對元組(tuple)的操作：**\n",
    "可以使用以下命令對元組(tuple)進行操作（假設這tup是一個元組(tuple)）：\n",
    "* 內建函數，例如`len(tup)`；\n",
    "* 用於計數元組(tuple)的內建函數，例如`max(tup)`、`min(tup)`和`sum(tup)`；\n",
    "* 諸如 `in`、`+` 和 `*` 等運算符\n",
    "* tuple的成員函數如`tup.count(item)`、 `tup.index(item)`等。"
   ]
  },
  {
   "cell_type": "markdown",
   "metadata": {},
   "source": [
    "#### **串列(list)與元組(tuple)之間的轉換**  - Conversion between List and Tuple\n",
    "可以使用內建函數 `tuple()` 將串列(list)轉換為元組(tuple)；使用 `list()` 將元組(tuple)轉換為串列(list)。  \n",
    "例如：\n",
    "\n",
    "```\n",
    ">>> tuple([1, 2, 3, 1])  # Convert a list to a tuple\n",
    "(1, 2, 3, 1)\n",
    ">>> list((1, 2, 3, 1))   # Convert a tuple to a list\n",
    "[1, 2, 3, 1]\n",
    "```"
   ]
  },
  {
   "cell_type": "code",
   "execution_count": 16,
   "metadata": {},
   "outputs": [
    {
     "name": "stdout",
     "output_type": "stream",
     "text": [
      "[1, 2, 3, 4]\n",
      "<class 'list'>\n"
     ]
    }
   ],
   "source": [
    "tup = (1, 2, 3, 4)\n",
    "print(list(tup))\n",
    "print(type(list(tup)))"
   ]
  },
  {
   "cell_type": "markdown",
   "metadata": {},
   "source": [
    "### **字典（關聯數組**）- Dictionary (Associative Array) {k1:v1, k2:v2,...}\n",
    "Python 的內建字典(dictionary)類型支援\"鍵-值\"對（也稱為 \"名稱-值\" 對,關聯陣列,或映射）。\n",
    "* 字典由一對大括號括起來{}，鍵(key)和值(value)以冒號 ( : ) 分隔，形式為{k1:v1, k2:v2, ...}\n",
    "* 與使用整數索引 0、1、2、3、... 對項目進行索引的串列(list)及元組(tuple)不同，字典(dictionary)可以使用任何鍵類型進行索引、其包括數字、字串或其他類型。\n",
    "* **字典是可變的**。\n",
    "\n",
    "```\n",
    ">>> dct = {'name':'Peter', 'gender':'male', 'age':21}\n",
    ">>> dct\n",
    "{'name':'Peter', 'gender':'male', 'age':21}\n",
    ">>> dct['name']       # Get value via key\n",
    "'Peter'\n",
    ">>> dct['age'] = 22   # Re-assign a value\n",
    ">>> dct\n",
    "{'name':'Peter', 'gender':'male', 'age':22}\n",
    ">>> len(dct)\n",
    "3\n",
    ">>> dct['email'] = 'peter@nowhere.com'   # Add new item\n",
    ">>> dct\n",
    "{'name': 'Peter', 'gender': 'male', 'age': 22, 'email': 'peter@nowhere.com'}\n",
    ">>> type(dct)\n",
    "<class 'dict'>\n",
    "\n",
    "# Use dict() built-in function to create a dictionary\n",
    ">>> dct2 = dict([('a', 1), ('c', 3), ('b', 2)])  # Convert a list of 2-item tuples into a dictionary\n",
    ">>> dct2\n",
    "{'a': 1, 'c': 3, 'b': 2}\n",
    "```"
   ]
  },
  {
   "cell_type": "code",
   "execution_count": null,
   "metadata": {},
   "outputs": [
    {
     "name": "stdout",
     "output_type": "stream",
     "text": [
      "{'name': 'Peter', 'gender': 'male', 'age': 21}\n",
      "{'name': 'Peter', 'gender': 'male', 'age': 22}\n",
      "3\n",
      "{'name': 'Peter', 'gender': 'male', 'age': 22, 'email': 'peter@nowhere.com'}\n",
      "<class 'dict'>\n",
      "{'a': 1, 'c': 3, 'b': 2}\n"
     ]
    }
   ],
   "source": [
    "dct = {'name':'Peter', 'gender':'male', 'age':21}\n",
    "print(dct)                   # {'name':'Peter', 'gender':'male', 'age':21}\n",
    "dct['name']                  # 透過鍵獲取值 -> 'Peter'\n",
    "dct['age'] = 22              # R重新分配一個值\n",
    "print(dct)                   # {'name': 'Peter', 'gender': 'male', 'age': 22}\n",
    "print(len(dct))              # 3\n",
    "dct['email'] = 'peter@nowhere.com'   # 新增項目(item)\n",
    "print(dct)                   # {'name': 'Peter', 'gender': 'male', 'age': 22, 'email': 'peter@nowhere.com'}\n",
    "print(type(dct))             # <class 'dict'>\n",
    "\n",
    "# 使用 dict() 內建函數建立字典(dictionary)\n",
    "dct2 = dict([('a', 1), ('c', 3), ('b', 2)])  # 將包含 2 個元素的元組(tuple)之串列(list)轉換為字典(dictionary)\n",
    "print(dct2)                  # {'a': 1, 'c': 3, 'b': 2}"
   ]
  },
  {
   "cell_type": "markdown",
   "metadata": {},
   "source": [
    "#### **字典特定的成員函數** - Dictionary-Specific Member Functions\n",
    "dict類別有很多成員方法，常用的有以下幾種（假設`dct`是一個dict物件）：  \n",
    "The dict class has many member methods. The commonly-used are follows (suppose that dct is a dict object):\n",
    "\n",
    "* `dct.has_key()`:  用來判斷鍵是否存在於字典中，如果鍵在字典dict 裡傳回true，否則回傳false。\n",
    "    - 注意： Python 3.X 不支援此方法。\n",
    "    - [參考](https://www.runoob.com/python/att-dictionary-has_key.html)\n",
    "        * 可以用`__contains__(key)` 取代\n",
    "        * 在3.X 中還可以使用`in` 運算子\n",
    "    - 也可用`dct.get()` 活用取代\n",
    "\n",
    "* 取出鍵-值or鍵or值成為一串列(list)\n",
    "    * `dct.items()`: 取出鍵-值對作的元組(tuple)成為一串列(list)\n",
    "    * `dct.keys()` : 取出所有鍵(key)作成一串列(list)\n",
    "    * `dct.values()`: 取出鍵-值對作的元組(tuple)成為一串列(list)\n",
    "* `dct.clear()`: 清除字典(dictionary) dct內的所有項目，成為一個空字典\n",
    "* `dct.copy()`: 複製字典(dictionary) dct內的所有項目，成為一個新的獨立字典\n",
    "* `dct.get()` : 使用 get() 來取得一指定鍵(key)的值(value)\n",
    "    - `dct.get(item0,item1)` : 檢索項目0(item0)，若此無指定鍵(key)、傳回項目1(item1)\n",
    "    - `dct.get(item0)` :  檢索項目0(item0)，若此無指定鍵(key)、無傳回\n",
    "    - `dct[item0]` :  若直接在字典(dictionary)檢索項目0(item0)，若此無指定鍵(key)、傳回錯誤(raises KeyError)\n",
    "* `dct.update(dct2)`: 將要給予字典(dictionary) dct2 合併到 dct 中。\n",
    "    - 如果鍵(key)存在，則覆蓋值(value)；否則，新增新的 鍵-值 對。\n",
    "    - merge the given dictionary dct2 into dct. Override the value if key exists, else, add new key-value.\n",
    "* `dct.pop()`: 刪除給定鍵的項目,並傳回給定鍵的值(value)\n",
    "    - `dct.pop(key)`: 如果未找到鍵(key)，則引發 KeyError (Raise KeyError)\n",
    "    - `dct.pop(key,item)`: 如果鍵(key)不存在，則提供預設值(item)\n",
    "\n",
    "例如：\n",
    "```\n",
    ">>> dct = {'name':'Peter', 'age':22, 'gender':'male'}\n",
    ">>> dct\n",
    "{'gender': 'male', 'name': 'Peter', 'age': 22}\n",
    "\n",
    ">>> type(dct)  # Show type\n",
    "<class 'dict'>\n",
    ">>> dir(dct)   # Show all attributes of dct object\n",
    "......\n",
    "\n",
    ">>> list(dct.keys())       # Get all the keys as a list\n",
    "['gender', 'name', 'age']\n",
    ">>> list(dct.values())     # Get all the values as a list\n",
    "['male', 'Peter', 22]\n",
    ">>> list(dct.items())      # Get key-value as tuples\n",
    "[('gender', 'male'), ('name', 'Peter'), ('age', 22)]\n",
    "\n",
    "# You can also use get() to retrieve the value of a given key\n",
    ">>> dct.get('age', 'not such key')  # Retrieve item\n",
    "22\n",
    ">>> dct.get('height', 'not such key')\n",
    "'not such key'\n",
    ">>> dct['height']\n",
    "KeyError: 'height'\n",
    "    # Indexing an invalid key raises KeyError, while get() could gracefully handle invalid key\n",
    "\n",
    ">>> del dct['age']   # Delete (Remove) an item of the given key\n",
    ">>> dct\n",
    "{'gender': 'male', 'name': 'Peter'}\n",
    "\n",
    ">>> 'name' in dct\n",
    "True\n",
    "\n",
    ">>> dct.update({'height':180, 'weight':75})  # Merge the given dictionary\n",
    ">>> dct\n",
    "{'height': 180, 'gender': 'male', 'name': 'Peter', 'weight': 75}\n",
    "\n",
    ">>> dct.pop('gender')  # Remove and return the item with the given key \n",
    "'male'\n",
    ">>> dct\n",
    "{'name': 'Peter', 'weight': 75, 'height': 180}\n",
    ">>> dct.pop('no_such_key')   # Raise KeyError if key not found\n",
    "KeyError: 'no_such_key'\n",
    ">>> dct.pop('no_such_key', 'not found')   # Provide a default if key does not exist\n",
    "'not found'\n",
    "```"
   ]
  },
  {
   "cell_type": "code",
   "execution_count": null,
   "metadata": {},
   "outputs": [],
   "source": [
    "dct = {'name':'Peter', 'age':22, 'gender':'male'}\n",
    "dct      # {'gender': 'male', 'name': 'Peter', 'age': 22}\n",
    "\n",
    "type(dct)  # 顯示類型 -> <class 'dict'>\n",
    "dir(dct)   # 顯示 dct 物件(object)的所有屬性(attributes) -> ......\n",
    "\n",
    "list(dct.keys())       # 取出所有鍵(key)作成一串列(list) -> ['gender', 'name', 'age']\n",
    "list(dct.values())     # 取出所有值(value)作成一串列(list) -> ['male', 'Peter', 22]\n",
    "list(dct.items())      # 取出鍵-值對作的元組(tuple)成為一串列(list) -> [('gender', 'male'), ('name', 'Peter'), ('age', 22)]\n",
    "\n",
    "# 可以使用 get() 來取得一指定鍵(key)的值(value)\n",
    "# You can also use get() to retrieve the value of a given key\n",
    "dct.get('age', 'not such key')  # 檢索項目(item) -> 22\n",
    "dct.get('height', 'not such key')   # 檢索項目0('height')、傳回項目1('not such key')\n",
    "dct['height']    # raises KeyError: 'height'\n",
    "    # Indexing an invalid key raises KeyError, while get() could gracefully handle invalid key\n",
    "    # 索引無效鍵會引發 KeyError，而 get() 可以正常處理無效鍵\n",
    "\n",
    "del dct['age']   # 刪除(移除)給定鍵(key)的項目(item)_Delete (Remove) an item of the given key\n",
    "dct              # {'gender': 'male', 'name': 'Peter'}\n",
    "\n",
    "'name' in dct    # 傳回布林值 True\n",
    "\n",
    "dct.update({'height':180, 'weight':75})  # 合併給定的字典\n",
    "dct              # {'name': 'Peter', 'gender': 'male', 'height': 175, 'weight': 65}\n",
    "\n",
    "dct.pop('gender')  # 刪除給定鍵的項目,並傳回給定鍵的值(value) _ Remove and return the item with the given key > 'male'\n",
    "dct              # {'name': 'Peter', 'height': 180, 'weight': 75}\n",
    "dct.pop('no_such_key')   # 如果未找到鍵(key)，則引發 KeyError _ Raise KeyError if key not found -> KeyError: 'no_such_key'\n",
    "dct.pop('no_such_key', 'not found')   # 如果鍵(key)不存在，則提供預設值(item1)_ Provide a default if key does not exist\n",
    "'not found'"
   ]
  },
  {
   "cell_type": "code",
   "execution_count": null,
   "metadata": {},
   "outputs": [
    {
     "name": "stdout",
     "output_type": "stream",
     "text": [
      "True\n",
      "has the key\n",
      "has the key\n"
     ]
    }
   ],
   "source": [
    "dct = {'name':'Peter', 'age':22, 'gender':'male'}\n",
    "print(dct.__contains__('name'))\n",
    "if 'age' in dct:\n",
    "    print('has the key')\n",
    "else:\n",
    "    print('has not the key')\n",
    "\n",
    "if dct.get('gender') != '':\n",
    "    print('has the key')\n",
    "else:\n",
    "    print('has not the key')"
   ]
  },
  {
   "cell_type": "code",
   "execution_count": 3,
   "metadata": {},
   "outputs": [
    {
     "name": "stdout",
     "output_type": "stream",
     "text": [
      "no item\n",
      "175\n",
      "{'name': 'Peter', 'age': 22, 'gender': 'male', 'height': 175, 'weight': 65}\n",
      "male\n",
      "22\n",
      "{'name': 'Peter', 'height': 175, 'weight': 65}\n",
      "{}\n"
     ]
    },
    {
     "data": {
      "text/plain": [
       "{'name': 'Peter', 'height': 175, 'weight': 65}"
      ]
     },
     "execution_count": 3,
     "metadata": {},
     "output_type": "execute_result"
    }
   ],
   "source": [
    "dct = {'name':'Peter', 'age':22, 'gender':'male'}\n",
    "print(dct.get('height','no item'))\n",
    "dct.update({'height':175,'weight':65})\n",
    "print(dct.get('height','not got the item'))\n",
    "print(dct)\n",
    "print(dct.pop('gender'))\n",
    "print(dct.pop('age','not found age'))\n",
    "\n",
    "dctCopy = dct.copy()\n",
    "print(dctCopy)\n",
    "dct.clear()\n",
    "print(dct)\n",
    "dctCopy\n"
   ]
  },
  {
   "cell_type": "markdown",
   "metadata": {},
   "source": [
    "#### **集合{k1, k2,...}** - Set {k1, k2,...}\n",
    "* **集合是一個無次序、不重複的物件集合**。集合由大括號{}區隔，就像字典一樣。\n",
    "* 可以將集合視為字典只有鍵的集合，其不包含任何關聯值。\n",
    "* 集合是可變的。\n",
    "\n",
    "例如，\n",
    "A set is an unordered, non-duplicate collection of objects. A set is delimited by curly braces {}, just like dictionary. You can think of a set as a collection of dictionary keys without associated values. Sets are mutable.For example,\n",
    "\n",
    "```\n",
    ">>> st = {123, 4.5, 'hello', 123, 'Hello'}\n",
    ">>> st         # 重複項已刪除，順序可能會改變-Duplicate removed and ordering may change\n",
    "{'Hello', 'hello', 123, 4.5}\n",
    ">>> 123 in st  # 測試成員資格-Test membership\n",
    "True\n",
    ">>> 88 in st\n",
    "False\n",
    "\n",
    "# 使用內建函數 set() 建立一個集合。\n",
    "# Use the built-in function set() to create a set.\n",
    ">>> st2 = set([2, 1, 3, 1, 3, 2])  # 將串列(list)轉換為集合，會刪除重複項並進行無序處理。-Convert a list to a set. Duplicate removed and unordered.\n",
    ">>> st2\n",
    "{1, 2, 3}\n",
    ">>> st3 = set('hellllo')  # 將字串轉換為字元集合。- Convert a string to a character set.\n",
    ">>> st3\n",
    "{'o', 'h', 'e', 'l'}\n",
    "```"
   ]
  },
  {
   "cell_type": "code",
   "execution_count": 5,
   "metadata": {},
   "outputs": [
    {
     "data": {
      "text/plain": [
       "{' ',\n",
       " 'D',\n",
       " 'a',\n",
       " 'c',\n",
       " 'd',\n",
       " 'e',\n",
       " 'i',\n",
       " 'l',\n",
       " 'm',\n",
       " 'n',\n",
       " 'o',\n",
       " 'p',\n",
       " 'r',\n",
       " 't',\n",
       " 'u',\n",
       " 'v'}"
      ]
     },
     "execution_count": 5,
     "metadata": {},
     "output_type": "execute_result"
    }
   ],
   "source": [
    "st2Set = set('Duplicate removed and unordered')\n",
    "st2Set"
   ]
  },
  {
   "cell_type": "markdown",
   "metadata": {},
   "source": [
    "#### **集合的特定運算符** - Set-Specific Operators (&, |, -, ^)\n",
    "**Python 支援集合運算子**\n",
    "* &（交集）- intersection\n",
    "* |（聯集）- union\n",
    "* -（差集）- difference\n",
    "* ^（排他）- exclusive-or : 無交集的其他所有部分  \n",
    "例如：\n",
    "```\n",
    ">>> st1 = {'a', 'e', 'i', 'o', 'u'}\n",
    ">>> st1\n",
    "{'e', 'o', 'u', 'a', 'i'}\n",
    ">>> st2 = set('hello')  # Convert a string to a character set\n",
    ">>> st2\n",
    "{'o', 'l', 'e', 'h'}\n",
    ">>> st1 & st2   # Set intersection\n",
    "{'o', 'e'}\n",
    ">>> st1 | st2   # Set union\n",
    "{'o', 'l', 'h', 'i', 'e', 'a', 'u'}\n",
    ">>> st1 - st2   # Set difference\n",
    "{'i', 'u', 'a'}\n",
    ">>> st1 ^ st2   # Set exclusive-or\n",
    "{'h', 'i', 'u', 'a', 'l'}\n",
    "```"
   ]
  },
  {
   "cell_type": "code",
   "execution_count": null,
   "metadata": {},
   "outputs": [
    {
     "name": "stdout",
     "output_type": "stream",
     "text": [
      "{'h', 'l', 'e', 'o'}\n",
      "{'l', 'o'}\n",
      "{'l', 'e', 'd', 'r', 'h', 'w', 'o'}\n",
      "{'w', 'd', 'r'}\n",
      "{'e', 'd', 'r', 'h', 'w'}\n"
     ]
    },
    {
     "data": {
      "text/plain": [
       "{'d', 'e', 'h', 'l', 'o', 'r', 'w'}"
      ]
     },
     "execution_count": 2,
     "metadata": {},
     "output_type": "execute_result"
    }
   ],
   "source": [
    "st1 = {'w', 'o', 'r', 'l', 'd'}\n",
    "st2 = set('hello')\n",
    "print(st2)\n",
    "print(st1 & st2)\n",
    "print(st1 | st2)  # 沒依照字母順序編排\n",
    "print(st1-st2)\n",
    "print(st1^st2)\n",
    "st3 = st1 | st2\n",
    "st3               # 依照字母順序編排"
   ]
  },
  {
   "cell_type": "markdown",
   "metadata": {},
   "source": [
    "#### **序列類型** - Sequence Types: list, tuple, str\n",
    "* list、tuple和str是序列類型的一部分。\n",
    "* list是可變的，而tuple和str是不可變的。\n",
    "* 它們共享序列的內建運算子和內建函數，如下所示：\n",
    "\n",
    "![Built-in Functions and Operators for sequence](./figure/sequenceTypes.png)"
   ]
  },
  {
   "cell_type": "code",
   "execution_count": 22,
   "metadata": {},
   "outputs": [
    {
     "name": "stdout",
     "output_type": "stream",
     "text": [
      "items of the sequence :  8\n",
      "min value in the sequence :  0\n",
      "max value in the sequence :  33\n",
      "sequences of concatenation :  [0, 11, 22, 33, 'aa', 'bb', 'cc', '33', 'dd']\n",
      "index of the item in the sequence :  4\n",
      "count of the item in the sequence :  1\n",
      "count of the item in counted sequence :  3\n",
      "count of the item in the Tuple :  1\n",
      "count of the item in counted Tuple :  4\n"
     ]
    }
   ],
   "source": [
    "seq = [0,11,22,33,'aa','bb','cc','33']\n",
    "print('items of the sequence : ' , len(seq))\n",
    "seq1 = seq[:4]\n",
    "print('min value in the sequence : ' , min(seq1))   # min(seq)會 TypeError: '<' not supported between instances of 'str' and 'int'\n",
    "print('max value in the sequence : ' , max(seq1))\n",
    "print('sequences of concatenation : ',seq + ['dd'])\n",
    "print('index of the item in the sequence : ',(seq.index('aa',0,5)))\n",
    "print('count of the item in the sequence : ',(seq.count('aa')))\n",
    "seq *= 3\n",
    "print('count of the item in counted sequence : ',(seq.count('aa')))\n",
    "\n",
    "tup = (0,11,22,33,'aa','bb','cc','33')\n",
    "print('count of the item in the Tuple : ',(tup.count('aa')))\n",
    "tup *= 4\n",
    "print('count of the item in counted Tuple : ',(tup.count('aa')))"
   ]
  },
  {
   "cell_type": "markdown",
   "metadata": {},
   "source": [
    "對於**可變序列(list)**，以下如下表支援list\n",
    "* 內建運算子\n",
    "* 內建函數(func(seq))\n",
    "* 成員函數(seq.func(*args))\n",
    "\n",
    "![Functions and Operators for list](./figure/OperationsOfList.png)"
   ]
  },
  {
   "cell_type": "code",
   "execution_count": 29,
   "metadata": {},
   "outputs": [
    {
     "name": "stdout",
     "output_type": "stream",
     "text": [
      "items of the sequence :  8\n",
      "seq1.clear()-> seq1 =>  None\n",
      "seq1 = seq[0:4] => [0, 11, 22, 33]\n",
      "seq += seq1 => [0, 11, 22, 33, 'aa', 'bb', 'cc', '33', 0, 11, 22, 33]\n",
      "seq[4] = 44 => [0, 11, 22, 33, 44, 'bb', 'cc', '33', 0, 11, 22, 33]\n",
      "del seq[8:] => [0, 11, 22, 33, 44, 'bb', 'cc', '33']\n",
      "eq.append(tuple(seq1)) => [0, 11, 22, 33, 44, 'bb', 'cc', '33', (0, 11, 22, 33)]\n",
      "seq.insert(5,'aa')     => [0, 11, 22, 33, 44, 'aa', 'bb', 'cc', '33', (0, 11, 22, 33)]\n",
      "seq.remove(tuple(seq1))=> [0, 11, 22, 33, 44, 'aa', 'bb', 'cc', '33']\n",
      "seq.pop()  => [0, 11, 22, 33, 44, 'aa', 'bb', 'cc']\n",
      "seq.pop(4) => [0, 11, 22, 33, 'aa', 'bb', 'cc']\n",
      "seqCopy = seq.copy() => [0, 11, 22, 33, 'aa', 'bb', 'cc']\n",
      "seqCopy(opy of seq) & seq => [] [0, 11, 22, 33, 'aa', 'bb', 'cc']\n"
     ]
    },
    {
     "data": {
      "text/plain": [
       "['cc', 'bb', 'aa', 33, 22, 11, 0]"
      ]
     },
     "execution_count": 29,
     "metadata": {},
     "output_type": "execute_result"
    }
   ],
   "source": [
    "seq = [0,11,22,33,'aa','bb','cc','33']\n",
    "print('items of the sequence : ' , len(seq))\n",
    "seq1 = seq[:]        # seq1 = seq1.clear() 才不會連動使 seq 成空list ([])\n",
    "seq1 = seq1.clear() \n",
    "print('seq1.clear()-> seq1 => ',seq1)  # 清空seq1 => 空list 傳出 None\n",
    "\n",
    "seq1 = seq[0:4]  # Slicing to get a sub-sequence seq[m,n],From index m (included) to n (excluded) with step size\n",
    "print('seq1 = seq[0:4] =>',seq1)\n",
    "\n",
    "seq += seq1       # Extend by seq1\n",
    "print('seq += seq1 =>',seq)\n",
    "\n",
    "seq[4] = 44       # Replace one item of the sequence's index\n",
    "print('seq[4] = 44 =>',seq)\n",
    "\n",
    "del seq[8:]       # Delete more items, same as: seq[m:n] = []\n",
    "print('del seq[8:] =>',seq)\n",
    "\n",
    "seq.append(tuple(seq1))     # Append x to the end of the sequence, same as: seq[len(seq):len(seq)] = [x]\n",
    "print('eq.append(tuple(seq1)) =>',seq)\n",
    "\n",
    "seq.insert(5,'aa')        # seq.insert(index,item)\n",
    "print(\"seq.insert(5,'aa')     =>\", seq)\n",
    "\n",
    "seq.remove(tuple(seq1))     # Remove the first occurrence of x\n",
    "print('seq.remove(tuple(seq1))=>',seq)\n",
    "\n",
    "seq.pop()     # Retrieve and remove the last item,\n",
    "print('seq.pop()  =>',seq)\n",
    "seq.pop(4)  # Retrieve and remove the item at index i\n",
    "print('seq.pop(4) =>',seq)\n",
    "\n",
    "seqCopy = seq.copy()   # Create a shallow copy of seq, same as: seq[:]\n",
    "print('seqCopy = seq.copy() =>',seqCopy)\n",
    "seqCopy.clear()\n",
    "print('seqCopy(opy of seq) & seq =>',seqCopy,seq)     # eqCopy(opy of seq)與seq是獨立的\n",
    "\n",
    "seqCopy = seq.copy()\n",
    "seqCopy.reverse()\n",
    "seqCopy\n"
   ]
  },
  {
   "cell_type": "markdown",
   "metadata": {},
   "source": [
    "### **流程控制結構** - Flow Control Constructs\n",
    "#### **條件式 if-elif-else** - Conditional if-elif-else\n",
    "語法如下： 其中 elif（else-if）和 else 區塊是可選的\n",
    "\n",
    "```\n",
    "# if-else\n",
    "if test:   # test式中不需要括號\n",
    "    true_block\n",
    "else:\n",
    "    false_block\n",
    "\n",
    "# Nested-if 巢狀if\n",
    "if test_1:\n",
    "    block_1\n",
    "elif test_2:\n",
    "    block_2\n",
    "elif test_3:\n",
    "    block_3\n",
    "......\n",
    "......\n",
    "elif test_n:\n",
    "    block_n\n",
    "else:\n",
    "    else_block\n",
    "```\n",
    "\n",
    "There is no switch-case statement in Python (as in C/C++/Java). ??????"
   ]
  },
  {
   "cell_type": "code",
   "execution_count": 34,
   "metadata": {},
   "outputs": [
    {
     "name": "stdout",
     "output_type": "stream",
     "text": [
      "x is more than zero\n",
      "age :  22\n"
     ]
    }
   ],
   "source": [
    "# 案例\n",
    "dct = {'name': 'Peter', 'age': 22, 'gender': 'male', 'height': 175, 'weight': 65}\n",
    "# x = dct['age']\n",
    "x = dct.get('age','no item')\n",
    "\n",
    "if x == 0:    # test條件不需要用括號括起來\n",
    "    print('x is zero')\n",
    "elif x > 0:\n",
    "    print('x is more than zero')\n",
    "    print('age : ' , x)\n",
    "else:\n",
    "    print('x is less than zero')\n",
    "    print('yyyy')"
   ]
  },
  {
   "cell_type": "markdown",
   "metadata": {},
   "source": [
    "#### **比較運算符和邏輯運算符** - Comparison and Logical Operators\n",
    "Python 支援這些比較（關係）運算符，它們會傳回True或False 的bool值。\n",
    "* 比較運算符：這與 C/C++/Java 相同）\n",
    "    * `<`（小於）、\n",
    "    * `<=`（小於等於）、\n",
    "    * `==`（等於）、\n",
    "    * `!=`（不等於）、\n",
    "    * `>`（大於）、\n",
    "    * `>=`（大於等於）。   \n",
    "* `in` , `not in`：檢查某個項目是否在序列中（列表、元組、字串、集合等 - list, tuple, string, set, etc).。  \n",
    "* `is` , `is not`：檢查兩個變數是否有相同的引用。  \n",
    "Python 支援以下邏輯（布林）運算符：and, or, not (C/C++/Java uses &&, ||, !)"
   ]
  },
  {
   "cell_type": "code",
   "execution_count": 3,
   "metadata": {},
   "outputs": [
    {
     "name": "stdout",
     "output_type": "stream",
     "text": [
      "no item\n"
     ]
    }
   ],
   "source": [
    "# 案例\n",
    "dct = {'name': 'Peter', 'age': -1, 'gender': 'male', 'height': 175, 'weight': 65}\n",
    "# x = dct['age']\n",
    "x = dct.get('age','no item')\n",
    "\n",
    "if 'age' in dct and x >= 0:\n",
    "    if x == 0:    # test條件不需要用括號括起來\n",
    "        print('x is zero')\n",
    "    elif x > 0:\n",
    "        print('x is more than zero')\n",
    "        print('age : ' , x)\n",
    "    else:\n",
    "        print('x is less than zero')\n",
    "        print('yyyy')\n",
    "else:\n",
    "    print('no item')"
   ]
  },
  {
   "cell_type": "markdown",
   "metadata": {},
   "source": [
    "#### **串鏈式比較** - Chain Comparison v1 < x < v2\n",
    "Python 支援以下形式的串鏈式比較 v1 < x < v2，例如：\n",
    "\n",
    "```\n",
    ">>> x = 8\n",
    ">>> 1 < x < 10\n",
    "True\n",
    ">>> 1 < x and x < 10  # Same as above\n",
    "True\n",
    ">>> 10 < x < 20\n",
    "False\n",
    ">>> 10 > x > 1\n",
    "True\n",
    ">>> not (10 < x < 20)\n",
    "True\n",
    "```"
   ]
  },
  {
   "cell_type": "markdown",
   "metadata": {},
   "source": [
    "##### **比較序列** - Comparing Sequences\n",
    "* 比較運算子（例如 ==, <=）會被重載以支援序列（例如 字串、串列和元組 _ string, list and tupl）。\n",
    "* 在比較序列時，會比較兩個序列中的第一個項。如果它們不同，則確定結果。否則，比較下一個項，依此類推。\n",
    "```\n",
    "# String\n",
    ">>> 'a' < 'b'     # First items differ\n",
    "True\n",
    ">>> 'ab' < 'aa'   # First items the same. Second items differ\n",
    "False\n",
    ">>> 'a' < 'b' < 'c'   # with chain comparison\n",
    "True\n",
    "\n",
    "# Tuple\n",
    ">>> (1, 2, 3) < (1, 2, 4)  # First and second items the same. Third items differ\n",
    "True\n",
    "# List\n",
    ">>> [1, 2, 3] <= [1, 2, 3]  # All items are the same\n",
    "True\n",
    ">>> [1, 2, 3] < [1, 2, 3]\n",
    "False\n",
    "```"
   ]
  },
  {
   "cell_type": "code",
   "execution_count": 3,
   "metadata": {},
   "outputs": [
    {
     "name": "stdout",
     "output_type": "stream",
     "text": [
      "False\n"
     ]
    },
    {
     "data": {
      "text/plain": [
       "True"
      ]
     },
     "execution_count": 3,
     "metadata": {},
     "output_type": "execute_result"
    }
   ],
   "source": [
    "print('ab' < 'aa')\n",
    "[1, 2, 3] <= [1, 2, 3]"
   ]
  },
  {
   "cell_type": "markdown",
   "metadata": {},
   "source": [
    "##### **if-else 簡寫（或條件表達式）** Shorthand if-else (or Conditional Expression)\n",
    "\n",
    "語法是：  \n",
    "`true_expr if test else false_expr` # 如果`test`為真，則評價並傳回 `true_expr`；否則，評價並傳回 `false_expr`\n",
    "    \n",
    "例如，\n",
    "```\n",
    ">>> x = 0\n",
    ">>> print('zero' if x == 0 else 'not zero')\n",
    "zero\n",
    " \n",
    ">>> x = -8\n",
    ">>> abs_x = x if x > 0 else -x\n",
    ">>> abs_x\n",
    "8\n",
    "```\n",
    "注意：Python 不像C/C++/Java 那樣使用“ ? :”作為簡寫。if-else"
   ]
  },
  {
   "cell_type": "code",
   "execution_count": 4,
   "metadata": {},
   "outputs": [
    {
     "data": {
      "text/plain": [
       "8"
      ]
     },
     "execution_count": 4,
     "metadata": {},
     "output_type": "execute_result"
    }
   ],
   "source": [
    "x = -8\n",
    "abs_x = x if x > 0 else -x\n",
    "abs_x"
   ]
  },
  {
   "cell_type": "markdown",
   "metadata": {},
   "source": [
    "##### **while迴圈** - The while loop\n",
    "語法如下： \n",
    "```\n",
    "while test:\n",
    "    true_block\n",
    " \n",
    "while test:     # while 迴圈有一個可選的 else 區塊 - while loop has an optional else block\n",
    "    true_block\n",
    "else:           # 僅在未遇到 break 時執行 - Run only if no break encountered\n",
    "    else_block\n",
    "```\n",
    "該else區塊是可選的，如果循環正常退出而沒有遇到break語句，它將被執行。\n",
    "\n",
    "例如，\n"
   ]
  },
  {
   "cell_type": "code",
   "execution_count": 4,
   "metadata": {},
   "outputs": [
    {
     "name": "stdout",
     "output_type": "stream",
     "text": [
      "5050\n"
     ]
    }
   ],
   "source": [
    "# 從 1 到給定上限的和 - Sum from 1 to the given upperbound\n",
    "upperbound = int(input('Enter the upperbound: '))\n",
    "sum = 0\n",
    "number = 1\n",
    "while number <= upperbound:  # 測試條件周圍不需要小括號() - No need for () around test condition\n",
    "    sum += number\n",
    "    number += 1\n",
    "print(sum)"
   ]
  },
  {
   "cell_type": "code",
   "execution_count": 16,
   "metadata": {},
   "outputs": [
    {
     "name": "stdout",
     "output_type": "stream",
     "text": [
      "總和 =  1275 累加上限值: 50\thollo world\n"
     ]
    }
   ],
   "source": [
    "upperbound = int(input('輸入上限值(Enter a nunber of upperbound)'))\n",
    "number = 1\n",
    "sum = 0\n",
    "\n",
    "while number <= upperbound :\n",
    "    sum += number\n",
    "    number += 1\n",
    "\n",
    "print('總和 = ',sum  , '累加上限值:' ,upperbound ,end='\\t')\n",
    "print('hollo world')"
   ]
  },
  {
   "cell_type": "code",
   "execution_count": 34,
   "metadata": {},
   "outputs": [
    {
     "name": "stdout",
     "output_type": "stream",
     "text": [
      "1 * 1 = 1\t2 * 1 = 2\t3 * 1 = 3\t4 * 1 = 4\t5 * 1 = 5\t6 * 1 = 6\t7 * 1 = 7\t8 * 1 = 8\t9 * 1 = 9\t\n",
      "1 * 2 = 2\t2 * 2 = 4\t3 * 2 = 6\t4 * 2 = 8\t5 * 2 = 10\t6 * 2 = 12\t7 * 2 = 14\t8 * 2 = 16\t9 * 2 = 18\t\n",
      "1 * 3 = 3\t2 * 3 = 6\t3 * 3 = 9\t4 * 3 = 12\t5 * 3 = 15\t6 * 3 = 18\t7 * 3 = 21\t8 * 3 = 24\t9 * 3 = 27\t\n",
      "1 * 4 = 4\t2 * 4 = 8\t3 * 4 = 12\t4 * 4 = 16\t5 * 4 = 20\t6 * 4 = 24\t7 * 4 = 28\t8 * 4 = 32\t9 * 4 = 36\t\n",
      "1 * 5 = 5\t2 * 5 = 10\t3 * 5 = 15\t4 * 5 = 20\t5 * 5 = 25\t6 * 5 = 30\t7 * 5 = 35\t8 * 5 = 40\t9 * 5 = 45\t\n",
      "1 * 6 = 6\t2 * 6 = 12\t3 * 6 = 18\t4 * 6 = 24\t5 * 6 = 30\t6 * 6 = 36\t7 * 6 = 42\t8 * 6 = 48\t9 * 6 = 54\t\n",
      "1 * 7 = 7\t2 * 7 = 14\t3 * 7 = 21\t4 * 7 = 28\t5 * 7 = 35\t6 * 7 = 42\t7 * 7 = 49\t8 * 7 = 56\t9 * 7 = 63\t\n",
      "1 * 8 = 8\t2 * 8 = 16\t3 * 8 = 24\t4 * 8 = 32\t5 * 8 = 40\t6 * 8 = 48\t7 * 8 = 56\t8 * 8 = 64\t9 * 8 = 72\t\n",
      "1 * 9 = 9\t2 * 9 = 18\t3 * 9 = 27\t4 * 9 = 36\t5 * 9 = 45\t6 * 9 = 54\t7 * 9 = 63\t8 * 9 = 72\t9 * 9 = 81\t\n"
     ]
    }
   ],
   "source": [
    "sum = 0\n",
    "y = 1\n",
    "x = 1\n",
    "\n",
    "while y <= 9 :\n",
    "    while x <= 9:\n",
    "        print(x,'*' , y,'=',x*y,end='\\t')\n",
    "        x += 1\n",
    "    y += 1\n",
    "    x= 1\n",
    "    print('')\n"
   ]
  },
  {
   "cell_type": "markdown",
   "metadata": {},
   "source": [
    "##### **break、continue、pass和loop-else** - break, continue, pass and loop-else\n",
    "* `break`語句會跳出最內層循環；`continue`語句會跳過循環的剩餘語句並繼續下一次迭代。(這與 C/C++/Java 相同)\n",
    "* `pass`語句不執行任何操作。它充當空語句或空區塊的佔位符。\n",
    "* 如果循環正常退出，且未遇到`break`語句，則執行loop-else block 。"
   ]
  },
  {
   "cell_type": "markdown",
   "metadata": {},
   "source": [
    "#### **在 while 迴圈的測試中使用賦值(Assignment)？** - Using Assignment in while-loop's Test?\n",
    "在許多程式語言中，賦值可以作為表達式的一部分，用於傳回一個值。它可以用於while循環的測試中，例如：\n",
    "```\n",
    "while data = func():   # 呼叫 func() 取得資料。 func() 傳回 None 退出\n",
    "    do_something_on_data。\n",
    "```\n",
    "\n",
    "Python 在賦值運算子處、會發出語法錯誤。**在 Python 中，不能在表達式中使用賦值運算子**。\n",
    "\n",
    "您可以執行下列任一操作：\n",
    "```\n",
    "while True:         # 寫法一\n",
    "    data = func()\n",
    "    if not data:\n",
    "        break     # 在這裡打破無限循環-break the endless loop here\n",
    "    do_something_on_data\n",
    "\n",
    "data = func()       # 寫法二\n",
    "while data:\n",
    "    do_something_on_data\n",
    "    data = func()   # 需要重複函數調用-Need to repeat the function call\n",
    "    ```"
   ]
  },
  {
   "cell_type": "markdown",
   "metadata": {},
   "source": [
    "#### **for-in迴圈** - The for-in loop\n",
    "該for-in迴圈具有以下語法：\n",
    "```\n",
    "for item in sequence:  # 序列(sequence):字串(string),串列(list),元組(tuple),字典(dictionary),集合(set)\n",
    "    true_block\n",
    " \n",
    "# 帶有 else 區塊的for-in迴圈 - for-in loop with a else block\n",
    "for item in sequence:\n",
    "    true_block\n",
    "else:                  # 僅在未遇到 break 時、執行else_block - Run only if no break encountered\n",
    "    else_block\n",
    "```\n",
    "   \n",
    "你應該把它讀作“針對序列中的每個項目...”。同樣，else只有當循環正常退出且沒有遇到該break語句時，才會執行該區塊。"
   ]
  },
  {
   "cell_type": "markdown",
   "metadata": {},
   "source": [
    "##### **序列的迭代** - Iterating through Sequences\n",
    "使用for-in迴圈迭代序列(sequence):字串(string),串列(list),元組(tuple),字典(dictionary),集合(set)  \n",
    "迴圈for-in主要用於迭代序列中的所有項。例如：\n",
    "* 字串(string)：從每個**字符**(character)進行迭代\n",
    "* 串列(list)：從每個**項目**(item)進行迭代\n",
    "* 元組(tuple)：從每個**項目**(item)進行迭代\n",
    "* 字典(dictionary)：從每個**鍵**(key)進行迭代\n",
    "* 集合(set)：從每個**項目**(item)進行迭代\n",
    "* 檔案(File)： 從每個**行**(line)進行迭代\n",
    "```\n",
    "# String: iterating through each character\n",
    ">>> for char in 'hello': print(char)\n",
    "h\n",
    "e\n",
    "l\n",
    "l\n",
    "o\n",
    "\n",
    "# List: iterating through each item\n",
    ">>> for item in [123, 4.5, 'hello']: print(item)\n",
    "123\n",
    "4.5\n",
    "hello\n",
    "\n",
    "# Tuple: iterating through each item\n",
    ">>> for item in (123, 4.5, 'hello'): print(item)\n",
    "123\n",
    "4.5\n",
    "hello\n",
    "\n",
    "# Dictionary: iterating through each key\n",
    ">>> dct = {'a': 1, 2: 'b', 'c': 'cc'}\n",
    ">>> for key in dct: print(key, ':', dct[key])\n",
    "a : 1\n",
    "c : cc\n",
    "2 : b\n",
    "\n",
    "# Set: iterating through each item\n",
    ">>> for item in {'apple', 1, 2, 'apple'}: print(item)\n",
    "1\n",
    "2\n",
    "apple\n",
    "\n",
    "# File: iterating through each line\n",
    ">>> infile = open('test.txt', 'r')\n",
    ">>> for line in infile: print(line)\n",
    "...Each line of the file...\n",
    ">>> infile.close\n",
    "```"
   ]
  },
  {
   "cell_type": "code",
   "execution_count": 1,
   "metadata": {},
   "outputs": [
    {
     "name": "stdout",
     "output_type": "stream",
     "text": [
      "I love Python!\n",
      "\n",
      "Get the filename, directory, extension from a path string in Python now!!\n"
     ]
    }
   ],
   "source": [
    "infile = open('C:/Users/Lu/Documents/GitHub/__2024_01_08_python_openAPI__/00_selfStudy/files/file_io.txt','r')\n",
    "for line in infile:\n",
    "    print(line)"
   ]
  },
  {
   "cell_type": "markdown",
   "metadata": {},
   "source": [
    "##### **for(;;) 迴圈** - for(;;) Loop\n",
    "* Python 不支援類似 C/C++/Java 的 for(int i; i < n; ++i)迴圈，該迴圈使用不同的索引進行迭代。  \n",
    "        - 請注意，您不能使用 `for item in lst` 迴圈來修改清單。\n",
    "* **要修改列表，您需要透過建立索引串列來取得串列索引**。  \n",
    "例如，\n",
    "\n",
    "```\n",
    "# 要修改的串列 - List to be modified\n",
    ">>> lst = [11, 22, 33]\n",
    "\n",
    "# 不能使用 for-in 迴圈修改串列 - Cannot use for-in loop to modify the list\n",
    ">>> for item in lst:\n",
    "        item += 1    # 修改 item 不會修改串列 - modifying item does not modify the list\n",
    ">>> print(lst)\n",
    "[11, 22, 33]         # 沒有變化 - No change\n",
    "\n",
    "# 需要透過索引修改串列 - You need to modify the list through the indexes\n",
    ">>> idx_lst = [0, 1, 2]   # # 為要處理的串列建立自己的索引串列（不實用）- Create your own index list for the list to be processed (not practical)\n",
    ">>> for idx in idx_lst:   # idx = 0, 1, 2\n",
    "        lst[idx] += 1     # 透過索引修改清單 - modify the list through index \n",
    ">>> print(lst)\n",
    "[12, 23, 34]\n",
    "```\n",
    "\n",
    "手動建立索引串列不太實際。可以使用`range()`函數建立索引串列（如下所述）。"
   ]
  },
  {
   "cell_type": "code",
   "execution_count": null,
   "metadata": {},
   "outputs": [
    {
     "name": "stdout",
     "output_type": "stream",
     "text": [
      "[1, 2, 3]\n",
      "[4, 5, 6]\n",
      "[14, 15, 16]\n",
      "[140, 150, 160]\n"
     ]
    }
   ],
   "source": [
    "lst = [11, 22, 33]\n",
    "indexNum = len(lst)-1           # 建立最後一個索引數\n",
    "for item in range(len(lst)):    # 使用`range()`函數建立索引串列item數目\n",
    "    lst[indexNum] //= 10        # 透過遞減變數(indexNum)之索引修改清單(不太實際)\n",
    "    indexNum -= 1\n",
    "print(lst)\n",
    "\n",
    "lst = [44, 55, 66]\n",
    "for item in range(len(lst)):    # 使用`range()`函數建立索引串列item數目\n",
    "    lst[item] //= 10            # 透過索引修改清單(推薦)\n",
    "print(lst)\n",
    "\n",
    "item = 0\n",
    "while item < len(lst) :\n",
    "    lst[item] += 10 \n",
    "    item += 1\n",
    "print(lst)\n",
    "\n",
    "newLst = [item *10 for item in lst]\n",
    "print(newLst)"
   ]
  },
  {
   "cell_type": "markdown",
   "metadata": {},
   "source": [
    "##### **`range()`內建函數** - The `range()` Built-in Function\n",
    "此`range()`函數產生一系列運行整數，可用作for-in迴圈的索引列表。\n",
    "\n",
    "* `range(n)`產生從0到的整數n-1\n",
    "* `range(m, n)`產生從m到的整數n-1\n",
    "* `range(m, n, s)`以s為區間，產生m從n-1到的整數\n",
    "例如，\n",
    "```\n",
    "# 從1到給定上限的和 (Sum from 1 to the given upperbound)\n",
    "upperbound = int(input('輸入上限(Enter the upperbound)： '))\n",
    "sum = 0\n",
    "for number in range(1, upperbound+1):  # number = 1, 2, 3, ..., upperbound\n",
    "    sum += number\n",
    "print('The sum is:', sum)\n",
    " \n",
    "# 對給定串列求和(Sum a given list)\n",
    "lst = [9, 8, 4, 5]\n",
    "sum = 0\n",
    "for idx in range(len(lst)):  # idx = 0, 1, ..., len()-1\n",
    "    sum += lst[idx]\n",
    "print('The sum is:', sum)\n",
    " \n",
    "# 不需要使用索引來「讀取」清單！(There is no need to use indexes to 'read' the list!)\n",
    "lst = [9, 8, 4, 5]\n",
    "sum = 0\n",
    "for item in lst:  # lst 中的每個項目(Each item of lst)\n",
    "    sum += item\n",
    "print('總和為(The sum is):', sum)\n",
    "\n",
    "# 也可使用內建函數來取得總和(You can also use built-in function to get the sum)\n",
    "del sum   # 在使用內建函數 sum() 之前需要刪除變數'sum' \n",
    "          # (Need to remove the variable 'sum' before using built-in function sum())\n",
    "print('The sum is:', sum(lst))\n",
    "\n",
    "# 但您需要索引來修改列表(ut you need indexes to modify the list)\n",
    "for idx in range(len(lst)):  # idx = 0, 1, ..., len()-1\n",
    "    lst[idx] += 1\n",
    "print(lst)\n",
    "\n",
    "# 也可使用 while 迴圈，但它更長(Or you can use a while loop, which is longer)\n",
    "idx = 0\n",
    "while idx < len(lst):      # 小於len(lst)、便不包含len(lst)\n",
    "    lst[idx] += 1\n",
    "    idx += 1\n",
    "print(lst)\n",
    "\n",
    "# 也可透過一行列表推導建立一個新列表(You can create a new list through a one liner list comprehension)\n",
    "lst = [11, 22, 33]\n",
    "lst1 = [item + 1 for item in lst]\n",
    "print(lst1)\n",
    "```"
   ]
  },
  {
   "cell_type": "markdown",
   "metadata": {},
   "source": [
    "##### **在迴圈中使用else條文** - Using else-clause in Loop\n",
    "回想一下，else-clause只有當迴圈退出且未遇到break時，才會執行  。\n",
    "\n",
    "```\n",
    "# List all primes between 2 and 100\n",
    "for number in range(2, 101):\n",
    "    for factor in range(2, number//2+1):  # 找出因子(Look for factor)\n",
    "        if number % factor == 0:          # break if a factor found\n",
    "            print('{} is NOT a prime'.format(number))  \n",
    "            break\n",
    "    else:\n",
    "        print('{} is a prime'.format(number))  # Only if no break encountered\n",
    "```\n",
    "# 列出 2 到 100 之間的所有質數\n",
    "對於範圍內的數字（2，101）：\n",
    "    對於範圍內的因子（2，數字//2 + 1）：   # 找出因子\n",
    "        如果數字％因子== 0：   # 如果找到因子則中斷\n",
    "            print('{} 不是質數'.format(number))  \n",
    "            休息\n",
    "    別的：\n",
    "        print('{} 是質數'.format(number))   # 僅當未遇到斷點時"
   ]
  },
  {
   "cell_type": "markdown",
   "metadata": {},
   "source": [
    "**質數 (Prime Number)**  \n",
    "如何判斷一個自然數是否為質數？  \n",
    "參考 [有趣的數](https://calculus.math.nycu.edu.tw/maple/Site/carnival/number/01.htm) :  \n",
    "一個大於1的自然數，如果除了1和它本身之外，再也沒有其他因數，我們就稱它為質數（prime number） \n",
    "要判斷一個大於1的自然數 n是否為質數，我們只要判斷n是否有質因數即可。綜合之前的討論，我們只要確定n沒有任何小於等於`n**(1/2)`的質因數，就可以斷定n為質數。"
   ]
  },
  {
   "cell_type": "code",
   "execution_count": 44,
   "metadata": {},
   "outputs": [
    {
     "name": "stdout",
     "output_type": "stream",
     "text": [
      "[2, 3, 5, 7, 11, 13, 17, 19, 23, 29, 31, 37, 41, 43, 47, 53, 59, 61, 67, 71, 73, 79, 83, 89, 97] 25\n"
     ]
    }
   ],
   "source": [
    "# 例_1\n",
    "primeLst=[]\n",
    "for number in range(2, 101):\n",
    "    for factor in range(2, number//2+1):  # Look for factor\n",
    "        if number % factor == 0:  # break if a factor found\n",
    "            # print('{} is NOT a prime'.format(number))  \n",
    "            break\n",
    "    else:\n",
    "        primeLst.append(number)\n",
    "        # print('{} is a prime'.format(number))  # Only if no break encountered\n",
    "print(primeLst,len(primeLst))"
   ]
  },
  {
   "cell_type": "code",
   "execution_count": 43,
   "metadata": {},
   "outputs": [
    {
     "name": "stdout",
     "output_type": "stream",
     "text": [
      "[2, 3, 5, 7, 11, 13, 17, 19, 23, 29, 31, 37, 41, 43, 47, 53, 59, 61, 67, 71, 73, 79, 83, 89, 97] 25\n"
     ]
    }
   ],
   "source": [
    "# 活用_1\n",
    "primeLst=[]\n",
    "for number in range(2, 101):\n",
    "    for factor in range(2, int(number**(1/2))+1):  # Look for factor - 參考 [有趣的數]\n",
    "        if number % factor == 0:  # break if a factor found\n",
    "            # print('{} is NOT a prime'.format(number))  \n",
    "            break\n",
    "    else:\n",
    "        primeLst.append(number)\n",
    "        # print('{} is a prime'.format(number))  # Only if no break encountered\n",
    "print(primeLst,len(primeLst))"
   ]
  },
  {
   "cell_type": "code",
   "execution_count": null,
   "metadata": {},
   "outputs": [
    {
     "name": "stdout",
     "output_type": "stream",
     "text": [
      "[2, 3, 5, 7] 4\n",
      "[2, 5] 2\n"
     ]
    }
   ],
   "source": [
    "# 活用:求質因數-1 (not practical)\n",
    "primeLst=[]\n",
    "inputNumber = int(input('輸入數字求其質因數(Enter a nunber)'))\n",
    "for number in range(2, inputNumber):               # step1 : 先求質因數的數之所有質數\n",
    "    for factor in range(2, int(number**(1/2))+1):  # Look for factor or \"for factor in range(2, number//2+1)\"\n",
    "        if number % factor == 0:  # break if a factor found\n",
    "            # print('{} is NOT a prime'.format(number))  \n",
    "            break\n",
    "    else:\n",
    "        primeLst.append(number)\n",
    "        # print('{} is a prime'.format(number))  # Only if no break encountered\n",
    "print(primeLst,len(primeLst))\n",
    "\n",
    "factorLst = []                 # step2 : 以所有質數求數之質因數\n",
    "for primeFactor in primeLst:\n",
    "    if primeFactor > inputNumber/2:\n",
    "        break\n",
    "    elif inputNumber % primeFactor == 0:\n",
    "        factorLst.append(primeFactor)\n",
    "\n",
    "print(factorLst,len(factorLst))"
   ]
  },
  {
   "cell_type": "code",
   "execution_count": 51,
   "metadata": {},
   "outputs": [
    {
     "name": "stdout",
     "output_type": "stream",
     "text": [
      "100半數內的質數： [2, 3, 5, 7, 11, 13, 17, 19, 23, 29, 31, 37, 41, 43, 47] 15 個\n",
      "100的質因數： [2, 5] 2 個\n"
     ]
    }
   ],
   "source": [
    "# 活用:求質因數-1.1(ok(not practical))\n",
    "primeLst=[]\n",
    "inputNumber = int(input('輸入數字求其質因數(Enter a nunber)'))\n",
    "# for number in range(2, int(inputNumber/2)+1):               # (not practical)\n",
    "# for number in range(2, int(inputNumber**(1/2))+1):          # 錯誤\n",
    "for number in range(2, inputNumber//2+1):                     # Look for factor\n",
    "    # print(primeNum)\n",
    "    for primeNum in range(2,int(number**(1/2)) + 1) :         # step1 : 先(求質因數的)值的半數之所有質數\n",
    "        if number % primeNum == 0:  # break if a factor found\n",
    "            # print('{} is NOT a prime'.format(number))  \n",
    "            break\n",
    "    else:\n",
    "        primeLst.append(number)\n",
    "        # print(primeNum,primeLst)\n",
    "        # print('{} is a prime'.format(number))  # Only if no break encountered\n",
    "print(f'{inputNumber}半數內的質數：',primeLst,len(primeLst),'個')\n",
    "\n",
    "factorLst = []                 # step2 : 以所有質數求數之質因數\n",
    "for primeFactor in primeLst:\n",
    "    if primeFactor > inputNumber/2:\n",
    "        break\n",
    "    elif inputNumber % primeFactor == 0:\n",
    "        factorLst.append(primeFactor)\n",
    "\n",
    "print(f'{inputNumber}的質因數：',factorLst,len(factorLst),'個')"
   ]
  },
  {
   "cell_type": "code",
   "execution_count": null,
   "metadata": {},
   "outputs": [],
   "source": []
  },
  {
   "cell_type": "code",
   "execution_count": null,
   "metadata": {},
   "outputs": [
    {
     "name": "stdout",
     "output_type": "stream",
     "text": [
      "[2, 3, 4, 5] 4\n"
     ]
    }
   ],
   "source": [
    "# 確認\n",
    "inputNumber = 10\n",
    "primeLst=[]\n",
    "for number in range(2, 10):\n",
    "    # print(number)\n",
    "    for pNum in (2, number//2+1):\n",
    "        if number % pNum == 0:  # break if a factor found\n",
    "            # print('{} is NOT a prime'.format(number))  \n",
    "            break\n",
    "    else:\n",
    "        primeLst.append(pNum)\n",
    "        # print(pNum,primeLst)\n",
    "        # print('{} is a prime'.format(number))  # Only if no break encountered\n",
    "print(primeLst,len(primeLst))"
   ]
  },
  {
   "cell_type": "code",
   "execution_count": 53,
   "metadata": {},
   "outputs": [
    {
     "name": "stdout",
     "output_type": "stream",
     "text": [
      "100半數內的質數： [2, 3, 5, 7, 11, 13, 17, 19, 23, 29, 31, 37, 41, 43, 47] 15\n",
      "[2, 5] 2\n"
     ]
    }
   ],
   "source": [
    "# 活用:求質因數-1.2 (OK - 不建議(not practical))\n",
    "primeLst=[]\n",
    "inputNumber = int(input('輸入數字求其質因數(Enter a nunber)'))\n",
    "for number in range(2, inputNumber//2 +1):               # step1 : 先求質因數的數之所有質數\n",
    "    for factor in range(2, int(number**(1/2))+1):  # Look for factor or \"for factor in range(2, number//2+1)\"\n",
    "        if number % factor == 0:  # break if a factor found\n",
    "            # print('{} is NOT a prime'.format(number))  \n",
    "            break\n",
    "    else:\n",
    "        primeLst.append(number)\n",
    "        # print('{} is a prime'.format(number))  # Only if no break encountered\n",
    "print(f'{inputNumber}半數內的質數：',primeLst,len(primeLst))\n",
    "\n",
    "factorLst = []                 # step2 : 以所有質數求數之質因數\n",
    "for primeFactor in primeLst:\n",
    "    if primeFactor > inputNumber/2:\n",
    "        break\n",
    "    elif inputNumber % primeFactor == 0:\n",
    "        factorLst.append(primeFactor)\n",
    "\n",
    "print(factorLst,len(factorLst))"
   ]
  },
  {
   "cell_type": "code",
   "execution_count": 54,
   "metadata": {},
   "outputs": [
    {
     "name": "stdout",
     "output_type": "stream",
     "text": [
      "100的質因數： [2, 5] 2 個\n"
     ]
    }
   ],
   "source": [
    "# 活用:求質因數-2 (ok)\n",
    "primeLst=[]\n",
    "inputNumber = int(input('輸入數字求其質因數(Enter a nunber)'))\n",
    "for number in range(2, int(inputNumber/2)+1):\n",
    "    # print(number)\n",
    "    for factor in range(2, int(number**(1/2))+1):  # Look for factor\n",
    "        # print(number,factor)\n",
    "        if number % factor == 0:  # break if a factor found\n",
    "            break\n",
    "    else:\n",
    "        if inputNumber % number == 0 :\n",
    "            primeLst.append(number)\n",
    "print(f'{inputNumber}的質因數：',primeLst,len(primeLst),'個')\n"
   ]
  },
  {
   "cell_type": "markdown",
   "metadata": {},
   "source": [
    "##### **迭代序列中的的序列** - Iterating through a Sequence of Sequences\n",
    "序列（ 例如,串列(list)、元組(tuple)）可以包含序列。例如，  \n",
    "\n",
    "```\n",
    "# 一個包含 2 個項目(item)的元組(tuple)的串列(list) - A list of 2-item tuples\n",
    ">>> lst = [(1,'a'), (2,'b'), (3,'c')]\n",
    "# 迭代每個包含2個元素的元組(tuple) - Iterating through the each of the 2-item tuples\n",
    ">>> for v1, v2 in lst: print(v1, v2)  # each item of the list is: v1, v2\n",
    "1 a\n",
    "2 b\n",
    "3 c\n",
    "\n",
    "# 一個包含3個項目(item)的串列(list)的串列(list) - A list of 3-item lists\n",
    ">>> lst = [[1, 2, 3], ['a', 'b', 'c']]\n",
    ">>> for v1, v2, v3 in lst: print(v1, v2, v3)  # each item of the list is: v1, v2, v3\n",
    "1 2 3\n",
    "a b c\n",
    "```"
   ]
  },
  {
   "cell_type": "code",
   "execution_count": 5,
   "metadata": {},
   "outputs": [
    {
     "name": "stdout",
     "output_type": "stream",
     "text": [
      "1 a\n",
      "2 b\n",
      "3 c\n",
      "{1: 'a', 2: 'b', 3: 'c'}\n",
      "1 : a\n",
      "2 : b\n",
      "3 : c\n",
      "[(1, 'a'), (2, 'b'), (3, 'c'), (4, 'd')]\n",
      "1 a\n"
     ]
    },
    {
     "ename": "ValueError",
     "evalue": "too many values to unpack (expected 2)",
     "output_type": "error",
     "traceback": [
      "\u001b[1;31m---------------------------------------------------------------------------\u001b[0m",
      "\u001b[1;31mValueError\u001b[0m                                Traceback (most recent call last)",
      "Cell \u001b[1;32mIn[5], line 16\u001b[0m\n\u001b[0;32m     13\u001b[0m lst\u001b[38;5;241m.\u001b[39mappend(lstApp)\n\u001b[0;32m     14\u001b[0m \u001b[38;5;28mprint\u001b[39m(lst)\n\u001b[1;32m---> 16\u001b[0m \u001b[38;5;28;01mfor\u001b[39;00m v1,v2 \u001b[38;5;129;01min\u001b[39;00m lst_1:\n\u001b[0;32m     17\u001b[0m     \u001b[38;5;28mprint\u001b[39m(v1,v2)\n",
      "\u001b[1;31mValueError\u001b[0m: too many values to unpack (expected 2)"
     ]
    }
   ],
   "source": [
    "lst = [(1,'a'), (2,'b'), (3,'c')]\n",
    "lst_1 = [(1,'a'), (2,'a','b'), (3,'a','b','c')]\n",
    "\n",
    "for v1,v2 in lst:\n",
    "    print(v1,v2)\n",
    "\n",
    "dct = dict(lst)\n",
    "print(dct)\n",
    "for key in dct:\n",
    "    print(key,':',dct[key])\n",
    "\n",
    "lstApp=(4,'d')\n",
    "lst.append(lstApp)\n",
    "print(lst)\n",
    "\n",
    "for v1,v2 in lst_1:\n",
    "    print(v1,v2)"
   ]
  },
  {
   "cell_type": "markdown",
   "metadata": {},
   "source": [
    "##### **以字典形式的迭代** - Iterating through a Dictionary\n",
    "有幾種方法可以迭代字典：\n",
    "\n",
    "```\n",
    ">>> dct = {'name':'Peter', 'gender':'male', 'age':21}\n",
    "\n",
    "# 透過鍵位(keys)進行迭代 - Iterate through the keys (as in the above example)\n",
    ">>> for key in dct: print(key, ':', dct[key])\n",
    "age : 21\n",
    "name : Peter\n",
    "gender : male\n",
    "\n",
    "# 透過鍵-值(key-value pairs)進行迭代 - Iterate through the key-value pairs\n",
    ">>> for key, value in dct.items(): print(key, ':', value)\n",
    "age : 21\n",
    "name : Peter\n",
    "gender : male\n",
    "\n",
    ">>> dct.items()  # Return a list of key-value (2-item) tuples\n",
    "[('gender', 'male'), ('age', 21), ('name', 'Peter')]\n",
    "```"
   ]
  },
  {
   "cell_type": "code",
   "execution_count": null,
   "metadata": {},
   "outputs": [
    {
     "name": "stdout",
     "output_type": "stream",
     "text": [
      "name : geo\tgender : male\tage : 38\thabit : travel\t\n",
      "name : geo\tgender : male\tage : 38\thabit : travel\t\n",
      "dict_items([('name', 'geo'), ('gender', 'male'), ('age', 38), ('habit', 'travel')])\n",
      "[('name', 'geo'), ('gender', 'male'), ('age', 38), ('habit', 'travel')]\n",
      "['name', 'gender', 'age', 'habit']\n"
     ]
    }
   ],
   "source": [
    "dct = {'name': 'geo' , 'gender' : 'male','age' : 38 , 'habit' : 'travel'}\n",
    "\n",
    "# application-1 : Iterate through the keys\n",
    "for key in dct:\n",
    "    print(key , ':' ,dct[key], end = '\\t')\n",
    "print('')\n",
    "\n",
    "# application-2 : Iterate through the key-value pairs\n",
    "for key , value in dct.items():\n",
    "    print(key , ':' , value, end = '\\t')\n",
    "print('')\n",
    "\n",
    "# application-3 : Return a list of key-value (2-item) tuples\n",
    "print(dct.items())\n",
    "print(list(dct.items()))\n",
    "print(list(dct))        # 將字典轉成key的串列(list)"
   ]
  },
  {
   "cell_type": "markdown",
   "metadata": {},
   "source": [
    "###### **內建函數`iter()`和`next()`** - The `iter()` and `next()` Built-in Functions\n",
    "內建函數iter(iterable)接受一個iterable(可迭代)參數(例如序列)並傳回一個迭代物件(iterator object)。然後您可以使用next(iterator)它來迭代這些項目。  \n",
    "例如，  \n",
    "```\n",
    ">>> lst = [11, 22, 33]\n",
    ">>> iterator = iter(lst)\n",
    ">>> next(iterator)\n",
    "11\n",
    ">>> next(iterator)\n",
    "22\n",
    ">>> next(iterator)\n",
    "33\n",
    ">>> next(iterator) \n",
    "StopIteration      # 如果沒有更多項，則引發 StopIteration 異常\n",
    ">>> type(iterator) \n",
    "<class 'list_iterator'>\n",
    "```"
   ]
  },
  {
   "cell_type": "code",
   "execution_count": null,
   "metadata": {},
   "outputs": [
    {
     "name": "stdout",
     "output_type": "stream",
     "text": [
      "11\n",
      "22\n",
      "33\n"
     ]
    },
    {
     "ename": "StopIteration",
     "evalue": "",
     "output_type": "error",
     "traceback": [
      "\u001b[1;31m---------------------------------------------------------------------------\u001b[0m",
      "\u001b[1;31mStopIteration\u001b[0m                             Traceback (most recent call last)",
      "Cell \u001b[1;32mIn[19], line 6\u001b[0m\n\u001b[0;32m      4\u001b[0m \u001b[38;5;28mprint\u001b[39m(\u001b[38;5;28mnext\u001b[39m(iterator))\n\u001b[0;32m      5\u001b[0m \u001b[38;5;28mprint\u001b[39m(\u001b[38;5;28mnext\u001b[39m(iterator))\n\u001b[1;32m----> 6\u001b[0m \u001b[38;5;28;43mnext\u001b[39;49m\u001b[43m(\u001b[49m\u001b[43miterator\u001b[49m\u001b[43m)\u001b[49m\n",
      "\u001b[1;31mStopIteration\u001b[0m: "
     ]
    }
   ],
   "source": [
    "lst = [11, 22, 33]\n",
    "iterator = iter(lst)\n",
    "print(next(iterator))\n",
    "print(next(iterator))\n",
    "print(next(iterator))\n",
    "next(iterator)         # 已沒有更多項，則引發 StopIteration 異常"
   ]
  },
  {
   "cell_type": "code",
   "execution_count": null,
   "metadata": {},
   "outputs": [
    {
     "name": "stdout",
     "output_type": "stream",
     "text": [
      "110\n",
      "220\n",
      "330\n",
      "440\n",
      "550\n",
      "[110, 220, 330, 440, 550]\n",
      "11\n",
      "22\n",
      "33\n",
      "44\n",
      "55\n",
      "[11, 22, 33, 44, 55]\n"
     ]
    },
    {
     "ename": "StopIteration",
     "evalue": "",
     "output_type": "error",
     "traceback": [
      "\u001b[1;31m---------------------------------------------------------------------------\u001b[0m",
      "\u001b[1;31mStopIteration\u001b[0m                             Traceback (most recent call last)",
      "Cell \u001b[1;32mIn[3], line 14\u001b[0m\n\u001b[0;32m     12\u001b[0m     itrLst\u001b[38;5;241m.\u001b[39mappend(\u001b[38;5;28mid\u001b[39m)\n\u001b[0;32m     13\u001b[0m \u001b[38;5;28mprint\u001b[39m(itrLst)\n\u001b[1;32m---> 14\u001b[0m \u001b[38;5;28;43mnext\u001b[39;49m\u001b[43m(\u001b[49m\u001b[43miterator\u001b[49m\u001b[43m)\u001b[49m        \u001b[38;5;66;03m# 在for-in loop 中,已迭代所有的items，故引發 StopIteration 異常\u001b[39;00m\n",
      "\u001b[1;31mStopIteration\u001b[0m: "
     ]
    }
   ],
   "source": [
    "lst = [11, 22, 33,44,55]\n",
    "for id in range(len(lst)):\n",
    "    lst[id] *= 10\n",
    "    print(lst[id])\n",
    "print(lst)             # [110, 220, 330, 440, 550]\n",
    "\n",
    "iterator = iter(lst)   # 直接迭代所有的items,不用再index索引\n",
    "itrLst =[]             # 因不用index索引,無法直接迭代原list\n",
    "for id in iterator:\n",
    "    id //= 10\n",
    "    print(id)\n",
    "    itrLst.append(id)   #加入新的list\n",
    "print(itrLst)\n",
    "next(iterator)        # 在for-in loop 中,已迭代所有的items，故引發 StopIteration 異常"
   ]
  },
  {
   "cell_type": "markdown",
   "metadata": {},
   "source": [
    "##### **內建函數`reversed()`** - The `reversed()` Built-in Function\n",
    "```\n",
    ">>> lst = [11, 22, 33]\n",
    ">>> for item in reversed(lst): print(item, end=' ')\n",
    "33 22 11\n",
    ">>> reversed(lst)\n",
    "<list_reverseiterator object at 0x7fc4707f3828>\n",
    "\n",
    ">>> str = \"hello\"\n",
    ">>> for ch in reversed(str): print(ch, end='')   # 以end=''使反置的字元無間隔接續\n",
    "olleh\n",
    "```"
   ]
  },
  {
   "cell_type": "code",
   "execution_count": null,
   "metadata": {},
   "outputs": [
    {
     "name": "stdout",
     "output_type": "stream",
     "text": [
      "33 22 11 \n",
      "<list_reverseiterator object at 0x0000012CA3DBC8B0>\n"
     ]
    },
    {
     "data": {
      "text/plain": [
       "[33, 22, 11]"
      ]
     },
     "execution_count": 25,
     "metadata": {},
     "output_type": "execute_result"
    }
   ],
   "source": [
    "lst = [11, 22, 33]\n",
    "for item in reversed(lst):\n",
    "     print(item, end=' ')\n",
    "else:\n",
    "    print('')\n",
    "print(reversed(lst))      \n",
    "list(reversed(lst))     # 直接reverse 成一個新的反置item之list"
   ]
  },
  {
   "cell_type": "markdown",
   "metadata": {},
   "source": [
    "##### **內建函數 `enumerate()`** - The enumerate() Built-in Function\n",
    "循環處理序列(sequence)時，可以使用內建函數`enumerate()`取得位置索引。例如：\n",
    "\n",
    "\n",
    "* **串列(list)**\n",
    "    ```\n",
    "    >>> lst = ['a', 'b', 'c']\n",
    "    >>> for idx, value in enumerate(lst): \n",
    "    >>>     print(idx, value)\n",
    "    0 a\n",
    "    1 b\n",
    "    2 c\n",
    "    >>> enumerate(lst)\n",
    "    <enumerate object at 0x7ff0c6b75a50>\n",
    "    ```\n",
    "\n",
    "\n",
    "* 也可以**使用 `enumerate()` 來取得索引以修改串列(list)**  \n",
    " --You can also use `enumerate()` to get the indexes to modify the list\n",
    "    ```\n",
    "    >>> lst = [11, 22, 33]\n",
    "    >>> for idx, value in enumerate(lst): \n",
    "    >>>     lst[idx] += 1\n",
    "    >>> lst\n",
    "    [12, 23, 34]\n",
    "    ```\n",
    "* **元組(Tuple)**\n",
    "```\n",
    ">>> tup = ('d', 'e', 'f')\n",
    ">>> for idx, value in enumerate(tup): \n",
    ">>>     print(idx, value)\n",
    "0 d\n",
    "1 e\n",
    "2 f\n",
    "```"
   ]
  },
  {
   "cell_type": "code",
   "execution_count": 16,
   "metadata": {},
   "outputs": [
    {
     "name": "stdout",
     "output_type": "stream",
     "text": [
      "[12, 23, 34]\n",
      "[11, 22, 33]\n",
      "0 d\n",
      "1 e\n",
      "2 f\n",
      "0 d\n",
      "1 e\n",
      "2 f\n",
      "['d_example', 'e_example', 'f_example']\n"
     ]
    },
    {
     "data": {
      "text/plain": [
       "('d_example', 'e_example', 'f_example')"
      ]
     },
     "execution_count": 16,
     "metadata": {},
     "output_type": "execute_result"
    }
   ],
   "source": [
    "# 使用 enumerate() 與 range(len()) 之使用例-1\n",
    "lst = [11, 22, 33]\n",
    "for id, val in enumerate(lst): \n",
    "    lst[id] += 1                   # 修改串列(list)\n",
    "print(lst)\n",
    "\n",
    "for ind in range(len(lst)):     # 使用 range(len(lst)) 可少使用一個變數\n",
    "    lst[ind] -= 1                   # 修改串列(list)\n",
    "print(lst)\n",
    "\n",
    "# 使用 enumerate() 與 range(len()) 之使用例-2\n",
    "tup = ('d', 'e', 'f')\n",
    "tupLst = []\n",
    "for id , val in enumerate(tup):\n",
    "    # tup[id] += 'a'   # TypeError: 'tuple' object does not support item assignment\n",
    "    print(id ,val)\n",
    "\n",
    "for ind in range(len(tup)): \n",
    "    print(ind , tup[ind])\n",
    "    tupLst.append(tup[ind] + '_example')\n",
    "print(tupLst)                # tuple 不可迭代，先存成List再轉Tuple\n",
    "tuple(tupLst)"
   ]
  },
  {
   "cell_type": "markdown",
   "metadata": {},
   "source": [
    "##### **多個序列(Sequences) 和 內建函數`zip()`** - Multiple Sequences and the zip() Built-in Function\n",
    "若要同時連續處理兩個或多個序列(sequences)，可以使用zip()內建函數將輸入條目(entries)作配對。  \n",
    "* 傳回元組(tuple)型態的項目之串列(list) ， for Python 3.0+ `list(zip())`\n",
    "* zip()函數用於將可迭代的物件作為參數，將物件中對應的元素打包成一個個元組，然後傳回由這些元組組成的列表。\n",
    "* 如果各個迭代器的元素個數不一致，則傳回列表長度與最短的物件相同，利用* 號運算符，可以將元組解壓縮為列表。\n",
    "    [ref_Python zip() 函數](https://www.runoob.com/python/python-func-zip.html)  \n",
    "例如，\n",
    "```\n",
    ">>> \n",
    ">>> for i1, i2 in zip(lst1, lst2): print(i1, i2)\n",
    "a 11\n",
    "b 22\n",
    "c 33\n",
    ">>> zip(lst1, lst2)   # 傳回元組串列(list) - Return a list of tuples for Python 2.0+\n",
    "[('a', 11), ('b', 22), ('c', 33)]\n",
    "\n",
    "# 對超過2個序列(sequences)使用 zip() - zip() for more than 2 sequences\n",
    ">>> tuple3 = (44, 55)\n",
    ">>> zip(lst1, lslst1 = ['a', 'b', 'c']\n",
    ">>> lst2 = [11, 22, 33]t2, tuple3)\n",
    "[('a', 11, 44), ('b', 22, 55)]\n"
   ]
  },
  {
   "cell_type": "code",
   "execution_count": null,
   "metadata": {},
   "outputs": [
    {
     "name": "stdout",
     "output_type": "stream",
     "text": [
      "a 11\n",
      "b 22\n",
      "c 33\n",
      "<zip object at 0x000001BFA40B51C0>\n",
      "[('a', 11), ('b', 22), ('c', 33)]\n",
      "[('a', 11), ('b', 22), ('c', 33)]\n",
      "{'a': 11, 'b': 22, 'c': 33}\n",
      "[('a', 11, 44), ('b', 22, 55)]\n",
      "[None, None, None]\n",
      "[('a', 11), ('b', 22), ('c', 33)]\n",
      "[('a', 11), ('b', 22), ('c', 33)]\n"
     ]
    }
   ],
   "source": [
    "lst1 = ['a', 'b', 'c']\n",
    "lst2 = [11, 22, 33]\n",
    "tuple3 = (44, 55)\n",
    "lstZip = []\n",
    "\n",
    "for i1,i2 in zip(lst1,lst2):\n",
    "    print(i1,i2)\n",
    "    lstZip.append((i1,i2))        # \n",
    "print(zip(lst1,lst2))             # <zip object at 0x000002245E9CE7C0>\n",
    "print(lstZip)                     # [('a', 11), ('b', 22), ('c', 33)]\n",
    "\n",
    "print(list(zip(lst1, lst2)))      # for Python 3.0+\n",
    "\n",
    "dct = dict(zip(lst1,lst2))        # 將 2 items之元組串列(list)轉成字典(dictionary)\n",
    "print(dct)\n",
    "\n",
    "lstZip3 = list(zip(lst1,lst2,tuple3))\n",
    "print(lstZip3)                    # 傳回列表長度與最短的物件相同 [('a', 11, 44), ('b', 22, 55)]\n",
    "\n",
    "\n",
    "# 應用\n",
    "multiZip = []\n",
    "multiZip = [multiZip.append((i1,i2)) for i1,i2 in zip(lst1,lst2)]   # 語法邏輯錯誤\n",
    "print(multiZip)\n",
    "\n",
    "multiZip = []\n",
    "multiZip = [(i1,i2) for i1,i2 in zip(lst1,lst2)]  # expression_with_item直接以(i1,i2)表示串列之項目型態\n",
    "print(multiZip)\n",
    "\n",
    "multiZip = []\n",
    "for i1,i2 in zip(lst1,lst2):\n",
    "    multiZip.append((i1,i2))\n",
    "\n",
    "print(multiZip)"
   ]
  },
  {
   "cell_type": "markdown",
   "metadata": {},
   "source": [
    "##### **產生可變列表、字典和集合的串列推導**- Comprehension for Generating Mutable List, Dictionary and Set\n",
    "列表推導式提供了一種簡潔的單行程式碼來產生新列表的方法。文法如下：\n",
    "\n",
    "```\n",
    "result_list = [ expression_with_item  for  item  in  list ] \n",
    "result_list = [ expression_with_item  for  item  in  list  if test  ] # 附有可選條件篩選  \n",
    " \n",
    "# 與上式result_list = [....]相同\n",
    "result_list = []\n",
    "for item in list:\n",
    "    if test:\n",
    "        result_list.append(item)\n",
    "```\n",
    "\n",
    "例如，\n",
    "```\n",
    ">>> sq_lst = [item * item for item in range(1, 11)]\n",
    ">>> sq_lst\n",
    "[1, 4, 9, 16, 25, 36, 49, 64, 81, 100]\n",
    "# Same as\n",
    ">>> sq_lst = []\n",
    ">>> for item in range(1, 11):\n",
    "        sq_lst.append(item * item)\n",
    "\n",
    ">>> lst = [3, 4, 1, 5]\n",
    ">>> sq_lst = [item * item for item in lst]  # no test, all items\n",
    ">>> sq_lst\n",
    "[9, 16, 1, 25]\n",
    "\n",
    ">>> sq_lst_odd = [item * item for item in lst if item % 2 != 0]\n",
    ">>> sq_lst_odd\n",
    "[9, 1, 25]\n",
    "# Same as\n",
    ">>> sq_lst_odd = []\n",
    ">>> for item in lst:\n",
    "        if item % 2 != 0:\n",
    "            sq_lst_odd.append(item * item)\n",
    "\n",
    "# Nested for\n",
    ">>> lst = [(x, y) for x in range(1, 3) for y in range(1, 4) if x != y]\n",
    ">>> lst\n",
    "[(1, 2), (1, 3), (2, 1), (2, 3)]\n",
    "# Same as\n",
    ">>> lst = []\n",
    ">>> for x in range(1,3):\n",
    "        for y in range(1,4):\n",
    "            if x != y: lst.append((x, y))\n",
    ">>> lst\n",
    "[(1, 2), (1, 3), (2, 1), (2, 3)]\n",
    "```"
   ]
  },
  {
   "cell_type": "code",
   "execution_count": null,
   "metadata": {},
   "outputs": [
    {
     "name": "stdout",
     "output_type": "stream",
     "text": [
      "[1, 9, 25, 49, 81]\n",
      "[1, 9, 25, 49, 81]\n",
      "[(1, 2, 3), (1, 3, 4), (2, 1, 3), (2, 3, 5)]\n",
      "[(1, 1, 1), (1, 2, 1), (1, 3, 1), (2, 1, 2), (2, 2, 4), (2, 3, 8)]\n"
     ]
    }
   ],
   "source": [
    "sq_lst = [ item * item for item in range(1,11) if item % 2 != 0]\n",
    "print(sq_lst)                    # [1, 9, 25, 49, 81]\n",
    "\n",
    "sq_lst = []\n",
    "for item in range(1,11):\n",
    "    if item % 2 != 0 :\n",
    "        sq_lst.append(item**2)\n",
    "print(sq_lst)                    # [1, 9, 25, 49, 81]\n",
    "\n",
    "lst = [(x,y,x+y) for x in range(1,3) for y in range(1,4) if x!=y]\n",
    "print(lst)                       # [(1, 2, 3), (1, 3, 4), (2, 1, 3), (2, 3, 5)]\n",
    "\n",
    "lst =[]\n",
    "for x in range(1,3):\n",
    "    for y in range(1,4) :\n",
    "        lst.append((x,y,x**y))\n",
    "print(lst)                        # [(1, 1, 1), (1, 2, 1), (1, 3, 1), (2, 1, 2), (2, 2, 4), (2, 3, 8)]"
   ]
  },
  {
   "cell_type": "markdown",
   "metadata": {},
   "source": [
    "[TODO]\n",
    "* Similarly, you can create dictionary and set (mutable sequences) via comprehension. For example,\n",
    "    類似地，你**可以使用推導式來建立字典和集合（可變序列）**。 \n",
    "* Comprehension cannot be used to generate string and tuple, as they are immutable and append() cannot be applied.\n",
    "    推導式不能用於產生字串(string)和元組(tuple)，因為它們是不可變的並且不能應用 append()。\n",
    "\n",
    "例如：\n",
    "```\n",
    "# Dictionary {k1:v1, k2:v2,...}\n",
    ">>> dct = {x:x**2 for x in range(1, 5)}  # 使用大括號來表示字典 - Use braces for dictionary\n",
    ">>> dct\n",
    "{1: 1, 2: 4, 3: 9, 4: 16}\n",
    "\n",
    "# Set {v1, v2,...}\n",
    ">>> set = {ch for ch in 'hello' if ch not in 'aeiou'}  # Use braces for set too\n",
    ">>> set\n",
    "{'h', 'l'}\n",
    "```"
   ]
  },
  {
   "cell_type": "code",
   "execution_count": null,
   "metadata": {},
   "outputs": [
    {
     "name": "stdout",
     "output_type": "stream",
     "text": [
      "{0: 'Will', 1: 'Will'}\n",
      "[(0, 'Geo'), (0, 'Will'), (1, 'Geo'), (1, 'Will')]\n",
      "{1: 1, 2: 4, 3: 9, 4: 16}\n",
      "{'r', 'w', 'l', 'h', 'd', ' '}\n"
     ]
    }
   ],
   "source": [
    "# [TODO]  ???\n",
    "club_lst = ['Geo' , 'Will']\n",
    "dct = {x : y for x in range(len(club_lst)) for y in club_lst}\n",
    "print(dct)            # y值無循環 ???? -> 是否因 key 值無法重複???\n",
    "\n",
    "dct1 =[(x,y) for x in range(len(club_lst)) for y in club_lst]\n",
    "print(dct1)\n",
    "\n",
    "dct3 = {x:x**2 for x in range(1,5)}\n",
    "print(dct3)\n",
    "\n",
    "\n",
    "# set\n",
    "character = 'hollow world'\n",
    "set = { cha for cha in character if cha  not in 'aeiou'}\n",
    "print(set)"
   ]
  },
  {
   "cell_type": "code",
   "execution_count": null,
   "metadata": {},
   "outputs": [
    {
     "name": "stdout",
     "output_type": "stream",
     "text": [
      "2 {0: 'Will'}\n",
      "4 {0: 'Will', 1: 'Will'}\n",
      "{0: 'Will', 1: 'Will'}\n"
     ]
    }
   ],
   "source": [
    "# [TODO]   key 值無法重複、對應???\n",
    "club_lst = ['Geo' , 'Will']\n",
    "\n",
    "idx = 0\n",
    "dct = {}\n",
    "for x in range(idx,idx+len(club_lst)):\n",
    "    for y in club_lst:\n",
    "#        dct.append({x:y})   # AttributeError: 'dict' object has no attribute 'append'\n",
    "        dct.update({x:y})\n",
    "    idx += len(club_lst)\n",
    "    print(idx,dct)\n",
    "print(dct)  "
   ]
  },
  {
   "cell_type": "code",
   "execution_count": null,
   "metadata": {},
   "outputs": [
    {
     "name": "stdout",
     "output_type": "stream",
     "text": [
      "2\n",
      "4\n",
      "{0: 'Geo', 1: 'Geo', 2: 'Will', 3: 'Will'}\n"
     ]
    }
   ],
   "source": [
    "# [TODO]  key 值無法重複、對應???\n",
    "club_lst = ['Geo' , 'Will']\n",
    "\n",
    "idx = 0\n",
    "dct = {}\n",
    "for y in club_lst:\n",
    "    for x in range(idx,idx+len(club_lst)):\n",
    "        dct.update({x:y})\n",
    "    idx += len(club_lst)\n",
    "    print(idx)\n",
    "print(dct)  "
   ]
  },
  {
   "cell_type": "markdown",
   "metadata": {},
   "source": [
    "#### **命名慣例和編碼樣式** - Naming Conventions and Coding Styles (PEP 8 & PEP 257)\n",
    "\n",
    "##### **命名慣例**- Naming Conventions\n",
    "這些是 Python 中推薦的命名慣例：\n",
    "\n",
    "* 變數名稱(Variable names)：使用小寫名詞 (如果可以提高可讀性，也可以用底線連接)，例如 num_students。\n",
    "* 函數名稱(Function names)：使用小寫動詞(如果可以提高可讀性，也可以用底線連接)，例如 getarea() 或 get_area()。\n",
    "* 類別名稱(Class names)：使用駝峰式命名的名詞（所有單字的首字母大寫），例如M yClass,IndexError,ConfigParser\n",
    "* 常數名(Constant names)：使用大寫單字並用底線連接的名詞，例如 PI,MAX_STUDENTS。\n",
    "\n",
    "\n",
    "##### **編碼樣式** - Coding Styles ：\n",
    "<參考>\n",
    "[“PEP 8：Python 程式碼樣式指南”](https://peps.python.org/pep-0008/)  \n",
    "[“PEP 257：文件字串約定”](https://peps.python.org/pep-0257/)  \n",
    "\n",
    "推薦的樣式有：\n",
    "* 使用 4 個空格縮排，不要使用製表符 (Tab)。\n",
    "* 行數不得超過 79 個字元。\n",
    "* 使用空白行分隔函數和類別。\n",
    "* 在運算符前後使用空格。\n",
    "[TODO] 更多"
   ]
  },
  {
   "cell_type": "markdown",
   "metadata": {},
   "source": [
    "### **函數** - Functions\n",
    "\n",
    "#### **句法** - Syntax\n",
    "在 Python 中，您可以\n",
    "* 透過關鍵字def、再跟隨著函數名稱(function name)、參數清單(parameter list)、説明文件字串(doc-string)和函數體(function body)來定義函數。\n",
    "* 説明文件字串(doc-string)以 `\"\"\".........\"\"\"`前後各3次雙引號包含此def説明文件\n",
    "    - 以`help(fuction name)`呼叫內容\n",
    "* 在函數體內部，您可以使用return語句將值傳回給呼叫者。\n",
    "* 與 C/C++/Java 不同，Python 無需類型聲明。\n",
    "\n",
    "語法是：\n",
    "```\n",
    "def function_name(arg1, arg2, ...):\n",
    "    \"\"\"Function doc-string\"\"\"    # 可以透過function_name.__doc__執行\n",
    "    body_block\n",
    "    return return-value          # 傳回值(return-value)\n",
    "```\n",
    "\n",
    "#### **pass聲明** - The pass statement\n",
    "該pass語句不執行任何操作。有時需要將其作為虛擬(dummy)語句佔位符來確保語法正確，例如：\n",
    "```\n",
    "def my_fun():\n",
    "    pass    # 稍後再定義，但如果為空則出現語法錯誤(To be defined later, but syntax error if empty)\n",
    "```\n"
   ]
  },
  {
   "cell_type": "markdown",
   "metadata": {},
   "source": [
    "# Example 1\n",
    "* 請注意，您需要**在使用該函數之前對其進行定義**，因為 Python 是解釋性的。\n",
    "```\n",
    ">>> def my_square(x):\n",
    "        \"\"\"Return the square of the given number\"\"\"\n",
    "        return x * x\n",
    "\n",
    "# 呼叫之前定義的函數(Invoke the function defined earlier)\n",
    ">>> my_square(8)\n",
    "64\n",
    ">>> my_square(1.8)\n",
    "3.24\n",
    ">>> my_square('hello')\n",
    "TypeError: can't multiply sequence by non-int of type 'str'\n",
    ">>> my_square\n",
    "<function my_square at 0x7fa57ec54bf8>\n",
    ">>> type(my_square)\n",
    "<class 'function'>\n",
    ">>> my_square.__doc__  # Show function doc-string\n",
    "'Return the square of the given number'\n",
    ">>> help(my_square)    # Show documentation\n",
    "my_square(x)\n",
    "    Return the square of the given number\n",
    ">>> dir(my_square)     # 顯示屬性列表(Show attribute list)\n",
    "[......]\n",
    "```"
   ]
  },
  {
   "cell_type": "code",
   "execution_count": 10,
   "metadata": {},
   "outputs": [
    {
     "name": "stdout",
     "output_type": "stream",
     "text": [
      "25\n",
      "<class 'function'>\n",
      "Help on function math_square in module __main__:\n",
      "\n",
      "math_square(x)\n",
      "    return the square of the given number\n",
      "\n"
     ]
    },
    {
     "data": {
      "text/plain": [
       "'return the square of the given number'"
      ]
     },
     "execution_count": 10,
     "metadata": {},
     "output_type": "execute_result"
    }
   ],
   "source": [
    "def math_square(x):\n",
    "    \"\"\"return the square of the given number\"\"\"\n",
    "    return x**2\n",
    "\n",
    "print(math_square(5))\n",
    "\n",
    "print(type(math_square))    # <class 'function'>\n",
    "# type(math_square)           # function\n",
    "\n",
    "help(math_square)\n",
    "\n",
    "math_square.__doc__"
   ]
  },
  {
   "cell_type": "code",
   "execution_count": null,
   "metadata": {},
   "outputs": [
    {
     "name": "stdout",
     "output_type": "stream",
     "text": [
      "1 1 2 3 5 8 13 21 34 55 89 144 233 377 610 987 1597 2584 4181 6765 10946 17711 28657 46368 75025 \n"
     ]
    }
   ],
   "source": [
    "# Example 2\n",
    "\n",
    "# Define a function (need to define before using the function)\n",
    "def fibon(n):\n",
    "    \"\"\"Print the first n Fibonacci numbers, where f(n)=f(n-1)+f(n-2) and f(1)=f(2)=1\"\"\"\n",
    "    a, b = 1, 1   # pair-wise assignment\n",
    "    for count in range(n): # count = 0, 1, 2, ..., n-1\n",
    "        print(a, end=' ')  # print a space instead of a default newline at the end\n",
    "        a, b = b, a+b\n",
    "    print()   # print a newline\n",
    "\n",
    "# Invoke the function\n",
    "fibon(25)"
   ]
  },
  {
   "cell_type": "code",
   "execution_count": 20,
   "metadata": {},
   "outputs": [
    {
     "name": "stdout",
     "output_type": "stream",
     "text": [
      "512\n",
      "-512\n",
      "0\n",
      "Help on function math_cube in module __main__:\n",
      "\n",
      "math_cube(x)\n",
      "    (number) -> (number)\n",
      "    Return the cube of the given number.\n",
      "    \n",
      "    :param x: number\n",
      "    :return: number\n",
      "    \n",
      "    Examples (can be used by doctest for unit testing):\n",
      "    >>> my_cube(5)\n",
      "    125\n",
      "    >>> my_cube(-5)\n",
      "    -125\n",
      "    >>> my_cube(0)\n",
      "    0\n",
      "\n"
     ]
    },
    {
     "data": {
      "text/plain": [
       "'\\n    (number) -> (number)\\n    Return the cube of the given number.\\n\\n    :param x: number\\n    :return: number\\n\\n    Examples (can be used by doctest for unit testing):\\n    >>> my_cube(5)\\n    125\\n    >>> my_cube(-5)\\n    -125\\n    >>> my_cube(0)\\n    0\\n    '"
      ]
     },
     "execution_count": 20,
     "metadata": {},
     "output_type": "execute_result"
    }
   ],
   "source": [
    "# Example 3: Function doc-string\n",
    "\n",
    "def math_cube(x):\n",
    "    \"\"\"\n",
    "    (number) -> (number)\n",
    "    Return the cube of the given number.\n",
    "\n",
    "    :param x: number\n",
    "    :return: number\n",
    "\n",
    "    Examples (can be used by doctest for unit testing):\n",
    "    >>> my_cube(5)\n",
    "    125\n",
    "    >>> my_cube(-5)\n",
    "    -125\n",
    "    >>> my_cube(0)\n",
    "    0\n",
    "    \"\"\"\n",
    "    return x**3\n",
    "\n",
    "# Test the function\n",
    "print(math_cube(8))    # 512\n",
    "print(math_cube(-8))   # -512\n",
    "print(math_cube(0))    # 0\n",
    "help(math_cube)\n",
    "math_cube.__doc__    # help(math_cube)執行內容、但不換行"
   ]
  }
 ],
 "metadata": {
  "kernelspec": {
   "display_name": "yt.venv",
   "language": "python",
   "name": "python3"
  },
  "language_info": {
   "codemirror_mode": {
    "name": "ipython",
    "version": 3
   },
   "file_extension": ".py",
   "mimetype": "text/x-python",
   "name": "python",
   "nbconvert_exporter": "python",
   "pygments_lexer": "ipython3",
   "version": "3.10.8"
  }
 },
 "nbformat": 4,
 "nbformat_minor": 2
}
