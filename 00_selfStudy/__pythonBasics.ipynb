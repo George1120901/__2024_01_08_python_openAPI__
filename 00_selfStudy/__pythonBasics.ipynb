{
 "cells": [
  {
   "cell_type": "markdown",
   "metadata": {},
   "source": [
    "### Python\n",
    "#### Basics\n",
    "[參考網址](https://www3.ntu.edu.sg/home/ehchua/programming/webprogramming/Python1_Basics.html#re)www3.ntu.edu.sg  \n",
    "<文中前言建議>在學習Python/JavaScript/Perl/PHP等腳本語言之前，先學習傳統的通用程式語言（例如C/C++/Java），因為它們比具有許多奇特功能的傳統語言結構更少。??????  "
   ]
  },
  {
   "cell_type": "markdown",
   "metadata": {},
   "source": [
    "### **介紹**  \n",
    "Python 是由荷蘭人 吉多·範·羅森 (Guido van Rossum) 於 1991年左右創建的，Python是個開源專案。母站點是[www.python.org](www.python.org)。  \n",
    "\n",
    "#### **Python的主要特點是：**  \n",
    "* Python 是一種簡單直覺的語言， Python 腳本易於閱讀和理解。  \n",
    "* Python（像 Perl）具有表現力，一行Python程式碼可以完成傳統通用語言（例如C/C++/Java）中的多行程式碼。\n",
    "* Python 是免費且開源的，它是跨平台的，可以在 Windows、Linux/Unix 和 macOS 上運行。  \n",
    "* Python 非常適合快速應用程式開發(RAD - rapid application development)。與其他通用語言（例如 C/C++/Java）相比，使用 Python 編寫應用程式的時間要短得多。 Python 可用於編寫小型應用程式和快速原型，但它也可以很好地擴展以開發大型專案。  \n",
    "* Python 是一種動態類型的腳本語言。與大多數腳本語言（例如 Perl、JavaScript）一樣，Python 將相關聯類型為物件而不是變數。也就是說，變數可以被賦予任何類型的值，列表（陣列）可以包含不同類型的物件。  \n",
    "* Python 提供自動記憶體管理。您不需要在程式中分配和釋放記憶體。  \n",
    "* Python 提供進階資料類型，例如動態陣列(dynamic array)和字典(dictionary) （或關聯陣列）。  \n",
    "* Python 是物件導向的。  \n",
    "* Python 不是一種完全編譯的語言。它被編譯成內部字節碼，然後被解譯。因此，Python 的速度不如 C/C++ 等完全編譯語言。  \n",
    "* Python 附帶了大量的函式庫，包括圖形使用者介面 (GUI) 工具包、Web 程式庫、網路等。  \n",
    "\n",
    "**Python有3個版本：**  \n",
    "* Python 1：初始版本。  \n",
    "* Python 2：2000 年發布，具有許多新功能，例如垃圾收集器和對 Unicode 的支援。  \n",
    "* ython 3（Python 3000 或 py3k）：2008 年發布的重大升級。 Python 3 不向下相容 Python 2 。   \n",
    "\n",
    "**Python 2 還是 Python 3？**\n",
    "* 目前，Python並行支援 version 2 和version 3 的兩個版本，遺憾的是存在不相容的情況。  \n",
    "* 發生這種情況是因為當 Guido Van Rossum（Python 的創建者）決定對 Python 2 進行重大更改時，他發現新的變更將與現有程式碼不相容。他決定啟動一個名為 Python 3 的新版本，但繼續維護舊的 Python 2，而不會引入新功能。 * Python 3.0 於 2008 年發布，Python 2.7 於 2010 年發布。  \n",
    "\n",
    "**再次注意，PYTHON 2 和 PYTHON 3 不相容！您需要決定使用 Python 2 還是 Python 3。**   \n",
    "使用 Python 3 啟動新專案。僅使用 Python 2 來維護遺留專案。\n",
    "\n",
    "若要檢查 Python 的版本，請發出以下命令：  \n",
    "\n",
    "`$ Python --version`  \n",
    "\n",
    "**文件**\n",
    "Python 文件和語言在線上提供參考 @[https://docs.python.org](https://docs.python.org)。"
   ]
  },
  {
   "cell_type": "markdown",
   "metadata": {},
   "source": [
    "### **Python 基本語法**\n",
    "#### **行末尾的宣告**  \n",
    "Python 註解以井號 (#) 開頭，一直到目前行末尾 (EOL)。 Python 解釋器會忽略註釋，但它們對於為其他人（以及自己日後的）閱讀您的程式提供解釋和文件至關重要。自由地使用評論。\n",
    "\n",
    "Python 中沒有多行註解？ （C/C++/Java 透過 . 支援多行註解`/* ... */`。）\n",
    "\n",
    "#### **聲明**\n",
    "Python 語句由換行符號分隔。語句不能跨越行邊界，但下列情況除外：\n",
    "\n",
    "1. ()括號、方括號[]和大括號中的表達式{}可以跨越多行。\n",
    "2. 行尾的反斜線 ( \\ ) 表示繼續下一行。這是一條舊規則，不推薦，因為它容易出錯。  \n",
    "\n",
    "與 C/C++/C#/Java 不同，您無需在 Python 語句末尾放置分號 ( ; )。但您可以將多個語句放在一行上，並以分號 ( ; ) 分隔。例如，  \n",
    "\n",
    "```\n",
    "# One Python statement in one line, terminated by a newline.\n",
    "# There is no semicolon at the end of a statement.\n",
    ">>> x = 1     # Assign 1 to variable x\n",
    ">>> print(x)  # Print the value of the variable x\n",
    "1\n",
    ">>> x + 1\n",
    "2\n",
    ">>> y = x / 2\n",
    ">>> y\n",
    "0.5\n",
    "\n",
    "# You can place multiple statements in one line, separated by semicolon.\n",
    ">>> print(x); print(x+1); print(x+2)  # No ending semicolon\n",
    "1\n",
    "2\n",
    "3\n",
    "\n",
    "# An expression in brackets [] (i.e., list) can span multiple lines\n",
    ">>> x = [1,\n",
    "         22,\n",
    "         333]  # Re-assign a list denoted as [v1, v2, ...] to variable x\n",
    ">>> x\n",
    "[1, 22, 333]\n",
    "\n",
    "# An expression in braces {} (i.e., associative array) can also span multiple lines\n",
    ">>> x = {'name':'Peter',\n",
    "         'gender':'male',\n",
    "         'age':21\n",
    "        }   # Re-assign a dictionary denoted as {k1:v1, k2:v2,...} to variable x\n",
    ">>> x\n",
    "{'name': 'Peter', 'gender': 'male', 'age': 21}\n",
    "\n",
    "# An expression in parentheses () can also span multiple lines\n",
    "# You can break a long expression into several lines by enclosing it with parentheses ()\n",
    ">>> x =(1 +\n",
    "        2\n",
    "        + 3\n",
    "        -\n",
    "        4)\n",
    ">>> x\n",
    "2\n",
    "\n",
    "# You can break a long string into several lines with parentheses () too\n",
    ">>> s = ('testing '   # No commas\n",
    "         'hello, '\n",
    "         'world!')\n",
    ">>> s\n",
    "'testing hello, world!'\n",
    "```"
   ]
  },
  {
   "cell_type": "code",
   "execution_count": 1,
   "metadata": {},
   "outputs": [
    {
     "name": "stdout",
     "output_type": "stream",
     "text": [
      "1\n",
      "2\n"
     ]
    },
    {
     "data": {
      "text/plain": [
       "0.5"
      ]
     },
     "execution_count": 1,
     "metadata": {},
     "output_type": "execute_result"
    }
   ],
   "source": [
    "# 一行中包含一個 Python 語句，以換行符號結束。\n",
    "# 語句末尾沒有分號。\n",
    "x = 1         # 將 1 賦給變數 x\n",
    "print(x)      # 列印變數 x 的值\n",
    "\n",
    "print(x + 1)  # 列印變數 x + 1 的值\n",
    "\n",
    "y = x / 2     # 將 x / 2 賦給變數y\n",
    "y             # 列印變數 y 的值"
   ]
  },
  {
   "cell_type": "code",
   "execution_count": 2,
   "metadata": {},
   "outputs": [
    {
     "name": "stdout",
     "output_type": "stream",
     "text": [
      "1\n",
      "2\n",
      "3\n"
     ]
    }
   ],
   "source": [
    "# 您可以將多個語句放在一行中，並用分號分隔。\n",
    "x = 1         # 將 1 賦給變數 x\n",
    "print(x); print(x+1); print(x+2)  # 沒有結束分號"
   ]
  },
  {
   "cell_type": "code",
   "execution_count": 3,
   "metadata": {},
   "outputs": [
    {
     "name": "stdout",
     "output_type": "stream",
     "text": [
      "1\n"
     ]
    },
    {
     "data": {
      "text/plain": [
       "[1, 22, 333]"
      ]
     },
     "execution_count": 3,
     "metadata": {},
     "output_type": "execute_result"
    }
   ],
   "source": [
    "# 方括號 [] 中的表達式（即列表）可以跨越多行\n",
    "x = 1         # 將 1 賦給變數 x\n",
    "print(x)      # 列印變數 x 的值\n",
    "\n",
    "x = [1,\n",
    "    22,\n",
    "    333]  # 將表示為 [v1, v2, ...] 的清單重新指派給變數 x\n",
    "x"
   ]
  },
  {
   "cell_type": "code",
   "execution_count": 4,
   "metadata": {},
   "outputs": [
    {
     "name": "stdout",
     "output_type": "stream",
     "text": [
      "1\n"
     ]
    },
    {
     "data": {
      "text/plain": [
       "{'name': 'Peter', 'gender': 'male', 'age': 21}"
      ]
     },
     "execution_count": 4,
     "metadata": {},
     "output_type": "execute_result"
    }
   ],
   "source": [
    "# 大括號 {} 中的表達式（即關聯數組）也可以跨越多行\n",
    "x = 1         # 將 1 賦給變數 x\n",
    "print(x)      # 列印變數 x 的值\n",
    "\n",
    "x = {'name':'Peter',\n",
    "    'gender':'male',\n",
    "    'age':21\n",
    "    }   # 將表示為 {k1:v1, k2:v2,...} 的字典重新指派給變數 x\n",
    "x"
   ]
  },
  {
   "cell_type": "code",
   "execution_count": 5,
   "metadata": {},
   "outputs": [
    {
     "name": "stdout",
     "output_type": "stream",
     "text": [
      "1\n"
     ]
    },
    {
     "data": {
      "text/plain": [
       "2"
      ]
     },
     "execution_count": 5,
     "metadata": {},
     "output_type": "execute_result"
    }
   ],
   "source": [
    "# 括號 () 中的表達式也可以跨越多行\n",
    "# 您可以用括號 () 將長表達式分成幾行\n",
    "x = 1         # 將 1 賦給變數 x\n",
    "print(x)      # 列印變數 x 的值\n",
    "\n",
    "x =(1 +\n",
    "        2\n",
    "        + 3\n",
    "        -\n",
    "        4)\n",
    "x"
   ]
  },
  {
   "cell_type": "code",
   "execution_count": 6,
   "metadata": {},
   "outputs": [
    {
     "data": {
      "text/plain": [
       "'testing hello, world!'"
      ]
     },
     "execution_count": 6,
     "metadata": {},
     "output_type": "execute_result"
    }
   ],
   "source": [
    "# 您也可以使用括號 () 將長字串分成幾行\n",
    "s = ('testing '   # 沒有逗號\n",
    "    'hello, '\n",
    "    'world!')\n",
    "s"
   ]
  },
  {
   "cell_type": "markdown",
   "metadata": {},
   "source": [
    "#### **區塊、縮排和複合語句** (Block, Indentation and Compound Statements)  \n",
    "* **區塊是作為一個單元執行的一組語句**\n",
    "    * 與 C/C++/C#/Java 使用大括號{}對主體區塊中的語句進行分組不同，Python 對主體區塊使用縮排。\n",
    "    * 換句話說，縮排在 Python 中具有重要的語法意義 - 主體區塊必須正確縮排。這是一個很好的語法，可以強制您正確縮排塊以便於理解！\n",
    "\n",
    "* **複合語句：**\n",
    "    * 如條件語句 (if-else)、迴圈語句 (while, for) 和函數定義語句 (def)，\n",
    "    * 以標題行開頭，以冒號 ( : ) 結尾；接下來是縮排的正文區塊，如下所示：\n",
    "\n",
    "    ```\n",
    "    header_1 :           # 標頭以冒號結束\n",
    "        statement_1_1    # 主體區塊縮排（建議使用4個空格）\n",
    "        statement_1_2\n",
    "        .....\n",
    "    header_2 :\n",
    "        statement_2_1\n",
    "        statement_2_2\n",
    "        .....\n",
    "    ```\n",
    "\n",
    "    **# 可以將正文區塊放在同一行，用分號 (;) 分隔語句**  \n",
    "    **# 不建議這樣做**。  \n",
    "    ```\n",
    "    header_1: statement_1_1\n",
    "    header_2: statement_2_1; statement_2_2; ......\n",
    "    ```\n",
    "\n",
    "* **Python 沒有指定要使用多少縮排**，但、\n",
    "    * 相同的主體區塊(the SAME body block)的所有語句，必須從右邊距相同的距離開始。\n",
    "    * 可以使用空格或製表符進行縮進，但不能在同一正文區塊中混合使用它們。\n",
    "    * 建議每個縮排對準(level)使用 4 個空格。\n",
    "\n",
    "如果您來自 C/C++/C#/Java，則尾隨冒號 ( : ) 和正文縮排可能是 Python 中最奇怪的功能。  \n",
    "Python強加嚴格的縮排規則來迫使程式設計師編寫可讀的程式碼！"
   ]
  },
  {
   "cell_type": "code",
   "execution_count": 1,
   "metadata": {},
   "outputs": [
    {
     "name": "stdout",
     "output_type": "stream",
     "text": [
      "x is zero\n",
      "x is zero\n",
      "5050\n",
      "5050\n"
     ]
    }
   ],
   "source": [
    "# 使用例(For examples)\n",
    "\n",
    "# if-else\n",
    "x = 0\n",
    "if x == 0:\n",
    "    print('x is zero')\n",
    "else:\n",
    "    print('x is not zero')\n",
    "\n",
    "# or, in the same line  # 不建議\n",
    "if x == 0: print('x is zero')\n",
    "else: print('x is not zero')\n",
    "\n",
    "# while-loop sum from 1 to 100\n",
    "sum = 0\n",
    "number = 1\n",
    "while number <= 100:\n",
    "    sum += number\n",
    "    number += 1\n",
    "print(sum)\n",
    "\n",
    "# or, in the same line\n",
    "while number <= 100: sum += number; number += 1   # 不建議\n",
    "\n",
    "# Define the function sum_1_to_n()\n",
    "def sum_1_to_n(n):\n",
    "    \"\"\"Sum from 1 to the given n\"\"\"\n",
    "    sum = 0;            # Python 主體區塊縮排語句末尾放置分號 ( ; ),縮排時可不放置分號(建議)\n",
    "    i = 0;\n",
    "    while (i <= n):\n",
    "        sum += i\n",
    "        i += 1\n",
    "    return sum\n",
    "\n",
    "print(sum_1_to_n(100))  # 呼叫函數(Invoke function)"
   ]
  },
  {
   "cell_type": "code",
   "execution_count": 12,
   "metadata": {},
   "outputs": [
    {
     "name": "stdout",
     "output_type": "stream",
     "text": [
      "x is zero\n",
      "y is not zero\n",
      "while-loop縮排語句：sum =  5050\n",
      "while-loop同行語句：sum =  5050\n",
      "(5050, 100)\n",
      "1275 --> 1到50\n"
     ]
    }
   ],
   "source": [
    "# 使用例(For examples)+應用\n",
    "\n",
    "# if-else\n",
    "x = 0\n",
    "if x == 0:\n",
    "    print('x is zero')\n",
    "else:\n",
    "    print('x is not zero')\n",
    "\n",
    "# or, in the same line\n",
    "y = 1\n",
    "if y == 0: print('y is zero')\n",
    "else: print('y is not zero')\n",
    "\n",
    "# while-loop sum from 1 to 100\n",
    "sum = 0\n",
    "number = 1\n",
    "while number <= 100:\n",
    "    sum += number\n",
    "    number += 1\n",
    "print('while-loop縮排語句：sum = ',sum)\n",
    "\n",
    "# or, in the same line\n",
    "while number <= 100: sum += number; number += 1\n",
    "print('while-loop同行語句：sum = ',sum)\n",
    "\n",
    "# Define the function sum_1_to_n()\n",
    "def sum_1_to_n(n):   # Sum from 1 to the given n\n",
    "    sum = 0\n",
    "    i = 0\n",
    "    while i <= n:\n",
    "        sum += i\n",
    "        i += 1\n",
    "    return sum,n\n",
    "\n",
    "print(sum_1_to_n(100))  # 呼叫函數(Invoke function)\n",
    "print(f'{sum_1_to_n(50)[0]} --> 1到{sum_1_to_n(50)[1]}')"
   ]
  },
  {
   "cell_type": "markdown",
   "metadata": {},
   "source": [
    "[TODO]\n",
    "\n",
    "#### **變數、標識符和常數**(Variables, Identifiers and Constants)\n",
    "與所有程式語言一樣，變數是一個命名的儲存位置。變數有一個名稱（或識別符）並保存一個值。\n",
    "\n",
    "Python與大多數腳本解釋語言（例如 JavaScript/Perl）一樣，\n",
    "* Python 是動態類型的，在使用變數之前不需要先宣告它。\n",
    "* **變數是透過初始賦值創建的**。 \n",
    "* 與 C/C++/Java/C# 等傳統通用靜態類型語言不同，在使用變數之前需要先宣告變數的名稱和類型。\n",
    "\n",
    "例如，\n",
    "```\n",
    ">>> sum = 1            # 透過向其指派整數來建立一個名為 sum 的變數\n",
    ">>> sum\n",
    "1\n",
    "\n",
    ">>> type(sum)          # 檢查資料型\n",
    "<class 'int'>          # <類型'整數'>\n",
    "\n",
    ">>> Average = 1.23     # 建立一個名為average的變數，並指派一個浮點數給它\n",
    ">>> average\n",
    "1.23\n",
    "\n",
    ">>> Average = 4.5e-6   # 重新分配一個以科學計數法表示的浮點值\n",
    ">>> Average\n",
    "4.5E-06\n",
    "\n",
    ">>> type(average)      # 檢查資料類型\n",
    "<class 'int'>          # <類型'浮點值'>\n",
    "\n",
    ">>> average = 78       # 重新分配一個整數值\n",
    ">>> average\n",
    "78\n",
    "\n",
    ">>> type(average)      # 檢查資料類型\n",
    "<class 'int'>          # 更改為整數 <類型'整數'>\n",
    "\n",
    ">>> msg = 'Hello'      # 建立一個名為 msg 的變數，並分配一個字串來給它\n",
    ">>> msg\n",
    "'Hello'\n",
    "\n",
    ">>> type(msg)          # 檢查資料類型\n",
    "<class 'str'>          # <類型'字串'>\n",
    "```\n",
    "\n",
    "![說明](./figure/Python_variable.png)變數有一個名稱,並保存一個類型的值\n",
    "如前所述，Python 是動態類型的。 Python 將類型與物件關聯，而不是與變數關聯，即變數可以保存任何類型的對象，如上面的範例所示。"
   ]
  },
  {
   "cell_type": "code",
   "execution_count": 2,
   "metadata": {},
   "outputs": [
    {
     "name": "stdout",
     "output_type": "stream",
     "text": [
      "1\n"
     ]
    },
    {
     "data": {
      "text/plain": [
       "int"
      ]
     },
     "execution_count": 2,
     "metadata": {},
     "output_type": "execute_result"
    }
   ],
   "source": [
    "sum = 1           # Create a variable called sum by assigning an integer into it\n",
    "print(sum)\n",
    "type(sum)         # Check the data type"
   ]
  },
  {
   "cell_type": "code",
   "execution_count": 3,
   "metadata": {},
   "outputs": [
    {
     "name": "stdout",
     "output_type": "stream",
     "text": [
      "1.23\n"
     ]
    },
    {
     "data": {
      "text/plain": [
       "float"
      ]
     },
     "execution_count": 3,
     "metadata": {},
     "output_type": "execute_result"
    }
   ],
   "source": [
    "average = 1.23    # Create a variable called average by assigning a floating-point number into it\n",
    "print(average)\n",
    "type(average)"
   ]
  },
  {
   "cell_type": "code",
   "execution_count": 4,
   "metadata": {},
   "outputs": [
    {
     "name": "stdout",
     "output_type": "stream",
     "text": [
      "4.5e-06\n"
     ]
    },
    {
     "data": {
      "text/plain": [
       "float"
      ]
     },
     "execution_count": 4,
     "metadata": {},
     "output_type": "execute_result"
    }
   ],
   "source": [
    "average = 4.5e-6  # Re-assign a floating-point value in scientific notation\n",
    "print(average)\n",
    "type(average)"
   ]
  },
  {
   "cell_type": "code",
   "execution_count": 5,
   "metadata": {},
   "outputs": [
    {
     "name": "stdout",
     "output_type": "stream",
     "text": [
      "78\n"
     ]
    },
    {
     "data": {
      "text/plain": [
       "int"
      ]
     },
     "execution_count": 5,
     "metadata": {},
     "output_type": "execute_result"
    }
   ],
   "source": [
    "average = 78      # Re-assign an integer value\n",
    "print(average)\n",
    "type(average)"
   ]
  },
  {
   "cell_type": "code",
   "execution_count": 6,
   "metadata": {},
   "outputs": [
    {
     "name": "stdout",
     "output_type": "stream",
     "text": [
      "Hello\n"
     ]
    },
    {
     "data": {
      "text/plain": [
       "str"
      ]
     },
     "execution_count": 6,
     "metadata": {},
     "output_type": "execute_result"
    }
   ],
   "source": [
    "msg = 'Hello'     # Create a variable called msg by assigning a string into it\n",
    "print(msg)\n",
    "type(msg)"
   ]
  },
  {
   "cell_type": "markdown",
   "metadata": {},
   "source": [
    "#### **識別符（名稱）規則**  - Rules of Identifier (Names)\n",
    "* 標識符以**字母 ( A-Z, a-z) 或底線 ( _ ) 開頭**。\n",
    "* 後面跟著零個或多個字母、底線和數字 ( 0-9 )。 \n",
    "* Python 不允許使用特殊字符，例如$和@。\n",
    "\n",
    "依慣例，以下劃線 ( _ ) 開頭的變數是私有變數。"
   ]
  },
  {
   "cell_type": "markdown",
   "metadata": {},
   "source": [
    "#### **關鍵字** - Keywords\n",
    "Python 3 有 35 個保留字（或關鍵字），不能用作識別符。\n",
    "\n",
    "* True, False, None（布林值和特殊文字）\n",
    "* import, as,from\n",
    "* if, elif, else, for, in, while, break, continue, pass, with(流量控制)\n",
    "* def，return，lambda，global，nonlocal（功能-function）\n",
    "* class\n",
    "* and, or, not, is, del（運算符）\n",
    "* try, except, finally, raise, assert（錯誤處理）\n",
    "* await, async, yield"
   ]
  },
  {
   "cell_type": "code",
   "execution_count": 1,
   "metadata": {},
   "outputs": [
    {
     "ename": "SyntaxError",
     "evalue": "cannot assign to True (2081776972.py, line 1)",
     "output_type": "error",
     "traceback": [
      "\u001b[1;36m  Cell \u001b[1;32mIn[1], line 1\u001b[1;36m\u001b[0m\n\u001b[1;33m    True = 1\u001b[0m\n\u001b[1;37m    ^\u001b[0m\n\u001b[1;31mSyntaxError\u001b[0m\u001b[1;31m:\u001b[0m cannot assign to True\n"
     ]
    }
   ],
   "source": [
    "True = 1\n",
    "True"
   ]
  },
  {
   "cell_type": "markdown",
   "metadata": {},
   "source": [
    "#### **Variable Naming Convention** - 變數命名慣例\n",
    "變數名是名詞，或是由幾個單字組成的名詞片語。有兩個慣例：  \n",
    "* 使用小寫單字，如果可以提高可讀性，可以選擇使用底線連接，例如，num_students, x_max, myvar,isvalid等。\n",
    "* 在所謂的**駝峰式命名法**中，**第一個單字小寫，其餘單字首字母大寫**，例如 , numStudents, xMax, yMin, xTopLeft, isValidInput,及thisIsValidInput和thisIsAVeryVeryLongVariableName。  \n",
    "駝峰式命名法(Camel-case) 是 Java 的命名慣例；而小寫字母加下劃線是C/C++的慣例。"
   ]
  },
  {
   "cell_type": "markdown",
   "metadata": {},
   "source": [
    "#### **Recommendations** - 建議\n",
    "* 選擇一個具有自我描述性並密切反映變數含義的名稱很重要。例如，使用numStudents(而不是用n或x) 來儲存學生人數。使用縮寫是可以的，例如以idx代替index(索引)。\n",
    "* 請勿使用無意義的名稱，例如a、b、c、i、j、k、n、i1、i2、i3、j99、exercise85（此exercise(練習)的目的是什麼？）和example12（此example(範例)是關於什麼的？）。\n",
    "* 避免使用單字母名稱，例如i, j, k, a, b, c，這些名稱更容易輸入，但通常毫無意義。例外的是常見名稱，例如x, y,z代表座標，i代表index(索引)。長名稱很難輸入，但可以自行記錄您的程式。 （建議花點時間練習打字）\n",
    "* 謹慎使用單數和複數名詞來區分單數和複數變數。例如，使用變數row來引用單一行號，並使用變數rows來引用許多行（例如行列表 - 稍後討論）"
   ]
  },
  {
   "cell_type": "markdown",
   "metadata": {},
   "source": [
    "#### **常數** - Constants\n",
    "Python 不支援常數，因此其內容無法修改。 \n",
    "\n",
    "**C/C++ 透過關鍵字const支援常數，Java 透過關鍵字final支援常數。**\n",
    "\n",
    "習慣上用**大寫字母命名變數並加上下劃線**，例如，MAX_ROWS, SCREEN_X_MAX，以表示**不應在程式中修改**它。儘管如此，在 Python 中是可被修改的"
   ]
  }
 ],
 "metadata": {
  "kernelspec": {
   "display_name": "yt.venv",
   "language": "python",
   "name": "python3"
  },
  "language_info": {
   "codemirror_mode": {
    "name": "ipython",
    "version": 3
   },
   "file_extension": ".py",
   "mimetype": "text/x-python",
   "name": "python",
   "nbconvert_exporter": "python",
   "pygments_lexer": "ipython3",
   "version": "3.10.8"
  }
 },
 "nbformat": 4,
 "nbformat_minor": 2
}
