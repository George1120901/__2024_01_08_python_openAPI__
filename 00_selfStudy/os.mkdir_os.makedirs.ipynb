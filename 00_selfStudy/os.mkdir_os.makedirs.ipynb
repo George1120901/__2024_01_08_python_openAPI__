{
 "cells": [
  {
   "cell_type": "markdown",
   "metadata": {},
   "source": [
    "### os.mkdir 和 os.makedirs 的區別\n",
    "https://github.com/dokelung/Python-QA/blob/master/questions/standard_lib/os.mkdir和os.makedirs的區別.md"
   ]
  },
  {
   "cell_type": "markdown",
   "metadata": {},
   "source": [
    "##### 問題 :\n",
    "語言: Python2.7\n",
    "IDE: Pycharm\n",
    "os: Linux\n",
    "用Python做的爬蟲 :\n",
    "\n",
    "第一個建立在project folder下用os.mkdir('home/img/')創建文件夾存儲數據,文件夾正常建立\n",
    "第二個加入RedisQueue，爬蟲程序放在/usr/lib/python2.7 , rq主體放在project folder下面,在爬蟲程序裡面用os.mkdir('home/img/')報錯，用os.makedirs( 'home/img/')正常建立。\n",
    "為什麼第一個沒有報錯？"
   ]
  },
  {
   "cell_type": "markdown",
   "metadata": {},
   "source": [
    "##### 回答 :\n",
    "os.mkdir 與 os.makedirs 的差別在於 os.makedirs 會遞迴地去建立目錄，也就是說連同中繼的目錄也會一起建立，就類似於 Linux 中的 mkdir -p．"
   ]
  },
  {
   "cell_type": "markdown",
   "metadata": {},
   "source": [
    ">>> import os\n",
    ">>> os.mkdir('foo/bar')\n",
    "Traceback (most recent call last):\n",
    "  File \"<stdin>\", line 1, in <module>\n",
    "OSError: [Errno 2] No such file or directory: 'foo/bar'\n",
    ">>> os.makedirs('foo/bar')"
   ]
  },
  {
   "cell_type": "markdown",
   "metadata": {},
   "source": [
    "使用 os.mkdir 時，如果你給定的 path 參數是個多層的 path，如果某個中繼的目錄不存在(比如說上例中的 foo), Python 將會報錯．\n",
    "\n",
    "但如果使用 os.makedirs 則 Python 會連同中間的目錄一起建立．但有一點值得注意，當 path 末端的目錄已經存在的話，os.makedirs 也是會引發例外．\n",
    "\n",
    "我想你的問題就在這裡，你可以檢查 home 目錄一開始是否存在．\n",
    "\n",
    "要注意的是，這邊的路徑認定是要看你啟動 Python 直譯器的地方，也就是說你要確定你運行 python 所在的目錄下面要有 home 才能避免 os.mkdir 出錯．"
   ]
  }
 ],
 "metadata": {
  "language_info": {
   "name": "python"
  }
 },
 "nbformat": 4,
 "nbformat_minor": 2
}
