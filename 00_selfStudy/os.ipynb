{
 "cells": [
  {
   "cell_type": "markdown",
   "metadata": {},
   "source": [
    "#### Meaning of os.getcwd(), os.path.join\n",
    "https://medium.com/@dagyeom23658/meaning-of-os-getcwd-os-path-join-ccfa0403137a\n",
    "\n",
    "##### Title : Meaning of os.getcwd(), os.path.join\n",
    "Python requires a lot of code related to file paths or directories. All functions related to file and directory paths use the os module, so import of the os module is required.\n",
    "///\n",
    "import os\n",
    "DB_FILENAME = 'DB_API.db'\n",
    "DB_FILEPATH = os.path.join(os.getcwd(), DB_FILENAME)\n",
    "///\n",
    "\n",
    "##### get current working directory\n",
    "///\n",
    "print(os.getcwd())\n",
    "###### #/Users/evan/dev/python/web-crawler-py/parsed_data\n",
    "///\n",
    "\n",
    "##### concat ​paths to create a new path\n",
    "///\n",
    "DB_FILEPATH = os.path.join(os.getcwd(), DB_FILENAME)\n",
    "print(DB_FILEPATH)\n",
    "###### /Users/evan/dev/python/web-crawler-py/parsed_data/DB_API.db\n",
    "///"
   ]
  },
  {
   "cell_type": "code",
   "execution_count": 1,
   "metadata": {},
   "outputs": [
    {
     "name": "stdout",
     "output_type": "stream",
     "text": [
      "c:\\Users\\Lu\\Documents\\GitHub\\__2024_01_08_python_openAPI__\\00_selfStudy\n"
     ]
    }
   ],
   "source": [
    "import os\n",
    "print(os.getcwd())\n"
   ]
  },
  {
   "cell_type": "code",
   "execution_count": 3,
   "metadata": {},
   "outputs": [
    {
     "name": "stdout",
     "output_type": "stream",
     "text": [
      "c:/testDir\\tt.txt\n"
     ]
    }
   ],
   "source": [
    "import os\n",
    "\n",
    "output_path=os.path.join('c:/','testDir','tt.txt')\n",
    "print(output_path)"
   ]
  },
  {
   "cell_type": "markdown",
   "metadata": {},
   "source": [
    "+++++++++++++++++++++++++++++++++++++++++++++++++++++++\n",
    "\n",
    "#### Python os.path.join() 方法 [深入教學]\n",
    "https://www.golinuxcloud.com/python-os-path-join-method/\n",
    "\n",
    "#### Title : Python os.path.join() Method [In-Depth Tutorial]\n",
    "\n",
    "#### Accepted Arguments\n",
    "The os.path.join() function is quite flexible when it comes to the types of arguments it can accept. However, it's primarily designed to work with strings, as it is a string manipulation function for file paths. Here's a breakdown:\n",
    "\n",
    "1.String Arguments: \n",
    "  These are the most commonly used. Each string represents a segment of the file path. Example: \"folder1\", \"file.txt\"\n",
    "2.Variable-Length Argument Lists: \n",
    "  You can pass a variable number of arguments to the function. These will be joined in the order they are provided. Syntax: os.path.join(arg1, arg2, ..., argN)\n",
    "3.Unpacked Lists or tuples: \n",
    "  If you have a list or tuple of string segments, you can unpack them using the * operator. Example: segments = [\"folder1\", \"folder2\"]; os.path.join(*segments)\n",
    "4.Nested Function Calls: \n",
    "  While not a different 'type' of argument per se, it's worth noting that you can nest os.path.join() function calls. Example: os.path.join(os.path.join(\"folder1\", \"folder2\"), \"file.txt\")\n",
    "5.Variables: \n",
    "  You can pass variables that contain string values, making the function more dynamic. Example: base_folder = \"base\"; os.path.join(base_folder, \"file.txt\")\n",
    "6.Constants: \n",
    "  It's possible to use string constants like os.sep or os.pardir if needed, although the main benefit of os.path.join() is that it handles platform-specific separators for you. Example: os.path.join(\"folder\", os.pardir, \"another_folder\")\n",
    "7.Empty Strings: \n",
    "  An empty string effectively means 'current directory', so it will not impact the resulting path but might be useful for conditional logic. Example: os.path.join(\"\", \"folder1\")\n",
    "\n",
    "\n",
    "\n",
    "##### Return Value\n",
    "The os.path.join() function returns a single string that represents the concatenated path components passed as arguments to the function. The return type is a string (str).\n",
    "\n",
    "The format of the returned string varies depending on the operating system:\n",
    "1.Unix-based Systems (Linux, macOS): The forward slash / is used as the path separator.\n",
    "  Example: If you join \"folder1\" and \"file.txt\", the returned value would be \"folder1/file.txt\".\n",
    "2.Windows: The backslash \\ is used as the path separator. \n",
    "  Example: If you join \"folder1\" and \"file.txt\", the returned value would be \"folder1\\\\file.txt\".\n",
    "  \n",
    "Additionally, the function intelligently handles redundant separators and single-dot (.) directory names, simplifying them where possible. However, it does not resolve double-dot (..) directory names or symbolic links; for that, you would use additional functions like os.path.abspath() or os.path.realpath()."
   ]
  },
  {
   "cell_type": "markdown",
   "metadata": {},
   "source": [
    "#### 接受的論點\n",
    "該os.path.join()函數在可接受的參數類型方面非常靈活。但是，它主要設計用於處理字串，因為它是檔案路徑的字串操作函數。這是一個細分：\n",
    "\n",
    "1.字串參數：\n",
    "  這些是最常用的。每個字串代表檔案路徑的一段。例子：\"folder1\", \"file.txt\"\n",
    "2.可變長度參數清單：\n",
    "  您可以向函數傳遞可變數量的參數。這些將按照提供的順序加入。句法：os.path.join(arg1, arg2, ..., argN)\n",
    "3.解包列表或元組：\n",
    "  如果您有字串段的列表或元組，則可以使用*運算符將它們解包。例子：segments = [\"folder1\", \"folder2\"]; os.path.join(*segments)\n",
    "4.巢狀函數呼叫：\n",
    "  雖然參數本身不是不同的“類型”，但值得注意的是您可以巢狀os.path.join()函數呼叫。例子：os.path.join(os.path.join(\"folder1\", \"folder2\"), \"file.txt\")\n",
    "5.變數：\n",
    "  您可以傳遞包含字串值的變量，使函數更加動態。例子：base_folder = \"base\"; os.path.join(base_folder, \"file.txt\")\n",
    "6.常數：\n",
    "  如果需要，可以使用字串常數，例如os.sep或os.pardir，儘管它的主要好處os.path.join()是它可以為您處理特定於平台的分隔符號。例子：os.path.join(\"folder\", os.pardir, \"another_folder\")\n",
    "7.空字串：\n",
    "空字串實際上意味著“當前目錄”，因此它不會影響結果路徑，但可能對條件邏輯有用。例子：os.path.join(\"\", \"folder1\")\n",
    "\n",
    "\n",
    "\n",
    "\n",
    "\n",
    "#### 傳回值\n",
    "此os.path.join()函數傳回字串，表示作為參數傳遞給函數的串聯路徑組件。傳回類型是字串 ( str)。\n",
    "\n",
    "##### 傳回字串的格式因作業系統而異：\n",
    "1.基於 Unix 的系統（Linux、macOS）：正斜線/用作路徑分隔符號。\n",
    "  範例：如果連接“folder1”和“file.txt”，則傳回值為\"folder1/file.txt\"。\n",
    "2.Windows：反斜線\\用作路徑分隔符號。\n",
    "  範例：如果連接“folder1”和“file.txt”，則傳回值為\"folder1\\\\file.txt\"。\n",
    "  \n",
    "此外，該函數還可以智慧地處理冗餘分隔符​​號和單點 ( .) 目錄名稱，並儘可能簡化它們。但是，它不會解析雙點 ( ..) 目錄名稱或符號連結；為此，您可以使用其他函數，例如os.path.abspath()或os.path.realpath()。"
   ]
  },
  {
   "cell_type": "code",
   "execution_count": 5,
   "metadata": {},
   "outputs": [
    {
     "name": "stdout",
     "output_type": "stream",
     "text": [
      "123456abc\n"
     ]
    }
   ],
   "source": [
    "file_path = os.path.join('C:\\\\','Users','Lu','Documents','youtube', \"data.txt\")\n",
    "with open(file_path, 'r') as f:\n",
    "    content = f.read()\n",
    "\n",
    "print(content)\n"
   ]
  }
 ],
 "metadata": {
  "kernelspec": {
   "display_name": "yt.venv",
   "language": "python",
   "name": "python3"
  },
  "language_info": {
   "codemirror_mode": {
    "name": "ipython",
    "version": 3
   },
   "file_extension": ".py",
   "mimetype": "text/x-python",
   "name": "python",
   "nbconvert_exporter": "python",
   "pygments_lexer": "ipython3",
   "version": "3.10.8"
  }
 },
 "nbformat": 4,
 "nbformat_minor": 2
}
