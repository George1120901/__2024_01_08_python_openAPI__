{
 "cells": [
  {
   "cell_type": "markdown",
   "metadata": {},
   "source": [
    "<ref> https://medium.com/@a4793706/python-深入搞懂python-的-list-6bafe3d3bcee\n",
    "\n",
    "### [Python]不再用錯Python 的 list\n",
    "pass"
   ]
  },
  {
   "cell_type": "markdown",
   "metadata": {},
   "source": [
    "#### 什麼是list\n",
    "list是一種容器序列，容器序列能存放不同類型的數據。除了list以外還有誰是容器序列，ex: tuple。那有誰不是容器序列，str、bytes這些屬於扁平序列。兩者序列差異在於，容器存放的是任意類型參照(reference)，而扁平存放的是值。\n",
    "\n",
    "還能再從可不可以修改區分出可變序列(mutable sequence)、不可變序列(immutable sequence)。\n",
    "list屬於可變序列，str、tuple就屬於不可變序列。\n",
    "舉個例子,一定能秒懂。像對list某一個特定index賦值:list[0] = 1，但不能夠對str做一樣的操作str[0] = ‘a’。\n",
    "\n",
    "\n",
    "#### 序列使用運算符號\n",
    "我們都很熟習的使用+,*對序列操作。\n",
    "像是使用+號時，是將兩個相同類型的序列加在一起，在相加的過程中，這兩個序列都不會被修改，而python會創建一個新的相同類型的序列來當作結果。\n",
    "在python +,*都是一樣的規則，在不修改原本操作對象建立新的序列。\n",
    "\n",
    "note:\n",
    "用查看id的方式確認他們是不是相同的對象，可以看到當a + b的結果賦值給a時，這個a已經不是以前的那個a了"
   ]
  },
  {
   "cell_type": "code",
   "execution_count": 4,
   "metadata": {},
   "outputs": [
    {
     "name": "stdout",
     "output_type": "stream",
     "text": [
      "1858769285824\n",
      "1858790854784 1858769281152 [1, 'apple', 0.375, 2, 'orange', 4.0]\n"
     ]
    }
   ],
   "source": [
    "# 例一\n",
    "a = [1,'apple',3/8]\n",
    "print(id(a))\n",
    "# >>> 2093826222024\n",
    "b = [2,'orange',100/25]\n",
    "a = a + b\n",
    "print(id(a), id(b), a)\n",
    "# >>> 2093826221320 2093827856712 [1, 2]"
   ]
  }
 ],
 "metadata": {
  "kernelspec": {
   "display_name": "yt.venv",
   "language": "python",
   "name": "python3"
  },
  "language_info": {
   "codemirror_mode": {
    "name": "ipython",
    "version": 3
   },
   "file_extension": ".py",
   "mimetype": "text/x-python",
   "name": "python",
   "nbconvert_exporter": "python",
   "pygments_lexer": "ipython3",
   "version": "3.10.8"
  }
 },
 "nbformat": 4,
 "nbformat_minor": 2
}
