{
 "cells": [
  {
   "cell_type": "markdown",
   "metadata": {},
   "source": [
    "<ref> https://medium.com/@a4793706/python-深入搞懂python-的-list-6bafe3d3bcee\n",
    "\n",
    "### [Python]不再用錯Python 的 list\n",
    "pass"
   ]
  },
  {
   "cell_type": "markdown",
   "metadata": {},
   "source": [
    "#### 什麼是list\n",
    "list是一種容器序列，容器序列能存放不同類型的數據。除了list以外還有誰是容器序列，ex: tuple。那有誰不是容器序列，str、bytes這些屬於扁平序列。兩者序列差異在於，容器存放的是任意類型參照(reference)，而扁平存放的是值。\n",
    "\n",
    "還能再從可不可以修改區分出可變序列(mutable sequence)、不可變序列(immutable sequence)。\n",
    "list屬於可變序列，str、tuple就屬於不可變序列。\n",
    "舉個例子,一定能秒懂。像對list某一個特定index賦值:list[0] = 1，但不能夠對str做一樣的操作str[0] = ‘a’。\n",
    "\n",
    "\n",
    "#### 序列使用運算符號\n",
    "我們都很熟習的使用+,*對序列操作。\n",
    "像是使用+號時，是將兩個相同類型的序列加在一起，在相加的過程中，這兩個序列都不會被修改，而python會創建一個新的相同類型的序列來當作結果。\n",
    "在python +,*都是一樣的規則，在不修改原本操作對象建立新的序列。\n",
    "\n",
    "note:\n",
    "用查看id的方式確認他們是不是相同的對象，可以看到當a + b的結果賦值給a時，這個a已經不是以前的那個a了"
   ]
  },
  {
   "cell_type": "code",
   "execution_count": 13,
   "metadata": {},
   "outputs": [
    {
     "name": "stdout",
     "output_type": "stream",
     "text": [
      "1858769287168\n",
      "1858791005952 1858790603968 [1, 'apple', 0.375, 2, 'orange', 4.0]\n",
      "class of a : <class 'list'>, \t class of b :<class 'list'>\n",
      "<class 'list'>\n"
     ]
    }
   ],
   "source": [
    "# 例一\n",
    "a = [1,'apple',3/8]\n",
    "print(id(a))\n",
    "# >>> 2093826222024\n",
    "b = [2,'orange',100/25]\n",
    "a = a + b\n",
    "print(id(a), id(b), a)\n",
    "# >>> 2093826221320 2093827856712 [1, 2]\n",
    "\n",
    "print(f\"class of a : {type(a)}, \\t class of b :{type(b)}\")\n",
    "print(list)"
   ]
  },
  {
   "cell_type": "markdown",
   "metadata": {},
   "source": [
    "更深入一點，我們知道python 中的每個類型其實都是一個類別(你可以print(list)), 它會return <class ‘list’>)，\n",
    "list因為能使用增量符號(+)是因為list 類別裡定義了__add__方法(使用dir(list)就可看到list類別內部定義的方法)。\n",
    "在可變序列會實現較特殊的方法__iadd__，你可以稱它為就地加法。那什麼時候會使用到它呢?就是當你使用增量賦值符號(+=)，對於可變序列來說值是被就地改動的，變數並不會被關連到新的對象。\n",
    "下面這個例子會讓你更清楚:"
   ]
  },
  {
   "cell_type": "code",
   "execution_count": 17,
   "metadata": {},
   "outputs": [
    {
     "name": "stdout",
     "output_type": "stream",
     "text": [
      "1858769680448\n",
      "1858769680448 1858790733504 [1, 'apple', 0.375, 2, 'orange', 4.0]\n",
      "class of a : <class 'list'>, \t class of b :<class 'list'>\n",
      "<class 'list'>\n"
     ]
    },
    {
     "data": {
      "text/plain": [
       "['__add__',\n",
       " '__class__',\n",
       " '__class_getitem__',\n",
       " '__contains__',\n",
       " '__delattr__',\n",
       " '__delitem__',\n",
       " '__dir__',\n",
       " '__doc__',\n",
       " '__eq__',\n",
       " '__format__',\n",
       " '__ge__',\n",
       " '__getattribute__',\n",
       " '__getitem__',\n",
       " '__gt__',\n",
       " '__hash__',\n",
       " '__iadd__',\n",
       " '__imul__',\n",
       " '__init__',\n",
       " '__init_subclass__',\n",
       " '__iter__',\n",
       " '__le__',\n",
       " '__len__',\n",
       " '__lt__',\n",
       " '__mul__',\n",
       " '__ne__',\n",
       " '__new__',\n",
       " '__reduce__',\n",
       " '__reduce_ex__',\n",
       " '__repr__',\n",
       " '__reversed__',\n",
       " '__rmul__',\n",
       " '__setattr__',\n",
       " '__setitem__',\n",
       " '__sizeof__',\n",
       " '__str__',\n",
       " '__subclasshook__',\n",
       " 'append',\n",
       " 'clear',\n",
       " 'copy',\n",
       " 'count',\n",
       " 'extend',\n",
       " 'index',\n",
       " 'insert',\n",
       " 'pop',\n",
       " 'remove',\n",
       " 'reverse',\n",
       " 'sort']"
      ]
     },
     "execution_count": 17,
     "metadata": {},
     "output_type": "execute_result"
    }
   ],
   "source": [
    "# 例二\n",
    "a = [1,'apple',3/8]\n",
    "print(id(a))\n",
    "# >>> 2093826222024\n",
    "b = [2,'orange',100/25]\n",
    "a += b\n",
    "print(id(a), id(b), a)\n",
    "# >>> 2093826221320 2093827856712 [1, 2]\n",
    "\n",
    "print(f\"class of a : {type(a)}, \\t class of b :{type(b)}\")\n",
    "print(list)\n",
    "dir(list)"
   ]
  },
  {
   "cell_type": "markdown",
   "metadata": {},
   "source": [
    "##### 從結果來看\n",
    "例一、例二的a得到了相同的結果，因為結果的值是我們所期待的很常讓我誤以為我們了解它。\n",
    "但當你查看id實就會發現，例一的a是一個新的被建立的對象，而例二的a仍然是原本的那個a，只是把b的值加進來。"
   ]
  },
  {
   "cell_type": "code",
   "execution_count": 18,
   "metadata": {},
   "outputs": [
    {
     "name": "stdout",
     "output_type": "stream",
     "text": [
      "1858769226096\n",
      "1858768925040 1858790799280 apple juice\n",
      "class of a : <class 'str'>, \t class of b :<class 'str'>\n",
      "<class 'str'>\n"
     ]
    },
    {
     "data": {
      "text/plain": [
       "['__add__',\n",
       " '__class__',\n",
       " '__contains__',\n",
       " '__delattr__',\n",
       " '__dir__',\n",
       " '__doc__',\n",
       " '__eq__',\n",
       " '__format__',\n",
       " '__ge__',\n",
       " '__getattribute__',\n",
       " '__getitem__',\n",
       " '__getnewargs__',\n",
       " '__gt__',\n",
       " '__hash__',\n",
       " '__init__',\n",
       " '__init_subclass__',\n",
       " '__iter__',\n",
       " '__le__',\n",
       " '__len__',\n",
       " '__lt__',\n",
       " '__mod__',\n",
       " '__mul__',\n",
       " '__ne__',\n",
       " '__new__',\n",
       " '__reduce__',\n",
       " '__reduce_ex__',\n",
       " '__repr__',\n",
       " '__rmod__',\n",
       " '__rmul__',\n",
       " '__setattr__',\n",
       " '__sizeof__',\n",
       " '__str__',\n",
       " '__subclasshook__',\n",
       " 'capitalize',\n",
       " 'casefold',\n",
       " 'center',\n",
       " 'count',\n",
       " 'encode',\n",
       " 'endswith',\n",
       " 'expandtabs',\n",
       " 'find',\n",
       " 'format',\n",
       " 'format_map',\n",
       " 'index',\n",
       " 'isalnum',\n",
       " 'isalpha',\n",
       " 'isascii',\n",
       " 'isdecimal',\n",
       " 'isdigit',\n",
       " 'isidentifier',\n",
       " 'islower',\n",
       " 'isnumeric',\n",
       " 'isprintable',\n",
       " 'isspace',\n",
       " 'istitle',\n",
       " 'isupper',\n",
       " 'join',\n",
       " 'ljust',\n",
       " 'lower',\n",
       " 'lstrip',\n",
       " 'maketrans',\n",
       " 'partition',\n",
       " 'removeprefix',\n",
       " 'removesuffix',\n",
       " 'replace',\n",
       " 'rfind',\n",
       " 'rindex',\n",
       " 'rjust',\n",
       " 'rpartition',\n",
       " 'rsplit',\n",
       " 'rstrip',\n",
       " 'split',\n",
       " 'splitlines',\n",
       " 'startswith',\n",
       " 'strip',\n",
       " 'swapcase',\n",
       " 'title',\n",
       " 'translate',\n",
       " 'upper',\n",
       " 'zfill']"
      ]
     },
     "execution_count": 18,
     "metadata": {},
     "output_type": "execute_result"
    }
   ],
   "source": [
    "# 例三\n",
    "a = 'apple'\n",
    "print(id(a))\n",
    "# >>> 2093826222024\n",
    "b = ' juice'\n",
    "a += b\n",
    "print(id(a), id(b), a)\n",
    "# >>> 2093826221320 2093827856712 [1, 2]\n",
    "\n",
    "print(f\"class of a : {type(a)}, \\t class of b :{type(b)}\")\n",
    "print(str)\n",
    "dir(str)"
   ]
  },
  {
   "cell_type": "markdown",
   "metadata": {},
   "source": [
    "***** __iadd__ 與 __add__\n",
    "在上面說到\"可變序列會實現較特殊的方法__iadd__\"，但是為什麼像是str為不可變序列仍然能使用增量賦值符號(+=)呢?\n",
    "那是因為當這個類別沒有實現__iadd__的方法時，python會退一步調用__add__。也就是說，對於str，其實你使用a+=b其實跟a = a + b一樣，因此你也可以從此得知，不可變序列作完運算都是獲得一個新的對象。\n",
    "所以不能把對於字串(str)做增量符號(+=)實作細節當成是跟list是一樣的。"
   ]
  }
 ],
 "metadata": {
  "kernelspec": {
   "display_name": "yt.venv",
   "language": "python",
   "name": "python3"
  },
  "language_info": {
   "codemirror_mode": {
    "name": "ipython",
    "version": 3
   },
   "file_extension": ".py",
   "mimetype": "text/x-python",
   "name": "python",
   "nbconvert_exporter": "python",
   "pygments_lexer": "ipython3",
   "version": "3.10.8"
  }
 },
 "nbformat": 4,
 "nbformat_minor": 2
}
