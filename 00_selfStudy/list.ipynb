{
 "cells": [
  {
   "cell_type": "markdown",
   "metadata": {},
   "source": [
    "<ref> https://medium.com/@a4793706/python-深入搞懂python-的-list-6bafe3d3bcee\n",
    "\n",
    "### [Python]不再用錯Python 的 list\n",
    "pass"
   ]
  },
  {
   "cell_type": "markdown",
   "metadata": {},
   "source": [
    "#### 什麼是list\n",
    "list是一種容器序列，容器序列能存放不同類型的數據。除了list以外還有誰是容器序列，ex: tuple。那有誰不是容器序列，str、bytes這些屬於扁平序列。兩者序列差異在於，容器存放的是任意類型參照(reference)，而扁平存放的是值。\n",
    "\n",
    "還能再從可不可以修改區分出可變序列(mutable sequence)、不可變序列(immutable sequence)。\n",
    "list屬於可變序列，str、tuple就屬於不可變序列。\n",
    "舉個例子,一定能秒懂。像對list某一個特定index賦值:list[0] = 1，但不能夠對str做一樣的操作str[0] = ‘a’。\n",
    "\n",
    "\n",
    "#### 序列使用運算符號\n",
    "我們都很熟習的使用+,*對序列操作。\n",
    "像是使用+號時，是將兩個相同類型的序列加在一起，在相加的過程中，這兩個序列都不會被修改，而python會創建一個新的相同類型的序列來當作結果。\n",
    "在python +,*都是一樣的規則，在不修改原本操作對象建立新的序列。\n",
    "\n",
    "note:\n",
    "用查看id的方式確認他們是不是相同的對象，可以看到當a + b的結果賦值給a時，這個a已經不是以前的那個a了"
   ]
  },
  {
   "cell_type": "code",
   "execution_count": 13,
   "metadata": {},
   "outputs": [
    {
     "name": "stdout",
     "output_type": "stream",
     "text": [
      "1858769287168\n",
      "1858791005952 1858790603968 [1, 'apple', 0.375, 2, 'orange', 4.0]\n",
      "class of a : <class 'list'>, \t class of b :<class 'list'>\n",
      "<class 'list'>\n"
     ]
    }
   ],
   "source": [
    "# 例一\n",
    "a = [1,'apple',3/8]\n",
    "print(id(a))\n",
    "# >>> 2093826222024\n",
    "b = [2,'orange',100/25]\n",
    "a = a + b\n",
    "print(id(a), id(b), a)\n",
    "# >>> 2093826221320 2093827856712 [1, 2]\n",
    "\n",
    "print(f\"class of a : {type(a)}, \\t class of b :{type(b)}\")\n",
    "print(list)"
   ]
  },
  {
   "cell_type": "markdown",
   "metadata": {},
   "source": [
    "更深入一點，我們知道python 中的每個類型其實都是一個類別(你可以print(list)), 它會return <class ‘list’>)，\n",
    "list因為能使用增量符號(+)是因為list 類別裡定義了__add__方法(使用dir(list)就可看到list類別內部定義的方法)。\n",
    "在可變序列會實現較特殊的方法__iadd__，你可以稱它為就地加法。那什麼時候會使用到它呢?就是當你使用增量賦值符號(+=)，對於可變序列來說值是被就地改動的，變數並不會被關連到新的對象。\n",
    "下面這個例子會讓你更清楚:"
   ]
  },
  {
   "cell_type": "code",
   "execution_count": 17,
   "metadata": {},
   "outputs": [
    {
     "name": "stdout",
     "output_type": "stream",
     "text": [
      "1858769680448\n",
      "1858769680448 1858790733504 [1, 'apple', 0.375, 2, 'orange', 4.0]\n",
      "class of a : <class 'list'>, \t class of b :<class 'list'>\n",
      "<class 'list'>\n"
     ]
    },
    {
     "data": {
      "text/plain": [
       "['__add__',\n",
       " '__class__',\n",
       " '__class_getitem__',\n",
       " '__contains__',\n",
       " '__delattr__',\n",
       " '__delitem__',\n",
       " '__dir__',\n",
       " '__doc__',\n",
       " '__eq__',\n",
       " '__format__',\n",
       " '__ge__',\n",
       " '__getattribute__',\n",
       " '__getitem__',\n",
       " '__gt__',\n",
       " '__hash__',\n",
       " '__iadd__',\n",
       " '__imul__',\n",
       " '__init__',\n",
       " '__init_subclass__',\n",
       " '__iter__',\n",
       " '__le__',\n",
       " '__len__',\n",
       " '__lt__',\n",
       " '__mul__',\n",
       " '__ne__',\n",
       " '__new__',\n",
       " '__reduce__',\n",
       " '__reduce_ex__',\n",
       " '__repr__',\n",
       " '__reversed__',\n",
       " '__rmul__',\n",
       " '__setattr__',\n",
       " '__setitem__',\n",
       " '__sizeof__',\n",
       " '__str__',\n",
       " '__subclasshook__',\n",
       " 'append',\n",
       " 'clear',\n",
       " 'copy',\n",
       " 'count',\n",
       " 'extend',\n",
       " 'index',\n",
       " 'insert',\n",
       " 'pop',\n",
       " 'remove',\n",
       " 'reverse',\n",
       " 'sort']"
      ]
     },
     "execution_count": 17,
     "metadata": {},
     "output_type": "execute_result"
    }
   ],
   "source": [
    "# 例二\n",
    "a = [1,'apple',3/8]\n",
    "print(id(a))\n",
    "# >>> 2093826222024\n",
    "b = [2,'orange',100/25]\n",
    "a += b\n",
    "print(id(a), id(b), a)\n",
    "# >>> 2093826221320 2093827856712 [1, 2]\n",
    "\n",
    "print(f\"class of a : {type(a)}, \\t class of b :{type(b)}\")\n",
    "print(list)\n",
    "dir(list)"
   ]
  },
  {
   "cell_type": "markdown",
   "metadata": {},
   "source": [
    "##### 從結果來看\n",
    "例一、例二的a得到了相同的結果，因為結果的值是我們所期待的很常讓我誤以為我們了解它。\n",
    "但當你查看id實就會發現，例一的a是一個新的被建立的對象，而例二的a仍然是原本的那個a，只是把b的值加進來。"
   ]
  },
  {
   "cell_type": "code",
   "execution_count": 18,
   "metadata": {},
   "outputs": [
    {
     "name": "stdout",
     "output_type": "stream",
     "text": [
      "1858769226096\n",
      "1858768925040 1858790799280 apple juice\n",
      "class of a : <class 'str'>, \t class of b :<class 'str'>\n",
      "<class 'str'>\n"
     ]
    },
    {
     "data": {
      "text/plain": [
       "['__add__',\n",
       " '__class__',\n",
       " '__contains__',\n",
       " '__delattr__',\n",
       " '__dir__',\n",
       " '__doc__',\n",
       " '__eq__',\n",
       " '__format__',\n",
       " '__ge__',\n",
       " '__getattribute__',\n",
       " '__getitem__',\n",
       " '__getnewargs__',\n",
       " '__gt__',\n",
       " '__hash__',\n",
       " '__init__',\n",
       " '__init_subclass__',\n",
       " '__iter__',\n",
       " '__le__',\n",
       " '__len__',\n",
       " '__lt__',\n",
       " '__mod__',\n",
       " '__mul__',\n",
       " '__ne__',\n",
       " '__new__',\n",
       " '__reduce__',\n",
       " '__reduce_ex__',\n",
       " '__repr__',\n",
       " '__rmod__',\n",
       " '__rmul__',\n",
       " '__setattr__',\n",
       " '__sizeof__',\n",
       " '__str__',\n",
       " '__subclasshook__',\n",
       " 'capitalize',\n",
       " 'casefold',\n",
       " 'center',\n",
       " 'count',\n",
       " 'encode',\n",
       " 'endswith',\n",
       " 'expandtabs',\n",
       " 'find',\n",
       " 'format',\n",
       " 'format_map',\n",
       " 'index',\n",
       " 'isalnum',\n",
       " 'isalpha',\n",
       " 'isascii',\n",
       " 'isdecimal',\n",
       " 'isdigit',\n",
       " 'isidentifier',\n",
       " 'islower',\n",
       " 'isnumeric',\n",
       " 'isprintable',\n",
       " 'isspace',\n",
       " 'istitle',\n",
       " 'isupper',\n",
       " 'join',\n",
       " 'ljust',\n",
       " 'lower',\n",
       " 'lstrip',\n",
       " 'maketrans',\n",
       " 'partition',\n",
       " 'removeprefix',\n",
       " 'removesuffix',\n",
       " 'replace',\n",
       " 'rfind',\n",
       " 'rindex',\n",
       " 'rjust',\n",
       " 'rpartition',\n",
       " 'rsplit',\n",
       " 'rstrip',\n",
       " 'split',\n",
       " 'splitlines',\n",
       " 'startswith',\n",
       " 'strip',\n",
       " 'swapcase',\n",
       " 'title',\n",
       " 'translate',\n",
       " 'upper',\n",
       " 'zfill']"
      ]
     },
     "execution_count": 18,
     "metadata": {},
     "output_type": "execute_result"
    }
   ],
   "source": [
    "# 例三\n",
    "a = 'apple'\n",
    "print(id(a))\n",
    "# >>> 2093826222024\n",
    "b = ' juice'\n",
    "a += b\n",
    "print(id(a), id(b), a)\n",
    "# >>> 2093826221320 2093827856712 [1, 2]\n",
    "\n",
    "print(f\"class of a : {type(a)}, \\t class of b :{type(b)}\")\n",
    "print(str)\n",
    "dir(str)"
   ]
  },
  {
   "cell_type": "markdown",
   "metadata": {},
   "source": [
    "***** __iadd__ 與 __add__\n",
    "在上面說到\"可變序列會實現較特殊的方法__iadd__\"，但是為什麼像是str為不可變序列仍然能使用增量賦值符號(+=)呢?\n",
    "那是因為當這個類別沒有實現__iadd__的方法時，python會退一步調用__add__。也就是說，對於str，其實你使用a+=b其實跟a = a + b一樣，因此你也可以從此得知，不可變序列作完運算都是獲得一個新的對象。\n",
    "所以不能把對於字串(str)做增量符號(+=)實作細節當成是跟list是一樣的。"
   ]
  },
  {
   "cell_type": "markdown",
   "metadata": {},
   "source": [
    "##### 還得額外注意:如果你要使用*\n",
    "當你使用 l * n這個語句，如果l裡面的元素有可變對象的參照了話，你所得到的結果可能並非你預期的。\n",
    "下面使用一個例子來讓你更清楚你得到的東西是什麼:"
   ]
  },
  {
   "cell_type": "code",
   "execution_count": 19,
   "metadata": {},
   "outputs": [
    {
     "name": "stdout",
     "output_type": "stream",
     "text": [
      "[[], [], []] [] 1858769670144 1858769670144 1858769670144\n"
     ]
    }
   ],
   "source": [
    "# 當你想要初始化一個由多個列表組成的列表\n",
    "element = []\n",
    "l = [element]\n",
    "n_l = l * 3\n",
    "print(n_l, element, id(n_l[0]), id(n_l[1]), id(n_l[2]))\n",
    "# >>> [[], [], []] [] 2093824409416 2093824409416 2093824409416"
   ]
  },
  {
   "cell_type": "markdown",
   "metadata": {},
   "source": [
    "##### 可怕的事實 : +、+=、*對於可變序列、不可變序列的影響\n",
    "就是n_l列表中的每個元素都參照了相同的列表。\n",
    "因此當你對可變序列做像是append、+= 這類型的就地更新操作時，因為所有元素都參照了同一個列表，因此不管對哪個index操作，其實都是對同一個列表做操作，只要這個列表值改變了，所有的參照也會跟著改變。\n",
    "\n",
    "如果是對某一個index做增值操作(+)了話，就不會有這樣的問題，因為運算結果會賦予一個新的對象。\n",
    "你可以執行這兩個操作就會更清楚:"
   ]
  },
  {
   "cell_type": "code",
   "execution_count": 21,
   "metadata": {},
   "outputs": [
    {
     "name": "stdout",
     "output_type": "stream",
     "text": [
      "[[1], [1], [1]] 1858790932160 1858790932160 1858790932160\n",
      "[[1], [], []] 1858790723840 1858790798912 1858790798912\n"
     ]
    }
   ],
   "source": [
    "n_l = [[]] * 3\n",
    "n_l[0] += [1]  # or n_l[0].append(1)\n",
    "print(n_l, id(n_l[0]), id(n_l[1]), id(n_l[2]))\n",
    "# >>> [[1], [1], [1]] 2093826064520 2093826064520\n",
    "\n",
    "n_l = [[]] * 3\n",
    "n_l[0] = n_l[0] + [1]\n",
    "print(n_l, id(n_l[0]), id(n_l[1]), id(n_l[2]))\n",
    "# >>> [[1], [], []] 2093826064520 2093828342024"
   ]
  },
  {
   "cell_type": "markdown",
   "metadata": {},
   "source": [
    "會遇到這個問題是因為list裡面是可變對象，\n",
    "(ps.\n",
    "對可變序列做像是append、+= 這類型的就地更新操作時，因為所有元素都參照了同一個列表，因此不管對哪個index操作，其實都是對同一個列表做操作，只要這個列表值改變了，所有的參照也會跟著改變。)\n",
    "##### 如果是不可變對象就完全不會有這個問題。"
   ]
  },
  {
   "cell_type": "code",
   "execution_count": 31,
   "metadata": {},
   "outputs": [
    {
     "name": "stdout",
     "output_type": "stream",
     "text": [
      "['apple juice', 'apple', 'apple'] 1858791000176 1858769226096 1858769226096\n",
      "[(2, 5, 1, 3), (2, 5), (2, 5)] 1858769625440 1858791649600 1858791649600\n"
     ]
    }
   ],
   "source": [
    "n_l = [('apple')] * 3  #不可變對象str\n",
    "n_l[0] += ' juice'\n",
    "print(n_l, id(n_l[0]), id(n_l[1]), id(n_l[2]))\n",
    "# >>> ['apple juice', 'apple', 'apple'] 2093828725168 2095882712816 2095882712816\n",
    "\n",
    "n_l = [(2,5)] * 3  #不可變對象tuple\n",
    "n_l[0] += (1,3)\n",
    "print(n_l, id(n_l[0]), id(n_l[1]), id(n_l[2]))\n",
    "# >>> [3, 2, 2] 1858689892656 1858689892624 1858689892624"
   ]
  },
  {
   "cell_type": "code",
   "execution_count": 43,
   "metadata": {},
   "outputs": [
    {
     "name": "stdout",
     "output_type": "stream",
     "text": [
      "[[1, 2, 3], [1, 2, 3], [1, 2, 3]]\n",
      "[[1, 3], [2], [1, 3]]\n",
      "[[], [], [], [], []]\n",
      "1858791909440 1858791903040 1858791817280 1858769229312 1858791821440 1858791337280\n",
      "[[1], [2], [3], ['apple'], []]\n",
      "1858791909440 1858791903040 1858791817280 1858769229312 1858791821440 1858791337280\n"
     ]
    }
   ],
   "source": [
    "# ex1:\n",
    "# l1 內部的三個元素都參照了相同的列表，因此做append其實都是同一個列表不斷疊加\n",
    "l1 = [[]] * 3\n",
    "l1[0].append(1)\n",
    "l1[1].append(2)\n",
    "#l1[2].append(3)\n",
    "l1[2] += [3]\n",
    "print(l1)\n",
    "\n",
    "# ex2:\n",
    "# l2 內部雖然三個元素都參照同個列表，但當我們對l2[1]賦予l2[1]+[2]的值時，l2[1]就已經是新的序列了。l2 index 0、2仍然參照同一個列表，使用+=、append操作不會為它們獲得新的序列，而是對同一個列表操作。\n",
    "l2 = [[]] * 3\n",
    "l2[1] = l2[1] + [2]\n",
    "l2[0] += [1]\n",
    "l2[2].append(3)\n",
    "print(l2)\n",
    "\n",
    "# ex3:\n",
    "# 如果我們希望內部元素都有不同參照可以用迭代的方式，這樣每個元素都是新的對象\n",
    "l3 = [[] for i in range(5)]\n",
    "print(l3)\n",
    "print(id(l3),id(l3[0]),id(l3[1]),id(l3[2]),id(l3[3]),id(l3[4]))\n",
    "l3[0].append(1)\n",
    "l3[1].append(2)\n",
    "l3[2].append(3)\n",
    "l3[3] += [\"apple\"]\n",
    "print(l3)\n",
    "print(id(l3),id(l3[0]),id(l3[1]),id(l3[2]),id(l3[3]),id(l3[4]))"
   ]
  },
  {
   "cell_type": "markdown",
   "metadata": {},
   "source": [
    "#### <測驗>"
   ]
  },
  {
   "cell_type": "code",
   "execution_count": 44,
   "metadata": {},
   "outputs": [
    {
     "name": "stdout",
     "output_type": "stream",
     "text": [
      "[1, 3] [1, 3]\n"
     ]
    }
   ],
   "source": [
    "# ex1:\n",
    "a = [1]\n",
    "b = a\n",
    "b.append(3)\n",
    "print(a, b)"
   ]
  },
  {
   "cell_type": "code",
   "execution_count": 73,
   "metadata": {},
   "outputs": [
    {
     "name": "stdout",
     "output_type": "stream",
     "text": [
      "[1] \t [1, 3] \t\n",
      "1858791053952 \t 1858791642048\n",
      "[1] \t [1, 3] \t [[1]] \t [[1], 5] \t\n",
      "1858791053952 \t 1858791642048 \t 1858791738432 \t 1858769675264\n",
      "[1] \t [1, 3] \t [[1, 7]] \t [[1, 7], 5] \t [[1, 7]]\n",
      "1858791053952 \t 1858791642048 \t 1858791738432 \t 1858769675264 \t 1858791927488\n"
     ]
    }
   ],
   "source": [
    "# ex2:\n",
    "a = [1]\n",
    "b = a.copy()\n",
    "b.append(3)\n",
    "print(a,\"\\t\" ,b,\"\\t\" )\n",
    "print(id(a),\"\\t\" ,id(b))\n",
    "\n",
    "a_pro = [[1]]\n",
    "b_pro = a_pro.copy()\n",
    "b_pro.append(5)\n",
    "print(a,\"\\t\" ,b,\"\\t\" ,a_pro,\"\\t\" , b_pro,\"\\t\")\n",
    "print(id(a),\"\\t\" ,id(b),\"\\t\" ,id(a_pro),\"\\t\" , id(b_pro))\n",
    "\n",
    "c_pro = a_pro.copy()\n",
    "c_pro[0].append(7)   # Q :用index參照&改變了原始的列表 ????\n",
    "print(a,\"\\t\" ,b,\"\\t\" , a_pro,\"\\t\" , b_pro,\"\\t\" , c_pro)\n",
    "print(id(a),\"\\t\" ,id(b),\"\\t\" , id(a_pro),\"\\t\" , id(b_pro),\"\\t\" , id(c_pro))"
   ]
  },
  {
   "cell_type": "code",
   "execution_count": 81,
   "metadata": {},
   "outputs": [
    {
     "name": "stdout",
     "output_type": "stream",
     "text": [
      "[1, 2, 4]\n",
      "[1, 2, 4]\n",
      "[1, 2, 3, 4]\n",
      "[1, 2, 4, 3] [1, 2, 4, 3]\n"
     ]
    }
   ],
   "source": [
    "#<ref>https://stackoverflow.com/questions/14895599/insert-an-element-at-a-specific-index-in-a-list-and-return-the-updated-list\n",
    "\n",
    "a = [1, 2, 4]\n",
    "print (a)\n",
    "# >>>[1, 2, 4]\n",
    "b = a[:2] + [3] + a[2:]\n",
    "print (a)\n",
    "#>>> [1, 2, 4]\n",
    "print (b)\n",
    "# >>>[1, 2, 3, 4]\n",
    "\n",
    "c = a\n",
    "c.append(3)\n",
    "print(a,c)"
   ]
  }
 ],
 "metadata": {
  "kernelspec": {
   "display_name": "yt.venv",
   "language": "python",
   "name": "python3"
  },
  "language_info": {
   "codemirror_mode": {
    "name": "ipython",
    "version": 3
   },
   "file_extension": ".py",
   "mimetype": "text/x-python",
   "name": "python",
   "nbconvert_exporter": "python",
   "pygments_lexer": "ipython3",
   "version": "3.10.8"
  }
 },
 "nbformat": 4,
 "nbformat_minor": 2
}
