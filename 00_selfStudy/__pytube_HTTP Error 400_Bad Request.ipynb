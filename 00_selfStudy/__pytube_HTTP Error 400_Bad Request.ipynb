{
 "cells": [
  {
   "cell_type": "markdown",
   "metadata": {},
   "source": [
    "pytube Release v15.0.0.\n",
    "VS code v1.91.1"
   ]
  },
  {
   "cell_type": "markdown",
   "metadata": {},
   "source": [
    "### **HTTP Error 400: Bad Request #1973**\n",
    "https://github.com/pytube/pytube/issues/1973\n",
    "issue date:2024.07.19\n",
    "\n",
    "\n",
    "**from:**\n",
    "hoangnv99 commented 2 days ago :  \n",
    "My program still ran yesterday, but today when running, the error HTTP Error 400: Bad Request appears\n",
    "\n",
    "**working issue-1**  \n",
    "from:KhurramRana commented 2 days ago  \n",
    "Place these lines of code at the top of your codebase and the issue will be fixed.  \n",
    "\n",
    "        from pytube. innertube import _default_clients\n",
    "\n",
    "        _default_clients[ \"ANDROID\"][ \"context\"][\"client\"][\"clientVersion\"] = \"19.08.35\"\n",
    "        _default_clients[\"IOS\"][\"context\"][\"client\"][\"clientVersion\"] = \"19.08.35\"\n",
    "        _default_clients[ \"ANDROID_EMBED\"][ \"context\"][ \"client\"][\"clientVersion\"] = \"19.08.35\"\n",
    "        _default_clients[ \"IOS_EMBED\"][ \"context\"][\"client\"][\"clientVersion\"] = \"19.08.35\"\n",
    "        _default_clients[\"IOS_MUSIC\"][ \"context\"][\"client\"][\"clientVersion\"] = \"6.41\"\n",
    "        _default_clients[ \"ANDROID_MUSIC\"] = _default_clients[ \"ANDROID_CREATOR\" ]\n"
   ]
  }
 ],
 "metadata": {
  "kernelspec": {
   "display_name": "yt.venv",
   "language": "python",
   "name": "python3"
  },
  "language_info": {
   "name": "python",
   "version": "3.10.8"
  }
 },
 "nbformat": 4,
 "nbformat_minor": 2
}
