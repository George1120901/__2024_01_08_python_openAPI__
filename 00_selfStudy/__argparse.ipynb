{
 "cells": [
  {
   "cell_type": "markdown",
   "id": "ce4e525f",
   "metadata": {},
   "source": [
    "[TODO]  \n",
    "[<參考>\"Python argparse 教學：比 sys.argv 更好用，讓命令列引數整潔又有序\"](https://haosquare.com/python-argparse/)"
   ]
  }
 ],
 "metadata": {
  "language_info": {
   "name": "python"
  }
 },
 "nbformat": 4,
 "nbformat_minor": 5
}
