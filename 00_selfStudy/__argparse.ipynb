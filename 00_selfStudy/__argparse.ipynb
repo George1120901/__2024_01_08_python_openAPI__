{
 "cells": [
  {
   "cell_type": "markdown",
   "id": "ce4e525f",
   "metadata": {},
   "source": [
    "[TODO]  \n",
    "[<參考>\"Python argparse 教學：比 sys.argv 更好用，讓命令列引數整潔又有序\"](https://haosquare.com/python-argparse/)"
   ]
  },
  {
   "cell_type": "markdown",
   "id": "0506d387",
   "metadata": {},
   "source": [
    "當你在命令列呼叫 Python 程式、又同時需要修改變數內容，你可以用命令列引數（command-line argument）的方式**將變數資訊傳入執行程式中**，"
   ]
  },
  {
   "cell_type": "markdown",
   "id": "43e699c9",
   "metadata": {},
   "source": [
    "**初學 Python 常會使用 `sys.argv`**，例如：  \n",
    "1. 建立一個 python py檔：`test.py`\n",
    "    ```\n",
    "    ## test.py\n",
    "    import sys\n",
    "    print(f\"sys.argv 是個串列，長度為：{len(sys.argv)}\")\n",
    "    print(\"第 1 個 sys.argv 會是 py 檔案名稱：\")\n",
    "    print(sys.argv[0])\n",
    "    print(\"第 2 個 sys.argv 的內容：\")\n",
    "    print(sys.argv[1])\n",
    "    print(\"第 3 個 sys.argv 的內容：\")\n",
    "    print(sys.argv[2])\n",
    "    print(\"第 4 個 sys.argv 的內容：\")\n",
    "    print(sys.argv[3])\n",
    "    ```\n",
    "\n",
    "2. 命令例執行此python py檔與命令列指定的參數：  \n",
    "    `>>>$ python3 test.py abc 9527`  \n",
    "    ```\n",
    "    sys.argv 是個串列，長度為：3\n",
    "    第 1 個 sys.argv 會是 py 檔案名稱：\n",
    "    test.py\n",
    "    第 2 個 sys.argv 的內容：\n",
    "    abc\n",
    "    第 3 個 sys.argv 的內容：\n",
    "    9527\n",
    "    第 4 個 sys.argv 的內容：\n",
    "    Traceback (most recent call last):\n",
    "    File \"test.py\", line 11, in <module>\n",
    "        print(sys.argv[3])\n",
    "    IndexError: list index out of range\n",
    "    ```\n",
    "    * 如範例所見，`sys.argv` 只能將**程式引數一個個以陽春的陣列傳遞**，  \n",
    "    * 當你需要解析更複雜的引數，包括讓使用者輸入引數內容有彈性、又能讓程式整潔有序地管理引數，你就需要 argparse 函式庫！"
   ]
  },
  {
   "cell_type": "code",
   "execution_count": null,
   "id": "3ca3a245",
   "metadata": {},
   "outputs": [
    {
     "name": "stdout",
     "output_type": "stream",
     "text": [
      "sys.argv 是個陣列，長度為：3\n",
      "第 1 個 sys.argv 會是 py 檔案名稱：\n",
      "test.py\n",
      "第 2 個 sys.argv 的內容：\n",
      "abc\n",
      "第 3 個 sys.argv 的內容：\n",
      "9527\n",
      "第 4 個 sys.argv 的內容：\n"
     ]
    },
    {
     "ename": "IndexError",
     "evalue": "list index out of range",
     "output_type": "error",
     "traceback": [
      "\u001b[1;31m---------------------------------------------------------------------------\u001b[0m",
      "\u001b[1;31mIndexError\u001b[0m                                Traceback (most recent call last)",
      "Cell \u001b[1;32mIn[5], line 13\u001b[0m\n\u001b[0;32m     11\u001b[0m \u001b[38;5;28mprint\u001b[39m(sys\u001b[38;5;241m.\u001b[39margv[\u001b[38;5;241m2\u001b[39m],end\u001b[38;5;241m=\u001b[39m\u001b[38;5;124m'\u001b[39m\u001b[38;5;130;01m\\n\u001b[39;00m\u001b[38;5;124m'\u001b[39m)\n\u001b[0;32m     12\u001b[0m \u001b[38;5;28mprint\u001b[39m(\u001b[38;5;124m\"\u001b[39m\u001b[38;5;124m第 4 個 sys.argv 的內容：\u001b[39m\u001b[38;5;124m\"\u001b[39m)\n\u001b[1;32m---> 13\u001b[0m \u001b[38;5;28mprint\u001b[39m(\u001b[43msys\u001b[49m\u001b[38;5;241;43m.\u001b[39;49m\u001b[43margv\u001b[49m\u001b[43m[\u001b[49m\u001b[38;5;241;43m3\u001b[39;49m\u001b[43m]\u001b[49m)\n",
      "\u001b[1;31mIndexError\u001b[0m: list index out of range"
     ]
    }
   ],
   "source": [
    "## test.py\n",
    "import sys\n",
    "\n",
    "sys.argv = ['test.py','abc',9527]     # 建一list 模擬 py檔於命令列指定的參數\n",
    "print(f\"sys.argv 是個陣列，長度為：{len(sys.argv)}\")\n",
    "print(\"第 1 個 sys.argv 會是 py 檔案名稱：\")\n",
    "print(sys.argv[0])\n",
    "print(\"第 2 個 sys.argv 的內容：\")\n",
    "print(sys.argv[1])\n",
    "print(\"第 3 個 sys.argv 的內容：\")\n",
    "print(sys.argv[2])\n",
    "print(\"第 4 個 sys.argv 的內容：\")\n",
    "print(sys.argv[3])"
   ]
  },
  {
   "cell_type": "markdown",
   "id": "7cdd8cd0",
   "metadata": {},
   "source": [
    "#### **argparse 函式庫**\n",
    "以argparse 函式庫解析更複雜的引數，包括讓使用者輸入引數內容有彈性、又能讓程式整潔有序地管理引數！\n",
    "\n",
    "* 可以用 argparse 做到的複雜命令列引數處理，就以用於下載 YouTube 影片的 youtube-dl 專案 為例：  \n",
    "`>>>$ youtube-dl XqZsoesa55w -x --audio-format mp3 -o '%(title)s.%(ext)s'`  \n",
    "這行呼叫 youtube-dl Python 程式的指令中，引數可以單純用位置決定、可以是布林變數的開關功能、也可以明確寫出控制變數內容。\n",
    "* 在這篇筆記裡，將用幾個範例學會 argparse 函式庫如何做到這些引數管理功能、並有作者分享使用 argparse 時認為實用的幾項小技巧。\n"
   ]
  },
  {
   "cell_type": "markdown",
   "id": "0afb9770",
   "metadata": {},
   "source": [
    "#### **位置引數**  \n",
    "使用 argparse 的三個基本步驟包括：  \n",
    "* 先創造 `argparse.ArgumentParser()` 物件，它是我們管理引數需要的 “parser”\n",
    "* ` add_argument()` 告訴 parser 我們需要的命令列引數有哪些\n",
    "* 使用 `parse_args()` 來從 parser 取得引數傳來的 Data\n",
    "\n",
    "我們從位置引數開始學習這些基本步驟。  \n",
    "位置引數（Positional Argument）會把使用者輸入的引數**依照輸入順序**放進你宣告的引數變數中，  \n",
    "在下方範例中，`add_argument()` **最前面的參數就是你的命令列引數名稱**：\n",
    "```\n",
    "## test.py\n",
    "import argparse\n",
    "parser = argparse.ArgumentParser()\n",
    "parser.add_argument(\"arg1\")\n",
    "parser.add_argument(\"arg2\",\n",
    "                    help=\"這是第 2 個引數，請輸入整數\")\n",
    "parser.add_argument(\"arg3\",\n",
    "                    help=\"這是第 3 個引數，「要求」輸入整數\",\n",
    "                    type=int)\n",
    "args = parser.parse_args()\n",
    "print(f\"第 1 個引數：{args.arg1:^10}，type={type(args.arg1)}\")   # : 格式化(Python format)數值,開始需要加上冒號\n",
    "print(f\"第 2 個引數：{args.arg2:^10}，type={type(args.arg2)}\")   # ^ 置中對齊\n",
    "print(f\"第 3 個引數：{args.arg3:^10}，type={type(args.arg3)}\")   # 數字.數字 最小寬度.最大字元數，如果後方是 f (%f)，第二個數字表示小數點位數\n",
    "```\n",
    "\n",
    "![argparse_test01](./figure/argparse_test01.png)"
   ]
  },
  {
   "cell_type": "code",
   "execution_count": null,
   "id": "fe9c1439",
   "metadata": {},
   "outputs": [
    {
     "ename": "TypeError",
     "evalue": "'int' object is not subscriptable",
     "output_type": "error",
     "traceback": [
      "\u001b[1;31m---------------------------------------------------------------------------\u001b[0m",
      "\u001b[1;31mTypeError\u001b[0m                                 Traceback (most recent call last)",
      "Cell \u001b[1;32mIn[9], line 10\u001b[0m\n\u001b[0;32m      5\u001b[0m parser\u001b[38;5;241m.\u001b[39madd_argument(\u001b[38;5;124m\"\u001b[39m\u001b[38;5;124marg2\u001b[39m\u001b[38;5;124m\"\u001b[39m,\n\u001b[0;32m      6\u001b[0m                     help\u001b[38;5;241m=\u001b[39m\u001b[38;5;124m\"\u001b[39m\u001b[38;5;124m這是第 2 個引數，請輸入整數\u001b[39m\u001b[38;5;124m\"\u001b[39m)\n\u001b[0;32m      7\u001b[0m parser\u001b[38;5;241m.\u001b[39madd_argument(\u001b[38;5;124m\"\u001b[39m\u001b[38;5;124marg3\u001b[39m\u001b[38;5;124m\"\u001b[39m,\n\u001b[0;32m      8\u001b[0m                     help\u001b[38;5;241m=\u001b[39m\u001b[38;5;124m\"\u001b[39m\u001b[38;5;124m這是第 3 個引數，「要求」輸入整數\u001b[39m\u001b[38;5;124m\"\u001b[39m,\n\u001b[0;32m      9\u001b[0m                     \u001b[38;5;28mtype\u001b[39m\u001b[38;5;241m=\u001b[39m\u001b[38;5;28mint\u001b[39m)\n\u001b[1;32m---> 10\u001b[0m args \u001b[38;5;241m=\u001b[39m \u001b[43mparser\u001b[49m\u001b[38;5;241;43m.\u001b[39;49m\u001b[43mparse_args\u001b[49m\u001b[43m(\u001b[49m\u001b[43m)\u001b[49m\n\u001b[0;32m     11\u001b[0m \u001b[38;5;28mprint\u001b[39m(\u001b[38;5;124mf\u001b[39m\u001b[38;5;124m\"\u001b[39m\u001b[38;5;124m第 1 個引數：\u001b[39m\u001b[38;5;132;01m{\u001b[39;00margs\u001b[38;5;241m.\u001b[39marg1\u001b[38;5;132;01m:\u001b[39;00m\u001b[38;5;124m^10\u001b[39m\u001b[38;5;132;01m}\u001b[39;00m\u001b[38;5;124m,type=\u001b[39m\u001b[38;5;132;01m{\u001b[39;00m\u001b[38;5;28mtype\u001b[39m(args\u001b[38;5;241m.\u001b[39marg1)\u001b[38;5;132;01m}\u001b[39;00m\u001b[38;5;124m\"\u001b[39m)\n\u001b[0;32m     12\u001b[0m \u001b[38;5;28mprint\u001b[39m(\u001b[38;5;124mf\u001b[39m\u001b[38;5;124m\"\u001b[39m\u001b[38;5;124m第 2 個引數：\u001b[39m\u001b[38;5;132;01m{\u001b[39;00margs\u001b[38;5;241m.\u001b[39marg2\u001b[38;5;132;01m:\u001b[39;00m\u001b[38;5;124m^10\u001b[39m\u001b[38;5;132;01m}\u001b[39;00m\u001b[38;5;124m,type=\u001b[39m\u001b[38;5;132;01m{\u001b[39;00m\u001b[38;5;28mtype\u001b[39m(args\u001b[38;5;241m.\u001b[39marg2)\u001b[38;5;132;01m}\u001b[39;00m\u001b[38;5;124m\"\u001b[39m)\n",
      "File \u001b[1;32mC:\\python3.10.8\\lib\\argparse.py:1826\u001b[0m, in \u001b[0;36mArgumentParser.parse_args\u001b[1;34m(self, args, namespace)\u001b[0m\n\u001b[0;32m   1825\u001b[0m \u001b[38;5;28;01mdef\u001b[39;00m \u001b[38;5;21mparse_args\u001b[39m(\u001b[38;5;28mself\u001b[39m, args\u001b[38;5;241m=\u001b[39m\u001b[38;5;28;01mNone\u001b[39;00m, namespace\u001b[38;5;241m=\u001b[39m\u001b[38;5;28;01mNone\u001b[39;00m):\n\u001b[1;32m-> 1826\u001b[0m     args, argv \u001b[38;5;241m=\u001b[39m \u001b[38;5;28;43mself\u001b[39;49m\u001b[38;5;241;43m.\u001b[39;49m\u001b[43mparse_known_args\u001b[49m\u001b[43m(\u001b[49m\u001b[43margs\u001b[49m\u001b[43m,\u001b[49m\u001b[43m \u001b[49m\u001b[43mnamespace\u001b[49m\u001b[43m)\u001b[49m\n\u001b[0;32m   1827\u001b[0m     \u001b[38;5;28;01mif\u001b[39;00m argv:\n\u001b[0;32m   1828\u001b[0m         msg \u001b[38;5;241m=\u001b[39m _(\u001b[38;5;124m'\u001b[39m\u001b[38;5;124munrecognized arguments: \u001b[39m\u001b[38;5;132;01m%s\u001b[39;00m\u001b[38;5;124m'\u001b[39m)\n",
      "File \u001b[1;32mC:\\python3.10.8\\lib\\argparse.py:1859\u001b[0m, in \u001b[0;36mArgumentParser.parse_known_args\u001b[1;34m(self, args, namespace)\u001b[0m\n\u001b[0;32m   1857\u001b[0m \u001b[38;5;28;01mif\u001b[39;00m \u001b[38;5;28mself\u001b[39m\u001b[38;5;241m.\u001b[39mexit_on_error:\n\u001b[0;32m   1858\u001b[0m     \u001b[38;5;28;01mtry\u001b[39;00m:\n\u001b[1;32m-> 1859\u001b[0m         namespace, args \u001b[38;5;241m=\u001b[39m \u001b[38;5;28;43mself\u001b[39;49m\u001b[38;5;241;43m.\u001b[39;49m\u001b[43m_parse_known_args\u001b[49m\u001b[43m(\u001b[49m\u001b[43margs\u001b[49m\u001b[43m,\u001b[49m\u001b[43m \u001b[49m\u001b[43mnamespace\u001b[49m\u001b[43m)\u001b[49m\n\u001b[0;32m   1860\u001b[0m     \u001b[38;5;28;01mexcept\u001b[39;00m ArgumentError:\n\u001b[0;32m   1861\u001b[0m         err \u001b[38;5;241m=\u001b[39m _sys\u001b[38;5;241m.\u001b[39mexc_info()[\u001b[38;5;241m1\u001b[39m]\n",
      "File \u001b[1;32mC:\\python3.10.8\\lib\\argparse.py:1903\u001b[0m, in \u001b[0;36mArgumentParser._parse_known_args\u001b[1;34m(self, arg_strings, namespace)\u001b[0m\n\u001b[0;32m   1898\u001b[0m         arg_string_pattern_parts\u001b[38;5;241m.\u001b[39mappend(\u001b[38;5;124m'\u001b[39m\u001b[38;5;124mA\u001b[39m\u001b[38;5;124m'\u001b[39m)\n\u001b[0;32m   1900\u001b[0m \u001b[38;5;66;03m# otherwise, add the arg to the arg strings\u001b[39;00m\n\u001b[0;32m   1901\u001b[0m \u001b[38;5;66;03m# and note the index if it was an option\u001b[39;00m\n\u001b[0;32m   1902\u001b[0m \u001b[38;5;28;01melse\u001b[39;00m:\n\u001b[1;32m-> 1903\u001b[0m     option_tuple \u001b[38;5;241m=\u001b[39m \u001b[38;5;28;43mself\u001b[39;49m\u001b[38;5;241;43m.\u001b[39;49m\u001b[43m_parse_optional\u001b[49m\u001b[43m(\u001b[49m\u001b[43marg_string\u001b[49m\u001b[43m)\u001b[49m\n\u001b[0;32m   1904\u001b[0m     \u001b[38;5;28;01mif\u001b[39;00m option_tuple \u001b[38;5;129;01mis\u001b[39;00m \u001b[38;5;28;01mNone\u001b[39;00m:\n\u001b[0;32m   1905\u001b[0m         pattern \u001b[38;5;241m=\u001b[39m \u001b[38;5;124m'\u001b[39m\u001b[38;5;124mA\u001b[39m\u001b[38;5;124m'\u001b[39m\n",
      "File \u001b[1;32mC:\\python3.10.8\\lib\\argparse.py:2190\u001b[0m, in \u001b[0;36mArgumentParser._parse_optional\u001b[1;34m(self, arg_string)\u001b[0m\n\u001b[0;32m   2187\u001b[0m     \u001b[38;5;28;01mreturn\u001b[39;00m \u001b[38;5;28;01mNone\u001b[39;00m\n\u001b[0;32m   2189\u001b[0m \u001b[38;5;66;03m# if it doesn't start with a prefix, it was meant to be positional\u001b[39;00m\n\u001b[1;32m-> 2190\u001b[0m \u001b[38;5;28;01mif\u001b[39;00m \u001b[38;5;129;01mnot\u001b[39;00m \u001b[43marg_string\u001b[49m\u001b[43m[\u001b[49m\u001b[38;5;241;43m0\u001b[39;49m\u001b[43m]\u001b[49m \u001b[38;5;129;01min\u001b[39;00m \u001b[38;5;28mself\u001b[39m\u001b[38;5;241m.\u001b[39mprefix_chars:\n\u001b[0;32m   2191\u001b[0m     \u001b[38;5;28;01mreturn\u001b[39;00m \u001b[38;5;28;01mNone\u001b[39;00m\n\u001b[0;32m   2193\u001b[0m \u001b[38;5;66;03m# if the option string is present in the parser, return the action\u001b[39;00m\n",
      "\u001b[1;31mTypeError\u001b[0m: 'int' object is not subscriptable"
     ]
    }
   ],
   "source": [
    "# [TODO]\n",
    "## test.py\n",
    "import argparse\n",
    "parser = argparse.ArgumentParser()\n",
    "parser.add_argument(\"arg1\")\n",
    "parser.add_argument(\"arg2\",\n",
    "                    help=\"這是第 2 個引數，請輸入整數\")\n",
    "parser.add_argument(\"arg3\",\n",
    "                    help=\"這是第 3 個引數，「要求」輸入整數\",\n",
    "                    type=int)\n",
    "args = parser.parse_args()\n",
    "print(f\"第 1 個引數：{args.arg1:^10},type={type(args.arg1)}\")\n",
    "print(f\"第 2 個引數：{args.arg2:^10},type={type(args.arg2)}\")\n",
    "print(f\"第 3 個引數：{args.arg3:^10},type={type(args.arg3)}\")"
   ]
  },
  {
   "cell_type": "markdown",
   "id": "009ceff5",
   "metadata": {},
   "source": [
    "* 設置位置引數後，（在你進一步設定 nargs 參數以前）如果在命令列呼叫這支 Python 程式沒有引數，就會出錯：  \n",
    "    ```\n",
    "    ## 沒有引數會出錯\n",
    "    $ python3 test.py\n",
    "    usage: test.py [-h] arg1 arg2 arg3\n",
    "    test.py: error: the following arguments are required: arg1, arg2, arg3\n",
    "    ## 輸入太多引數也不行\n",
    "    $ python3 test.py a b c d e f\n",
    "    usage: test.py [-h] arg1 arg2 arg3\n",
    "    test.py: error: argument arg3: invalid int value: 'c'\n",
    "    ```\n",
    "* 正確依序輸入引數的結果如下：\n",
    "    ```\n",
    "    $ python3 test.py hello world 3\n",
    "    第 1 個引數：  hello   ，type=<class 'str'>\n",
    "    第 2 個引數：  world   ，type=<class 'str'>\n",
    "    第 3 個引數：    3     ，type=<class 'int'>\n",
    "    ```\n",
    "* 從以上結果可以看到第 3 個引數在 `add_argument()` 設定 `type=int`，會要求使用者輸入引數「必須」是 int 型別，若不是則會出錯；相較之下，第 2 個引數雖然在` help` 參數提示使用者要輸入整數，但是實際上即使不輸入整數，也不會產生 error。\n",
    "    ```\n",
    "    ## 第 3 個引數設定 type=int\n",
    "    ## 若使用者不是輸入整數就會回報錯誤\n",
    "    $ python3 test.py hello world three\n",
    "    usage: test.py [-h] arg1 arg2 arg3\n",
    "    test.py: error: argument arg3: invalid int value: 'three'\n",
    "\n",
    "    ## 第 2 個引數沒有設定 type 參數\n",
    "    ## 只會在 -h 或 --help 產生要求使用者輸入整數的提示\n",
    "    $ python3 test.py -h\n",
    "    usage: test.py [-h] arg1 arg2 arg3\n",
    "    positional arguments:\n",
    "    arg1\n",
    "    arg2        這是第 2 個引數，請輸入整數\n",
    "    arg3        這是第 3 個引數，「要求」輸入整數\n",
    "    optional arguments:\n",
    "    -h, --help  show this help message and exit\n",
    "    ```"
   ]
  },
  {
   "cell_type": "markdown",
   "id": "e12c8c13",
   "metadata": {},
   "source": [
    "#### **儲存引數資料的 Namespace 物件**\n",
    "\n",
    "使用 `parse_args()` 從 parser 取得引數資料後，此函數會回傳 `Namespace` 物件，這只是一個單純把資料用屬性（attribute）儲存下來的超簡單類別。\n",
    "* 用一般取得 attribute 的方式來取得引數資料內容 ex.`args.arg1`\n",
    "* 以使用 `vars()`，以 dict 資料結構取得引數資料 ex.`vars(args)`  -- [TODO] `vars`\n",
    "```\n",
    "## 延續上方傳入三個引數的範例\n",
    "## $ python3 test.py hello world 3    # for ios  (and for win $ python test.pt hellow world 3)\n",
    "## args = parser.parse_args()\n",
    "## args 是 Namespace 物件，只是個極簡單的類別\n",
    ">>> print(type(args))\n",
    "<class 'argparse.Namespace'>\n",
    ">>> print(args)\n",
    "Namespace(arg1='hello', arg2='world', arg3=3)\n",
    " \n",
    "## 用一般取得 attribute 的方式來取得引數資料內容\n",
    ">>> print(args.arg1)\n",
    "hello\n",
    "\n",
    "## 你也可以使用 vars()，以 dict 資料結構取得引數資料\n",
    ">>> print(vars(args))\n",
    "{'arg1': 'hello', 'arg2': 'world', 'arg3': 3}\n",
    "```"
   ]
  }
 ],
 "metadata": {
  "kernelspec": {
   "display_name": "yt.venv",
   "language": "python",
   "name": "yt.venv"
  },
  "language_info": {
   "codemirror_mode": {
    "name": "ipython",
    "version": 3
   },
   "file_extension": ".py",
   "mimetype": "text/x-python",
   "name": "python",
   "nbconvert_exporter": "python",
   "pygments_lexer": "ipython3",
   "version": "3.10.8"
  }
 },
 "nbformat": 4,
 "nbformat_minor": 5
}
