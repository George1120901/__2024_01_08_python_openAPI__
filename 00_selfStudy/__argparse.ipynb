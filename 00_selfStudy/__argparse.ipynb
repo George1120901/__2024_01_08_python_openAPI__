{
 "cells": [
  {
   "cell_type": "markdown",
   "id": "ce4e525f",
   "metadata": {},
   "source": [
    "[TODO]  \n",
    "[<參考>\"Python argparse 教學：比 sys.argv 更好用，讓命令列引數整潔又有序\"](https://haosquare.com/python-argparse/)"
   ]
  },
  {
   "cell_type": "markdown",
   "id": "0506d387",
   "metadata": {},
   "source": [
    "當你在命令列呼叫 Python 程式、又同時需要修改變數內容，你可以用命令列引數（command-line argument）的方式**將變數資訊傳入執行程式中**，"
   ]
  },
  {
   "cell_type": "markdown",
   "id": "43e699c9",
   "metadata": {},
   "source": [
    "**初學 Python 常會使用 `sys.argv`**，例如：  \n",
    "1. 建立一個 python py檔：`test.py`\n",
    "    ```\n",
    "    ## test.py\n",
    "    import sys\n",
    "    print(f\"sys.argv 是個串列，長度為：{len(sys.argv)}\")\n",
    "    print(\"第 1 個 sys.argv 會是 py 檔案名稱：\")\n",
    "    print(sys.argv[0])\n",
    "    print(\"第 2 個 sys.argv 的內容：\")\n",
    "    print(sys.argv[1])\n",
    "    print(\"第 3 個 sys.argv 的內容：\")\n",
    "    print(sys.argv[2])\n",
    "    print(\"第 4 個 sys.argv 的內容：\")\n",
    "    print(sys.argv[3])\n",
    "    ```\n",
    "\n",
    "2. 命令例執行此python py檔與命令列指定的參數：  \n",
    "    `>>>$ python3 test.py abc 9527`  \n",
    "    ```\n",
    "    sys.argv 是個串列，長度為：3\n",
    "    第 1 個 sys.argv 會是 py 檔案名稱：\n",
    "    test.py\n",
    "    第 2 個 sys.argv 的內容：\n",
    "    abc\n",
    "    第 3 個 sys.argv 的內容：\n",
    "    9527\n",
    "    第 4 個 sys.argv 的內容：\n",
    "    Traceback (most recent call last):\n",
    "    File \"test.py\", line 11, in <module>\n",
    "        print(sys.argv[3])\n",
    "    IndexError: list index out of range\n",
    "    ```\n",
    "    * 如範例所見，`sys.argv` 只能將**程式引數一個個以陽春的陣列傳遞**，  \n",
    "    * 當你需要解析更複雜的引數，包括讓使用者輸入引數內容有彈性、又能讓程式整潔有序地管理引數，你就需要 argparse 函式庫！"
   ]
  },
  {
   "cell_type": "code",
   "execution_count": null,
   "id": "3ca3a245",
   "metadata": {},
   "outputs": [
    {
     "name": "stdout",
     "output_type": "stream",
     "text": [
      "sys.argv 是個陣列，長度為：3\n",
      "第 1 個 sys.argv 會是 py 檔案名稱：\n",
      "test.py\n",
      "第 2 個 sys.argv 的內容：\n",
      "abc\n",
      "第 3 個 sys.argv 的內容：\n",
      "9527\n",
      "第 4 個 sys.argv 的內容：\n"
     ]
    },
    {
     "ename": "IndexError",
     "evalue": "list index out of range",
     "output_type": "error",
     "traceback": [
      "\u001b[1;31m---------------------------------------------------------------------------\u001b[0m",
      "\u001b[1;31mIndexError\u001b[0m                                Traceback (most recent call last)",
      "Cell \u001b[1;32mIn[5], line 13\u001b[0m\n\u001b[0;32m     11\u001b[0m \u001b[38;5;28mprint\u001b[39m(sys\u001b[38;5;241m.\u001b[39margv[\u001b[38;5;241m2\u001b[39m],end\u001b[38;5;241m=\u001b[39m\u001b[38;5;124m'\u001b[39m\u001b[38;5;130;01m\\n\u001b[39;00m\u001b[38;5;124m'\u001b[39m)\n\u001b[0;32m     12\u001b[0m \u001b[38;5;28mprint\u001b[39m(\u001b[38;5;124m\"\u001b[39m\u001b[38;5;124m第 4 個 sys.argv 的內容：\u001b[39m\u001b[38;5;124m\"\u001b[39m)\n\u001b[1;32m---> 13\u001b[0m \u001b[38;5;28mprint\u001b[39m(\u001b[43msys\u001b[49m\u001b[38;5;241;43m.\u001b[39;49m\u001b[43margv\u001b[49m\u001b[43m[\u001b[49m\u001b[38;5;241;43m3\u001b[39;49m\u001b[43m]\u001b[49m)\n",
      "\u001b[1;31mIndexError\u001b[0m: list index out of range"
     ]
    }
   ],
   "source": [
    "## test.py\n",
    "import sys\n",
    "\n",
    "sys.argv = ['test.py','abc',9527]     # 建一list 模擬 py檔於命令列指定的參數\n",
    "print(f\"sys.argv 是個陣列，長度為：{len(sys.argv)}\")\n",
    "print(\"第 1 個 sys.argv 會是 py 檔案名稱：\")\n",
    "print(sys.argv[0])\n",
    "print(\"第 2 個 sys.argv 的內容：\")\n",
    "print(sys.argv[1])\n",
    "print(\"第 3 個 sys.argv 的內容：\")\n",
    "print(sys.argv[2])\n",
    "print(\"第 4 個 sys.argv 的內容：\")\n",
    "print(sys.argv[3])"
   ]
  },
  {
   "cell_type": "markdown",
   "id": "7cdd8cd0",
   "metadata": {},
   "source": [
    "#### **argparse 函式庫**\n",
    "以argparse 函式庫解析更複雜的引數，包括讓使用者輸入引數內容有彈性、又能讓程式整潔有序地管理引數！\n",
    "\n",
    "* 可以用 argparse 做到的複雜命令列引數處理，就以用於下載 YouTube 影片的 youtube-dl 專案 為例：\n",
    "`>>>$ youtube-dl XqZsoesa55w -x --audio-format mp3 -o '%(title)s.%(ext)s'`  \n",
    "這行呼叫 youtube-dl Python 程式的指令中，引數可以單純用位置決定、可以是布林變數的開關功能、也可以明確寫出控制變數內容。\n",
    "* 在這篇筆記裡，將用幾個範例學會 argparse 函式庫如何做到這些引數管理功能、並有作者分享使用 argparse 時認為實用的幾項小技巧。\n"
   ]
  }
 ],
 "metadata": {
  "kernelspec": {
   "display_name": "yt.venv",
   "language": "python",
   "name": "yt.venv"
  },
  "language_info": {
   "codemirror_mode": {
    "name": "ipython",
    "version": 3
   },
   "file_extension": ".py",
   "mimetype": "text/x-python",
   "name": "python",
   "nbconvert_exporter": "python",
   "pygments_lexer": "ipython3",
   "version": "3.10.8"
  }
 },
 "nbformat": 4,
 "nbformat_minor": 5
}
